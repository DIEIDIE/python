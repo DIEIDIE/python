{
 "cells": [
  {
   "cell_type": "markdown",
   "metadata": {},
   "source": [
    "# 列表List\n",
    "- 一个列表可以储存任意大小的数据集合，你可以理解为他是一个容器"
   ]
  },
  {
   "cell_type": "code",
   "execution_count": 3,
   "metadata": {},
   "outputs": [],
   "source": [
    "def b():\n",
    "    pass#列表储存数据"
   ]
  },
  {
   "cell_type": "code",
   "execution_count": 4,
   "metadata": {},
   "outputs": [
    {
     "data": {
      "text/plain": [
       "[1, 2, 1, 5, 'ab', True, <function __main__.b()>]"
      ]
     },
     "execution_count": 4,
     "metadata": {},
     "output_type": "execute_result"
    }
   ],
   "source": [
    "a=[1,2,1,5,'ab',True,b]\n",
    "a"
   ]
  },
  {
   "cell_type": "code",
   "execution_count": 5,
   "metadata": {},
   "outputs": [
    {
     "data": {
      "text/plain": [
       "['z', 'x', 'c']"
      ]
     },
     "execution_count": 5,
     "metadata": {},
     "output_type": "execute_result"
    }
   ],
   "source": [
    "c='zxc'\n",
    "list(c)"
   ]
  },
  {
   "cell_type": "code",
   "execution_count": 6,
   "metadata": {},
   "outputs": [
    {
     "data": {
      "text/plain": [
       "'ab'"
      ]
     },
     "execution_count": 6,
     "metadata": {},
     "output_type": "execute_result"
    }
   ],
   "source": [
    "\"\".join(['a','b'])"
   ]
  },
  {
   "cell_type": "markdown",
   "metadata": {},
   "source": [
    "## 先来一个例子爽一爽\n",
    "![](../Photo/115.png)"
   ]
  },
  {
   "cell_type": "markdown",
   "metadata": {},
   "source": [
    "## 创建一个列表\n",
    "- a = [1,2,3,4,5]"
   ]
  },
  {
   "cell_type": "markdown",
   "metadata": {},
   "source": [
    "## 列表的一般操作\n",
    "![](../Photo/116.png)"
   ]
  },
  {
   "cell_type": "code",
   "execution_count": 17,
   "metadata": {},
   "outputs": [
    {
     "data": {
      "text/plain": [
       "'aaaaaaaaaaaaaaaaaaaaaaaa'"
      ]
     },
     "execution_count": 17,
     "metadata": {},
     "output_type": "execute_result"
    }
   ],
   "source": [
    "s='aaa'\n",
    "s*8"
   ]
  },
  {
   "cell_type": "code",
   "execution_count": 16,
   "metadata": {},
   "outputs": [
    {
     "data": {
      "text/plain": [
       "False"
      ]
     },
     "execution_count": 16,
     "metadata": {},
     "output_type": "execute_result"
    }
   ],
   "source": [
    "a=100\n",
    "b=[1,2,34,5]\n",
    "a in b"
   ]
  },
  {
   "cell_type": "code",
   "execution_count": 9,
   "metadata": {},
   "outputs": [
    {
     "data": {
      "text/plain": [
       "True"
      ]
     },
     "execution_count": 9,
     "metadata": {},
     "output_type": "execute_result"
    }
   ],
   "source": [
    "a=[100]\n",
    "b=[1,2,3,4,a]\n",
    "a in b"
   ]
  },
  {
   "cell_type": "code",
   "execution_count": 10,
   "metadata": {},
   "outputs": [
    {
     "data": {
      "text/plain": [
       "[1, 2, 3]"
      ]
     },
     "execution_count": 10,
     "metadata": {},
     "output_type": "execute_result"
    }
   ],
   "source": [
    "a=[1,2]\n",
    "b=[3]\n",
    "a+b"
   ]
  },
  {
   "cell_type": "code",
   "execution_count": 11,
   "metadata": {},
   "outputs": [
    {
     "data": {
      "text/plain": [
       "[3, 1, 2]"
      ]
     },
     "execution_count": 11,
     "metadata": {},
     "output_type": "execute_result"
    }
   ],
   "source": [
    "a=[1,2]\n",
    "b=[3]\n",
    "b+a"
   ]
  },
  {
   "cell_type": "code",
   "execution_count": 19,
   "metadata": {},
   "outputs": [
    {
     "data": {
      "text/plain": [
       "[1, 2, 34, [1000, 2333]]"
      ]
     },
     "execution_count": 19,
     "metadata": {},
     "output_type": "execute_result"
    }
   ],
   "source": [
    "a=[1,2,34,[1000,2333]]\n",
    "a"
   ]
  },
  {
   "cell_type": "code",
   "execution_count": 20,
   "metadata": {},
   "outputs": [
    {
     "data": {
      "text/plain": [
       "[1000, 2333]"
      ]
     },
     "execution_count": 20,
     "metadata": {},
     "output_type": "execute_result"
    }
   ],
   "source": [
    "a[3]"
   ]
  },
  {
   "cell_type": "code",
   "execution_count": 21,
   "metadata": {},
   "outputs": [
    {
     "data": {
      "text/plain": [
       "2333"
      ]
     },
     "execution_count": 21,
     "metadata": {},
     "output_type": "execute_result"
    }
   ],
   "source": [
    "a[3][1]"
   ]
  },
  {
   "cell_type": "code",
   "execution_count": 22,
   "metadata": {},
   "outputs": [
    {
     "data": {
      "text/plain": [
       "[1, 2, 34, [1000, [2888], 2333]]"
      ]
     },
     "execution_count": 22,
     "metadata": {},
     "output_type": "execute_result"
    }
   ],
   "source": [
    "a=[1,2,34,[1000,[2888],2333]]\n",
    "a"
   ]
  },
  {
   "cell_type": "code",
   "execution_count": 23,
   "metadata": {},
   "outputs": [
    {
     "data": {
      "text/plain": [
       "2888"
      ]
     },
     "execution_count": 23,
     "metadata": {},
     "output_type": "execute_result"
    }
   ],
   "source": [
    "a[3][1][0]"
   ]
  },
  {
   "cell_type": "code",
   "execution_count": 24,
   "metadata": {},
   "outputs": [],
   "source": [
    "b=[1,2,3,4,5]"
   ]
  },
  {
   "cell_type": "code",
   "execution_count": 26,
   "metadata": {},
   "outputs": [],
   "source": [
    "b[1]=100"
   ]
  },
  {
   "cell_type": "code",
   "execution_count": 27,
   "metadata": {},
   "outputs": [
    {
     "data": {
      "text/plain": [
       "[1, 100, 3, 4, 5]"
      ]
     },
     "execution_count": 27,
     "metadata": {},
     "output_type": "execute_result"
    }
   ],
   "source": [
    "b"
   ]
  },
  {
   "cell_type": "code",
   "execution_count": 38,
   "metadata": {},
   "outputs": [],
   "source": [
    "b=[1,2,3,4,5,6,7,8,9,10]"
   ]
  },
  {
   "cell_type": "code",
   "execution_count": 28,
   "metadata": {},
   "outputs": [
    {
     "data": {
      "text/plain": [
       "[100, 4]"
      ]
     },
     "execution_count": 28,
     "metadata": {},
     "output_type": "execute_result"
    }
   ],
   "source": [
    "b[1:11:2]"
   ]
  },
  {
   "cell_type": "code",
   "execution_count": 33,
   "metadata": {},
   "outputs": [
    {
     "data": {
      "text/plain": [
       "[100, 2, 100, 4, 100, 6, 100, 8, 100, 10]"
      ]
     },
     "execution_count": 33,
     "metadata": {},
     "output_type": "execute_result"
    }
   ],
   "source": [
    "for i in range(0,10,2):\n",
    "    b[i]=100\n",
    "b"
   ]
  },
  {
   "cell_type": "code",
   "execution_count": null,
   "metadata": {},
   "outputs": [],
   "source": [
    "[1,2][4,5][7,8][10,11]"
   ]
  },
  {
   "cell_type": "code",
   "execution_count": 40,
   "metadata": {},
   "outputs": [
    {
     "name": "stdout",
     "output_type": "stream",
     "text": [
      "[1, 2]\n",
      "[4, 5]\n",
      "[7, 8]\n",
      "[10]\n"
     ]
    }
   ],
   "source": [
    "for i in range(0,10,3):\n",
    "    print(b[i:i+2])\n"
   ]
  },
  {
   "cell_type": "code",
   "execution_count": 43,
   "metadata": {},
   "outputs": [
    {
     "data": {
      "text/plain": [
       "4"
      ]
     },
     "execution_count": 43,
     "metadata": {},
     "output_type": "execute_result"
    }
   ],
   "source": [
    "陈贺大傻子=[1,2,3,[1,2,3,[3,4,5,6]]]\n",
    "len(陈贺大傻子)"
   ]
  },
  {
   "cell_type": "code",
   "execution_count": 51,
   "metadata": {},
   "outputs": [],
   "source": [
    "hhh=[1,2,3,[5,6,7]]"
   ]
  },
  {
   "cell_type": "code",
   "execution_count": 56,
   "metadata": {},
   "outputs": [
    {
     "data": {
      "text/plain": [
       "4"
      ]
     },
     "execution_count": 56,
     "metadata": {},
     "output_type": "execute_result"
    }
   ],
   "source": [
    "count=0\n",
    "for i in hhh:\n",
    "    if type(i)==list:\n",
    "        for j in i:\n",
    "            count=count+1\n",
    "    else:\n",
    "        count=count+1\n",
    "len(hhh)\n",
    "    "
   ]
  },
  {
   "cell_type": "code",
   "execution_count": 48,
   "metadata": {},
   "outputs": [
    {
     "name": "stdout",
     "output_type": "stream",
     "text": [
      "1\n",
      "2\n",
      "3\n"
     ]
    }
   ],
   "source": [
    "a=[1,2,3]\n",
    "for i in a:\n",
    "    print(i)"
   ]
  },
  {
   "cell_type": "code",
   "execution_count": 58,
   "metadata": {},
   "outputs": [
    {
     "data": {
      "text/plain": [
       "3"
      ]
     },
     "execution_count": 58,
     "metadata": {},
     "output_type": "execute_result"
    }
   ],
   "source": [
    "a=[1,2,3,True]\n",
    "max(a)"
   ]
  },
  {
   "cell_type": "code",
   "execution_count": 49,
   "metadata": {},
   "outputs": [],
   "source": [
    "hhh=[1,2,3,[5,6,7]]"
   ]
  },
  {
   "cell_type": "code",
   "execution_count": 59,
   "metadata": {},
   "outputs": [
    {
     "data": {
      "text/plain": [
       "False"
      ]
     },
     "execution_count": 59,
     "metadata": {},
     "output_type": "execute_result"
    }
   ],
   "source": [
    "a=[1,2,3]\n",
    "b=[2,3,4]\n",
    "a>b"
   ]
  },
  {
   "cell_type": "code",
   "execution_count": 68,
   "metadata": {},
   "outputs": [],
   "source": [
    "b=[4,3,2,1]\n"
   ]
  },
  {
   "cell_type": "code",
   "execution_count": null,
   "metadata": {},
   "outputs": [],
   "source": [
    "length=len(b)\n",
    "for i in range(length):\n",
    "    for j in range "
   ]
  },
  {
   "cell_type": "code",
   "execution_count": 69,
   "metadata": {},
   "outputs": [
    {
     "name": "stdout",
     "output_type": "stream",
     "text": [
      "[1, 2, 3, 4]\n"
     ]
    }
   ],
   "source": [
    "def Dx(b):\n",
    "    n=len(b)\n",
    "    for i in range(0,n-1):\n",
    "        for j in range(0,n-1-i):\n",
    "            if b[j]>b[j+1]:\n",
    "                b[j],b[j+1]=b[j+1],b[j]\n",
    "Dx(b)\n",
    "print(b)"
   ]
  },
  {
   "cell_type": "markdown",
   "metadata": {},
   "source": [
    "# 列表索引操作\n",
    "- Mylist[index]\n",
    "- 正序索引，逆序索引\n",
    "- 列表一定注意越界\n",
    "- ![](../Photo/117.png)"
   ]
  },
  {
   "cell_type": "markdown",
   "metadata": {},
   "source": [
    "## 列表切片操作\n",
    "- Mylist[start:end]\n",
    "- 正序切片，逆序切片"
   ]
  },
  {
   "cell_type": "markdown",
   "metadata": {},
   "source": [
    "## 列表 +、*、in 、not in"
   ]
  },
  {
   "cell_type": "markdown",
   "metadata": {},
   "source": [
    "## 使用for循环遍历元素\n",
    "- for 循环可以遍历一切可迭代元素"
   ]
  },
  {
   "cell_type": "markdown",
   "metadata": {},
   "source": [
    "## EP：\n",
    "- 使用while 循环遍历列表"
   ]
  },
  {
   "cell_type": "markdown",
   "metadata": {},
   "source": [
    "## 列表的比较\n",
    "- \\>,<,>=,<=,==,!="
   ]
  },
  {
   "cell_type": "markdown",
   "metadata": {},
   "source": [
    "## 列表生成式\n",
    "[x for x in range(10)]"
   ]
  },
  {
   "cell_type": "code",
   "execution_count": 3,
   "metadata": {},
   "outputs": [
    {
     "data": {
      "text/plain": [
       "[0, 1, 2, 3, 4, 5, 6, 7, 8, 9]"
      ]
     },
     "execution_count": 3,
     "metadata": {},
     "output_type": "execute_result"
    }
   ],
   "source": [
    "a = [ ]\n",
    "for i in range(10):\n",
    "    a.append(i)\n",
    "a   "
   ]
  },
  {
   "cell_type": "code",
   "execution_count": 4,
   "metadata": {},
   "outputs": [
    {
     "data": {
      "text/plain": [
       "[0, 1, 2, 3, 4, 5, 6, 7, 8, 9]"
      ]
     },
     "execution_count": 4,
     "metadata": {},
     "output_type": "execute_result"
    }
   ],
   "source": [
    "[x for x in range(10)]"
   ]
  },
  {
   "cell_type": "code",
   "execution_count": 5,
   "metadata": {},
   "outputs": [
    {
     "data": {
      "text/plain": [
       "[0, 2, 4, 6, 8]"
      ]
     },
     "execution_count": 5,
     "metadata": {},
     "output_type": "execute_result"
    }
   ],
   "source": [
    "[x for x in range(10) if x%2==0]"
   ]
  },
  {
   "cell_type": "code",
   "execution_count": null,
   "metadata": {},
   "outputs": [],
   "source": []
  },
  {
   "cell_type": "code",
   "execution_count": null,
   "metadata": {},
   "outputs": [],
   "source": []
  },
  {
   "cell_type": "markdown",
   "metadata": {},
   "source": [
    "## 列表的方法\n",
    "![](../Photo/118.png)"
   ]
  },
  {
   "cell_type": "code",
   "execution_count": 6,
   "metadata": {},
   "outputs": [
    {
     "data": {
      "text/plain": [
       "2"
      ]
     },
     "execution_count": 6,
     "metadata": {},
     "output_type": "execute_result"
    }
   ],
   "source": [
    "a = [1,2,3]\n",
    "a.pop(1)"
   ]
  },
  {
   "cell_type": "code",
   "execution_count": 7,
   "metadata": {},
   "outputs": [
    {
     "data": {
      "text/plain": [
       "[1, 3]"
      ]
     },
     "execution_count": 7,
     "metadata": {},
     "output_type": "execute_result"
    }
   ],
   "source": [
    "a"
   ]
  },
  {
   "cell_type": "code",
   "execution_count": 8,
   "metadata": {},
   "outputs": [
    {
     "data": {
      "text/plain": [
       "3"
      ]
     },
     "execution_count": 8,
     "metadata": {},
     "output_type": "execute_result"
    }
   ],
   "source": [
    "a.pop()"
   ]
  },
  {
   "cell_type": "code",
   "execution_count": null,
   "metadata": {},
   "outputs": [],
   "source": []
  },
  {
   "cell_type": "code",
   "execution_count": null,
   "metadata": {},
   "outputs": [],
   "source": []
  },
  {
   "cell_type": "code",
   "execution_count": null,
   "metadata": {},
   "outputs": [],
   "source": []
  },
  {
   "cell_type": "code",
   "execution_count": 88,
   "metadata": {},
   "outputs": [
    {
     "data": {
      "text/plain": [
       "[1, 2, 4, 5]"
      ]
     },
     "execution_count": 88,
     "metadata": {},
     "output_type": "execute_result"
    }
   ],
   "source": [
    "d=[1,2,3,4,5]\n",
    "d.remove(3)\n",
    "d"
   ]
  },
  {
   "cell_type": "code",
   "execution_count": 71,
   "metadata": {},
   "outputs": [
    {
     "data": {
      "text/plain": [
       "[1, 2, 3, 100]"
      ]
     },
     "execution_count": 71,
     "metadata": {},
     "output_type": "execute_result"
    }
   ],
   "source": [
    "a=[1,2,3]\n",
    "b=100\n",
    "a.append(b)#只能接受一个元素，元素里可有多个\n",
    "a"
   ]
  },
  {
   "cell_type": "code",
   "execution_count": 74,
   "metadata": {},
   "outputs": [
    {
     "data": {
      "text/plain": [
       "1"
      ]
     },
     "execution_count": 74,
     "metadata": {},
     "output_type": "execute_result"
    }
   ],
   "source": [
    "a=[1,2,5,3,[5,6],8]\n",
    "a.count(5)"
   ]
  },
  {
   "cell_type": "code",
   "execution_count": 79,
   "metadata": {},
   "outputs": [],
   "source": [
    "a=[1,2,3]\n",
    "b=[100,22]\n",
    "b.extend(a)"
   ]
  },
  {
   "cell_type": "code",
   "execution_count": 76,
   "metadata": {},
   "outputs": [
    {
     "data": {
      "text/plain": [
       "[100, 22, 1, 2, 3]"
      ]
     },
     "execution_count": 76,
     "metadata": {},
     "output_type": "execute_result"
    }
   ],
   "source": [
    "b"
   ]
  },
  {
   "cell_type": "code",
   "execution_count": 80,
   "metadata": {},
   "outputs": [
    {
     "data": {
      "text/plain": [
       "[1, 2, 3, 100, 22, 1, 2, 3]"
      ]
     },
     "execution_count": 80,
     "metadata": {},
     "output_type": "execute_result"
    }
   ],
   "source": [
    "a.extend(b)\n",
    "a"
   ]
  },
  {
   "cell_type": "code",
   "execution_count": 81,
   "metadata": {},
   "outputs": [
    {
     "data": {
      "text/plain": [
       "[1, 2, 3, 100, 22, 1, 2, 3]"
      ]
     },
     "execution_count": 81,
     "metadata": {},
     "output_type": "execute_result"
    }
   ],
   "source": [
    "c=[1,2,3,4,5]\n",
    "c.insert(0,100)\n",
    "c.insert(3,100)"
   ]
  },
  {
   "cell_type": "code",
   "execution_count": 83,
   "metadata": {},
   "outputs": [],
   "source": [
    "c=[1,2,3,4,5,6,7,8,9]"
   ]
  },
  {
   "cell_type": "code",
   "execution_count": 84,
   "metadata": {},
   "outputs": [
    {
     "data": {
      "text/plain": [
       "[100, 1, 2, 100, 3, 4, 100, 5, 6, 100, 7, 8, 9]"
      ]
     },
     "execution_count": 84,
     "metadata": {},
     "output_type": "execute_result"
    }
   ],
   "source": [
    "for i in range(0,len(c)+3,3):\n",
    "    c.insert(i,100)\n",
    "c"
   ]
  },
  {
   "cell_type": "code",
   "execution_count": 85,
   "metadata": {},
   "outputs": [],
   "source": [
    "d=[1,2,4,5,3,7](作业)"
   ]
  },
  {
   "cell_type": "code",
   "execution_count": null,
   "metadata": {},
   "outputs": [],
   "source": [
    "d=[1,2,4,5,3,7]\n",
    "for i in d:tm\n",
    "    if i%2==0:\n",
    "        print('')\n",
    "    else:\n",
    "        print('100',i)\n"
   ]
  },
  {
   "cell_type": "markdown",
   "metadata": {},
   "source": [
    "## 将字符串分割成列表\n",
    "- split  按照自定义的内容拆分"
   ]
  },
  {
   "cell_type": "code",
   "execution_count": 17,
   "metadata": {},
   "outputs": [
    {
     "data": {
      "text/plain": [
       "['a', 'b', 'c d']"
      ]
     },
     "execution_count": 17,
     "metadata": {},
     "output_type": "execute_result"
    }
   ],
   "source": [
    "a = 'a b c d'\n",
    "a.split(' ',2)"
   ]
  },
  {
   "cell_type": "code",
   "execution_count": 16,
   "metadata": {},
   "outputs": [
    {
     "data": {
      "text/plain": [
       "['a', 'b', 'c', 'd']"
      ]
     },
     "execution_count": 16,
     "metadata": {},
     "output_type": "execute_result"
    }
   ],
   "source": [
    "w = 'a b c d'\n",
    "w.split(' ')"
   ]
  },
  {
   "cell_type": "code",
   "execution_count": 10,
   "metadata": {},
   "outputs": [
    {
     "data": {
      "text/plain": [
       "['ab', 'cd']"
      ]
     },
     "execution_count": 10,
     "metadata": {},
     "output_type": "execute_result"
    }
   ],
   "source": [
    "q = 'ab,cd'\n",
    "q.split(',')"
   ]
  },
  {
   "cell_type": "markdown",
   "metadata": {},
   "source": [
    "## EP:\n",
    "![](../Photo/119.png)\n",
    "![](../Photo/120.png)"
   ]
  },
  {
   "cell_type": "markdown",
   "metadata": {},
   "source": [
    "## 列表的复制\n",
    "- copy 浅复制\n",
    "- deepcopy import copy  深复制\n",
    "- http://www.pythontutor.com/visualize.html#mode=edit"
   ]
  },
  {
   "cell_type": "code",
   "execution_count": 18,
   "metadata": {},
   "outputs": [
    {
     "data": {
      "text/plain": [
       "[1, 2, 3]"
      ]
     },
     "execution_count": 18,
     "metadata": {},
     "output_type": "execute_result"
    }
   ],
   "source": [
    "a = [1,2,3]\n",
    "b = a\n",
    "b"
   ]
  },
  {
   "cell_type": "code",
   "execution_count": 19,
   "metadata": {},
   "outputs": [],
   "source": [
    "c = [1,2,3]\n",
    "d = c.copy()\n"
   ]
  },
  {
   "cell_type": "code",
   "execution_count": 22,
   "metadata": {},
   "outputs": [],
   "source": [
    "c[0] = 100"
   ]
  },
  {
   "cell_type": "code",
   "execution_count": 21,
   "metadata": {},
   "outputs": [
    {
     "data": {
      "text/plain": [
       "[1, 2, 3]"
      ]
     },
     "execution_count": 21,
     "metadata": {},
     "output_type": "execute_result"
    }
   ],
   "source": [
    "d"
   ]
  },
  {
   "cell_type": "code",
   "execution_count": 24,
   "metadata": {},
   "outputs": [],
   "source": [
    "e = [1,2,3,[0,1]]\n",
    "f = e.copy()"
   ]
  },
  {
   "cell_type": "code",
   "execution_count": 25,
   "metadata": {},
   "outputs": [
    {
     "ename": "TypeError",
     "evalue": "'int' object is not subscriptable",
     "output_type": "error",
     "traceback": [
      "\u001b[1;31m---------------------------------------------------------------------------\u001b[0m",
      "\u001b[1;31mTypeError\u001b[0m                                 Traceback (most recent call last)",
      "\u001b[1;32m<ipython-input-25-fe7f41ad1c12>\u001b[0m in \u001b[0;36m<module>\u001b[1;34m\u001b[0m\n\u001b[1;32m----> 1\u001b[1;33m \u001b[0me\u001b[0m\u001b[1;33m[\u001b[0m\u001b[1;36m2\u001b[0m\u001b[1;33m]\u001b[0m\u001b[1;33m[\u001b[0m\u001b[1;36m100\u001b[0m\u001b[1;33m]\u001b[0m\u001b[1;33m\u001b[0m\u001b[1;33m\u001b[0m\u001b[0m\n\u001b[0m",
      "\u001b[1;31mTypeError\u001b[0m: 'int' object is not subscriptable"
     ]
    }
   ],
   "source": [
    "e[2][100]\n"
   ]
  },
  {
   "cell_type": "markdown",
   "metadata": {},
   "source": [
    "## 列表排序\n",
    "- sort\n",
    "- sorted\n",
    "- 列表的多级排序\n",
    "    - 匿名函数"
   ]
  },
  {
   "cell_type": "code",
   "execution_count": 92,
   "metadata": {},
   "outputs": [
    {
     "name": "stdout",
     "output_type": "stream",
     "text": [
      "100\n"
     ]
    }
   ],
   "source": [
    "(lambda x:print(x))(100)"
   ]
  },
  {
   "cell_type": "code",
   "execution_count": null,
   "metadata": {},
   "outputs": [],
   "source": [
    "*强制命名"
   ]
  },
  {
   "cell_type": "code",
   "execution_count": 91,
   "metadata": {},
   "outputs": [
    {
     "data": {
      "text/plain": [
       "[4, 3, 2, 1]"
      ]
     },
     "execution_count": 91,
     "metadata": {},
     "output_type": "execute_result"
    }
   ],
   "source": [
    "c=[1,2,3,4]\n",
    "c.sort(reverse=True)\n",
    "c"
   ]
  },
  {
   "cell_type": "markdown",
   "metadata": {},
   "source": [
    "## EP：\n",
    "- 手动排序该列表[5,3,8,0,17]，以升序或者降序"
   ]
  },
  {
   "cell_type": "markdown",
   "metadata": {},
   "source": [
    "- 1\n",
    "![](../Photo/121.png)"
   ]
  },
  {
   "cell_type": "code",
   "execution_count": 4,
   "metadata": {},
   "outputs": [
    {
     "name": "stdout",
     "output_type": "stream",
     "text": [
      "请输入成绩列表：90,89,56,24\n",
      "成绩为 90 级别A\n",
      "成绩为 89 级别A\n",
      "成绩为 56 级别D\n",
      "成绩为 24 成绩为F\n"
     ]
    }
   ],
   "source": [
    "a=eval(input('请输入成绩列表：'))\n",
    "best=max(a)\n",
    "for i in a:#循环\n",
    "    if i>=best-10:#如果成绩大于等于最好的成绩减去10，那么级别为A\n",
    "        print('成绩为',i,'级别A')\n",
    "    elif i>=best-20:\n",
    "        print('成绩为',i,'级别B')\n",
    "    elif i>=best-30:\n",
    "        print('成绩为',i,'级别C')            \n",
    "    elif i>=best-40:\n",
    "        print('成绩为',i,'级别D')\n",
    "    else:\n",
    "        print('成绩为',i,'成绩为F')"
   ]
  },
  {
   "cell_type": "markdown",
   "metadata": {},
   "source": [
    "- 2\n",
    "![](../Photo/122.png)"
   ]
  },
  {
   "cell_type": "code",
   "execution_count": 3,
   "metadata": {},
   "outputs": [
    {
     "name": "stdout",
     "output_type": "stream",
     "text": [
      "请输入一个整数列表：1,2,3,4,5,6,7,9\n",
      "(9, 7, 6, 5, 4, 3, 2, 1)\n"
     ]
    }
   ],
   "source": [
    "a = eval(input('请输入一个整数列表：'))\n",
    "print(a[::-1])#反向输出"
   ]
  },
  {
   "cell_type": "markdown",
   "metadata": {},
   "source": [
    "- 3\n",
    "![](../Photo/123.png)"
   ]
  },
  {
   "cell_type": "code",
   "execution_count": 7,
   "metadata": {},
   "outputs": [
    {
     "name": "stdout",
     "output_type": "stream",
     "text": [
      "2 出现 2 次\n",
      "5 出现 2 次\n",
      "6 出现 1 次\n",
      "5 出现 2 次\n",
      "4 出现 1 次\n",
      "3 出现 1 次\n",
      "23 出现 1 次\n",
      "43 出现 1 次\n",
      "2 出现 2 次\n"
     ]
    }
   ],
   "source": [
    "a=[2,5,6,5,4,3,23,43,2]\n",
    "for i in a:\n",
    "    if i>100:#判断数是否在100以内，如果不在就不输出\n",
    "        print()\n",
    "    else:\n",
    "        b=a.count(i)#返回元素在列表中出现的次数       \n",
    "        print(i,'出现',b,\"次\")   "
   ]
  },
  {
   "cell_type": "markdown",
   "metadata": {},
   "source": [
    "- 4\n",
    "![](../Photo/124.png)"
   ]
  },
  {
   "cell_type": "code",
   "execution_count": null,
   "metadata": {},
   "outputs": [],
   "source": [
    "a=eval(input('请输入成绩列表：'))\n"
   ]
  },
  {
   "cell_type": "code",
   "execution_count": null,
   "metadata": {},
   "outputs": [],
   "source": []
  },
  {
   "cell_type": "markdown",
   "metadata": {},
   "source": [
    "- 5\n",
    "![](../Photo/125.png)"
   ]
  },
  {
   "cell_type": "code",
   "execution_count": 9,
   "metadata": {},
   "outputs": [],
   "source": [
    "import random"
   ]
  },
  {
   "cell_type": "code",
   "execution_count": 17,
   "metadata": {},
   "outputs": [
    {
     "name": "stdout",
     "output_type": "stream",
     "text": [
      "[9, 6, 6, 2, 4, 9, 9, 3, 3, 4, 2, 8, 0, 4, 5, 8, 4, 3, 4, 6, 5, 0, 7, 8, 4, 8, 7, 7, 7, 1, 8, 8, 1, 6, 7, 6, 0, 3, 1, 2, 8, 2, 5, 2, 6, 0, 0, 5, 6, 3, 0, 8, 9, 2, 8, 0, 0, 5, 1, 8, 3, 0, 7, 3, 6, 8, 6, 5, 4, 3, 7, 7, 3, 9, 3, 5, 6, 7, 3, 1, 1, 4, 8, 9, 2, 9, 4, 6, 6, 3, 8, 3, 4, 4, 6, 0, 2, 4, 8, 0, 9, 2, 9, 7, 7, 9, 3, 5, 8, 7, 0, 8, 4, 3, 9, 6, 2, 2, 1, 4, 6, 8, 1, 8, 7, 1, 2, 2, 8, 1, 3, 9, 1, 1, 7, 9, 2, 5, 9, 2, 8, 1, 1, 8, 7, 7, 8, 6, 5, 7, 9, 4, 5, 5, 1, 9, 6, 5, 9, 9, 4, 1, 1, 8, 4, 3, 0, 2, 9, 7, 4, 4, 9, 5, 2, 3, 0, 2, 4, 9, 7, 6, 8, 1, 2, 4, 3, 0, 7, 2, 6, 7, 0, 6, 0, 1, 3, 4, 5, 2, 0, 0, 0, 4, 9, 2, 1, 5, 7, 3, 1, 0, 5, 9, 6, 3, 6, 3, 0, 4, 2, 8, 0, 5, 1, 7, 5, 2, 8, 2, 5, 0, 8, 8, 9, 4, 5, 6, 9, 6, 5, 3, 0, 8, 8, 2, 3, 7, 6, 5, 8, 7, 3, 3, 8, 4, 8, 3, 2, 6, 8, 3, 9, 4, 3, 4, 7, 1, 7, 9, 1, 4, 4, 3, 1, 4, 7, 0, 6, 5, 6, 3, 7, 0, 3, 2, 7, 9, 8, 0, 7, 7, 2, 6, 7, 0, 1, 8, 0, 6, 7, 7, 4, 5, 0, 1, 2, 2, 7, 3, 7, 1, 5, 6, 1, 7, 9, 7, 1, 8, 6, 7, 3, 2, 5, 7, 6, 3, 9, 3, 2, 4, 7, 7, 5, 0, 8, 4, 6, 6, 8, 4, 9, 5, 5, 0, 5, 4, 3, 3, 7, 5, 6, 9, 9, 7, 6, 9, 6, 3, 7, 5, 7, 1, 6, 6, 1, 7, 3, 0, 7, 8, 0, 5, 8, 0, 1, 0, 7, 7, 8, 0, 0, 5, 4, 1, 7, 3, 4, 5, 3, 5, 0, 4, 1, 1, 3, 4, 8, 0, 9, 1, 5, 2, 7, 3, 6, 8, 5, 2, 0, 6, 7, 6, 8, 5, 9, 4, 4, 0, 0, 2, 0, 1, 2, 4, 0, 4, 8, 5, 2, 3, 4, 1, 8, 4, 0, 5, 2, 5, 7, 8, 5, 6, 9, 4, 9, 2, 5, 5, 4, 3, 4, 5, 4, 0, 8, 1, 7, 2, 9, 8, 0, 3, 3, 1, 9, 7, 9, 5, 0, 7, 4, 1, 9, 2, 6, 5, 1, 4, 0, 3, 2, 2, 4, 8, 9, 0, 0, 1, 4, 8, 9, 1, 7, 3, 8, 9, 5, 0, 7, 5, 9, 4, 1, 7, 5, 6, 6, 6, 2, 9, 6, 6, 6, 9, 8, 3, 4, 1, 9, 8, 9, 1, 3, 3, 3, 2, 5, 6, 7, 2, 9, 8, 5, 4, 1, 3, 5, 0, 8, 6, 8, 9, 2, 1, 9, 4, 5, 6, 6, 0, 3, 3, 3, 4, 1, 9, 4, 9, 4, 4, 8, 8, 9, 4, 8, 9, 2, 2, 2, 2, 3, 0, 7, 9, 9, 9, 5, 6, 4, 3, 2, 4, 0, 9, 6, 4, 5, 9, 2, 7, 3, 1, 7, 2, 3, 5, 4, 3, 3, 5, 9, 1, 4, 0, 4, 8, 9, 1, 5, 1, 4, 5, 4, 7, 9, 5, 5, 1, 5, 0, 4, 9, 4, 9, 3, 4, 7, 6, 5, 9, 7, 2, 1, 8, 4, 4, 4, 2, 9, 6, 6, 4, 6, 8, 5, 6, 8, 1, 7, 1, 2, 2, 0, 4, 4, 1, 3, 2, 6, 3, 9, 0, 3, 2, 0, 7, 1, 2, 0, 6, 6, 1, 4, 6, 7, 4, 1, 5, 9, 8, 3, 9, 4, 6, 5, 4, 4, 3, 8, 5, 1, 3, 5, 9, 4, 5, 1, 6, 4, 5, 3, 8, 2, 6, 8, 6, 5, 7, 9, 5, 3, 2, 9, 2, 4, 9, 6, 2, 3, 5, 0, 7, 7, 7, 6, 5, 0, 5, 6, 9, 5, 6, 3, 1, 5, 1, 5, 2, 1, 9, 9, 9, 7, 2, 2, 3, 3, 1, 1, 2, 9, 9, 0, 2, 6, 8, 1, 3, 5, 9, 1, 7, 7, 3, 1, 7, 0, 2, 2, 0, 1, 4, 0, 2, 0, 0, 5, 3, 8, 7, 1, 7, 1, 2, 6, 0, 6, 0, 9, 7, 0, 6, 2, 8, 3, 8, 0, 2, 6, 2, 6, 5, 8, 3, 4, 1, 0, 2, 9, 9, 5, 6, 3, 6, 7, 6, 4, 6, 1, 9, 0, 6, 0, 7, 4, 4, 3, 8, 5, 7, 9, 3, 6, 0, 7, 4, 1, 9, 4, 4, 0, 5, 8, 3, 0, 1, 8, 2, 4, 5, 0, 7, 3, 2, 5, 3, 5, 1, 9, 3, 5, 0, 0, 3, 6, 0, 6, 9, 8, 5, 6, 5, 2, 8, 4, 2, 7, 2, 6, 6, 2, 5, 8, 2, 0, 4, 6, 8, 9, 9, 7, 4, 8, 3, 3, 3, 3, 6, 1, 0, 5, 6, 3, 9, 7, 9, 6, 0, 2, 3, 8, 6, 4, 3, 2, 5, 8, 7, 8, 9, 2, 4, 0, 6, 3, 2, 7, 6, 9, 8, 8, 3, 3, 5, 5, 6, 7, 3, 5, 0, 3, 8, 9, 5, 6, 7, 9, 0, 9, 5, 0, 2, 2, 0, 3, 5, 4, 9, 0, 0, 1, 6, 0, 3, 4, 2, 1, 6, 4, 3, 8, 1, 2, 3, 9, 3, 8, 2, 5, 6, 5, 6, 9, 8, 4, 0, 8, 7, 7, 5, 1, 9, 7, 5, 2, 7, 1, 0]\n",
      "[9, 6, 6, 2, 4, 9, 9, 3, 3, 4, 2, 8, 0, 4, 5, 8, 4, 3, 4, 6, 5, 0, 7, 8, 4, 8, 7, 7, 7, 1, 8, 8, 1, 6, 7, 6, 0, 3, 1, 2, 8, 2, 5, 2, 6, 0, 0, 5, 6, 3, 0, 8, 9, 2, 8, 0, 0, 5, 1, 8, 3, 0, 7, 3, 6, 8, 6, 5, 4, 3, 7, 7, 3, 9, 3, 5, 6, 7, 3, 1, 1, 4, 8, 9, 2, 9, 4, 6, 6, 3, 8, 3, 4, 4, 6, 0, 2, 4, 8, 0, 9, 2, 9, 7, 7, 9, 3, 5, 8, 7, 0, 8, 4, 3, 9, 6, 2, 2, 1, 4, 6, 8, 1, 8, 7, 1, 2, 2, 8, 1, 3, 9, 1, 1, 7, 9, 2, 5, 9, 2, 8, 1, 1, 8, 7, 7, 8, 6, 5, 7, 9, 4, 5, 5, 1, 9, 6, 5, 9, 9, 4, 1, 1, 8, 4, 3, 0, 2, 9, 7, 4, 4, 9, 5, 2, 3, 0, 2, 4, 9, 7, 6, 8, 1, 2, 4, 3, 0, 7, 2, 6, 7, 0, 6, 0, 1, 3, 4, 5, 2, 0, 0, 0, 4, 9, 2, 1, 5, 7, 3, 1, 0, 5, 9, 6, 3, 6, 3, 0, 4, 2, 8, 0, 5, 1, 7, 5, 2, 8, 2, 5, 0, 8, 8, 9, 4, 5, 6, 9, 6, 5, 3, 0, 8, 8, 2, 3, 7, 6, 5, 8, 7, 3, 3, 8, 4, 8, 3, 2, 6, 8, 3, 9, 4, 3, 4, 7, 1, 7, 9, 1, 4, 4, 3, 1, 4, 7, 0, 6, 5, 6, 3, 7, 0, 3, 2, 7, 9, 8, 0, 7, 7, 2, 6, 7, 0, 1, 8, 0, 6, 7, 7, 4, 5, 0, 1, 2, 2, 7, 3, 7, 1, 5, 6, 1, 7, 9, 7, 1, 8, 6, 7, 3, 2, 5, 7, 6, 3, 9, 3, 2, 4, 7, 7, 5, 0, 8, 4, 6, 6, 8, 4, 9, 5, 5, 0, 5, 4, 3, 3, 7, 5, 6, 9, 9, 7, 6, 9, 6, 3, 7, 5, 7, 1, 6, 6, 1, 7, 3, 0, 7, 8, 0, 5, 8, 0, 1, 0, 7, 7, 8, 0, 0, 5, 4, 1, 7, 3, 4, 5, 3, 5, 0, 4, 1, 1, 3, 4, 8, 0, 9, 1, 5, 2, 7, 3, 6, 8, 5, 2, 0, 6, 7, 6, 8, 5, 9, 4, 4, 0, 0, 2, 0, 1, 2, 4, 0, 4, 8, 5, 2, 3, 4, 1, 8, 4, 0, 5, 2, 5, 7, 8, 5, 6, 9, 4, 9, 2, 5, 5, 4, 3, 4, 5, 4, 0, 8, 1, 7, 2, 9, 8, 0, 3, 3, 1, 9, 7, 9, 5, 0, 7, 4, 1, 9, 2, 6, 5, 1, 4, 0, 3, 2, 2, 4, 8, 9, 0, 0, 1, 4, 8, 9, 1, 7, 3, 8, 9, 5, 0, 7, 5, 9, 4, 1, 7, 5, 6, 6, 6, 2, 9, 6, 6, 6, 9, 8, 3, 4, 1, 9, 8, 9, 1, 3, 3, 3, 2, 5, 6, 7, 2, 9, 8, 5, 4, 1, 3, 5, 0, 8, 6, 8, 9, 2, 1, 9, 4, 5, 6, 6, 0, 3, 3, 3, 4, 1, 9, 4, 9, 4, 4, 8, 8, 9, 4, 8, 9, 2, 2, 2, 2, 3, 0, 7, 9, 9, 9, 5, 6, 4, 3, 2, 4, 0, 9, 6, 4, 5, 9, 2, 7, 3, 1, 7, 2, 3, 5, 4, 3, 3, 5, 9, 1, 4, 0, 4, 8, 9, 1, 5, 1, 4, 5, 4, 7, 9, 5, 5, 1, 5, 0, 4, 9, 4, 9, 3, 4, 7, 6, 5, 9, 7, 2, 1, 8, 4, 4, 4, 2, 9, 6, 6, 4, 6, 8, 5, 6, 8, 1, 7, 1, 2, 2, 0, 4, 4, 1, 3, 2, 6, 3, 9, 0, 3, 2, 0, 7, 1, 2, 0, 6, 6, 1, 4, 6, 7, 4, 1, 5, 9, 8, 3, 9, 4, 6, 5, 4, 4, 3, 8, 5, 1, 3, 5, 9, 4, 5, 1, 6, 4, 5, 3, 8, 2, 6, 8, 6, 5, 7, 9, 5, 3, 2, 9, 2, 4, 9, 6, 2, 3, 5, 0, 7, 7, 7, 6, 5, 0, 5, 6, 9, 5, 6, 3, 1, 5, 1, 5, 2, 1, 9, 9, 9, 7, 2, 2, 3, 3, 1, 1, 2, 9, 9, 0, 2, 6, 8, 1, 3, 5, 9, 1, 7, 7, 3, 1, 7, 0, 2, 2, 0, 1, 4, 0, 2, 0, 0, 5, 3, 8, 7, 1, 7, 1, 2, 6, 0, 6, 0, 9, 7, 0, 6, 2, 8, 3, 8, 0, 2, 6, 2, 6, 5, 8, 3, 4, 1, 0, 2, 9, 9, 5, 6, 3, 6, 7, 6, 4, 6, 1, 9, 0, 6, 0, 7, 4, 4, 3, 8, 5, 7, 9, 3, 6, 0, 7, 4, 1, 9, 4, 4, 0, 5, 8, 3, 0, 1, 8, 2, 4, 5, 0, 7, 3, 2, 5, 3, 5, 1, 9, 3, 5, 0, 0, 3, 6, 0, 6, 9, 8, 5, 6, 5, 2, 8, 4, 2, 7, 2, 6, 6, 2, 5, 8, 2, 0, 4, 6, 8, 9, 9, 7, 4, 8, 3, 3, 3, 3, 6, 1, 0, 5, 6, 3, 9, 7, 9, 6, 0, 2, 3, 8, 6, 4, 3, 2, 5, 8, 7, 8, 9, 2, 4, 0, 6, 3, 2, 7, 6, 9, 8, 8, 3, 3, 5, 5, 6, 7, 3, 5, 0, 3, 8, 9, 5, 6, 7, 9, 0, 9, 5, 0, 2, 2, 0, 3, 5, 4, 9, 0, 0, 1, 6, 0, 3, 4, 2, 1, 6, 4, 3, 8, 1, 2, 3, 9, 3, 8, 2, 5, 6, 5, 6, 9, 8, 4, 0, 8, 7, 7, 5, 1, 9, 7, 5, 2, 7, 1, 0]\n",
      "[9, 6, 6, 2, 4, 9, 9, 3, 3, 4, 2, 8, 0, 4, 5, 8, 4, 3, 4, 6, 5, 0, 7, 8, 4, 8, 7, 7, 7, 1, 8, 8, 1, 6, 7, 6, 0, 3, 1, 2, 8, 2, 5, 2, 6, 0, 0, 5, 6, 3, 0, 8, 9, 2, 8, 0, 0, 5, 1, 8, 3, 0, 7, 3, 6, 8, 6, 5, 4, 3, 7, 7, 3, 9, 3, 5, 6, 7, 3, 1, 1, 4, 8, 9, 2, 9, 4, 6, 6, 3, 8, 3, 4, 4, 6, 0, 2, 4, 8, 0, 9, 2, 9, 7, 7, 9, 3, 5, 8, 7, 0, 8, 4, 3, 9, 6, 2, 2, 1, 4, 6, 8, 1, 8, 7, 1, 2, 2, 8, 1, 3, 9, 1, 1, 7, 9, 2, 5, 9, 2, 8, 1, 1, 8, 7, 7, 8, 6, 5, 7, 9, 4, 5, 5, 1, 9, 6, 5, 9, 9, 4, 1, 1, 8, 4, 3, 0, 2, 9, 7, 4, 4, 9, 5, 2, 3, 0, 2, 4, 9, 7, 6, 8, 1, 2, 4, 3, 0, 7, 2, 6, 7, 0, 6, 0, 1, 3, 4, 5, 2, 0, 0, 0, 4, 9, 2, 1, 5, 7, 3, 1, 0, 5, 9, 6, 3, 6, 3, 0, 4, 2, 8, 0, 5, 1, 7, 5, 2, 8, 2, 5, 0, 8, 8, 9, 4, 5, 6, 9, 6, 5, 3, 0, 8, 8, 2, 3, 7, 6, 5, 8, 7, 3, 3, 8, 4, 8, 3, 2, 6, 8, 3, 9, 4, 3, 4, 7, 1, 7, 9, 1, 4, 4, 3, 1, 4, 7, 0, 6, 5, 6, 3, 7, 0, 3, 2, 7, 9, 8, 0, 7, 7, 2, 6, 7, 0, 1, 8, 0, 6, 7, 7, 4, 5, 0, 1, 2, 2, 7, 3, 7, 1, 5, 6, 1, 7, 9, 7, 1, 8, 6, 7, 3, 2, 5, 7, 6, 3, 9, 3, 2, 4, 7, 7, 5, 0, 8, 4, 6, 6, 8, 4, 9, 5, 5, 0, 5, 4, 3, 3, 7, 5, 6, 9, 9, 7, 6, 9, 6, 3, 7, 5, 7, 1, 6, 6, 1, 7, 3, 0, 7, 8, 0, 5, 8, 0, 1, 0, 7, 7, 8, 0, 0, 5, 4, 1, 7, 3, 4, 5, 3, 5, 0, 4, 1, 1, 3, 4, 8, 0, 9, 1, 5, 2, 7, 3, 6, 8, 5, 2, 0, 6, 7, 6, 8, 5, 9, 4, 4, 0, 0, 2, 0, 1, 2, 4, 0, 4, 8, 5, 2, 3, 4, 1, 8, 4, 0, 5, 2, 5, 7, 8, 5, 6, 9, 4, 9, 2, 5, 5, 4, 3, 4, 5, 4, 0, 8, 1, 7, 2, 9, 8, 0, 3, 3, 1, 9, 7, 9, 5, 0, 7, 4, 1, 9, 2, 6, 5, 1, 4, 0, 3, 2, 2, 4, 8, 9, 0, 0, 1, 4, 8, 9, 1, 7, 3, 8, 9, 5, 0, 7, 5, 9, 4, 1, 7, 5, 6, 6, 6, 2, 9, 6, 6, 6, 9, 8, 3, 4, 1, 9, 8, 9, 1, 3, 3, 3, 2, 5, 6, 7, 2, 9, 8, 5, 4, 1, 3, 5, 0, 8, 6, 8, 9, 2, 1, 9, 4, 5, 6, 6, 0, 3, 3, 3, 4, 1, 9, 4, 9, 4, 4, 8, 8, 9, 4, 8, 9, 2, 2, 2, 2, 3, 0, 7, 9, 9, 9, 5, 6, 4, 3, 2, 4, 0, 9, 6, 4, 5, 9, 2, 7, 3, 1, 7, 2, 3, 5, 4, 3, 3, 5, 9, 1, 4, 0, 4, 8, 9, 1, 5, 1, 4, 5, 4, 7, 9, 5, 5, 1, 5, 0, 4, 9, 4, 9, 3, 4, 7, 6, 5, 9, 7, 2, 1, 8, 4, 4, 4, 2, 9, 6, 6, 4, 6, 8, 5, 6, 8, 1, 7, 1, 2, 2, 0, 4, 4, 1, 3, 2, 6, 3, 9, 0, 3, 2, 0, 7, 1, 2, 0, 6, 6, 1, 4, 6, 7, 4, 1, 5, 9, 8, 3, 9, 4, 6, 5, 4, 4, 3, 8, 5, 1, 3, 5, 9, 4, 5, 1, 6, 4, 5, 3, 8, 2, 6, 8, 6, 5, 7, 9, 5, 3, 2, 9, 2, 4, 9, 6, 2, 3, 5, 0, 7, 7, 7, 6, 5, 0, 5, 6, 9, 5, 6, 3, 1, 5, 1, 5, 2, 1, 9, 9, 9, 7, 2, 2, 3, 3, 1, 1, 2, 9, 9, 0, 2, 6, 8, 1, 3, 5, 9, 1, 7, 7, 3, 1, 7, 0, 2, 2, 0, 1, 4, 0, 2, 0, 0, 5, 3, 8, 7, 1, 7, 1, 2, 6, 0, 6, 0, 9, 7, 0, 6, 2, 8, 3, 8, 0, 2, 6, 2, 6, 5, 8, 3, 4, 1, 0, 2, 9, 9, 5, 6, 3, 6, 7, 6, 4, 6, 1, 9, 0, 6, 0, 7, 4, 4, 3, 8, 5, 7, 9, 3, 6, 0, 7, 4, 1, 9, 4, 4, 0, 5, 8, 3, 0, 1, 8, 2, 4, 5, 0, 7, 3, 2, 5, 3, 5, 1, 9, 3, 5, 0, 0, 3, 6, 0, 6, 9, 8, 5, 6, 5, 2, 8, 4, 2, 7, 2, 6, 6, 2, 5, 8, 2, 0, 4, 6, 8, 9, 9, 7, 4, 8, 3, 3, 3, 3, 6, 1, 0, 5, 6, 3, 9, 7, 9, 6, 0, 2, 3, 8, 6, 4, 3, 2, 5, 8, 7, 8, 9, 2, 4, 0, 6, 3, 2, 7, 6, 9, 8, 8, 3, 3, 5, 5, 6, 7, 3, 5, 0, 3, 8, 9, 5, 6, 7, 9, 0, 9, 5, 0, 2, 2, 0, 3, 5, 4, 9, 0, 0, 1, 6, 0, 3, 4, 2, 1, 6, 4, 3, 8, 1, 2, 3, 9, 3, 8, 2, 5, 6, 5, 6, 9, 8, 4, 0, 8, 7, 7, 5, 1, 9, 7, 5, 2, 7, 1, 0]\n",
      "[9, 6, 6, 2, 4, 9, 9, 3, 3, 4, 2, 8, 0, 4, 5, 8, 4, 3, 4, 6, 5, 0, 7, 8, 4, 8, 7, 7, 7, 1, 8, 8, 1, 6, 7, 6, 0, 3, 1, 2, 8, 2, 5, 2, 6, 0, 0, 5, 6, 3, 0, 8, 9, 2, 8, 0, 0, 5, 1, 8, 3, 0, 7, 3, 6, 8, 6, 5, 4, 3, 7, 7, 3, 9, 3, 5, 6, 7, 3, 1, 1, 4, 8, 9, 2, 9, 4, 6, 6, 3, 8, 3, 4, 4, 6, 0, 2, 4, 8, 0, 9, 2, 9, 7, 7, 9, 3, 5, 8, 7, 0, 8, 4, 3, 9, 6, 2, 2, 1, 4, 6, 8, 1, 8, 7, 1, 2, 2, 8, 1, 3, 9, 1, 1, 7, 9, 2, 5, 9, 2, 8, 1, 1, 8, 7, 7, 8, 6, 5, 7, 9, 4, 5, 5, 1, 9, 6, 5, 9, 9, 4, 1, 1, 8, 4, 3, 0, 2, 9, 7, 4, 4, 9, 5, 2, 3, 0, 2, 4, 9, 7, 6, 8, 1, 2, 4, 3, 0, 7, 2, 6, 7, 0, 6, 0, 1, 3, 4, 5, 2, 0, 0, 0, 4, 9, 2, 1, 5, 7, 3, 1, 0, 5, 9, 6, 3, 6, 3, 0, 4, 2, 8, 0, 5, 1, 7, 5, 2, 8, 2, 5, 0, 8, 8, 9, 4, 5, 6, 9, 6, 5, 3, 0, 8, 8, 2, 3, 7, 6, 5, 8, 7, 3, 3, 8, 4, 8, 3, 2, 6, 8, 3, 9, 4, 3, 4, 7, 1, 7, 9, 1, 4, 4, 3, 1, 4, 7, 0, 6, 5, 6, 3, 7, 0, 3, 2, 7, 9, 8, 0, 7, 7, 2, 6, 7, 0, 1, 8, 0, 6, 7, 7, 4, 5, 0, 1, 2, 2, 7, 3, 7, 1, 5, 6, 1, 7, 9, 7, 1, 8, 6, 7, 3, 2, 5, 7, 6, 3, 9, 3, 2, 4, 7, 7, 5, 0, 8, 4, 6, 6, 8, 4, 9, 5, 5, 0, 5, 4, 3, 3, 7, 5, 6, 9, 9, 7, 6, 9, 6, 3, 7, 5, 7, 1, 6, 6, 1, 7, 3, 0, 7, 8, 0, 5, 8, 0, 1, 0, 7, 7, 8, 0, 0, 5, 4, 1, 7, 3, 4, 5, 3, 5, 0, 4, 1, 1, 3, 4, 8, 0, 9, 1, 5, 2, 7, 3, 6, 8, 5, 2, 0, 6, 7, 6, 8, 5, 9, 4, 4, 0, 0, 2, 0, 1, 2, 4, 0, 4, 8, 5, 2, 3, 4, 1, 8, 4, 0, 5, 2, 5, 7, 8, 5, 6, 9, 4, 9, 2, 5, 5, 4, 3, 4, 5, 4, 0, 8, 1, 7, 2, 9, 8, 0, 3, 3, 1, 9, 7, 9, 5, 0, 7, 4, 1, 9, 2, 6, 5, 1, 4, 0, 3, 2, 2, 4, 8, 9, 0, 0, 1, 4, 8, 9, 1, 7, 3, 8, 9, 5, 0, 7, 5, 9, 4, 1, 7, 5, 6, 6, 6, 2, 9, 6, 6, 6, 9, 8, 3, 4, 1, 9, 8, 9, 1, 3, 3, 3, 2, 5, 6, 7, 2, 9, 8, 5, 4, 1, 3, 5, 0, 8, 6, 8, 9, 2, 1, 9, 4, 5, 6, 6, 0, 3, 3, 3, 4, 1, 9, 4, 9, 4, 4, 8, 8, 9, 4, 8, 9, 2, 2, 2, 2, 3, 0, 7, 9, 9, 9, 5, 6, 4, 3, 2, 4, 0, 9, 6, 4, 5, 9, 2, 7, 3, 1, 7, 2, 3, 5, 4, 3, 3, 5, 9, 1, 4, 0, 4, 8, 9, 1, 5, 1, 4, 5, 4, 7, 9, 5, 5, 1, 5, 0, 4, 9, 4, 9, 3, 4, 7, 6, 5, 9, 7, 2, 1, 8, 4, 4, 4, 2, 9, 6, 6, 4, 6, 8, 5, 6, 8, 1, 7, 1, 2, 2, 0, 4, 4, 1, 3, 2, 6, 3, 9, 0, 3, 2, 0, 7, 1, 2, 0, 6, 6, 1, 4, 6, 7, 4, 1, 5, 9, 8, 3, 9, 4, 6, 5, 4, 4, 3, 8, 5, 1, 3, 5, 9, 4, 5, 1, 6, 4, 5, 3, 8, 2, 6, 8, 6, 5, 7, 9, 5, 3, 2, 9, 2, 4, 9, 6, 2, 3, 5, 0, 7, 7, 7, 6, 5, 0, 5, 6, 9, 5, 6, 3, 1, 5, 1, 5, 2, 1, 9, 9, 9, 7, 2, 2, 3, 3, 1, 1, 2, 9, 9, 0, 2, 6, 8, 1, 3, 5, 9, 1, 7, 7, 3, 1, 7, 0, 2, 2, 0, 1, 4, 0, 2, 0, 0, 5, 3, 8, 7, 1, 7, 1, 2, 6, 0, 6, 0, 9, 7, 0, 6, 2, 8, 3, 8, 0, 2, 6, 2, 6, 5, 8, 3, 4, 1, 0, 2, 9, 9, 5, 6, 3, 6, 7, 6, 4, 6, 1, 9, 0, 6, 0, 7, 4, 4, 3, 8, 5, 7, 9, 3, 6, 0, 7, 4, 1, 9, 4, 4, 0, 5, 8, 3, 0, 1, 8, 2, 4, 5, 0, 7, 3, 2, 5, 3, 5, 1, 9, 3, 5, 0, 0, 3, 6, 0, 6, 9, 8, 5, 6, 5, 2, 8, 4, 2, 7, 2, 6, 6, 2, 5, 8, 2, 0, 4, 6, 8, 9, 9, 7, 4, 8, 3, 3, 3, 3, 6, 1, 0, 5, 6, 3, 9, 7, 9, 6, 0, 2, 3, 8, 6, 4, 3, 2, 5, 8, 7, 8, 9, 2, 4, 0, 6, 3, 2, 7, 6, 9, 8, 8, 3, 3, 5, 5, 6, 7, 3, 5, 0, 3, 8, 9, 5, 6, 7, 9, 0, 9, 5, 0, 2, 2, 0, 3, 5, 4, 9, 0, 0, 1, 6, 0, 3, 4, 2, 1, 6, 4, 3, 8, 1, 2, 3, 9, 3, 8, 2, 5, 6, 5, 6, 9, 8, 4, 0, 8, 7, 7, 5, 1, 9, 7, 5, 2, 7, 1, 0]\n",
      "[9, 6, 6, 2, 4, 9, 9, 3, 3, 4, 2, 8, 0, 4, 5, 8, 4, 3, 4, 6, 5, 0, 7, 8, 4, 8, 7, 7, 7, 1, 8, 8, 1, 6, 7, 6, 0, 3, 1, 2, 8, 2, 5, 2, 6, 0, 0, 5, 6, 3, 0, 8, 9, 2, 8, 0, 0, 5, 1, 8, 3, 0, 7, 3, 6, 8, 6, 5, 4, 3, 7, 7, 3, 9, 3, 5, 6, 7, 3, 1, 1, 4, 8, 9, 2, 9, 4, 6, 6, 3, 8, 3, 4, 4, 6, 0, 2, 4, 8, 0, 9, 2, 9, 7, 7, 9, 3, 5, 8, 7, 0, 8, 4, 3, 9, 6, 2, 2, 1, 4, 6, 8, 1, 8, 7, 1, 2, 2, 8, 1, 3, 9, 1, 1, 7, 9, 2, 5, 9, 2, 8, 1, 1, 8, 7, 7, 8, 6, 5, 7, 9, 4, 5, 5, 1, 9, 6, 5, 9, 9, 4, 1, 1, 8, 4, 3, 0, 2, 9, 7, 4, 4, 9, 5, 2, 3, 0, 2, 4, 9, 7, 6, 8, 1, 2, 4, 3, 0, 7, 2, 6, 7, 0, 6, 0, 1, 3, 4, 5, 2, 0, 0, 0, 4, 9, 2, 1, 5, 7, 3, 1, 0, 5, 9, 6, 3, 6, 3, 0, 4, 2, 8, 0, 5, 1, 7, 5, 2, 8, 2, 5, 0, 8, 8, 9, 4, 5, 6, 9, 6, 5, 3, 0, 8, 8, 2, 3, 7, 6, 5, 8, 7, 3, 3, 8, 4, 8, 3, 2, 6, 8, 3, 9, 4, 3, 4, 7, 1, 7, 9, 1, 4, 4, 3, 1, 4, 7, 0, 6, 5, 6, 3, 7, 0, 3, 2, 7, 9, 8, 0, 7, 7, 2, 6, 7, 0, 1, 8, 0, 6, 7, 7, 4, 5, 0, 1, 2, 2, 7, 3, 7, 1, 5, 6, 1, 7, 9, 7, 1, 8, 6, 7, 3, 2, 5, 7, 6, 3, 9, 3, 2, 4, 7, 7, 5, 0, 8, 4, 6, 6, 8, 4, 9, 5, 5, 0, 5, 4, 3, 3, 7, 5, 6, 9, 9, 7, 6, 9, 6, 3, 7, 5, 7, 1, 6, 6, 1, 7, 3, 0, 7, 8, 0, 5, 8, 0, 1, 0, 7, 7, 8, 0, 0, 5, 4, 1, 7, 3, 4, 5, 3, 5, 0, 4, 1, 1, 3, 4, 8, 0, 9, 1, 5, 2, 7, 3, 6, 8, 5, 2, 0, 6, 7, 6, 8, 5, 9, 4, 4, 0, 0, 2, 0, 1, 2, 4, 0, 4, 8, 5, 2, 3, 4, 1, 8, 4, 0, 5, 2, 5, 7, 8, 5, 6, 9, 4, 9, 2, 5, 5, 4, 3, 4, 5, 4, 0, 8, 1, 7, 2, 9, 8, 0, 3, 3, 1, 9, 7, 9, 5, 0, 7, 4, 1, 9, 2, 6, 5, 1, 4, 0, 3, 2, 2, 4, 8, 9, 0, 0, 1, 4, 8, 9, 1, 7, 3, 8, 9, 5, 0, 7, 5, 9, 4, 1, 7, 5, 6, 6, 6, 2, 9, 6, 6, 6, 9, 8, 3, 4, 1, 9, 8, 9, 1, 3, 3, 3, 2, 5, 6, 7, 2, 9, 8, 5, 4, 1, 3, 5, 0, 8, 6, 8, 9, 2, 1, 9, 4, 5, 6, 6, 0, 3, 3, 3, 4, 1, 9, 4, 9, 4, 4, 8, 8, 9, 4, 8, 9, 2, 2, 2, 2, 3, 0, 7, 9, 9, 9, 5, 6, 4, 3, 2, 4, 0, 9, 6, 4, 5, 9, 2, 7, 3, 1, 7, 2, 3, 5, 4, 3, 3, 5, 9, 1, 4, 0, 4, 8, 9, 1, 5, 1, 4, 5, 4, 7, 9, 5, 5, 1, 5, 0, 4, 9, 4, 9, 3, 4, 7, 6, 5, 9, 7, 2, 1, 8, 4, 4, 4, 2, 9, 6, 6, 4, 6, 8, 5, 6, 8, 1, 7, 1, 2, 2, 0, 4, 4, 1, 3, 2, 6, 3, 9, 0, 3, 2, 0, 7, 1, 2, 0, 6, 6, 1, 4, 6, 7, 4, 1, 5, 9, 8, 3, 9, 4, 6, 5, 4, 4, 3, 8, 5, 1, 3, 5, 9, 4, 5, 1, 6, 4, 5, 3, 8, 2, 6, 8, 6, 5, 7, 9, 5, 3, 2, 9, 2, 4, 9, 6, 2, 3, 5, 0, 7, 7, 7, 6, 5, 0, 5, 6, 9, 5, 6, 3, 1, 5, 1, 5, 2, 1, 9, 9, 9, 7, 2, 2, 3, 3, 1, 1, 2, 9, 9, 0, 2, 6, 8, 1, 3, 5, 9, 1, 7, 7, 3, 1, 7, 0, 2, 2, 0, 1, 4, 0, 2, 0, 0, 5, 3, 8, 7, 1, 7, 1, 2, 6, 0, 6, 0, 9, 7, 0, 6, 2, 8, 3, 8, 0, 2, 6, 2, 6, 5, 8, 3, 4, 1, 0, 2, 9, 9, 5, 6, 3, 6, 7, 6, 4, 6, 1, 9, 0, 6, 0, 7, 4, 4, 3, 8, 5, 7, 9, 3, 6, 0, 7, 4, 1, 9, 4, 4, 0, 5, 8, 3, 0, 1, 8, 2, 4, 5, 0, 7, 3, 2, 5, 3, 5, 1, 9, 3, 5, 0, 0, 3, 6, 0, 6, 9, 8, 5, 6, 5, 2, 8, 4, 2, 7, 2, 6, 6, 2, 5, 8, 2, 0, 4, 6, 8, 9, 9, 7, 4, 8, 3, 3, 3, 3, 6, 1, 0, 5, 6, 3, 9, 7, 9, 6, 0, 2, 3, 8, 6, 4, 3, 2, 5, 8, 7, 8, 9, 2, 4, 0, 6, 3, 2, 7, 6, 9, 8, 8, 3, 3, 5, 5, 6, 7, 3, 5, 0, 3, 8, 9, 5, 6, 7, 9, 0, 9, 5, 0, 2, 2, 0, 3, 5, 4, 9, 0, 0, 1, 6, 0, 3, 4, 2, 1, 6, 4, 3, 8, 1, 2, 3, 9, 3, 8, 2, 5, 6, 5, 6, 9, 8, 4, 0, 8, 7, 7, 5, 1, 9, 7, 5, 2, 7, 1, 0]\n",
      "[9, 6, 6, 2, 4, 9, 9, 3, 3, 4, 2, 8, 0, 4, 5, 8, 4, 3, 4, 6, 5, 0, 7, 8, 4, 8, 7, 7, 7, 1, 8, 8, 1, 6, 7, 6, 0, 3, 1, 2, 8, 2, 5, 2, 6, 0, 0, 5, 6, 3, 0, 8, 9, 2, 8, 0, 0, 5, 1, 8, 3, 0, 7, 3, 6, 8, 6, 5, 4, 3, 7, 7, 3, 9, 3, 5, 6, 7, 3, 1, 1, 4, 8, 9, 2, 9, 4, 6, 6, 3, 8, 3, 4, 4, 6, 0, 2, 4, 8, 0, 9, 2, 9, 7, 7, 9, 3, 5, 8, 7, 0, 8, 4, 3, 9, 6, 2, 2, 1, 4, 6, 8, 1, 8, 7, 1, 2, 2, 8, 1, 3, 9, 1, 1, 7, 9, 2, 5, 9, 2, 8, 1, 1, 8, 7, 7, 8, 6, 5, 7, 9, 4, 5, 5, 1, 9, 6, 5, 9, 9, 4, 1, 1, 8, 4, 3, 0, 2, 9, 7, 4, 4, 9, 5, 2, 3, 0, 2, 4, 9, 7, 6, 8, 1, 2, 4, 3, 0, 7, 2, 6, 7, 0, 6, 0, 1, 3, 4, 5, 2, 0, 0, 0, 4, 9, 2, 1, 5, 7, 3, 1, 0, 5, 9, 6, 3, 6, 3, 0, 4, 2, 8, 0, 5, 1, 7, 5, 2, 8, 2, 5, 0, 8, 8, 9, 4, 5, 6, 9, 6, 5, 3, 0, 8, 8, 2, 3, 7, 6, 5, 8, 7, 3, 3, 8, 4, 8, 3, 2, 6, 8, 3, 9, 4, 3, 4, 7, 1, 7, 9, 1, 4, 4, 3, 1, 4, 7, 0, 6, 5, 6, 3, 7, 0, 3, 2, 7, 9, 8, 0, 7, 7, 2, 6, 7, 0, 1, 8, 0, 6, 7, 7, 4, 5, 0, 1, 2, 2, 7, 3, 7, 1, 5, 6, 1, 7, 9, 7, 1, 8, 6, 7, 3, 2, 5, 7, 6, 3, 9, 3, 2, 4, 7, 7, 5, 0, 8, 4, 6, 6, 8, 4, 9, 5, 5, 0, 5, 4, 3, 3, 7, 5, 6, 9, 9, 7, 6, 9, 6, 3, 7, 5, 7, 1, 6, 6, 1, 7, 3, 0, 7, 8, 0, 5, 8, 0, 1, 0, 7, 7, 8, 0, 0, 5, 4, 1, 7, 3, 4, 5, 3, 5, 0, 4, 1, 1, 3, 4, 8, 0, 9, 1, 5, 2, 7, 3, 6, 8, 5, 2, 0, 6, 7, 6, 8, 5, 9, 4, 4, 0, 0, 2, 0, 1, 2, 4, 0, 4, 8, 5, 2, 3, 4, 1, 8, 4, 0, 5, 2, 5, 7, 8, 5, 6, 9, 4, 9, 2, 5, 5, 4, 3, 4, 5, 4, 0, 8, 1, 7, 2, 9, 8, 0, 3, 3, 1, 9, 7, 9, 5, 0, 7, 4, 1, 9, 2, 6, 5, 1, 4, 0, 3, 2, 2, 4, 8, 9, 0, 0, 1, 4, 8, 9, 1, 7, 3, 8, 9, 5, 0, 7, 5, 9, 4, 1, 7, 5, 6, 6, 6, 2, 9, 6, 6, 6, 9, 8, 3, 4, 1, 9, 8, 9, 1, 3, 3, 3, 2, 5, 6, 7, 2, 9, 8, 5, 4, 1, 3, 5, 0, 8, 6, 8, 9, 2, 1, 9, 4, 5, 6, 6, 0, 3, 3, 3, 4, 1, 9, 4, 9, 4, 4, 8, 8, 9, 4, 8, 9, 2, 2, 2, 2, 3, 0, 7, 9, 9, 9, 5, 6, 4, 3, 2, 4, 0, 9, 6, 4, 5, 9, 2, 7, 3, 1, 7, 2, 3, 5, 4, 3, 3, 5, 9, 1, 4, 0, 4, 8, 9, 1, 5, 1, 4, 5, 4, 7, 9, 5, 5, 1, 5, 0, 4, 9, 4, 9, 3, 4, 7, 6, 5, 9, 7, 2, 1, 8, 4, 4, 4, 2, 9, 6, 6, 4, 6, 8, 5, 6, 8, 1, 7, 1, 2, 2, 0, 4, 4, 1, 3, 2, 6, 3, 9, 0, 3, 2, 0, 7, 1, 2, 0, 6, 6, 1, 4, 6, 7, 4, 1, 5, 9, 8, 3, 9, 4, 6, 5, 4, 4, 3, 8, 5, 1, 3, 5, 9, 4, 5, 1, 6, 4, 5, 3, 8, 2, 6, 8, 6, 5, 7, 9, 5, 3, 2, 9, 2, 4, 9, 6, 2, 3, 5, 0, 7, 7, 7, 6, 5, 0, 5, 6, 9, 5, 6, 3, 1, 5, 1, 5, 2, 1, 9, 9, 9, 7, 2, 2, 3, 3, 1, 1, 2, 9, 9, 0, 2, 6, 8, 1, 3, 5, 9, 1, 7, 7, 3, 1, 7, 0, 2, 2, 0, 1, 4, 0, 2, 0, 0, 5, 3, 8, 7, 1, 7, 1, 2, 6, 0, 6, 0, 9, 7, 0, 6, 2, 8, 3, 8, 0, 2, 6, 2, 6, 5, 8, 3, 4, 1, 0, 2, 9, 9, 5, 6, 3, 6, 7, 6, 4, 6, 1, 9, 0, 6, 0, 7, 4, 4, 3, 8, 5, 7, 9, 3, 6, 0, 7, 4, 1, 9, 4, 4, 0, 5, 8, 3, 0, 1, 8, 2, 4, 5, 0, 7, 3, 2, 5, 3, 5, 1, 9, 3, 5, 0, 0, 3, 6, 0, 6, 9, 8, 5, 6, 5, 2, 8, 4, 2, 7, 2, 6, 6, 2, 5, 8, 2, 0, 4, 6, 8, 9, 9, 7, 4, 8, 3, 3, 3, 3, 6, 1, 0, 5, 6, 3, 9, 7, 9, 6, 0, 2, 3, 8, 6, 4, 3, 2, 5, 8, 7, 8, 9, 2, 4, 0, 6, 3, 2, 7, 6, 9, 8, 8, 3, 3, 5, 5, 6, 7, 3, 5, 0, 3, 8, 9, 5, 6, 7, 9, 0, 9, 5, 0, 2, 2, 0, 3, 5, 4, 9, 0, 0, 1, 6, 0, 3, 4, 2, 1, 6, 4, 3, 8, 1, 2, 3, 9, 3, 8, 2, 5, 6, 5, 6, 9, 8, 4, 0, 8, 7, 7, 5, 1, 9, 7, 5, 2, 7, 1, 0]\n",
      "[9, 6, 6, 2, 4, 9, 9, 3, 3, 4, 2, 8, 0, 4, 5, 8, 4, 3, 4, 6, 5, 0, 7, 8, 4, 8, 7, 7, 7, 1, 8, 8, 1, 6, 7, 6, 0, 3, 1, 2, 8, 2, 5, 2, 6, 0, 0, 5, 6, 3, 0, 8, 9, 2, 8, 0, 0, 5, 1, 8, 3, 0, 7, 3, 6, 8, 6, 5, 4, 3, 7, 7, 3, 9, 3, 5, 6, 7, 3, 1, 1, 4, 8, 9, 2, 9, 4, 6, 6, 3, 8, 3, 4, 4, 6, 0, 2, 4, 8, 0, 9, 2, 9, 7, 7, 9, 3, 5, 8, 7, 0, 8, 4, 3, 9, 6, 2, 2, 1, 4, 6, 8, 1, 8, 7, 1, 2, 2, 8, 1, 3, 9, 1, 1, 7, 9, 2, 5, 9, 2, 8, 1, 1, 8, 7, 7, 8, 6, 5, 7, 9, 4, 5, 5, 1, 9, 6, 5, 9, 9, 4, 1, 1, 8, 4, 3, 0, 2, 9, 7, 4, 4, 9, 5, 2, 3, 0, 2, 4, 9, 7, 6, 8, 1, 2, 4, 3, 0, 7, 2, 6, 7, 0, 6, 0, 1, 3, 4, 5, 2, 0, 0, 0, 4, 9, 2, 1, 5, 7, 3, 1, 0, 5, 9, 6, 3, 6, 3, 0, 4, 2, 8, 0, 5, 1, 7, 5, 2, 8, 2, 5, 0, 8, 8, 9, 4, 5, 6, 9, 6, 5, 3, 0, 8, 8, 2, 3, 7, 6, 5, 8, 7, 3, 3, 8, 4, 8, 3, 2, 6, 8, 3, 9, 4, 3, 4, 7, 1, 7, 9, 1, 4, 4, 3, 1, 4, 7, 0, 6, 5, 6, 3, 7, 0, 3, 2, 7, 9, 8, 0, 7, 7, 2, 6, 7, 0, 1, 8, 0, 6, 7, 7, 4, 5, 0, 1, 2, 2, 7, 3, 7, 1, 5, 6, 1, 7, 9, 7, 1, 8, 6, 7, 3, 2, 5, 7, 6, 3, 9, 3, 2, 4, 7, 7, 5, 0, 8, 4, 6, 6, 8, 4, 9, 5, 5, 0, 5, 4, 3, 3, 7, 5, 6, 9, 9, 7, 6, 9, 6, 3, 7, 5, 7, 1, 6, 6, 1, 7, 3, 0, 7, 8, 0, 5, 8, 0, 1, 0, 7, 7, 8, 0, 0, 5, 4, 1, 7, 3, 4, 5, 3, 5, 0, 4, 1, 1, 3, 4, 8, 0, 9, 1, 5, 2, 7, 3, 6, 8, 5, 2, 0, 6, 7, 6, 8, 5, 9, 4, 4, 0, 0, 2, 0, 1, 2, 4, 0, 4, 8, 5, 2, 3, 4, 1, 8, 4, 0, 5, 2, 5, 7, 8, 5, 6, 9, 4, 9, 2, 5, 5, 4, 3, 4, 5, 4, 0, 8, 1, 7, 2, 9, 8, 0, 3, 3, 1, 9, 7, 9, 5, 0, 7, 4, 1, 9, 2, 6, 5, 1, 4, 0, 3, 2, 2, 4, 8, 9, 0, 0, 1, 4, 8, 9, 1, 7, 3, 8, 9, 5, 0, 7, 5, 9, 4, 1, 7, 5, 6, 6, 6, 2, 9, 6, 6, 6, 9, 8, 3, 4, 1, 9, 8, 9, 1, 3, 3, 3, 2, 5, 6, 7, 2, 9, 8, 5, 4, 1, 3, 5, 0, 8, 6, 8, 9, 2, 1, 9, 4, 5, 6, 6, 0, 3, 3, 3, 4, 1, 9, 4, 9, 4, 4, 8, 8, 9, 4, 8, 9, 2, 2, 2, 2, 3, 0, 7, 9, 9, 9, 5, 6, 4, 3, 2, 4, 0, 9, 6, 4, 5, 9, 2, 7, 3, 1, 7, 2, 3, 5, 4, 3, 3, 5, 9, 1, 4, 0, 4, 8, 9, 1, 5, 1, 4, 5, 4, 7, 9, 5, 5, 1, 5, 0, 4, 9, 4, 9, 3, 4, 7, 6, 5, 9, 7, 2, 1, 8, 4, 4, 4, 2, 9, 6, 6, 4, 6, 8, 5, 6, 8, 1, 7, 1, 2, 2, 0, 4, 4, 1, 3, 2, 6, 3, 9, 0, 3, 2, 0, 7, 1, 2, 0, 6, 6, 1, 4, 6, 7, 4, 1, 5, 9, 8, 3, 9, 4, 6, 5, 4, 4, 3, 8, 5, 1, 3, 5, 9, 4, 5, 1, 6, 4, 5, 3, 8, 2, 6, 8, 6, 5, 7, 9, 5, 3, 2, 9, 2, 4, 9, 6, 2, 3, 5, 0, 7, 7, 7, 6, 5, 0, 5, 6, 9, 5, 6, 3, 1, 5, 1, 5, 2, 1, 9, 9, 9, 7, 2, 2, 3, 3, 1, 1, 2, 9, 9, 0, 2, 6, 8, 1, 3, 5, 9, 1, 7, 7, 3, 1, 7, 0, 2, 2, 0, 1, 4, 0, 2, 0, 0, 5, 3, 8, 7, 1, 7, 1, 2, 6, 0, 6, 0, 9, 7, 0, 6, 2, 8, 3, 8, 0, 2, 6, 2, 6, 5, 8, 3, 4, 1, 0, 2, 9, 9, 5, 6, 3, 6, 7, 6, 4, 6, 1, 9, 0, 6, 0, 7, 4, 4, 3, 8, 5, 7, 9, 3, 6, 0, 7, 4, 1, 9, 4, 4, 0, 5, 8, 3, 0, 1, 8, 2, 4, 5, 0, 7, 3, 2, 5, 3, 5, 1, 9, 3, 5, 0, 0, 3, 6, 0, 6, 9, 8, 5, 6, 5, 2, 8, 4, 2, 7, 2, 6, 6, 2, 5, 8, 2, 0, 4, 6, 8, 9, 9, 7, 4, 8, 3, 3, 3, 3, 6, 1, 0, 5, 6, 3, 9, 7, 9, 6, 0, 2, 3, 8, 6, 4, 3, 2, 5, 8, 7, 8, 9, 2, 4, 0, 6, 3, 2, 7, 6, 9, 8, 8, 3, 3, 5, 5, 6, 7, 3, 5, 0, 3, 8, 9, 5, 6, 7, 9, 0, 9, 5, 0, 2, 2, 0, 3, 5, 4, 9, 0, 0, 1, 6, 0, 3, 4, 2, 1, 6, 4, 3, 8, 1, 2, 3, 9, 3, 8, 2, 5, 6, 5, 6, 9, 8, 4, 0, 8, 7, 7, 5, 1, 9, 7, 5, 2, 7, 1, 0]\n",
      "[9, 6, 6, 2, 4, 9, 9, 3, 3, 4, 2, 8, 0, 4, 5, 8, 4, 3, 4, 6, 5, 0, 7, 8, 4, 8, 7, 7, 7, 1, 8, 8, 1, 6, 7, 6, 0, 3, 1, 2, 8, 2, 5, 2, 6, 0, 0, 5, 6, 3, 0, 8, 9, 2, 8, 0, 0, 5, 1, 8, 3, 0, 7, 3, 6, 8, 6, 5, 4, 3, 7, 7, 3, 9, 3, 5, 6, 7, 3, 1, 1, 4, 8, 9, 2, 9, 4, 6, 6, 3, 8, 3, 4, 4, 6, 0, 2, 4, 8, 0, 9, 2, 9, 7, 7, 9, 3, 5, 8, 7, 0, 8, 4, 3, 9, 6, 2, 2, 1, 4, 6, 8, 1, 8, 7, 1, 2, 2, 8, 1, 3, 9, 1, 1, 7, 9, 2, 5, 9, 2, 8, 1, 1, 8, 7, 7, 8, 6, 5, 7, 9, 4, 5, 5, 1, 9, 6, 5, 9, 9, 4, 1, 1, 8, 4, 3, 0, 2, 9, 7, 4, 4, 9, 5, 2, 3, 0, 2, 4, 9, 7, 6, 8, 1, 2, 4, 3, 0, 7, 2, 6, 7, 0, 6, 0, 1, 3, 4, 5, 2, 0, 0, 0, 4, 9, 2, 1, 5, 7, 3, 1, 0, 5, 9, 6, 3, 6, 3, 0, 4, 2, 8, 0, 5, 1, 7, 5, 2, 8, 2, 5, 0, 8, 8, 9, 4, 5, 6, 9, 6, 5, 3, 0, 8, 8, 2, 3, 7, 6, 5, 8, 7, 3, 3, 8, 4, 8, 3, 2, 6, 8, 3, 9, 4, 3, 4, 7, 1, 7, 9, 1, 4, 4, 3, 1, 4, 7, 0, 6, 5, 6, 3, 7, 0, 3, 2, 7, 9, 8, 0, 7, 7, 2, 6, 7, 0, 1, 8, 0, 6, 7, 7, 4, 5, 0, 1, 2, 2, 7, 3, 7, 1, 5, 6, 1, 7, 9, 7, 1, 8, 6, 7, 3, 2, 5, 7, 6, 3, 9, 3, 2, 4, 7, 7, 5, 0, 8, 4, 6, 6, 8, 4, 9, 5, 5, 0, 5, 4, 3, 3, 7, 5, 6, 9, 9, 7, 6, 9, 6, 3, 7, 5, 7, 1, 6, 6, 1, 7, 3, 0, 7, 8, 0, 5, 8, 0, 1, 0, 7, 7, 8, 0, 0, 5, 4, 1, 7, 3, 4, 5, 3, 5, 0, 4, 1, 1, 3, 4, 8, 0, 9, 1, 5, 2, 7, 3, 6, 8, 5, 2, 0, 6, 7, 6, 8, 5, 9, 4, 4, 0, 0, 2, 0, 1, 2, 4, 0, 4, 8, 5, 2, 3, 4, 1, 8, 4, 0, 5, 2, 5, 7, 8, 5, 6, 9, 4, 9, 2, 5, 5, 4, 3, 4, 5, 4, 0, 8, 1, 7, 2, 9, 8, 0, 3, 3, 1, 9, 7, 9, 5, 0, 7, 4, 1, 9, 2, 6, 5, 1, 4, 0, 3, 2, 2, 4, 8, 9, 0, 0, 1, 4, 8, 9, 1, 7, 3, 8, 9, 5, 0, 7, 5, 9, 4, 1, 7, 5, 6, 6, 6, 2, 9, 6, 6, 6, 9, 8, 3, 4, 1, 9, 8, 9, 1, 3, 3, 3, 2, 5, 6, 7, 2, 9, 8, 5, 4, 1, 3, 5, 0, 8, 6, 8, 9, 2, 1, 9, 4, 5, 6, 6, 0, 3, 3, 3, 4, 1, 9, 4, 9, 4, 4, 8, 8, 9, 4, 8, 9, 2, 2, 2, 2, 3, 0, 7, 9, 9, 9, 5, 6, 4, 3, 2, 4, 0, 9, 6, 4, 5, 9, 2, 7, 3, 1, 7, 2, 3, 5, 4, 3, 3, 5, 9, 1, 4, 0, 4, 8, 9, 1, 5, 1, 4, 5, 4, 7, 9, 5, 5, 1, 5, 0, 4, 9, 4, 9, 3, 4, 7, 6, 5, 9, 7, 2, 1, 8, 4, 4, 4, 2, 9, 6, 6, 4, 6, 8, 5, 6, 8, 1, 7, 1, 2, 2, 0, 4, 4, 1, 3, 2, 6, 3, 9, 0, 3, 2, 0, 7, 1, 2, 0, 6, 6, 1, 4, 6, 7, 4, 1, 5, 9, 8, 3, 9, 4, 6, 5, 4, 4, 3, 8, 5, 1, 3, 5, 9, 4, 5, 1, 6, 4, 5, 3, 8, 2, 6, 8, 6, 5, 7, 9, 5, 3, 2, 9, 2, 4, 9, 6, 2, 3, 5, 0, 7, 7, 7, 6, 5, 0, 5, 6, 9, 5, 6, 3, 1, 5, 1, 5, 2, 1, 9, 9, 9, 7, 2, 2, 3, 3, 1, 1, 2, 9, 9, 0, 2, 6, 8, 1, 3, 5, 9, 1, 7, 7, 3, 1, 7, 0, 2, 2, 0, 1, 4, 0, 2, 0, 0, 5, 3, 8, 7, 1, 7, 1, 2, 6, 0, 6, 0, 9, 7, 0, 6, 2, 8, 3, 8, 0, 2, 6, 2, 6, 5, 8, 3, 4, 1, 0, 2, 9, 9, 5, 6, 3, 6, 7, 6, 4, 6, 1, 9, 0, 6, 0, 7, 4, 4, 3, 8, 5, 7, 9, 3, 6, 0, 7, 4, 1, 9, 4, 4, 0, 5, 8, 3, 0, 1, 8, 2, 4, 5, 0, 7, 3, 2, 5, 3, 5, 1, 9, 3, 5, 0, 0, 3, 6, 0, 6, 9, 8, 5, 6, 5, 2, 8, 4, 2, 7, 2, 6, 6, 2, 5, 8, 2, 0, 4, 6, 8, 9, 9, 7, 4, 8, 3, 3, 3, 3, 6, 1, 0, 5, 6, 3, 9, 7, 9, 6, 0, 2, 3, 8, 6, 4, 3, 2, 5, 8, 7, 8, 9, 2, 4, 0, 6, 3, 2, 7, 6, 9, 8, 8, 3, 3, 5, 5, 6, 7, 3, 5, 0, 3, 8, 9, 5, 6, 7, 9, 0, 9, 5, 0, 2, 2, 0, 3, 5, 4, 9, 0, 0, 1, 6, 0, 3, 4, 2, 1, 6, 4, 3, 8, 1, 2, 3, 9, 3, 8, 2, 5, 6, 5, 6, 9, 8, 4, 0, 8, 7, 7, 5, 1, 9, 7, 5, 2, 7, 1, 0]\n",
      "[9, 6, 6, 2, 4, 9, 9, 3, 3, 4, 2, 8, 0, 4, 5, 8, 4, 3, 4, 6, 5, 0, 7, 8, 4, 8, 7, 7, 7, 1, 8, 8, 1, 6, 7, 6, 0, 3, 1, 2, 8, 2, 5, 2, 6, 0, 0, 5, 6, 3, 0, 8, 9, 2, 8, 0, 0, 5, 1, 8, 3, 0, 7, 3, 6, 8, 6, 5, 4, 3, 7, 7, 3, 9, 3, 5, 6, 7, 3, 1, 1, 4, 8, 9, 2, 9, 4, 6, 6, 3, 8, 3, 4, 4, 6, 0, 2, 4, 8, 0, 9, 2, 9, 7, 7, 9, 3, 5, 8, 7, 0, 8, 4, 3, 9, 6, 2, 2, 1, 4, 6, 8, 1, 8, 7, 1, 2, 2, 8, 1, 3, 9, 1, 1, 7, 9, 2, 5, 9, 2, 8, 1, 1, 8, 7, 7, 8, 6, 5, 7, 9, 4, 5, 5, 1, 9, 6, 5, 9, 9, 4, 1, 1, 8, 4, 3, 0, 2, 9, 7, 4, 4, 9, 5, 2, 3, 0, 2, 4, 9, 7, 6, 8, 1, 2, 4, 3, 0, 7, 2, 6, 7, 0, 6, 0, 1, 3, 4, 5, 2, 0, 0, 0, 4, 9, 2, 1, 5, 7, 3, 1, 0, 5, 9, 6, 3, 6, 3, 0, 4, 2, 8, 0, 5, 1, 7, 5, 2, 8, 2, 5, 0, 8, 8, 9, 4, 5, 6, 9, 6, 5, 3, 0, 8, 8, 2, 3, 7, 6, 5, 8, 7, 3, 3, 8, 4, 8, 3, 2, 6, 8, 3, 9, 4, 3, 4, 7, 1, 7, 9, 1, 4, 4, 3, 1, 4, 7, 0, 6, 5, 6, 3, 7, 0, 3, 2, 7, 9, 8, 0, 7, 7, 2, 6, 7, 0, 1, 8, 0, 6, 7, 7, 4, 5, 0, 1, 2, 2, 7, 3, 7, 1, 5, 6, 1, 7, 9, 7, 1, 8, 6, 7, 3, 2, 5, 7, 6, 3, 9, 3, 2, 4, 7, 7, 5, 0, 8, 4, 6, 6, 8, 4, 9, 5, 5, 0, 5, 4, 3, 3, 7, 5, 6, 9, 9, 7, 6, 9, 6, 3, 7, 5, 7, 1, 6, 6, 1, 7, 3, 0, 7, 8, 0, 5, 8, 0, 1, 0, 7, 7, 8, 0, 0, 5, 4, 1, 7, 3, 4, 5, 3, 5, 0, 4, 1, 1, 3, 4, 8, 0, 9, 1, 5, 2, 7, 3, 6, 8, 5, 2, 0, 6, 7, 6, 8, 5, 9, 4, 4, 0, 0, 2, 0, 1, 2, 4, 0, 4, 8, 5, 2, 3, 4, 1, 8, 4, 0, 5, 2, 5, 7, 8, 5, 6, 9, 4, 9, 2, 5, 5, 4, 3, 4, 5, 4, 0, 8, 1, 7, 2, 9, 8, 0, 3, 3, 1, 9, 7, 9, 5, 0, 7, 4, 1, 9, 2, 6, 5, 1, 4, 0, 3, 2, 2, 4, 8, 9, 0, 0, 1, 4, 8, 9, 1, 7, 3, 8, 9, 5, 0, 7, 5, 9, 4, 1, 7, 5, 6, 6, 6, 2, 9, 6, 6, 6, 9, 8, 3, 4, 1, 9, 8, 9, 1, 3, 3, 3, 2, 5, 6, 7, 2, 9, 8, 5, 4, 1, 3, 5, 0, 8, 6, 8, 9, 2, 1, 9, 4, 5, 6, 6, 0, 3, 3, 3, 4, 1, 9, 4, 9, 4, 4, 8, 8, 9, 4, 8, 9, 2, 2, 2, 2, 3, 0, 7, 9, 9, 9, 5, 6, 4, 3, 2, 4, 0, 9, 6, 4, 5, 9, 2, 7, 3, 1, 7, 2, 3, 5, 4, 3, 3, 5, 9, 1, 4, 0, 4, 8, 9, 1, 5, 1, 4, 5, 4, 7, 9, 5, 5, 1, 5, 0, 4, 9, 4, 9, 3, 4, 7, 6, 5, 9, 7, 2, 1, 8, 4, 4, 4, 2, 9, 6, 6, 4, 6, 8, 5, 6, 8, 1, 7, 1, 2, 2, 0, 4, 4, 1, 3, 2, 6, 3, 9, 0, 3, 2, 0, 7, 1, 2, 0, 6, 6, 1, 4, 6, 7, 4, 1, 5, 9, 8, 3, 9, 4, 6, 5, 4, 4, 3, 8, 5, 1, 3, 5, 9, 4, 5, 1, 6, 4, 5, 3, 8, 2, 6, 8, 6, 5, 7, 9, 5, 3, 2, 9, 2, 4, 9, 6, 2, 3, 5, 0, 7, 7, 7, 6, 5, 0, 5, 6, 9, 5, 6, 3, 1, 5, 1, 5, 2, 1, 9, 9, 9, 7, 2, 2, 3, 3, 1, 1, 2, 9, 9, 0, 2, 6, 8, 1, 3, 5, 9, 1, 7, 7, 3, 1, 7, 0, 2, 2, 0, 1, 4, 0, 2, 0, 0, 5, 3, 8, 7, 1, 7, 1, 2, 6, 0, 6, 0, 9, 7, 0, 6, 2, 8, 3, 8, 0, 2, 6, 2, 6, 5, 8, 3, 4, 1, 0, 2, 9, 9, 5, 6, 3, 6, 7, 6, 4, 6, 1, 9, 0, 6, 0, 7, 4, 4, 3, 8, 5, 7, 9, 3, 6, 0, 7, 4, 1, 9, 4, 4, 0, 5, 8, 3, 0, 1, 8, 2, 4, 5, 0, 7, 3, 2, 5, 3, 5, 1, 9, 3, 5, 0, 0, 3, 6, 0, 6, 9, 8, 5, 6, 5, 2, 8, 4, 2, 7, 2, 6, 6, 2, 5, 8, 2, 0, 4, 6, 8, 9, 9, 7, 4, 8, 3, 3, 3, 3, 6, 1, 0, 5, 6, 3, 9, 7, 9, 6, 0, 2, 3, 8, 6, 4, 3, 2, 5, 8, 7, 8, 9, 2, 4, 0, 6, 3, 2, 7, 6, 9, 8, 8, 3, 3, 5, 5, 6, 7, 3, 5, 0, 3, 8, 9, 5, 6, 7, 9, 0, 9, 5, 0, 2, 2, 0, 3, 5, 4, 9, 0, 0, 1, 6, 0, 3, 4, 2, 1, 6, 4, 3, 8, 1, 2, 3, 9, 3, 8, 2, 5, 6, 5, 6, 9, 8, 4, 0, 8, 7, 7, 5, 1, 9, 7, 5, 2, 7, 1, 0]\n",
      "[9, 6, 6, 2, 4, 9, 9, 3, 3, 4, 2, 8, 0, 4, 5, 8, 4, 3, 4, 6, 5, 0, 7, 8, 4, 8, 7, 7, 7, 1, 8, 8, 1, 6, 7, 6, 0, 3, 1, 2, 8, 2, 5, 2, 6, 0, 0, 5, 6, 3, 0, 8, 9, 2, 8, 0, 0, 5, 1, 8, 3, 0, 7, 3, 6, 8, 6, 5, 4, 3, 7, 7, 3, 9, 3, 5, 6, 7, 3, 1, 1, 4, 8, 9, 2, 9, 4, 6, 6, 3, 8, 3, 4, 4, 6, 0, 2, 4, 8, 0, 9, 2, 9, 7, 7, 9, 3, 5, 8, 7, 0, 8, 4, 3, 9, 6, 2, 2, 1, 4, 6, 8, 1, 8, 7, 1, 2, 2, 8, 1, 3, 9, 1, 1, 7, 9, 2, 5, 9, 2, 8, 1, 1, 8, 7, 7, 8, 6, 5, 7, 9, 4, 5, 5, 1, 9, 6, 5, 9, 9, 4, 1, 1, 8, 4, 3, 0, 2, 9, 7, 4, 4, 9, 5, 2, 3, 0, 2, 4, 9, 7, 6, 8, 1, 2, 4, 3, 0, 7, 2, 6, 7, 0, 6, 0, 1, 3, 4, 5, 2, 0, 0, 0, 4, 9, 2, 1, 5, 7, 3, 1, 0, 5, 9, 6, 3, 6, 3, 0, 4, 2, 8, 0, 5, 1, 7, 5, 2, 8, 2, 5, 0, 8, 8, 9, 4, 5, 6, 9, 6, 5, 3, 0, 8, 8, 2, 3, 7, 6, 5, 8, 7, 3, 3, 8, 4, 8, 3, 2, 6, 8, 3, 9, 4, 3, 4, 7, 1, 7, 9, 1, 4, 4, 3, 1, 4, 7, 0, 6, 5, 6, 3, 7, 0, 3, 2, 7, 9, 8, 0, 7, 7, 2, 6, 7, 0, 1, 8, 0, 6, 7, 7, 4, 5, 0, 1, 2, 2, 7, 3, 7, 1, 5, 6, 1, 7, 9, 7, 1, 8, 6, 7, 3, 2, 5, 7, 6, 3, 9, 3, 2, 4, 7, 7, 5, 0, 8, 4, 6, 6, 8, 4, 9, 5, 5, 0, 5, 4, 3, 3, 7, 5, 6, 9, 9, 7, 6, 9, 6, 3, 7, 5, 7, 1, 6, 6, 1, 7, 3, 0, 7, 8, 0, 5, 8, 0, 1, 0, 7, 7, 8, 0, 0, 5, 4, 1, 7, 3, 4, 5, 3, 5, 0, 4, 1, 1, 3, 4, 8, 0, 9, 1, 5, 2, 7, 3, 6, 8, 5, 2, 0, 6, 7, 6, 8, 5, 9, 4, 4, 0, 0, 2, 0, 1, 2, 4, 0, 4, 8, 5, 2, 3, 4, 1, 8, 4, 0, 5, 2, 5, 7, 8, 5, 6, 9, 4, 9, 2, 5, 5, 4, 3, 4, 5, 4, 0, 8, 1, 7, 2, 9, 8, 0, 3, 3, 1, 9, 7, 9, 5, 0, 7, 4, 1, 9, 2, 6, 5, 1, 4, 0, 3, 2, 2, 4, 8, 9, 0, 0, 1, 4, 8, 9, 1, 7, 3, 8, 9, 5, 0, 7, 5, 9, 4, 1, 7, 5, 6, 6, 6, 2, 9, 6, 6, 6, 9, 8, 3, 4, 1, 9, 8, 9, 1, 3, 3, 3, 2, 5, 6, 7, 2, 9, 8, 5, 4, 1, 3, 5, 0, 8, 6, 8, 9, 2, 1, 9, 4, 5, 6, 6, 0, 3, 3, 3, 4, 1, 9, 4, 9, 4, 4, 8, 8, 9, 4, 8, 9, 2, 2, 2, 2, 3, 0, 7, 9, 9, 9, 5, 6, 4, 3, 2, 4, 0, 9, 6, 4, 5, 9, 2, 7, 3, 1, 7, 2, 3, 5, 4, 3, 3, 5, 9, 1, 4, 0, 4, 8, 9, 1, 5, 1, 4, 5, 4, 7, 9, 5, 5, 1, 5, 0, 4, 9, 4, 9, 3, 4, 7, 6, 5, 9, 7, 2, 1, 8, 4, 4, 4, 2, 9, 6, 6, 4, 6, 8, 5, 6, 8, 1, 7, 1, 2, 2, 0, 4, 4, 1, 3, 2, 6, 3, 9, 0, 3, 2, 0, 7, 1, 2, 0, 6, 6, 1, 4, 6, 7, 4, 1, 5, 9, 8, 3, 9, 4, 6, 5, 4, 4, 3, 8, 5, 1, 3, 5, 9, 4, 5, 1, 6, 4, 5, 3, 8, 2, 6, 8, 6, 5, 7, 9, 5, 3, 2, 9, 2, 4, 9, 6, 2, 3, 5, 0, 7, 7, 7, 6, 5, 0, 5, 6, 9, 5, 6, 3, 1, 5, 1, 5, 2, 1, 9, 9, 9, 7, 2, 2, 3, 3, 1, 1, 2, 9, 9, 0, 2, 6, 8, 1, 3, 5, 9, 1, 7, 7, 3, 1, 7, 0, 2, 2, 0, 1, 4, 0, 2, 0, 0, 5, 3, 8, 7, 1, 7, 1, 2, 6, 0, 6, 0, 9, 7, 0, 6, 2, 8, 3, 8, 0, 2, 6, 2, 6, 5, 8, 3, 4, 1, 0, 2, 9, 9, 5, 6, 3, 6, 7, 6, 4, 6, 1, 9, 0, 6, 0, 7, 4, 4, 3, 8, 5, 7, 9, 3, 6, 0, 7, 4, 1, 9, 4, 4, 0, 5, 8, 3, 0, 1, 8, 2, 4, 5, 0, 7, 3, 2, 5, 3, 5, 1, 9, 3, 5, 0, 0, 3, 6, 0, 6, 9, 8, 5, 6, 5, 2, 8, 4, 2, 7, 2, 6, 6, 2, 5, 8, 2, 0, 4, 6, 8, 9, 9, 7, 4, 8, 3, 3, 3, 3, 6, 1, 0, 5, 6, 3, 9, 7, 9, 6, 0, 2, 3, 8, 6, 4, 3, 2, 5, 8, 7, 8, 9, 2, 4, 0, 6, 3, 2, 7, 6, 9, 8, 8, 3, 3, 5, 5, 6, 7, 3, 5, 0, 3, 8, 9, 5, 6, 7, 9, 0, 9, 5, 0, 2, 2, 0, 3, 5, 4, 9, 0, 0, 1, 6, 0, 3, 4, 2, 1, 6, 4, 3, 8, 1, 2, 3, 9, 3, 8, 2, 5, 6, 5, 6, 9, 8, 4, 0, 8, 7, 7, 5, 1, 9, 7, 5, 2, 7, 1, 0]\n",
      "[9, 6, 6, 2, 4, 9, 9, 3, 3, 4, 2, 8, 0, 4, 5, 8, 4, 3, 4, 6, 5, 0, 7, 8, 4, 8, 7, 7, 7, 1, 8, 8, 1, 6, 7, 6, 0, 3, 1, 2, 8, 2, 5, 2, 6, 0, 0, 5, 6, 3, 0, 8, 9, 2, 8, 0, 0, 5, 1, 8, 3, 0, 7, 3, 6, 8, 6, 5, 4, 3, 7, 7, 3, 9, 3, 5, 6, 7, 3, 1, 1, 4, 8, 9, 2, 9, 4, 6, 6, 3, 8, 3, 4, 4, 6, 0, 2, 4, 8, 0, 9, 2, 9, 7, 7, 9, 3, 5, 8, 7, 0, 8, 4, 3, 9, 6, 2, 2, 1, 4, 6, 8, 1, 8, 7, 1, 2, 2, 8, 1, 3, 9, 1, 1, 7, 9, 2, 5, 9, 2, 8, 1, 1, 8, 7, 7, 8, 6, 5, 7, 9, 4, 5, 5, 1, 9, 6, 5, 9, 9, 4, 1, 1, 8, 4, 3, 0, 2, 9, 7, 4, 4, 9, 5, 2, 3, 0, 2, 4, 9, 7, 6, 8, 1, 2, 4, 3, 0, 7, 2, 6, 7, 0, 6, 0, 1, 3, 4, 5, 2, 0, 0, 0, 4, 9, 2, 1, 5, 7, 3, 1, 0, 5, 9, 6, 3, 6, 3, 0, 4, 2, 8, 0, 5, 1, 7, 5, 2, 8, 2, 5, 0, 8, 8, 9, 4, 5, 6, 9, 6, 5, 3, 0, 8, 8, 2, 3, 7, 6, 5, 8, 7, 3, 3, 8, 4, 8, 3, 2, 6, 8, 3, 9, 4, 3, 4, 7, 1, 7, 9, 1, 4, 4, 3, 1, 4, 7, 0, 6, 5, 6, 3, 7, 0, 3, 2, 7, 9, 8, 0, 7, 7, 2, 6, 7, 0, 1, 8, 0, 6, 7, 7, 4, 5, 0, 1, 2, 2, 7, 3, 7, 1, 5, 6, 1, 7, 9, 7, 1, 8, 6, 7, 3, 2, 5, 7, 6, 3, 9, 3, 2, 4, 7, 7, 5, 0, 8, 4, 6, 6, 8, 4, 9, 5, 5, 0, 5, 4, 3, 3, 7, 5, 6, 9, 9, 7, 6, 9, 6, 3, 7, 5, 7, 1, 6, 6, 1, 7, 3, 0, 7, 8, 0, 5, 8, 0, 1, 0, 7, 7, 8, 0, 0, 5, 4, 1, 7, 3, 4, 5, 3, 5, 0, 4, 1, 1, 3, 4, 8, 0, 9, 1, 5, 2, 7, 3, 6, 8, 5, 2, 0, 6, 7, 6, 8, 5, 9, 4, 4, 0, 0, 2, 0, 1, 2, 4, 0, 4, 8, 5, 2, 3, 4, 1, 8, 4, 0, 5, 2, 5, 7, 8, 5, 6, 9, 4, 9, 2, 5, 5, 4, 3, 4, 5, 4, 0, 8, 1, 7, 2, 9, 8, 0, 3, 3, 1, 9, 7, 9, 5, 0, 7, 4, 1, 9, 2, 6, 5, 1, 4, 0, 3, 2, 2, 4, 8, 9, 0, 0, 1, 4, 8, 9, 1, 7, 3, 8, 9, 5, 0, 7, 5, 9, 4, 1, 7, 5, 6, 6, 6, 2, 9, 6, 6, 6, 9, 8, 3, 4, 1, 9, 8, 9, 1, 3, 3, 3, 2, 5, 6, 7, 2, 9, 8, 5, 4, 1, 3, 5, 0, 8, 6, 8, 9, 2, 1, 9, 4, 5, 6, 6, 0, 3, 3, 3, 4, 1, 9, 4, 9, 4, 4, 8, 8, 9, 4, 8, 9, 2, 2, 2, 2, 3, 0, 7, 9, 9, 9, 5, 6, 4, 3, 2, 4, 0, 9, 6, 4, 5, 9, 2, 7, 3, 1, 7, 2, 3, 5, 4, 3, 3, 5, 9, 1, 4, 0, 4, 8, 9, 1, 5, 1, 4, 5, 4, 7, 9, 5, 5, 1, 5, 0, 4, 9, 4, 9, 3, 4, 7, 6, 5, 9, 7, 2, 1, 8, 4, 4, 4, 2, 9, 6, 6, 4, 6, 8, 5, 6, 8, 1, 7, 1, 2, 2, 0, 4, 4, 1, 3, 2, 6, 3, 9, 0, 3, 2, 0, 7, 1, 2, 0, 6, 6, 1, 4, 6, 7, 4, 1, 5, 9, 8, 3, 9, 4, 6, 5, 4, 4, 3, 8, 5, 1, 3, 5, 9, 4, 5, 1, 6, 4, 5, 3, 8, 2, 6, 8, 6, 5, 7, 9, 5, 3, 2, 9, 2, 4, 9, 6, 2, 3, 5, 0, 7, 7, 7, 6, 5, 0, 5, 6, 9, 5, 6, 3, 1, 5, 1, 5, 2, 1, 9, 9, 9, 7, 2, 2, 3, 3, 1, 1, 2, 9, 9, 0, 2, 6, 8, 1, 3, 5, 9, 1, 7, 7, 3, 1, 7, 0, 2, 2, 0, 1, 4, 0, 2, 0, 0, 5, 3, 8, 7, 1, 7, 1, 2, 6, 0, 6, 0, 9, 7, 0, 6, 2, 8, 3, 8, 0, 2, 6, 2, 6, 5, 8, 3, 4, 1, 0, 2, 9, 9, 5, 6, 3, 6, 7, 6, 4, 6, 1, 9, 0, 6, 0, 7, 4, 4, 3, 8, 5, 7, 9, 3, 6, 0, 7, 4, 1, 9, 4, 4, 0, 5, 8, 3, 0, 1, 8, 2, 4, 5, 0, 7, 3, 2, 5, 3, 5, 1, 9, 3, 5, 0, 0, 3, 6, 0, 6, 9, 8, 5, 6, 5, 2, 8, 4, 2, 7, 2, 6, 6, 2, 5, 8, 2, 0, 4, 6, 8, 9, 9, 7, 4, 8, 3, 3, 3, 3, 6, 1, 0, 5, 6, 3, 9, 7, 9, 6, 0, 2, 3, 8, 6, 4, 3, 2, 5, 8, 7, 8, 9, 2, 4, 0, 6, 3, 2, 7, 6, 9, 8, 8, 3, 3, 5, 5, 6, 7, 3, 5, 0, 3, 8, 9, 5, 6, 7, 9, 0, 9, 5, 0, 2, 2, 0, 3, 5, 4, 9, 0, 0, 1, 6, 0, 3, 4, 2, 1, 6, 4, 3, 8, 1, 2, 3, 9, 3, 8, 2, 5, 6, 5, 6, 9, 8, 4, 0, 8, 7, 7, 5, 1, 9, 7, 5, 2, 7, 1, 0]\n",
      "[9, 6, 6, 2, 4, 9, 9, 3, 3, 4, 2, 8, 0, 4, 5, 8, 4, 3, 4, 6, 5, 0, 7, 8, 4, 8, 7, 7, 7, 1, 8, 8, 1, 6, 7, 6, 0, 3, 1, 2, 8, 2, 5, 2, 6, 0, 0, 5, 6, 3, 0, 8, 9, 2, 8, 0, 0, 5, 1, 8, 3, 0, 7, 3, 6, 8, 6, 5, 4, 3, 7, 7, 3, 9, 3, 5, 6, 7, 3, 1, 1, 4, 8, 9, 2, 9, 4, 6, 6, 3, 8, 3, 4, 4, 6, 0, 2, 4, 8, 0, 9, 2, 9, 7, 7, 9, 3, 5, 8, 7, 0, 8, 4, 3, 9, 6, 2, 2, 1, 4, 6, 8, 1, 8, 7, 1, 2, 2, 8, 1, 3, 9, 1, 1, 7, 9, 2, 5, 9, 2, 8, 1, 1, 8, 7, 7, 8, 6, 5, 7, 9, 4, 5, 5, 1, 9, 6, 5, 9, 9, 4, 1, 1, 8, 4, 3, 0, 2, 9, 7, 4, 4, 9, 5, 2, 3, 0, 2, 4, 9, 7, 6, 8, 1, 2, 4, 3, 0, 7, 2, 6, 7, 0, 6, 0, 1, 3, 4, 5, 2, 0, 0, 0, 4, 9, 2, 1, 5, 7, 3, 1, 0, 5, 9, 6, 3, 6, 3, 0, 4, 2, 8, 0, 5, 1, 7, 5, 2, 8, 2, 5, 0, 8, 8, 9, 4, 5, 6, 9, 6, 5, 3, 0, 8, 8, 2, 3, 7, 6, 5, 8, 7, 3, 3, 8, 4, 8, 3, 2, 6, 8, 3, 9, 4, 3, 4, 7, 1, 7, 9, 1, 4, 4, 3, 1, 4, 7, 0, 6, 5, 6, 3, 7, 0, 3, 2, 7, 9, 8, 0, 7, 7, 2, 6, 7, 0, 1, 8, 0, 6, 7, 7, 4, 5, 0, 1, 2, 2, 7, 3, 7, 1, 5, 6, 1, 7, 9, 7, 1, 8, 6, 7, 3, 2, 5, 7, 6, 3, 9, 3, 2, 4, 7, 7, 5, 0, 8, 4, 6, 6, 8, 4, 9, 5, 5, 0, 5, 4, 3, 3, 7, 5, 6, 9, 9, 7, 6, 9, 6, 3, 7, 5, 7, 1, 6, 6, 1, 7, 3, 0, 7, 8, 0, 5, 8, 0, 1, 0, 7, 7, 8, 0, 0, 5, 4, 1, 7, 3, 4, 5, 3, 5, 0, 4, 1, 1, 3, 4, 8, 0, 9, 1, 5, 2, 7, 3, 6, 8, 5, 2, 0, 6, 7, 6, 8, 5, 9, 4, 4, 0, 0, 2, 0, 1, 2, 4, 0, 4, 8, 5, 2, 3, 4, 1, 8, 4, 0, 5, 2, 5, 7, 8, 5, 6, 9, 4, 9, 2, 5, 5, 4, 3, 4, 5, 4, 0, 8, 1, 7, 2, 9, 8, 0, 3, 3, 1, 9, 7, 9, 5, 0, 7, 4, 1, 9, 2, 6, 5, 1, 4, 0, 3, 2, 2, 4, 8, 9, 0, 0, 1, 4, 8, 9, 1, 7, 3, 8, 9, 5, 0, 7, 5, 9, 4, 1, 7, 5, 6, 6, 6, 2, 9, 6, 6, 6, 9, 8, 3, 4, 1, 9, 8, 9, 1, 3, 3, 3, 2, 5, 6, 7, 2, 9, 8, 5, 4, 1, 3, 5, 0, 8, 6, 8, 9, 2, 1, 9, 4, 5, 6, 6, 0, 3, 3, 3, 4, 1, 9, 4, 9, 4, 4, 8, 8, 9, 4, 8, 9, 2, 2, 2, 2, 3, 0, 7, 9, 9, 9, 5, 6, 4, 3, 2, 4, 0, 9, 6, 4, 5, 9, 2, 7, 3, 1, 7, 2, 3, 5, 4, 3, 3, 5, 9, 1, 4, 0, 4, 8, 9, 1, 5, 1, 4, 5, 4, 7, 9, 5, 5, 1, 5, 0, 4, 9, 4, 9, 3, 4, 7, 6, 5, 9, 7, 2, 1, 8, 4, 4, 4, 2, 9, 6, 6, 4, 6, 8, 5, 6, 8, 1, 7, 1, 2, 2, 0, 4, 4, 1, 3, 2, 6, 3, 9, 0, 3, 2, 0, 7, 1, 2, 0, 6, 6, 1, 4, 6, 7, 4, 1, 5, 9, 8, 3, 9, 4, 6, 5, 4, 4, 3, 8, 5, 1, 3, 5, 9, 4, 5, 1, 6, 4, 5, 3, 8, 2, 6, 8, 6, 5, 7, 9, 5, 3, 2, 9, 2, 4, 9, 6, 2, 3, 5, 0, 7, 7, 7, 6, 5, 0, 5, 6, 9, 5, 6, 3, 1, 5, 1, 5, 2, 1, 9, 9, 9, 7, 2, 2, 3, 3, 1, 1, 2, 9, 9, 0, 2, 6, 8, 1, 3, 5, 9, 1, 7, 7, 3, 1, 7, 0, 2, 2, 0, 1, 4, 0, 2, 0, 0, 5, 3, 8, 7, 1, 7, 1, 2, 6, 0, 6, 0, 9, 7, 0, 6, 2, 8, 3, 8, 0, 2, 6, 2, 6, 5, 8, 3, 4, 1, 0, 2, 9, 9, 5, 6, 3, 6, 7, 6, 4, 6, 1, 9, 0, 6, 0, 7, 4, 4, 3, 8, 5, 7, 9, 3, 6, 0, 7, 4, 1, 9, 4, 4, 0, 5, 8, 3, 0, 1, 8, 2, 4, 5, 0, 7, 3, 2, 5, 3, 5, 1, 9, 3, 5, 0, 0, 3, 6, 0, 6, 9, 8, 5, 6, 5, 2, 8, 4, 2, 7, 2, 6, 6, 2, 5, 8, 2, 0, 4, 6, 8, 9, 9, 7, 4, 8, 3, 3, 3, 3, 6, 1, 0, 5, 6, 3, 9, 7, 9, 6, 0, 2, 3, 8, 6, 4, 3, 2, 5, 8, 7, 8, 9, 2, 4, 0, 6, 3, 2, 7, 6, 9, 8, 8, 3, 3, 5, 5, 6, 7, 3, 5, 0, 3, 8, 9, 5, 6, 7, 9, 0, 9, 5, 0, 2, 2, 0, 3, 5, 4, 9, 0, 0, 1, 6, 0, 3, 4, 2, 1, 6, 4, 3, 8, 1, 2, 3, 9, 3, 8, 2, 5, 6, 5, 6, 9, 8, 4, 0, 8, 7, 7, 5, 1, 9, 7, 5, 2, 7, 1, 0]\n",
      "[9, 6, 6, 2, 4, 9, 9, 3, 3, 4, 2, 8, 0, 4, 5, 8, 4, 3, 4, 6, 5, 0, 7, 8, 4, 8, 7, 7, 7, 1, 8, 8, 1, 6, 7, 6, 0, 3, 1, 2, 8, 2, 5, 2, 6, 0, 0, 5, 6, 3, 0, 8, 9, 2, 8, 0, 0, 5, 1, 8, 3, 0, 7, 3, 6, 8, 6, 5, 4, 3, 7, 7, 3, 9, 3, 5, 6, 7, 3, 1, 1, 4, 8, 9, 2, 9, 4, 6, 6, 3, 8, 3, 4, 4, 6, 0, 2, 4, 8, 0, 9, 2, 9, 7, 7, 9, 3, 5, 8, 7, 0, 8, 4, 3, 9, 6, 2, 2, 1, 4, 6, 8, 1, 8, 7, 1, 2, 2, 8, 1, 3, 9, 1, 1, 7, 9, 2, 5, 9, 2, 8, 1, 1, 8, 7, 7, 8, 6, 5, 7, 9, 4, 5, 5, 1, 9, 6, 5, 9, 9, 4, 1, 1, 8, 4, 3, 0, 2, 9, 7, 4, 4, 9, 5, 2, 3, 0, 2, 4, 9, 7, 6, 8, 1, 2, 4, 3, 0, 7, 2, 6, 7, 0, 6, 0, 1, 3, 4, 5, 2, 0, 0, 0, 4, 9, 2, 1, 5, 7, 3, 1, 0, 5, 9, 6, 3, 6, 3, 0, 4, 2, 8, 0, 5, 1, 7, 5, 2, 8, 2, 5, 0, 8, 8, 9, 4, 5, 6, 9, 6, 5, 3, 0, 8, 8, 2, 3, 7, 6, 5, 8, 7, 3, 3, 8, 4, 8, 3, 2, 6, 8, 3, 9, 4, 3, 4, 7, 1, 7, 9, 1, 4, 4, 3, 1, 4, 7, 0, 6, 5, 6, 3, 7, 0, 3, 2, 7, 9, 8, 0, 7, 7, 2, 6, 7, 0, 1, 8, 0, 6, 7, 7, 4, 5, 0, 1, 2, 2, 7, 3, 7, 1, 5, 6, 1, 7, 9, 7, 1, 8, 6, 7, 3, 2, 5, 7, 6, 3, 9, 3, 2, 4, 7, 7, 5, 0, 8, 4, 6, 6, 8, 4, 9, 5, 5, 0, 5, 4, 3, 3, 7, 5, 6, 9, 9, 7, 6, 9, 6, 3, 7, 5, 7, 1, 6, 6, 1, 7, 3, 0, 7, 8, 0, 5, 8, 0, 1, 0, 7, 7, 8, 0, 0, 5, 4, 1, 7, 3, 4, 5, 3, 5, 0, 4, 1, 1, 3, 4, 8, 0, 9, 1, 5, 2, 7, 3, 6, 8, 5, 2, 0, 6, 7, 6, 8, 5, 9, 4, 4, 0, 0, 2, 0, 1, 2, 4, 0, 4, 8, 5, 2, 3, 4, 1, 8, 4, 0, 5, 2, 5, 7, 8, 5, 6, 9, 4, 9, 2, 5, 5, 4, 3, 4, 5, 4, 0, 8, 1, 7, 2, 9, 8, 0, 3, 3, 1, 9, 7, 9, 5, 0, 7, 4, 1, 9, 2, 6, 5, 1, 4, 0, 3, 2, 2, 4, 8, 9, 0, 0, 1, 4, 8, 9, 1, 7, 3, 8, 9, 5, 0, 7, 5, 9, 4, 1, 7, 5, 6, 6, 6, 2, 9, 6, 6, 6, 9, 8, 3, 4, 1, 9, 8, 9, 1, 3, 3, 3, 2, 5, 6, 7, 2, 9, 8, 5, 4, 1, 3, 5, 0, 8, 6, 8, 9, 2, 1, 9, 4, 5, 6, 6, 0, 3, 3, 3, 4, 1, 9, 4, 9, 4, 4, 8, 8, 9, 4, 8, 9, 2, 2, 2, 2, 3, 0, 7, 9, 9, 9, 5, 6, 4, 3, 2, 4, 0, 9, 6, 4, 5, 9, 2, 7, 3, 1, 7, 2, 3, 5, 4, 3, 3, 5, 9, 1, 4, 0, 4, 8, 9, 1, 5, 1, 4, 5, 4, 7, 9, 5, 5, 1, 5, 0, 4, 9, 4, 9, 3, 4, 7, 6, 5, 9, 7, 2, 1, 8, 4, 4, 4, 2, 9, 6, 6, 4, 6, 8, 5, 6, 8, 1, 7, 1, 2, 2, 0, 4, 4, 1, 3, 2, 6, 3, 9, 0, 3, 2, 0, 7, 1, 2, 0, 6, 6, 1, 4, 6, 7, 4, 1, 5, 9, 8, 3, 9, 4, 6, 5, 4, 4, 3, 8, 5, 1, 3, 5, 9, 4, 5, 1, 6, 4, 5, 3, 8, 2, 6, 8, 6, 5, 7, 9, 5, 3, 2, 9, 2, 4, 9, 6, 2, 3, 5, 0, 7, 7, 7, 6, 5, 0, 5, 6, 9, 5, 6, 3, 1, 5, 1, 5, 2, 1, 9, 9, 9, 7, 2, 2, 3, 3, 1, 1, 2, 9, 9, 0, 2, 6, 8, 1, 3, 5, 9, 1, 7, 7, 3, 1, 7, 0, 2, 2, 0, 1, 4, 0, 2, 0, 0, 5, 3, 8, 7, 1, 7, 1, 2, 6, 0, 6, 0, 9, 7, 0, 6, 2, 8, 3, 8, 0, 2, 6, 2, 6, 5, 8, 3, 4, 1, 0, 2, 9, 9, 5, 6, 3, 6, 7, 6, 4, 6, 1, 9, 0, 6, 0, 7, 4, 4, 3, 8, 5, 7, 9, 3, 6, 0, 7, 4, 1, 9, 4, 4, 0, 5, 8, 3, 0, 1, 8, 2, 4, 5, 0, 7, 3, 2, 5, 3, 5, 1, 9, 3, 5, 0, 0, 3, 6, 0, 6, 9, 8, 5, 6, 5, 2, 8, 4, 2, 7, 2, 6, 6, 2, 5, 8, 2, 0, 4, 6, 8, 9, 9, 7, 4, 8, 3, 3, 3, 3, 6, 1, 0, 5, 6, 3, 9, 7, 9, 6, 0, 2, 3, 8, 6, 4, 3, 2, 5, 8, 7, 8, 9, 2, 4, 0, 6, 3, 2, 7, 6, 9, 8, 8, 3, 3, 5, 5, 6, 7, 3, 5, 0, 3, 8, 9, 5, 6, 7, 9, 0, 9, 5, 0, 2, 2, 0, 3, 5, 4, 9, 0, 0, 1, 6, 0, 3, 4, 2, 1, 6, 4, 3, 8, 1, 2, 3, 9, 3, 8, 2, 5, 6, 5, 6, 9, 8, 4, 0, 8, 7, 7, 5, 1, 9, 7, 5, 2, 7, 1, 0]\n",
      "[9, 6, 6, 2, 4, 9, 9, 3, 3, 4, 2, 8, 0, 4, 5, 8, 4, 3, 4, 6, 5, 0, 7, 8, 4, 8, 7, 7, 7, 1, 8, 8, 1, 6, 7, 6, 0, 3, 1, 2, 8, 2, 5, 2, 6, 0, 0, 5, 6, 3, 0, 8, 9, 2, 8, 0, 0, 5, 1, 8, 3, 0, 7, 3, 6, 8, 6, 5, 4, 3, 7, 7, 3, 9, 3, 5, 6, 7, 3, 1, 1, 4, 8, 9, 2, 9, 4, 6, 6, 3, 8, 3, 4, 4, 6, 0, 2, 4, 8, 0, 9, 2, 9, 7, 7, 9, 3, 5, 8, 7, 0, 8, 4, 3, 9, 6, 2, 2, 1, 4, 6, 8, 1, 8, 7, 1, 2, 2, 8, 1, 3, 9, 1, 1, 7, 9, 2, 5, 9, 2, 8, 1, 1, 8, 7, 7, 8, 6, 5, 7, 9, 4, 5, 5, 1, 9, 6, 5, 9, 9, 4, 1, 1, 8, 4, 3, 0, 2, 9, 7, 4, 4, 9, 5, 2, 3, 0, 2, 4, 9, 7, 6, 8, 1, 2, 4, 3, 0, 7, 2, 6, 7, 0, 6, 0, 1, 3, 4, 5, 2, 0, 0, 0, 4, 9, 2, 1, 5, 7, 3, 1, 0, 5, 9, 6, 3, 6, 3, 0, 4, 2, 8, 0, 5, 1, 7, 5, 2, 8, 2, 5, 0, 8, 8, 9, 4, 5, 6, 9, 6, 5, 3, 0, 8, 8, 2, 3, 7, 6, 5, 8, 7, 3, 3, 8, 4, 8, 3, 2, 6, 8, 3, 9, 4, 3, 4, 7, 1, 7, 9, 1, 4, 4, 3, 1, 4, 7, 0, 6, 5, 6, 3, 7, 0, 3, 2, 7, 9, 8, 0, 7, 7, 2, 6, 7, 0, 1, 8, 0, 6, 7, 7, 4, 5, 0, 1, 2, 2, 7, 3, 7, 1, 5, 6, 1, 7, 9, 7, 1, 8, 6, 7, 3, 2, 5, 7, 6, 3, 9, 3, 2, 4, 7, 7, 5, 0, 8, 4, 6, 6, 8, 4, 9, 5, 5, 0, 5, 4, 3, 3, 7, 5, 6, 9, 9, 7, 6, 9, 6, 3, 7, 5, 7, 1, 6, 6, 1, 7, 3, 0, 7, 8, 0, 5, 8, 0, 1, 0, 7, 7, 8, 0, 0, 5, 4, 1, 7, 3, 4, 5, 3, 5, 0, 4, 1, 1, 3, 4, 8, 0, 9, 1, 5, 2, 7, 3, 6, 8, 5, 2, 0, 6, 7, 6, 8, 5, 9, 4, 4, 0, 0, 2, 0, 1, 2, 4, 0, 4, 8, 5, 2, 3, 4, 1, 8, 4, 0, 5, 2, 5, 7, 8, 5, 6, 9, 4, 9, 2, 5, 5, 4, 3, 4, 5, 4, 0, 8, 1, 7, 2, 9, 8, 0, 3, 3, 1, 9, 7, 9, 5, 0, 7, 4, 1, 9, 2, 6, 5, 1, 4, 0, 3, 2, 2, 4, 8, 9, 0, 0, 1, 4, 8, 9, 1, 7, 3, 8, 9, 5, 0, 7, 5, 9, 4, 1, 7, 5, 6, 6, 6, 2, 9, 6, 6, 6, 9, 8, 3, 4, 1, 9, 8, 9, 1, 3, 3, 3, 2, 5, 6, 7, 2, 9, 8, 5, 4, 1, 3, 5, 0, 8, 6, 8, 9, 2, 1, 9, 4, 5, 6, 6, 0, 3, 3, 3, 4, 1, 9, 4, 9, 4, 4, 8, 8, 9, 4, 8, 9, 2, 2, 2, 2, 3, 0, 7, 9, 9, 9, 5, 6, 4, 3, 2, 4, 0, 9, 6, 4, 5, 9, 2, 7, 3, 1, 7, 2, 3, 5, 4, 3, 3, 5, 9, 1, 4, 0, 4, 8, 9, 1, 5, 1, 4, 5, 4, 7, 9, 5, 5, 1, 5, 0, 4, 9, 4, 9, 3, 4, 7, 6, 5, 9, 7, 2, 1, 8, 4, 4, 4, 2, 9, 6, 6, 4, 6, 8, 5, 6, 8, 1, 7, 1, 2, 2, 0, 4, 4, 1, 3, 2, 6, 3, 9, 0, 3, 2, 0, 7, 1, 2, 0, 6, 6, 1, 4, 6, 7, 4, 1, 5, 9, 8, 3, 9, 4, 6, 5, 4, 4, 3, 8, 5, 1, 3, 5, 9, 4, 5, 1, 6, 4, 5, 3, 8, 2, 6, 8, 6, 5, 7, 9, 5, 3, 2, 9, 2, 4, 9, 6, 2, 3, 5, 0, 7, 7, 7, 6, 5, 0, 5, 6, 9, 5, 6, 3, 1, 5, 1, 5, 2, 1, 9, 9, 9, 7, 2, 2, 3, 3, 1, 1, 2, 9, 9, 0, 2, 6, 8, 1, 3, 5, 9, 1, 7, 7, 3, 1, 7, 0, 2, 2, 0, 1, 4, 0, 2, 0, 0, 5, 3, 8, 7, 1, 7, 1, 2, 6, 0, 6, 0, 9, 7, 0, 6, 2, 8, 3, 8, 0, 2, 6, 2, 6, 5, 8, 3, 4, 1, 0, 2, 9, 9, 5, 6, 3, 6, 7, 6, 4, 6, 1, 9, 0, 6, 0, 7, 4, 4, 3, 8, 5, 7, 9, 3, 6, 0, 7, 4, 1, 9, 4, 4, 0, 5, 8, 3, 0, 1, 8, 2, 4, 5, 0, 7, 3, 2, 5, 3, 5, 1, 9, 3, 5, 0, 0, 3, 6, 0, 6, 9, 8, 5, 6, 5, 2, 8, 4, 2, 7, 2, 6, 6, 2, 5, 8, 2, 0, 4, 6, 8, 9, 9, 7, 4, 8, 3, 3, 3, 3, 6, 1, 0, 5, 6, 3, 9, 7, 9, 6, 0, 2, 3, 8, 6, 4, 3, 2, 5, 8, 7, 8, 9, 2, 4, 0, 6, 3, 2, 7, 6, 9, 8, 8, 3, 3, 5, 5, 6, 7, 3, 5, 0, 3, 8, 9, 5, 6, 7, 9, 0, 9, 5, 0, 2, 2, 0, 3, 5, 4, 9, 0, 0, 1, 6, 0, 3, 4, 2, 1, 6, 4, 3, 8, 1, 2, 3, 9, 3, 8, 2, 5, 6, 5, 6, 9, 8, 4, 0, 8, 7, 7, 5, 1, 9, 7, 5, 2, 7, 1, 0]\n",
      "[9, 6, 6, 2, 4, 9, 9, 3, 3, 4, 2, 8, 0, 4, 5, 8, 4, 3, 4, 6, 5, 0, 7, 8, 4, 8, 7, 7, 7, 1, 8, 8, 1, 6, 7, 6, 0, 3, 1, 2, 8, 2, 5, 2, 6, 0, 0, 5, 6, 3, 0, 8, 9, 2, 8, 0, 0, 5, 1, 8, 3, 0, 7, 3, 6, 8, 6, 5, 4, 3, 7, 7, 3, 9, 3, 5, 6, 7, 3, 1, 1, 4, 8, 9, 2, 9, 4, 6, 6, 3, 8, 3, 4, 4, 6, 0, 2, 4, 8, 0, 9, 2, 9, 7, 7, 9, 3, 5, 8, 7, 0, 8, 4, 3, 9, 6, 2, 2, 1, 4, 6, 8, 1, 8, 7, 1, 2, 2, 8, 1, 3, 9, 1, 1, 7, 9, 2, 5, 9, 2, 8, 1, 1, 8, 7, 7, 8, 6, 5, 7, 9, 4, 5, 5, 1, 9, 6, 5, 9, 9, 4, 1, 1, 8, 4, 3, 0, 2, 9, 7, 4, 4, 9, 5, 2, 3, 0, 2, 4, 9, 7, 6, 8, 1, 2, 4, 3, 0, 7, 2, 6, 7, 0, 6, 0, 1, 3, 4, 5, 2, 0, 0, 0, 4, 9, 2, 1, 5, 7, 3, 1, 0, 5, 9, 6, 3, 6, 3, 0, 4, 2, 8, 0, 5, 1, 7, 5, 2, 8, 2, 5, 0, 8, 8, 9, 4, 5, 6, 9, 6, 5, 3, 0, 8, 8, 2, 3, 7, 6, 5, 8, 7, 3, 3, 8, 4, 8, 3, 2, 6, 8, 3, 9, 4, 3, 4, 7, 1, 7, 9, 1, 4, 4, 3, 1, 4, 7, 0, 6, 5, 6, 3, 7, 0, 3, 2, 7, 9, 8, 0, 7, 7, 2, 6, 7, 0, 1, 8, 0, 6, 7, 7, 4, 5, 0, 1, 2, 2, 7, 3, 7, 1, 5, 6, 1, 7, 9, 7, 1, 8, 6, 7, 3, 2, 5, 7, 6, 3, 9, 3, 2, 4, 7, 7, 5, 0, 8, 4, 6, 6, 8, 4, 9, 5, 5, 0, 5, 4, 3, 3, 7, 5, 6, 9, 9, 7, 6, 9, 6, 3, 7, 5, 7, 1, 6, 6, 1, 7, 3, 0, 7, 8, 0, 5, 8, 0, 1, 0, 7, 7, 8, 0, 0, 5, 4, 1, 7, 3, 4, 5, 3, 5, 0, 4, 1, 1, 3, 4, 8, 0, 9, 1, 5, 2, 7, 3, 6, 8, 5, 2, 0, 6, 7, 6, 8, 5, 9, 4, 4, 0, 0, 2, 0, 1, 2, 4, 0, 4, 8, 5, 2, 3, 4, 1, 8, 4, 0, 5, 2, 5, 7, 8, 5, 6, 9, 4, 9, 2, 5, 5, 4, 3, 4, 5, 4, 0, 8, 1, 7, 2, 9, 8, 0, 3, 3, 1, 9, 7, 9, 5, 0, 7, 4, 1, 9, 2, 6, 5, 1, 4, 0, 3, 2, 2, 4, 8, 9, 0, 0, 1, 4, 8, 9, 1, 7, 3, 8, 9, 5, 0, 7, 5, 9, 4, 1, 7, 5, 6, 6, 6, 2, 9, 6, 6, 6, 9, 8, 3, 4, 1, 9, 8, 9, 1, 3, 3, 3, 2, 5, 6, 7, 2, 9, 8, 5, 4, 1, 3, 5, 0, 8, 6, 8, 9, 2, 1, 9, 4, 5, 6, 6, 0, 3, 3, 3, 4, 1, 9, 4, 9, 4, 4, 8, 8, 9, 4, 8, 9, 2, 2, 2, 2, 3, 0, 7, 9, 9, 9, 5, 6, 4, 3, 2, 4, 0, 9, 6, 4, 5, 9, 2, 7, 3, 1, 7, 2, 3, 5, 4, 3, 3, 5, 9, 1, 4, 0, 4, 8, 9, 1, 5, 1, 4, 5, 4, 7, 9, 5, 5, 1, 5, 0, 4, 9, 4, 9, 3, 4, 7, 6, 5, 9, 7, 2, 1, 8, 4, 4, 4, 2, 9, 6, 6, 4, 6, 8, 5, 6, 8, 1, 7, 1, 2, 2, 0, 4, 4, 1, 3, 2, 6, 3, 9, 0, 3, 2, 0, 7, 1, 2, 0, 6, 6, 1, 4, 6, 7, 4, 1, 5, 9, 8, 3, 9, 4, 6, 5, 4, 4, 3, 8, 5, 1, 3, 5, 9, 4, 5, 1, 6, 4, 5, 3, 8, 2, 6, 8, 6, 5, 7, 9, 5, 3, 2, 9, 2, 4, 9, 6, 2, 3, 5, 0, 7, 7, 7, 6, 5, 0, 5, 6, 9, 5, 6, 3, 1, 5, 1, 5, 2, 1, 9, 9, 9, 7, 2, 2, 3, 3, 1, 1, 2, 9, 9, 0, 2, 6, 8, 1, 3, 5, 9, 1, 7, 7, 3, 1, 7, 0, 2, 2, 0, 1, 4, 0, 2, 0, 0, 5, 3, 8, 7, 1, 7, 1, 2, 6, 0, 6, 0, 9, 7, 0, 6, 2, 8, 3, 8, 0, 2, 6, 2, 6, 5, 8, 3, 4, 1, 0, 2, 9, 9, 5, 6, 3, 6, 7, 6, 4, 6, 1, 9, 0, 6, 0, 7, 4, 4, 3, 8, 5, 7, 9, 3, 6, 0, 7, 4, 1, 9, 4, 4, 0, 5, 8, 3, 0, 1, 8, 2, 4, 5, 0, 7, 3, 2, 5, 3, 5, 1, 9, 3, 5, 0, 0, 3, 6, 0, 6, 9, 8, 5, 6, 5, 2, 8, 4, 2, 7, 2, 6, 6, 2, 5, 8, 2, 0, 4, 6, 8, 9, 9, 7, 4, 8, 3, 3, 3, 3, 6, 1, 0, 5, 6, 3, 9, 7, 9, 6, 0, 2, 3, 8, 6, 4, 3, 2, 5, 8, 7, 8, 9, 2, 4, 0, 6, 3, 2, 7, 6, 9, 8, 8, 3, 3, 5, 5, 6, 7, 3, 5, 0, 3, 8, 9, 5, 6, 7, 9, 0, 9, 5, 0, 2, 2, 0, 3, 5, 4, 9, 0, 0, 1, 6, 0, 3, 4, 2, 1, 6, 4, 3, 8, 1, 2, 3, 9, 3, 8, 2, 5, 6, 5, 6, 9, 8, 4, 0, 8, 7, 7, 5, 1, 9, 7, 5, 2, 7, 1, 0]\n",
      "[9, 6, 6, 2, 4, 9, 9, 3, 3, 4, 2, 8, 0, 4, 5, 8, 4, 3, 4, 6, 5, 0, 7, 8, 4, 8, 7, 7, 7, 1, 8, 8, 1, 6, 7, 6, 0, 3, 1, 2, 8, 2, 5, 2, 6, 0, 0, 5, 6, 3, 0, 8, 9, 2, 8, 0, 0, 5, 1, 8, 3, 0, 7, 3, 6, 8, 6, 5, 4, 3, 7, 7, 3, 9, 3, 5, 6, 7, 3, 1, 1, 4, 8, 9, 2, 9, 4, 6, 6, 3, 8, 3, 4, 4, 6, 0, 2, 4, 8, 0, 9, 2, 9, 7, 7, 9, 3, 5, 8, 7, 0, 8, 4, 3, 9, 6, 2, 2, 1, 4, 6, 8, 1, 8, 7, 1, 2, 2, 8, 1, 3, 9, 1, 1, 7, 9, 2, 5, 9, 2, 8, 1, 1, 8, 7, 7, 8, 6, 5, 7, 9, 4, 5, 5, 1, 9, 6, 5, 9, 9, 4, 1, 1, 8, 4, 3, 0, 2, 9, 7, 4, 4, 9, 5, 2, 3, 0, 2, 4, 9, 7, 6, 8, 1, 2, 4, 3, 0, 7, 2, 6, 7, 0, 6, 0, 1, 3, 4, 5, 2, 0, 0, 0, 4, 9, 2, 1, 5, 7, 3, 1, 0, 5, 9, 6, 3, 6, 3, 0, 4, 2, 8, 0, 5, 1, 7, 5, 2, 8, 2, 5, 0, 8, 8, 9, 4, 5, 6, 9, 6, 5, 3, 0, 8, 8, 2, 3, 7, 6, 5, 8, 7, 3, 3, 8, 4, 8, 3, 2, 6, 8, 3, 9, 4, 3, 4, 7, 1, 7, 9, 1, 4, 4, 3, 1, 4, 7, 0, 6, 5, 6, 3, 7, 0, 3, 2, 7, 9, 8, 0, 7, 7, 2, 6, 7, 0, 1, 8, 0, 6, 7, 7, 4, 5, 0, 1, 2, 2, 7, 3, 7, 1, 5, 6, 1, 7, 9, 7, 1, 8, 6, 7, 3, 2, 5, 7, 6, 3, 9, 3, 2, 4, 7, 7, 5, 0, 8, 4, 6, 6, 8, 4, 9, 5, 5, 0, 5, 4, 3, 3, 7, 5, 6, 9, 9, 7, 6, 9, 6, 3, 7, 5, 7, 1, 6, 6, 1, 7, 3, 0, 7, 8, 0, 5, 8, 0, 1, 0, 7, 7, 8, 0, 0, 5, 4, 1, 7, 3, 4, 5, 3, 5, 0, 4, 1, 1, 3, 4, 8, 0, 9, 1, 5, 2, 7, 3, 6, 8, 5, 2, 0, 6, 7, 6, 8, 5, 9, 4, 4, 0, 0, 2, 0, 1, 2, 4, 0, 4, 8, 5, 2, 3, 4, 1, 8, 4, 0, 5, 2, 5, 7, 8, 5, 6, 9, 4, 9, 2, 5, 5, 4, 3, 4, 5, 4, 0, 8, 1, 7, 2, 9, 8, 0, 3, 3, 1, 9, 7, 9, 5, 0, 7, 4, 1, 9, 2, 6, 5, 1, 4, 0, 3, 2, 2, 4, 8, 9, 0, 0, 1, 4, 8, 9, 1, 7, 3, 8, 9, 5, 0, 7, 5, 9, 4, 1, 7, 5, 6, 6, 6, 2, 9, 6, 6, 6, 9, 8, 3, 4, 1, 9, 8, 9, 1, 3, 3, 3, 2, 5, 6, 7, 2, 9, 8, 5, 4, 1, 3, 5, 0, 8, 6, 8, 9, 2, 1, 9, 4, 5, 6, 6, 0, 3, 3, 3, 4, 1, 9, 4, 9, 4, 4, 8, 8, 9, 4, 8, 9, 2, 2, 2, 2, 3, 0, 7, 9, 9, 9, 5, 6, 4, 3, 2, 4, 0, 9, 6, 4, 5, 9, 2, 7, 3, 1, 7, 2, 3, 5, 4, 3, 3, 5, 9, 1, 4, 0, 4, 8, 9, 1, 5, 1, 4, 5, 4, 7, 9, 5, 5, 1, 5, 0, 4, 9, 4, 9, 3, 4, 7, 6, 5, 9, 7, 2, 1, 8, 4, 4, 4, 2, 9, 6, 6, 4, 6, 8, 5, 6, 8, 1, 7, 1, 2, 2, 0, 4, 4, 1, 3, 2, 6, 3, 9, 0, 3, 2, 0, 7, 1, 2, 0, 6, 6, 1, 4, 6, 7, 4, 1, 5, 9, 8, 3, 9, 4, 6, 5, 4, 4, 3, 8, 5, 1, 3, 5, 9, 4, 5, 1, 6, 4, 5, 3, 8, 2, 6, 8, 6, 5, 7, 9, 5, 3, 2, 9, 2, 4, 9, 6, 2, 3, 5, 0, 7, 7, 7, 6, 5, 0, 5, 6, 9, 5, 6, 3, 1, 5, 1, 5, 2, 1, 9, 9, 9, 7, 2, 2, 3, 3, 1, 1, 2, 9, 9, 0, 2, 6, 8, 1, 3, 5, 9, 1, 7, 7, 3, 1, 7, 0, 2, 2, 0, 1, 4, 0, 2, 0, 0, 5, 3, 8, 7, 1, 7, 1, 2, 6, 0, 6, 0, 9, 7, 0, 6, 2, 8, 3, 8, 0, 2, 6, 2, 6, 5, 8, 3, 4, 1, 0, 2, 9, 9, 5, 6, 3, 6, 7, 6, 4, 6, 1, 9, 0, 6, 0, 7, 4, 4, 3, 8, 5, 7, 9, 3, 6, 0, 7, 4, 1, 9, 4, 4, 0, 5, 8, 3, 0, 1, 8, 2, 4, 5, 0, 7, 3, 2, 5, 3, 5, 1, 9, 3, 5, 0, 0, 3, 6, 0, 6, 9, 8, 5, 6, 5, 2, 8, 4, 2, 7, 2, 6, 6, 2, 5, 8, 2, 0, 4, 6, 8, 9, 9, 7, 4, 8, 3, 3, 3, 3, 6, 1, 0, 5, 6, 3, 9, 7, 9, 6, 0, 2, 3, 8, 6, 4, 3, 2, 5, 8, 7, 8, 9, 2, 4, 0, 6, 3, 2, 7, 6, 9, 8, 8, 3, 3, 5, 5, 6, 7, 3, 5, 0, 3, 8, 9, 5, 6, 7, 9, 0, 9, 5, 0, 2, 2, 0, 3, 5, 4, 9, 0, 0, 1, 6, 0, 3, 4, 2, 1, 6, 4, 3, 8, 1, 2, 3, 9, 3, 8, 2, 5, 6, 5, 6, 9, 8, 4, 0, 8, 7, 7, 5, 1, 9, 7, 5, 2, 7, 1, 0]\n",
      "[9, 6, 6, 2, 4, 9, 9, 3, 3, 4, 2, 8, 0, 4, 5, 8, 4, 3, 4, 6, 5, 0, 7, 8, 4, 8, 7, 7, 7, 1, 8, 8, 1, 6, 7, 6, 0, 3, 1, 2, 8, 2, 5, 2, 6, 0, 0, 5, 6, 3, 0, 8, 9, 2, 8, 0, 0, 5, 1, 8, 3, 0, 7, 3, 6, 8, 6, 5, 4, 3, 7, 7, 3, 9, 3, 5, 6, 7, 3, 1, 1, 4, 8, 9, 2, 9, 4, 6, 6, 3, 8, 3, 4, 4, 6, 0, 2, 4, 8, 0, 9, 2, 9, 7, 7, 9, 3, 5, 8, 7, 0, 8, 4, 3, 9, 6, 2, 2, 1, 4, 6, 8, 1, 8, 7, 1, 2, 2, 8, 1, 3, 9, 1, 1, 7, 9, 2, 5, 9, 2, 8, 1, 1, 8, 7, 7, 8, 6, 5, 7, 9, 4, 5, 5, 1, 9, 6, 5, 9, 9, 4, 1, 1, 8, 4, 3, 0, 2, 9, 7, 4, 4, 9, 5, 2, 3, 0, 2, 4, 9, 7, 6, 8, 1, 2, 4, 3, 0, 7, 2, 6, 7, 0, 6, 0, 1, 3, 4, 5, 2, 0, 0, 0, 4, 9, 2, 1, 5, 7, 3, 1, 0, 5, 9, 6, 3, 6, 3, 0, 4, 2, 8, 0, 5, 1, 7, 5, 2, 8, 2, 5, 0, 8, 8, 9, 4, 5, 6, 9, 6, 5, 3, 0, 8, 8, 2, 3, 7, 6, 5, 8, 7, 3, 3, 8, 4, 8, 3, 2, 6, 8, 3, 9, 4, 3, 4, 7, 1, 7, 9, 1, 4, 4, 3, 1, 4, 7, 0, 6, 5, 6, 3, 7, 0, 3, 2, 7, 9, 8, 0, 7, 7, 2, 6, 7, 0, 1, 8, 0, 6, 7, 7, 4, 5, 0, 1, 2, 2, 7, 3, 7, 1, 5, 6, 1, 7, 9, 7, 1, 8, 6, 7, 3, 2, 5, 7, 6, 3, 9, 3, 2, 4, 7, 7, 5, 0, 8, 4, 6, 6, 8, 4, 9, 5, 5, 0, 5, 4, 3, 3, 7, 5, 6, 9, 9, 7, 6, 9, 6, 3, 7, 5, 7, 1, 6, 6, 1, 7, 3, 0, 7, 8, 0, 5, 8, 0, 1, 0, 7, 7, 8, 0, 0, 5, 4, 1, 7, 3, 4, 5, 3, 5, 0, 4, 1, 1, 3, 4, 8, 0, 9, 1, 5, 2, 7, 3, 6, 8, 5, 2, 0, 6, 7, 6, 8, 5, 9, 4, 4, 0, 0, 2, 0, 1, 2, 4, 0, 4, 8, 5, 2, 3, 4, 1, 8, 4, 0, 5, 2, 5, 7, 8, 5, 6, 9, 4, 9, 2, 5, 5, 4, 3, 4, 5, 4, 0, 8, 1, 7, 2, 9, 8, 0, 3, 3, 1, 9, 7, 9, 5, 0, 7, 4, 1, 9, 2, 6, 5, 1, 4, 0, 3, 2, 2, 4, 8, 9, 0, 0, 1, 4, 8, 9, 1, 7, 3, 8, 9, 5, 0, 7, 5, 9, 4, 1, 7, 5, 6, 6, 6, 2, 9, 6, 6, 6, 9, 8, 3, 4, 1, 9, 8, 9, 1, 3, 3, 3, 2, 5, 6, 7, 2, 9, 8, 5, 4, 1, 3, 5, 0, 8, 6, 8, 9, 2, 1, 9, 4, 5, 6, 6, 0, 3, 3, 3, 4, 1, 9, 4, 9, 4, 4, 8, 8, 9, 4, 8, 9, 2, 2, 2, 2, 3, 0, 7, 9, 9, 9, 5, 6, 4, 3, 2, 4, 0, 9, 6, 4, 5, 9, 2, 7, 3, 1, 7, 2, 3, 5, 4, 3, 3, 5, 9, 1, 4, 0, 4, 8, 9, 1, 5, 1, 4, 5, 4, 7, 9, 5, 5, 1, 5, 0, 4, 9, 4, 9, 3, 4, 7, 6, 5, 9, 7, 2, 1, 8, 4, 4, 4, 2, 9, 6, 6, 4, 6, 8, 5, 6, 8, 1, 7, 1, 2, 2, 0, 4, 4, 1, 3, 2, 6, 3, 9, 0, 3, 2, 0, 7, 1, 2, 0, 6, 6, 1, 4, 6, 7, 4, 1, 5, 9, 8, 3, 9, 4, 6, 5, 4, 4, 3, 8, 5, 1, 3, 5, 9, 4, 5, 1, 6, 4, 5, 3, 8, 2, 6, 8, 6, 5, 7, 9, 5, 3, 2, 9, 2, 4, 9, 6, 2, 3, 5, 0, 7, 7, 7, 6, 5, 0, 5, 6, 9, 5, 6, 3, 1, 5, 1, 5, 2, 1, 9, 9, 9, 7, 2, 2, 3, 3, 1, 1, 2, 9, 9, 0, 2, 6, 8, 1, 3, 5, 9, 1, 7, 7, 3, 1, 7, 0, 2, 2, 0, 1, 4, 0, 2, 0, 0, 5, 3, 8, 7, 1, 7, 1, 2, 6, 0, 6, 0, 9, 7, 0, 6, 2, 8, 3, 8, 0, 2, 6, 2, 6, 5, 8, 3, 4, 1, 0, 2, 9, 9, 5, 6, 3, 6, 7, 6, 4, 6, 1, 9, 0, 6, 0, 7, 4, 4, 3, 8, 5, 7, 9, 3, 6, 0, 7, 4, 1, 9, 4, 4, 0, 5, 8, 3, 0, 1, 8, 2, 4, 5, 0, 7, 3, 2, 5, 3, 5, 1, 9, 3, 5, 0, 0, 3, 6, 0, 6, 9, 8, 5, 6, 5, 2, 8, 4, 2, 7, 2, 6, 6, 2, 5, 8, 2, 0, 4, 6, 8, 9, 9, 7, 4, 8, 3, 3, 3, 3, 6, 1, 0, 5, 6, 3, 9, 7, 9, 6, 0, 2, 3, 8, 6, 4, 3, 2, 5, 8, 7, 8, 9, 2, 4, 0, 6, 3, 2, 7, 6, 9, 8, 8, 3, 3, 5, 5, 6, 7, 3, 5, 0, 3, 8, 9, 5, 6, 7, 9, 0, 9, 5, 0, 2, 2, 0, 3, 5, 4, 9, 0, 0, 1, 6, 0, 3, 4, 2, 1, 6, 4, 3, 8, 1, 2, 3, 9, 3, 8, 2, 5, 6, 5, 6, 9, 8, 4, 0, 8, 7, 7, 5, 1, 9, 7, 5, 2, 7, 1, 0]\n",
      "[9, 6, 6, 2, 4, 9, 9, 3, 3, 4, 2, 8, 0, 4, 5, 8, 4, 3, 4, 6, 5, 0, 7, 8, 4, 8, 7, 7, 7, 1, 8, 8, 1, 6, 7, 6, 0, 3, 1, 2, 8, 2, 5, 2, 6, 0, 0, 5, 6, 3, 0, 8, 9, 2, 8, 0, 0, 5, 1, 8, 3, 0, 7, 3, 6, 8, 6, 5, 4, 3, 7, 7, 3, 9, 3, 5, 6, 7, 3, 1, 1, 4, 8, 9, 2, 9, 4, 6, 6, 3, 8, 3, 4, 4, 6, 0, 2, 4, 8, 0, 9, 2, 9, 7, 7, 9, 3, 5, 8, 7, 0, 8, 4, 3, 9, 6, 2, 2, 1, 4, 6, 8, 1, 8, 7, 1, 2, 2, 8, 1, 3, 9, 1, 1, 7, 9, 2, 5, 9, 2, 8, 1, 1, 8, 7, 7, 8, 6, 5, 7, 9, 4, 5, 5, 1, 9, 6, 5, 9, 9, 4, 1, 1, 8, 4, 3, 0, 2, 9, 7, 4, 4, 9, 5, 2, 3, 0, 2, 4, 9, 7, 6, 8, 1, 2, 4, 3, 0, 7, 2, 6, 7, 0, 6, 0, 1, 3, 4, 5, 2, 0, 0, 0, 4, 9, 2, 1, 5, 7, 3, 1, 0, 5, 9, 6, 3, 6, 3, 0, 4, 2, 8, 0, 5, 1, 7, 5, 2, 8, 2, 5, 0, 8, 8, 9, 4, 5, 6, 9, 6, 5, 3, 0, 8, 8, 2, 3, 7, 6, 5, 8, 7, 3, 3, 8, 4, 8, 3, 2, 6, 8, 3, 9, 4, 3, 4, 7, 1, 7, 9, 1, 4, 4, 3, 1, 4, 7, 0, 6, 5, 6, 3, 7, 0, 3, 2, 7, 9, 8, 0, 7, 7, 2, 6, 7, 0, 1, 8, 0, 6, 7, 7, 4, 5, 0, 1, 2, 2, 7, 3, 7, 1, 5, 6, 1, 7, 9, 7, 1, 8, 6, 7, 3, 2, 5, 7, 6, 3, 9, 3, 2, 4, 7, 7, 5, 0, 8, 4, 6, 6, 8, 4, 9, 5, 5, 0, 5, 4, 3, 3, 7, 5, 6, 9, 9, 7, 6, 9, 6, 3, 7, 5, 7, 1, 6, 6, 1, 7, 3, 0, 7, 8, 0, 5, 8, 0, 1, 0, 7, 7, 8, 0, 0, 5, 4, 1, 7, 3, 4, 5, 3, 5, 0, 4, 1, 1, 3, 4, 8, 0, 9, 1, 5, 2, 7, 3, 6, 8, 5, 2, 0, 6, 7, 6, 8, 5, 9, 4, 4, 0, 0, 2, 0, 1, 2, 4, 0, 4, 8, 5, 2, 3, 4, 1, 8, 4, 0, 5, 2, 5, 7, 8, 5, 6, 9, 4, 9, 2, 5, 5, 4, 3, 4, 5, 4, 0, 8, 1, 7, 2, 9, 8, 0, 3, 3, 1, 9, 7, 9, 5, 0, 7, 4, 1, 9, 2, 6, 5, 1, 4, 0, 3, 2, 2, 4, 8, 9, 0, 0, 1, 4, 8, 9, 1, 7, 3, 8, 9, 5, 0, 7, 5, 9, 4, 1, 7, 5, 6, 6, 6, 2, 9, 6, 6, 6, 9, 8, 3, 4, 1, 9, 8, 9, 1, 3, 3, 3, 2, 5, 6, 7, 2, 9, 8, 5, 4, 1, 3, 5, 0, 8, 6, 8, 9, 2, 1, 9, 4, 5, 6, 6, 0, 3, 3, 3, 4, 1, 9, 4, 9, 4, 4, 8, 8, 9, 4, 8, 9, 2, 2, 2, 2, 3, 0, 7, 9, 9, 9, 5, 6, 4, 3, 2, 4, 0, 9, 6, 4, 5, 9, 2, 7, 3, 1, 7, 2, 3, 5, 4, 3, 3, 5, 9, 1, 4, 0, 4, 8, 9, 1, 5, 1, 4, 5, 4, 7, 9, 5, 5, 1, 5, 0, 4, 9, 4, 9, 3, 4, 7, 6, 5, 9, 7, 2, 1, 8, 4, 4, 4, 2, 9, 6, 6, 4, 6, 8, 5, 6, 8, 1, 7, 1, 2, 2, 0, 4, 4, 1, 3, 2, 6, 3, 9, 0, 3, 2, 0, 7, 1, 2, 0, 6, 6, 1, 4, 6, 7, 4, 1, 5, 9, 8, 3, 9, 4, 6, 5, 4, 4, 3, 8, 5, 1, 3, 5, 9, 4, 5, 1, 6, 4, 5, 3, 8, 2, 6, 8, 6, 5, 7, 9, 5, 3, 2, 9, 2, 4, 9, 6, 2, 3, 5, 0, 7, 7, 7, 6, 5, 0, 5, 6, 9, 5, 6, 3, 1, 5, 1, 5, 2, 1, 9, 9, 9, 7, 2, 2, 3, 3, 1, 1, 2, 9, 9, 0, 2, 6, 8, 1, 3, 5, 9, 1, 7, 7, 3, 1, 7, 0, 2, 2, 0, 1, 4, 0, 2, 0, 0, 5, 3, 8, 7, 1, 7, 1, 2, 6, 0, 6, 0, 9, 7, 0, 6, 2, 8, 3, 8, 0, 2, 6, 2, 6, 5, 8, 3, 4, 1, 0, 2, 9, 9, 5, 6, 3, 6, 7, 6, 4, 6, 1, 9, 0, 6, 0, 7, 4, 4, 3, 8, 5, 7, 9, 3, 6, 0, 7, 4, 1, 9, 4, 4, 0, 5, 8, 3, 0, 1, 8, 2, 4, 5, 0, 7, 3, 2, 5, 3, 5, 1, 9, 3, 5, 0, 0, 3, 6, 0, 6, 9, 8, 5, 6, 5, 2, 8, 4, 2, 7, 2, 6, 6, 2, 5, 8, 2, 0, 4, 6, 8, 9, 9, 7, 4, 8, 3, 3, 3, 3, 6, 1, 0, 5, 6, 3, 9, 7, 9, 6, 0, 2, 3, 8, 6, 4, 3, 2, 5, 8, 7, 8, 9, 2, 4, 0, 6, 3, 2, 7, 6, 9, 8, 8, 3, 3, 5, 5, 6, 7, 3, 5, 0, 3, 8, 9, 5, 6, 7, 9, 0, 9, 5, 0, 2, 2, 0, 3, 5, 4, 9, 0, 0, 1, 6, 0, 3, 4, 2, 1, 6, 4, 3, 8, 1, 2, 3, 9, 3, 8, 2, 5, 6, 5, 6, 9, 8, 4, 0, 8, 7, 7, 5, 1, 9, 7, 5, 2, 7, 1, 0]\n",
      "[9, 6, 6, 2, 4, 9, 9, 3, 3, 4, 2, 8, 0, 4, 5, 8, 4, 3, 4, 6, 5, 0, 7, 8, 4, 8, 7, 7, 7, 1, 8, 8, 1, 6, 7, 6, 0, 3, 1, 2, 8, 2, 5, 2, 6, 0, 0, 5, 6, 3, 0, 8, 9, 2, 8, 0, 0, 5, 1, 8, 3, 0, 7, 3, 6, 8, 6, 5, 4, 3, 7, 7, 3, 9, 3, 5, 6, 7, 3, 1, 1, 4, 8, 9, 2, 9, 4, 6, 6, 3, 8, 3, 4, 4, 6, 0, 2, 4, 8, 0, 9, 2, 9, 7, 7, 9, 3, 5, 8, 7, 0, 8, 4, 3, 9, 6, 2, 2, 1, 4, 6, 8, 1, 8, 7, 1, 2, 2, 8, 1, 3, 9, 1, 1, 7, 9, 2, 5, 9, 2, 8, 1, 1, 8, 7, 7, 8, 6, 5, 7, 9, 4, 5, 5, 1, 9, 6, 5, 9, 9, 4, 1, 1, 8, 4, 3, 0, 2, 9, 7, 4, 4, 9, 5, 2, 3, 0, 2, 4, 9, 7, 6, 8, 1, 2, 4, 3, 0, 7, 2, 6, 7, 0, 6, 0, 1, 3, 4, 5, 2, 0, 0, 0, 4, 9, 2, 1, 5, 7, 3, 1, 0, 5, 9, 6, 3, 6, 3, 0, 4, 2, 8, 0, 5, 1, 7, 5, 2, 8, 2, 5, 0, 8, 8, 9, 4, 5, 6, 9, 6, 5, 3, 0, 8, 8, 2, 3, 7, 6, 5, 8, 7, 3, 3, 8, 4, 8, 3, 2, 6, 8, 3, 9, 4, 3, 4, 7, 1, 7, 9, 1, 4, 4, 3, 1, 4, 7, 0, 6, 5, 6, 3, 7, 0, 3, 2, 7, 9, 8, 0, 7, 7, 2, 6, 7, 0, 1, 8, 0, 6, 7, 7, 4, 5, 0, 1, 2, 2, 7, 3, 7, 1, 5, 6, 1, 7, 9, 7, 1, 8, 6, 7, 3, 2, 5, 7, 6, 3, 9, 3, 2, 4, 7, 7, 5, 0, 8, 4, 6, 6, 8, 4, 9, 5, 5, 0, 5, 4, 3, 3, 7, 5, 6, 9, 9, 7, 6, 9, 6, 3, 7, 5, 7, 1, 6, 6, 1, 7, 3, 0, 7, 8, 0, 5, 8, 0, 1, 0, 7, 7, 8, 0, 0, 5, 4, 1, 7, 3, 4, 5, 3, 5, 0, 4, 1, 1, 3, 4, 8, 0, 9, 1, 5, 2, 7, 3, 6, 8, 5, 2, 0, 6, 7, 6, 8, 5, 9, 4, 4, 0, 0, 2, 0, 1, 2, 4, 0, 4, 8, 5, 2, 3, 4, 1, 8, 4, 0, 5, 2, 5, 7, 8, 5, 6, 9, 4, 9, 2, 5, 5, 4, 3, 4, 5, 4, 0, 8, 1, 7, 2, 9, 8, 0, 3, 3, 1, 9, 7, 9, 5, 0, 7, 4, 1, 9, 2, 6, 5, 1, 4, 0, 3, 2, 2, 4, 8, 9, 0, 0, 1, 4, 8, 9, 1, 7, 3, 8, 9, 5, 0, 7, 5, 9, 4, 1, 7, 5, 6, 6, 6, 2, 9, 6, 6, 6, 9, 8, 3, 4, 1, 9, 8, 9, 1, 3, 3, 3, 2, 5, 6, 7, 2, 9, 8, 5, 4, 1, 3, 5, 0, 8, 6, 8, 9, 2, 1, 9, 4, 5, 6, 6, 0, 3, 3, 3, 4, 1, 9, 4, 9, 4, 4, 8, 8, 9, 4, 8, 9, 2, 2, 2, 2, 3, 0, 7, 9, 9, 9, 5, 6, 4, 3, 2, 4, 0, 9, 6, 4, 5, 9, 2, 7, 3, 1, 7, 2, 3, 5, 4, 3, 3, 5, 9, 1, 4, 0, 4, 8, 9, 1, 5, 1, 4, 5, 4, 7, 9, 5, 5, 1, 5, 0, 4, 9, 4, 9, 3, 4, 7, 6, 5, 9, 7, 2, 1, 8, 4, 4, 4, 2, 9, 6, 6, 4, 6, 8, 5, 6, 8, 1, 7, 1, 2, 2, 0, 4, 4, 1, 3, 2, 6, 3, 9, 0, 3, 2, 0, 7, 1, 2, 0, 6, 6, 1, 4, 6, 7, 4, 1, 5, 9, 8, 3, 9, 4, 6, 5, 4, 4, 3, 8, 5, 1, 3, 5, 9, 4, 5, 1, 6, 4, 5, 3, 8, 2, 6, 8, 6, 5, 7, 9, 5, 3, 2, 9, 2, 4, 9, 6, 2, 3, 5, 0, 7, 7, 7, 6, 5, 0, 5, 6, 9, 5, 6, 3, 1, 5, 1, 5, 2, 1, 9, 9, 9, 7, 2, 2, 3, 3, 1, 1, 2, 9, 9, 0, 2, 6, 8, 1, 3, 5, 9, 1, 7, 7, 3, 1, 7, 0, 2, 2, 0, 1, 4, 0, 2, 0, 0, 5, 3, 8, 7, 1, 7, 1, 2, 6, 0, 6, 0, 9, 7, 0, 6, 2, 8, 3, 8, 0, 2, 6, 2, 6, 5, 8, 3, 4, 1, 0, 2, 9, 9, 5, 6, 3, 6, 7, 6, 4, 6, 1, 9, 0, 6, 0, 7, 4, 4, 3, 8, 5, 7, 9, 3, 6, 0, 7, 4, 1, 9, 4, 4, 0, 5, 8, 3, 0, 1, 8, 2, 4, 5, 0, 7, 3, 2, 5, 3, 5, 1, 9, 3, 5, 0, 0, 3, 6, 0, 6, 9, 8, 5, 6, 5, 2, 8, 4, 2, 7, 2, 6, 6, 2, 5, 8, 2, 0, 4, 6, 8, 9, 9, 7, 4, 8, 3, 3, 3, 3, 6, 1, 0, 5, 6, 3, 9, 7, 9, 6, 0, 2, 3, 8, 6, 4, 3, 2, 5, 8, 7, 8, 9, 2, 4, 0, 6, 3, 2, 7, 6, 9, 8, 8, 3, 3, 5, 5, 6, 7, 3, 5, 0, 3, 8, 9, 5, 6, 7, 9, 0, 9, 5, 0, 2, 2, 0, 3, 5, 4, 9, 0, 0, 1, 6, 0, 3, 4, 2, 1, 6, 4, 3, 8, 1, 2, 3, 9, 3, 8, 2, 5, 6, 5, 6, 9, 8, 4, 0, 8, 7, 7, 5, 1, 9, 7, 5, 2, 7, 1, 0]\n",
      "[9, 6, 6, 2, 4, 9, 9, 3, 3, 4, 2, 8, 0, 4, 5, 8, 4, 3, 4, 6, 5, 0, 7, 8, 4, 8, 7, 7, 7, 1, 8, 8, 1, 6, 7, 6, 0, 3, 1, 2, 8, 2, 5, 2, 6, 0, 0, 5, 6, 3, 0, 8, 9, 2, 8, 0, 0, 5, 1, 8, 3, 0, 7, 3, 6, 8, 6, 5, 4, 3, 7, 7, 3, 9, 3, 5, 6, 7, 3, 1, 1, 4, 8, 9, 2, 9, 4, 6, 6, 3, 8, 3, 4, 4, 6, 0, 2, 4, 8, 0, 9, 2, 9, 7, 7, 9, 3, 5, 8, 7, 0, 8, 4, 3, 9, 6, 2, 2, 1, 4, 6, 8, 1, 8, 7, 1, 2, 2, 8, 1, 3, 9, 1, 1, 7, 9, 2, 5, 9, 2, 8, 1, 1, 8, 7, 7, 8, 6, 5, 7, 9, 4, 5, 5, 1, 9, 6, 5, 9, 9, 4, 1, 1, 8, 4, 3, 0, 2, 9, 7, 4, 4, 9, 5, 2, 3, 0, 2, 4, 9, 7, 6, 8, 1, 2, 4, 3, 0, 7, 2, 6, 7, 0, 6, 0, 1, 3, 4, 5, 2, 0, 0, 0, 4, 9, 2, 1, 5, 7, 3, 1, 0, 5, 9, 6, 3, 6, 3, 0, 4, 2, 8, 0, 5, 1, 7, 5, 2, 8, 2, 5, 0, 8, 8, 9, 4, 5, 6, 9, 6, 5, 3, 0, 8, 8, 2, 3, 7, 6, 5, 8, 7, 3, 3, 8, 4, 8, 3, 2, 6, 8, 3, 9, 4, 3, 4, 7, 1, 7, 9, 1, 4, 4, 3, 1, 4, 7, 0, 6, 5, 6, 3, 7, 0, 3, 2, 7, 9, 8, 0, 7, 7, 2, 6, 7, 0, 1, 8, 0, 6, 7, 7, 4, 5, 0, 1, 2, 2, 7, 3, 7, 1, 5, 6, 1, 7, 9, 7, 1, 8, 6, 7, 3, 2, 5, 7, 6, 3, 9, 3, 2, 4, 7, 7, 5, 0, 8, 4, 6, 6, 8, 4, 9, 5, 5, 0, 5, 4, 3, 3, 7, 5, 6, 9, 9, 7, 6, 9, 6, 3, 7, 5, 7, 1, 6, 6, 1, 7, 3, 0, 7, 8, 0, 5, 8, 0, 1, 0, 7, 7, 8, 0, 0, 5, 4, 1, 7, 3, 4, 5, 3, 5, 0, 4, 1, 1, 3, 4, 8, 0, 9, 1, 5, 2, 7, 3, 6, 8, 5, 2, 0, 6, 7, 6, 8, 5, 9, 4, 4, 0, 0, 2, 0, 1, 2, 4, 0, 4, 8, 5, 2, 3, 4, 1, 8, 4, 0, 5, 2, 5, 7, 8, 5, 6, 9, 4, 9, 2, 5, 5, 4, 3, 4, 5, 4, 0, 8, 1, 7, 2, 9, 8, 0, 3, 3, 1, 9, 7, 9, 5, 0, 7, 4, 1, 9, 2, 6, 5, 1, 4, 0, 3, 2, 2, 4, 8, 9, 0, 0, 1, 4, 8, 9, 1, 7, 3, 8, 9, 5, 0, 7, 5, 9, 4, 1, 7, 5, 6, 6, 6, 2, 9, 6, 6, 6, 9, 8, 3, 4, 1, 9, 8, 9, 1, 3, 3, 3, 2, 5, 6, 7, 2, 9, 8, 5, 4, 1, 3, 5, 0, 8, 6, 8, 9, 2, 1, 9, 4, 5, 6, 6, 0, 3, 3, 3, 4, 1, 9, 4, 9, 4, 4, 8, 8, 9, 4, 8, 9, 2, 2, 2, 2, 3, 0, 7, 9, 9, 9, 5, 6, 4, 3, 2, 4, 0, 9, 6, 4, 5, 9, 2, 7, 3, 1, 7, 2, 3, 5, 4, 3, 3, 5, 9, 1, 4, 0, 4, 8, 9, 1, 5, 1, 4, 5, 4, 7, 9, 5, 5, 1, 5, 0, 4, 9, 4, 9, 3, 4, 7, 6, 5, 9, 7, 2, 1, 8, 4, 4, 4, 2, 9, 6, 6, 4, 6, 8, 5, 6, 8, 1, 7, 1, 2, 2, 0, 4, 4, 1, 3, 2, 6, 3, 9, 0, 3, 2, 0, 7, 1, 2, 0, 6, 6, 1, 4, 6, 7, 4, 1, 5, 9, 8, 3, 9, 4, 6, 5, 4, 4, 3, 8, 5, 1, 3, 5, 9, 4, 5, 1, 6, 4, 5, 3, 8, 2, 6, 8, 6, 5, 7, 9, 5, 3, 2, 9, 2, 4, 9, 6, 2, 3, 5, 0, 7, 7, 7, 6, 5, 0, 5, 6, 9, 5, 6, 3, 1, 5, 1, 5, 2, 1, 9, 9, 9, 7, 2, 2, 3, 3, 1, 1, 2, 9, 9, 0, 2, 6, 8, 1, 3, 5, 9, 1, 7, 7, 3, 1, 7, 0, 2, 2, 0, 1, 4, 0, 2, 0, 0, 5, 3, 8, 7, 1, 7, 1, 2, 6, 0, 6, 0, 9, 7, 0, 6, 2, 8, 3, 8, 0, 2, 6, 2, 6, 5, 8, 3, 4, 1, 0, 2, 9, 9, 5, 6, 3, 6, 7, 6, 4, 6, 1, 9, 0, 6, 0, 7, 4, 4, 3, 8, 5, 7, 9, 3, 6, 0, 7, 4, 1, 9, 4, 4, 0, 5, 8, 3, 0, 1, 8, 2, 4, 5, 0, 7, 3, 2, 5, 3, 5, 1, 9, 3, 5, 0, 0, 3, 6, 0, 6, 9, 8, 5, 6, 5, 2, 8, 4, 2, 7, 2, 6, 6, 2, 5, 8, 2, 0, 4, 6, 8, 9, 9, 7, 4, 8, 3, 3, 3, 3, 6, 1, 0, 5, 6, 3, 9, 7, 9, 6, 0, 2, 3, 8, 6, 4, 3, 2, 5, 8, 7, 8, 9, 2, 4, 0, 6, 3, 2, 7, 6, 9, 8, 8, 3, 3, 5, 5, 6, 7, 3, 5, 0, 3, 8, 9, 5, 6, 7, 9, 0, 9, 5, 0, 2, 2, 0, 3, 5, 4, 9, 0, 0, 1, 6, 0, 3, 4, 2, 1, 6, 4, 3, 8, 1, 2, 3, 9, 3, 8, 2, 5, 6, 5, 6, 9, 8, 4, 0, 8, 7, 7, 5, 1, 9, 7, 5, 2, 7, 1, 0]\n",
      "[9, 6, 6, 2, 4, 9, 9, 3, 3, 4, 2, 8, 0, 4, 5, 8, 4, 3, 4, 6, 5, 0, 7, 8, 4, 8, 7, 7, 7, 1, 8, 8, 1, 6, 7, 6, 0, 3, 1, 2, 8, 2, 5, 2, 6, 0, 0, 5, 6, 3, 0, 8, 9, 2, 8, 0, 0, 5, 1, 8, 3, 0, 7, 3, 6, 8, 6, 5, 4, 3, 7, 7, 3, 9, 3, 5, 6, 7, 3, 1, 1, 4, 8, 9, 2, 9, 4, 6, 6, 3, 8, 3, 4, 4, 6, 0, 2, 4, 8, 0, 9, 2, 9, 7, 7, 9, 3, 5, 8, 7, 0, 8, 4, 3, 9, 6, 2, 2, 1, 4, 6, 8, 1, 8, 7, 1, 2, 2, 8, 1, 3, 9, 1, 1, 7, 9, 2, 5, 9, 2, 8, 1, 1, 8, 7, 7, 8, 6, 5, 7, 9, 4, 5, 5, 1, 9, 6, 5, 9, 9, 4, 1, 1, 8, 4, 3, 0, 2, 9, 7, 4, 4, 9, 5, 2, 3, 0, 2, 4, 9, 7, 6, 8, 1, 2, 4, 3, 0, 7, 2, 6, 7, 0, 6, 0, 1, 3, 4, 5, 2, 0, 0, 0, 4, 9, 2, 1, 5, 7, 3, 1, 0, 5, 9, 6, 3, 6, 3, 0, 4, 2, 8, 0, 5, 1, 7, 5, 2, 8, 2, 5, 0, 8, 8, 9, 4, 5, 6, 9, 6, 5, 3, 0, 8, 8, 2, 3, 7, 6, 5, 8, 7, 3, 3, 8, 4, 8, 3, 2, 6, 8, 3, 9, 4, 3, 4, 7, 1, 7, 9, 1, 4, 4, 3, 1, 4, 7, 0, 6, 5, 6, 3, 7, 0, 3, 2, 7, 9, 8, 0, 7, 7, 2, 6, 7, 0, 1, 8, 0, 6, 7, 7, 4, 5, 0, 1, 2, 2, 7, 3, 7, 1, 5, 6, 1, 7, 9, 7, 1, 8, 6, 7, 3, 2, 5, 7, 6, 3, 9, 3, 2, 4, 7, 7, 5, 0, 8, 4, 6, 6, 8, 4, 9, 5, 5, 0, 5, 4, 3, 3, 7, 5, 6, 9, 9, 7, 6, 9, 6, 3, 7, 5, 7, 1, 6, 6, 1, 7, 3, 0, 7, 8, 0, 5, 8, 0, 1, 0, 7, 7, 8, 0, 0, 5, 4, 1, 7, 3, 4, 5, 3, 5, 0, 4, 1, 1, 3, 4, 8, 0, 9, 1, 5, 2, 7, 3, 6, 8, 5, 2, 0, 6, 7, 6, 8, 5, 9, 4, 4, 0, 0, 2, 0, 1, 2, 4, 0, 4, 8, 5, 2, 3, 4, 1, 8, 4, 0, 5, 2, 5, 7, 8, 5, 6, 9, 4, 9, 2, 5, 5, 4, 3, 4, 5, 4, 0, 8, 1, 7, 2, 9, 8, 0, 3, 3, 1, 9, 7, 9, 5, 0, 7, 4, 1, 9, 2, 6, 5, 1, 4, 0, 3, 2, 2, 4, 8, 9, 0, 0, 1, 4, 8, 9, 1, 7, 3, 8, 9, 5, 0, 7, 5, 9, 4, 1, 7, 5, 6, 6, 6, 2, 9, 6, 6, 6, 9, 8, 3, 4, 1, 9, 8, 9, 1, 3, 3, 3, 2, 5, 6, 7, 2, 9, 8, 5, 4, 1, 3, 5, 0, 8, 6, 8, 9, 2, 1, 9, 4, 5, 6, 6, 0, 3, 3, 3, 4, 1, 9, 4, 9, 4, 4, 8, 8, 9, 4, 8, 9, 2, 2, 2, 2, 3, 0, 7, 9, 9, 9, 5, 6, 4, 3, 2, 4, 0, 9, 6, 4, 5, 9, 2, 7, 3, 1, 7, 2, 3, 5, 4, 3, 3, 5, 9, 1, 4, 0, 4, 8, 9, 1, 5, 1, 4, 5, 4, 7, 9, 5, 5, 1, 5, 0, 4, 9, 4, 9, 3, 4, 7, 6, 5, 9, 7, 2, 1, 8, 4, 4, 4, 2, 9, 6, 6, 4, 6, 8, 5, 6, 8, 1, 7, 1, 2, 2, 0, 4, 4, 1, 3, 2, 6, 3, 9, 0, 3, 2, 0, 7, 1, 2, 0, 6, 6, 1, 4, 6, 7, 4, 1, 5, 9, 8, 3, 9, 4, 6, 5, 4, 4, 3, 8, 5, 1, 3, 5, 9, 4, 5, 1, 6, 4, 5, 3, 8, 2, 6, 8, 6, 5, 7, 9, 5, 3, 2, 9, 2, 4, 9, 6, 2, 3, 5, 0, 7, 7, 7, 6, 5, 0, 5, 6, 9, 5, 6, 3, 1, 5, 1, 5, 2, 1, 9, 9, 9, 7, 2, 2, 3, 3, 1, 1, 2, 9, 9, 0, 2, 6, 8, 1, 3, 5, 9, 1, 7, 7, 3, 1, 7, 0, 2, 2, 0, 1, 4, 0, 2, 0, 0, 5, 3, 8, 7, 1, 7, 1, 2, 6, 0, 6, 0, 9, 7, 0, 6, 2, 8, 3, 8, 0, 2, 6, 2, 6, 5, 8, 3, 4, 1, 0, 2, 9, 9, 5, 6, 3, 6, 7, 6, 4, 6, 1, 9, 0, 6, 0, 7, 4, 4, 3, 8, 5, 7, 9, 3, 6, 0, 7, 4, 1, 9, 4, 4, 0, 5, 8, 3, 0, 1, 8, 2, 4, 5, 0, 7, 3, 2, 5, 3, 5, 1, 9, 3, 5, 0, 0, 3, 6, 0, 6, 9, 8, 5, 6, 5, 2, 8, 4, 2, 7, 2, 6, 6, 2, 5, 8, 2, 0, 4, 6, 8, 9, 9, 7, 4, 8, 3, 3, 3, 3, 6, 1, 0, 5, 6, 3, 9, 7, 9, 6, 0, 2, 3, 8, 6, 4, 3, 2, 5, 8, 7, 8, 9, 2, 4, 0, 6, 3, 2, 7, 6, 9, 8, 8, 3, 3, 5, 5, 6, 7, 3, 5, 0, 3, 8, 9, 5, 6, 7, 9, 0, 9, 5, 0, 2, 2, 0, 3, 5, 4, 9, 0, 0, 1, 6, 0, 3, 4, 2, 1, 6, 4, 3, 8, 1, 2, 3, 9, 3, 8, 2, 5, 6, 5, 6, 9, 8, 4, 0, 8, 7, 7, 5, 1, 9, 7, 5, 2, 7, 1, 0]\n",
      "[9, 6, 6, 2, 4, 9, 9, 3, 3, 4, 2, 8, 0, 4, 5, 8, 4, 3, 4, 6, 5, 0, 7, 8, 4, 8, 7, 7, 7, 1, 8, 8, 1, 6, 7, 6, 0, 3, 1, 2, 8, 2, 5, 2, 6, 0, 0, 5, 6, 3, 0, 8, 9, 2, 8, 0, 0, 5, 1, 8, 3, 0, 7, 3, 6, 8, 6, 5, 4, 3, 7, 7, 3, 9, 3, 5, 6, 7, 3, 1, 1, 4, 8, 9, 2, 9, 4, 6, 6, 3, 8, 3, 4, 4, 6, 0, 2, 4, 8, 0, 9, 2, 9, 7, 7, 9, 3, 5, 8, 7, 0, 8, 4, 3, 9, 6, 2, 2, 1, 4, 6, 8, 1, 8, 7, 1, 2, 2, 8, 1, 3, 9, 1, 1, 7, 9, 2, 5, 9, 2, 8, 1, 1, 8, 7, 7, 8, 6, 5, 7, 9, 4, 5, 5, 1, 9, 6, 5, 9, 9, 4, 1, 1, 8, 4, 3, 0, 2, 9, 7, 4, 4, 9, 5, 2, 3, 0, 2, 4, 9, 7, 6, 8, 1, 2, 4, 3, 0, 7, 2, 6, 7, 0, 6, 0, 1, 3, 4, 5, 2, 0, 0, 0, 4, 9, 2, 1, 5, 7, 3, 1, 0, 5, 9, 6, 3, 6, 3, 0, 4, 2, 8, 0, 5, 1, 7, 5, 2, 8, 2, 5, 0, 8, 8, 9, 4, 5, 6, 9, 6, 5, 3, 0, 8, 8, 2, 3, 7, 6, 5, 8, 7, 3, 3, 8, 4, 8, 3, 2, 6, 8, 3, 9, 4, 3, 4, 7, 1, 7, 9, 1, 4, 4, 3, 1, 4, 7, 0, 6, 5, 6, 3, 7, 0, 3, 2, 7, 9, 8, 0, 7, 7, 2, 6, 7, 0, 1, 8, 0, 6, 7, 7, 4, 5, 0, 1, 2, 2, 7, 3, 7, 1, 5, 6, 1, 7, 9, 7, 1, 8, 6, 7, 3, 2, 5, 7, 6, 3, 9, 3, 2, 4, 7, 7, 5, 0, 8, 4, 6, 6, 8, 4, 9, 5, 5, 0, 5, 4, 3, 3, 7, 5, 6, 9, 9, 7, 6, 9, 6, 3, 7, 5, 7, 1, 6, 6, 1, 7, 3, 0, 7, 8, 0, 5, 8, 0, 1, 0, 7, 7, 8, 0, 0, 5, 4, 1, 7, 3, 4, 5, 3, 5, 0, 4, 1, 1, 3, 4, 8, 0, 9, 1, 5, 2, 7, 3, 6, 8, 5, 2, 0, 6, 7, 6, 8, 5, 9, 4, 4, 0, 0, 2, 0, 1, 2, 4, 0, 4, 8, 5, 2, 3, 4, 1, 8, 4, 0, 5, 2, 5, 7, 8, 5, 6, 9, 4, 9, 2, 5, 5, 4, 3, 4, 5, 4, 0, 8, 1, 7, 2, 9, 8, 0, 3, 3, 1, 9, 7, 9, 5, 0, 7, 4, 1, 9, 2, 6, 5, 1, 4, 0, 3, 2, 2, 4, 8, 9, 0, 0, 1, 4, 8, 9, 1, 7, 3, 8, 9, 5, 0, 7, 5, 9, 4, 1, 7, 5, 6, 6, 6, 2, 9, 6, 6, 6, 9, 8, 3, 4, 1, 9, 8, 9, 1, 3, 3, 3, 2, 5, 6, 7, 2, 9, 8, 5, 4, 1, 3, 5, 0, 8, 6, 8, 9, 2, 1, 9, 4, 5, 6, 6, 0, 3, 3, 3, 4, 1, 9, 4, 9, 4, 4, 8, 8, 9, 4, 8, 9, 2, 2, 2, 2, 3, 0, 7, 9, 9, 9, 5, 6, 4, 3, 2, 4, 0, 9, 6, 4, 5, 9, 2, 7, 3, 1, 7, 2, 3, 5, 4, 3, 3, 5, 9, 1, 4, 0, 4, 8, 9, 1, 5, 1, 4, 5, 4, 7, 9, 5, 5, 1, 5, 0, 4, 9, 4, 9, 3, 4, 7, 6, 5, 9, 7, 2, 1, 8, 4, 4, 4, 2, 9, 6, 6, 4, 6, 8, 5, 6, 8, 1, 7, 1, 2, 2, 0, 4, 4, 1, 3, 2, 6, 3, 9, 0, 3, 2, 0, 7, 1, 2, 0, 6, 6, 1, 4, 6, 7, 4, 1, 5, 9, 8, 3, 9, 4, 6, 5, 4, 4, 3, 8, 5, 1, 3, 5, 9, 4, 5, 1, 6, 4, 5, 3, 8, 2, 6, 8, 6, 5, 7, 9, 5, 3, 2, 9, 2, 4, 9, 6, 2, 3, 5, 0, 7, 7, 7, 6, 5, 0, 5, 6, 9, 5, 6, 3, 1, 5, 1, 5, 2, 1, 9, 9, 9, 7, 2, 2, 3, 3, 1, 1, 2, 9, 9, 0, 2, 6, 8, 1, 3, 5, 9, 1, 7, 7, 3, 1, 7, 0, 2, 2, 0, 1, 4, 0, 2, 0, 0, 5, 3, 8, 7, 1, 7, 1, 2, 6, 0, 6, 0, 9, 7, 0, 6, 2, 8, 3, 8, 0, 2, 6, 2, 6, 5, 8, 3, 4, 1, 0, 2, 9, 9, 5, 6, 3, 6, 7, 6, 4, 6, 1, 9, 0, 6, 0, 7, 4, 4, 3, 8, 5, 7, 9, 3, 6, 0, 7, 4, 1, 9, 4, 4, 0, 5, 8, 3, 0, 1, 8, 2, 4, 5, 0, 7, 3, 2, 5, 3, 5, 1, 9, 3, 5, 0, 0, 3, 6, 0, 6, 9, 8, 5, 6, 5, 2, 8, 4, 2, 7, 2, 6, 6, 2, 5, 8, 2, 0, 4, 6, 8, 9, 9, 7, 4, 8, 3, 3, 3, 3, 6, 1, 0, 5, 6, 3, 9, 7, 9, 6, 0, 2, 3, 8, 6, 4, 3, 2, 5, 8, 7, 8, 9, 2, 4, 0, 6, 3, 2, 7, 6, 9, 8, 8, 3, 3, 5, 5, 6, 7, 3, 5, 0, 3, 8, 9, 5, 6, 7, 9, 0, 9, 5, 0, 2, 2, 0, 3, 5, 4, 9, 0, 0, 1, 6, 0, 3, 4, 2, 1, 6, 4, 3, 8, 1, 2, 3, 9, 3, 8, 2, 5, 6, 5, 6, 9, 8, 4, 0, 8, 7, 7, 5, 1, 9, 7, 5, 2, 7, 1, 0]\n",
      "[9, 6, 6, 2, 4, 9, 9, 3, 3, 4, 2, 8, 0, 4, 5, 8, 4, 3, 4, 6, 5, 0, 7, 8, 4, 8, 7, 7, 7, 1, 8, 8, 1, 6, 7, 6, 0, 3, 1, 2, 8, 2, 5, 2, 6, 0, 0, 5, 6, 3, 0, 8, 9, 2, 8, 0, 0, 5, 1, 8, 3, 0, 7, 3, 6, 8, 6, 5, 4, 3, 7, 7, 3, 9, 3, 5, 6, 7, 3, 1, 1, 4, 8, 9, 2, 9, 4, 6, 6, 3, 8, 3, 4, 4, 6, 0, 2, 4, 8, 0, 9, 2, 9, 7, 7, 9, 3, 5, 8, 7, 0, 8, 4, 3, 9, 6, 2, 2, 1, 4, 6, 8, 1, 8, 7, 1, 2, 2, 8, 1, 3, 9, 1, 1, 7, 9, 2, 5, 9, 2, 8, 1, 1, 8, 7, 7, 8, 6, 5, 7, 9, 4, 5, 5, 1, 9, 6, 5, 9, 9, 4, 1, 1, 8, 4, 3, 0, 2, 9, 7, 4, 4, 9, 5, 2, 3, 0, 2, 4, 9, 7, 6, 8, 1, 2, 4, 3, 0, 7, 2, 6, 7, 0, 6, 0, 1, 3, 4, 5, 2, 0, 0, 0, 4, 9, 2, 1, 5, 7, 3, 1, 0, 5, 9, 6, 3, 6, 3, 0, 4, 2, 8, 0, 5, 1, 7, 5, 2, 8, 2, 5, 0, 8, 8, 9, 4, 5, 6, 9, 6, 5, 3, 0, 8, 8, 2, 3, 7, 6, 5, 8, 7, 3, 3, 8, 4, 8, 3, 2, 6, 8, 3, 9, 4, 3, 4, 7, 1, 7, 9, 1, 4, 4, 3, 1, 4, 7, 0, 6, 5, 6, 3, 7, 0, 3, 2, 7, 9, 8, 0, 7, 7, 2, 6, 7, 0, 1, 8, 0, 6, 7, 7, 4, 5, 0, 1, 2, 2, 7, 3, 7, 1, 5, 6, 1, 7, 9, 7, 1, 8, 6, 7, 3, 2, 5, 7, 6, 3, 9, 3, 2, 4, 7, 7, 5, 0, 8, 4, 6, 6, 8, 4, 9, 5, 5, 0, 5, 4, 3, 3, 7, 5, 6, 9, 9, 7, 6, 9, 6, 3, 7, 5, 7, 1, 6, 6, 1, 7, 3, 0, 7, 8, 0, 5, 8, 0, 1, 0, 7, 7, 8, 0, 0, 5, 4, 1, 7, 3, 4, 5, 3, 5, 0, 4, 1, 1, 3, 4, 8, 0, 9, 1, 5, 2, 7, 3, 6, 8, 5, 2, 0, 6, 7, 6, 8, 5, 9, 4, 4, 0, 0, 2, 0, 1, 2, 4, 0, 4, 8, 5, 2, 3, 4, 1, 8, 4, 0, 5, 2, 5, 7, 8, 5, 6, 9, 4, 9, 2, 5, 5, 4, 3, 4, 5, 4, 0, 8, 1, 7, 2, 9, 8, 0, 3, 3, 1, 9, 7, 9, 5, 0, 7, 4, 1, 9, 2, 6, 5, 1, 4, 0, 3, 2, 2, 4, 8, 9, 0, 0, 1, 4, 8, 9, 1, 7, 3, 8, 9, 5, 0, 7, 5, 9, 4, 1, 7, 5, 6, 6, 6, 2, 9, 6, 6, 6, 9, 8, 3, 4, 1, 9, 8, 9, 1, 3, 3, 3, 2, 5, 6, 7, 2, 9, 8, 5, 4, 1, 3, 5, 0, 8, 6, 8, 9, 2, 1, 9, 4, 5, 6, 6, 0, 3, 3, 3, 4, 1, 9, 4, 9, 4, 4, 8, 8, 9, 4, 8, 9, 2, 2, 2, 2, 3, 0, 7, 9, 9, 9, 5, 6, 4, 3, 2, 4, 0, 9, 6, 4, 5, 9, 2, 7, 3, 1, 7, 2, 3, 5, 4, 3, 3, 5, 9, 1, 4, 0, 4, 8, 9, 1, 5, 1, 4, 5, 4, 7, 9, 5, 5, 1, 5, 0, 4, 9, 4, 9, 3, 4, 7, 6, 5, 9, 7, 2, 1, 8, 4, 4, 4, 2, 9, 6, 6, 4, 6, 8, 5, 6, 8, 1, 7, 1, 2, 2, 0, 4, 4, 1, 3, 2, 6, 3, 9, 0, 3, 2, 0, 7, 1, 2, 0, 6, 6, 1, 4, 6, 7, 4, 1, 5, 9, 8, 3, 9, 4, 6, 5, 4, 4, 3, 8, 5, 1, 3, 5, 9, 4, 5, 1, 6, 4, 5, 3, 8, 2, 6, 8, 6, 5, 7, 9, 5, 3, 2, 9, 2, 4, 9, 6, 2, 3, 5, 0, 7, 7, 7, 6, 5, 0, 5, 6, 9, 5, 6, 3, 1, 5, 1, 5, 2, 1, 9, 9, 9, 7, 2, 2, 3, 3, 1, 1, 2, 9, 9, 0, 2, 6, 8, 1, 3, 5, 9, 1, 7, 7, 3, 1, 7, 0, 2, 2, 0, 1, 4, 0, 2, 0, 0, 5, 3, 8, 7, 1, 7, 1, 2, 6, 0, 6, 0, 9, 7, 0, 6, 2, 8, 3, 8, 0, 2, 6, 2, 6, 5, 8, 3, 4, 1, 0, 2, 9, 9, 5, 6, 3, 6, 7, 6, 4, 6, 1, 9, 0, 6, 0, 7, 4, 4, 3, 8, 5, 7, 9, 3, 6, 0, 7, 4, 1, 9, 4, 4, 0, 5, 8, 3, 0, 1, 8, 2, 4, 5, 0, 7, 3, 2, 5, 3, 5, 1, 9, 3, 5, 0, 0, 3, 6, 0, 6, 9, 8, 5, 6, 5, 2, 8, 4, 2, 7, 2, 6, 6, 2, 5, 8, 2, 0, 4, 6, 8, 9, 9, 7, 4, 8, 3, 3, 3, 3, 6, 1, 0, 5, 6, 3, 9, 7, 9, 6, 0, 2, 3, 8, 6, 4, 3, 2, 5, 8, 7, 8, 9, 2, 4, 0, 6, 3, 2, 7, 6, 9, 8, 8, 3, 3, 5, 5, 6, 7, 3, 5, 0, 3, 8, 9, 5, 6, 7, 9, 0, 9, 5, 0, 2, 2, 0, 3, 5, 4, 9, 0, 0, 1, 6, 0, 3, 4, 2, 1, 6, 4, 3, 8, 1, 2, 3, 9, 3, 8, 2, 5, 6, 5, 6, 9, 8, 4, 0, 8, 7, 7, 5, 1, 9, 7, 5, 2, 7, 1, 0]\n",
      "[9, 6, 6, 2, 4, 9, 9, 3, 3, 4, 2, 8, 0, 4, 5, 8, 4, 3, 4, 6, 5, 0, 7, 8, 4, 8, 7, 7, 7, 1, 8, 8, 1, 6, 7, 6, 0, 3, 1, 2, 8, 2, 5, 2, 6, 0, 0, 5, 6, 3, 0, 8, 9, 2, 8, 0, 0, 5, 1, 8, 3, 0, 7, 3, 6, 8, 6, 5, 4, 3, 7, 7, 3, 9, 3, 5, 6, 7, 3, 1, 1, 4, 8, 9, 2, 9, 4, 6, 6, 3, 8, 3, 4, 4, 6, 0, 2, 4, 8, 0, 9, 2, 9, 7, 7, 9, 3, 5, 8, 7, 0, 8, 4, 3, 9, 6, 2, 2, 1, 4, 6, 8, 1, 8, 7, 1, 2, 2, 8, 1, 3, 9, 1, 1, 7, 9, 2, 5, 9, 2, 8, 1, 1, 8, 7, 7, 8, 6, 5, 7, 9, 4, 5, 5, 1, 9, 6, 5, 9, 9, 4, 1, 1, 8, 4, 3, 0, 2, 9, 7, 4, 4, 9, 5, 2, 3, 0, 2, 4, 9, 7, 6, 8, 1, 2, 4, 3, 0, 7, 2, 6, 7, 0, 6, 0, 1, 3, 4, 5, 2, 0, 0, 0, 4, 9, 2, 1, 5, 7, 3, 1, 0, 5, 9, 6, 3, 6, 3, 0, 4, 2, 8, 0, 5, 1, 7, 5, 2, 8, 2, 5, 0, 8, 8, 9, 4, 5, 6, 9, 6, 5, 3, 0, 8, 8, 2, 3, 7, 6, 5, 8, 7, 3, 3, 8, 4, 8, 3, 2, 6, 8, 3, 9, 4, 3, 4, 7, 1, 7, 9, 1, 4, 4, 3, 1, 4, 7, 0, 6, 5, 6, 3, 7, 0, 3, 2, 7, 9, 8, 0, 7, 7, 2, 6, 7, 0, 1, 8, 0, 6, 7, 7, 4, 5, 0, 1, 2, 2, 7, 3, 7, 1, 5, 6, 1, 7, 9, 7, 1, 8, 6, 7, 3, 2, 5, 7, 6, 3, 9, 3, 2, 4, 7, 7, 5, 0, 8, 4, 6, 6, 8, 4, 9, 5, 5, 0, 5, 4, 3, 3, 7, 5, 6, 9, 9, 7, 6, 9, 6, 3, 7, 5, 7, 1, 6, 6, 1, 7, 3, 0, 7, 8, 0, 5, 8, 0, 1, 0, 7, 7, 8, 0, 0, 5, 4, 1, 7, 3, 4, 5, 3, 5, 0, 4, 1, 1, 3, 4, 8, 0, 9, 1, 5, 2, 7, 3, 6, 8, 5, 2, 0, 6, 7, 6, 8, 5, 9, 4, 4, 0, 0, 2, 0, 1, 2, 4, 0, 4, 8, 5, 2, 3, 4, 1, 8, 4, 0, 5, 2, 5, 7, 8, 5, 6, 9, 4, 9, 2, 5, 5, 4, 3, 4, 5, 4, 0, 8, 1, 7, 2, 9, 8, 0, 3, 3, 1, 9, 7, 9, 5, 0, 7, 4, 1, 9, 2, 6, 5, 1, 4, 0, 3, 2, 2, 4, 8, 9, 0, 0, 1, 4, 8, 9, 1, 7, 3, 8, 9, 5, 0, 7, 5, 9, 4, 1, 7, 5, 6, 6, 6, 2, 9, 6, 6, 6, 9, 8, 3, 4, 1, 9, 8, 9, 1, 3, 3, 3, 2, 5, 6, 7, 2, 9, 8, 5, 4, 1, 3, 5, 0, 8, 6, 8, 9, 2, 1, 9, 4, 5, 6, 6, 0, 3, 3, 3, 4, 1, 9, 4, 9, 4, 4, 8, 8, 9, 4, 8, 9, 2, 2, 2, 2, 3, 0, 7, 9, 9, 9, 5, 6, 4, 3, 2, 4, 0, 9, 6, 4, 5, 9, 2, 7, 3, 1, 7, 2, 3, 5, 4, 3, 3, 5, 9, 1, 4, 0, 4, 8, 9, 1, 5, 1, 4, 5, 4, 7, 9, 5, 5, 1, 5, 0, 4, 9, 4, 9, 3, 4, 7, 6, 5, 9, 7, 2, 1, 8, 4, 4, 4, 2, 9, 6, 6, 4, 6, 8, 5, 6, 8, 1, 7, 1, 2, 2, 0, 4, 4, 1, 3, 2, 6, 3, 9, 0, 3, 2, 0, 7, 1, 2, 0, 6, 6, 1, 4, 6, 7, 4, 1, 5, 9, 8, 3, 9, 4, 6, 5, 4, 4, 3, 8, 5, 1, 3, 5, 9, 4, 5, 1, 6, 4, 5, 3, 8, 2, 6, 8, 6, 5, 7, 9, 5, 3, 2, 9, 2, 4, 9, 6, 2, 3, 5, 0, 7, 7, 7, 6, 5, 0, 5, 6, 9, 5, 6, 3, 1, 5, 1, 5, 2, 1, 9, 9, 9, 7, 2, 2, 3, 3, 1, 1, 2, 9, 9, 0, 2, 6, 8, 1, 3, 5, 9, 1, 7, 7, 3, 1, 7, 0, 2, 2, 0, 1, 4, 0, 2, 0, 0, 5, 3, 8, 7, 1, 7, 1, 2, 6, 0, 6, 0, 9, 7, 0, 6, 2, 8, 3, 8, 0, 2, 6, 2, 6, 5, 8, 3, 4, 1, 0, 2, 9, 9, 5, 6, 3, 6, 7, 6, 4, 6, 1, 9, 0, 6, 0, 7, 4, 4, 3, 8, 5, 7, 9, 3, 6, 0, 7, 4, 1, 9, 4, 4, 0, 5, 8, 3, 0, 1, 8, 2, 4, 5, 0, 7, 3, 2, 5, 3, 5, 1, 9, 3, 5, 0, 0, 3, 6, 0, 6, 9, 8, 5, 6, 5, 2, 8, 4, 2, 7, 2, 6, 6, 2, 5, 8, 2, 0, 4, 6, 8, 9, 9, 7, 4, 8, 3, 3, 3, 3, 6, 1, 0, 5, 6, 3, 9, 7, 9, 6, 0, 2, 3, 8, 6, 4, 3, 2, 5, 8, 7, 8, 9, 2, 4, 0, 6, 3, 2, 7, 6, 9, 8, 8, 3, 3, 5, 5, 6, 7, 3, 5, 0, 3, 8, 9, 5, 6, 7, 9, 0, 9, 5, 0, 2, 2, 0, 3, 5, 4, 9, 0, 0, 1, 6, 0, 3, 4, 2, 1, 6, 4, 3, 8, 1, 2, 3, 9, 3, 8, 2, 5, 6, 5, 6, 9, 8, 4, 0, 8, 7, 7, 5, 1, 9, 7, 5, 2, 7, 1, 0]\n",
      "[9, 6, 6, 2, 4, 9, 9, 3, 3, 4, 2, 8, 0, 4, 5, 8, 4, 3, 4, 6, 5, 0, 7, 8, 4, 8, 7, 7, 7, 1, 8, 8, 1, 6, 7, 6, 0, 3, 1, 2, 8, 2, 5, 2, 6, 0, 0, 5, 6, 3, 0, 8, 9, 2, 8, 0, 0, 5, 1, 8, 3, 0, 7, 3, 6, 8, 6, 5, 4, 3, 7, 7, 3, 9, 3, 5, 6, 7, 3, 1, 1, 4, 8, 9, 2, 9, 4, 6, 6, 3, 8, 3, 4, 4, 6, 0, 2, 4, 8, 0, 9, 2, 9, 7, 7, 9, 3, 5, 8, 7, 0, 8, 4, 3, 9, 6, 2, 2, 1, 4, 6, 8, 1, 8, 7, 1, 2, 2, 8, 1, 3, 9, 1, 1, 7, 9, 2, 5, 9, 2, 8, 1, 1, 8, 7, 7, 8, 6, 5, 7, 9, 4, 5, 5, 1, 9, 6, 5, 9, 9, 4, 1, 1, 8, 4, 3, 0, 2, 9, 7, 4, 4, 9, 5, 2, 3, 0, 2, 4, 9, 7, 6, 8, 1, 2, 4, 3, 0, 7, 2, 6, 7, 0, 6, 0, 1, 3, 4, 5, 2, 0, 0, 0, 4, 9, 2, 1, 5, 7, 3, 1, 0, 5, 9, 6, 3, 6, 3, 0, 4, 2, 8, 0, 5, 1, 7, 5, 2, 8, 2, 5, 0, 8, 8, 9, 4, 5, 6, 9, 6, 5, 3, 0, 8, 8, 2, 3, 7, 6, 5, 8, 7, 3, 3, 8, 4, 8, 3, 2, 6, 8, 3, 9, 4, 3, 4, 7, 1, 7, 9, 1, 4, 4, 3, 1, 4, 7, 0, 6, 5, 6, 3, 7, 0, 3, 2, 7, 9, 8, 0, 7, 7, 2, 6, 7, 0, 1, 8, 0, 6, 7, 7, 4, 5, 0, 1, 2, 2, 7, 3, 7, 1, 5, 6, 1, 7, 9, 7, 1, 8, 6, 7, 3, 2, 5, 7, 6, 3, 9, 3, 2, 4, 7, 7, 5, 0, 8, 4, 6, 6, 8, 4, 9, 5, 5, 0, 5, 4, 3, 3, 7, 5, 6, 9, 9, 7, 6, 9, 6, 3, 7, 5, 7, 1, 6, 6, 1, 7, 3, 0, 7, 8, 0, 5, 8, 0, 1, 0, 7, 7, 8, 0, 0, 5, 4, 1, 7, 3, 4, 5, 3, 5, 0, 4, 1, 1, 3, 4, 8, 0, 9, 1, 5, 2, 7, 3, 6, 8, 5, 2, 0, 6, 7, 6, 8, 5, 9, 4, 4, 0, 0, 2, 0, 1, 2, 4, 0, 4, 8, 5, 2, 3, 4, 1, 8, 4, 0, 5, 2, 5, 7, 8, 5, 6, 9, 4, 9, 2, 5, 5, 4, 3, 4, 5, 4, 0, 8, 1, 7, 2, 9, 8, 0, 3, 3, 1, 9, 7, 9, 5, 0, 7, 4, 1, 9, 2, 6, 5, 1, 4, 0, 3, 2, 2, 4, 8, 9, 0, 0, 1, 4, 8, 9, 1, 7, 3, 8, 9, 5, 0, 7, 5, 9, 4, 1, 7, 5, 6, 6, 6, 2, 9, 6, 6, 6, 9, 8, 3, 4, 1, 9, 8, 9, 1, 3, 3, 3, 2, 5, 6, 7, 2, 9, 8, 5, 4, 1, 3, 5, 0, 8, 6, 8, 9, 2, 1, 9, 4, 5, 6, 6, 0, 3, 3, 3, 4, 1, 9, 4, 9, 4, 4, 8, 8, 9, 4, 8, 9, 2, 2, 2, 2, 3, 0, 7, 9, 9, 9, 5, 6, 4, 3, 2, 4, 0, 9, 6, 4, 5, 9, 2, 7, 3, 1, 7, 2, 3, 5, 4, 3, 3, 5, 9, 1, 4, 0, 4, 8, 9, 1, 5, 1, 4, 5, 4, 7, 9, 5, 5, 1, 5, 0, 4, 9, 4, 9, 3, 4, 7, 6, 5, 9, 7, 2, 1, 8, 4, 4, 4, 2, 9, 6, 6, 4, 6, 8, 5, 6, 8, 1, 7, 1, 2, 2, 0, 4, 4, 1, 3, 2, 6, 3, 9, 0, 3, 2, 0, 7, 1, 2, 0, 6, 6, 1, 4, 6, 7, 4, 1, 5, 9, 8, 3, 9, 4, 6, 5, 4, 4, 3, 8, 5, 1, 3, 5, 9, 4, 5, 1, 6, 4, 5, 3, 8, 2, 6, 8, 6, 5, 7, 9, 5, 3, 2, 9, 2, 4, 9, 6, 2, 3, 5, 0, 7, 7, 7, 6, 5, 0, 5, 6, 9, 5, 6, 3, 1, 5, 1, 5, 2, 1, 9, 9, 9, 7, 2, 2, 3, 3, 1, 1, 2, 9, 9, 0, 2, 6, 8, 1, 3, 5, 9, 1, 7, 7, 3, 1, 7, 0, 2, 2, 0, 1, 4, 0, 2, 0, 0, 5, 3, 8, 7, 1, 7, 1, 2, 6, 0, 6, 0, 9, 7, 0, 6, 2, 8, 3, 8, 0, 2, 6, 2, 6, 5, 8, 3, 4, 1, 0, 2, 9, 9, 5, 6, 3, 6, 7, 6, 4, 6, 1, 9, 0, 6, 0, 7, 4, 4, 3, 8, 5, 7, 9, 3, 6, 0, 7, 4, 1, 9, 4, 4, 0, 5, 8, 3, 0, 1, 8, 2, 4, 5, 0, 7, 3, 2, 5, 3, 5, 1, 9, 3, 5, 0, 0, 3, 6, 0, 6, 9, 8, 5, 6, 5, 2, 8, 4, 2, 7, 2, 6, 6, 2, 5, 8, 2, 0, 4, 6, 8, 9, 9, 7, 4, 8, 3, 3, 3, 3, 6, 1, 0, 5, 6, 3, 9, 7, 9, 6, 0, 2, 3, 8, 6, 4, 3, 2, 5, 8, 7, 8, 9, 2, 4, 0, 6, 3, 2, 7, 6, 9, 8, 8, 3, 3, 5, 5, 6, 7, 3, 5, 0, 3, 8, 9, 5, 6, 7, 9, 0, 9, 5, 0, 2, 2, 0, 3, 5, 4, 9, 0, 0, 1, 6, 0, 3, 4, 2, 1, 6, 4, 3, 8, 1, 2, 3, 9, 3, 8, 2, 5, 6, 5, 6, 9, 8, 4, 0, 8, 7, 7, 5, 1, 9, 7, 5, 2, 7, 1, 0]\n",
      "[9, 6, 6, 2, 4, 9, 9, 3, 3, 4, 2, 8, 0, 4, 5, 8, 4, 3, 4, 6, 5, 0, 7, 8, 4, 8, 7, 7, 7, 1, 8, 8, 1, 6, 7, 6, 0, 3, 1, 2, 8, 2, 5, 2, 6, 0, 0, 5, 6, 3, 0, 8, 9, 2, 8, 0, 0, 5, 1, 8, 3, 0, 7, 3, 6, 8, 6, 5, 4, 3, 7, 7, 3, 9, 3, 5, 6, 7, 3, 1, 1, 4, 8, 9, 2, 9, 4, 6, 6, 3, 8, 3, 4, 4, 6, 0, 2, 4, 8, 0, 9, 2, 9, 7, 7, 9, 3, 5, 8, 7, 0, 8, 4, 3, 9, 6, 2, 2, 1, 4, 6, 8, 1, 8, 7, 1, 2, 2, 8, 1, 3, 9, 1, 1, 7, 9, 2, 5, 9, 2, 8, 1, 1, 8, 7, 7, 8, 6, 5, 7, 9, 4, 5, 5, 1, 9, 6, 5, 9, 9, 4, 1, 1, 8, 4, 3, 0, 2, 9, 7, 4, 4, 9, 5, 2, 3, 0, 2, 4, 9, 7, 6, 8, 1, 2, 4, 3, 0, 7, 2, 6, 7, 0, 6, 0, 1, 3, 4, 5, 2, 0, 0, 0, 4, 9, 2, 1, 5, 7, 3, 1, 0, 5, 9, 6, 3, 6, 3, 0, 4, 2, 8, 0, 5, 1, 7, 5, 2, 8, 2, 5, 0, 8, 8, 9, 4, 5, 6, 9, 6, 5, 3, 0, 8, 8, 2, 3, 7, 6, 5, 8, 7, 3, 3, 8, 4, 8, 3, 2, 6, 8, 3, 9, 4, 3, 4, 7, 1, 7, 9, 1, 4, 4, 3, 1, 4, 7, 0, 6, 5, 6, 3, 7, 0, 3, 2, 7, 9, 8, 0, 7, 7, 2, 6, 7, 0, 1, 8, 0, 6, 7, 7, 4, 5, 0, 1, 2, 2, 7, 3, 7, 1, 5, 6, 1, 7, 9, 7, 1, 8, 6, 7, 3, 2, 5, 7, 6, 3, 9, 3, 2, 4, 7, 7, 5, 0, 8, 4, 6, 6, 8, 4, 9, 5, 5, 0, 5, 4, 3, 3, 7, 5, 6, 9, 9, 7, 6, 9, 6, 3, 7, 5, 7, 1, 6, 6, 1, 7, 3, 0, 7, 8, 0, 5, 8, 0, 1, 0, 7, 7, 8, 0, 0, 5, 4, 1, 7, 3, 4, 5, 3, 5, 0, 4, 1, 1, 3, 4, 8, 0, 9, 1, 5, 2, 7, 3, 6, 8, 5, 2, 0, 6, 7, 6, 8, 5, 9, 4, 4, 0, 0, 2, 0, 1, 2, 4, 0, 4, 8, 5, 2, 3, 4, 1, 8, 4, 0, 5, 2, 5, 7, 8, 5, 6, 9, 4, 9, 2, 5, 5, 4, 3, 4, 5, 4, 0, 8, 1, 7, 2, 9, 8, 0, 3, 3, 1, 9, 7, 9, 5, 0, 7, 4, 1, 9, 2, 6, 5, 1, 4, 0, 3, 2, 2, 4, 8, 9, 0, 0, 1, 4, 8, 9, 1, 7, 3, 8, 9, 5, 0, 7, 5, 9, 4, 1, 7, 5, 6, 6, 6, 2, 9, 6, 6, 6, 9, 8, 3, 4, 1, 9, 8, 9, 1, 3, 3, 3, 2, 5, 6, 7, 2, 9, 8, 5, 4, 1, 3, 5, 0, 8, 6, 8, 9, 2, 1, 9, 4, 5, 6, 6, 0, 3, 3, 3, 4, 1, 9, 4, 9, 4, 4, 8, 8, 9, 4, 8, 9, 2, 2, 2, 2, 3, 0, 7, 9, 9, 9, 5, 6, 4, 3, 2, 4, 0, 9, 6, 4, 5, 9, 2, 7, 3, 1, 7, 2, 3, 5, 4, 3, 3, 5, 9, 1, 4, 0, 4, 8, 9, 1, 5, 1, 4, 5, 4, 7, 9, 5, 5, 1, 5, 0, 4, 9, 4, 9, 3, 4, 7, 6, 5, 9, 7, 2, 1, 8, 4, 4, 4, 2, 9, 6, 6, 4, 6, 8, 5, 6, 8, 1, 7, 1, 2, 2, 0, 4, 4, 1, 3, 2, 6, 3, 9, 0, 3, 2, 0, 7, 1, 2, 0, 6, 6, 1, 4, 6, 7, 4, 1, 5, 9, 8, 3, 9, 4, 6, 5, 4, 4, 3, 8, 5, 1, 3, 5, 9, 4, 5, 1, 6, 4, 5, 3, 8, 2, 6, 8, 6, 5, 7, 9, 5, 3, 2, 9, 2, 4, 9, 6, 2, 3, 5, 0, 7, 7, 7, 6, 5, 0, 5, 6, 9, 5, 6, 3, 1, 5, 1, 5, 2, 1, 9, 9, 9, 7, 2, 2, 3, 3, 1, 1, 2, 9, 9, 0, 2, 6, 8, 1, 3, 5, 9, 1, 7, 7, 3, 1, 7, 0, 2, 2, 0, 1, 4, 0, 2, 0, 0, 5, 3, 8, 7, 1, 7, 1, 2, 6, 0, 6, 0, 9, 7, 0, 6, 2, 8, 3, 8, 0, 2, 6, 2, 6, 5, 8, 3, 4, 1, 0, 2, 9, 9, 5, 6, 3, 6, 7, 6, 4, 6, 1, 9, 0, 6, 0, 7, 4, 4, 3, 8, 5, 7, 9, 3, 6, 0, 7, 4, 1, 9, 4, 4, 0, 5, 8, 3, 0, 1, 8, 2, 4, 5, 0, 7, 3, 2, 5, 3, 5, 1, 9, 3, 5, 0, 0, 3, 6, 0, 6, 9, 8, 5, 6, 5, 2, 8, 4, 2, 7, 2, 6, 6, 2, 5, 8, 2, 0, 4, 6, 8, 9, 9, 7, 4, 8, 3, 3, 3, 3, 6, 1, 0, 5, 6, 3, 9, 7, 9, 6, 0, 2, 3, 8, 6, 4, 3, 2, 5, 8, 7, 8, 9, 2, 4, 0, 6, 3, 2, 7, 6, 9, 8, 8, 3, 3, 5, 5, 6, 7, 3, 5, 0, 3, 8, 9, 5, 6, 7, 9, 0, 9, 5, 0, 2, 2, 0, 3, 5, 4, 9, 0, 0, 1, 6, 0, 3, 4, 2, 1, 6, 4, 3, 8, 1, 2, 3, 9, 3, 8, 2, 5, 6, 5, 6, 9, 8, 4, 0, 8, 7, 7, 5, 1, 9, 7, 5, 2, 7, 1, 0]\n",
      "[9, 6, 6, 2, 4, 9, 9, 3, 3, 4, 2, 8, 0, 4, 5, 8, 4, 3, 4, 6, 5, 0, 7, 8, 4, 8, 7, 7, 7, 1, 8, 8, 1, 6, 7, 6, 0, 3, 1, 2, 8, 2, 5, 2, 6, 0, 0, 5, 6, 3, 0, 8, 9, 2, 8, 0, 0, 5, 1, 8, 3, 0, 7, 3, 6, 8, 6, 5, 4, 3, 7, 7, 3, 9, 3, 5, 6, 7, 3, 1, 1, 4, 8, 9, 2, 9, 4, 6, 6, 3, 8, 3, 4, 4, 6, 0, 2, 4, 8, 0, 9, 2, 9, 7, 7, 9, 3, 5, 8, 7, 0, 8, 4, 3, 9, 6, 2, 2, 1, 4, 6, 8, 1, 8, 7, 1, 2, 2, 8, 1, 3, 9, 1, 1, 7, 9, 2, 5, 9, 2, 8, 1, 1, 8, 7, 7, 8, 6, 5, 7, 9, 4, 5, 5, 1, 9, 6, 5, 9, 9, 4, 1, 1, 8, 4, 3, 0, 2, 9, 7, 4, 4, 9, 5, 2, 3, 0, 2, 4, 9, 7, 6, 8, 1, 2, 4, 3, 0, 7, 2, 6, 7, 0, 6, 0, 1, 3, 4, 5, 2, 0, 0, 0, 4, 9, 2, 1, 5, 7, 3, 1, 0, 5, 9, 6, 3, 6, 3, 0, 4, 2, 8, 0, 5, 1, 7, 5, 2, 8, 2, 5, 0, 8, 8, 9, 4, 5, 6, 9, 6, 5, 3, 0, 8, 8, 2, 3, 7, 6, 5, 8, 7, 3, 3, 8, 4, 8, 3, 2, 6, 8, 3, 9, 4, 3, 4, 7, 1, 7, 9, 1, 4, 4, 3, 1, 4, 7, 0, 6, 5, 6, 3, 7, 0, 3, 2, 7, 9, 8, 0, 7, 7, 2, 6, 7, 0, 1, 8, 0, 6, 7, 7, 4, 5, 0, 1, 2, 2, 7, 3, 7, 1, 5, 6, 1, 7, 9, 7, 1, 8, 6, 7, 3, 2, 5, 7, 6, 3, 9, 3, 2, 4, 7, 7, 5, 0, 8, 4, 6, 6, 8, 4, 9, 5, 5, 0, 5, 4, 3, 3, 7, 5, 6, 9, 9, 7, 6, 9, 6, 3, 7, 5, 7, 1, 6, 6, 1, 7, 3, 0, 7, 8, 0, 5, 8, 0, 1, 0, 7, 7, 8, 0, 0, 5, 4, 1, 7, 3, 4, 5, 3, 5, 0, 4, 1, 1, 3, 4, 8, 0, 9, 1, 5, 2, 7, 3, 6, 8, 5, 2, 0, 6, 7, 6, 8, 5, 9, 4, 4, 0, 0, 2, 0, 1, 2, 4, 0, 4, 8, 5, 2, 3, 4, 1, 8, 4, 0, 5, 2, 5, 7, 8, 5, 6, 9, 4, 9, 2, 5, 5, 4, 3, 4, 5, 4, 0, 8, 1, 7, 2, 9, 8, 0, 3, 3, 1, 9, 7, 9, 5, 0, 7, 4, 1, 9, 2, 6, 5, 1, 4, 0, 3, 2, 2, 4, 8, 9, 0, 0, 1, 4, 8, 9, 1, 7, 3, 8, 9, 5, 0, 7, 5, 9, 4, 1, 7, 5, 6, 6, 6, 2, 9, 6, 6, 6, 9, 8, 3, 4, 1, 9, 8, 9, 1, 3, 3, 3, 2, 5, 6, 7, 2, 9, 8, 5, 4, 1, 3, 5, 0, 8, 6, 8, 9, 2, 1, 9, 4, 5, 6, 6, 0, 3, 3, 3, 4, 1, 9, 4, 9, 4, 4, 8, 8, 9, 4, 8, 9, 2, 2, 2, 2, 3, 0, 7, 9, 9, 9, 5, 6, 4, 3, 2, 4, 0, 9, 6, 4, 5, 9, 2, 7, 3, 1, 7, 2, 3, 5, 4, 3, 3, 5, 9, 1, 4, 0, 4, 8, 9, 1, 5, 1, 4, 5, 4, 7, 9, 5, 5, 1, 5, 0, 4, 9, 4, 9, 3, 4, 7, 6, 5, 9, 7, 2, 1, 8, 4, 4, 4, 2, 9, 6, 6, 4, 6, 8, 5, 6, 8, 1, 7, 1, 2, 2, 0, 4, 4, 1, 3, 2, 6, 3, 9, 0, 3, 2, 0, 7, 1, 2, 0, 6, 6, 1, 4, 6, 7, 4, 1, 5, 9, 8, 3, 9, 4, 6, 5, 4, 4, 3, 8, 5, 1, 3, 5, 9, 4, 5, 1, 6, 4, 5, 3, 8, 2, 6, 8, 6, 5, 7, 9, 5, 3, 2, 9, 2, 4, 9, 6, 2, 3, 5, 0, 7, 7, 7, 6, 5, 0, 5, 6, 9, 5, 6, 3, 1, 5, 1, 5, 2, 1, 9, 9, 9, 7, 2, 2, 3, 3, 1, 1, 2, 9, 9, 0, 2, 6, 8, 1, 3, 5, 9, 1, 7, 7, 3, 1, 7, 0, 2, 2, 0, 1, 4, 0, 2, 0, 0, 5, 3, 8, 7, 1, 7, 1, 2, 6, 0, 6, 0, 9, 7, 0, 6, 2, 8, 3, 8, 0, 2, 6, 2, 6, 5, 8, 3, 4, 1, 0, 2, 9, 9, 5, 6, 3, 6, 7, 6, 4, 6, 1, 9, 0, 6, 0, 7, 4, 4, 3, 8, 5, 7, 9, 3, 6, 0, 7, 4, 1, 9, 4, 4, 0, 5, 8, 3, 0, 1, 8, 2, 4, 5, 0, 7, 3, 2, 5, 3, 5, 1, 9, 3, 5, 0, 0, 3, 6, 0, 6, 9, 8, 5, 6, 5, 2, 8, 4, 2, 7, 2, 6, 6, 2, 5, 8, 2, 0, 4, 6, 8, 9, 9, 7, 4, 8, 3, 3, 3, 3, 6, 1, 0, 5, 6, 3, 9, 7, 9, 6, 0, 2, 3, 8, 6, 4, 3, 2, 5, 8, 7, 8, 9, 2, 4, 0, 6, 3, 2, 7, 6, 9, 8, 8, 3, 3, 5, 5, 6, 7, 3, 5, 0, 3, 8, 9, 5, 6, 7, 9, 0, 9, 5, 0, 2, 2, 0, 3, 5, 4, 9, 0, 0, 1, 6, 0, 3, 4, 2, 1, 6, 4, 3, 8, 1, 2, 3, 9, 3, 8, 2, 5, 6, 5, 6, 9, 8, 4, 0, 8, 7, 7, 5, 1, 9, 7, 5, 2, 7, 1, 0]\n",
      "[9, 6, 6, 2, 4, 9, 9, 3, 3, 4, 2, 8, 0, 4, 5, 8, 4, 3, 4, 6, 5, 0, 7, 8, 4, 8, 7, 7, 7, 1, 8, 8, 1, 6, 7, 6, 0, 3, 1, 2, 8, 2, 5, 2, 6, 0, 0, 5, 6, 3, 0, 8, 9, 2, 8, 0, 0, 5, 1, 8, 3, 0, 7, 3, 6, 8, 6, 5, 4, 3, 7, 7, 3, 9, 3, 5, 6, 7, 3, 1, 1, 4, 8, 9, 2, 9, 4, 6, 6, 3, 8, 3, 4, 4, 6, 0, 2, 4, 8, 0, 9, 2, 9, 7, 7, 9, 3, 5, 8, 7, 0, 8, 4, 3, 9, 6, 2, 2, 1, 4, 6, 8, 1, 8, 7, 1, 2, 2, 8, 1, 3, 9, 1, 1, 7, 9, 2, 5, 9, 2, 8, 1, 1, 8, 7, 7, 8, 6, 5, 7, 9, 4, 5, 5, 1, 9, 6, 5, 9, 9, 4, 1, 1, 8, 4, 3, 0, 2, 9, 7, 4, 4, 9, 5, 2, 3, 0, 2, 4, 9, 7, 6, 8, 1, 2, 4, 3, 0, 7, 2, 6, 7, 0, 6, 0, 1, 3, 4, 5, 2, 0, 0, 0, 4, 9, 2, 1, 5, 7, 3, 1, 0, 5, 9, 6, 3, 6, 3, 0, 4, 2, 8, 0, 5, 1, 7, 5, 2, 8, 2, 5, 0, 8, 8, 9, 4, 5, 6, 9, 6, 5, 3, 0, 8, 8, 2, 3, 7, 6, 5, 8, 7, 3, 3, 8, 4, 8, 3, 2, 6, 8, 3, 9, 4, 3, 4, 7, 1, 7, 9, 1, 4, 4, 3, 1, 4, 7, 0, 6, 5, 6, 3, 7, 0, 3, 2, 7, 9, 8, 0, 7, 7, 2, 6, 7, 0, 1, 8, 0, 6, 7, 7, 4, 5, 0, 1, 2, 2, 7, 3, 7, 1, 5, 6, 1, 7, 9, 7, 1, 8, 6, 7, 3, 2, 5, 7, 6, 3, 9, 3, 2, 4, 7, 7, 5, 0, 8, 4, 6, 6, 8, 4, 9, 5, 5, 0, 5, 4, 3, 3, 7, 5, 6, 9, 9, 7, 6, 9, 6, 3, 7, 5, 7, 1, 6, 6, 1, 7, 3, 0, 7, 8, 0, 5, 8, 0, 1, 0, 7, 7, 8, 0, 0, 5, 4, 1, 7, 3, 4, 5, 3, 5, 0, 4, 1, 1, 3, 4, 8, 0, 9, 1, 5, 2, 7, 3, 6, 8, 5, 2, 0, 6, 7, 6, 8, 5, 9, 4, 4, 0, 0, 2, 0, 1, 2, 4, 0, 4, 8, 5, 2, 3, 4, 1, 8, 4, 0, 5, 2, 5, 7, 8, 5, 6, 9, 4, 9, 2, 5, 5, 4, 3, 4, 5, 4, 0, 8, 1, 7, 2, 9, 8, 0, 3, 3, 1, 9, 7, 9, 5, 0, 7, 4, 1, 9, 2, 6, 5, 1, 4, 0, 3, 2, 2, 4, 8, 9, 0, 0, 1, 4, 8, 9, 1, 7, 3, 8, 9, 5, 0, 7, 5, 9, 4, 1, 7, 5, 6, 6, 6, 2, 9, 6, 6, 6, 9, 8, 3, 4, 1, 9, 8, 9, 1, 3, 3, 3, 2, 5, 6, 7, 2, 9, 8, 5, 4, 1, 3, 5, 0, 8, 6, 8, 9, 2, 1, 9, 4, 5, 6, 6, 0, 3, 3, 3, 4, 1, 9, 4, 9, 4, 4, 8, 8, 9, 4, 8, 9, 2, 2, 2, 2, 3, 0, 7, 9, 9, 9, 5, 6, 4, 3, 2, 4, 0, 9, 6, 4, 5, 9, 2, 7, 3, 1, 7, 2, 3, 5, 4, 3, 3, 5, 9, 1, 4, 0, 4, 8, 9, 1, 5, 1, 4, 5, 4, 7, 9, 5, 5, 1, 5, 0, 4, 9, 4, 9, 3, 4, 7, 6, 5, 9, 7, 2, 1, 8, 4, 4, 4, 2, 9, 6, 6, 4, 6, 8, 5, 6, 8, 1, 7, 1, 2, 2, 0, 4, 4, 1, 3, 2, 6, 3, 9, 0, 3, 2, 0, 7, 1, 2, 0, 6, 6, 1, 4, 6, 7, 4, 1, 5, 9, 8, 3, 9, 4, 6, 5, 4, 4, 3, 8, 5, 1, 3, 5, 9, 4, 5, 1, 6, 4, 5, 3, 8, 2, 6, 8, 6, 5, 7, 9, 5, 3, 2, 9, 2, 4, 9, 6, 2, 3, 5, 0, 7, 7, 7, 6, 5, 0, 5, 6, 9, 5, 6, 3, 1, 5, 1, 5, 2, 1, 9, 9, 9, 7, 2, 2, 3, 3, 1, 1, 2, 9, 9, 0, 2, 6, 8, 1, 3, 5, 9, 1, 7, 7, 3, 1, 7, 0, 2, 2, 0, 1, 4, 0, 2, 0, 0, 5, 3, 8, 7, 1, 7, 1, 2, 6, 0, 6, 0, 9, 7, 0, 6, 2, 8, 3, 8, 0, 2, 6, 2, 6, 5, 8, 3, 4, 1, 0, 2, 9, 9, 5, 6, 3, 6, 7, 6, 4, 6, 1, 9, 0, 6, 0, 7, 4, 4, 3, 8, 5, 7, 9, 3, 6, 0, 7, 4, 1, 9, 4, 4, 0, 5, 8, 3, 0, 1, 8, 2, 4, 5, 0, 7, 3, 2, 5, 3, 5, 1, 9, 3, 5, 0, 0, 3, 6, 0, 6, 9, 8, 5, 6, 5, 2, 8, 4, 2, 7, 2, 6, 6, 2, 5, 8, 2, 0, 4, 6, 8, 9, 9, 7, 4, 8, 3, 3, 3, 3, 6, 1, 0, 5, 6, 3, 9, 7, 9, 6, 0, 2, 3, 8, 6, 4, 3, 2, 5, 8, 7, 8, 9, 2, 4, 0, 6, 3, 2, 7, 6, 9, 8, 8, 3, 3, 5, 5, 6, 7, 3, 5, 0, 3, 8, 9, 5, 6, 7, 9, 0, 9, 5, 0, 2, 2, 0, 3, 5, 4, 9, 0, 0, 1, 6, 0, 3, 4, 2, 1, 6, 4, 3, 8, 1, 2, 3, 9, 3, 8, 2, 5, 6, 5, 6, 9, 8, 4, 0, 8, 7, 7, 5, 1, 9, 7, 5, 2, 7, 1, 0]\n",
      "[9, 6, 6, 2, 4, 9, 9, 3, 3, 4, 2, 8, 0, 4, 5, 8, 4, 3, 4, 6, 5, 0, 7, 8, 4, 8, 7, 7, 7, 1, 8, 8, 1, 6, 7, 6, 0, 3, 1, 2, 8, 2, 5, 2, 6, 0, 0, 5, 6, 3, 0, 8, 9, 2, 8, 0, 0, 5, 1, 8, 3, 0, 7, 3, 6, 8, 6, 5, 4, 3, 7, 7, 3, 9, 3, 5, 6, 7, 3, 1, 1, 4, 8, 9, 2, 9, 4, 6, 6, 3, 8, 3, 4, 4, 6, 0, 2, 4, 8, 0, 9, 2, 9, 7, 7, 9, 3, 5, 8, 7, 0, 8, 4, 3, 9, 6, 2, 2, 1, 4, 6, 8, 1, 8, 7, 1, 2, 2, 8, 1, 3, 9, 1, 1, 7, 9, 2, 5, 9, 2, 8, 1, 1, 8, 7, 7, 8, 6, 5, 7, 9, 4, 5, 5, 1, 9, 6, 5, 9, 9, 4, 1, 1, 8, 4, 3, 0, 2, 9, 7, 4, 4, 9, 5, 2, 3, 0, 2, 4, 9, 7, 6, 8, 1, 2, 4, 3, 0, 7, 2, 6, 7, 0, 6, 0, 1, 3, 4, 5, 2, 0, 0, 0, 4, 9, 2, 1, 5, 7, 3, 1, 0, 5, 9, 6, 3, 6, 3, 0, 4, 2, 8, 0, 5, 1, 7, 5, 2, 8, 2, 5, 0, 8, 8, 9, 4, 5, 6, 9, 6, 5, 3, 0, 8, 8, 2, 3, 7, 6, 5, 8, 7, 3, 3, 8, 4, 8, 3, 2, 6, 8, 3, 9, 4, 3, 4, 7, 1, 7, 9, 1, 4, 4, 3, 1, 4, 7, 0, 6, 5, 6, 3, 7, 0, 3, 2, 7, 9, 8, 0, 7, 7, 2, 6, 7, 0, 1, 8, 0, 6, 7, 7, 4, 5, 0, 1, 2, 2, 7, 3, 7, 1, 5, 6, 1, 7, 9, 7, 1, 8, 6, 7, 3, 2, 5, 7, 6, 3, 9, 3, 2, 4, 7, 7, 5, 0, 8, 4, 6, 6, 8, 4, 9, 5, 5, 0, 5, 4, 3, 3, 7, 5, 6, 9, 9, 7, 6, 9, 6, 3, 7, 5, 7, 1, 6, 6, 1, 7, 3, 0, 7, 8, 0, 5, 8, 0, 1, 0, 7, 7, 8, 0, 0, 5, 4, 1, 7, 3, 4, 5, 3, 5, 0, 4, 1, 1, 3, 4, 8, 0, 9, 1, 5, 2, 7, 3, 6, 8, 5, 2, 0, 6, 7, 6, 8, 5, 9, 4, 4, 0, 0, 2, 0, 1, 2, 4, 0, 4, 8, 5, 2, 3, 4, 1, 8, 4, 0, 5, 2, 5, 7, 8, 5, 6, 9, 4, 9, 2, 5, 5, 4, 3, 4, 5, 4, 0, 8, 1, 7, 2, 9, 8, 0, 3, 3, 1, 9, 7, 9, 5, 0, 7, 4, 1, 9, 2, 6, 5, 1, 4, 0, 3, 2, 2, 4, 8, 9, 0, 0, 1, 4, 8, 9, 1, 7, 3, 8, 9, 5, 0, 7, 5, 9, 4, 1, 7, 5, 6, 6, 6, 2, 9, 6, 6, 6, 9, 8, 3, 4, 1, 9, 8, 9, 1, 3, 3, 3, 2, 5, 6, 7, 2, 9, 8, 5, 4, 1, 3, 5, 0, 8, 6, 8, 9, 2, 1, 9, 4, 5, 6, 6, 0, 3, 3, 3, 4, 1, 9, 4, 9, 4, 4, 8, 8, 9, 4, 8, 9, 2, 2, 2, 2, 3, 0, 7, 9, 9, 9, 5, 6, 4, 3, 2, 4, 0, 9, 6, 4, 5, 9, 2, 7, 3, 1, 7, 2, 3, 5, 4, 3, 3, 5, 9, 1, 4, 0, 4, 8, 9, 1, 5, 1, 4, 5, 4, 7, 9, 5, 5, 1, 5, 0, 4, 9, 4, 9, 3, 4, 7, 6, 5, 9, 7, 2, 1, 8, 4, 4, 4, 2, 9, 6, 6, 4, 6, 8, 5, 6, 8, 1, 7, 1, 2, 2, 0, 4, 4, 1, 3, 2, 6, 3, 9, 0, 3, 2, 0, 7, 1, 2, 0, 6, 6, 1, 4, 6, 7, 4, 1, 5, 9, 8, 3, 9, 4, 6, 5, 4, 4, 3, 8, 5, 1, 3, 5, 9, 4, 5, 1, 6, 4, 5, 3, 8, 2, 6, 8, 6, 5, 7, 9, 5, 3, 2, 9, 2, 4, 9, 6, 2, 3, 5, 0, 7, 7, 7, 6, 5, 0, 5, 6, 9, 5, 6, 3, 1, 5, 1, 5, 2, 1, 9, 9, 9, 7, 2, 2, 3, 3, 1, 1, 2, 9, 9, 0, 2, 6, 8, 1, 3, 5, 9, 1, 7, 7, 3, 1, 7, 0, 2, 2, 0, 1, 4, 0, 2, 0, 0, 5, 3, 8, 7, 1, 7, 1, 2, 6, 0, 6, 0, 9, 7, 0, 6, 2, 8, 3, 8, 0, 2, 6, 2, 6, 5, 8, 3, 4, 1, 0, 2, 9, 9, 5, 6, 3, 6, 7, 6, 4, 6, 1, 9, 0, 6, 0, 7, 4, 4, 3, 8, 5, 7, 9, 3, 6, 0, 7, 4, 1, 9, 4, 4, 0, 5, 8, 3, 0, 1, 8, 2, 4, 5, 0, 7, 3, 2, 5, 3, 5, 1, 9, 3, 5, 0, 0, 3, 6, 0, 6, 9, 8, 5, 6, 5, 2, 8, 4, 2, 7, 2, 6, 6, 2, 5, 8, 2, 0, 4, 6, 8, 9, 9, 7, 4, 8, 3, 3, 3, 3, 6, 1, 0, 5, 6, 3, 9, 7, 9, 6, 0, 2, 3, 8, 6, 4, 3, 2, 5, 8, 7, 8, 9, 2, 4, 0, 6, 3, 2, 7, 6, 9, 8, 8, 3, 3, 5, 5, 6, 7, 3, 5, 0, 3, 8, 9, 5, 6, 7, 9, 0, 9, 5, 0, 2, 2, 0, 3, 5, 4, 9, 0, 0, 1, 6, 0, 3, 4, 2, 1, 6, 4, 3, 8, 1, 2, 3, 9, 3, 8, 2, 5, 6, 5, 6, 9, 8, 4, 0, 8, 7, 7, 5, 1, 9, 7, 5, 2, 7, 1, 0]\n",
      "[9, 6, 6, 2, 4, 9, 9, 3, 3, 4, 2, 8, 0, 4, 5, 8, 4, 3, 4, 6, 5, 0, 7, 8, 4, 8, 7, 7, 7, 1, 8, 8, 1, 6, 7, 6, 0, 3, 1, 2, 8, 2, 5, 2, 6, 0, 0, 5, 6, 3, 0, 8, 9, 2, 8, 0, 0, 5, 1, 8, 3, 0, 7, 3, 6, 8, 6, 5, 4, 3, 7, 7, 3, 9, 3, 5, 6, 7, 3, 1, 1, 4, 8, 9, 2, 9, 4, 6, 6, 3, 8, 3, 4, 4, 6, 0, 2, 4, 8, 0, 9, 2, 9, 7, 7, 9, 3, 5, 8, 7, 0, 8, 4, 3, 9, 6, 2, 2, 1, 4, 6, 8, 1, 8, 7, 1, 2, 2, 8, 1, 3, 9, 1, 1, 7, 9, 2, 5, 9, 2, 8, 1, 1, 8, 7, 7, 8, 6, 5, 7, 9, 4, 5, 5, 1, 9, 6, 5, 9, 9, 4, 1, 1, 8, 4, 3, 0, 2, 9, 7, 4, 4, 9, 5, 2, 3, 0, 2, 4, 9, 7, 6, 8, 1, 2, 4, 3, 0, 7, 2, 6, 7, 0, 6, 0, 1, 3, 4, 5, 2, 0, 0, 0, 4, 9, 2, 1, 5, 7, 3, 1, 0, 5, 9, 6, 3, 6, 3, 0, 4, 2, 8, 0, 5, 1, 7, 5, 2, 8, 2, 5, 0, 8, 8, 9, 4, 5, 6, 9, 6, 5, 3, 0, 8, 8, 2, 3, 7, 6, 5, 8, 7, 3, 3, 8, 4, 8, 3, 2, 6, 8, 3, 9, 4, 3, 4, 7, 1, 7, 9, 1, 4, 4, 3, 1, 4, 7, 0, 6, 5, 6, 3, 7, 0, 3, 2, 7, 9, 8, 0, 7, 7, 2, 6, 7, 0, 1, 8, 0, 6, 7, 7, 4, 5, 0, 1, 2, 2, 7, 3, 7, 1, 5, 6, 1, 7, 9, 7, 1, 8, 6, 7, 3, 2, 5, 7, 6, 3, 9, 3, 2, 4, 7, 7, 5, 0, 8, 4, 6, 6, 8, 4, 9, 5, 5, 0, 5, 4, 3, 3, 7, 5, 6, 9, 9, 7, 6, 9, 6, 3, 7, 5, 7, 1, 6, 6, 1, 7, 3, 0, 7, 8, 0, 5, 8, 0, 1, 0, 7, 7, 8, 0, 0, 5, 4, 1, 7, 3, 4, 5, 3, 5, 0, 4, 1, 1, 3, 4, 8, 0, 9, 1, 5, 2, 7, 3, 6, 8, 5, 2, 0, 6, 7, 6, 8, 5, 9, 4, 4, 0, 0, 2, 0, 1, 2, 4, 0, 4, 8, 5, 2, 3, 4, 1, 8, 4, 0, 5, 2, 5, 7, 8, 5, 6, 9, 4, 9, 2, 5, 5, 4, 3, 4, 5, 4, 0, 8, 1, 7, 2, 9, 8, 0, 3, 3, 1, 9, 7, 9, 5, 0, 7, 4, 1, 9, 2, 6, 5, 1, 4, 0, 3, 2, 2, 4, 8, 9, 0, 0, 1, 4, 8, 9, 1, 7, 3, 8, 9, 5, 0, 7, 5, 9, 4, 1, 7, 5, 6, 6, 6, 2, 9, 6, 6, 6, 9, 8, 3, 4, 1, 9, 8, 9, 1, 3, 3, 3, 2, 5, 6, 7, 2, 9, 8, 5, 4, 1, 3, 5, 0, 8, 6, 8, 9, 2, 1, 9, 4, 5, 6, 6, 0, 3, 3, 3, 4, 1, 9, 4, 9, 4, 4, 8, 8, 9, 4, 8, 9, 2, 2, 2, 2, 3, 0, 7, 9, 9, 9, 5, 6, 4, 3, 2, 4, 0, 9, 6, 4, 5, 9, 2, 7, 3, 1, 7, 2, 3, 5, 4, 3, 3, 5, 9, 1, 4, 0, 4, 8, 9, 1, 5, 1, 4, 5, 4, 7, 9, 5, 5, 1, 5, 0, 4, 9, 4, 9, 3, 4, 7, 6, 5, 9, 7, 2, 1, 8, 4, 4, 4, 2, 9, 6, 6, 4, 6, 8, 5, 6, 8, 1, 7, 1, 2, 2, 0, 4, 4, 1, 3, 2, 6, 3, 9, 0, 3, 2, 0, 7, 1, 2, 0, 6, 6, 1, 4, 6, 7, 4, 1, 5, 9, 8, 3, 9, 4, 6, 5, 4, 4, 3, 8, 5, 1, 3, 5, 9, 4, 5, 1, 6, 4, 5, 3, 8, 2, 6, 8, 6, 5, 7, 9, 5, 3, 2, 9, 2, 4, 9, 6, 2, 3, 5, 0, 7, 7, 7, 6, 5, 0, 5, 6, 9, 5, 6, 3, 1, 5, 1, 5, 2, 1, 9, 9, 9, 7, 2, 2, 3, 3, 1, 1, 2, 9, 9, 0, 2, 6, 8, 1, 3, 5, 9, 1, 7, 7, 3, 1, 7, 0, 2, 2, 0, 1, 4, 0, 2, 0, 0, 5, 3, 8, 7, 1, 7, 1, 2, 6, 0, 6, 0, 9, 7, 0, 6, 2, 8, 3, 8, 0, 2, 6, 2, 6, 5, 8, 3, 4, 1, 0, 2, 9, 9, 5, 6, 3, 6, 7, 6, 4, 6, 1, 9, 0, 6, 0, 7, 4, 4, 3, 8, 5, 7, 9, 3, 6, 0, 7, 4, 1, 9, 4, 4, 0, 5, 8, 3, 0, 1, 8, 2, 4, 5, 0, 7, 3, 2, 5, 3, 5, 1, 9, 3, 5, 0, 0, 3, 6, 0, 6, 9, 8, 5, 6, 5, 2, 8, 4, 2, 7, 2, 6, 6, 2, 5, 8, 2, 0, 4, 6, 8, 9, 9, 7, 4, 8, 3, 3, 3, 3, 6, 1, 0, 5, 6, 3, 9, 7, 9, 6, 0, 2, 3, 8, 6, 4, 3, 2, 5, 8, 7, 8, 9, 2, 4, 0, 6, 3, 2, 7, 6, 9, 8, 8, 3, 3, 5, 5, 6, 7, 3, 5, 0, 3, 8, 9, 5, 6, 7, 9, 0, 9, 5, 0, 2, 2, 0, 3, 5, 4, 9, 0, 0, 1, 6, 0, 3, 4, 2, 1, 6, 4, 3, 8, 1, 2, 3, 9, 3, 8, 2, 5, 6, 5, 6, 9, 8, 4, 0, 8, 7, 7, 5, 1, 9, 7, 5, 2, 7, 1, 0]\n",
      "[9, 6, 6, 2, 4, 9, 9, 3, 3, 4, 2, 8, 0, 4, 5, 8, 4, 3, 4, 6, 5, 0, 7, 8, 4, 8, 7, 7, 7, 1, 8, 8, 1, 6, 7, 6, 0, 3, 1, 2, 8, 2, 5, 2, 6, 0, 0, 5, 6, 3, 0, 8, 9, 2, 8, 0, 0, 5, 1, 8, 3, 0, 7, 3, 6, 8, 6, 5, 4, 3, 7, 7, 3, 9, 3, 5, 6, 7, 3, 1, 1, 4, 8, 9, 2, 9, 4, 6, 6, 3, 8, 3, 4, 4, 6, 0, 2, 4, 8, 0, 9, 2, 9, 7, 7, 9, 3, 5, 8, 7, 0, 8, 4, 3, 9, 6, 2, 2, 1, 4, 6, 8, 1, 8, 7, 1, 2, 2, 8, 1, 3, 9, 1, 1, 7, 9, 2, 5, 9, 2, 8, 1, 1, 8, 7, 7, 8, 6, 5, 7, 9, 4, 5, 5, 1, 9, 6, 5, 9, 9, 4, 1, 1, 8, 4, 3, 0, 2, 9, 7, 4, 4, 9, 5, 2, 3, 0, 2, 4, 9, 7, 6, 8, 1, 2, 4, 3, 0, 7, 2, 6, 7, 0, 6, 0, 1, 3, 4, 5, 2, 0, 0, 0, 4, 9, 2, 1, 5, 7, 3, 1, 0, 5, 9, 6, 3, 6, 3, 0, 4, 2, 8, 0, 5, 1, 7, 5, 2, 8, 2, 5, 0, 8, 8, 9, 4, 5, 6, 9, 6, 5, 3, 0, 8, 8, 2, 3, 7, 6, 5, 8, 7, 3, 3, 8, 4, 8, 3, 2, 6, 8, 3, 9, 4, 3, 4, 7, 1, 7, 9, 1, 4, 4, 3, 1, 4, 7, 0, 6, 5, 6, 3, 7, 0, 3, 2, 7, 9, 8, 0, 7, 7, 2, 6, 7, 0, 1, 8, 0, 6, 7, 7, 4, 5, 0, 1, 2, 2, 7, 3, 7, 1, 5, 6, 1, 7, 9, 7, 1, 8, 6, 7, 3, 2, 5, 7, 6, 3, 9, 3, 2, 4, 7, 7, 5, 0, 8, 4, 6, 6, 8, 4, 9, 5, 5, 0, 5, 4, 3, 3, 7, 5, 6, 9, 9, 7, 6, 9, 6, 3, 7, 5, 7, 1, 6, 6, 1, 7, 3, 0, 7, 8, 0, 5, 8, 0, 1, 0, 7, 7, 8, 0, 0, 5, 4, 1, 7, 3, 4, 5, 3, 5, 0, 4, 1, 1, 3, 4, 8, 0, 9, 1, 5, 2, 7, 3, 6, 8, 5, 2, 0, 6, 7, 6, 8, 5, 9, 4, 4, 0, 0, 2, 0, 1, 2, 4, 0, 4, 8, 5, 2, 3, 4, 1, 8, 4, 0, 5, 2, 5, 7, 8, 5, 6, 9, 4, 9, 2, 5, 5, 4, 3, 4, 5, 4, 0, 8, 1, 7, 2, 9, 8, 0, 3, 3, 1, 9, 7, 9, 5, 0, 7, 4, 1, 9, 2, 6, 5, 1, 4, 0, 3, 2, 2, 4, 8, 9, 0, 0, 1, 4, 8, 9, 1, 7, 3, 8, 9, 5, 0, 7, 5, 9, 4, 1, 7, 5, 6, 6, 6, 2, 9, 6, 6, 6, 9, 8, 3, 4, 1, 9, 8, 9, 1, 3, 3, 3, 2, 5, 6, 7, 2, 9, 8, 5, 4, 1, 3, 5, 0, 8, 6, 8, 9, 2, 1, 9, 4, 5, 6, 6, 0, 3, 3, 3, 4, 1, 9, 4, 9, 4, 4, 8, 8, 9, 4, 8, 9, 2, 2, 2, 2, 3, 0, 7, 9, 9, 9, 5, 6, 4, 3, 2, 4, 0, 9, 6, 4, 5, 9, 2, 7, 3, 1, 7, 2, 3, 5, 4, 3, 3, 5, 9, 1, 4, 0, 4, 8, 9, 1, 5, 1, 4, 5, 4, 7, 9, 5, 5, 1, 5, 0, 4, 9, 4, 9, 3, 4, 7, 6, 5, 9, 7, 2, 1, 8, 4, 4, 4, 2, 9, 6, 6, 4, 6, 8, 5, 6, 8, 1, 7, 1, 2, 2, 0, 4, 4, 1, 3, 2, 6, 3, 9, 0, 3, 2, 0, 7, 1, 2, 0, 6, 6, 1, 4, 6, 7, 4, 1, 5, 9, 8, 3, 9, 4, 6, 5, 4, 4, 3, 8, 5, 1, 3, 5, 9, 4, 5, 1, 6, 4, 5, 3, 8, 2, 6, 8, 6, 5, 7, 9, 5, 3, 2, 9, 2, 4, 9, 6, 2, 3, 5, 0, 7, 7, 7, 6, 5, 0, 5, 6, 9, 5, 6, 3, 1, 5, 1, 5, 2, 1, 9, 9, 9, 7, 2, 2, 3, 3, 1, 1, 2, 9, 9, 0, 2, 6, 8, 1, 3, 5, 9, 1, 7, 7, 3, 1, 7, 0, 2, 2, 0, 1, 4, 0, 2, 0, 0, 5, 3, 8, 7, 1, 7, 1, 2, 6, 0, 6, 0, 9, 7, 0, 6, 2, 8, 3, 8, 0, 2, 6, 2, 6, 5, 8, 3, 4, 1, 0, 2, 9, 9, 5, 6, 3, 6, 7, 6, 4, 6, 1, 9, 0, 6, 0, 7, 4, 4, 3, 8, 5, 7, 9, 3, 6, 0, 7, 4, 1, 9, 4, 4, 0, 5, 8, 3, 0, 1, 8, 2, 4, 5, 0, 7, 3, 2, 5, 3, 5, 1, 9, 3, 5, 0, 0, 3, 6, 0, 6, 9, 8, 5, 6, 5, 2, 8, 4, 2, 7, 2, 6, 6, 2, 5, 8, 2, 0, 4, 6, 8, 9, 9, 7, 4, 8, 3, 3, 3, 3, 6, 1, 0, 5, 6, 3, 9, 7, 9, 6, 0, 2, 3, 8, 6, 4, 3, 2, 5, 8, 7, 8, 9, 2, 4, 0, 6, 3, 2, 7, 6, 9, 8, 8, 3, 3, 5, 5, 6, 7, 3, 5, 0, 3, 8, 9, 5, 6, 7, 9, 0, 9, 5, 0, 2, 2, 0, 3, 5, 4, 9, 0, 0, 1, 6, 0, 3, 4, 2, 1, 6, 4, 3, 8, 1, 2, 3, 9, 3, 8, 2, 5, 6, 5, 6, 9, 8, 4, 0, 8, 7, 7, 5, 1, 9, 7, 5, 2, 7, 1, 0]\n",
      "[9, 6, 6, 2, 4, 9, 9, 3, 3, 4, 2, 8, 0, 4, 5, 8, 4, 3, 4, 6, 5, 0, 7, 8, 4, 8, 7, 7, 7, 1, 8, 8, 1, 6, 7, 6, 0, 3, 1, 2, 8, 2, 5, 2, 6, 0, 0, 5, 6, 3, 0, 8, 9, 2, 8, 0, 0, 5, 1, 8, 3, 0, 7, 3, 6, 8, 6, 5, 4, 3, 7, 7, 3, 9, 3, 5, 6, 7, 3, 1, 1, 4, 8, 9, 2, 9, 4, 6, 6, 3, 8, 3, 4, 4, 6, 0, 2, 4, 8, 0, 9, 2, 9, 7, 7, 9, 3, 5, 8, 7, 0, 8, 4, 3, 9, 6, 2, 2, 1, 4, 6, 8, 1, 8, 7, 1, 2, 2, 8, 1, 3, 9, 1, 1, 7, 9, 2, 5, 9, 2, 8, 1, 1, 8, 7, 7, 8, 6, 5, 7, 9, 4, 5, 5, 1, 9, 6, 5, 9, 9, 4, 1, 1, 8, 4, 3, 0, 2, 9, 7, 4, 4, 9, 5, 2, 3, 0, 2, 4, 9, 7, 6, 8, 1, 2, 4, 3, 0, 7, 2, 6, 7, 0, 6, 0, 1, 3, 4, 5, 2, 0, 0, 0, 4, 9, 2, 1, 5, 7, 3, 1, 0, 5, 9, 6, 3, 6, 3, 0, 4, 2, 8, 0, 5, 1, 7, 5, 2, 8, 2, 5, 0, 8, 8, 9, 4, 5, 6, 9, 6, 5, 3, 0, 8, 8, 2, 3, 7, 6, 5, 8, 7, 3, 3, 8, 4, 8, 3, 2, 6, 8, 3, 9, 4, 3, 4, 7, 1, 7, 9, 1, 4, 4, 3, 1, 4, 7, 0, 6, 5, 6, 3, 7, 0, 3, 2, 7, 9, 8, 0, 7, 7, 2, 6, 7, 0, 1, 8, 0, 6, 7, 7, 4, 5, 0, 1, 2, 2, 7, 3, 7, 1, 5, 6, 1, 7, 9, 7, 1, 8, 6, 7, 3, 2, 5, 7, 6, 3, 9, 3, 2, 4, 7, 7, 5, 0, 8, 4, 6, 6, 8, 4, 9, 5, 5, 0, 5, 4, 3, 3, 7, 5, 6, 9, 9, 7, 6, 9, 6, 3, 7, 5, 7, 1, 6, 6, 1, 7, 3, 0, 7, 8, 0, 5, 8, 0, 1, 0, 7, 7, 8, 0, 0, 5, 4, 1, 7, 3, 4, 5, 3, 5, 0, 4, 1, 1, 3, 4, 8, 0, 9, 1, 5, 2, 7, 3, 6, 8, 5, 2, 0, 6, 7, 6, 8, 5, 9, 4, 4, 0, 0, 2, 0, 1, 2, 4, 0, 4, 8, 5, 2, 3, 4, 1, 8, 4, 0, 5, 2, 5, 7, 8, 5, 6, 9, 4, 9, 2, 5, 5, 4, 3, 4, 5, 4, 0, 8, 1, 7, 2, 9, 8, 0, 3, 3, 1, 9, 7, 9, 5, 0, 7, 4, 1, 9, 2, 6, 5, 1, 4, 0, 3, 2, 2, 4, 8, 9, 0, 0, 1, 4, 8, 9, 1, 7, 3, 8, 9, 5, 0, 7, 5, 9, 4, 1, 7, 5, 6, 6, 6, 2, 9, 6, 6, 6, 9, 8, 3, 4, 1, 9, 8, 9, 1, 3, 3, 3, 2, 5, 6, 7, 2, 9, 8, 5, 4, 1, 3, 5, 0, 8, 6, 8, 9, 2, 1, 9, 4, 5, 6, 6, 0, 3, 3, 3, 4, 1, 9, 4, 9, 4, 4, 8, 8, 9, 4, 8, 9, 2, 2, 2, 2, 3, 0, 7, 9, 9, 9, 5, 6, 4, 3, 2, 4, 0, 9, 6, 4, 5, 9, 2, 7, 3, 1, 7, 2, 3, 5, 4, 3, 3, 5, 9, 1, 4, 0, 4, 8, 9, 1, 5, 1, 4, 5, 4, 7, 9, 5, 5, 1, 5, 0, 4, 9, 4, 9, 3, 4, 7, 6, 5, 9, 7, 2, 1, 8, 4, 4, 4, 2, 9, 6, 6, 4, 6, 8, 5, 6, 8, 1, 7, 1, 2, 2, 0, 4, 4, 1, 3, 2, 6, 3, 9, 0, 3, 2, 0, 7, 1, 2, 0, 6, 6, 1, 4, 6, 7, 4, 1, 5, 9, 8, 3, 9, 4, 6, 5, 4, 4, 3, 8, 5, 1, 3, 5, 9, 4, 5, 1, 6, 4, 5, 3, 8, 2, 6, 8, 6, 5, 7, 9, 5, 3, 2, 9, 2, 4, 9, 6, 2, 3, 5, 0, 7, 7, 7, 6, 5, 0, 5, 6, 9, 5, 6, 3, 1, 5, 1, 5, 2, 1, 9, 9, 9, 7, 2, 2, 3, 3, 1, 1, 2, 9, 9, 0, 2, 6, 8, 1, 3, 5, 9, 1, 7, 7, 3, 1, 7, 0, 2, 2, 0, 1, 4, 0, 2, 0, 0, 5, 3, 8, 7, 1, 7, 1, 2, 6, 0, 6, 0, 9, 7, 0, 6, 2, 8, 3, 8, 0, 2, 6, 2, 6, 5, 8, 3, 4, 1, 0, 2, 9, 9, 5, 6, 3, 6, 7, 6, 4, 6, 1, 9, 0, 6, 0, 7, 4, 4, 3, 8, 5, 7, 9, 3, 6, 0, 7, 4, 1, 9, 4, 4, 0, 5, 8, 3, 0, 1, 8, 2, 4, 5, 0, 7, 3, 2, 5, 3, 5, 1, 9, 3, 5, 0, 0, 3, 6, 0, 6, 9, 8, 5, 6, 5, 2, 8, 4, 2, 7, 2, 6, 6, 2, 5, 8, 2, 0, 4, 6, 8, 9, 9, 7, 4, 8, 3, 3, 3, 3, 6, 1, 0, 5, 6, 3, 9, 7, 9, 6, 0, 2, 3, 8, 6, 4, 3, 2, 5, 8, 7, 8, 9, 2, 4, 0, 6, 3, 2, 7, 6, 9, 8, 8, 3, 3, 5, 5, 6, 7, 3, 5, 0, 3, 8, 9, 5, 6, 7, 9, 0, 9, 5, 0, 2, 2, 0, 3, 5, 4, 9, 0, 0, 1, 6, 0, 3, 4, 2, 1, 6, 4, 3, 8, 1, 2, 3, 9, 3, 8, 2, 5, 6, 5, 6, 9, 8, 4, 0, 8, 7, 7, 5, 1, 9, 7, 5, 2, 7, 1, 0]\n",
      "[9, 6, 6, 2, 4, 9, 9, 3, 3, 4, 2, 8, 0, 4, 5, 8, 4, 3, 4, 6, 5, 0, 7, 8, 4, 8, 7, 7, 7, 1, 8, 8, 1, 6, 7, 6, 0, 3, 1, 2, 8, 2, 5, 2, 6, 0, 0, 5, 6, 3, 0, 8, 9, 2, 8, 0, 0, 5, 1, 8, 3, 0, 7, 3, 6, 8, 6, 5, 4, 3, 7, 7, 3, 9, 3, 5, 6, 7, 3, 1, 1, 4, 8, 9, 2, 9, 4, 6, 6, 3, 8, 3, 4, 4, 6, 0, 2, 4, 8, 0, 9, 2, 9, 7, 7, 9, 3, 5, 8, 7, 0, 8, 4, 3, 9, 6, 2, 2, 1, 4, 6, 8, 1, 8, 7, 1, 2, 2, 8, 1, 3, 9, 1, 1, 7, 9, 2, 5, 9, 2, 8, 1, 1, 8, 7, 7, 8, 6, 5, 7, 9, 4, 5, 5, 1, 9, 6, 5, 9, 9, 4, 1, 1, 8, 4, 3, 0, 2, 9, 7, 4, 4, 9, 5, 2, 3, 0, 2, 4, 9, 7, 6, 8, 1, 2, 4, 3, 0, 7, 2, 6, 7, 0, 6, 0, 1, 3, 4, 5, 2, 0, 0, 0, 4, 9, 2, 1, 5, 7, 3, 1, 0, 5, 9, 6, 3, 6, 3, 0, 4, 2, 8, 0, 5, 1, 7, 5, 2, 8, 2, 5, 0, 8, 8, 9, 4, 5, 6, 9, 6, 5, 3, 0, 8, 8, 2, 3, 7, 6, 5, 8, 7, 3, 3, 8, 4, 8, 3, 2, 6, 8, 3, 9, 4, 3, 4, 7, 1, 7, 9, 1, 4, 4, 3, 1, 4, 7, 0, 6, 5, 6, 3, 7, 0, 3, 2, 7, 9, 8, 0, 7, 7, 2, 6, 7, 0, 1, 8, 0, 6, 7, 7, 4, 5, 0, 1, 2, 2, 7, 3, 7, 1, 5, 6, 1, 7, 9, 7, 1, 8, 6, 7, 3, 2, 5, 7, 6, 3, 9, 3, 2, 4, 7, 7, 5, 0, 8, 4, 6, 6, 8, 4, 9, 5, 5, 0, 5, 4, 3, 3, 7, 5, 6, 9, 9, 7, 6, 9, 6, 3, 7, 5, 7, 1, 6, 6, 1, 7, 3, 0, 7, 8, 0, 5, 8, 0, 1, 0, 7, 7, 8, 0, 0, 5, 4, 1, 7, 3, 4, 5, 3, 5, 0, 4, 1, 1, 3, 4, 8, 0, 9, 1, 5, 2, 7, 3, 6, 8, 5, 2, 0, 6, 7, 6, 8, 5, 9, 4, 4, 0, 0, 2, 0, 1, 2, 4, 0, 4, 8, 5, 2, 3, 4, 1, 8, 4, 0, 5, 2, 5, 7, 8, 5, 6, 9, 4, 9, 2, 5, 5, 4, 3, 4, 5, 4, 0, 8, 1, 7, 2, 9, 8, 0, 3, 3, 1, 9, 7, 9, 5, 0, 7, 4, 1, 9, 2, 6, 5, 1, 4, 0, 3, 2, 2, 4, 8, 9, 0, 0, 1, 4, 8, 9, 1, 7, 3, 8, 9, 5, 0, 7, 5, 9, 4, 1, 7, 5, 6, 6, 6, 2, 9, 6, 6, 6, 9, 8, 3, 4, 1, 9, 8, 9, 1, 3, 3, 3, 2, 5, 6, 7, 2, 9, 8, 5, 4, 1, 3, 5, 0, 8, 6, 8, 9, 2, 1, 9, 4, 5, 6, 6, 0, 3, 3, 3, 4, 1, 9, 4, 9, 4, 4, 8, 8, 9, 4, 8, 9, 2, 2, 2, 2, 3, 0, 7, 9, 9, 9, 5, 6, 4, 3, 2, 4, 0, 9, 6, 4, 5, 9, 2, 7, 3, 1, 7, 2, 3, 5, 4, 3, 3, 5, 9, 1, 4, 0, 4, 8, 9, 1, 5, 1, 4, 5, 4, 7, 9, 5, 5, 1, 5, 0, 4, 9, 4, 9, 3, 4, 7, 6, 5, 9, 7, 2, 1, 8, 4, 4, 4, 2, 9, 6, 6, 4, 6, 8, 5, 6, 8, 1, 7, 1, 2, 2, 0, 4, 4, 1, 3, 2, 6, 3, 9, 0, 3, 2, 0, 7, 1, 2, 0, 6, 6, 1, 4, 6, 7, 4, 1, 5, 9, 8, 3, 9, 4, 6, 5, 4, 4, 3, 8, 5, 1, 3, 5, 9, 4, 5, 1, 6, 4, 5, 3, 8, 2, 6, 8, 6, 5, 7, 9, 5, 3, 2, 9, 2, 4, 9, 6, 2, 3, 5, 0, 7, 7, 7, 6, 5, 0, 5, 6, 9, 5, 6, 3, 1, 5, 1, 5, 2, 1, 9, 9, 9, 7, 2, 2, 3, 3, 1, 1, 2, 9, 9, 0, 2, 6, 8, 1, 3, 5, 9, 1, 7, 7, 3, 1, 7, 0, 2, 2, 0, 1, 4, 0, 2, 0, 0, 5, 3, 8, 7, 1, 7, 1, 2, 6, 0, 6, 0, 9, 7, 0, 6, 2, 8, 3, 8, 0, 2, 6, 2, 6, 5, 8, 3, 4, 1, 0, 2, 9, 9, 5, 6, 3, 6, 7, 6, 4, 6, 1, 9, 0, 6, 0, 7, 4, 4, 3, 8, 5, 7, 9, 3, 6, 0, 7, 4, 1, 9, 4, 4, 0, 5, 8, 3, 0, 1, 8, 2, 4, 5, 0, 7, 3, 2, 5, 3, 5, 1, 9, 3, 5, 0, 0, 3, 6, 0, 6, 9, 8, 5, 6, 5, 2, 8, 4, 2, 7, 2, 6, 6, 2, 5, 8, 2, 0, 4, 6, 8, 9, 9, 7, 4, 8, 3, 3, 3, 3, 6, 1, 0, 5, 6, 3, 9, 7, 9, 6, 0, 2, 3, 8, 6, 4, 3, 2, 5, 8, 7, 8, 9, 2, 4, 0, 6, 3, 2, 7, 6, 9, 8, 8, 3, 3, 5, 5, 6, 7, 3, 5, 0, 3, 8, 9, 5, 6, 7, 9, 0, 9, 5, 0, 2, 2, 0, 3, 5, 4, 9, 0, 0, 1, 6, 0, 3, 4, 2, 1, 6, 4, 3, 8, 1, 2, 3, 9, 3, 8, 2, 5, 6, 5, 6, 9, 8, 4, 0, 8, 7, 7, 5, 1, 9, 7, 5, 2, 7, 1, 0]\n",
      "[9, 6, 6, 2, 4, 9, 9, 3, 3, 4, 2, 8, 0, 4, 5, 8, 4, 3, 4, 6, 5, 0, 7, 8, 4, 8, 7, 7, 7, 1, 8, 8, 1, 6, 7, 6, 0, 3, 1, 2, 8, 2, 5, 2, 6, 0, 0, 5, 6, 3, 0, 8, 9, 2, 8, 0, 0, 5, 1, 8, 3, 0, 7, 3, 6, 8, 6, 5, 4, 3, 7, 7, 3, 9, 3, 5, 6, 7, 3, 1, 1, 4, 8, 9, 2, 9, 4, 6, 6, 3, 8, 3, 4, 4, 6, 0, 2, 4, 8, 0, 9, 2, 9, 7, 7, 9, 3, 5, 8, 7, 0, 8, 4, 3, 9, 6, 2, 2, 1, 4, 6, 8, 1, 8, 7, 1, 2, 2, 8, 1, 3, 9, 1, 1, 7, 9, 2, 5, 9, 2, 8, 1, 1, 8, 7, 7, 8, 6, 5, 7, 9, 4, 5, 5, 1, 9, 6, 5, 9, 9, 4, 1, 1, 8, 4, 3, 0, 2, 9, 7, 4, 4, 9, 5, 2, 3, 0, 2, 4, 9, 7, 6, 8, 1, 2, 4, 3, 0, 7, 2, 6, 7, 0, 6, 0, 1, 3, 4, 5, 2, 0, 0, 0, 4, 9, 2, 1, 5, 7, 3, 1, 0, 5, 9, 6, 3, 6, 3, 0, 4, 2, 8, 0, 5, 1, 7, 5, 2, 8, 2, 5, 0, 8, 8, 9, 4, 5, 6, 9, 6, 5, 3, 0, 8, 8, 2, 3, 7, 6, 5, 8, 7, 3, 3, 8, 4, 8, 3, 2, 6, 8, 3, 9, 4, 3, 4, 7, 1, 7, 9, 1, 4, 4, 3, 1, 4, 7, 0, 6, 5, 6, 3, 7, 0, 3, 2, 7, 9, 8, 0, 7, 7, 2, 6, 7, 0, 1, 8, 0, 6, 7, 7, 4, 5, 0, 1, 2, 2, 7, 3, 7, 1, 5, 6, 1, 7, 9, 7, 1, 8, 6, 7, 3, 2, 5, 7, 6, 3, 9, 3, 2, 4, 7, 7, 5, 0, 8, 4, 6, 6, 8, 4, 9, 5, 5, 0, 5, 4, 3, 3, 7, 5, 6, 9, 9, 7, 6, 9, 6, 3, 7, 5, 7, 1, 6, 6, 1, 7, 3, 0, 7, 8, 0, 5, 8, 0, 1, 0, 7, 7, 8, 0, 0, 5, 4, 1, 7, 3, 4, 5, 3, 5, 0, 4, 1, 1, 3, 4, 8, 0, 9, 1, 5, 2, 7, 3, 6, 8, 5, 2, 0, 6, 7, 6, 8, 5, 9, 4, 4, 0, 0, 2, 0, 1, 2, 4, 0, 4, 8, 5, 2, 3, 4, 1, 8, 4, 0, 5, 2, 5, 7, 8, 5, 6, 9, 4, 9, 2, 5, 5, 4, 3, 4, 5, 4, 0, 8, 1, 7, 2, 9, 8, 0, 3, 3, 1, 9, 7, 9, 5, 0, 7, 4, 1, 9, 2, 6, 5, 1, 4, 0, 3, 2, 2, 4, 8, 9, 0, 0, 1, 4, 8, 9, 1, 7, 3, 8, 9, 5, 0, 7, 5, 9, 4, 1, 7, 5, 6, 6, 6, 2, 9, 6, 6, 6, 9, 8, 3, 4, 1, 9, 8, 9, 1, 3, 3, 3, 2, 5, 6, 7, 2, 9, 8, 5, 4, 1, 3, 5, 0, 8, 6, 8, 9, 2, 1, 9, 4, 5, 6, 6, 0, 3, 3, 3, 4, 1, 9, 4, 9, 4, 4, 8, 8, 9, 4, 8, 9, 2, 2, 2, 2, 3, 0, 7, 9, 9, 9, 5, 6, 4, 3, 2, 4, 0, 9, 6, 4, 5, 9, 2, 7, 3, 1, 7, 2, 3, 5, 4, 3, 3, 5, 9, 1, 4, 0, 4, 8, 9, 1, 5, 1, 4, 5, 4, 7, 9, 5, 5, 1, 5, 0, 4, 9, 4, 9, 3, 4, 7, 6, 5, 9, 7, 2, 1, 8, 4, 4, 4, 2, 9, 6, 6, 4, 6, 8, 5, 6, 8, 1, 7, 1, 2, 2, 0, 4, 4, 1, 3, 2, 6, 3, 9, 0, 3, 2, 0, 7, 1, 2, 0, 6, 6, 1, 4, 6, 7, 4, 1, 5, 9, 8, 3, 9, 4, 6, 5, 4, 4, 3, 8, 5, 1, 3, 5, 9, 4, 5, 1, 6, 4, 5, 3, 8, 2, 6, 8, 6, 5, 7, 9, 5, 3, 2, 9, 2, 4, 9, 6, 2, 3, 5, 0, 7, 7, 7, 6, 5, 0, 5, 6, 9, 5, 6, 3, 1, 5, 1, 5, 2, 1, 9, 9, 9, 7, 2, 2, 3, 3, 1, 1, 2, 9, 9, 0, 2, 6, 8, 1, 3, 5, 9, 1, 7, 7, 3, 1, 7, 0, 2, 2, 0, 1, 4, 0, 2, 0, 0, 5, 3, 8, 7, 1, 7, 1, 2, 6, 0, 6, 0, 9, 7, 0, 6, 2, 8, 3, 8, 0, 2, 6, 2, 6, 5, 8, 3, 4, 1, 0, 2, 9, 9, 5, 6, 3, 6, 7, 6, 4, 6, 1, 9, 0, 6, 0, 7, 4, 4, 3, 8, 5, 7, 9, 3, 6, 0, 7, 4, 1, 9, 4, 4, 0, 5, 8, 3, 0, 1, 8, 2, 4, 5, 0, 7, 3, 2, 5, 3, 5, 1, 9, 3, 5, 0, 0, 3, 6, 0, 6, 9, 8, 5, 6, 5, 2, 8, 4, 2, 7, 2, 6, 6, 2, 5, 8, 2, 0, 4, 6, 8, 9, 9, 7, 4, 8, 3, 3, 3, 3, 6, 1, 0, 5, 6, 3, 9, 7, 9, 6, 0, 2, 3, 8, 6, 4, 3, 2, 5, 8, 7, 8, 9, 2, 4, 0, 6, 3, 2, 7, 6, 9, 8, 8, 3, 3, 5, 5, 6, 7, 3, 5, 0, 3, 8, 9, 5, 6, 7, 9, 0, 9, 5, 0, 2, 2, 0, 3, 5, 4, 9, 0, 0, 1, 6, 0, 3, 4, 2, 1, 6, 4, 3, 8, 1, 2, 3, 9, 3, 8, 2, 5, 6, 5, 6, 9, 8, 4, 0, 8, 7, 7, 5, 1, 9, 7, 5, 2, 7, 1, 0]\n",
      "[9, 6, 6, 2, 4, 9, 9, 3, 3, 4, 2, 8, 0, 4, 5, 8, 4, 3, 4, 6, 5, 0, 7, 8, 4, 8, 7, 7, 7, 1, 8, 8, 1, 6, 7, 6, 0, 3, 1, 2, 8, 2, 5, 2, 6, 0, 0, 5, 6, 3, 0, 8, 9, 2, 8, 0, 0, 5, 1, 8, 3, 0, 7, 3, 6, 8, 6, 5, 4, 3, 7, 7, 3, 9, 3, 5, 6, 7, 3, 1, 1, 4, 8, 9, 2, 9, 4, 6, 6, 3, 8, 3, 4, 4, 6, 0, 2, 4, 8, 0, 9, 2, 9, 7, 7, 9, 3, 5, 8, 7, 0, 8, 4, 3, 9, 6, 2, 2, 1, 4, 6, 8, 1, 8, 7, 1, 2, 2, 8, 1, 3, 9, 1, 1, 7, 9, 2, 5, 9, 2, 8, 1, 1, 8, 7, 7, 8, 6, 5, 7, 9, 4, 5, 5, 1, 9, 6, 5, 9, 9, 4, 1, 1, 8, 4, 3, 0, 2, 9, 7, 4, 4, 9, 5, 2, 3, 0, 2, 4, 9, 7, 6, 8, 1, 2, 4, 3, 0, 7, 2, 6, 7, 0, 6, 0, 1, 3, 4, 5, 2, 0, 0, 0, 4, 9, 2, 1, 5, 7, 3, 1, 0, 5, 9, 6, 3, 6, 3, 0, 4, 2, 8, 0, 5, 1, 7, 5, 2, 8, 2, 5, 0, 8, 8, 9, 4, 5, 6, 9, 6, 5, 3, 0, 8, 8, 2, 3, 7, 6, 5, 8, 7, 3, 3, 8, 4, 8, 3, 2, 6, 8, 3, 9, 4, 3, 4, 7, 1, 7, 9, 1, 4, 4, 3, 1, 4, 7, 0, 6, 5, 6, 3, 7, 0, 3, 2, 7, 9, 8, 0, 7, 7, 2, 6, 7, 0, 1, 8, 0, 6, 7, 7, 4, 5, 0, 1, 2, 2, 7, 3, 7, 1, 5, 6, 1, 7, 9, 7, 1, 8, 6, 7, 3, 2, 5, 7, 6, 3, 9, 3, 2, 4, 7, 7, 5, 0, 8, 4, 6, 6, 8, 4, 9, 5, 5, 0, 5, 4, 3, 3, 7, 5, 6, 9, 9, 7, 6, 9, 6, 3, 7, 5, 7, 1, 6, 6, 1, 7, 3, 0, 7, 8, 0, 5, 8, 0, 1, 0, 7, 7, 8, 0, 0, 5, 4, 1, 7, 3, 4, 5, 3, 5, 0, 4, 1, 1, 3, 4, 8, 0, 9, 1, 5, 2, 7, 3, 6, 8, 5, 2, 0, 6, 7, 6, 8, 5, 9, 4, 4, 0, 0, 2, 0, 1, 2, 4, 0, 4, 8, 5, 2, 3, 4, 1, 8, 4, 0, 5, 2, 5, 7, 8, 5, 6, 9, 4, 9, 2, 5, 5, 4, 3, 4, 5, 4, 0, 8, 1, 7, 2, 9, 8, 0, 3, 3, 1, 9, 7, 9, 5, 0, 7, 4, 1, 9, 2, 6, 5, 1, 4, 0, 3, 2, 2, 4, 8, 9, 0, 0, 1, 4, 8, 9, 1, 7, 3, 8, 9, 5, 0, 7, 5, 9, 4, 1, 7, 5, 6, 6, 6, 2, 9, 6, 6, 6, 9, 8, 3, 4, 1, 9, 8, 9, 1, 3, 3, 3, 2, 5, 6, 7, 2, 9, 8, 5, 4, 1, 3, 5, 0, 8, 6, 8, 9, 2, 1, 9, 4, 5, 6, 6, 0, 3, 3, 3, 4, 1, 9, 4, 9, 4, 4, 8, 8, 9, 4, 8, 9, 2, 2, 2, 2, 3, 0, 7, 9, 9, 9, 5, 6, 4, 3, 2, 4, 0, 9, 6, 4, 5, 9, 2, 7, 3, 1, 7, 2, 3, 5, 4, 3, 3, 5, 9, 1, 4, 0, 4, 8, 9, 1, 5, 1, 4, 5, 4, 7, 9, 5, 5, 1, 5, 0, 4, 9, 4, 9, 3, 4, 7, 6, 5, 9, 7, 2, 1, 8, 4, 4, 4, 2, 9, 6, 6, 4, 6, 8, 5, 6, 8, 1, 7, 1, 2, 2, 0, 4, 4, 1, 3, 2, 6, 3, 9, 0, 3, 2, 0, 7, 1, 2, 0, 6, 6, 1, 4, 6, 7, 4, 1, 5, 9, 8, 3, 9, 4, 6, 5, 4, 4, 3, 8, 5, 1, 3, 5, 9, 4, 5, 1, 6, 4, 5, 3, 8, 2, 6, 8, 6, 5, 7, 9, 5, 3, 2, 9, 2, 4, 9, 6, 2, 3, 5, 0, 7, 7, 7, 6, 5, 0, 5, 6, 9, 5, 6, 3, 1, 5, 1, 5, 2, 1, 9, 9, 9, 7, 2, 2, 3, 3, 1, 1, 2, 9, 9, 0, 2, 6, 8, 1, 3, 5, 9, 1, 7, 7, 3, 1, 7, 0, 2, 2, 0, 1, 4, 0, 2, 0, 0, 5, 3, 8, 7, 1, 7, 1, 2, 6, 0, 6, 0, 9, 7, 0, 6, 2, 8, 3, 8, 0, 2, 6, 2, 6, 5, 8, 3, 4, 1, 0, 2, 9, 9, 5, 6, 3, 6, 7, 6, 4, 6, 1, 9, 0, 6, 0, 7, 4, 4, 3, 8, 5, 7, 9, 3, 6, 0, 7, 4, 1, 9, 4, 4, 0, 5, 8, 3, 0, 1, 8, 2, 4, 5, 0, 7, 3, 2, 5, 3, 5, 1, 9, 3, 5, 0, 0, 3, 6, 0, 6, 9, 8, 5, 6, 5, 2, 8, 4, 2, 7, 2, 6, 6, 2, 5, 8, 2, 0, 4, 6, 8, 9, 9, 7, 4, 8, 3, 3, 3, 3, 6, 1, 0, 5, 6, 3, 9, 7, 9, 6, 0, 2, 3, 8, 6, 4, 3, 2, 5, 8, 7, 8, 9, 2, 4, 0, 6, 3, 2, 7, 6, 9, 8, 8, 3, 3, 5, 5, 6, 7, 3, 5, 0, 3, 8, 9, 5, 6, 7, 9, 0, 9, 5, 0, 2, 2, 0, 3, 5, 4, 9, 0, 0, 1, 6, 0, 3, 4, 2, 1, 6, 4, 3, 8, 1, 2, 3, 9, 3, 8, 2, 5, 6, 5, 6, 9, 8, 4, 0, 8, 7, 7, 5, 1, 9, 7, 5, 2, 7, 1, 0]\n",
      "[9, 6, 6, 2, 4, 9, 9, 3, 3, 4, 2, 8, 0, 4, 5, 8, 4, 3, 4, 6, 5, 0, 7, 8, 4, 8, 7, 7, 7, 1, 8, 8, 1, 6, 7, 6, 0, 3, 1, 2, 8, 2, 5, 2, 6, 0, 0, 5, 6, 3, 0, 8, 9, 2, 8, 0, 0, 5, 1, 8, 3, 0, 7, 3, 6, 8, 6, 5, 4, 3, 7, 7, 3, 9, 3, 5, 6, 7, 3, 1, 1, 4, 8, 9, 2, 9, 4, 6, 6, 3, 8, 3, 4, 4, 6, 0, 2, 4, 8, 0, 9, 2, 9, 7, 7, 9, 3, 5, 8, 7, 0, 8, 4, 3, 9, 6, 2, 2, 1, 4, 6, 8, 1, 8, 7, 1, 2, 2, 8, 1, 3, 9, 1, 1, 7, 9, 2, 5, 9, 2, 8, 1, 1, 8, 7, 7, 8, 6, 5, 7, 9, 4, 5, 5, 1, 9, 6, 5, 9, 9, 4, 1, 1, 8, 4, 3, 0, 2, 9, 7, 4, 4, 9, 5, 2, 3, 0, 2, 4, 9, 7, 6, 8, 1, 2, 4, 3, 0, 7, 2, 6, 7, 0, 6, 0, 1, 3, 4, 5, 2, 0, 0, 0, 4, 9, 2, 1, 5, 7, 3, 1, 0, 5, 9, 6, 3, 6, 3, 0, 4, 2, 8, 0, 5, 1, 7, 5, 2, 8, 2, 5, 0, 8, 8, 9, 4, 5, 6, 9, 6, 5, 3, 0, 8, 8, 2, 3, 7, 6, 5, 8, 7, 3, 3, 8, 4, 8, 3, 2, 6, 8, 3, 9, 4, 3, 4, 7, 1, 7, 9, 1, 4, 4, 3, 1, 4, 7, 0, 6, 5, 6, 3, 7, 0, 3, 2, 7, 9, 8, 0, 7, 7, 2, 6, 7, 0, 1, 8, 0, 6, 7, 7, 4, 5, 0, 1, 2, 2, 7, 3, 7, 1, 5, 6, 1, 7, 9, 7, 1, 8, 6, 7, 3, 2, 5, 7, 6, 3, 9, 3, 2, 4, 7, 7, 5, 0, 8, 4, 6, 6, 8, 4, 9, 5, 5, 0, 5, 4, 3, 3, 7, 5, 6, 9, 9, 7, 6, 9, 6, 3, 7, 5, 7, 1, 6, 6, 1, 7, 3, 0, 7, 8, 0, 5, 8, 0, 1, 0, 7, 7, 8, 0, 0, 5, 4, 1, 7, 3, 4, 5, 3, 5, 0, 4, 1, 1, 3, 4, 8, 0, 9, 1, 5, 2, 7, 3, 6, 8, 5, 2, 0, 6, 7, 6, 8, 5, 9, 4, 4, 0, 0, 2, 0, 1, 2, 4, 0, 4, 8, 5, 2, 3, 4, 1, 8, 4, 0, 5, 2, 5, 7, 8, 5, 6, 9, 4, 9, 2, 5, 5, 4, 3, 4, 5, 4, 0, 8, 1, 7, 2, 9, 8, 0, 3, 3, 1, 9, 7, 9, 5, 0, 7, 4, 1, 9, 2, 6, 5, 1, 4, 0, 3, 2, 2, 4, 8, 9, 0, 0, 1, 4, 8, 9, 1, 7, 3, 8, 9, 5, 0, 7, 5, 9, 4, 1, 7, 5, 6, 6, 6, 2, 9, 6, 6, 6, 9, 8, 3, 4, 1, 9, 8, 9, 1, 3, 3, 3, 2, 5, 6, 7, 2, 9, 8, 5, 4, 1, 3, 5, 0, 8, 6, 8, 9, 2, 1, 9, 4, 5, 6, 6, 0, 3, 3, 3, 4, 1, 9, 4, 9, 4, 4, 8, 8, 9, 4, 8, 9, 2, 2, 2, 2, 3, 0, 7, 9, 9, 9, 5, 6, 4, 3, 2, 4, 0, 9, 6, 4, 5, 9, 2, 7, 3, 1, 7, 2, 3, 5, 4, 3, 3, 5, 9, 1, 4, 0, 4, 8, 9, 1, 5, 1, 4, 5, 4, 7, 9, 5, 5, 1, 5, 0, 4, 9, 4, 9, 3, 4, 7, 6, 5, 9, 7, 2, 1, 8, 4, 4, 4, 2, 9, 6, 6, 4, 6, 8, 5, 6, 8, 1, 7, 1, 2, 2, 0, 4, 4, 1, 3, 2, 6, 3, 9, 0, 3, 2, 0, 7, 1, 2, 0, 6, 6, 1, 4, 6, 7, 4, 1, 5, 9, 8, 3, 9, 4, 6, 5, 4, 4, 3, 8, 5, 1, 3, 5, 9, 4, 5, 1, 6, 4, 5, 3, 8, 2, 6, 8, 6, 5, 7, 9, 5, 3, 2, 9, 2, 4, 9, 6, 2, 3, 5, 0, 7, 7, 7, 6, 5, 0, 5, 6, 9, 5, 6, 3, 1, 5, 1, 5, 2, 1, 9, 9, 9, 7, 2, 2, 3, 3, 1, 1, 2, 9, 9, 0, 2, 6, 8, 1, 3, 5, 9, 1, 7, 7, 3, 1, 7, 0, 2, 2, 0, 1, 4, 0, 2, 0, 0, 5, 3, 8, 7, 1, 7, 1, 2, 6, 0, 6, 0, 9, 7, 0, 6, 2, 8, 3, 8, 0, 2, 6, 2, 6, 5, 8, 3, 4, 1, 0, 2, 9, 9, 5, 6, 3, 6, 7, 6, 4, 6, 1, 9, 0, 6, 0, 7, 4, 4, 3, 8, 5, 7, 9, 3, 6, 0, 7, 4, 1, 9, 4, 4, 0, 5, 8, 3, 0, 1, 8, 2, 4, 5, 0, 7, 3, 2, 5, 3, 5, 1, 9, 3, 5, 0, 0, 3, 6, 0, 6, 9, 8, 5, 6, 5, 2, 8, 4, 2, 7, 2, 6, 6, 2, 5, 8, 2, 0, 4, 6, 8, 9, 9, 7, 4, 8, 3, 3, 3, 3, 6, 1, 0, 5, 6, 3, 9, 7, 9, 6, 0, 2, 3, 8, 6, 4, 3, 2, 5, 8, 7, 8, 9, 2, 4, 0, 6, 3, 2, 7, 6, 9, 8, 8, 3, 3, 5, 5, 6, 7, 3, 5, 0, 3, 8, 9, 5, 6, 7, 9, 0, 9, 5, 0, 2, 2, 0, 3, 5, 4, 9, 0, 0, 1, 6, 0, 3, 4, 2, 1, 6, 4, 3, 8, 1, 2, 3, 9, 3, 8, 2, 5, 6, 5, 6, 9, 8, 4, 0, 8, 7, 7, 5, 1, 9, 7, 5, 2, 7, 1, 0]\n",
      "[9, 6, 6, 2, 4, 9, 9, 3, 3, 4, 2, 8, 0, 4, 5, 8, 4, 3, 4, 6, 5, 0, 7, 8, 4, 8, 7, 7, 7, 1, 8, 8, 1, 6, 7, 6, 0, 3, 1, 2, 8, 2, 5, 2, 6, 0, 0, 5, 6, 3, 0, 8, 9, 2, 8, 0, 0, 5, 1, 8, 3, 0, 7, 3, 6, 8, 6, 5, 4, 3, 7, 7, 3, 9, 3, 5, 6, 7, 3, 1, 1, 4, 8, 9, 2, 9, 4, 6, 6, 3, 8, 3, 4, 4, 6, 0, 2, 4, 8, 0, 9, 2, 9, 7, 7, 9, 3, 5, 8, 7, 0, 8, 4, 3, 9, 6, 2, 2, 1, 4, 6, 8, 1, 8, 7, 1, 2, 2, 8, 1, 3, 9, 1, 1, 7, 9, 2, 5, 9, 2, 8, 1, 1, 8, 7, 7, 8, 6, 5, 7, 9, 4, 5, 5, 1, 9, 6, 5, 9, 9, 4, 1, 1, 8, 4, 3, 0, 2, 9, 7, 4, 4, 9, 5, 2, 3, 0, 2, 4, 9, 7, 6, 8, 1, 2, 4, 3, 0, 7, 2, 6, 7, 0, 6, 0, 1, 3, 4, 5, 2, 0, 0, 0, 4, 9, 2, 1, 5, 7, 3, 1, 0, 5, 9, 6, 3, 6, 3, 0, 4, 2, 8, 0, 5, 1, 7, 5, 2, 8, 2, 5, 0, 8, 8, 9, 4, 5, 6, 9, 6, 5, 3, 0, 8, 8, 2, 3, 7, 6, 5, 8, 7, 3, 3, 8, 4, 8, 3, 2, 6, 8, 3, 9, 4, 3, 4, 7, 1, 7, 9, 1, 4, 4, 3, 1, 4, 7, 0, 6, 5, 6, 3, 7, 0, 3, 2, 7, 9, 8, 0, 7, 7, 2, 6, 7, 0, 1, 8, 0, 6, 7, 7, 4, 5, 0, 1, 2, 2, 7, 3, 7, 1, 5, 6, 1, 7, 9, 7, 1, 8, 6, 7, 3, 2, 5, 7, 6, 3, 9, 3, 2, 4, 7, 7, 5, 0, 8, 4, 6, 6, 8, 4, 9, 5, 5, 0, 5, 4, 3, 3, 7, 5, 6, 9, 9, 7, 6, 9, 6, 3, 7, 5, 7, 1, 6, 6, 1, 7, 3, 0, 7, 8, 0, 5, 8, 0, 1, 0, 7, 7, 8, 0, 0, 5, 4, 1, 7, 3, 4, 5, 3, 5, 0, 4, 1, 1, 3, 4, 8, 0, 9, 1, 5, 2, 7, 3, 6, 8, 5, 2, 0, 6, 7, 6, 8, 5, 9, 4, 4, 0, 0, 2, 0, 1, 2, 4, 0, 4, 8, 5, 2, 3, 4, 1, 8, 4, 0, 5, 2, 5, 7, 8, 5, 6, 9, 4, 9, 2, 5, 5, 4, 3, 4, 5, 4, 0, 8, 1, 7, 2, 9, 8, 0, 3, 3, 1, 9, 7, 9, 5, 0, 7, 4, 1, 9, 2, 6, 5, 1, 4, 0, 3, 2, 2, 4, 8, 9, 0, 0, 1, 4, 8, 9, 1, 7, 3, 8, 9, 5, 0, 7, 5, 9, 4, 1, 7, 5, 6, 6, 6, 2, 9, 6, 6, 6, 9, 8, 3, 4, 1, 9, 8, 9, 1, 3, 3, 3, 2, 5, 6, 7, 2, 9, 8, 5, 4, 1, 3, 5, 0, 8, 6, 8, 9, 2, 1, 9, 4, 5, 6, 6, 0, 3, 3, 3, 4, 1, 9, 4, 9, 4, 4, 8, 8, 9, 4, 8, 9, 2, 2, 2, 2, 3, 0, 7, 9, 9, 9, 5, 6, 4, 3, 2, 4, 0, 9, 6, 4, 5, 9, 2, 7, 3, 1, 7, 2, 3, 5, 4, 3, 3, 5, 9, 1, 4, 0, 4, 8, 9, 1, 5, 1, 4, 5, 4, 7, 9, 5, 5, 1, 5, 0, 4, 9, 4, 9, 3, 4, 7, 6, 5, 9, 7, 2, 1, 8, 4, 4, 4, 2, 9, 6, 6, 4, 6, 8, 5, 6, 8, 1, 7, 1, 2, 2, 0, 4, 4, 1, 3, 2, 6, 3, 9, 0, 3, 2, 0, 7, 1, 2, 0, 6, 6, 1, 4, 6, 7, 4, 1, 5, 9, 8, 3, 9, 4, 6, 5, 4, 4, 3, 8, 5, 1, 3, 5, 9, 4, 5, 1, 6, 4, 5, 3, 8, 2, 6, 8, 6, 5, 7, 9, 5, 3, 2, 9, 2, 4, 9, 6, 2, 3, 5, 0, 7, 7, 7, 6, 5, 0, 5, 6, 9, 5, 6, 3, 1, 5, 1, 5, 2, 1, 9, 9, 9, 7, 2, 2, 3, 3, 1, 1, 2, 9, 9, 0, 2, 6, 8, 1, 3, 5, 9, 1, 7, 7, 3, 1, 7, 0, 2, 2, 0, 1, 4, 0, 2, 0, 0, 5, 3, 8, 7, 1, 7, 1, 2, 6, 0, 6, 0, 9, 7, 0, 6, 2, 8, 3, 8, 0, 2, 6, 2, 6, 5, 8, 3, 4, 1, 0, 2, 9, 9, 5, 6, 3, 6, 7, 6, 4, 6, 1, 9, 0, 6, 0, 7, 4, 4, 3, 8, 5, 7, 9, 3, 6, 0, 7, 4, 1, 9, 4, 4, 0, 5, 8, 3, 0, 1, 8, 2, 4, 5, 0, 7, 3, 2, 5, 3, 5, 1, 9, 3, 5, 0, 0, 3, 6, 0, 6, 9, 8, 5, 6, 5, 2, 8, 4, 2, 7, 2, 6, 6, 2, 5, 8, 2, 0, 4, 6, 8, 9, 9, 7, 4, 8, 3, 3, 3, 3, 6, 1, 0, 5, 6, 3, 9, 7, 9, 6, 0, 2, 3, 8, 6, 4, 3, 2, 5, 8, 7, 8, 9, 2, 4, 0, 6, 3, 2, 7, 6, 9, 8, 8, 3, 3, 5, 5, 6, 7, 3, 5, 0, 3, 8, 9, 5, 6, 7, 9, 0, 9, 5, 0, 2, 2, 0, 3, 5, 4, 9, 0, 0, 1, 6, 0, 3, 4, 2, 1, 6, 4, 3, 8, 1, 2, 3, 9, 3, 8, 2, 5, 6, 5, 6, 9, 8, 4, 0, 8, 7, 7, 5, 1, 9, 7, 5, 2, 7, 1, 0]\n",
      "[9, 6, 6, 2, 4, 9, 9, 3, 3, 4, 2, 8, 0, 4, 5, 8, 4, 3, 4, 6, 5, 0, 7, 8, 4, 8, 7, 7, 7, 1, 8, 8, 1, 6, 7, 6, 0, 3, 1, 2, 8, 2, 5, 2, 6, 0, 0, 5, 6, 3, 0, 8, 9, 2, 8, 0, 0, 5, 1, 8, 3, 0, 7, 3, 6, 8, 6, 5, 4, 3, 7, 7, 3, 9, 3, 5, 6, 7, 3, 1, 1, 4, 8, 9, 2, 9, 4, 6, 6, 3, 8, 3, 4, 4, 6, 0, 2, 4, 8, 0, 9, 2, 9, 7, 7, 9, 3, 5, 8, 7, 0, 8, 4, 3, 9, 6, 2, 2, 1, 4, 6, 8, 1, 8, 7, 1, 2, 2, 8, 1, 3, 9, 1, 1, 7, 9, 2, 5, 9, 2, 8, 1, 1, 8, 7, 7, 8, 6, 5, 7, 9, 4, 5, 5, 1, 9, 6, 5, 9, 9, 4, 1, 1, 8, 4, 3, 0, 2, 9, 7, 4, 4, 9, 5, 2, 3, 0, 2, 4, 9, 7, 6, 8, 1, 2, 4, 3, 0, 7, 2, 6, 7, 0, 6, 0, 1, 3, 4, 5, 2, 0, 0, 0, 4, 9, 2, 1, 5, 7, 3, 1, 0, 5, 9, 6, 3, 6, 3, 0, 4, 2, 8, 0, 5, 1, 7, 5, 2, 8, 2, 5, 0, 8, 8, 9, 4, 5, 6, 9, 6, 5, 3, 0, 8, 8, 2, 3, 7, 6, 5, 8, 7, 3, 3, 8, 4, 8, 3, 2, 6, 8, 3, 9, 4, 3, 4, 7, 1, 7, 9, 1, 4, 4, 3, 1, 4, 7, 0, 6, 5, 6, 3, 7, 0, 3, 2, 7, 9, 8, 0, 7, 7, 2, 6, 7, 0, 1, 8, 0, 6, 7, 7, 4, 5, 0, 1, 2, 2, 7, 3, 7, 1, 5, 6, 1, 7, 9, 7, 1, 8, 6, 7, 3, 2, 5, 7, 6, 3, 9, 3, 2, 4, 7, 7, 5, 0, 8, 4, 6, 6, 8, 4, 9, 5, 5, 0, 5, 4, 3, 3, 7, 5, 6, 9, 9, 7, 6, 9, 6, 3, 7, 5, 7, 1, 6, 6, 1, 7, 3, 0, 7, 8, 0, 5, 8, 0, 1, 0, 7, 7, 8, 0, 0, 5, 4, 1, 7, 3, 4, 5, 3, 5, 0, 4, 1, 1, 3, 4, 8, 0, 9, 1, 5, 2, 7, 3, 6, 8, 5, 2, 0, 6, 7, 6, 8, 5, 9, 4, 4, 0, 0, 2, 0, 1, 2, 4, 0, 4, 8, 5, 2, 3, 4, 1, 8, 4, 0, 5, 2, 5, 7, 8, 5, 6, 9, 4, 9, 2, 5, 5, 4, 3, 4, 5, 4, 0, 8, 1, 7, 2, 9, 8, 0, 3, 3, 1, 9, 7, 9, 5, 0, 7, 4, 1, 9, 2, 6, 5, 1, 4, 0, 3, 2, 2, 4, 8, 9, 0, 0, 1, 4, 8, 9, 1, 7, 3, 8, 9, 5, 0, 7, 5, 9, 4, 1, 7, 5, 6, 6, 6, 2, 9, 6, 6, 6, 9, 8, 3, 4, 1, 9, 8, 9, 1, 3, 3, 3, 2, 5, 6, 7, 2, 9, 8, 5, 4, 1, 3, 5, 0, 8, 6, 8, 9, 2, 1, 9, 4, 5, 6, 6, 0, 3, 3, 3, 4, 1, 9, 4, 9, 4, 4, 8, 8, 9, 4, 8, 9, 2, 2, 2, 2, 3, 0, 7, 9, 9, 9, 5, 6, 4, 3, 2, 4, 0, 9, 6, 4, 5, 9, 2, 7, 3, 1, 7, 2, 3, 5, 4, 3, 3, 5, 9, 1, 4, 0, 4, 8, 9, 1, 5, 1, 4, 5, 4, 7, 9, 5, 5, 1, 5, 0, 4, 9, 4, 9, 3, 4, 7, 6, 5, 9, 7, 2, 1, 8, 4, 4, 4, 2, 9, 6, 6, 4, 6, 8, 5, 6, 8, 1, 7, 1, 2, 2, 0, 4, 4, 1, 3, 2, 6, 3, 9, 0, 3, 2, 0, 7, 1, 2, 0, 6, 6, 1, 4, 6, 7, 4, 1, 5, 9, 8, 3, 9, 4, 6, 5, 4, 4, 3, 8, 5, 1, 3, 5, 9, 4, 5, 1, 6, 4, 5, 3, 8, 2, 6, 8, 6, 5, 7, 9, 5, 3, 2, 9, 2, 4, 9, 6, 2, 3, 5, 0, 7, 7, 7, 6, 5, 0, 5, 6, 9, 5, 6, 3, 1, 5, 1, 5, 2, 1, 9, 9, 9, 7, 2, 2, 3, 3, 1, 1, 2, 9, 9, 0, 2, 6, 8, 1, 3, 5, 9, 1, 7, 7, 3, 1, 7, 0, 2, 2, 0, 1, 4, 0, 2, 0, 0, 5, 3, 8, 7, 1, 7, 1, 2, 6, 0, 6, 0, 9, 7, 0, 6, 2, 8, 3, 8, 0, 2, 6, 2, 6, 5, 8, 3, 4, 1, 0, 2, 9, 9, 5, 6, 3, 6, 7, 6, 4, 6, 1, 9, 0, 6, 0, 7, 4, 4, 3, 8, 5, 7, 9, 3, 6, 0, 7, 4, 1, 9, 4, 4, 0, 5, 8, 3, 0, 1, 8, 2, 4, 5, 0, 7, 3, 2, 5, 3, 5, 1, 9, 3, 5, 0, 0, 3, 6, 0, 6, 9, 8, 5, 6, 5, 2, 8, 4, 2, 7, 2, 6, 6, 2, 5, 8, 2, 0, 4, 6, 8, 9, 9, 7, 4, 8, 3, 3, 3, 3, 6, 1, 0, 5, 6, 3, 9, 7, 9, 6, 0, 2, 3, 8, 6, 4, 3, 2, 5, 8, 7, 8, 9, 2, 4, 0, 6, 3, 2, 7, 6, 9, 8, 8, 3, 3, 5, 5, 6, 7, 3, 5, 0, 3, 8, 9, 5, 6, 7, 9, 0, 9, 5, 0, 2, 2, 0, 3, 5, 4, 9, 0, 0, 1, 6, 0, 3, 4, 2, 1, 6, 4, 3, 8, 1, 2, 3, 9, 3, 8, 2, 5, 6, 5, 6, 9, 8, 4, 0, 8, 7, 7, 5, 1, 9, 7, 5, 2, 7, 1, 0]\n",
      "[9, 6, 6, 2, 4, 9, 9, 3, 3, 4, 2, 8, 0, 4, 5, 8, 4, 3, 4, 6, 5, 0, 7, 8, 4, 8, 7, 7, 7, 1, 8, 8, 1, 6, 7, 6, 0, 3, 1, 2, 8, 2, 5, 2, 6, 0, 0, 5, 6, 3, 0, 8, 9, 2, 8, 0, 0, 5, 1, 8, 3, 0, 7, 3, 6, 8, 6, 5, 4, 3, 7, 7, 3, 9, 3, 5, 6, 7, 3, 1, 1, 4, 8, 9, 2, 9, 4, 6, 6, 3, 8, 3, 4, 4, 6, 0, 2, 4, 8, 0, 9, 2, 9, 7, 7, 9, 3, 5, 8, 7, 0, 8, 4, 3, 9, 6, 2, 2, 1, 4, 6, 8, 1, 8, 7, 1, 2, 2, 8, 1, 3, 9, 1, 1, 7, 9, 2, 5, 9, 2, 8, 1, 1, 8, 7, 7, 8, 6, 5, 7, 9, 4, 5, 5, 1, 9, 6, 5, 9, 9, 4, 1, 1, 8, 4, 3, 0, 2, 9, 7, 4, 4, 9, 5, 2, 3, 0, 2, 4, 9, 7, 6, 8, 1, 2, 4, 3, 0, 7, 2, 6, 7, 0, 6, 0, 1, 3, 4, 5, 2, 0, 0, 0, 4, 9, 2, 1, 5, 7, 3, 1, 0, 5, 9, 6, 3, 6, 3, 0, 4, 2, 8, 0, 5, 1, 7, 5, 2, 8, 2, 5, 0, 8, 8, 9, 4, 5, 6, 9, 6, 5, 3, 0, 8, 8, 2, 3, 7, 6, 5, 8, 7, 3, 3, 8, 4, 8, 3, 2, 6, 8, 3, 9, 4, 3, 4, 7, 1, 7, 9, 1, 4, 4, 3, 1, 4, 7, 0, 6, 5, 6, 3, 7, 0, 3, 2, 7, 9, 8, 0, 7, 7, 2, 6, 7, 0, 1, 8, 0, 6, 7, 7, 4, 5, 0, 1, 2, 2, 7, 3, 7, 1, 5, 6, 1, 7, 9, 7, 1, 8, 6, 7, 3, 2, 5, 7, 6, 3, 9, 3, 2, 4, 7, 7, 5, 0, 8, 4, 6, 6, 8, 4, 9, 5, 5, 0, 5, 4, 3, 3, 7, 5, 6, 9, 9, 7, 6, 9, 6, 3, 7, 5, 7, 1, 6, 6, 1, 7, 3, 0, 7, 8, 0, 5, 8, 0, 1, 0, 7, 7, 8, 0, 0, 5, 4, 1, 7, 3, 4, 5, 3, 5, 0, 4, 1, 1, 3, 4, 8, 0, 9, 1, 5, 2, 7, 3, 6, 8, 5, 2, 0, 6, 7, 6, 8, 5, 9, 4, 4, 0, 0, 2, 0, 1, 2, 4, 0, 4, 8, 5, 2, 3, 4, 1, 8, 4, 0, 5, 2, 5, 7, 8, 5, 6, 9, 4, 9, 2, 5, 5, 4, 3, 4, 5, 4, 0, 8, 1, 7, 2, 9, 8, 0, 3, 3, 1, 9, 7, 9, 5, 0, 7, 4, 1, 9, 2, 6, 5, 1, 4, 0, 3, 2, 2, 4, 8, 9, 0, 0, 1, 4, 8, 9, 1, 7, 3, 8, 9, 5, 0, 7, 5, 9, 4, 1, 7, 5, 6, 6, 6, 2, 9, 6, 6, 6, 9, 8, 3, 4, 1, 9, 8, 9, 1, 3, 3, 3, 2, 5, 6, 7, 2, 9, 8, 5, 4, 1, 3, 5, 0, 8, 6, 8, 9, 2, 1, 9, 4, 5, 6, 6, 0, 3, 3, 3, 4, 1, 9, 4, 9, 4, 4, 8, 8, 9, 4, 8, 9, 2, 2, 2, 2, 3, 0, 7, 9, 9, 9, 5, 6, 4, 3, 2, 4, 0, 9, 6, 4, 5, 9, 2, 7, 3, 1, 7, 2, 3, 5, 4, 3, 3, 5, 9, 1, 4, 0, 4, 8, 9, 1, 5, 1, 4, 5, 4, 7, 9, 5, 5, 1, 5, 0, 4, 9, 4, 9, 3, 4, 7, 6, 5, 9, 7, 2, 1, 8, 4, 4, 4, 2, 9, 6, 6, 4, 6, 8, 5, 6, 8, 1, 7, 1, 2, 2, 0, 4, 4, 1, 3, 2, 6, 3, 9, 0, 3, 2, 0, 7, 1, 2, 0, 6, 6, 1, 4, 6, 7, 4, 1, 5, 9, 8, 3, 9, 4, 6, 5, 4, 4, 3, 8, 5, 1, 3, 5, 9, 4, 5, 1, 6, 4, 5, 3, 8, 2, 6, 8, 6, 5, 7, 9, 5, 3, 2, 9, 2, 4, 9, 6, 2, 3, 5, 0, 7, 7, 7, 6, 5, 0, 5, 6, 9, 5, 6, 3, 1, 5, 1, 5, 2, 1, 9, 9, 9, 7, 2, 2, 3, 3, 1, 1, 2, 9, 9, 0, 2, 6, 8, 1, 3, 5, 9, 1, 7, 7, 3, 1, 7, 0, 2, 2, 0, 1, 4, 0, 2, 0, 0, 5, 3, 8, 7, 1, 7, 1, 2, 6, 0, 6, 0, 9, 7, 0, 6, 2, 8, 3, 8, 0, 2, 6, 2, 6, 5, 8, 3, 4, 1, 0, 2, 9, 9, 5, 6, 3, 6, 7, 6, 4, 6, 1, 9, 0, 6, 0, 7, 4, 4, 3, 8, 5, 7, 9, 3, 6, 0, 7, 4, 1, 9, 4, 4, 0, 5, 8, 3, 0, 1, 8, 2, 4, 5, 0, 7, 3, 2, 5, 3, 5, 1, 9, 3, 5, 0, 0, 3, 6, 0, 6, 9, 8, 5, 6, 5, 2, 8, 4, 2, 7, 2, 6, 6, 2, 5, 8, 2, 0, 4, 6, 8, 9, 9, 7, 4, 8, 3, 3, 3, 3, 6, 1, 0, 5, 6, 3, 9, 7, 9, 6, 0, 2, 3, 8, 6, 4, 3, 2, 5, 8, 7, 8, 9, 2, 4, 0, 6, 3, 2, 7, 6, 9, 8, 8, 3, 3, 5, 5, 6, 7, 3, 5, 0, 3, 8, 9, 5, 6, 7, 9, 0, 9, 5, 0, 2, 2, 0, 3, 5, 4, 9, 0, 0, 1, 6, 0, 3, 4, 2, 1, 6, 4, 3, 8, 1, 2, 3, 9, 3, 8, 2, 5, 6, 5, 6, 9, 8, 4, 0, 8, 7, 7, 5, 1, 9, 7, 5, 2, 7, 1, 0]\n",
      "[9, 6, 6, 2, 4, 9, 9, 3, 3, 4, 2, 8, 0, 4, 5, 8, 4, 3, 4, 6, 5, 0, 7, 8, 4, 8, 7, 7, 7, 1, 8, 8, 1, 6, 7, 6, 0, 3, 1, 2, 8, 2, 5, 2, 6, 0, 0, 5, 6, 3, 0, 8, 9, 2, 8, 0, 0, 5, 1, 8, 3, 0, 7, 3, 6, 8, 6, 5, 4, 3, 7, 7, 3, 9, 3, 5, 6, 7, 3, 1, 1, 4, 8, 9, 2, 9, 4, 6, 6, 3, 8, 3, 4, 4, 6, 0, 2, 4, 8, 0, 9, 2, 9, 7, 7, 9, 3, 5, 8, 7, 0, 8, 4, 3, 9, 6, 2, 2, 1, 4, 6, 8, 1, 8, 7, 1, 2, 2, 8, 1, 3, 9, 1, 1, 7, 9, 2, 5, 9, 2, 8, 1, 1, 8, 7, 7, 8, 6, 5, 7, 9, 4, 5, 5, 1, 9, 6, 5, 9, 9, 4, 1, 1, 8, 4, 3, 0, 2, 9, 7, 4, 4, 9, 5, 2, 3, 0, 2, 4, 9, 7, 6, 8, 1, 2, 4, 3, 0, 7, 2, 6, 7, 0, 6, 0, 1, 3, 4, 5, 2, 0, 0, 0, 4, 9, 2, 1, 5, 7, 3, 1, 0, 5, 9, 6, 3, 6, 3, 0, 4, 2, 8, 0, 5, 1, 7, 5, 2, 8, 2, 5, 0, 8, 8, 9, 4, 5, 6, 9, 6, 5, 3, 0, 8, 8, 2, 3, 7, 6, 5, 8, 7, 3, 3, 8, 4, 8, 3, 2, 6, 8, 3, 9, 4, 3, 4, 7, 1, 7, 9, 1, 4, 4, 3, 1, 4, 7, 0, 6, 5, 6, 3, 7, 0, 3, 2, 7, 9, 8, 0, 7, 7, 2, 6, 7, 0, 1, 8, 0, 6, 7, 7, 4, 5, 0, 1, 2, 2, 7, 3, 7, 1, 5, 6, 1, 7, 9, 7, 1, 8, 6, 7, 3, 2, 5, 7, 6, 3, 9, 3, 2, 4, 7, 7, 5, 0, 8, 4, 6, 6, 8, 4, 9, 5, 5, 0, 5, 4, 3, 3, 7, 5, 6, 9, 9, 7, 6, 9, 6, 3, 7, 5, 7, 1, 6, 6, 1, 7, 3, 0, 7, 8, 0, 5, 8, 0, 1, 0, 7, 7, 8, 0, 0, 5, 4, 1, 7, 3, 4, 5, 3, 5, 0, 4, 1, 1, 3, 4, 8, 0, 9, 1, 5, 2, 7, 3, 6, 8, 5, 2, 0, 6, 7, 6, 8, 5, 9, 4, 4, 0, 0, 2, 0, 1, 2, 4, 0, 4, 8, 5, 2, 3, 4, 1, 8, 4, 0, 5, 2, 5, 7, 8, 5, 6, 9, 4, 9, 2, 5, 5, 4, 3, 4, 5, 4, 0, 8, 1, 7, 2, 9, 8, 0, 3, 3, 1, 9, 7, 9, 5, 0, 7, 4, 1, 9, 2, 6, 5, 1, 4, 0, 3, 2, 2, 4, 8, 9, 0, 0, 1, 4, 8, 9, 1, 7, 3, 8, 9, 5, 0, 7, 5, 9, 4, 1, 7, 5, 6, 6, 6, 2, 9, 6, 6, 6, 9, 8, 3, 4, 1, 9, 8, 9, 1, 3, 3, 3, 2, 5, 6, 7, 2, 9, 8, 5, 4, 1, 3, 5, 0, 8, 6, 8, 9, 2, 1, 9, 4, 5, 6, 6, 0, 3, 3, 3, 4, 1, 9, 4, 9, 4, 4, 8, 8, 9, 4, 8, 9, 2, 2, 2, 2, 3, 0, 7, 9, 9, 9, 5, 6, 4, 3, 2, 4, 0, 9, 6, 4, 5, 9, 2, 7, 3, 1, 7, 2, 3, 5, 4, 3, 3, 5, 9, 1, 4, 0, 4, 8, 9, 1, 5, 1, 4, 5, 4, 7, 9, 5, 5, 1, 5, 0, 4, 9, 4, 9, 3, 4, 7, 6, 5, 9, 7, 2, 1, 8, 4, 4, 4, 2, 9, 6, 6, 4, 6, 8, 5, 6, 8, 1, 7, 1, 2, 2, 0, 4, 4, 1, 3, 2, 6, 3, 9, 0, 3, 2, 0, 7, 1, 2, 0, 6, 6, 1, 4, 6, 7, 4, 1, 5, 9, 8, 3, 9, 4, 6, 5, 4, 4, 3, 8, 5, 1, 3, 5, 9, 4, 5, 1, 6, 4, 5, 3, 8, 2, 6, 8, 6, 5, 7, 9, 5, 3, 2, 9, 2, 4, 9, 6, 2, 3, 5, 0, 7, 7, 7, 6, 5, 0, 5, 6, 9, 5, 6, 3, 1, 5, 1, 5, 2, 1, 9, 9, 9, 7, 2, 2, 3, 3, 1, 1, 2, 9, 9, 0, 2, 6, 8, 1, 3, 5, 9, 1, 7, 7, 3, 1, 7, 0, 2, 2, 0, 1, 4, 0, 2, 0, 0, 5, 3, 8, 7, 1, 7, 1, 2, 6, 0, 6, 0, 9, 7, 0, 6, 2, 8, 3, 8, 0, 2, 6, 2, 6, 5, 8, 3, 4, 1, 0, 2, 9, 9, 5, 6, 3, 6, 7, 6, 4, 6, 1, 9, 0, 6, 0, 7, 4, 4, 3, 8, 5, 7, 9, 3, 6, 0, 7, 4, 1, 9, 4, 4, 0, 5, 8, 3, 0, 1, 8, 2, 4, 5, 0, 7, 3, 2, 5, 3, 5, 1, 9, 3, 5, 0, 0, 3, 6, 0, 6, 9, 8, 5, 6, 5, 2, 8, 4, 2, 7, 2, 6, 6, 2, 5, 8, 2, 0, 4, 6, 8, 9, 9, 7, 4, 8, 3, 3, 3, 3, 6, 1, 0, 5, 6, 3, 9, 7, 9, 6, 0, 2, 3, 8, 6, 4, 3, 2, 5, 8, 7, 8, 9, 2, 4, 0, 6, 3, 2, 7, 6, 9, 8, 8, 3, 3, 5, 5, 6, 7, 3, 5, 0, 3, 8, 9, 5, 6, 7, 9, 0, 9, 5, 0, 2, 2, 0, 3, 5, 4, 9, 0, 0, 1, 6, 0, 3, 4, 2, 1, 6, 4, 3, 8, 1, 2, 3, 9, 3, 8, 2, 5, 6, 5, 6, 9, 8, 4, 0, 8, 7, 7, 5, 1, 9, 7, 5, 2, 7, 1, 0]\n",
      "[9, 6, 6, 2, 4, 9, 9, 3, 3, 4, 2, 8, 0, 4, 5, 8, 4, 3, 4, 6, 5, 0, 7, 8, 4, 8, 7, 7, 7, 1, 8, 8, 1, 6, 7, 6, 0, 3, 1, 2, 8, 2, 5, 2, 6, 0, 0, 5, 6, 3, 0, 8, 9, 2, 8, 0, 0, 5, 1, 8, 3, 0, 7, 3, 6, 8, 6, 5, 4, 3, 7, 7, 3, 9, 3, 5, 6, 7, 3, 1, 1, 4, 8, 9, 2, 9, 4, 6, 6, 3, 8, 3, 4, 4, 6, 0, 2, 4, 8, 0, 9, 2, 9, 7, 7, 9, 3, 5, 8, 7, 0, 8, 4, 3, 9, 6, 2, 2, 1, 4, 6, 8, 1, 8, 7, 1, 2, 2, 8, 1, 3, 9, 1, 1, 7, 9, 2, 5, 9, 2, 8, 1, 1, 8, 7, 7, 8, 6, 5, 7, 9, 4, 5, 5, 1, 9, 6, 5, 9, 9, 4, 1, 1, 8, 4, 3, 0, 2, 9, 7, 4, 4, 9, 5, 2, 3, 0, 2, 4, 9, 7, 6, 8, 1, 2, 4, 3, 0, 7, 2, 6, 7, 0, 6, 0, 1, 3, 4, 5, 2, 0, 0, 0, 4, 9, 2, 1, 5, 7, 3, 1, 0, 5, 9, 6, 3, 6, 3, 0, 4, 2, 8, 0, 5, 1, 7, 5, 2, 8, 2, 5, 0, 8, 8, 9, 4, 5, 6, 9, 6, 5, 3, 0, 8, 8, 2, 3, 7, 6, 5, 8, 7, 3, 3, 8, 4, 8, 3, 2, 6, 8, 3, 9, 4, 3, 4, 7, 1, 7, 9, 1, 4, 4, 3, 1, 4, 7, 0, 6, 5, 6, 3, 7, 0, 3, 2, 7, 9, 8, 0, 7, 7, 2, 6, 7, 0, 1, 8, 0, 6, 7, 7, 4, 5, 0, 1, 2, 2, 7, 3, 7, 1, 5, 6, 1, 7, 9, 7, 1, 8, 6, 7, 3, 2, 5, 7, 6, 3, 9, 3, 2, 4, 7, 7, 5, 0, 8, 4, 6, 6, 8, 4, 9, 5, 5, 0, 5, 4, 3, 3, 7, 5, 6, 9, 9, 7, 6, 9, 6, 3, 7, 5, 7, 1, 6, 6, 1, 7, 3, 0, 7, 8, 0, 5, 8, 0, 1, 0, 7, 7, 8, 0, 0, 5, 4, 1, 7, 3, 4, 5, 3, 5, 0, 4, 1, 1, 3, 4, 8, 0, 9, 1, 5, 2, 7, 3, 6, 8, 5, 2, 0, 6, 7, 6, 8, 5, 9, 4, 4, 0, 0, 2, 0, 1, 2, 4, 0, 4, 8, 5, 2, 3, 4, 1, 8, 4, 0, 5, 2, 5, 7, 8, 5, 6, 9, 4, 9, 2, 5, 5, 4, 3, 4, 5, 4, 0, 8, 1, 7, 2, 9, 8, 0, 3, 3, 1, 9, 7, 9, 5, 0, 7, 4, 1, 9, 2, 6, 5, 1, 4, 0, 3, 2, 2, 4, 8, 9, 0, 0, 1, 4, 8, 9, 1, 7, 3, 8, 9, 5, 0, 7, 5, 9, 4, 1, 7, 5, 6, 6, 6, 2, 9, 6, 6, 6, 9, 8, 3, 4, 1, 9, 8, 9, 1, 3, 3, 3, 2, 5, 6, 7, 2, 9, 8, 5, 4, 1, 3, 5, 0, 8, 6, 8, 9, 2, 1, 9, 4, 5, 6, 6, 0, 3, 3, 3, 4, 1, 9, 4, 9, 4, 4, 8, 8, 9, 4, 8, 9, 2, 2, 2, 2, 3, 0, 7, 9, 9, 9, 5, 6, 4, 3, 2, 4, 0, 9, 6, 4, 5, 9, 2, 7, 3, 1, 7, 2, 3, 5, 4, 3, 3, 5, 9, 1, 4, 0, 4, 8, 9, 1, 5, 1, 4, 5, 4, 7, 9, 5, 5, 1, 5, 0, 4, 9, 4, 9, 3, 4, 7, 6, 5, 9, 7, 2, 1, 8, 4, 4, 4, 2, 9, 6, 6, 4, 6, 8, 5, 6, 8, 1, 7, 1, 2, 2, 0, 4, 4, 1, 3, 2, 6, 3, 9, 0, 3, 2, 0, 7, 1, 2, 0, 6, 6, 1, 4, 6, 7, 4, 1, 5, 9, 8, 3, 9, 4, 6, 5, 4, 4, 3, 8, 5, 1, 3, 5, 9, 4, 5, 1, 6, 4, 5, 3, 8, 2, 6, 8, 6, 5, 7, 9, 5, 3, 2, 9, 2, 4, 9, 6, 2, 3, 5, 0, 7, 7, 7, 6, 5, 0, 5, 6, 9, 5, 6, 3, 1, 5, 1, 5, 2, 1, 9, 9, 9, 7, 2, 2, 3, 3, 1, 1, 2, 9, 9, 0, 2, 6, 8, 1, 3, 5, 9, 1, 7, 7, 3, 1, 7, 0, 2, 2, 0, 1, 4, 0, 2, 0, 0, 5, 3, 8, 7, 1, 7, 1, 2, 6, 0, 6, 0, 9, 7, 0, 6, 2, 8, 3, 8, 0, 2, 6, 2, 6, 5, 8, 3, 4, 1, 0, 2, 9, 9, 5, 6, 3, 6, 7, 6, 4, 6, 1, 9, 0, 6, 0, 7, 4, 4, 3, 8, 5, 7, 9, 3, 6, 0, 7, 4, 1, 9, 4, 4, 0, 5, 8, 3, 0, 1, 8, 2, 4, 5, 0, 7, 3, 2, 5, 3, 5, 1, 9, 3, 5, 0, 0, 3, 6, 0, 6, 9, 8, 5, 6, 5, 2, 8, 4, 2, 7, 2, 6, 6, 2, 5, 8, 2, 0, 4, 6, 8, 9, 9, 7, 4, 8, 3, 3, 3, 3, 6, 1, 0, 5, 6, 3, 9, 7, 9, 6, 0, 2, 3, 8, 6, 4, 3, 2, 5, 8, 7, 8, 9, 2, 4, 0, 6, 3, 2, 7, 6, 9, 8, 8, 3, 3, 5, 5, 6, 7, 3, 5, 0, 3, 8, 9, 5, 6, 7, 9, 0, 9, 5, 0, 2, 2, 0, 3, 5, 4, 9, 0, 0, 1, 6, 0, 3, 4, 2, 1, 6, 4, 3, 8, 1, 2, 3, 9, 3, 8, 2, 5, 6, 5, 6, 9, 8, 4, 0, 8, 7, 7, 5, 1, 9, 7, 5, 2, 7, 1, 0]\n",
      "[9, 6, 6, 2, 4, 9, 9, 3, 3, 4, 2, 8, 0, 4, 5, 8, 4, 3, 4, 6, 5, 0, 7, 8, 4, 8, 7, 7, 7, 1, 8, 8, 1, 6, 7, 6, 0, 3, 1, 2, 8, 2, 5, 2, 6, 0, 0, 5, 6, 3, 0, 8, 9, 2, 8, 0, 0, 5, 1, 8, 3, 0, 7, 3, 6, 8, 6, 5, 4, 3, 7, 7, 3, 9, 3, 5, 6, 7, 3, 1, 1, 4, 8, 9, 2, 9, 4, 6, 6, 3, 8, 3, 4, 4, 6, 0, 2, 4, 8, 0, 9, 2, 9, 7, 7, 9, 3, 5, 8, 7, 0, 8, 4, 3, 9, 6, 2, 2, 1, 4, 6, 8, 1, 8, 7, 1, 2, 2, 8, 1, 3, 9, 1, 1, 7, 9, 2, 5, 9, 2, 8, 1, 1, 8, 7, 7, 8, 6, 5, 7, 9, 4, 5, 5, 1, 9, 6, 5, 9, 9, 4, 1, 1, 8, 4, 3, 0, 2, 9, 7, 4, 4, 9, 5, 2, 3, 0, 2, 4, 9, 7, 6, 8, 1, 2, 4, 3, 0, 7, 2, 6, 7, 0, 6, 0, 1, 3, 4, 5, 2, 0, 0, 0, 4, 9, 2, 1, 5, 7, 3, 1, 0, 5, 9, 6, 3, 6, 3, 0, 4, 2, 8, 0, 5, 1, 7, 5, 2, 8, 2, 5, 0, 8, 8, 9, 4, 5, 6, 9, 6, 5, 3, 0, 8, 8, 2, 3, 7, 6, 5, 8, 7, 3, 3, 8, 4, 8, 3, 2, 6, 8, 3, 9, 4, 3, 4, 7, 1, 7, 9, 1, 4, 4, 3, 1, 4, 7, 0, 6, 5, 6, 3, 7, 0, 3, 2, 7, 9, 8, 0, 7, 7, 2, 6, 7, 0, 1, 8, 0, 6, 7, 7, 4, 5, 0, 1, 2, 2, 7, 3, 7, 1, 5, 6, 1, 7, 9, 7, 1, 8, 6, 7, 3, 2, 5, 7, 6, 3, 9, 3, 2, 4, 7, 7, 5, 0, 8, 4, 6, 6, 8, 4, 9, 5, 5, 0, 5, 4, 3, 3, 7, 5, 6, 9, 9, 7, 6, 9, 6, 3, 7, 5, 7, 1, 6, 6, 1, 7, 3, 0, 7, 8, 0, 5, 8, 0, 1, 0, 7, 7, 8, 0, 0, 5, 4, 1, 7, 3, 4, 5, 3, 5, 0, 4, 1, 1, 3, 4, 8, 0, 9, 1, 5, 2, 7, 3, 6, 8, 5, 2, 0, 6, 7, 6, 8, 5, 9, 4, 4, 0, 0, 2, 0, 1, 2, 4, 0, 4, 8, 5, 2, 3, 4, 1, 8, 4, 0, 5, 2, 5, 7, 8, 5, 6, 9, 4, 9, 2, 5, 5, 4, 3, 4, 5, 4, 0, 8, 1, 7, 2, 9, 8, 0, 3, 3, 1, 9, 7, 9, 5, 0, 7, 4, 1, 9, 2, 6, 5, 1, 4, 0, 3, 2, 2, 4, 8, 9, 0, 0, 1, 4, 8, 9, 1, 7, 3, 8, 9, 5, 0, 7, 5, 9, 4, 1, 7, 5, 6, 6, 6, 2, 9, 6, 6, 6, 9, 8, 3, 4, 1, 9, 8, 9, 1, 3, 3, 3, 2, 5, 6, 7, 2, 9, 8, 5, 4, 1, 3, 5, 0, 8, 6, 8, 9, 2, 1, 9, 4, 5, 6, 6, 0, 3, 3, 3, 4, 1, 9, 4, 9, 4, 4, 8, 8, 9, 4, 8, 9, 2, 2, 2, 2, 3, 0, 7, 9, 9, 9, 5, 6, 4, 3, 2, 4, 0, 9, 6, 4, 5, 9, 2, 7, 3, 1, 7, 2, 3, 5, 4, 3, 3, 5, 9, 1, 4, 0, 4, 8, 9, 1, 5, 1, 4, 5, 4, 7, 9, 5, 5, 1, 5, 0, 4, 9, 4, 9, 3, 4, 7, 6, 5, 9, 7, 2, 1, 8, 4, 4, 4, 2, 9, 6, 6, 4, 6, 8, 5, 6, 8, 1, 7, 1, 2, 2, 0, 4, 4, 1, 3, 2, 6, 3, 9, 0, 3, 2, 0, 7, 1, 2, 0, 6, 6, 1, 4, 6, 7, 4, 1, 5, 9, 8, 3, 9, 4, 6, 5, 4, 4, 3, 8, 5, 1, 3, 5, 9, 4, 5, 1, 6, 4, 5, 3, 8, 2, 6, 8, 6, 5, 7, 9, 5, 3, 2, 9, 2, 4, 9, 6, 2, 3, 5, 0, 7, 7, 7, 6, 5, 0, 5, 6, 9, 5, 6, 3, 1, 5, 1, 5, 2, 1, 9, 9, 9, 7, 2, 2, 3, 3, 1, 1, 2, 9, 9, 0, 2, 6, 8, 1, 3, 5, 9, 1, 7, 7, 3, 1, 7, 0, 2, 2, 0, 1, 4, 0, 2, 0, 0, 5, 3, 8, 7, 1, 7, 1, 2, 6, 0, 6, 0, 9, 7, 0, 6, 2, 8, 3, 8, 0, 2, 6, 2, 6, 5, 8, 3, 4, 1, 0, 2, 9, 9, 5, 6, 3, 6, 7, 6, 4, 6, 1, 9, 0, 6, 0, 7, 4, 4, 3, 8, 5, 7, 9, 3, 6, 0, 7, 4, 1, 9, 4, 4, 0, 5, 8, 3, 0, 1, 8, 2, 4, 5, 0, 7, 3, 2, 5, 3, 5, 1, 9, 3, 5, 0, 0, 3, 6, 0, 6, 9, 8, 5, 6, 5, 2, 8, 4, 2, 7, 2, 6, 6, 2, 5, 8, 2, 0, 4, 6, 8, 9, 9, 7, 4, 8, 3, 3, 3, 3, 6, 1, 0, 5, 6, 3, 9, 7, 9, 6, 0, 2, 3, 8, 6, 4, 3, 2, 5, 8, 7, 8, 9, 2, 4, 0, 6, 3, 2, 7, 6, 9, 8, 8, 3, 3, 5, 5, 6, 7, 3, 5, 0, 3, 8, 9, 5, 6, 7, 9, 0, 9, 5, 0, 2, 2, 0, 3, 5, 4, 9, 0, 0, 1, 6, 0, 3, 4, 2, 1, 6, 4, 3, 8, 1, 2, 3, 9, 3, 8, 2, 5, 6, 5, 6, 9, 8, 4, 0, 8, 7, 7, 5, 1, 9, 7, 5, 2, 7, 1, 0]\n",
      "[9, 6, 6, 2, 4, 9, 9, 3, 3, 4, 2, 8, 0, 4, 5, 8, 4, 3, 4, 6, 5, 0, 7, 8, 4, 8, 7, 7, 7, 1, 8, 8, 1, 6, 7, 6, 0, 3, 1, 2, 8, 2, 5, 2, 6, 0, 0, 5, 6, 3, 0, 8, 9, 2, 8, 0, 0, 5, 1, 8, 3, 0, 7, 3, 6, 8, 6, 5, 4, 3, 7, 7, 3, 9, 3, 5, 6, 7, 3, 1, 1, 4, 8, 9, 2, 9, 4, 6, 6, 3, 8, 3, 4, 4, 6, 0, 2, 4, 8, 0, 9, 2, 9, 7, 7, 9, 3, 5, 8, 7, 0, 8, 4, 3, 9, 6, 2, 2, 1, 4, 6, 8, 1, 8, 7, 1, 2, 2, 8, 1, 3, 9, 1, 1, 7, 9, 2, 5, 9, 2, 8, 1, 1, 8, 7, 7, 8, 6, 5, 7, 9, 4, 5, 5, 1, 9, 6, 5, 9, 9, 4, 1, 1, 8, 4, 3, 0, 2, 9, 7, 4, 4, 9, 5, 2, 3, 0, 2, 4, 9, 7, 6, 8, 1, 2, 4, 3, 0, 7, 2, 6, 7, 0, 6, 0, 1, 3, 4, 5, 2, 0, 0, 0, 4, 9, 2, 1, 5, 7, 3, 1, 0, 5, 9, 6, 3, 6, 3, 0, 4, 2, 8, 0, 5, 1, 7, 5, 2, 8, 2, 5, 0, 8, 8, 9, 4, 5, 6, 9, 6, 5, 3, 0, 8, 8, 2, 3, 7, 6, 5, 8, 7, 3, 3, 8, 4, 8, 3, 2, 6, 8, 3, 9, 4, 3, 4, 7, 1, 7, 9, 1, 4, 4, 3, 1, 4, 7, 0, 6, 5, 6, 3, 7, 0, 3, 2, 7, 9, 8, 0, 7, 7, 2, 6, 7, 0, 1, 8, 0, 6, 7, 7, 4, 5, 0, 1, 2, 2, 7, 3, 7, 1, 5, 6, 1, 7, 9, 7, 1, 8, 6, 7, 3, 2, 5, 7, 6, 3, 9, 3, 2, 4, 7, 7, 5, 0, 8, 4, 6, 6, 8, 4, 9, 5, 5, 0, 5, 4, 3, 3, 7, 5, 6, 9, 9, 7, 6, 9, 6, 3, 7, 5, 7, 1, 6, 6, 1, 7, 3, 0, 7, 8, 0, 5, 8, 0, 1, 0, 7, 7, 8, 0, 0, 5, 4, 1, 7, 3, 4, 5, 3, 5, 0, 4, 1, 1, 3, 4, 8, 0, 9, 1, 5, 2, 7, 3, 6, 8, 5, 2, 0, 6, 7, 6, 8, 5, 9, 4, 4, 0, 0, 2, 0, 1, 2, 4, 0, 4, 8, 5, 2, 3, 4, 1, 8, 4, 0, 5, 2, 5, 7, 8, 5, 6, 9, 4, 9, 2, 5, 5, 4, 3, 4, 5, 4, 0, 8, 1, 7, 2, 9, 8, 0, 3, 3, 1, 9, 7, 9, 5, 0, 7, 4, 1, 9, 2, 6, 5, 1, 4, 0, 3, 2, 2, 4, 8, 9, 0, 0, 1, 4, 8, 9, 1, 7, 3, 8, 9, 5, 0, 7, 5, 9, 4, 1, 7, 5, 6, 6, 6, 2, 9, 6, 6, 6, 9, 8, 3, 4, 1, 9, 8, 9, 1, 3, 3, 3, 2, 5, 6, 7, 2, 9, 8, 5, 4, 1, 3, 5, 0, 8, 6, 8, 9, 2, 1, 9, 4, 5, 6, 6, 0, 3, 3, 3, 4, 1, 9, 4, 9, 4, 4, 8, 8, 9, 4, 8, 9, 2, 2, 2, 2, 3, 0, 7, 9, 9, 9, 5, 6, 4, 3, 2, 4, 0, 9, 6, 4, 5, 9, 2, 7, 3, 1, 7, 2, 3, 5, 4, 3, 3, 5, 9, 1, 4, 0, 4, 8, 9, 1, 5, 1, 4, 5, 4, 7, 9, 5, 5, 1, 5, 0, 4, 9, 4, 9, 3, 4, 7, 6, 5, 9, 7, 2, 1, 8, 4, 4, 4, 2, 9, 6, 6, 4, 6, 8, 5, 6, 8, 1, 7, 1, 2, 2, 0, 4, 4, 1, 3, 2, 6, 3, 9, 0, 3, 2, 0, 7, 1, 2, 0, 6, 6, 1, 4, 6, 7, 4, 1, 5, 9, 8, 3, 9, 4, 6, 5, 4, 4, 3, 8, 5, 1, 3, 5, 9, 4, 5, 1, 6, 4, 5, 3, 8, 2, 6, 8, 6, 5, 7, 9, 5, 3, 2, 9, 2, 4, 9, 6, 2, 3, 5, 0, 7, 7, 7, 6, 5, 0, 5, 6, 9, 5, 6, 3, 1, 5, 1, 5, 2, 1, 9, 9, 9, 7, 2, 2, 3, 3, 1, 1, 2, 9, 9, 0, 2, 6, 8, 1, 3, 5, 9, 1, 7, 7, 3, 1, 7, 0, 2, 2, 0, 1, 4, 0, 2, 0, 0, 5, 3, 8, 7, 1, 7, 1, 2, 6, 0, 6, 0, 9, 7, 0, 6, 2, 8, 3, 8, 0, 2, 6, 2, 6, 5, 8, 3, 4, 1, 0, 2, 9, 9, 5, 6, 3, 6, 7, 6, 4, 6, 1, 9, 0, 6, 0, 7, 4, 4, 3, 8, 5, 7, 9, 3, 6, 0, 7, 4, 1, 9, 4, 4, 0, 5, 8, 3, 0, 1, 8, 2, 4, 5, 0, 7, 3, 2, 5, 3, 5, 1, 9, 3, 5, 0, 0, 3, 6, 0, 6, 9, 8, 5, 6, 5, 2, 8, 4, 2, 7, 2, 6, 6, 2, 5, 8, 2, 0, 4, 6, 8, 9, 9, 7, 4, 8, 3, 3, 3, 3, 6, 1, 0, 5, 6, 3, 9, 7, 9, 6, 0, 2, 3, 8, 6, 4, 3, 2, 5, 8, 7, 8, 9, 2, 4, 0, 6, 3, 2, 7, 6, 9, 8, 8, 3, 3, 5, 5, 6, 7, 3, 5, 0, 3, 8, 9, 5, 6, 7, 9, 0, 9, 5, 0, 2, 2, 0, 3, 5, 4, 9, 0, 0, 1, 6, 0, 3, 4, 2, 1, 6, 4, 3, 8, 1, 2, 3, 9, 3, 8, 2, 5, 6, 5, 6, 9, 8, 4, 0, 8, 7, 7, 5, 1, 9, 7, 5, 2, 7, 1, 0]\n",
      "[9, 6, 6, 2, 4, 9, 9, 3, 3, 4, 2, 8, 0, 4, 5, 8, 4, 3, 4, 6, 5, 0, 7, 8, 4, 8, 7, 7, 7, 1, 8, 8, 1, 6, 7, 6, 0, 3, 1, 2, 8, 2, 5, 2, 6, 0, 0, 5, 6, 3, 0, 8, 9, 2, 8, 0, 0, 5, 1, 8, 3, 0, 7, 3, 6, 8, 6, 5, 4, 3, 7, 7, 3, 9, 3, 5, 6, 7, 3, 1, 1, 4, 8, 9, 2, 9, 4, 6, 6, 3, 8, 3, 4, 4, 6, 0, 2, 4, 8, 0, 9, 2, 9, 7, 7, 9, 3, 5, 8, 7, 0, 8, 4, 3, 9, 6, 2, 2, 1, 4, 6, 8, 1, 8, 7, 1, 2, 2, 8, 1, 3, 9, 1, 1, 7, 9, 2, 5, 9, 2, 8, 1, 1, 8, 7, 7, 8, 6, 5, 7, 9, 4, 5, 5, 1, 9, 6, 5, 9, 9, 4, 1, 1, 8, 4, 3, 0, 2, 9, 7, 4, 4, 9, 5, 2, 3, 0, 2, 4, 9, 7, 6, 8, 1, 2, 4, 3, 0, 7, 2, 6, 7, 0, 6, 0, 1, 3, 4, 5, 2, 0, 0, 0, 4, 9, 2, 1, 5, 7, 3, 1, 0, 5, 9, 6, 3, 6, 3, 0, 4, 2, 8, 0, 5, 1, 7, 5, 2, 8, 2, 5, 0, 8, 8, 9, 4, 5, 6, 9, 6, 5, 3, 0, 8, 8, 2, 3, 7, 6, 5, 8, 7, 3, 3, 8, 4, 8, 3, 2, 6, 8, 3, 9, 4, 3, 4, 7, 1, 7, 9, 1, 4, 4, 3, 1, 4, 7, 0, 6, 5, 6, 3, 7, 0, 3, 2, 7, 9, 8, 0, 7, 7, 2, 6, 7, 0, 1, 8, 0, 6, 7, 7, 4, 5, 0, 1, 2, 2, 7, 3, 7, 1, 5, 6, 1, 7, 9, 7, 1, 8, 6, 7, 3, 2, 5, 7, 6, 3, 9, 3, 2, 4, 7, 7, 5, 0, 8, 4, 6, 6, 8, 4, 9, 5, 5, 0, 5, 4, 3, 3, 7, 5, 6, 9, 9, 7, 6, 9, 6, 3, 7, 5, 7, 1, 6, 6, 1, 7, 3, 0, 7, 8, 0, 5, 8, 0, 1, 0, 7, 7, 8, 0, 0, 5, 4, 1, 7, 3, 4, 5, 3, 5, 0, 4, 1, 1, 3, 4, 8, 0, 9, 1, 5, 2, 7, 3, 6, 8, 5, 2, 0, 6, 7, 6, 8, 5, 9, 4, 4, 0, 0, 2, 0, 1, 2, 4, 0, 4, 8, 5, 2, 3, 4, 1, 8, 4, 0, 5, 2, 5, 7, 8, 5, 6, 9, 4, 9, 2, 5, 5, 4, 3, 4, 5, 4, 0, 8, 1, 7, 2, 9, 8, 0, 3, 3, 1, 9, 7, 9, 5, 0, 7, 4, 1, 9, 2, 6, 5, 1, 4, 0, 3, 2, 2, 4, 8, 9, 0, 0, 1, 4, 8, 9, 1, 7, 3, 8, 9, 5, 0, 7, 5, 9, 4, 1, 7, 5, 6, 6, 6, 2, 9, 6, 6, 6, 9, 8, 3, 4, 1, 9, 8, 9, 1, 3, 3, 3, 2, 5, 6, 7, 2, 9, 8, 5, 4, 1, 3, 5, 0, 8, 6, 8, 9, 2, 1, 9, 4, 5, 6, 6, 0, 3, 3, 3, 4, 1, 9, 4, 9, 4, 4, 8, 8, 9, 4, 8, 9, 2, 2, 2, 2, 3, 0, 7, 9, 9, 9, 5, 6, 4, 3, 2, 4, 0, 9, 6, 4, 5, 9, 2, 7, 3, 1, 7, 2, 3, 5, 4, 3, 3, 5, 9, 1, 4, 0, 4, 8, 9, 1, 5, 1, 4, 5, 4, 7, 9, 5, 5, 1, 5, 0, 4, 9, 4, 9, 3, 4, 7, 6, 5, 9, 7, 2, 1, 8, 4, 4, 4, 2, 9, 6, 6, 4, 6, 8, 5, 6, 8, 1, 7, 1, 2, 2, 0, 4, 4, 1, 3, 2, 6, 3, 9, 0, 3, 2, 0, 7, 1, 2, 0, 6, 6, 1, 4, 6, 7, 4, 1, 5, 9, 8, 3, 9, 4, 6, 5, 4, 4, 3, 8, 5, 1, 3, 5, 9, 4, 5, 1, 6, 4, 5, 3, 8, 2, 6, 8, 6, 5, 7, 9, 5, 3, 2, 9, 2, 4, 9, 6, 2, 3, 5, 0, 7, 7, 7, 6, 5, 0, 5, 6, 9, 5, 6, 3, 1, 5, 1, 5, 2, 1, 9, 9, 9, 7, 2, 2, 3, 3, 1, 1, 2, 9, 9, 0, 2, 6, 8, 1, 3, 5, 9, 1, 7, 7, 3, 1, 7, 0, 2, 2, 0, 1, 4, 0, 2, 0, 0, 5, 3, 8, 7, 1, 7, 1, 2, 6, 0, 6, 0, 9, 7, 0, 6, 2, 8, 3, 8, 0, 2, 6, 2, 6, 5, 8, 3, 4, 1, 0, 2, 9, 9, 5, 6, 3, 6, 7, 6, 4, 6, 1, 9, 0, 6, 0, 7, 4, 4, 3, 8, 5, 7, 9, 3, 6, 0, 7, 4, 1, 9, 4, 4, 0, 5, 8, 3, 0, 1, 8, 2, 4, 5, 0, 7, 3, 2, 5, 3, 5, 1, 9, 3, 5, 0, 0, 3, 6, 0, 6, 9, 8, 5, 6, 5, 2, 8, 4, 2, 7, 2, 6, 6, 2, 5, 8, 2, 0, 4, 6, 8, 9, 9, 7, 4, 8, 3, 3, 3, 3, 6, 1, 0, 5, 6, 3, 9, 7, 9, 6, 0, 2, 3, 8, 6, 4, 3, 2, 5, 8, 7, 8, 9, 2, 4, 0, 6, 3, 2, 7, 6, 9, 8, 8, 3, 3, 5, 5, 6, 7, 3, 5, 0, 3, 8, 9, 5, 6, 7, 9, 0, 9, 5, 0, 2, 2, 0, 3, 5, 4, 9, 0, 0, 1, 6, 0, 3, 4, 2, 1, 6, 4, 3, 8, 1, 2, 3, 9, 3, 8, 2, 5, 6, 5, 6, 9, 8, 4, 0, 8, 7, 7, 5, 1, 9, 7, 5, 2, 7, 1, 0]\n",
      "[9, 6, 6, 2, 4, 9, 9, 3, 3, 4, 2, 8, 0, 4, 5, 8, 4, 3, 4, 6, 5, 0, 7, 8, 4, 8, 7, 7, 7, 1, 8, 8, 1, 6, 7, 6, 0, 3, 1, 2, 8, 2, 5, 2, 6, 0, 0, 5, 6, 3, 0, 8, 9, 2, 8, 0, 0, 5, 1, 8, 3, 0, 7, 3, 6, 8, 6, 5, 4, 3, 7, 7, 3, 9, 3, 5, 6, 7, 3, 1, 1, 4, 8, 9, 2, 9, 4, 6, 6, 3, 8, 3, 4, 4, 6, 0, 2, 4, 8, 0, 9, 2, 9, 7, 7, 9, 3, 5, 8, 7, 0, 8, 4, 3, 9, 6, 2, 2, 1, 4, 6, 8, 1, 8, 7, 1, 2, 2, 8, 1, 3, 9, 1, 1, 7, 9, 2, 5, 9, 2, 8, 1, 1, 8, 7, 7, 8, 6, 5, 7, 9, 4, 5, 5, 1, 9, 6, 5, 9, 9, 4, 1, 1, 8, 4, 3, 0, 2, 9, 7, 4, 4, 9, 5, 2, 3, 0, 2, 4, 9, 7, 6, 8, 1, 2, 4, 3, 0, 7, 2, 6, 7, 0, 6, 0, 1, 3, 4, 5, 2, 0, 0, 0, 4, 9, 2, 1, 5, 7, 3, 1, 0, 5, 9, 6, 3, 6, 3, 0, 4, 2, 8, 0, 5, 1, 7, 5, 2, 8, 2, 5, 0, 8, 8, 9, 4, 5, 6, 9, 6, 5, 3, 0, 8, 8, 2, 3, 7, 6, 5, 8, 7, 3, 3, 8, 4, 8, 3, 2, 6, 8, 3, 9, 4, 3, 4, 7, 1, 7, 9, 1, 4, 4, 3, 1, 4, 7, 0, 6, 5, 6, 3, 7, 0, 3, 2, 7, 9, 8, 0, 7, 7, 2, 6, 7, 0, 1, 8, 0, 6, 7, 7, 4, 5, 0, 1, 2, 2, 7, 3, 7, 1, 5, 6, 1, 7, 9, 7, 1, 8, 6, 7, 3, 2, 5, 7, 6, 3, 9, 3, 2, 4, 7, 7, 5, 0, 8, 4, 6, 6, 8, 4, 9, 5, 5, 0, 5, 4, 3, 3, 7, 5, 6, 9, 9, 7, 6, 9, 6, 3, 7, 5, 7, 1, 6, 6, 1, 7, 3, 0, 7, 8, 0, 5, 8, 0, 1, 0, 7, 7, 8, 0, 0, 5, 4, 1, 7, 3, 4, 5, 3, 5, 0, 4, 1, 1, 3, 4, 8, 0, 9, 1, 5, 2, 7, 3, 6, 8, 5, 2, 0, 6, 7, 6, 8, 5, 9, 4, 4, 0, 0, 2, 0, 1, 2, 4, 0, 4, 8, 5, 2, 3, 4, 1, 8, 4, 0, 5, 2, 5, 7, 8, 5, 6, 9, 4, 9, 2, 5, 5, 4, 3, 4, 5, 4, 0, 8, 1, 7, 2, 9, 8, 0, 3, 3, 1, 9, 7, 9, 5, 0, 7, 4, 1, 9, 2, 6, 5, 1, 4, 0, 3, 2, 2, 4, 8, 9, 0, 0, 1, 4, 8, 9, 1, 7, 3, 8, 9, 5, 0, 7, 5, 9, 4, 1, 7, 5, 6, 6, 6, 2, 9, 6, 6, 6, 9, 8, 3, 4, 1, 9, 8, 9, 1, 3, 3, 3, 2, 5, 6, 7, 2, 9, 8, 5, 4, 1, 3, 5, 0, 8, 6, 8, 9, 2, 1, 9, 4, 5, 6, 6, 0, 3, 3, 3, 4, 1, 9, 4, 9, 4, 4, 8, 8, 9, 4, 8, 9, 2, 2, 2, 2, 3, 0, 7, 9, 9, 9, 5, 6, 4, 3, 2, 4, 0, 9, 6, 4, 5, 9, 2, 7, 3, 1, 7, 2, 3, 5, 4, 3, 3, 5, 9, 1, 4, 0, 4, 8, 9, 1, 5, 1, 4, 5, 4, 7, 9, 5, 5, 1, 5, 0, 4, 9, 4, 9, 3, 4, 7, 6, 5, 9, 7, 2, 1, 8, 4, 4, 4, 2, 9, 6, 6, 4, 6, 8, 5, 6, 8, 1, 7, 1, 2, 2, 0, 4, 4, 1, 3, 2, 6, 3, 9, 0, 3, 2, 0, 7, 1, 2, 0, 6, 6, 1, 4, 6, 7, 4, 1, 5, 9, 8, 3, 9, 4, 6, 5, 4, 4, 3, 8, 5, 1, 3, 5, 9, 4, 5, 1, 6, 4, 5, 3, 8, 2, 6, 8, 6, 5, 7, 9, 5, 3, 2, 9, 2, 4, 9, 6, 2, 3, 5, 0, 7, 7, 7, 6, 5, 0, 5, 6, 9, 5, 6, 3, 1, 5, 1, 5, 2, 1, 9, 9, 9, 7, 2, 2, 3, 3, 1, 1, 2, 9, 9, 0, 2, 6, 8, 1, 3, 5, 9, 1, 7, 7, 3, 1, 7, 0, 2, 2, 0, 1, 4, 0, 2, 0, 0, 5, 3, 8, 7, 1, 7, 1, 2, 6, 0, 6, 0, 9, 7, 0, 6, 2, 8, 3, 8, 0, 2, 6, 2, 6, 5, 8, 3, 4, 1, 0, 2, 9, 9, 5, 6, 3, 6, 7, 6, 4, 6, 1, 9, 0, 6, 0, 7, 4, 4, 3, 8, 5, 7, 9, 3, 6, 0, 7, 4, 1, 9, 4, 4, 0, 5, 8, 3, 0, 1, 8, 2, 4, 5, 0, 7, 3, 2, 5, 3, 5, 1, 9, 3, 5, 0, 0, 3, 6, 0, 6, 9, 8, 5, 6, 5, 2, 8, 4, 2, 7, 2, 6, 6, 2, 5, 8, 2, 0, 4, 6, 8, 9, 9, 7, 4, 8, 3, 3, 3, 3, 6, 1, 0, 5, 6, 3, 9, 7, 9, 6, 0, 2, 3, 8, 6, 4, 3, 2, 5, 8, 7, 8, 9, 2, 4, 0, 6, 3, 2, 7, 6, 9, 8, 8, 3, 3, 5, 5, 6, 7, 3, 5, 0, 3, 8, 9, 5, 6, 7, 9, 0, 9, 5, 0, 2, 2, 0, 3, 5, 4, 9, 0, 0, 1, 6, 0, 3, 4, 2, 1, 6, 4, 3, 8, 1, 2, 3, 9, 3, 8, 2, 5, 6, 5, 6, 9, 8, 4, 0, 8, 7, 7, 5, 1, 9, 7, 5, 2, 7, 1, 0]\n",
      "[9, 6, 6, 2, 4, 9, 9, 3, 3, 4, 2, 8, 0, 4, 5, 8, 4, 3, 4, 6, 5, 0, 7, 8, 4, 8, 7, 7, 7, 1, 8, 8, 1, 6, 7, 6, 0, 3, 1, 2, 8, 2, 5, 2, 6, 0, 0, 5, 6, 3, 0, 8, 9, 2, 8, 0, 0, 5, 1, 8, 3, 0, 7, 3, 6, 8, 6, 5, 4, 3, 7, 7, 3, 9, 3, 5, 6, 7, 3, 1, 1, 4, 8, 9, 2, 9, 4, 6, 6, 3, 8, 3, 4, 4, 6, 0, 2, 4, 8, 0, 9, 2, 9, 7, 7, 9, 3, 5, 8, 7, 0, 8, 4, 3, 9, 6, 2, 2, 1, 4, 6, 8, 1, 8, 7, 1, 2, 2, 8, 1, 3, 9, 1, 1, 7, 9, 2, 5, 9, 2, 8, 1, 1, 8, 7, 7, 8, 6, 5, 7, 9, 4, 5, 5, 1, 9, 6, 5, 9, 9, 4, 1, 1, 8, 4, 3, 0, 2, 9, 7, 4, 4, 9, 5, 2, 3, 0, 2, 4, 9, 7, 6, 8, 1, 2, 4, 3, 0, 7, 2, 6, 7, 0, 6, 0, 1, 3, 4, 5, 2, 0, 0, 0, 4, 9, 2, 1, 5, 7, 3, 1, 0, 5, 9, 6, 3, 6, 3, 0, 4, 2, 8, 0, 5, 1, 7, 5, 2, 8, 2, 5, 0, 8, 8, 9, 4, 5, 6, 9, 6, 5, 3, 0, 8, 8, 2, 3, 7, 6, 5, 8, 7, 3, 3, 8, 4, 8, 3, 2, 6, 8, 3, 9, 4, 3, 4, 7, 1, 7, 9, 1, 4, 4, 3, 1, 4, 7, 0, 6, 5, 6, 3, 7, 0, 3, 2, 7, 9, 8, 0, 7, 7, 2, 6, 7, 0, 1, 8, 0, 6, 7, 7, 4, 5, 0, 1, 2, 2, 7, 3, 7, 1, 5, 6, 1, 7, 9, 7, 1, 8, 6, 7, 3, 2, 5, 7, 6, 3, 9, 3, 2, 4, 7, 7, 5, 0, 8, 4, 6, 6, 8, 4, 9, 5, 5, 0, 5, 4, 3, 3, 7, 5, 6, 9, 9, 7, 6, 9, 6, 3, 7, 5, 7, 1, 6, 6, 1, 7, 3, 0, 7, 8, 0, 5, 8, 0, 1, 0, 7, 7, 8, 0, 0, 5, 4, 1, 7, 3, 4, 5, 3, 5, 0, 4, 1, 1, 3, 4, 8, 0, 9, 1, 5, 2, 7, 3, 6, 8, 5, 2, 0, 6, 7, 6, 8, 5, 9, 4, 4, 0, 0, 2, 0, 1, 2, 4, 0, 4, 8, 5, 2, 3, 4, 1, 8, 4, 0, 5, 2, 5, 7, 8, 5, 6, 9, 4, 9, 2, 5, 5, 4, 3, 4, 5, 4, 0, 8, 1, 7, 2, 9, 8, 0, 3, 3, 1, 9, 7, 9, 5, 0, 7, 4, 1, 9, 2, 6, 5, 1, 4, 0, 3, 2, 2, 4, 8, 9, 0, 0, 1, 4, 8, 9, 1, 7, 3, 8, 9, 5, 0, 7, 5, 9, 4, 1, 7, 5, 6, 6, 6, 2, 9, 6, 6, 6, 9, 8, 3, 4, 1, 9, 8, 9, 1, 3, 3, 3, 2, 5, 6, 7, 2, 9, 8, 5, 4, 1, 3, 5, 0, 8, 6, 8, 9, 2, 1, 9, 4, 5, 6, 6, 0, 3, 3, 3, 4, 1, 9, 4, 9, 4, 4, 8, 8, 9, 4, 8, 9, 2, 2, 2, 2, 3, 0, 7, 9, 9, 9, 5, 6, 4, 3, 2, 4, 0, 9, 6, 4, 5, 9, 2, 7, 3, 1, 7, 2, 3, 5, 4, 3, 3, 5, 9, 1, 4, 0, 4, 8, 9, 1, 5, 1, 4, 5, 4, 7, 9, 5, 5, 1, 5, 0, 4, 9, 4, 9, 3, 4, 7, 6, 5, 9, 7, 2, 1, 8, 4, 4, 4, 2, 9, 6, 6, 4, 6, 8, 5, 6, 8, 1, 7, 1, 2, 2, 0, 4, 4, 1, 3, 2, 6, 3, 9, 0, 3, 2, 0, 7, 1, 2, 0, 6, 6, 1, 4, 6, 7, 4, 1, 5, 9, 8, 3, 9, 4, 6, 5, 4, 4, 3, 8, 5, 1, 3, 5, 9, 4, 5, 1, 6, 4, 5, 3, 8, 2, 6, 8, 6, 5, 7, 9, 5, 3, 2, 9, 2, 4, 9, 6, 2, 3, 5, 0, 7, 7, 7, 6, 5, 0, 5, 6, 9, 5, 6, 3, 1, 5, 1, 5, 2, 1, 9, 9, 9, 7, 2, 2, 3, 3, 1, 1, 2, 9, 9, 0, 2, 6, 8, 1, 3, 5, 9, 1, 7, 7, 3, 1, 7, 0, 2, 2, 0, 1, 4, 0, 2, 0, 0, 5, 3, 8, 7, 1, 7, 1, 2, 6, 0, 6, 0, 9, 7, 0, 6, 2, 8, 3, 8, 0, 2, 6, 2, 6, 5, 8, 3, 4, 1, 0, 2, 9, 9, 5, 6, 3, 6, 7, 6, 4, 6, 1, 9, 0, 6, 0, 7, 4, 4, 3, 8, 5, 7, 9, 3, 6, 0, 7, 4, 1, 9, 4, 4, 0, 5, 8, 3, 0, 1, 8, 2, 4, 5, 0, 7, 3, 2, 5, 3, 5, 1, 9, 3, 5, 0, 0, 3, 6, 0, 6, 9, 8, 5, 6, 5, 2, 8, 4, 2, 7, 2, 6, 6, 2, 5, 8, 2, 0, 4, 6, 8, 9, 9, 7, 4, 8, 3, 3, 3, 3, 6, 1, 0, 5, 6, 3, 9, 7, 9, 6, 0, 2, 3, 8, 6, 4, 3, 2, 5, 8, 7, 8, 9, 2, 4, 0, 6, 3, 2, 7, 6, 9, 8, 8, 3, 3, 5, 5, 6, 7, 3, 5, 0, 3, 8, 9, 5, 6, 7, 9, 0, 9, 5, 0, 2, 2, 0, 3, 5, 4, 9, 0, 0, 1, 6, 0, 3, 4, 2, 1, 6, 4, 3, 8, 1, 2, 3, 9, 3, 8, 2, 5, 6, 5, 6, 9, 8, 4, 0, 8, 7, 7, 5, 1, 9, 7, 5, 2, 7, 1, 0]\n",
      "[9, 6, 6, 2, 4, 9, 9, 3, 3, 4, 2, 8, 0, 4, 5, 8, 4, 3, 4, 6, 5, 0, 7, 8, 4, 8, 7, 7, 7, 1, 8, 8, 1, 6, 7, 6, 0, 3, 1, 2, 8, 2, 5, 2, 6, 0, 0, 5, 6, 3, 0, 8, 9, 2, 8, 0, 0, 5, 1, 8, 3, 0, 7, 3, 6, 8, 6, 5, 4, 3, 7, 7, 3, 9, 3, 5, 6, 7, 3, 1, 1, 4, 8, 9, 2, 9, 4, 6, 6, 3, 8, 3, 4, 4, 6, 0, 2, 4, 8, 0, 9, 2, 9, 7, 7, 9, 3, 5, 8, 7, 0, 8, 4, 3, 9, 6, 2, 2, 1, 4, 6, 8, 1, 8, 7, 1, 2, 2, 8, 1, 3, 9, 1, 1, 7, 9, 2, 5, 9, 2, 8, 1, 1, 8, 7, 7, 8, 6, 5, 7, 9, 4, 5, 5, 1, 9, 6, 5, 9, 9, 4, 1, 1, 8, 4, 3, 0, 2, 9, 7, 4, 4, 9, 5, 2, 3, 0, 2, 4, 9, 7, 6, 8, 1, 2, 4, 3, 0, 7, 2, 6, 7, 0, 6, 0, 1, 3, 4, 5, 2, 0, 0, 0, 4, 9, 2, 1, 5, 7, 3, 1, 0, 5, 9, 6, 3, 6, 3, 0, 4, 2, 8, 0, 5, 1, 7, 5, 2, 8, 2, 5, 0, 8, 8, 9, 4, 5, 6, 9, 6, 5, 3, 0, 8, 8, 2, 3, 7, 6, 5, 8, 7, 3, 3, 8, 4, 8, 3, 2, 6, 8, 3, 9, 4, 3, 4, 7, 1, 7, 9, 1, 4, 4, 3, 1, 4, 7, 0, 6, 5, 6, 3, 7, 0, 3, 2, 7, 9, 8, 0, 7, 7, 2, 6, 7, 0, 1, 8, 0, 6, 7, 7, 4, 5, 0, 1, 2, 2, 7, 3, 7, 1, 5, 6, 1, 7, 9, 7, 1, 8, 6, 7, 3, 2, 5, 7, 6, 3, 9, 3, 2, 4, 7, 7, 5, 0, 8, 4, 6, 6, 8, 4, 9, 5, 5, 0, 5, 4, 3, 3, 7, 5, 6, 9, 9, 7, 6, 9, 6, 3, 7, 5, 7, 1, 6, 6, 1, 7, 3, 0, 7, 8, 0, 5, 8, 0, 1, 0, 7, 7, 8, 0, 0, 5, 4, 1, 7, 3, 4, 5, 3, 5, 0, 4, 1, 1, 3, 4, 8, 0, 9, 1, 5, 2, 7, 3, 6, 8, 5, 2, 0, 6, 7, 6, 8, 5, 9, 4, 4, 0, 0, 2, 0, 1, 2, 4, 0, 4, 8, 5, 2, 3, 4, 1, 8, 4, 0, 5, 2, 5, 7, 8, 5, 6, 9, 4, 9, 2, 5, 5, 4, 3, 4, 5, 4, 0, 8, 1, 7, 2, 9, 8, 0, 3, 3, 1, 9, 7, 9, 5, 0, 7, 4, 1, 9, 2, 6, 5, 1, 4, 0, 3, 2, 2, 4, 8, 9, 0, 0, 1, 4, 8, 9, 1, 7, 3, 8, 9, 5, 0, 7, 5, 9, 4, 1, 7, 5, 6, 6, 6, 2, 9, 6, 6, 6, 9, 8, 3, 4, 1, 9, 8, 9, 1, 3, 3, 3, 2, 5, 6, 7, 2, 9, 8, 5, 4, 1, 3, 5, 0, 8, 6, 8, 9, 2, 1, 9, 4, 5, 6, 6, 0, 3, 3, 3, 4, 1, 9, 4, 9, 4, 4, 8, 8, 9, 4, 8, 9, 2, 2, 2, 2, 3, 0, 7, 9, 9, 9, 5, 6, 4, 3, 2, 4, 0, 9, 6, 4, 5, 9, 2, 7, 3, 1, 7, 2, 3, 5, 4, 3, 3, 5, 9, 1, 4, 0, 4, 8, 9, 1, 5, 1, 4, 5, 4, 7, 9, 5, 5, 1, 5, 0, 4, 9, 4, 9, 3, 4, 7, 6, 5, 9, 7, 2, 1, 8, 4, 4, 4, 2, 9, 6, 6, 4, 6, 8, 5, 6, 8, 1, 7, 1, 2, 2, 0, 4, 4, 1, 3, 2, 6, 3, 9, 0, 3, 2, 0, 7, 1, 2, 0, 6, 6, 1, 4, 6, 7, 4, 1, 5, 9, 8, 3, 9, 4, 6, 5, 4, 4, 3, 8, 5, 1, 3, 5, 9, 4, 5, 1, 6, 4, 5, 3, 8, 2, 6, 8, 6, 5, 7, 9, 5, 3, 2, 9, 2, 4, 9, 6, 2, 3, 5, 0, 7, 7, 7, 6, 5, 0, 5, 6, 9, 5, 6, 3, 1, 5, 1, 5, 2, 1, 9, 9, 9, 7, 2, 2, 3, 3, 1, 1, 2, 9, 9, 0, 2, 6, 8, 1, 3, 5, 9, 1, 7, 7, 3, 1, 7, 0, 2, 2, 0, 1, 4, 0, 2, 0, 0, 5, 3, 8, 7, 1, 7, 1, 2, 6, 0, 6, 0, 9, 7, 0, 6, 2, 8, 3, 8, 0, 2, 6, 2, 6, 5, 8, 3, 4, 1, 0, 2, 9, 9, 5, 6, 3, 6, 7, 6, 4, 6, 1, 9, 0, 6, 0, 7, 4, 4, 3, 8, 5, 7, 9, 3, 6, 0, 7, 4, 1, 9, 4, 4, 0, 5, 8, 3, 0, 1, 8, 2, 4, 5, 0, 7, 3, 2, 5, 3, 5, 1, 9, 3, 5, 0, 0, 3, 6, 0, 6, 9, 8, 5, 6, 5, 2, 8, 4, 2, 7, 2, 6, 6, 2, 5, 8, 2, 0, 4, 6, 8, 9, 9, 7, 4, 8, 3, 3, 3, 3, 6, 1, 0, 5, 6, 3, 9, 7, 9, 6, 0, 2, 3, 8, 6, 4, 3, 2, 5, 8, 7, 8, 9, 2, 4, 0, 6, 3, 2, 7, 6, 9, 8, 8, 3, 3, 5, 5, 6, 7, 3, 5, 0, 3, 8, 9, 5, 6, 7, 9, 0, 9, 5, 0, 2, 2, 0, 3, 5, 4, 9, 0, 0, 1, 6, 0, 3, 4, 2, 1, 6, 4, 3, 8, 1, 2, 3, 9, 3, 8, 2, 5, 6, 5, 6, 9, 8, 4, 0, 8, 7, 7, 5, 1, 9, 7, 5, 2, 7, 1, 0]\n",
      "[9, 6, 6, 2, 4, 9, 9, 3, 3, 4, 2, 8, 0, 4, 5, 8, 4, 3, 4, 6, 5, 0, 7, 8, 4, 8, 7, 7, 7, 1, 8, 8, 1, 6, 7, 6, 0, 3, 1, 2, 8, 2, 5, 2, 6, 0, 0, 5, 6, 3, 0, 8, 9, 2, 8, 0, 0, 5, 1, 8, 3, 0, 7, 3, 6, 8, 6, 5, 4, 3, 7, 7, 3, 9, 3, 5, 6, 7, 3, 1, 1, 4, 8, 9, 2, 9, 4, 6, 6, 3, 8, 3, 4, 4, 6, 0, 2, 4, 8, 0, 9, 2, 9, 7, 7, 9, 3, 5, 8, 7, 0, 8, 4, 3, 9, 6, 2, 2, 1, 4, 6, 8, 1, 8, 7, 1, 2, 2, 8, 1, 3, 9, 1, 1, 7, 9, 2, 5, 9, 2, 8, 1, 1, 8, 7, 7, 8, 6, 5, 7, 9, 4, 5, 5, 1, 9, 6, 5, 9, 9, 4, 1, 1, 8, 4, 3, 0, 2, 9, 7, 4, 4, 9, 5, 2, 3, 0, 2, 4, 9, 7, 6, 8, 1, 2, 4, 3, 0, 7, 2, 6, 7, 0, 6, 0, 1, 3, 4, 5, 2, 0, 0, 0, 4, 9, 2, 1, 5, 7, 3, 1, 0, 5, 9, 6, 3, 6, 3, 0, 4, 2, 8, 0, 5, 1, 7, 5, 2, 8, 2, 5, 0, 8, 8, 9, 4, 5, 6, 9, 6, 5, 3, 0, 8, 8, 2, 3, 7, 6, 5, 8, 7, 3, 3, 8, 4, 8, 3, 2, 6, 8, 3, 9, 4, 3, 4, 7, 1, 7, 9, 1, 4, 4, 3, 1, 4, 7, 0, 6, 5, 6, 3, 7, 0, 3, 2, 7, 9, 8, 0, 7, 7, 2, 6, 7, 0, 1, 8, 0, 6, 7, 7, 4, 5, 0, 1, 2, 2, 7, 3, 7, 1, 5, 6, 1, 7, 9, 7, 1, 8, 6, 7, 3, 2, 5, 7, 6, 3, 9, 3, 2, 4, 7, 7, 5, 0, 8, 4, 6, 6, 8, 4, 9, 5, 5, 0, 5, 4, 3, 3, 7, 5, 6, 9, 9, 7, 6, 9, 6, 3, 7, 5, 7, 1, 6, 6, 1, 7, 3, 0, 7, 8, 0, 5, 8, 0, 1, 0, 7, 7, 8, 0, 0, 5, 4, 1, 7, 3, 4, 5, 3, 5, 0, 4, 1, 1, 3, 4, 8, 0, 9, 1, 5, 2, 7, 3, 6, 8, 5, 2, 0, 6, 7, 6, 8, 5, 9, 4, 4, 0, 0, 2, 0, 1, 2, 4, 0, 4, 8, 5, 2, 3, 4, 1, 8, 4, 0, 5, 2, 5, 7, 8, 5, 6, 9, 4, 9, 2, 5, 5, 4, 3, 4, 5, 4, 0, 8, 1, 7, 2, 9, 8, 0, 3, 3, 1, 9, 7, 9, 5, 0, 7, 4, 1, 9, 2, 6, 5, 1, 4, 0, 3, 2, 2, 4, 8, 9, 0, 0, 1, 4, 8, 9, 1, 7, 3, 8, 9, 5, 0, 7, 5, 9, 4, 1, 7, 5, 6, 6, 6, 2, 9, 6, 6, 6, 9, 8, 3, 4, 1, 9, 8, 9, 1, 3, 3, 3, 2, 5, 6, 7, 2, 9, 8, 5, 4, 1, 3, 5, 0, 8, 6, 8, 9, 2, 1, 9, 4, 5, 6, 6, 0, 3, 3, 3, 4, 1, 9, 4, 9, 4, 4, 8, 8, 9, 4, 8, 9, 2, 2, 2, 2, 3, 0, 7, 9, 9, 9, 5, 6, 4, 3, 2, 4, 0, 9, 6, 4, 5, 9, 2, 7, 3, 1, 7, 2, 3, 5, 4, 3, 3, 5, 9, 1, 4, 0, 4, 8, 9, 1, 5, 1, 4, 5, 4, 7, 9, 5, 5, 1, 5, 0, 4, 9, 4, 9, 3, 4, 7, 6, 5, 9, 7, 2, 1, 8, 4, 4, 4, 2, 9, 6, 6, 4, 6, 8, 5, 6, 8, 1, 7, 1, 2, 2, 0, 4, 4, 1, 3, 2, 6, 3, 9, 0, 3, 2, 0, 7, 1, 2, 0, 6, 6, 1, 4, 6, 7, 4, 1, 5, 9, 8, 3, 9, 4, 6, 5, 4, 4, 3, 8, 5, 1, 3, 5, 9, 4, 5, 1, 6, 4, 5, 3, 8, 2, 6, 8, 6, 5, 7, 9, 5, 3, 2, 9, 2, 4, 9, 6, 2, 3, 5, 0, 7, 7, 7, 6, 5, 0, 5, 6, 9, 5, 6, 3, 1, 5, 1, 5, 2, 1, 9, 9, 9, 7, 2, 2, 3, 3, 1, 1, 2, 9, 9, 0, 2, 6, 8, 1, 3, 5, 9, 1, 7, 7, 3, 1, 7, 0, 2, 2, 0, 1, 4, 0, 2, 0, 0, 5, 3, 8, 7, 1, 7, 1, 2, 6, 0, 6, 0, 9, 7, 0, 6, 2, 8, 3, 8, 0, 2, 6, 2, 6, 5, 8, 3, 4, 1, 0, 2, 9, 9, 5, 6, 3, 6, 7, 6, 4, 6, 1, 9, 0, 6, 0, 7, 4, 4, 3, 8, 5, 7, 9, 3, 6, 0, 7, 4, 1, 9, 4, 4, 0, 5, 8, 3, 0, 1, 8, 2, 4, 5, 0, 7, 3, 2, 5, 3, 5, 1, 9, 3, 5, 0, 0, 3, 6, 0, 6, 9, 8, 5, 6, 5, 2, 8, 4, 2, 7, 2, 6, 6, 2, 5, 8, 2, 0, 4, 6, 8, 9, 9, 7, 4, 8, 3, 3, 3, 3, 6, 1, 0, 5, 6, 3, 9, 7, 9, 6, 0, 2, 3, 8, 6, 4, 3, 2, 5, 8, 7, 8, 9, 2, 4, 0, 6, 3, 2, 7, 6, 9, 8, 8, 3, 3, 5, 5, 6, 7, 3, 5, 0, 3, 8, 9, 5, 6, 7, 9, 0, 9, 5, 0, 2, 2, 0, 3, 5, 4, 9, 0, 0, 1, 6, 0, 3, 4, 2, 1, 6, 4, 3, 8, 1, 2, 3, 9, 3, 8, 2, 5, 6, 5, 6, 9, 8, 4, 0, 8, 7, 7, 5, 1, 9, 7, 5, 2, 7, 1, 0]\n",
      "[9, 6, 6, 2, 4, 9, 9, 3, 3, 4, 2, 8, 0, 4, 5, 8, 4, 3, 4, 6, 5, 0, 7, 8, 4, 8, 7, 7, 7, 1, 8, 8, 1, 6, 7, 6, 0, 3, 1, 2, 8, 2, 5, 2, 6, 0, 0, 5, 6, 3, 0, 8, 9, 2, 8, 0, 0, 5, 1, 8, 3, 0, 7, 3, 6, 8, 6, 5, 4, 3, 7, 7, 3, 9, 3, 5, 6, 7, 3, 1, 1, 4, 8, 9, 2, 9, 4, 6, 6, 3, 8, 3, 4, 4, 6, 0, 2, 4, 8, 0, 9, 2, 9, 7, 7, 9, 3, 5, 8, 7, 0, 8, 4, 3, 9, 6, 2, 2, 1, 4, 6, 8, 1, 8, 7, 1, 2, 2, 8, 1, 3, 9, 1, 1, 7, 9, 2, 5, 9, 2, 8, 1, 1, 8, 7, 7, 8, 6, 5, 7, 9, 4, 5, 5, 1, 9, 6, 5, 9, 9, 4, 1, 1, 8, 4, 3, 0, 2, 9, 7, 4, 4, 9, 5, 2, 3, 0, 2, 4, 9, 7, 6, 8, 1, 2, 4, 3, 0, 7, 2, 6, 7, 0, 6, 0, 1, 3, 4, 5, 2, 0, 0, 0, 4, 9, 2, 1, 5, 7, 3, 1, 0, 5, 9, 6, 3, 6, 3, 0, 4, 2, 8, 0, 5, 1, 7, 5, 2, 8, 2, 5, 0, 8, 8, 9, 4, 5, 6, 9, 6, 5, 3, 0, 8, 8, 2, 3, 7, 6, 5, 8, 7, 3, 3, 8, 4, 8, 3, 2, 6, 8, 3, 9, 4, 3, 4, 7, 1, 7, 9, 1, 4, 4, 3, 1, 4, 7, 0, 6, 5, 6, 3, 7, 0, 3, 2, 7, 9, 8, 0, 7, 7, 2, 6, 7, 0, 1, 8, 0, 6, 7, 7, 4, 5, 0, 1, 2, 2, 7, 3, 7, 1, 5, 6, 1, 7, 9, 7, 1, 8, 6, 7, 3, 2, 5, 7, 6, 3, 9, 3, 2, 4, 7, 7, 5, 0, 8, 4, 6, 6, 8, 4, 9, 5, 5, 0, 5, 4, 3, 3, 7, 5, 6, 9, 9, 7, 6, 9, 6, 3, 7, 5, 7, 1, 6, 6, 1, 7, 3, 0, 7, 8, 0, 5, 8, 0, 1, 0, 7, 7, 8, 0, 0, 5, 4, 1, 7, 3, 4, 5, 3, 5, 0, 4, 1, 1, 3, 4, 8, 0, 9, 1, 5, 2, 7, 3, 6, 8, 5, 2, 0, 6, 7, 6, 8, 5, 9, 4, 4, 0, 0, 2, 0, 1, 2, 4, 0, 4, 8, 5, 2, 3, 4, 1, 8, 4, 0, 5, 2, 5, 7, 8, 5, 6, 9, 4, 9, 2, 5, 5, 4, 3, 4, 5, 4, 0, 8, 1, 7, 2, 9, 8, 0, 3, 3, 1, 9, 7, 9, 5, 0, 7, 4, 1, 9, 2, 6, 5, 1, 4, 0, 3, 2, 2, 4, 8, 9, 0, 0, 1, 4, 8, 9, 1, 7, 3, 8, 9, 5, 0, 7, 5, 9, 4, 1, 7, 5, 6, 6, 6, 2, 9, 6, 6, 6, 9, 8, 3, 4, 1, 9, 8, 9, 1, 3, 3, 3, 2, 5, 6, 7, 2, 9, 8, 5, 4, 1, 3, 5, 0, 8, 6, 8, 9, 2, 1, 9, 4, 5, 6, 6, 0, 3, 3, 3, 4, 1, 9, 4, 9, 4, 4, 8, 8, 9, 4, 8, 9, 2, 2, 2, 2, 3, 0, 7, 9, 9, 9, 5, 6, 4, 3, 2, 4, 0, 9, 6, 4, 5, 9, 2, 7, 3, 1, 7, 2, 3, 5, 4, 3, 3, 5, 9, 1, 4, 0, 4, 8, 9, 1, 5, 1, 4, 5, 4, 7, 9, 5, 5, 1, 5, 0, 4, 9, 4, 9, 3, 4, 7, 6, 5, 9, 7, 2, 1, 8, 4, 4, 4, 2, 9, 6, 6, 4, 6, 8, 5, 6, 8, 1, 7, 1, 2, 2, 0, 4, 4, 1, 3, 2, 6, 3, 9, 0, 3, 2, 0, 7, 1, 2, 0, 6, 6, 1, 4, 6, 7, 4, 1, 5, 9, 8, 3, 9, 4, 6, 5, 4, 4, 3, 8, 5, 1, 3, 5, 9, 4, 5, 1, 6, 4, 5, 3, 8, 2, 6, 8, 6, 5, 7, 9, 5, 3, 2, 9, 2, 4, 9, 6, 2, 3, 5, 0, 7, 7, 7, 6, 5, 0, 5, 6, 9, 5, 6, 3, 1, 5, 1, 5, 2, 1, 9, 9, 9, 7, 2, 2, 3, 3, 1, 1, 2, 9, 9, 0, 2, 6, 8, 1, 3, 5, 9, 1, 7, 7, 3, 1, 7, 0, 2, 2, 0, 1, 4, 0, 2, 0, 0, 5, 3, 8, 7, 1, 7, 1, 2, 6, 0, 6, 0, 9, 7, 0, 6, 2, 8, 3, 8, 0, 2, 6, 2, 6, 5, 8, 3, 4, 1, 0, 2, 9, 9, 5, 6, 3, 6, 7, 6, 4, 6, 1, 9, 0, 6, 0, 7, 4, 4, 3, 8, 5, 7, 9, 3, 6, 0, 7, 4, 1, 9, 4, 4, 0, 5, 8, 3, 0, 1, 8, 2, 4, 5, 0, 7, 3, 2, 5, 3, 5, 1, 9, 3, 5, 0, 0, 3, 6, 0, 6, 9, 8, 5, 6, 5, 2, 8, 4, 2, 7, 2, 6, 6, 2, 5, 8, 2, 0, 4, 6, 8, 9, 9, 7, 4, 8, 3, 3, 3, 3, 6, 1, 0, 5, 6, 3, 9, 7, 9, 6, 0, 2, 3, 8, 6, 4, 3, 2, 5, 8, 7, 8, 9, 2, 4, 0, 6, 3, 2, 7, 6, 9, 8, 8, 3, 3, 5, 5, 6, 7, 3, 5, 0, 3, 8, 9, 5, 6, 7, 9, 0, 9, 5, 0, 2, 2, 0, 3, 5, 4, 9, 0, 0, 1, 6, 0, 3, 4, 2, 1, 6, 4, 3, 8, 1, 2, 3, 9, 3, 8, 2, 5, 6, 5, 6, 9, 8, 4, 0, 8, 7, 7, 5, 1, 9, 7, 5, 2, 7, 1, 0]\n",
      "[9, 6, 6, 2, 4, 9, 9, 3, 3, 4, 2, 8, 0, 4, 5, 8, 4, 3, 4, 6, 5, 0, 7, 8, 4, 8, 7, 7, 7, 1, 8, 8, 1, 6, 7, 6, 0, 3, 1, 2, 8, 2, 5, 2, 6, 0, 0, 5, 6, 3, 0, 8, 9, 2, 8, 0, 0, 5, 1, 8, 3, 0, 7, 3, 6, 8, 6, 5, 4, 3, 7, 7, 3, 9, 3, 5, 6, 7, 3, 1, 1, 4, 8, 9, 2, 9, 4, 6, 6, 3, 8, 3, 4, 4, 6, 0, 2, 4, 8, 0, 9, 2, 9, 7, 7, 9, 3, 5, 8, 7, 0, 8, 4, 3, 9, 6, 2, 2, 1, 4, 6, 8, 1, 8, 7, 1, 2, 2, 8, 1, 3, 9, 1, 1, 7, 9, 2, 5, 9, 2, 8, 1, 1, 8, 7, 7, 8, 6, 5, 7, 9, 4, 5, 5, 1, 9, 6, 5, 9, 9, 4, 1, 1, 8, 4, 3, 0, 2, 9, 7, 4, 4, 9, 5, 2, 3, 0, 2, 4, 9, 7, 6, 8, 1, 2, 4, 3, 0, 7, 2, 6, 7, 0, 6, 0, 1, 3, 4, 5, 2, 0, 0, 0, 4, 9, 2, 1, 5, 7, 3, 1, 0, 5, 9, 6, 3, 6, 3, 0, 4, 2, 8, 0, 5, 1, 7, 5, 2, 8, 2, 5, 0, 8, 8, 9, 4, 5, 6, 9, 6, 5, 3, 0, 8, 8, 2, 3, 7, 6, 5, 8, 7, 3, 3, 8, 4, 8, 3, 2, 6, 8, 3, 9, 4, 3, 4, 7, 1, 7, 9, 1, 4, 4, 3, 1, 4, 7, 0, 6, 5, 6, 3, 7, 0, 3, 2, 7, 9, 8, 0, 7, 7, 2, 6, 7, 0, 1, 8, 0, 6, 7, 7, 4, 5, 0, 1, 2, 2, 7, 3, 7, 1, 5, 6, 1, 7, 9, 7, 1, 8, 6, 7, 3, 2, 5, 7, 6, 3, 9, 3, 2, 4, 7, 7, 5, 0, 8, 4, 6, 6, 8, 4, 9, 5, 5, 0, 5, 4, 3, 3, 7, 5, 6, 9, 9, 7, 6, 9, 6, 3, 7, 5, 7, 1, 6, 6, 1, 7, 3, 0, 7, 8, 0, 5, 8, 0, 1, 0, 7, 7, 8, 0, 0, 5, 4, 1, 7, 3, 4, 5, 3, 5, 0, 4, 1, 1, 3, 4, 8, 0, 9, 1, 5, 2, 7, 3, 6, 8, 5, 2, 0, 6, 7, 6, 8, 5, 9, 4, 4, 0, 0, 2, 0, 1, 2, 4, 0, 4, 8, 5, 2, 3, 4, 1, 8, 4, 0, 5, 2, 5, 7, 8, 5, 6, 9, 4, 9, 2, 5, 5, 4, 3, 4, 5, 4, 0, 8, 1, 7, 2, 9, 8, 0, 3, 3, 1, 9, 7, 9, 5, 0, 7, 4, 1, 9, 2, 6, 5, 1, 4, 0, 3, 2, 2, 4, 8, 9, 0, 0, 1, 4, 8, 9, 1, 7, 3, 8, 9, 5, 0, 7, 5, 9, 4, 1, 7, 5, 6, 6, 6, 2, 9, 6, 6, 6, 9, 8, 3, 4, 1, 9, 8, 9, 1, 3, 3, 3, 2, 5, 6, 7, 2, 9, 8, 5, 4, 1, 3, 5, 0, 8, 6, 8, 9, 2, 1, 9, 4, 5, 6, 6, 0, 3, 3, 3, 4, 1, 9, 4, 9, 4, 4, 8, 8, 9, 4, 8, 9, 2, 2, 2, 2, 3, 0, 7, 9, 9, 9, 5, 6, 4, 3, 2, 4, 0, 9, 6, 4, 5, 9, 2, 7, 3, 1, 7, 2, 3, 5, 4, 3, 3, 5, 9, 1, 4, 0, 4, 8, 9, 1, 5, 1, 4, 5, 4, 7, 9, 5, 5, 1, 5, 0, 4, 9, 4, 9, 3, 4, 7, 6, 5, 9, 7, 2, 1, 8, 4, 4, 4, 2, 9, 6, 6, 4, 6, 8, 5, 6, 8, 1, 7, 1, 2, 2, 0, 4, 4, 1, 3, 2, 6, 3, 9, 0, 3, 2, 0, 7, 1, 2, 0, 6, 6, 1, 4, 6, 7, 4, 1, 5, 9, 8, 3, 9, 4, 6, 5, 4, 4, 3, 8, 5, 1, 3, 5, 9, 4, 5, 1, 6, 4, 5, 3, 8, 2, 6, 8, 6, 5, 7, 9, 5, 3, 2, 9, 2, 4, 9, 6, 2, 3, 5, 0, 7, 7, 7, 6, 5, 0, 5, 6, 9, 5, 6, 3, 1, 5, 1, 5, 2, 1, 9, 9, 9, 7, 2, 2, 3, 3, 1, 1, 2, 9, 9, 0, 2, 6, 8, 1, 3, 5, 9, 1, 7, 7, 3, 1, 7, 0, 2, 2, 0, 1, 4, 0, 2, 0, 0, 5, 3, 8, 7, 1, 7, 1, 2, 6, 0, 6, 0, 9, 7, 0, 6, 2, 8, 3, 8, 0, 2, 6, 2, 6, 5, 8, 3, 4, 1, 0, 2, 9, 9, 5, 6, 3, 6, 7, 6, 4, 6, 1, 9, 0, 6, 0, 7, 4, 4, 3, 8, 5, 7, 9, 3, 6, 0, 7, 4, 1, 9, 4, 4, 0, 5, 8, 3, 0, 1, 8, 2, 4, 5, 0, 7, 3, 2, 5, 3, 5, 1, 9, 3, 5, 0, 0, 3, 6, 0, 6, 9, 8, 5, 6, 5, 2, 8, 4, 2, 7, 2, 6, 6, 2, 5, 8, 2, 0, 4, 6, 8, 9, 9, 7, 4, 8, 3, 3, 3, 3, 6, 1, 0, 5, 6, 3, 9, 7, 9, 6, 0, 2, 3, 8, 6, 4, 3, 2, 5, 8, 7, 8, 9, 2, 4, 0, 6, 3, 2, 7, 6, 9, 8, 8, 3, 3, 5, 5, 6, 7, 3, 5, 0, 3, 8, 9, 5, 6, 7, 9, 0, 9, 5, 0, 2, 2, 0, 3, 5, 4, 9, 0, 0, 1, 6, 0, 3, 4, 2, 1, 6, 4, 3, 8, 1, 2, 3, 9, 3, 8, 2, 5, 6, 5, 6, 9, 8, 4, 0, 8, 7, 7, 5, 1, 9, 7, 5, 2, 7, 1, 0]\n",
      "[9, 6, 6, 2, 4, 9, 9, 3, 3, 4, 2, 8, 0, 4, 5, 8, 4, 3, 4, 6, 5, 0, 7, 8, 4, 8, 7, 7, 7, 1, 8, 8, 1, 6, 7, 6, 0, 3, 1, 2, 8, 2, 5, 2, 6, 0, 0, 5, 6, 3, 0, 8, 9, 2, 8, 0, 0, 5, 1, 8, 3, 0, 7, 3, 6, 8, 6, 5, 4, 3, 7, 7, 3, 9, 3, 5, 6, 7, 3, 1, 1, 4, 8, 9, 2, 9, 4, 6, 6, 3, 8, 3, 4, 4, 6, 0, 2, 4, 8, 0, 9, 2, 9, 7, 7, 9, 3, 5, 8, 7, 0, 8, 4, 3, 9, 6, 2, 2, 1, 4, 6, 8, 1, 8, 7, 1, 2, 2, 8, 1, 3, 9, 1, 1, 7, 9, 2, 5, 9, 2, 8, 1, 1, 8, 7, 7, 8, 6, 5, 7, 9, 4, 5, 5, 1, 9, 6, 5, 9, 9, 4, 1, 1, 8, 4, 3, 0, 2, 9, 7, 4, 4, 9, 5, 2, 3, 0, 2, 4, 9, 7, 6, 8, 1, 2, 4, 3, 0, 7, 2, 6, 7, 0, 6, 0, 1, 3, 4, 5, 2, 0, 0, 0, 4, 9, 2, 1, 5, 7, 3, 1, 0, 5, 9, 6, 3, 6, 3, 0, 4, 2, 8, 0, 5, 1, 7, 5, 2, 8, 2, 5, 0, 8, 8, 9, 4, 5, 6, 9, 6, 5, 3, 0, 8, 8, 2, 3, 7, 6, 5, 8, 7, 3, 3, 8, 4, 8, 3, 2, 6, 8, 3, 9, 4, 3, 4, 7, 1, 7, 9, 1, 4, 4, 3, 1, 4, 7, 0, 6, 5, 6, 3, 7, 0, 3, 2, 7, 9, 8, 0, 7, 7, 2, 6, 7, 0, 1, 8, 0, 6, 7, 7, 4, 5, 0, 1, 2, 2, 7, 3, 7, 1, 5, 6, 1, 7, 9, 7, 1, 8, 6, 7, 3, 2, 5, 7, 6, 3, 9, 3, 2, 4, 7, 7, 5, 0, 8, 4, 6, 6, 8, 4, 9, 5, 5, 0, 5, 4, 3, 3, 7, 5, 6, 9, 9, 7, 6, 9, 6, 3, 7, 5, 7, 1, 6, 6, 1, 7, 3, 0, 7, 8, 0, 5, 8, 0, 1, 0, 7, 7, 8, 0, 0, 5, 4, 1, 7, 3, 4, 5, 3, 5, 0, 4, 1, 1, 3, 4, 8, 0, 9, 1, 5, 2, 7, 3, 6, 8, 5, 2, 0, 6, 7, 6, 8, 5, 9, 4, 4, 0, 0, 2, 0, 1, 2, 4, 0, 4, 8, 5, 2, 3, 4, 1, 8, 4, 0, 5, 2, 5, 7, 8, 5, 6, 9, 4, 9, 2, 5, 5, 4, 3, 4, 5, 4, 0, 8, 1, 7, 2, 9, 8, 0, 3, 3, 1, 9, 7, 9, 5, 0, 7, 4, 1, 9, 2, 6, 5, 1, 4, 0, 3, 2, 2, 4, 8, 9, 0, 0, 1, 4, 8, 9, 1, 7, 3, 8, 9, 5, 0, 7, 5, 9, 4, 1, 7, 5, 6, 6, 6, 2, 9, 6, 6, 6, 9, 8, 3, 4, 1, 9, 8, 9, 1, 3, 3, 3, 2, 5, 6, 7, 2, 9, 8, 5, 4, 1, 3, 5, 0, 8, 6, 8, 9, 2, 1, 9, 4, 5, 6, 6, 0, 3, 3, 3, 4, 1, 9, 4, 9, 4, 4, 8, 8, 9, 4, 8, 9, 2, 2, 2, 2, 3, 0, 7, 9, 9, 9, 5, 6, 4, 3, 2, 4, 0, 9, 6, 4, 5, 9, 2, 7, 3, 1, 7, 2, 3, 5, 4, 3, 3, 5, 9, 1, 4, 0, 4, 8, 9, 1, 5, 1, 4, 5, 4, 7, 9, 5, 5, 1, 5, 0, 4, 9, 4, 9, 3, 4, 7, 6, 5, 9, 7, 2, 1, 8, 4, 4, 4, 2, 9, 6, 6, 4, 6, 8, 5, 6, 8, 1, 7, 1, 2, 2, 0, 4, 4, 1, 3, 2, 6, 3, 9, 0, 3, 2, 0, 7, 1, 2, 0, 6, 6, 1, 4, 6, 7, 4, 1, 5, 9, 8, 3, 9, 4, 6, 5, 4, 4, 3, 8, 5, 1, 3, 5, 9, 4, 5, 1, 6, 4, 5, 3, 8, 2, 6, 8, 6, 5, 7, 9, 5, 3, 2, 9, 2, 4, 9, 6, 2, 3, 5, 0, 7, 7, 7, 6, 5, 0, 5, 6, 9, 5, 6, 3, 1, 5, 1, 5, 2, 1, 9, 9, 9, 7, 2, 2, 3, 3, 1, 1, 2, 9, 9, 0, 2, 6, 8, 1, 3, 5, 9, 1, 7, 7, 3, 1, 7, 0, 2, 2, 0, 1, 4, 0, 2, 0, 0, 5, 3, 8, 7, 1, 7, 1, 2, 6, 0, 6, 0, 9, 7, 0, 6, 2, 8, 3, 8, 0, 2, 6, 2, 6, 5, 8, 3, 4, 1, 0, 2, 9, 9, 5, 6, 3, 6, 7, 6, 4, 6, 1, 9, 0, 6, 0, 7, 4, 4, 3, 8, 5, 7, 9, 3, 6, 0, 7, 4, 1, 9, 4, 4, 0, 5, 8, 3, 0, 1, 8, 2, 4, 5, 0, 7, 3, 2, 5, 3, 5, 1, 9, 3, 5, 0, 0, 3, 6, 0, 6, 9, 8, 5, 6, 5, 2, 8, 4, 2, 7, 2, 6, 6, 2, 5, 8, 2, 0, 4, 6, 8, 9, 9, 7, 4, 8, 3, 3, 3, 3, 6, 1, 0, 5, 6, 3, 9, 7, 9, 6, 0, 2, 3, 8, 6, 4, 3, 2, 5, 8, 7, 8, 9, 2, 4, 0, 6, 3, 2, 7, 6, 9, 8, 8, 3, 3, 5, 5, 6, 7, 3, 5, 0, 3, 8, 9, 5, 6, 7, 9, 0, 9, 5, 0, 2, 2, 0, 3, 5, 4, 9, 0, 0, 1, 6, 0, 3, 4, 2, 1, 6, 4, 3, 8, 1, 2, 3, 9, 3, 8, 2, 5, 6, 5, 6, 9, 8, 4, 0, 8, 7, 7, 5, 1, 9, 7, 5, 2, 7, 1, 0]\n",
      "[9, 6, 6, 2, 4, 9, 9, 3, 3, 4, 2, 8, 0, 4, 5, 8, 4, 3, 4, 6, 5, 0, 7, 8, 4, 8, 7, 7, 7, 1, 8, 8, 1, 6, 7, 6, 0, 3, 1, 2, 8, 2, 5, 2, 6, 0, 0, 5, 6, 3, 0, 8, 9, 2, 8, 0, 0, 5, 1, 8, 3, 0, 7, 3, 6, 8, 6, 5, 4, 3, 7, 7, 3, 9, 3, 5, 6, 7, 3, 1, 1, 4, 8, 9, 2, 9, 4, 6, 6, 3, 8, 3, 4, 4, 6, 0, 2, 4, 8, 0, 9, 2, 9, 7, 7, 9, 3, 5, 8, 7, 0, 8, 4, 3, 9, 6, 2, 2, 1, 4, 6, 8, 1, 8, 7, 1, 2, 2, 8, 1, 3, 9, 1, 1, 7, 9, 2, 5, 9, 2, 8, 1, 1, 8, 7, 7, 8, 6, 5, 7, 9, 4, 5, 5, 1, 9, 6, 5, 9, 9, 4, 1, 1, 8, 4, 3, 0, 2, 9, 7, 4, 4, 9, 5, 2, 3, 0, 2, 4, 9, 7, 6, 8, 1, 2, 4, 3, 0, 7, 2, 6, 7, 0, 6, 0, 1, 3, 4, 5, 2, 0, 0, 0, 4, 9, 2, 1, 5, 7, 3, 1, 0, 5, 9, 6, 3, 6, 3, 0, 4, 2, 8, 0, 5, 1, 7, 5, 2, 8, 2, 5, 0, 8, 8, 9, 4, 5, 6, 9, 6, 5, 3, 0, 8, 8, 2, 3, 7, 6, 5, 8, 7, 3, 3, 8, 4, 8, 3, 2, 6, 8, 3, 9, 4, 3, 4, 7, 1, 7, 9, 1, 4, 4, 3, 1, 4, 7, 0, 6, 5, 6, 3, 7, 0, 3, 2, 7, 9, 8, 0, 7, 7, 2, 6, 7, 0, 1, 8, 0, 6, 7, 7, 4, 5, 0, 1, 2, 2, 7, 3, 7, 1, 5, 6, 1, 7, 9, 7, 1, 8, 6, 7, 3, 2, 5, 7, 6, 3, 9, 3, 2, 4, 7, 7, 5, 0, 8, 4, 6, 6, 8, 4, 9, 5, 5, 0, 5, 4, 3, 3, 7, 5, 6, 9, 9, 7, 6, 9, 6, 3, 7, 5, 7, 1, 6, 6, 1, 7, 3, 0, 7, 8, 0, 5, 8, 0, 1, 0, 7, 7, 8, 0, 0, 5, 4, 1, 7, 3, 4, 5, 3, 5, 0, 4, 1, 1, 3, 4, 8, 0, 9, 1, 5, 2, 7, 3, 6, 8, 5, 2, 0, 6, 7, 6, 8, 5, 9, 4, 4, 0, 0, 2, 0, 1, 2, 4, 0, 4, 8, 5, 2, 3, 4, 1, 8, 4, 0, 5, 2, 5, 7, 8, 5, 6, 9, 4, 9, 2, 5, 5, 4, 3, 4, 5, 4, 0, 8, 1, 7, 2, 9, 8, 0, 3, 3, 1, 9, 7, 9, 5, 0, 7, 4, 1, 9, 2, 6, 5, 1, 4, 0, 3, 2, 2, 4, 8, 9, 0, 0, 1, 4, 8, 9, 1, 7, 3, 8, 9, 5, 0, 7, 5, 9, 4, 1, 7, 5, 6, 6, 6, 2, 9, 6, 6, 6, 9, 8, 3, 4, 1, 9, 8, 9, 1, 3, 3, 3, 2, 5, 6, 7, 2, 9, 8, 5, 4, 1, 3, 5, 0, 8, 6, 8, 9, 2, 1, 9, 4, 5, 6, 6, 0, 3, 3, 3, 4, 1, 9, 4, 9, 4, 4, 8, 8, 9, 4, 8, 9, 2, 2, 2, 2, 3, 0, 7, 9, 9, 9, 5, 6, 4, 3, 2, 4, 0, 9, 6, 4, 5, 9, 2, 7, 3, 1, 7, 2, 3, 5, 4, 3, 3, 5, 9, 1, 4, 0, 4, 8, 9, 1, 5, 1, 4, 5, 4, 7, 9, 5, 5, 1, 5, 0, 4, 9, 4, 9, 3, 4, 7, 6, 5, 9, 7, 2, 1, 8, 4, 4, 4, 2, 9, 6, 6, 4, 6, 8, 5, 6, 8, 1, 7, 1, 2, 2, 0, 4, 4, 1, 3, 2, 6, 3, 9, 0, 3, 2, 0, 7, 1, 2, 0, 6, 6, 1, 4, 6, 7, 4, 1, 5, 9, 8, 3, 9, 4, 6, 5, 4, 4, 3, 8, 5, 1, 3, 5, 9, 4, 5, 1, 6, 4, 5, 3, 8, 2, 6, 8, 6, 5, 7, 9, 5, 3, 2, 9, 2, 4, 9, 6, 2, 3, 5, 0, 7, 7, 7, 6, 5, 0, 5, 6, 9, 5, 6, 3, 1, 5, 1, 5, 2, 1, 9, 9, 9, 7, 2, 2, 3, 3, 1, 1, 2, 9, 9, 0, 2, 6, 8, 1, 3, 5, 9, 1, 7, 7, 3, 1, 7, 0, 2, 2, 0, 1, 4, 0, 2, 0, 0, 5, 3, 8, 7, 1, 7, 1, 2, 6, 0, 6, 0, 9, 7, 0, 6, 2, 8, 3, 8, 0, 2, 6, 2, 6, 5, 8, 3, 4, 1, 0, 2, 9, 9, 5, 6, 3, 6, 7, 6, 4, 6, 1, 9, 0, 6, 0, 7, 4, 4, 3, 8, 5, 7, 9, 3, 6, 0, 7, 4, 1, 9, 4, 4, 0, 5, 8, 3, 0, 1, 8, 2, 4, 5, 0, 7, 3, 2, 5, 3, 5, 1, 9, 3, 5, 0, 0, 3, 6, 0, 6, 9, 8, 5, 6, 5, 2, 8, 4, 2, 7, 2, 6, 6, 2, 5, 8, 2, 0, 4, 6, 8, 9, 9, 7, 4, 8, 3, 3, 3, 3, 6, 1, 0, 5, 6, 3, 9, 7, 9, 6, 0, 2, 3, 8, 6, 4, 3, 2, 5, 8, 7, 8, 9, 2, 4, 0, 6, 3, 2, 7, 6, 9, 8, 8, 3, 3, 5, 5, 6, 7, 3, 5, 0, 3, 8, 9, 5, 6, 7, 9, 0, 9, 5, 0, 2, 2, 0, 3, 5, 4, 9, 0, 0, 1, 6, 0, 3, 4, 2, 1, 6, 4, 3, 8, 1, 2, 3, 9, 3, 8, 2, 5, 6, 5, 6, 9, 8, 4, 0, 8, 7, 7, 5, 1, 9, 7, 5, 2, 7, 1, 0]\n",
      "[9, 6, 6, 2, 4, 9, 9, 3, 3, 4, 2, 8, 0, 4, 5, 8, 4, 3, 4, 6, 5, 0, 7, 8, 4, 8, 7, 7, 7, 1, 8, 8, 1, 6, 7, 6, 0, 3, 1, 2, 8, 2, 5, 2, 6, 0, 0, 5, 6, 3, 0, 8, 9, 2, 8, 0, 0, 5, 1, 8, 3, 0, 7, 3, 6, 8, 6, 5, 4, 3, 7, 7, 3, 9, 3, 5, 6, 7, 3, 1, 1, 4, 8, 9, 2, 9, 4, 6, 6, 3, 8, 3, 4, 4, 6, 0, 2, 4, 8, 0, 9, 2, 9, 7, 7, 9, 3, 5, 8, 7, 0, 8, 4, 3, 9, 6, 2, 2, 1, 4, 6, 8, 1, 8, 7, 1, 2, 2, 8, 1, 3, 9, 1, 1, 7, 9, 2, 5, 9, 2, 8, 1, 1, 8, 7, 7, 8, 6, 5, 7, 9, 4, 5, 5, 1, 9, 6, 5, 9, 9, 4, 1, 1, 8, 4, 3, 0, 2, 9, 7, 4, 4, 9, 5, 2, 3, 0, 2, 4, 9, 7, 6, 8, 1, 2, 4, 3, 0, 7, 2, 6, 7, 0, 6, 0, 1, 3, 4, 5, 2, 0, 0, 0, 4, 9, 2, 1, 5, 7, 3, 1, 0, 5, 9, 6, 3, 6, 3, 0, 4, 2, 8, 0, 5, 1, 7, 5, 2, 8, 2, 5, 0, 8, 8, 9, 4, 5, 6, 9, 6, 5, 3, 0, 8, 8, 2, 3, 7, 6, 5, 8, 7, 3, 3, 8, 4, 8, 3, 2, 6, 8, 3, 9, 4, 3, 4, 7, 1, 7, 9, 1, 4, 4, 3, 1, 4, 7, 0, 6, 5, 6, 3, 7, 0, 3, 2, 7, 9, 8, 0, 7, 7, 2, 6, 7, 0, 1, 8, 0, 6, 7, 7, 4, 5, 0, 1, 2, 2, 7, 3, 7, 1, 5, 6, 1, 7, 9, 7, 1, 8, 6, 7, 3, 2, 5, 7, 6, 3, 9, 3, 2, 4, 7, 7, 5, 0, 8, 4, 6, 6, 8, 4, 9, 5, 5, 0, 5, 4, 3, 3, 7, 5, 6, 9, 9, 7, 6, 9, 6, 3, 7, 5, 7, 1, 6, 6, 1, 7, 3, 0, 7, 8, 0, 5, 8, 0, 1, 0, 7, 7, 8, 0, 0, 5, 4, 1, 7, 3, 4, 5, 3, 5, 0, 4, 1, 1, 3, 4, 8, 0, 9, 1, 5, 2, 7, 3, 6, 8, 5, 2, 0, 6, 7, 6, 8, 5, 9, 4, 4, 0, 0, 2, 0, 1, 2, 4, 0, 4, 8, 5, 2, 3, 4, 1, 8, 4, 0, 5, 2, 5, 7, 8, 5, 6, 9, 4, 9, 2, 5, 5, 4, 3, 4, 5, 4, 0, 8, 1, 7, 2, 9, 8, 0, 3, 3, 1, 9, 7, 9, 5, 0, 7, 4, 1, 9, 2, 6, 5, 1, 4, 0, 3, 2, 2, 4, 8, 9, 0, 0, 1, 4, 8, 9, 1, 7, 3, 8, 9, 5, 0, 7, 5, 9, 4, 1, 7, 5, 6, 6, 6, 2, 9, 6, 6, 6, 9, 8, 3, 4, 1, 9, 8, 9, 1, 3, 3, 3, 2, 5, 6, 7, 2, 9, 8, 5, 4, 1, 3, 5, 0, 8, 6, 8, 9, 2, 1, 9, 4, 5, 6, 6, 0, 3, 3, 3, 4, 1, 9, 4, 9, 4, 4, 8, 8, 9, 4, 8, 9, 2, 2, 2, 2, 3, 0, 7, 9, 9, 9, 5, 6, 4, 3, 2, 4, 0, 9, 6, 4, 5, 9, 2, 7, 3, 1, 7, 2, 3, 5, 4, 3, 3, 5, 9, 1, 4, 0, 4, 8, 9, 1, 5, 1, 4, 5, 4, 7, 9, 5, 5, 1, 5, 0, 4, 9, 4, 9, 3, 4, 7, 6, 5, 9, 7, 2, 1, 8, 4, 4, 4, 2, 9, 6, 6, 4, 6, 8, 5, 6, 8, 1, 7, 1, 2, 2, 0, 4, 4, 1, 3, 2, 6, 3, 9, 0, 3, 2, 0, 7, 1, 2, 0, 6, 6, 1, 4, 6, 7, 4, 1, 5, 9, 8, 3, 9, 4, 6, 5, 4, 4, 3, 8, 5, 1, 3, 5, 9, 4, 5, 1, 6, 4, 5, 3, 8, 2, 6, 8, 6, 5, 7, 9, 5, 3, 2, 9, 2, 4, 9, 6, 2, 3, 5, 0, 7, 7, 7, 6, 5, 0, 5, 6, 9, 5, 6, 3, 1, 5, 1, 5, 2, 1, 9, 9, 9, 7, 2, 2, 3, 3, 1, 1, 2, 9, 9, 0, 2, 6, 8, 1, 3, 5, 9, 1, 7, 7, 3, 1, 7, 0, 2, 2, 0, 1, 4, 0, 2, 0, 0, 5, 3, 8, 7, 1, 7, 1, 2, 6, 0, 6, 0, 9, 7, 0, 6, 2, 8, 3, 8, 0, 2, 6, 2, 6, 5, 8, 3, 4, 1, 0, 2, 9, 9, 5, 6, 3, 6, 7, 6, 4, 6, 1, 9, 0, 6, 0, 7, 4, 4, 3, 8, 5, 7, 9, 3, 6, 0, 7, 4, 1, 9, 4, 4, 0, 5, 8, 3, 0, 1, 8, 2, 4, 5, 0, 7, 3, 2, 5, 3, 5, 1, 9, 3, 5, 0, 0, 3, 6, 0, 6, 9, 8, 5, 6, 5, 2, 8, 4, 2, 7, 2, 6, 6, 2, 5, 8, 2, 0, 4, 6, 8, 9, 9, 7, 4, 8, 3, 3, 3, 3, 6, 1, 0, 5, 6, 3, 9, 7, 9, 6, 0, 2, 3, 8, 6, 4, 3, 2, 5, 8, 7, 8, 9, 2, 4, 0, 6, 3, 2, 7, 6, 9, 8, 8, 3, 3, 5, 5, 6, 7, 3, 5, 0, 3, 8, 9, 5, 6, 7, 9, 0, 9, 5, 0, 2, 2, 0, 3, 5, 4, 9, 0, 0, 1, 6, 0, 3, 4, 2, 1, 6, 4, 3, 8, 1, 2, 3, 9, 3, 8, 2, 5, 6, 5, 6, 9, 8, 4, 0, 8, 7, 7, 5, 1, 9, 7, 5, 2, 7, 1, 0]\n",
      "[9, 6, 6, 2, 4, 9, 9, 3, 3, 4, 2, 8, 0, 4, 5, 8, 4, 3, 4, 6, 5, 0, 7, 8, 4, 8, 7, 7, 7, 1, 8, 8, 1, 6, 7, 6, 0, 3, 1, 2, 8, 2, 5, 2, 6, 0, 0, 5, 6, 3, 0, 8, 9, 2, 8, 0, 0, 5, 1, 8, 3, 0, 7, 3, 6, 8, 6, 5, 4, 3, 7, 7, 3, 9, 3, 5, 6, 7, 3, 1, 1, 4, 8, 9, 2, 9, 4, 6, 6, 3, 8, 3, 4, 4, 6, 0, 2, 4, 8, 0, 9, 2, 9, 7, 7, 9, 3, 5, 8, 7, 0, 8, 4, 3, 9, 6, 2, 2, 1, 4, 6, 8, 1, 8, 7, 1, 2, 2, 8, 1, 3, 9, 1, 1, 7, 9, 2, 5, 9, 2, 8, 1, 1, 8, 7, 7, 8, 6, 5, 7, 9, 4, 5, 5, 1, 9, 6, 5, 9, 9, 4, 1, 1, 8, 4, 3, 0, 2, 9, 7, 4, 4, 9, 5, 2, 3, 0, 2, 4, 9, 7, 6, 8, 1, 2, 4, 3, 0, 7, 2, 6, 7, 0, 6, 0, 1, 3, 4, 5, 2, 0, 0, 0, 4, 9, 2, 1, 5, 7, 3, 1, 0, 5, 9, 6, 3, 6, 3, 0, 4, 2, 8, 0, 5, 1, 7, 5, 2, 8, 2, 5, 0, 8, 8, 9, 4, 5, 6, 9, 6, 5, 3, 0, 8, 8, 2, 3, 7, 6, 5, 8, 7, 3, 3, 8, 4, 8, 3, 2, 6, 8, 3, 9, 4, 3, 4, 7, 1, 7, 9, 1, 4, 4, 3, 1, 4, 7, 0, 6, 5, 6, 3, 7, 0, 3, 2, 7, 9, 8, 0, 7, 7, 2, 6, 7, 0, 1, 8, 0, 6, 7, 7, 4, 5, 0, 1, 2, 2, 7, 3, 7, 1, 5, 6, 1, 7, 9, 7, 1, 8, 6, 7, 3, 2, 5, 7, 6, 3, 9, 3, 2, 4, 7, 7, 5, 0, 8, 4, 6, 6, 8, 4, 9, 5, 5, 0, 5, 4, 3, 3, 7, 5, 6, 9, 9, 7, 6, 9, 6, 3, 7, 5, 7, 1, 6, 6, 1, 7, 3, 0, 7, 8, 0, 5, 8, 0, 1, 0, 7, 7, 8, 0, 0, 5, 4, 1, 7, 3, 4, 5, 3, 5, 0, 4, 1, 1, 3, 4, 8, 0, 9, 1, 5, 2, 7, 3, 6, 8, 5, 2, 0, 6, 7, 6, 8, 5, 9, 4, 4, 0, 0, 2, 0, 1, 2, 4, 0, 4, 8, 5, 2, 3, 4, 1, 8, 4, 0, 5, 2, 5, 7, 8, 5, 6, 9, 4, 9, 2, 5, 5, 4, 3, 4, 5, 4, 0, 8, 1, 7, 2, 9, 8, 0, 3, 3, 1, 9, 7, 9, 5, 0, 7, 4, 1, 9, 2, 6, 5, 1, 4, 0, 3, 2, 2, 4, 8, 9, 0, 0, 1, 4, 8, 9, 1, 7, 3, 8, 9, 5, 0, 7, 5, 9, 4, 1, 7, 5, 6, 6, 6, 2, 9, 6, 6, 6, 9, 8, 3, 4, 1, 9, 8, 9, 1, 3, 3, 3, 2, 5, 6, 7, 2, 9, 8, 5, 4, 1, 3, 5, 0, 8, 6, 8, 9, 2, 1, 9, 4, 5, 6, 6, 0, 3, 3, 3, 4, 1, 9, 4, 9, 4, 4, 8, 8, 9, 4, 8, 9, 2, 2, 2, 2, 3, 0, 7, 9, 9, 9, 5, 6, 4, 3, 2, 4, 0, 9, 6, 4, 5, 9, 2, 7, 3, 1, 7, 2, 3, 5, 4, 3, 3, 5, 9, 1, 4, 0, 4, 8, 9, 1, 5, 1, 4, 5, 4, 7, 9, 5, 5, 1, 5, 0, 4, 9, 4, 9, 3, 4, 7, 6, 5, 9, 7, 2, 1, 8, 4, 4, 4, 2, 9, 6, 6, 4, 6, 8, 5, 6, 8, 1, 7, 1, 2, 2, 0, 4, 4, 1, 3, 2, 6, 3, 9, 0, 3, 2, 0, 7, 1, 2, 0, 6, 6, 1, 4, 6, 7, 4, 1, 5, 9, 8, 3, 9, 4, 6, 5, 4, 4, 3, 8, 5, 1, 3, 5, 9, 4, 5, 1, 6, 4, 5, 3, 8, 2, 6, 8, 6, 5, 7, 9, 5, 3, 2, 9, 2, 4, 9, 6, 2, 3, 5, 0, 7, 7, 7, 6, 5, 0, 5, 6, 9, 5, 6, 3, 1, 5, 1, 5, 2, 1, 9, 9, 9, 7, 2, 2, 3, 3, 1, 1, 2, 9, 9, 0, 2, 6, 8, 1, 3, 5, 9, 1, 7, 7, 3, 1, 7, 0, 2, 2, 0, 1, 4, 0, 2, 0, 0, 5, 3, 8, 7, 1, 7, 1, 2, 6, 0, 6, 0, 9, 7, 0, 6, 2, 8, 3, 8, 0, 2, 6, 2, 6, 5, 8, 3, 4, 1, 0, 2, 9, 9, 5, 6, 3, 6, 7, 6, 4, 6, 1, 9, 0, 6, 0, 7, 4, 4, 3, 8, 5, 7, 9, 3, 6, 0, 7, 4, 1, 9, 4, 4, 0, 5, 8, 3, 0, 1, 8, 2, 4, 5, 0, 7, 3, 2, 5, 3, 5, 1, 9, 3, 5, 0, 0, 3, 6, 0, 6, 9, 8, 5, 6, 5, 2, 8, 4, 2, 7, 2, 6, 6, 2, 5, 8, 2, 0, 4, 6, 8, 9, 9, 7, 4, 8, 3, 3, 3, 3, 6, 1, 0, 5, 6, 3, 9, 7, 9, 6, 0, 2, 3, 8, 6, 4, 3, 2, 5, 8, 7, 8, 9, 2, 4, 0, 6, 3, 2, 7, 6, 9, 8, 8, 3, 3, 5, 5, 6, 7, 3, 5, 0, 3, 8, 9, 5, 6, 7, 9, 0, 9, 5, 0, 2, 2, 0, 3, 5, 4, 9, 0, 0, 1, 6, 0, 3, 4, 2, 1, 6, 4, 3, 8, 1, 2, 3, 9, 3, 8, 2, 5, 6, 5, 6, 9, 8, 4, 0, 8, 7, 7, 5, 1, 9, 7, 5, 2, 7, 1, 0]\n",
      "[9, 6, 6, 2, 4, 9, 9, 3, 3, 4, 2, 8, 0, 4, 5, 8, 4, 3, 4, 6, 5, 0, 7, 8, 4, 8, 7, 7, 7, 1, 8, 8, 1, 6, 7, 6, 0, 3, 1, 2, 8, 2, 5, 2, 6, 0, 0, 5, 6, 3, 0, 8, 9, 2, 8, 0, 0, 5, 1, 8, 3, 0, 7, 3, 6, 8, 6, 5, 4, 3, 7, 7, 3, 9, 3, 5, 6, 7, 3, 1, 1, 4, 8, 9, 2, 9, 4, 6, 6, 3, 8, 3, 4, 4, 6, 0, 2, 4, 8, 0, 9, 2, 9, 7, 7, 9, 3, 5, 8, 7, 0, 8, 4, 3, 9, 6, 2, 2, 1, 4, 6, 8, 1, 8, 7, 1, 2, 2, 8, 1, 3, 9, 1, 1, 7, 9, 2, 5, 9, 2, 8, 1, 1, 8, 7, 7, 8, 6, 5, 7, 9, 4, 5, 5, 1, 9, 6, 5, 9, 9, 4, 1, 1, 8, 4, 3, 0, 2, 9, 7, 4, 4, 9, 5, 2, 3, 0, 2, 4, 9, 7, 6, 8, 1, 2, 4, 3, 0, 7, 2, 6, 7, 0, 6, 0, 1, 3, 4, 5, 2, 0, 0, 0, 4, 9, 2, 1, 5, 7, 3, 1, 0, 5, 9, 6, 3, 6, 3, 0, 4, 2, 8, 0, 5, 1, 7, 5, 2, 8, 2, 5, 0, 8, 8, 9, 4, 5, 6, 9, 6, 5, 3, 0, 8, 8, 2, 3, 7, 6, 5, 8, 7, 3, 3, 8, 4, 8, 3, 2, 6, 8, 3, 9, 4, 3, 4, 7, 1, 7, 9, 1, 4, 4, 3, 1, 4, 7, 0, 6, 5, 6, 3, 7, 0, 3, 2, 7, 9, 8, 0, 7, 7, 2, 6, 7, 0, 1, 8, 0, 6, 7, 7, 4, 5, 0, 1, 2, 2, 7, 3, 7, 1, 5, 6, 1, 7, 9, 7, 1, 8, 6, 7, 3, 2, 5, 7, 6, 3, 9, 3, 2, 4, 7, 7, 5, 0, 8, 4, 6, 6, 8, 4, 9, 5, 5, 0, 5, 4, 3, 3, 7, 5, 6, 9, 9, 7, 6, 9, 6, 3, 7, 5, 7, 1, 6, 6, 1, 7, 3, 0, 7, 8, 0, 5, 8, 0, 1, 0, 7, 7, 8, 0, 0, 5, 4, 1, 7, 3, 4, 5, 3, 5, 0, 4, 1, 1, 3, 4, 8, 0, 9, 1, 5, 2, 7, 3, 6, 8, 5, 2, 0, 6, 7, 6, 8, 5, 9, 4, 4, 0, 0, 2, 0, 1, 2, 4, 0, 4, 8, 5, 2, 3, 4, 1, 8, 4, 0, 5, 2, 5, 7, 8, 5, 6, 9, 4, 9, 2, 5, 5, 4, 3, 4, 5, 4, 0, 8, 1, 7, 2, 9, 8, 0, 3, 3, 1, 9, 7, 9, 5, 0, 7, 4, 1, 9, 2, 6, 5, 1, 4, 0, 3, 2, 2, 4, 8, 9, 0, 0, 1, 4, 8, 9, 1, 7, 3, 8, 9, 5, 0, 7, 5, 9, 4, 1, 7, 5, 6, 6, 6, 2, 9, 6, 6, 6, 9, 8, 3, 4, 1, 9, 8, 9, 1, 3, 3, 3, 2, 5, 6, 7, 2, 9, 8, 5, 4, 1, 3, 5, 0, 8, 6, 8, 9, 2, 1, 9, 4, 5, 6, 6, 0, 3, 3, 3, 4, 1, 9, 4, 9, 4, 4, 8, 8, 9, 4, 8, 9, 2, 2, 2, 2, 3, 0, 7, 9, 9, 9, 5, 6, 4, 3, 2, 4, 0, 9, 6, 4, 5, 9, 2, 7, 3, 1, 7, 2, 3, 5, 4, 3, 3, 5, 9, 1, 4, 0, 4, 8, 9, 1, 5, 1, 4, 5, 4, 7, 9, 5, 5, 1, 5, 0, 4, 9, 4, 9, 3, 4, 7, 6, 5, 9, 7, 2, 1, 8, 4, 4, 4, 2, 9, 6, 6, 4, 6, 8, 5, 6, 8, 1, 7, 1, 2, 2, 0, 4, 4, 1, 3, 2, 6, 3, 9, 0, 3, 2, 0, 7, 1, 2, 0, 6, 6, 1, 4, 6, 7, 4, 1, 5, 9, 8, 3, 9, 4, 6, 5, 4, 4, 3, 8, 5, 1, 3, 5, 9, 4, 5, 1, 6, 4, 5, 3, 8, 2, 6, 8, 6, 5, 7, 9, 5, 3, 2, 9, 2, 4, 9, 6, 2, 3, 5, 0, 7, 7, 7, 6, 5, 0, 5, 6, 9, 5, 6, 3, 1, 5, 1, 5, 2, 1, 9, 9, 9, 7, 2, 2, 3, 3, 1, 1, 2, 9, 9, 0, 2, 6, 8, 1, 3, 5, 9, 1, 7, 7, 3, 1, 7, 0, 2, 2, 0, 1, 4, 0, 2, 0, 0, 5, 3, 8, 7, 1, 7, 1, 2, 6, 0, 6, 0, 9, 7, 0, 6, 2, 8, 3, 8, 0, 2, 6, 2, 6, 5, 8, 3, 4, 1, 0, 2, 9, 9, 5, 6, 3, 6, 7, 6, 4, 6, 1, 9, 0, 6, 0, 7, 4, 4, 3, 8, 5, 7, 9, 3, 6, 0, 7, 4, 1, 9, 4, 4, 0, 5, 8, 3, 0, 1, 8, 2, 4, 5, 0, 7, 3, 2, 5, 3, 5, 1, 9, 3, 5, 0, 0, 3, 6, 0, 6, 9, 8, 5, 6, 5, 2, 8, 4, 2, 7, 2, 6, 6, 2, 5, 8, 2, 0, 4, 6, 8, 9, 9, 7, 4, 8, 3, 3, 3, 3, 6, 1, 0, 5, 6, 3, 9, 7, 9, 6, 0, 2, 3, 8, 6, 4, 3, 2, 5, 8, 7, 8, 9, 2, 4, 0, 6, 3, 2, 7, 6, 9, 8, 8, 3, 3, 5, 5, 6, 7, 3, 5, 0, 3, 8, 9, 5, 6, 7, 9, 0, 9, 5, 0, 2, 2, 0, 3, 5, 4, 9, 0, 0, 1, 6, 0, 3, 4, 2, 1, 6, 4, 3, 8, 1, 2, 3, 9, 3, 8, 2, 5, 6, 5, 6, 9, 8, 4, 0, 8, 7, 7, 5, 1, 9, 7, 5, 2, 7, 1, 0]\n",
      "[9, 6, 6, 2, 4, 9, 9, 3, 3, 4, 2, 8, 0, 4, 5, 8, 4, 3, 4, 6, 5, 0, 7, 8, 4, 8, 7, 7, 7, 1, 8, 8, 1, 6, 7, 6, 0, 3, 1, 2, 8, 2, 5, 2, 6, 0, 0, 5, 6, 3, 0, 8, 9, 2, 8, 0, 0, 5, 1, 8, 3, 0, 7, 3, 6, 8, 6, 5, 4, 3, 7, 7, 3, 9, 3, 5, 6, 7, 3, 1, 1, 4, 8, 9, 2, 9, 4, 6, 6, 3, 8, 3, 4, 4, 6, 0, 2, 4, 8, 0, 9, 2, 9, 7, 7, 9, 3, 5, 8, 7, 0, 8, 4, 3, 9, 6, 2, 2, 1, 4, 6, 8, 1, 8, 7, 1, 2, 2, 8, 1, 3, 9, 1, 1, 7, 9, 2, 5, 9, 2, 8, 1, 1, 8, 7, 7, 8, 6, 5, 7, 9, 4, 5, 5, 1, 9, 6, 5, 9, 9, 4, 1, 1, 8, 4, 3, 0, 2, 9, 7, 4, 4, 9, 5, 2, 3, 0, 2, 4, 9, 7, 6, 8, 1, 2, 4, 3, 0, 7, 2, 6, 7, 0, 6, 0, 1, 3, 4, 5, 2, 0, 0, 0, 4, 9, 2, 1, 5, 7, 3, 1, 0, 5, 9, 6, 3, 6, 3, 0, 4, 2, 8, 0, 5, 1, 7, 5, 2, 8, 2, 5, 0, 8, 8, 9, 4, 5, 6, 9, 6, 5, 3, 0, 8, 8, 2, 3, 7, 6, 5, 8, 7, 3, 3, 8, 4, 8, 3, 2, 6, 8, 3, 9, 4, 3, 4, 7, 1, 7, 9, 1, 4, 4, 3, 1, 4, 7, 0, 6, 5, 6, 3, 7, 0, 3, 2, 7, 9, 8, 0, 7, 7, 2, 6, 7, 0, 1, 8, 0, 6, 7, 7, 4, 5, 0, 1, 2, 2, 7, 3, 7, 1, 5, 6, 1, 7, 9, 7, 1, 8, 6, 7, 3, 2, 5, 7, 6, 3, 9, 3, 2, 4, 7, 7, 5, 0, 8, 4, 6, 6, 8, 4, 9, 5, 5, 0, 5, 4, 3, 3, 7, 5, 6, 9, 9, 7, 6, 9, 6, 3, 7, 5, 7, 1, 6, 6, 1, 7, 3, 0, 7, 8, 0, 5, 8, 0, 1, 0, 7, 7, 8, 0, 0, 5, 4, 1, 7, 3, 4, 5, 3, 5, 0, 4, 1, 1, 3, 4, 8, 0, 9, 1, 5, 2, 7, 3, 6, 8, 5, 2, 0, 6, 7, 6, 8, 5, 9, 4, 4, 0, 0, 2, 0, 1, 2, 4, 0, 4, 8, 5, 2, 3, 4, 1, 8, 4, 0, 5, 2, 5, 7, 8, 5, 6, 9, 4, 9, 2, 5, 5, 4, 3, 4, 5, 4, 0, 8, 1, 7, 2, 9, 8, 0, 3, 3, 1, 9, 7, 9, 5, 0, 7, 4, 1, 9, 2, 6, 5, 1, 4, 0, 3, 2, 2, 4, 8, 9, 0, 0, 1, 4, 8, 9, 1, 7, 3, 8, 9, 5, 0, 7, 5, 9, 4, 1, 7, 5, 6, 6, 6, 2, 9, 6, 6, 6, 9, 8, 3, 4, 1, 9, 8, 9, 1, 3, 3, 3, 2, 5, 6, 7, 2, 9, 8, 5, 4, 1, 3, 5, 0, 8, 6, 8, 9, 2, 1, 9, 4, 5, 6, 6, 0, 3, 3, 3, 4, 1, 9, 4, 9, 4, 4, 8, 8, 9, 4, 8, 9, 2, 2, 2, 2, 3, 0, 7, 9, 9, 9, 5, 6, 4, 3, 2, 4, 0, 9, 6, 4, 5, 9, 2, 7, 3, 1, 7, 2, 3, 5, 4, 3, 3, 5, 9, 1, 4, 0, 4, 8, 9, 1, 5, 1, 4, 5, 4, 7, 9, 5, 5, 1, 5, 0, 4, 9, 4, 9, 3, 4, 7, 6, 5, 9, 7, 2, 1, 8, 4, 4, 4, 2, 9, 6, 6, 4, 6, 8, 5, 6, 8, 1, 7, 1, 2, 2, 0, 4, 4, 1, 3, 2, 6, 3, 9, 0, 3, 2, 0, 7, 1, 2, 0, 6, 6, 1, 4, 6, 7, 4, 1, 5, 9, 8, 3, 9, 4, 6, 5, 4, 4, 3, 8, 5, 1, 3, 5, 9, 4, 5, 1, 6, 4, 5, 3, 8, 2, 6, 8, 6, 5, 7, 9, 5, 3, 2, 9, 2, 4, 9, 6, 2, 3, 5, 0, 7, 7, 7, 6, 5, 0, 5, 6, 9, 5, 6, 3, 1, 5, 1, 5, 2, 1, 9, 9, 9, 7, 2, 2, 3, 3, 1, 1, 2, 9, 9, 0, 2, 6, 8, 1, 3, 5, 9, 1, 7, 7, 3, 1, 7, 0, 2, 2, 0, 1, 4, 0, 2, 0, 0, 5, 3, 8, 7, 1, 7, 1, 2, 6, 0, 6, 0, 9, 7, 0, 6, 2, 8, 3, 8, 0, 2, 6, 2, 6, 5, 8, 3, 4, 1, 0, 2, 9, 9, 5, 6, 3, 6, 7, 6, 4, 6, 1, 9, 0, 6, 0, 7, 4, 4, 3, 8, 5, 7, 9, 3, 6, 0, 7, 4, 1, 9, 4, 4, 0, 5, 8, 3, 0, 1, 8, 2, 4, 5, 0, 7, 3, 2, 5, 3, 5, 1, 9, 3, 5, 0, 0, 3, 6, 0, 6, 9, 8, 5, 6, 5, 2, 8, 4, 2, 7, 2, 6, 6, 2, 5, 8, 2, 0, 4, 6, 8, 9, 9, 7, 4, 8, 3, 3, 3, 3, 6, 1, 0, 5, 6, 3, 9, 7, 9, 6, 0, 2, 3, 8, 6, 4, 3, 2, 5, 8, 7, 8, 9, 2, 4, 0, 6, 3, 2, 7, 6, 9, 8, 8, 3, 3, 5, 5, 6, 7, 3, 5, 0, 3, 8, 9, 5, 6, 7, 9, 0, 9, 5, 0, 2, 2, 0, 3, 5, 4, 9, 0, 0, 1, 6, 0, 3, 4, 2, 1, 6, 4, 3, 8, 1, 2, 3, 9, 3, 8, 2, 5, 6, 5, 6, 9, 8, 4, 0, 8, 7, 7, 5, 1, 9, 7, 5, 2, 7, 1, 0]\n",
      "[9, 6, 6, 2, 4, 9, 9, 3, 3, 4, 2, 8, 0, 4, 5, 8, 4, 3, 4, 6, 5, 0, 7, 8, 4, 8, 7, 7, 7, 1, 8, 8, 1, 6, 7, 6, 0, 3, 1, 2, 8, 2, 5, 2, 6, 0, 0, 5, 6, 3, 0, 8, 9, 2, 8, 0, 0, 5, 1, 8, 3, 0, 7, 3, 6, 8, 6, 5, 4, 3, 7, 7, 3, 9, 3, 5, 6, 7, 3, 1, 1, 4, 8, 9, 2, 9, 4, 6, 6, 3, 8, 3, 4, 4, 6, 0, 2, 4, 8, 0, 9, 2, 9, 7, 7, 9, 3, 5, 8, 7, 0, 8, 4, 3, 9, 6, 2, 2, 1, 4, 6, 8, 1, 8, 7, 1, 2, 2, 8, 1, 3, 9, 1, 1, 7, 9, 2, 5, 9, 2, 8, 1, 1, 8, 7, 7, 8, 6, 5, 7, 9, 4, 5, 5, 1, 9, 6, 5, 9, 9, 4, 1, 1, 8, 4, 3, 0, 2, 9, 7, 4, 4, 9, 5, 2, 3, 0, 2, 4, 9, 7, 6, 8, 1, 2, 4, 3, 0, 7, 2, 6, 7, 0, 6, 0, 1, 3, 4, 5, 2, 0, 0, 0, 4, 9, 2, 1, 5, 7, 3, 1, 0, 5, 9, 6, 3, 6, 3, 0, 4, 2, 8, 0, 5, 1, 7, 5, 2, 8, 2, 5, 0, 8, 8, 9, 4, 5, 6, 9, 6, 5, 3, 0, 8, 8, 2, 3, 7, 6, 5, 8, 7, 3, 3, 8, 4, 8, 3, 2, 6, 8, 3, 9, 4, 3, 4, 7, 1, 7, 9, 1, 4, 4, 3, 1, 4, 7, 0, 6, 5, 6, 3, 7, 0, 3, 2, 7, 9, 8, 0, 7, 7, 2, 6, 7, 0, 1, 8, 0, 6, 7, 7, 4, 5, 0, 1, 2, 2, 7, 3, 7, 1, 5, 6, 1, 7, 9, 7, 1, 8, 6, 7, 3, 2, 5, 7, 6, 3, 9, 3, 2, 4, 7, 7, 5, 0, 8, 4, 6, 6, 8, 4, 9, 5, 5, 0, 5, 4, 3, 3, 7, 5, 6, 9, 9, 7, 6, 9, 6, 3, 7, 5, 7, 1, 6, 6, 1, 7, 3, 0, 7, 8, 0, 5, 8, 0, 1, 0, 7, 7, 8, 0, 0, 5, 4, 1, 7, 3, 4, 5, 3, 5, 0, 4, 1, 1, 3, 4, 8, 0, 9, 1, 5, 2, 7, 3, 6, 8, 5, 2, 0, 6, 7, 6, 8, 5, 9, 4, 4, 0, 0, 2, 0, 1, 2, 4, 0, 4, 8, 5, 2, 3, 4, 1, 8, 4, 0, 5, 2, 5, 7, 8, 5, 6, 9, 4, 9, 2, 5, 5, 4, 3, 4, 5, 4, 0, 8, 1, 7, 2, 9, 8, 0, 3, 3, 1, 9, 7, 9, 5, 0, 7, 4, 1, 9, 2, 6, 5, 1, 4, 0, 3, 2, 2, 4, 8, 9, 0, 0, 1, 4, 8, 9, 1, 7, 3, 8, 9, 5, 0, 7, 5, 9, 4, 1, 7, 5, 6, 6, 6, 2, 9, 6, 6, 6, 9, 8, 3, 4, 1, 9, 8, 9, 1, 3, 3, 3, 2, 5, 6, 7, 2, 9, 8, 5, 4, 1, 3, 5, 0, 8, 6, 8, 9, 2, 1, 9, 4, 5, 6, 6, 0, 3, 3, 3, 4, 1, 9, 4, 9, 4, 4, 8, 8, 9, 4, 8, 9, 2, 2, 2, 2, 3, 0, 7, 9, 9, 9, 5, 6, 4, 3, 2, 4, 0, 9, 6, 4, 5, 9, 2, 7, 3, 1, 7, 2, 3, 5, 4, 3, 3, 5, 9, 1, 4, 0, 4, 8, 9, 1, 5, 1, 4, 5, 4, 7, 9, 5, 5, 1, 5, 0, 4, 9, 4, 9, 3, 4, 7, 6, 5, 9, 7, 2, 1, 8, 4, 4, 4, 2, 9, 6, 6, 4, 6, 8, 5, 6, 8, 1, 7, 1, 2, 2, 0, 4, 4, 1, 3, 2, 6, 3, 9, 0, 3, 2, 0, 7, 1, 2, 0, 6, 6, 1, 4, 6, 7, 4, 1, 5, 9, 8, 3, 9, 4, 6, 5, 4, 4, 3, 8, 5, 1, 3, 5, 9, 4, 5, 1, 6, 4, 5, 3, 8, 2, 6, 8, 6, 5, 7, 9, 5, 3, 2, 9, 2, 4, 9, 6, 2, 3, 5, 0, 7, 7, 7, 6, 5, 0, 5, 6, 9, 5, 6, 3, 1, 5, 1, 5, 2, 1, 9, 9, 9, 7, 2, 2, 3, 3, 1, 1, 2, 9, 9, 0, 2, 6, 8, 1, 3, 5, 9, 1, 7, 7, 3, 1, 7, 0, 2, 2, 0, 1, 4, 0, 2, 0, 0, 5, 3, 8, 7, 1, 7, 1, 2, 6, 0, 6, 0, 9, 7, 0, 6, 2, 8, 3, 8, 0, 2, 6, 2, 6, 5, 8, 3, 4, 1, 0, 2, 9, 9, 5, 6, 3, 6, 7, 6, 4, 6, 1, 9, 0, 6, 0, 7, 4, 4, 3, 8, 5, 7, 9, 3, 6, 0, 7, 4, 1, 9, 4, 4, 0, 5, 8, 3, 0, 1, 8, 2, 4, 5, 0, 7, 3, 2, 5, 3, 5, 1, 9, 3, 5, 0, 0, 3, 6, 0, 6, 9, 8, 5, 6, 5, 2, 8, 4, 2, 7, 2, 6, 6, 2, 5, 8, 2, 0, 4, 6, 8, 9, 9, 7, 4, 8, 3, 3, 3, 3, 6, 1, 0, 5, 6, 3, 9, 7, 9, 6, 0, 2, 3, 8, 6, 4, 3, 2, 5, 8, 7, 8, 9, 2, 4, 0, 6, 3, 2, 7, 6, 9, 8, 8, 3, 3, 5, 5, 6, 7, 3, 5, 0, 3, 8, 9, 5, 6, 7, 9, 0, 9, 5, 0, 2, 2, 0, 3, 5, 4, 9, 0, 0, 1, 6, 0, 3, 4, 2, 1, 6, 4, 3, 8, 1, 2, 3, 9, 3, 8, 2, 5, 6, 5, 6, 9, 8, 4, 0, 8, 7, 7, 5, 1, 9, 7, 5, 2, 7, 1, 0]\n",
      "[9, 6, 6, 2, 4, 9, 9, 3, 3, 4, 2, 8, 0, 4, 5, 8, 4, 3, 4, 6, 5, 0, 7, 8, 4, 8, 7, 7, 7, 1, 8, 8, 1, 6, 7, 6, 0, 3, 1, 2, 8, 2, 5, 2, 6, 0, 0, 5, 6, 3, 0, 8, 9, 2, 8, 0, 0, 5, 1, 8, 3, 0, 7, 3, 6, 8, 6, 5, 4, 3, 7, 7, 3, 9, 3, 5, 6, 7, 3, 1, 1, 4, 8, 9, 2, 9, 4, 6, 6, 3, 8, 3, 4, 4, 6, 0, 2, 4, 8, 0, 9, 2, 9, 7, 7, 9, 3, 5, 8, 7, 0, 8, 4, 3, 9, 6, 2, 2, 1, 4, 6, 8, 1, 8, 7, 1, 2, 2, 8, 1, 3, 9, 1, 1, 7, 9, 2, 5, 9, 2, 8, 1, 1, 8, 7, 7, 8, 6, 5, 7, 9, 4, 5, 5, 1, 9, 6, 5, 9, 9, 4, 1, 1, 8, 4, 3, 0, 2, 9, 7, 4, 4, 9, 5, 2, 3, 0, 2, 4, 9, 7, 6, 8, 1, 2, 4, 3, 0, 7, 2, 6, 7, 0, 6, 0, 1, 3, 4, 5, 2, 0, 0, 0, 4, 9, 2, 1, 5, 7, 3, 1, 0, 5, 9, 6, 3, 6, 3, 0, 4, 2, 8, 0, 5, 1, 7, 5, 2, 8, 2, 5, 0, 8, 8, 9, 4, 5, 6, 9, 6, 5, 3, 0, 8, 8, 2, 3, 7, 6, 5, 8, 7, 3, 3, 8, 4, 8, 3, 2, 6, 8, 3, 9, 4, 3, 4, 7, 1, 7, 9, 1, 4, 4, 3, 1, 4, 7, 0, 6, 5, 6, 3, 7, 0, 3, 2, 7, 9, 8, 0, 7, 7, 2, 6, 7, 0, 1, 8, 0, 6, 7, 7, 4, 5, 0, 1, 2, 2, 7, 3, 7, 1, 5, 6, 1, 7, 9, 7, 1, 8, 6, 7, 3, 2, 5, 7, 6, 3, 9, 3, 2, 4, 7, 7, 5, 0, 8, 4, 6, 6, 8, 4, 9, 5, 5, 0, 5, 4, 3, 3, 7, 5, 6, 9, 9, 7, 6, 9, 6, 3, 7, 5, 7, 1, 6, 6, 1, 7, 3, 0, 7, 8, 0, 5, 8, 0, 1, 0, 7, 7, 8, 0, 0, 5, 4, 1, 7, 3, 4, 5, 3, 5, 0, 4, 1, 1, 3, 4, 8, 0, 9, 1, 5, 2, 7, 3, 6, 8, 5, 2, 0, 6, 7, 6, 8, 5, 9, 4, 4, 0, 0, 2, 0, 1, 2, 4, 0, 4, 8, 5, 2, 3, 4, 1, 8, 4, 0, 5, 2, 5, 7, 8, 5, 6, 9, 4, 9, 2, 5, 5, 4, 3, 4, 5, 4, 0, 8, 1, 7, 2, 9, 8, 0, 3, 3, 1, 9, 7, 9, 5, 0, 7, 4, 1, 9, 2, 6, 5, 1, 4, 0, 3, 2, 2, 4, 8, 9, 0, 0, 1, 4, 8, 9, 1, 7, 3, 8, 9, 5, 0, 7, 5, 9, 4, 1, 7, 5, 6, 6, 6, 2, 9, 6, 6, 6, 9, 8, 3, 4, 1, 9, 8, 9, 1, 3, 3, 3, 2, 5, 6, 7, 2, 9, 8, 5, 4, 1, 3, 5, 0, 8, 6, 8, 9, 2, 1, 9, 4, 5, 6, 6, 0, 3, 3, 3, 4, 1, 9, 4, 9, 4, 4, 8, 8, 9, 4, 8, 9, 2, 2, 2, 2, 3, 0, 7, 9, 9, 9, 5, 6, 4, 3, 2, 4, 0, 9, 6, 4, 5, 9, 2, 7, 3, 1, 7, 2, 3, 5, 4, 3, 3, 5, 9, 1, 4, 0, 4, 8, 9, 1, 5, 1, 4, 5, 4, 7, 9, 5, 5, 1, 5, 0, 4, 9, 4, 9, 3, 4, 7, 6, 5, 9, 7, 2, 1, 8, 4, 4, 4, 2, 9, 6, 6, 4, 6, 8, 5, 6, 8, 1, 7, 1, 2, 2, 0, 4, 4, 1, 3, 2, 6, 3, 9, 0, 3, 2, 0, 7, 1, 2, 0, 6, 6, 1, 4, 6, 7, 4, 1, 5, 9, 8, 3, 9, 4, 6, 5, 4, 4, 3, 8, 5, 1, 3, 5, 9, 4, 5, 1, 6, 4, 5, 3, 8, 2, 6, 8, 6, 5, 7, 9, 5, 3, 2, 9, 2, 4, 9, 6, 2, 3, 5, 0, 7, 7, 7, 6, 5, 0, 5, 6, 9, 5, 6, 3, 1, 5, 1, 5, 2, 1, 9, 9, 9, 7, 2, 2, 3, 3, 1, 1, 2, 9, 9, 0, 2, 6, 8, 1, 3, 5, 9, 1, 7, 7, 3, 1, 7, 0, 2, 2, 0, 1, 4, 0, 2, 0, 0, 5, 3, 8, 7, 1, 7, 1, 2, 6, 0, 6, 0, 9, 7, 0, 6, 2, 8, 3, 8, 0, 2, 6, 2, 6, 5, 8, 3, 4, 1, 0, 2, 9, 9, 5, 6, 3, 6, 7, 6, 4, 6, 1, 9, 0, 6, 0, 7, 4, 4, 3, 8, 5, 7, 9, 3, 6, 0, 7, 4, 1, 9, 4, 4, 0, 5, 8, 3, 0, 1, 8, 2, 4, 5, 0, 7, 3, 2, 5, 3, 5, 1, 9, 3, 5, 0, 0, 3, 6, 0, 6, 9, 8, 5, 6, 5, 2, 8, 4, 2, 7, 2, 6, 6, 2, 5, 8, 2, 0, 4, 6, 8, 9, 9, 7, 4, 8, 3, 3, 3, 3, 6, 1, 0, 5, 6, 3, 9, 7, 9, 6, 0, 2, 3, 8, 6, 4, 3, 2, 5, 8, 7, 8, 9, 2, 4, 0, 6, 3, 2, 7, 6, 9, 8, 8, 3, 3, 5, 5, 6, 7, 3, 5, 0, 3, 8, 9, 5, 6, 7, 9, 0, 9, 5, 0, 2, 2, 0, 3, 5, 4, 9, 0, 0, 1, 6, 0, 3, 4, 2, 1, 6, 4, 3, 8, 1, 2, 3, 9, 3, 8, 2, 5, 6, 5, 6, 9, 8, 4, 0, 8, 7, 7, 5, 1, 9, 7, 5, 2, 7, 1, 0]\n",
      "[9, 6, 6, 2, 4, 9, 9, 3, 3, 4, 2, 8, 0, 4, 5, 8, 4, 3, 4, 6, 5, 0, 7, 8, 4, 8, 7, 7, 7, 1, 8, 8, 1, 6, 7, 6, 0, 3, 1, 2, 8, 2, 5, 2, 6, 0, 0, 5, 6, 3, 0, 8, 9, 2, 8, 0, 0, 5, 1, 8, 3, 0, 7, 3, 6, 8, 6, 5, 4, 3, 7, 7, 3, 9, 3, 5, 6, 7, 3, 1, 1, 4, 8, 9, 2, 9, 4, 6, 6, 3, 8, 3, 4, 4, 6, 0, 2, 4, 8, 0, 9, 2, 9, 7, 7, 9, 3, 5, 8, 7, 0, 8, 4, 3, 9, 6, 2, 2, 1, 4, 6, 8, 1, 8, 7, 1, 2, 2, 8, 1, 3, 9, 1, 1, 7, 9, 2, 5, 9, 2, 8, 1, 1, 8, 7, 7, 8, 6, 5, 7, 9, 4, 5, 5, 1, 9, 6, 5, 9, 9, 4, 1, 1, 8, 4, 3, 0, 2, 9, 7, 4, 4, 9, 5, 2, 3, 0, 2, 4, 9, 7, 6, 8, 1, 2, 4, 3, 0, 7, 2, 6, 7, 0, 6, 0, 1, 3, 4, 5, 2, 0, 0, 0, 4, 9, 2, 1, 5, 7, 3, 1, 0, 5, 9, 6, 3, 6, 3, 0, 4, 2, 8, 0, 5, 1, 7, 5, 2, 8, 2, 5, 0, 8, 8, 9, 4, 5, 6, 9, 6, 5, 3, 0, 8, 8, 2, 3, 7, 6, 5, 8, 7, 3, 3, 8, 4, 8, 3, 2, 6, 8, 3, 9, 4, 3, 4, 7, 1, 7, 9, 1, 4, 4, 3, 1, 4, 7, 0, 6, 5, 6, 3, 7, 0, 3, 2, 7, 9, 8, 0, 7, 7, 2, 6, 7, 0, 1, 8, 0, 6, 7, 7, 4, 5, 0, 1, 2, 2, 7, 3, 7, 1, 5, 6, 1, 7, 9, 7, 1, 8, 6, 7, 3, 2, 5, 7, 6, 3, 9, 3, 2, 4, 7, 7, 5, 0, 8, 4, 6, 6, 8, 4, 9, 5, 5, 0, 5, 4, 3, 3, 7, 5, 6, 9, 9, 7, 6, 9, 6, 3, 7, 5, 7, 1, 6, 6, 1, 7, 3, 0, 7, 8, 0, 5, 8, 0, 1, 0, 7, 7, 8, 0, 0, 5, 4, 1, 7, 3, 4, 5, 3, 5, 0, 4, 1, 1, 3, 4, 8, 0, 9, 1, 5, 2, 7, 3, 6, 8, 5, 2, 0, 6, 7, 6, 8, 5, 9, 4, 4, 0, 0, 2, 0, 1, 2, 4, 0, 4, 8, 5, 2, 3, 4, 1, 8, 4, 0, 5, 2, 5, 7, 8, 5, 6, 9, 4, 9, 2, 5, 5, 4, 3, 4, 5, 4, 0, 8, 1, 7, 2, 9, 8, 0, 3, 3, 1, 9, 7, 9, 5, 0, 7, 4, 1, 9, 2, 6, 5, 1, 4, 0, 3, 2, 2, 4, 8, 9, 0, 0, 1, 4, 8, 9, 1, 7, 3, 8, 9, 5, 0, 7, 5, 9, 4, 1, 7, 5, 6, 6, 6, 2, 9, 6, 6, 6, 9, 8, 3, 4, 1, 9, 8, 9, 1, 3, 3, 3, 2, 5, 6, 7, 2, 9, 8, 5, 4, 1, 3, 5, 0, 8, 6, 8, 9, 2, 1, 9, 4, 5, 6, 6, 0, 3, 3, 3, 4, 1, 9, 4, 9, 4, 4, 8, 8, 9, 4, 8, 9, 2, 2, 2, 2, 3, 0, 7, 9, 9, 9, 5, 6, 4, 3, 2, 4, 0, 9, 6, 4, 5, 9, 2, 7, 3, 1, 7, 2, 3, 5, 4, 3, 3, 5, 9, 1, 4, 0, 4, 8, 9, 1, 5, 1, 4, 5, 4, 7, 9, 5, 5, 1, 5, 0, 4, 9, 4, 9, 3, 4, 7, 6, 5, 9, 7, 2, 1, 8, 4, 4, 4, 2, 9, 6, 6, 4, 6, 8, 5, 6, 8, 1, 7, 1, 2, 2, 0, 4, 4, 1, 3, 2, 6, 3, 9, 0, 3, 2, 0, 7, 1, 2, 0, 6, 6, 1, 4, 6, 7, 4, 1, 5, 9, 8, 3, 9, 4, 6, 5, 4, 4, 3, 8, 5, 1, 3, 5, 9, 4, 5, 1, 6, 4, 5, 3, 8, 2, 6, 8, 6, 5, 7, 9, 5, 3, 2, 9, 2, 4, 9, 6, 2, 3, 5, 0, 7, 7, 7, 6, 5, 0, 5, 6, 9, 5, 6, 3, 1, 5, 1, 5, 2, 1, 9, 9, 9, 7, 2, 2, 3, 3, 1, 1, 2, 9, 9, 0, 2, 6, 8, 1, 3, 5, 9, 1, 7, 7, 3, 1, 7, 0, 2, 2, 0, 1, 4, 0, 2, 0, 0, 5, 3, 8, 7, 1, 7, 1, 2, 6, 0, 6, 0, 9, 7, 0, 6, 2, 8, 3, 8, 0, 2, 6, 2, 6, 5, 8, 3, 4, 1, 0, 2, 9, 9, 5, 6, 3, 6, 7, 6, 4, 6, 1, 9, 0, 6, 0, 7, 4, 4, 3, 8, 5, 7, 9, 3, 6, 0, 7, 4, 1, 9, 4, 4, 0, 5, 8, 3, 0, 1, 8, 2, 4, 5, 0, 7, 3, 2, 5, 3, 5, 1, 9, 3, 5, 0, 0, 3, 6, 0, 6, 9, 8, 5, 6, 5, 2, 8, 4, 2, 7, 2, 6, 6, 2, 5, 8, 2, 0, 4, 6, 8, 9, 9, 7, 4, 8, 3, 3, 3, 3, 6, 1, 0, 5, 6, 3, 9, 7, 9, 6, 0, 2, 3, 8, 6, 4, 3, 2, 5, 8, 7, 8, 9, 2, 4, 0, 6, 3, 2, 7, 6, 9, 8, 8, 3, 3, 5, 5, 6, 7, 3, 5, 0, 3, 8, 9, 5, 6, 7, 9, 0, 9, 5, 0, 2, 2, 0, 3, 5, 4, 9, 0, 0, 1, 6, 0, 3, 4, 2, 1, 6, 4, 3, 8, 1, 2, 3, 9, 3, 8, 2, 5, 6, 5, 6, 9, 8, 4, 0, 8, 7, 7, 5, 1, 9, 7, 5, 2, 7, 1, 0]\n",
      "[9, 6, 6, 2, 4, 9, 9, 3, 3, 4, 2, 8, 0, 4, 5, 8, 4, 3, 4, 6, 5, 0, 7, 8, 4, 8, 7, 7, 7, 1, 8, 8, 1, 6, 7, 6, 0, 3, 1, 2, 8, 2, 5, 2, 6, 0, 0, 5, 6, 3, 0, 8, 9, 2, 8, 0, 0, 5, 1, 8, 3, 0, 7, 3, 6, 8, 6, 5, 4, 3, 7, 7, 3, 9, 3, 5, 6, 7, 3, 1, 1, 4, 8, 9, 2, 9, 4, 6, 6, 3, 8, 3, 4, 4, 6, 0, 2, 4, 8, 0, 9, 2, 9, 7, 7, 9, 3, 5, 8, 7, 0, 8, 4, 3, 9, 6, 2, 2, 1, 4, 6, 8, 1, 8, 7, 1, 2, 2, 8, 1, 3, 9, 1, 1, 7, 9, 2, 5, 9, 2, 8, 1, 1, 8, 7, 7, 8, 6, 5, 7, 9, 4, 5, 5, 1, 9, 6, 5, 9, 9, 4, 1, 1, 8, 4, 3, 0, 2, 9, 7, 4, 4, 9, 5, 2, 3, 0, 2, 4, 9, 7, 6, 8, 1, 2, 4, 3, 0, 7, 2, 6, 7, 0, 6, 0, 1, 3, 4, 5, 2, 0, 0, 0, 4, 9, 2, 1, 5, 7, 3, 1, 0, 5, 9, 6, 3, 6, 3, 0, 4, 2, 8, 0, 5, 1, 7, 5, 2, 8, 2, 5, 0, 8, 8, 9, 4, 5, 6, 9, 6, 5, 3, 0, 8, 8, 2, 3, 7, 6, 5, 8, 7, 3, 3, 8, 4, 8, 3, 2, 6, 8, 3, 9, 4, 3, 4, 7, 1, 7, 9, 1, 4, 4, 3, 1, 4, 7, 0, 6, 5, 6, 3, 7, 0, 3, 2, 7, 9, 8, 0, 7, 7, 2, 6, 7, 0, 1, 8, 0, 6, 7, 7, 4, 5, 0, 1, 2, 2, 7, 3, 7, 1, 5, 6, 1, 7, 9, 7, 1, 8, 6, 7, 3, 2, 5, 7, 6, 3, 9, 3, 2, 4, 7, 7, 5, 0, 8, 4, 6, 6, 8, 4, 9, 5, 5, 0, 5, 4, 3, 3, 7, 5, 6, 9, 9, 7, 6, 9, 6, 3, 7, 5, 7, 1, 6, 6, 1, 7, 3, 0, 7, 8, 0, 5, 8, 0, 1, 0, 7, 7, 8, 0, 0, 5, 4, 1, 7, 3, 4, 5, 3, 5, 0, 4, 1, 1, 3, 4, 8, 0, 9, 1, 5, 2, 7, 3, 6, 8, 5, 2, 0, 6, 7, 6, 8, 5, 9, 4, 4, 0, 0, 2, 0, 1, 2, 4, 0, 4, 8, 5, 2, 3, 4, 1, 8, 4, 0, 5, 2, 5, 7, 8, 5, 6, 9, 4, 9, 2, 5, 5, 4, 3, 4, 5, 4, 0, 8, 1, 7, 2, 9, 8, 0, 3, 3, 1, 9, 7, 9, 5, 0, 7, 4, 1, 9, 2, 6, 5, 1, 4, 0, 3, 2, 2, 4, 8, 9, 0, 0, 1, 4, 8, 9, 1, 7, 3, 8, 9, 5, 0, 7, 5, 9, 4, 1, 7, 5, 6, 6, 6, 2, 9, 6, 6, 6, 9, 8, 3, 4, 1, 9, 8, 9, 1, 3, 3, 3, 2, 5, 6, 7, 2, 9, 8, 5, 4, 1, 3, 5, 0, 8, 6, 8, 9, 2, 1, 9, 4, 5, 6, 6, 0, 3, 3, 3, 4, 1, 9, 4, 9, 4, 4, 8, 8, 9, 4, 8, 9, 2, 2, 2, 2, 3, 0, 7, 9, 9, 9, 5, 6, 4, 3, 2, 4, 0, 9, 6, 4, 5, 9, 2, 7, 3, 1, 7, 2, 3, 5, 4, 3, 3, 5, 9, 1, 4, 0, 4, 8, 9, 1, 5, 1, 4, 5, 4, 7, 9, 5, 5, 1, 5, 0, 4, 9, 4, 9, 3, 4, 7, 6, 5, 9, 7, 2, 1, 8, 4, 4, 4, 2, 9, 6, 6, 4, 6, 8, 5, 6, 8, 1, 7, 1, 2, 2, 0, 4, 4, 1, 3, 2, 6, 3, 9, 0, 3, 2, 0, 7, 1, 2, 0, 6, 6, 1, 4, 6, 7, 4, 1, 5, 9, 8, 3, 9, 4, 6, 5, 4, 4, 3, 8, 5, 1, 3, 5, 9, 4, 5, 1, 6, 4, 5, 3, 8, 2, 6, 8, 6, 5, 7, 9, 5, 3, 2, 9, 2, 4, 9, 6, 2, 3, 5, 0, 7, 7, 7, 6, 5, 0, 5, 6, 9, 5, 6, 3, 1, 5, 1, 5, 2, 1, 9, 9, 9, 7, 2, 2, 3, 3, 1, 1, 2, 9, 9, 0, 2, 6, 8, 1, 3, 5, 9, 1, 7, 7, 3, 1, 7, 0, 2, 2, 0, 1, 4, 0, 2, 0, 0, 5, 3, 8, 7, 1, 7, 1, 2, 6, 0, 6, 0, 9, 7, 0, 6, 2, 8, 3, 8, 0, 2, 6, 2, 6, 5, 8, 3, 4, 1, 0, 2, 9, 9, 5, 6, 3, 6, 7, 6, 4, 6, 1, 9, 0, 6, 0, 7, 4, 4, 3, 8, 5, 7, 9, 3, 6, 0, 7, 4, 1, 9, 4, 4, 0, 5, 8, 3, 0, 1, 8, 2, 4, 5, 0, 7, 3, 2, 5, 3, 5, 1, 9, 3, 5, 0, 0, 3, 6, 0, 6, 9, 8, 5, 6, 5, 2, 8, 4, 2, 7, 2, 6, 6, 2, 5, 8, 2, 0, 4, 6, 8, 9, 9, 7, 4, 8, 3, 3, 3, 3, 6, 1, 0, 5, 6, 3, 9, 7, 9, 6, 0, 2, 3, 8, 6, 4, 3, 2, 5, 8, 7, 8, 9, 2, 4, 0, 6, 3, 2, 7, 6, 9, 8, 8, 3, 3, 5, 5, 6, 7, 3, 5, 0, 3, 8, 9, 5, 6, 7, 9, 0, 9, 5, 0, 2, 2, 0, 3, 5, 4, 9, 0, 0, 1, 6, 0, 3, 4, 2, 1, 6, 4, 3, 8, 1, 2, 3, 9, 3, 8, 2, 5, 6, 5, 6, 9, 8, 4, 0, 8, 7, 7, 5, 1, 9, 7, 5, 2, 7, 1, 0]\n",
      "[9, 6, 6, 2, 4, 9, 9, 3, 3, 4, 2, 8, 0, 4, 5, 8, 4, 3, 4, 6, 5, 0, 7, 8, 4, 8, 7, 7, 7, 1, 8, 8, 1, 6, 7, 6, 0, 3, 1, 2, 8, 2, 5, 2, 6, 0, 0, 5, 6, 3, 0, 8, 9, 2, 8, 0, 0, 5, 1, 8, 3, 0, 7, 3, 6, 8, 6, 5, 4, 3, 7, 7, 3, 9, 3, 5, 6, 7, 3, 1, 1, 4, 8, 9, 2, 9, 4, 6, 6, 3, 8, 3, 4, 4, 6, 0, 2, 4, 8, 0, 9, 2, 9, 7, 7, 9, 3, 5, 8, 7, 0, 8, 4, 3, 9, 6, 2, 2, 1, 4, 6, 8, 1, 8, 7, 1, 2, 2, 8, 1, 3, 9, 1, 1, 7, 9, 2, 5, 9, 2, 8, 1, 1, 8, 7, 7, 8, 6, 5, 7, 9, 4, 5, 5, 1, 9, 6, 5, 9, 9, 4, 1, 1, 8, 4, 3, 0, 2, 9, 7, 4, 4, 9, 5, 2, 3, 0, 2, 4, 9, 7, 6, 8, 1, 2, 4, 3, 0, 7, 2, 6, 7, 0, 6, 0, 1, 3, 4, 5, 2, 0, 0, 0, 4, 9, 2, 1, 5, 7, 3, 1, 0, 5, 9, 6, 3, 6, 3, 0, 4, 2, 8, 0, 5, 1, 7, 5, 2, 8, 2, 5, 0, 8, 8, 9, 4, 5, 6, 9, 6, 5, 3, 0, 8, 8, 2, 3, 7, 6, 5, 8, 7, 3, 3, 8, 4, 8, 3, 2, 6, 8, 3, 9, 4, 3, 4, 7, 1, 7, 9, 1, 4, 4, 3, 1, 4, 7, 0, 6, 5, 6, 3, 7, 0, 3, 2, 7, 9, 8, 0, 7, 7, 2, 6, 7, 0, 1, 8, 0, 6, 7, 7, 4, 5, 0, 1, 2, 2, 7, 3, 7, 1, 5, 6, 1, 7, 9, 7, 1, 8, 6, 7, 3, 2, 5, 7, 6, 3, 9, 3, 2, 4, 7, 7, 5, 0, 8, 4, 6, 6, 8, 4, 9, 5, 5, 0, 5, 4, 3, 3, 7, 5, 6, 9, 9, 7, 6, 9, 6, 3, 7, 5, 7, 1, 6, 6, 1, 7, 3, 0, 7, 8, 0, 5, 8, 0, 1, 0, 7, 7, 8, 0, 0, 5, 4, 1, 7, 3, 4, 5, 3, 5, 0, 4, 1, 1, 3, 4, 8, 0, 9, 1, 5, 2, 7, 3, 6, 8, 5, 2, 0, 6, 7, 6, 8, 5, 9, 4, 4, 0, 0, 2, 0, 1, 2, 4, 0, 4, 8, 5, 2, 3, 4, 1, 8, 4, 0, 5, 2, 5, 7, 8, 5, 6, 9, 4, 9, 2, 5, 5, 4, 3, 4, 5, 4, 0, 8, 1, 7, 2, 9, 8, 0, 3, 3, 1, 9, 7, 9, 5, 0, 7, 4, 1, 9, 2, 6, 5, 1, 4, 0, 3, 2, 2, 4, 8, 9, 0, 0, 1, 4, 8, 9, 1, 7, 3, 8, 9, 5, 0, 7, 5, 9, 4, 1, 7, 5, 6, 6, 6, 2, 9, 6, 6, 6, 9, 8, 3, 4, 1, 9, 8, 9, 1, 3, 3, 3, 2, 5, 6, 7, 2, 9, 8, 5, 4, 1, 3, 5, 0, 8, 6, 8, 9, 2, 1, 9, 4, 5, 6, 6, 0, 3, 3, 3, 4, 1, 9, 4, 9, 4, 4, 8, 8, 9, 4, 8, 9, 2, 2, 2, 2, 3, 0, 7, 9, 9, 9, 5, 6, 4, 3, 2, 4, 0, 9, 6, 4, 5, 9, 2, 7, 3, 1, 7, 2, 3, 5, 4, 3, 3, 5, 9, 1, 4, 0, 4, 8, 9, 1, 5, 1, 4, 5, 4, 7, 9, 5, 5, 1, 5, 0, 4, 9, 4, 9, 3, 4, 7, 6, 5, 9, 7, 2, 1, 8, 4, 4, 4, 2, 9, 6, 6, 4, 6, 8, 5, 6, 8, 1, 7, 1, 2, 2, 0, 4, 4, 1, 3, 2, 6, 3, 9, 0, 3, 2, 0, 7, 1, 2, 0, 6, 6, 1, 4, 6, 7, 4, 1, 5, 9, 8, 3, 9, 4, 6, 5, 4, 4, 3, 8, 5, 1, 3, 5, 9, 4, 5, 1, 6, 4, 5, 3, 8, 2, 6, 8, 6, 5, 7, 9, 5, 3, 2, 9, 2, 4, 9, 6, 2, 3, 5, 0, 7, 7, 7, 6, 5, 0, 5, 6, 9, 5, 6, 3, 1, 5, 1, 5, 2, 1, 9, 9, 9, 7, 2, 2, 3, 3, 1, 1, 2, 9, 9, 0, 2, 6, 8, 1, 3, 5, 9, 1, 7, 7, 3, 1, 7, 0, 2, 2, 0, 1, 4, 0, 2, 0, 0, 5, 3, 8, 7, 1, 7, 1, 2, 6, 0, 6, 0, 9, 7, 0, 6, 2, 8, 3, 8, 0, 2, 6, 2, 6, 5, 8, 3, 4, 1, 0, 2, 9, 9, 5, 6, 3, 6, 7, 6, 4, 6, 1, 9, 0, 6, 0, 7, 4, 4, 3, 8, 5, 7, 9, 3, 6, 0, 7, 4, 1, 9, 4, 4, 0, 5, 8, 3, 0, 1, 8, 2, 4, 5, 0, 7, 3, 2, 5, 3, 5, 1, 9, 3, 5, 0, 0, 3, 6, 0, 6, 9, 8, 5, 6, 5, 2, 8, 4, 2, 7, 2, 6, 6, 2, 5, 8, 2, 0, 4, 6, 8, 9, 9, 7, 4, 8, 3, 3, 3, 3, 6, 1, 0, 5, 6, 3, 9, 7, 9, 6, 0, 2, 3, 8, 6, 4, 3, 2, 5, 8, 7, 8, 9, 2, 4, 0, 6, 3, 2, 7, 6, 9, 8, 8, 3, 3, 5, 5, 6, 7, 3, 5, 0, 3, 8, 9, 5, 6, 7, 9, 0, 9, 5, 0, 2, 2, 0, 3, 5, 4, 9, 0, 0, 1, 6, 0, 3, 4, 2, 1, 6, 4, 3, 8, 1, 2, 3, 9, 3, 8, 2, 5, 6, 5, 6, 9, 8, 4, 0, 8, 7, 7, 5, 1, 9, 7, 5, 2, 7, 1, 0]\n",
      "[9, 6, 6, 2, 4, 9, 9, 3, 3, 4, 2, 8, 0, 4, 5, 8, 4, 3, 4, 6, 5, 0, 7, 8, 4, 8, 7, 7, 7, 1, 8, 8, 1, 6, 7, 6, 0, 3, 1, 2, 8, 2, 5, 2, 6, 0, 0, 5, 6, 3, 0, 8, 9, 2, 8, 0, 0, 5, 1, 8, 3, 0, 7, 3, 6, 8, 6, 5, 4, 3, 7, 7, 3, 9, 3, 5, 6, 7, 3, 1, 1, 4, 8, 9, 2, 9, 4, 6, 6, 3, 8, 3, 4, 4, 6, 0, 2, 4, 8, 0, 9, 2, 9, 7, 7, 9, 3, 5, 8, 7, 0, 8, 4, 3, 9, 6, 2, 2, 1, 4, 6, 8, 1, 8, 7, 1, 2, 2, 8, 1, 3, 9, 1, 1, 7, 9, 2, 5, 9, 2, 8, 1, 1, 8, 7, 7, 8, 6, 5, 7, 9, 4, 5, 5, 1, 9, 6, 5, 9, 9, 4, 1, 1, 8, 4, 3, 0, 2, 9, 7, 4, 4, 9, 5, 2, 3, 0, 2, 4, 9, 7, 6, 8, 1, 2, 4, 3, 0, 7, 2, 6, 7, 0, 6, 0, 1, 3, 4, 5, 2, 0, 0, 0, 4, 9, 2, 1, 5, 7, 3, 1, 0, 5, 9, 6, 3, 6, 3, 0, 4, 2, 8, 0, 5, 1, 7, 5, 2, 8, 2, 5, 0, 8, 8, 9, 4, 5, 6, 9, 6, 5, 3, 0, 8, 8, 2, 3, 7, 6, 5, 8, 7, 3, 3, 8, 4, 8, 3, 2, 6, 8, 3, 9, 4, 3, 4, 7, 1, 7, 9, 1, 4, 4, 3, 1, 4, 7, 0, 6, 5, 6, 3, 7, 0, 3, 2, 7, 9, 8, 0, 7, 7, 2, 6, 7, 0, 1, 8, 0, 6, 7, 7, 4, 5, 0, 1, 2, 2, 7, 3, 7, 1, 5, 6, 1, 7, 9, 7, 1, 8, 6, 7, 3, 2, 5, 7, 6, 3, 9, 3, 2, 4, 7, 7, 5, 0, 8, 4, 6, 6, 8, 4, 9, 5, 5, 0, 5, 4, 3, 3, 7, 5, 6, 9, 9, 7, 6, 9, 6, 3, 7, 5, 7, 1, 6, 6, 1, 7, 3, 0, 7, 8, 0, 5, 8, 0, 1, 0, 7, 7, 8, 0, 0, 5, 4, 1, 7, 3, 4, 5, 3, 5, 0, 4, 1, 1, 3, 4, 8, 0, 9, 1, 5, 2, 7, 3, 6, 8, 5, 2, 0, 6, 7, 6, 8, 5, 9, 4, 4, 0, 0, 2, 0, 1, 2, 4, 0, 4, 8, 5, 2, 3, 4, 1, 8, 4, 0, 5, 2, 5, 7, 8, 5, 6, 9, 4, 9, 2, 5, 5, 4, 3, 4, 5, 4, 0, 8, 1, 7, 2, 9, 8, 0, 3, 3, 1, 9, 7, 9, 5, 0, 7, 4, 1, 9, 2, 6, 5, 1, 4, 0, 3, 2, 2, 4, 8, 9, 0, 0, 1, 4, 8, 9, 1, 7, 3, 8, 9, 5, 0, 7, 5, 9, 4, 1, 7, 5, 6, 6, 6, 2, 9, 6, 6, 6, 9, 8, 3, 4, 1, 9, 8, 9, 1, 3, 3, 3, 2, 5, 6, 7, 2, 9, 8, 5, 4, 1, 3, 5, 0, 8, 6, 8, 9, 2, 1, 9, 4, 5, 6, 6, 0, 3, 3, 3, 4, 1, 9, 4, 9, 4, 4, 8, 8, 9, 4, 8, 9, 2, 2, 2, 2, 3, 0, 7, 9, 9, 9, 5, 6, 4, 3, 2, 4, 0, 9, 6, 4, 5, 9, 2, 7, 3, 1, 7, 2, 3, 5, 4, 3, 3, 5, 9, 1, 4, 0, 4, 8, 9, 1, 5, 1, 4, 5, 4, 7, 9, 5, 5, 1, 5, 0, 4, 9, 4, 9, 3, 4, 7, 6, 5, 9, 7, 2, 1, 8, 4, 4, 4, 2, 9, 6, 6, 4, 6, 8, 5, 6, 8, 1, 7, 1, 2, 2, 0, 4, 4, 1, 3, 2, 6, 3, 9, 0, 3, 2, 0, 7, 1, 2, 0, 6, 6, 1, 4, 6, 7, 4, 1, 5, 9, 8, 3, 9, 4, 6, 5, 4, 4, 3, 8, 5, 1, 3, 5, 9, 4, 5, 1, 6, 4, 5, 3, 8, 2, 6, 8, 6, 5, 7, 9, 5, 3, 2, 9, 2, 4, 9, 6, 2, 3, 5, 0, 7, 7, 7, 6, 5, 0, 5, 6, 9, 5, 6, 3, 1, 5, 1, 5, 2, 1, 9, 9, 9, 7, 2, 2, 3, 3, 1, 1, 2, 9, 9, 0, 2, 6, 8, 1, 3, 5, 9, 1, 7, 7, 3, 1, 7, 0, 2, 2, 0, 1, 4, 0, 2, 0, 0, 5, 3, 8, 7, 1, 7, 1, 2, 6, 0, 6, 0, 9, 7, 0, 6, 2, 8, 3, 8, 0, 2, 6, 2, 6, 5, 8, 3, 4, 1, 0, 2, 9, 9, 5, 6, 3, 6, 7, 6, 4, 6, 1, 9, 0, 6, 0, 7, 4, 4, 3, 8, 5, 7, 9, 3, 6, 0, 7, 4, 1, 9, 4, 4, 0, 5, 8, 3, 0, 1, 8, 2, 4, 5, 0, 7, 3, 2, 5, 3, 5, 1, 9, 3, 5, 0, 0, 3, 6, 0, 6, 9, 8, 5, 6, 5, 2, 8, 4, 2, 7, 2, 6, 6, 2, 5, 8, 2, 0, 4, 6, 8, 9, 9, 7, 4, 8, 3, 3, 3, 3, 6, 1, 0, 5, 6, 3, 9, 7, 9, 6, 0, 2, 3, 8, 6, 4, 3, 2, 5, 8, 7, 8, 9, 2, 4, 0, 6, 3, 2, 7, 6, 9, 8, 8, 3, 3, 5, 5, 6, 7, 3, 5, 0, 3, 8, 9, 5, 6, 7, 9, 0, 9, 5, 0, 2, 2, 0, 3, 5, 4, 9, 0, 0, 1, 6, 0, 3, 4, 2, 1, 6, 4, 3, 8, 1, 2, 3, 9, 3, 8, 2, 5, 6, 5, 6, 9, 8, 4, 0, 8, 7, 7, 5, 1, 9, 7, 5, 2, 7, 1, 0]\n",
      "[9, 6, 6, 2, 4, 9, 9, 3, 3, 4, 2, 8, 0, 4, 5, 8, 4, 3, 4, 6, 5, 0, 7, 8, 4, 8, 7, 7, 7, 1, 8, 8, 1, 6, 7, 6, 0, 3, 1, 2, 8, 2, 5, 2, 6, 0, 0, 5, 6, 3, 0, 8, 9, 2, 8, 0, 0, 5, 1, 8, 3, 0, 7, 3, 6, 8, 6, 5, 4, 3, 7, 7, 3, 9, 3, 5, 6, 7, 3, 1, 1, 4, 8, 9, 2, 9, 4, 6, 6, 3, 8, 3, 4, 4, 6, 0, 2, 4, 8, 0, 9, 2, 9, 7, 7, 9, 3, 5, 8, 7, 0, 8, 4, 3, 9, 6, 2, 2, 1, 4, 6, 8, 1, 8, 7, 1, 2, 2, 8, 1, 3, 9, 1, 1, 7, 9, 2, 5, 9, 2, 8, 1, 1, 8, 7, 7, 8, 6, 5, 7, 9, 4, 5, 5, 1, 9, 6, 5, 9, 9, 4, 1, 1, 8, 4, 3, 0, 2, 9, 7, 4, 4, 9, 5, 2, 3, 0, 2, 4, 9, 7, 6, 8, 1, 2, 4, 3, 0, 7, 2, 6, 7, 0, 6, 0, 1, 3, 4, 5, 2, 0, 0, 0, 4, 9, 2, 1, 5, 7, 3, 1, 0, 5, 9, 6, 3, 6, 3, 0, 4, 2, 8, 0, 5, 1, 7, 5, 2, 8, 2, 5, 0, 8, 8, 9, 4, 5, 6, 9, 6, 5, 3, 0, 8, 8, 2, 3, 7, 6, 5, 8, 7, 3, 3, 8, 4, 8, 3, 2, 6, 8, 3, 9, 4, 3, 4, 7, 1, 7, 9, 1, 4, 4, 3, 1, 4, 7, 0, 6, 5, 6, 3, 7, 0, 3, 2, 7, 9, 8, 0, 7, 7, 2, 6, 7, 0, 1, 8, 0, 6, 7, 7, 4, 5, 0, 1, 2, 2, 7, 3, 7, 1, 5, 6, 1, 7, 9, 7, 1, 8, 6, 7, 3, 2, 5, 7, 6, 3, 9, 3, 2, 4, 7, 7, 5, 0, 8, 4, 6, 6, 8, 4, 9, 5, 5, 0, 5, 4, 3, 3, 7, 5, 6, 9, 9, 7, 6, 9, 6, 3, 7, 5, 7, 1, 6, 6, 1, 7, 3, 0, 7, 8, 0, 5, 8, 0, 1, 0, 7, 7, 8, 0, 0, 5, 4, 1, 7, 3, 4, 5, 3, 5, 0, 4, 1, 1, 3, 4, 8, 0, 9, 1, 5, 2, 7, 3, 6, 8, 5, 2, 0, 6, 7, 6, 8, 5, 9, 4, 4, 0, 0, 2, 0, 1, 2, 4, 0, 4, 8, 5, 2, 3, 4, 1, 8, 4, 0, 5, 2, 5, 7, 8, 5, 6, 9, 4, 9, 2, 5, 5, 4, 3, 4, 5, 4, 0, 8, 1, 7, 2, 9, 8, 0, 3, 3, 1, 9, 7, 9, 5, 0, 7, 4, 1, 9, 2, 6, 5, 1, 4, 0, 3, 2, 2, 4, 8, 9, 0, 0, 1, 4, 8, 9, 1, 7, 3, 8, 9, 5, 0, 7, 5, 9, 4, 1, 7, 5, 6, 6, 6, 2, 9, 6, 6, 6, 9, 8, 3, 4, 1, 9, 8, 9, 1, 3, 3, 3, 2, 5, 6, 7, 2, 9, 8, 5, 4, 1, 3, 5, 0, 8, 6, 8, 9, 2, 1, 9, 4, 5, 6, 6, 0, 3, 3, 3, 4, 1, 9, 4, 9, 4, 4, 8, 8, 9, 4, 8, 9, 2, 2, 2, 2, 3, 0, 7, 9, 9, 9, 5, 6, 4, 3, 2, 4, 0, 9, 6, 4, 5, 9, 2, 7, 3, 1, 7, 2, 3, 5, 4, 3, 3, 5, 9, 1, 4, 0, 4, 8, 9, 1, 5, 1, 4, 5, 4, 7, 9, 5, 5, 1, 5, 0, 4, 9, 4, 9, 3, 4, 7, 6, 5, 9, 7, 2, 1, 8, 4, 4, 4, 2, 9, 6, 6, 4, 6, 8, 5, 6, 8, 1, 7, 1, 2, 2, 0, 4, 4, 1, 3, 2, 6, 3, 9, 0, 3, 2, 0, 7, 1, 2, 0, 6, 6, 1, 4, 6, 7, 4, 1, 5, 9, 8, 3, 9, 4, 6, 5, 4, 4, 3, 8, 5, 1, 3, 5, 9, 4, 5, 1, 6, 4, 5, 3, 8, 2, 6, 8, 6, 5, 7, 9, 5, 3, 2, 9, 2, 4, 9, 6, 2, 3, 5, 0, 7, 7, 7, 6, 5, 0, 5, 6, 9, 5, 6, 3, 1, 5, 1, 5, 2, 1, 9, 9, 9, 7, 2, 2, 3, 3, 1, 1, 2, 9, 9, 0, 2, 6, 8, 1, 3, 5, 9, 1, 7, 7, 3, 1, 7, 0, 2, 2, 0, 1, 4, 0, 2, 0, 0, 5, 3, 8, 7, 1, 7, 1, 2, 6, 0, 6, 0, 9, 7, 0, 6, 2, 8, 3, 8, 0, 2, 6, 2, 6, 5, 8, 3, 4, 1, 0, 2, 9, 9, 5, 6, 3, 6, 7, 6, 4, 6, 1, 9, 0, 6, 0, 7, 4, 4, 3, 8, 5, 7, 9, 3, 6, 0, 7, 4, 1, 9, 4, 4, 0, 5, 8, 3, 0, 1, 8, 2, 4, 5, 0, 7, 3, 2, 5, 3, 5, 1, 9, 3, 5, 0, 0, 3, 6, 0, 6, 9, 8, 5, 6, 5, 2, 8, 4, 2, 7, 2, 6, 6, 2, 5, 8, 2, 0, 4, 6, 8, 9, 9, 7, 4, 8, 3, 3, 3, 3, 6, 1, 0, 5, 6, 3, 9, 7, 9, 6, 0, 2, 3, 8, 6, 4, 3, 2, 5, 8, 7, 8, 9, 2, 4, 0, 6, 3, 2, 7, 6, 9, 8, 8, 3, 3, 5, 5, 6, 7, 3, 5, 0, 3, 8, 9, 5, 6, 7, 9, 0, 9, 5, 0, 2, 2, 0, 3, 5, 4, 9, 0, 0, 1, 6, 0, 3, 4, 2, 1, 6, 4, 3, 8, 1, 2, 3, 9, 3, 8, 2, 5, 6, 5, 6, 9, 8, 4, 0, 8, 7, 7, 5, 1, 9, 7, 5, 2, 7, 1, 0]\n",
      "[9, 6, 6, 2, 4, 9, 9, 3, 3, 4, 2, 8, 0, 4, 5, 8, 4, 3, 4, 6, 5, 0, 7, 8, 4, 8, 7, 7, 7, 1, 8, 8, 1, 6, 7, 6, 0, 3, 1, 2, 8, 2, 5, 2, 6, 0, 0, 5, 6, 3, 0, 8, 9, 2, 8, 0, 0, 5, 1, 8, 3, 0, 7, 3, 6, 8, 6, 5, 4, 3, 7, 7, 3, 9, 3, 5, 6, 7, 3, 1, 1, 4, 8, 9, 2, 9, 4, 6, 6, 3, 8, 3, 4, 4, 6, 0, 2, 4, 8, 0, 9, 2, 9, 7, 7, 9, 3, 5, 8, 7, 0, 8, 4, 3, 9, 6, 2, 2, 1, 4, 6, 8, 1, 8, 7, 1, 2, 2, 8, 1, 3, 9, 1, 1, 7, 9, 2, 5, 9, 2, 8, 1, 1, 8, 7, 7, 8, 6, 5, 7, 9, 4, 5, 5, 1, 9, 6, 5, 9, 9, 4, 1, 1, 8, 4, 3, 0, 2, 9, 7, 4, 4, 9, 5, 2, 3, 0, 2, 4, 9, 7, 6, 8, 1, 2, 4, 3, 0, 7, 2, 6, 7, 0, 6, 0, 1, 3, 4, 5, 2, 0, 0, 0, 4, 9, 2, 1, 5, 7, 3, 1, 0, 5, 9, 6, 3, 6, 3, 0, 4, 2, 8, 0, 5, 1, 7, 5, 2, 8, 2, 5, 0, 8, 8, 9, 4, 5, 6, 9, 6, 5, 3, 0, 8, 8, 2, 3, 7, 6, 5, 8, 7, 3, 3, 8, 4, 8, 3, 2, 6, 8, 3, 9, 4, 3, 4, 7, 1, 7, 9, 1, 4, 4, 3, 1, 4, 7, 0, 6, 5, 6, 3, 7, 0, 3, 2, 7, 9, 8, 0, 7, 7, 2, 6, 7, 0, 1, 8, 0, 6, 7, 7, 4, 5, 0, 1, 2, 2, 7, 3, 7, 1, 5, 6, 1, 7, 9, 7, 1, 8, 6, 7, 3, 2, 5, 7, 6, 3, 9, 3, 2, 4, 7, 7, 5, 0, 8, 4, 6, 6, 8, 4, 9, 5, 5, 0, 5, 4, 3, 3, 7, 5, 6, 9, 9, 7, 6, 9, 6, 3, 7, 5, 7, 1, 6, 6, 1, 7, 3, 0, 7, 8, 0, 5, 8, 0, 1, 0, 7, 7, 8, 0, 0, 5, 4, 1, 7, 3, 4, 5, 3, 5, 0, 4, 1, 1, 3, 4, 8, 0, 9, 1, 5, 2, 7, 3, 6, 8, 5, 2, 0, 6, 7, 6, 8, 5, 9, 4, 4, 0, 0, 2, 0, 1, 2, 4, 0, 4, 8, 5, 2, 3, 4, 1, 8, 4, 0, 5, 2, 5, 7, 8, 5, 6, 9, 4, 9, 2, 5, 5, 4, 3, 4, 5, 4, 0, 8, 1, 7, 2, 9, 8, 0, 3, 3, 1, 9, 7, 9, 5, 0, 7, 4, 1, 9, 2, 6, 5, 1, 4, 0, 3, 2, 2, 4, 8, 9, 0, 0, 1, 4, 8, 9, 1, 7, 3, 8, 9, 5, 0, 7, 5, 9, 4, 1, 7, 5, 6, 6, 6, 2, 9, 6, 6, 6, 9, 8, 3, 4, 1, 9, 8, 9, 1, 3, 3, 3, 2, 5, 6, 7, 2, 9, 8, 5, 4, 1, 3, 5, 0, 8, 6, 8, 9, 2, 1, 9, 4, 5, 6, 6, 0, 3, 3, 3, 4, 1, 9, 4, 9, 4, 4, 8, 8, 9, 4, 8, 9, 2, 2, 2, 2, 3, 0, 7, 9, 9, 9, 5, 6, 4, 3, 2, 4, 0, 9, 6, 4, 5, 9, 2, 7, 3, 1, 7, 2, 3, 5, 4, 3, 3, 5, 9, 1, 4, 0, 4, 8, 9, 1, 5, 1, 4, 5, 4, 7, 9, 5, 5, 1, 5, 0, 4, 9, 4, 9, 3, 4, 7, 6, 5, 9, 7, 2, 1, 8, 4, 4, 4, 2, 9, 6, 6, 4, 6, 8, 5, 6, 8, 1, 7, 1, 2, 2, 0, 4, 4, 1, 3, 2, 6, 3, 9, 0, 3, 2, 0, 7, 1, 2, 0, 6, 6, 1, 4, 6, 7, 4, 1, 5, 9, 8, 3, 9, 4, 6, 5, 4, 4, 3, 8, 5, 1, 3, 5, 9, 4, 5, 1, 6, 4, 5, 3, 8, 2, 6, 8, 6, 5, 7, 9, 5, 3, 2, 9, 2, 4, 9, 6, 2, 3, 5, 0, 7, 7, 7, 6, 5, 0, 5, 6, 9, 5, 6, 3, 1, 5, 1, 5, 2, 1, 9, 9, 9, 7, 2, 2, 3, 3, 1, 1, 2, 9, 9, 0, 2, 6, 8, 1, 3, 5, 9, 1, 7, 7, 3, 1, 7, 0, 2, 2, 0, 1, 4, 0, 2, 0, 0, 5, 3, 8, 7, 1, 7, 1, 2, 6, 0, 6, 0, 9, 7, 0, 6, 2, 8, 3, 8, 0, 2, 6, 2, 6, 5, 8, 3, 4, 1, 0, 2, 9, 9, 5, 6, 3, 6, 7, 6, 4, 6, 1, 9, 0, 6, 0, 7, 4, 4, 3, 8, 5, 7, 9, 3, 6, 0, 7, 4, 1, 9, 4, 4, 0, 5, 8, 3, 0, 1, 8, 2, 4, 5, 0, 7, 3, 2, 5, 3, 5, 1, 9, 3, 5, 0, 0, 3, 6, 0, 6, 9, 8, 5, 6, 5, 2, 8, 4, 2, 7, 2, 6, 6, 2, 5, 8, 2, 0, 4, 6, 8, 9, 9, 7, 4, 8, 3, 3, 3, 3, 6, 1, 0, 5, 6, 3, 9, 7, 9, 6, 0, 2, 3, 8, 6, 4, 3, 2, 5, 8, 7, 8, 9, 2, 4, 0, 6, 3, 2, 7, 6, 9, 8, 8, 3, 3, 5, 5, 6, 7, 3, 5, 0, 3, 8, 9, 5, 6, 7, 9, 0, 9, 5, 0, 2, 2, 0, 3, 5, 4, 9, 0, 0, 1, 6, 0, 3, 4, 2, 1, 6, 4, 3, 8, 1, 2, 3, 9, 3, 8, 2, 5, 6, 5, 6, 9, 8, 4, 0, 8, 7, 7, 5, 1, 9, 7, 5, 2, 7, 1, 0]\n",
      "[9, 6, 6, 2, 4, 9, 9, 3, 3, 4, 2, 8, 0, 4, 5, 8, 4, 3, 4, 6, 5, 0, 7, 8, 4, 8, 7, 7, 7, 1, 8, 8, 1, 6, 7, 6, 0, 3, 1, 2, 8, 2, 5, 2, 6, 0, 0, 5, 6, 3, 0, 8, 9, 2, 8, 0, 0, 5, 1, 8, 3, 0, 7, 3, 6, 8, 6, 5, 4, 3, 7, 7, 3, 9, 3, 5, 6, 7, 3, 1, 1, 4, 8, 9, 2, 9, 4, 6, 6, 3, 8, 3, 4, 4, 6, 0, 2, 4, 8, 0, 9, 2, 9, 7, 7, 9, 3, 5, 8, 7, 0, 8, 4, 3, 9, 6, 2, 2, 1, 4, 6, 8, 1, 8, 7, 1, 2, 2, 8, 1, 3, 9, 1, 1, 7, 9, 2, 5, 9, 2, 8, 1, 1, 8, 7, 7, 8, 6, 5, 7, 9, 4, 5, 5, 1, 9, 6, 5, 9, 9, 4, 1, 1, 8, 4, 3, 0, 2, 9, 7, 4, 4, 9, 5, 2, 3, 0, 2, 4, 9, 7, 6, 8, 1, 2, 4, 3, 0, 7, 2, 6, 7, 0, 6, 0, 1, 3, 4, 5, 2, 0, 0, 0, 4, 9, 2, 1, 5, 7, 3, 1, 0, 5, 9, 6, 3, 6, 3, 0, 4, 2, 8, 0, 5, 1, 7, 5, 2, 8, 2, 5, 0, 8, 8, 9, 4, 5, 6, 9, 6, 5, 3, 0, 8, 8, 2, 3, 7, 6, 5, 8, 7, 3, 3, 8, 4, 8, 3, 2, 6, 8, 3, 9, 4, 3, 4, 7, 1, 7, 9, 1, 4, 4, 3, 1, 4, 7, 0, 6, 5, 6, 3, 7, 0, 3, 2, 7, 9, 8, 0, 7, 7, 2, 6, 7, 0, 1, 8, 0, 6, 7, 7, 4, 5, 0, 1, 2, 2, 7, 3, 7, 1, 5, 6, 1, 7, 9, 7, 1, 8, 6, 7, 3, 2, 5, 7, 6, 3, 9, 3, 2, 4, 7, 7, 5, 0, 8, 4, 6, 6, 8, 4, 9, 5, 5, 0, 5, 4, 3, 3, 7, 5, 6, 9, 9, 7, 6, 9, 6, 3, 7, 5, 7, 1, 6, 6, 1, 7, 3, 0, 7, 8, 0, 5, 8, 0, 1, 0, 7, 7, 8, 0, 0, 5, 4, 1, 7, 3, 4, 5, 3, 5, 0, 4, 1, 1, 3, 4, 8, 0, 9, 1, 5, 2, 7, 3, 6, 8, 5, 2, 0, 6, 7, 6, 8, 5, 9, 4, 4, 0, 0, 2, 0, 1, 2, 4, 0, 4, 8, 5, 2, 3, 4, 1, 8, 4, 0, 5, 2, 5, 7, 8, 5, 6, 9, 4, 9, 2, 5, 5, 4, 3, 4, 5, 4, 0, 8, 1, 7, 2, 9, 8, 0, 3, 3, 1, 9, 7, 9, 5, 0, 7, 4, 1, 9, 2, 6, 5, 1, 4, 0, 3, 2, 2, 4, 8, 9, 0, 0, 1, 4, 8, 9, 1, 7, 3, 8, 9, 5, 0, 7, 5, 9, 4, 1, 7, 5, 6, 6, 6, 2, 9, 6, 6, 6, 9, 8, 3, 4, 1, 9, 8, 9, 1, 3, 3, 3, 2, 5, 6, 7, 2, 9, 8, 5, 4, 1, 3, 5, 0, 8, 6, 8, 9, 2, 1, 9, 4, 5, 6, 6, 0, 3, 3, 3, 4, 1, 9, 4, 9, 4, 4, 8, 8, 9, 4, 8, 9, 2, 2, 2, 2, 3, 0, 7, 9, 9, 9, 5, 6, 4, 3, 2, 4, 0, 9, 6, 4, 5, 9, 2, 7, 3, 1, 7, 2, 3, 5, 4, 3, 3, 5, 9, 1, 4, 0, 4, 8, 9, 1, 5, 1, 4, 5, 4, 7, 9, 5, 5, 1, 5, 0, 4, 9, 4, 9, 3, 4, 7, 6, 5, 9, 7, 2, 1, 8, 4, 4, 4, 2, 9, 6, 6, 4, 6, 8, 5, 6, 8, 1, 7, 1, 2, 2, 0, 4, 4, 1, 3, 2, 6, 3, 9, 0, 3, 2, 0, 7, 1, 2, 0, 6, 6, 1, 4, 6, 7, 4, 1, 5, 9, 8, 3, 9, 4, 6, 5, 4, 4, 3, 8, 5, 1, 3, 5, 9, 4, 5, 1, 6, 4, 5, 3, 8, 2, 6, 8, 6, 5, 7, 9, 5, 3, 2, 9, 2, 4, 9, 6, 2, 3, 5, 0, 7, 7, 7, 6, 5, 0, 5, 6, 9, 5, 6, 3, 1, 5, 1, 5, 2, 1, 9, 9, 9, 7, 2, 2, 3, 3, 1, 1, 2, 9, 9, 0, 2, 6, 8, 1, 3, 5, 9, 1, 7, 7, 3, 1, 7, 0, 2, 2, 0, 1, 4, 0, 2, 0, 0, 5, 3, 8, 7, 1, 7, 1, 2, 6, 0, 6, 0, 9, 7, 0, 6, 2, 8, 3, 8, 0, 2, 6, 2, 6, 5, 8, 3, 4, 1, 0, 2, 9, 9, 5, 6, 3, 6, 7, 6, 4, 6, 1, 9, 0, 6, 0, 7, 4, 4, 3, 8, 5, 7, 9, 3, 6, 0, 7, 4, 1, 9, 4, 4, 0, 5, 8, 3, 0, 1, 8, 2, 4, 5, 0, 7, 3, 2, 5, 3, 5, 1, 9, 3, 5, 0, 0, 3, 6, 0, 6, 9, 8, 5, 6, 5, 2, 8, 4, 2, 7, 2, 6, 6, 2, 5, 8, 2, 0, 4, 6, 8, 9, 9, 7, 4, 8, 3, 3, 3, 3, 6, 1, 0, 5, 6, 3, 9, 7, 9, 6, 0, 2, 3, 8, 6, 4, 3, 2, 5, 8, 7, 8, 9, 2, 4, 0, 6, 3, 2, 7, 6, 9, 8, 8, 3, 3, 5, 5, 6, 7, 3, 5, 0, 3, 8, 9, 5, 6, 7, 9, 0, 9, 5, 0, 2, 2, 0, 3, 5, 4, 9, 0, 0, 1, 6, 0, 3, 4, 2, 1, 6, 4, 3, 8, 1, 2, 3, 9, 3, 8, 2, 5, 6, 5, 6, 9, 8, 4, 0, 8, 7, 7, 5, 1, 9, 7, 5, 2, 7, 1, 0]\n",
      "[9, 6, 6, 2, 4, 9, 9, 3, 3, 4, 2, 8, 0, 4, 5, 8, 4, 3, 4, 6, 5, 0, 7, 8, 4, 8, 7, 7, 7, 1, 8, 8, 1, 6, 7, 6, 0, 3, 1, 2, 8, 2, 5, 2, 6, 0, 0, 5, 6, 3, 0, 8, 9, 2, 8, 0, 0, 5, 1, 8, 3, 0, 7, 3, 6, 8, 6, 5, 4, 3, 7, 7, 3, 9, 3, 5, 6, 7, 3, 1, 1, 4, 8, 9, 2, 9, 4, 6, 6, 3, 8, 3, 4, 4, 6, 0, 2, 4, 8, 0, 9, 2, 9, 7, 7, 9, 3, 5, 8, 7, 0, 8, 4, 3, 9, 6, 2, 2, 1, 4, 6, 8, 1, 8, 7, 1, 2, 2, 8, 1, 3, 9, 1, 1, 7, 9, 2, 5, 9, 2, 8, 1, 1, 8, 7, 7, 8, 6, 5, 7, 9, 4, 5, 5, 1, 9, 6, 5, 9, 9, 4, 1, 1, 8, 4, 3, 0, 2, 9, 7, 4, 4, 9, 5, 2, 3, 0, 2, 4, 9, 7, 6, 8, 1, 2, 4, 3, 0, 7, 2, 6, 7, 0, 6, 0, 1, 3, 4, 5, 2, 0, 0, 0, 4, 9, 2, 1, 5, 7, 3, 1, 0, 5, 9, 6, 3, 6, 3, 0, 4, 2, 8, 0, 5, 1, 7, 5, 2, 8, 2, 5, 0, 8, 8, 9, 4, 5, 6, 9, 6, 5, 3, 0, 8, 8, 2, 3, 7, 6, 5, 8, 7, 3, 3, 8, 4, 8, 3, 2, 6, 8, 3, 9, 4, 3, 4, 7, 1, 7, 9, 1, 4, 4, 3, 1, 4, 7, 0, 6, 5, 6, 3, 7, 0, 3, 2, 7, 9, 8, 0, 7, 7, 2, 6, 7, 0, 1, 8, 0, 6, 7, 7, 4, 5, 0, 1, 2, 2, 7, 3, 7, 1, 5, 6, 1, 7, 9, 7, 1, 8, 6, 7, 3, 2, 5, 7, 6, 3, 9, 3, 2, 4, 7, 7, 5, 0, 8, 4, 6, 6, 8, 4, 9, 5, 5, 0, 5, 4, 3, 3, 7, 5, 6, 9, 9, 7, 6, 9, 6, 3, 7, 5, 7, 1, 6, 6, 1, 7, 3, 0, 7, 8, 0, 5, 8, 0, 1, 0, 7, 7, 8, 0, 0, 5, 4, 1, 7, 3, 4, 5, 3, 5, 0, 4, 1, 1, 3, 4, 8, 0, 9, 1, 5, 2, 7, 3, 6, 8, 5, 2, 0, 6, 7, 6, 8, 5, 9, 4, 4, 0, 0, 2, 0, 1, 2, 4, 0, 4, 8, 5, 2, 3, 4, 1, 8, 4, 0, 5, 2, 5, 7, 8, 5, 6, 9, 4, 9, 2, 5, 5, 4, 3, 4, 5, 4, 0, 8, 1, 7, 2, 9, 8, 0, 3, 3, 1, 9, 7, 9, 5, 0, 7, 4, 1, 9, 2, 6, 5, 1, 4, 0, 3, 2, 2, 4, 8, 9, 0, 0, 1, 4, 8, 9, 1, 7, 3, 8, 9, 5, 0, 7, 5, 9, 4, 1, 7, 5, 6, 6, 6, 2, 9, 6, 6, 6, 9, 8, 3, 4, 1, 9, 8, 9, 1, 3, 3, 3, 2, 5, 6, 7, 2, 9, 8, 5, 4, 1, 3, 5, 0, 8, 6, 8, 9, 2, 1, 9, 4, 5, 6, 6, 0, 3, 3, 3, 4, 1, 9, 4, 9, 4, 4, 8, 8, 9, 4, 8, 9, 2, 2, 2, 2, 3, 0, 7, 9, 9, 9, 5, 6, 4, 3, 2, 4, 0, 9, 6, 4, 5, 9, 2, 7, 3, 1, 7, 2, 3, 5, 4, 3, 3, 5, 9, 1, 4, 0, 4, 8, 9, 1, 5, 1, 4, 5, 4, 7, 9, 5, 5, 1, 5, 0, 4, 9, 4, 9, 3, 4, 7, 6, 5, 9, 7, 2, 1, 8, 4, 4, 4, 2, 9, 6, 6, 4, 6, 8, 5, 6, 8, 1, 7, 1, 2, 2, 0, 4, 4, 1, 3, 2, 6, 3, 9, 0, 3, 2, 0, 7, 1, 2, 0, 6, 6, 1, 4, 6, 7, 4, 1, 5, 9, 8, 3, 9, 4, 6, 5, 4, 4, 3, 8, 5, 1, 3, 5, 9, 4, 5, 1, 6, 4, 5, 3, 8, 2, 6, 8, 6, 5, 7, 9, 5, 3, 2, 9, 2, 4, 9, 6, 2, 3, 5, 0, 7, 7, 7, 6, 5, 0, 5, 6, 9, 5, 6, 3, 1, 5, 1, 5, 2, 1, 9, 9, 9, 7, 2, 2, 3, 3, 1, 1, 2, 9, 9, 0, 2, 6, 8, 1, 3, 5, 9, 1, 7, 7, 3, 1, 7, 0, 2, 2, 0, 1, 4, 0, 2, 0, 0, 5, 3, 8, 7, 1, 7, 1, 2, 6, 0, 6, 0, 9, 7, 0, 6, 2, 8, 3, 8, 0, 2, 6, 2, 6, 5, 8, 3, 4, 1, 0, 2, 9, 9, 5, 6, 3, 6, 7, 6, 4, 6, 1, 9, 0, 6, 0, 7, 4, 4, 3, 8, 5, 7, 9, 3, 6, 0, 7, 4, 1, 9, 4, 4, 0, 5, 8, 3, 0, 1, 8, 2, 4, 5, 0, 7, 3, 2, 5, 3, 5, 1, 9, 3, 5, 0, 0, 3, 6, 0, 6, 9, 8, 5, 6, 5, 2, 8, 4, 2, 7, 2, 6, 6, 2, 5, 8, 2, 0, 4, 6, 8, 9, 9, 7, 4, 8, 3, 3, 3, 3, 6, 1, 0, 5, 6, 3, 9, 7, 9, 6, 0, 2, 3, 8, 6, 4, 3, 2, 5, 8, 7, 8, 9, 2, 4, 0, 6, 3, 2, 7, 6, 9, 8, 8, 3, 3, 5, 5, 6, 7, 3, 5, 0, 3, 8, 9, 5, 6, 7, 9, 0, 9, 5, 0, 2, 2, 0, 3, 5, 4, 9, 0, 0, 1, 6, 0, 3, 4, 2, 1, 6, 4, 3, 8, 1, 2, 3, 9, 3, 8, 2, 5, 6, 5, 6, 9, 8, 4, 0, 8, 7, 7, 5, 1, 9, 7, 5, 2, 7, 1, 0]\n",
      "[9, 6, 6, 2, 4, 9, 9, 3, 3, 4, 2, 8, 0, 4, 5, 8, 4, 3, 4, 6, 5, 0, 7, 8, 4, 8, 7, 7, 7, 1, 8, 8, 1, 6, 7, 6, 0, 3, 1, 2, 8, 2, 5, 2, 6, 0, 0, 5, 6, 3, 0, 8, 9, 2, 8, 0, 0, 5, 1, 8, 3, 0, 7, 3, 6, 8, 6, 5, 4, 3, 7, 7, 3, 9, 3, 5, 6, 7, 3, 1, 1, 4, 8, 9, 2, 9, 4, 6, 6, 3, 8, 3, 4, 4, 6, 0, 2, 4, 8, 0, 9, 2, 9, 7, 7, 9, 3, 5, 8, 7, 0, 8, 4, 3, 9, 6, 2, 2, 1, 4, 6, 8, 1, 8, 7, 1, 2, 2, 8, 1, 3, 9, 1, 1, 7, 9, 2, 5, 9, 2, 8, 1, 1, 8, 7, 7, 8, 6, 5, 7, 9, 4, 5, 5, 1, 9, 6, 5, 9, 9, 4, 1, 1, 8, 4, 3, 0, 2, 9, 7, 4, 4, 9, 5, 2, 3, 0, 2, 4, 9, 7, 6, 8, 1, 2, 4, 3, 0, 7, 2, 6, 7, 0, 6, 0, 1, 3, 4, 5, 2, 0, 0, 0, 4, 9, 2, 1, 5, 7, 3, 1, 0, 5, 9, 6, 3, 6, 3, 0, 4, 2, 8, 0, 5, 1, 7, 5, 2, 8, 2, 5, 0, 8, 8, 9, 4, 5, 6, 9, 6, 5, 3, 0, 8, 8, 2, 3, 7, 6, 5, 8, 7, 3, 3, 8, 4, 8, 3, 2, 6, 8, 3, 9, 4, 3, 4, 7, 1, 7, 9, 1, 4, 4, 3, 1, 4, 7, 0, 6, 5, 6, 3, 7, 0, 3, 2, 7, 9, 8, 0, 7, 7, 2, 6, 7, 0, 1, 8, 0, 6, 7, 7, 4, 5, 0, 1, 2, 2, 7, 3, 7, 1, 5, 6, 1, 7, 9, 7, 1, 8, 6, 7, 3, 2, 5, 7, 6, 3, 9, 3, 2, 4, 7, 7, 5, 0, 8, 4, 6, 6, 8, 4, 9, 5, 5, 0, 5, 4, 3, 3, 7, 5, 6, 9, 9, 7, 6, 9, 6, 3, 7, 5, 7, 1, 6, 6, 1, 7, 3, 0, 7, 8, 0, 5, 8, 0, 1, 0, 7, 7, 8, 0, 0, 5, 4, 1, 7, 3, 4, 5, 3, 5, 0, 4, 1, 1, 3, 4, 8, 0, 9, 1, 5, 2, 7, 3, 6, 8, 5, 2, 0, 6, 7, 6, 8, 5, 9, 4, 4, 0, 0, 2, 0, 1, 2, 4, 0, 4, 8, 5, 2, 3, 4, 1, 8, 4, 0, 5, 2, 5, 7, 8, 5, 6, 9, 4, 9, 2, 5, 5, 4, 3, 4, 5, 4, 0, 8, 1, 7, 2, 9, 8, 0, 3, 3, 1, 9, 7, 9, 5, 0, 7, 4, 1, 9, 2, 6, 5, 1, 4, 0, 3, 2, 2, 4, 8, 9, 0, 0, 1, 4, 8, 9, 1, 7, 3, 8, 9, 5, 0, 7, 5, 9, 4, 1, 7, 5, 6, 6, 6, 2, 9, 6, 6, 6, 9, 8, 3, 4, 1, 9, 8, 9, 1, 3, 3, 3, 2, 5, 6, 7, 2, 9, 8, 5, 4, 1, 3, 5, 0, 8, 6, 8, 9, 2, 1, 9, 4, 5, 6, 6, 0, 3, 3, 3, 4, 1, 9, 4, 9, 4, 4, 8, 8, 9, 4, 8, 9, 2, 2, 2, 2, 3, 0, 7, 9, 9, 9, 5, 6, 4, 3, 2, 4, 0, 9, 6, 4, 5, 9, 2, 7, 3, 1, 7, 2, 3, 5, 4, 3, 3, 5, 9, 1, 4, 0, 4, 8, 9, 1, 5, 1, 4, 5, 4, 7, 9, 5, 5, 1, 5, 0, 4, 9, 4, 9, 3, 4, 7, 6, 5, 9, 7, 2, 1, 8, 4, 4, 4, 2, 9, 6, 6, 4, 6, 8, 5, 6, 8, 1, 7, 1, 2, 2, 0, 4, 4, 1, 3, 2, 6, 3, 9, 0, 3, 2, 0, 7, 1, 2, 0, 6, 6, 1, 4, 6, 7, 4, 1, 5, 9, 8, 3, 9, 4, 6, 5, 4, 4, 3, 8, 5, 1, 3, 5, 9, 4, 5, 1, 6, 4, 5, 3, 8, 2, 6, 8, 6, 5, 7, 9, 5, 3, 2, 9, 2, 4, 9, 6, 2, 3, 5, 0, 7, 7, 7, 6, 5, 0, 5, 6, 9, 5, 6, 3, 1, 5, 1, 5, 2, 1, 9, 9, 9, 7, 2, 2, 3, 3, 1, 1, 2, 9, 9, 0, 2, 6, 8, 1, 3, 5, 9, 1, 7, 7, 3, 1, 7, 0, 2, 2, 0, 1, 4, 0, 2, 0, 0, 5, 3, 8, 7, 1, 7, 1, 2, 6, 0, 6, 0, 9, 7, 0, 6, 2, 8, 3, 8, 0, 2, 6, 2, 6, 5, 8, 3, 4, 1, 0, 2, 9, 9, 5, 6, 3, 6, 7, 6, 4, 6, 1, 9, 0, 6, 0, 7, 4, 4, 3, 8, 5, 7, 9, 3, 6, 0, 7, 4, 1, 9, 4, 4, 0, 5, 8, 3, 0, 1, 8, 2, 4, 5, 0, 7, 3, 2, 5, 3, 5, 1, 9, 3, 5, 0, 0, 3, 6, 0, 6, 9, 8, 5, 6, 5, 2, 8, 4, 2, 7, 2, 6, 6, 2, 5, 8, 2, 0, 4, 6, 8, 9, 9, 7, 4, 8, 3, 3, 3, 3, 6, 1, 0, 5, 6, 3, 9, 7, 9, 6, 0, 2, 3, 8, 6, 4, 3, 2, 5, 8, 7, 8, 9, 2, 4, 0, 6, 3, 2, 7, 6, 9, 8, 8, 3, 3, 5, 5, 6, 7, 3, 5, 0, 3, 8, 9, 5, 6, 7, 9, 0, 9, 5, 0, 2, 2, 0, 3, 5, 4, 9, 0, 0, 1, 6, 0, 3, 4, 2, 1, 6, 4, 3, 8, 1, 2, 3, 9, 3, 8, 2, 5, 6, 5, 6, 9, 8, 4, 0, 8, 7, 7, 5, 1, 9, 7, 5, 2, 7, 1, 0]\n",
      "[9, 6, 6, 2, 4, 9, 9, 3, 3, 4, 2, 8, 0, 4, 5, 8, 4, 3, 4, 6, 5, 0, 7, 8, 4, 8, 7, 7, 7, 1, 8, 8, 1, 6, 7, 6, 0, 3, 1, 2, 8, 2, 5, 2, 6, 0, 0, 5, 6, 3, 0, 8, 9, 2, 8, 0, 0, 5, 1, 8, 3, 0, 7, 3, 6, 8, 6, 5, 4, 3, 7, 7, 3, 9, 3, 5, 6, 7, 3, 1, 1, 4, 8, 9, 2, 9, 4, 6, 6, 3, 8, 3, 4, 4, 6, 0, 2, 4, 8, 0, 9, 2, 9, 7, 7, 9, 3, 5, 8, 7, 0, 8, 4, 3, 9, 6, 2, 2, 1, 4, 6, 8, 1, 8, 7, 1, 2, 2, 8, 1, 3, 9, 1, 1, 7, 9, 2, 5, 9, 2, 8, 1, 1, 8, 7, 7, 8, 6, 5, 7, 9, 4, 5, 5, 1, 9, 6, 5, 9, 9, 4, 1, 1, 8, 4, 3, 0, 2, 9, 7, 4, 4, 9, 5, 2, 3, 0, 2, 4, 9, 7, 6, 8, 1, 2, 4, 3, 0, 7, 2, 6, 7, 0, 6, 0, 1, 3, 4, 5, 2, 0, 0, 0, 4, 9, 2, 1, 5, 7, 3, 1, 0, 5, 9, 6, 3, 6, 3, 0, 4, 2, 8, 0, 5, 1, 7, 5, 2, 8, 2, 5, 0, 8, 8, 9, 4, 5, 6, 9, 6, 5, 3, 0, 8, 8, 2, 3, 7, 6, 5, 8, 7, 3, 3, 8, 4, 8, 3, 2, 6, 8, 3, 9, 4, 3, 4, 7, 1, 7, 9, 1, 4, 4, 3, 1, 4, 7, 0, 6, 5, 6, 3, 7, 0, 3, 2, 7, 9, 8, 0, 7, 7, 2, 6, 7, 0, 1, 8, 0, 6, 7, 7, 4, 5, 0, 1, 2, 2, 7, 3, 7, 1, 5, 6, 1, 7, 9, 7, 1, 8, 6, 7, 3, 2, 5, 7, 6, 3, 9, 3, 2, 4, 7, 7, 5, 0, 8, 4, 6, 6, 8, 4, 9, 5, 5, 0, 5, 4, 3, 3, 7, 5, 6, 9, 9, 7, 6, 9, 6, 3, 7, 5, 7, 1, 6, 6, 1, 7, 3, 0, 7, 8, 0, 5, 8, 0, 1, 0, 7, 7, 8, 0, 0, 5, 4, 1, 7, 3, 4, 5, 3, 5, 0, 4, 1, 1, 3, 4, 8, 0, 9, 1, 5, 2, 7, 3, 6, 8, 5, 2, 0, 6, 7, 6, 8, 5, 9, 4, 4, 0, 0, 2, 0, 1, 2, 4, 0, 4, 8, 5, 2, 3, 4, 1, 8, 4, 0, 5, 2, 5, 7, 8, 5, 6, 9, 4, 9, 2, 5, 5, 4, 3, 4, 5, 4, 0, 8, 1, 7, 2, 9, 8, 0, 3, 3, 1, 9, 7, 9, 5, 0, 7, 4, 1, 9, 2, 6, 5, 1, 4, 0, 3, 2, 2, 4, 8, 9, 0, 0, 1, 4, 8, 9, 1, 7, 3, 8, 9, 5, 0, 7, 5, 9, 4, 1, 7, 5, 6, 6, 6, 2, 9, 6, 6, 6, 9, 8, 3, 4, 1, 9, 8, 9, 1, 3, 3, 3, 2, 5, 6, 7, 2, 9, 8, 5, 4, 1, 3, 5, 0, 8, 6, 8, 9, 2, 1, 9, 4, 5, 6, 6, 0, 3, 3, 3, 4, 1, 9, 4, 9, 4, 4, 8, 8, 9, 4, 8, 9, 2, 2, 2, 2, 3, 0, 7, 9, 9, 9, 5, 6, 4, 3, 2, 4, 0, 9, 6, 4, 5, 9, 2, 7, 3, 1, 7, 2, 3, 5, 4, 3, 3, 5, 9, 1, 4, 0, 4, 8, 9, 1, 5, 1, 4, 5, 4, 7, 9, 5, 5, 1, 5, 0, 4, 9, 4, 9, 3, 4, 7, 6, 5, 9, 7, 2, 1, 8, 4, 4, 4, 2, 9, 6, 6, 4, 6, 8, 5, 6, 8, 1, 7, 1, 2, 2, 0, 4, 4, 1, 3, 2, 6, 3, 9, 0, 3, 2, 0, 7, 1, 2, 0, 6, 6, 1, 4, 6, 7, 4, 1, 5, 9, 8, 3, 9, 4, 6, 5, 4, 4, 3, 8, 5, 1, 3, 5, 9, 4, 5, 1, 6, 4, 5, 3, 8, 2, 6, 8, 6, 5, 7, 9, 5, 3, 2, 9, 2, 4, 9, 6, 2, 3, 5, 0, 7, 7, 7, 6, 5, 0, 5, 6, 9, 5, 6, 3, 1, 5, 1, 5, 2, 1, 9, 9, 9, 7, 2, 2, 3, 3, 1, 1, 2, 9, 9, 0, 2, 6, 8, 1, 3, 5, 9, 1, 7, 7, 3, 1, 7, 0, 2, 2, 0, 1, 4, 0, 2, 0, 0, 5, 3, 8, 7, 1, 7, 1, 2, 6, 0, 6, 0, 9, 7, 0, 6, 2, 8, 3, 8, 0, 2, 6, 2, 6, 5, 8, 3, 4, 1, 0, 2, 9, 9, 5, 6, 3, 6, 7, 6, 4, 6, 1, 9, 0, 6, 0, 7, 4, 4, 3, 8, 5, 7, 9, 3, 6, 0, 7, 4, 1, 9, 4, 4, 0, 5, 8, 3, 0, 1, 8, 2, 4, 5, 0, 7, 3, 2, 5, 3, 5, 1, 9, 3, 5, 0, 0, 3, 6, 0, 6, 9, 8, 5, 6, 5, 2, 8, 4, 2, 7, 2, 6, 6, 2, 5, 8, 2, 0, 4, 6, 8, 9, 9, 7, 4, 8, 3, 3, 3, 3, 6, 1, 0, 5, 6, 3, 9, 7, 9, 6, 0, 2, 3, 8, 6, 4, 3, 2, 5, 8, 7, 8, 9, 2, 4, 0, 6, 3, 2, 7, 6, 9, 8, 8, 3, 3, 5, 5, 6, 7, 3, 5, 0, 3, 8, 9, 5, 6, 7, 9, 0, 9, 5, 0, 2, 2, 0, 3, 5, 4, 9, 0, 0, 1, 6, 0, 3, 4, 2, 1, 6, 4, 3, 8, 1, 2, 3, 9, 3, 8, 2, 5, 6, 5, 6, 9, 8, 4, 0, 8, 7, 7, 5, 1, 9, 7, 5, 2, 7, 1, 0]\n",
      "[9, 6, 6, 2, 4, 9, 9, 3, 3, 4, 2, 8, 0, 4, 5, 8, 4, 3, 4, 6, 5, 0, 7, 8, 4, 8, 7, 7, 7, 1, 8, 8, 1, 6, 7, 6, 0, 3, 1, 2, 8, 2, 5, 2, 6, 0, 0, 5, 6, 3, 0, 8, 9, 2, 8, 0, 0, 5, 1, 8, 3, 0, 7, 3, 6, 8, 6, 5, 4, 3, 7, 7, 3, 9, 3, 5, 6, 7, 3, 1, 1, 4, 8, 9, 2, 9, 4, 6, 6, 3, 8, 3, 4, 4, 6, 0, 2, 4, 8, 0, 9, 2, 9, 7, 7, 9, 3, 5, 8, 7, 0, 8, 4, 3, 9, 6, 2, 2, 1, 4, 6, 8, 1, 8, 7, 1, 2, 2, 8, 1, 3, 9, 1, 1, 7, 9, 2, 5, 9, 2, 8, 1, 1, 8, 7, 7, 8, 6, 5, 7, 9, 4, 5, 5, 1, 9, 6, 5, 9, 9, 4, 1, 1, 8, 4, 3, 0, 2, 9, 7, 4, 4, 9, 5, 2, 3, 0, 2, 4, 9, 7, 6, 8, 1, 2, 4, 3, 0, 7, 2, 6, 7, 0, 6, 0, 1, 3, 4, 5, 2, 0, 0, 0, 4, 9, 2, 1, 5, 7, 3, 1, 0, 5, 9, 6, 3, 6, 3, 0, 4, 2, 8, 0, 5, 1, 7, 5, 2, 8, 2, 5, 0, 8, 8, 9, 4, 5, 6, 9, 6, 5, 3, 0, 8, 8, 2, 3, 7, 6, 5, 8, 7, 3, 3, 8, 4, 8, 3, 2, 6, 8, 3, 9, 4, 3, 4, 7, 1, 7, 9, 1, 4, 4, 3, 1, 4, 7, 0, 6, 5, 6, 3, 7, 0, 3, 2, 7, 9, 8, 0, 7, 7, 2, 6, 7, 0, 1, 8, 0, 6, 7, 7, 4, 5, 0, 1, 2, 2, 7, 3, 7, 1, 5, 6, 1, 7, 9, 7, 1, 8, 6, 7, 3, 2, 5, 7, 6, 3, 9, 3, 2, 4, 7, 7, 5, 0, 8, 4, 6, 6, 8, 4, 9, 5, 5, 0, 5, 4, 3, 3, 7, 5, 6, 9, 9, 7, 6, 9, 6, 3, 7, 5, 7, 1, 6, 6, 1, 7, 3, 0, 7, 8, 0, 5, 8, 0, 1, 0, 7, 7, 8, 0, 0, 5, 4, 1, 7, 3, 4, 5, 3, 5, 0, 4, 1, 1, 3, 4, 8, 0, 9, 1, 5, 2, 7, 3, 6, 8, 5, 2, 0, 6, 7, 6, 8, 5, 9, 4, 4, 0, 0, 2, 0, 1, 2, 4, 0, 4, 8, 5, 2, 3, 4, 1, 8, 4, 0, 5, 2, 5, 7, 8, 5, 6, 9, 4, 9, 2, 5, 5, 4, 3, 4, 5, 4, 0, 8, 1, 7, 2, 9, 8, 0, 3, 3, 1, 9, 7, 9, 5, 0, 7, 4, 1, 9, 2, 6, 5, 1, 4, 0, 3, 2, 2, 4, 8, 9, 0, 0, 1, 4, 8, 9, 1, 7, 3, 8, 9, 5, 0, 7, 5, 9, 4, 1, 7, 5, 6, 6, 6, 2, 9, 6, 6, 6, 9, 8, 3, 4, 1, 9, 8, 9, 1, 3, 3, 3, 2, 5, 6, 7, 2, 9, 8, 5, 4, 1, 3, 5, 0, 8, 6, 8, 9, 2, 1, 9, 4, 5, 6, 6, 0, 3, 3, 3, 4, 1, 9, 4, 9, 4, 4, 8, 8, 9, 4, 8, 9, 2, 2, 2, 2, 3, 0, 7, 9, 9, 9, 5, 6, 4, 3, 2, 4, 0, 9, 6, 4, 5, 9, 2, 7, 3, 1, 7, 2, 3, 5, 4, 3, 3, 5, 9, 1, 4, 0, 4, 8, 9, 1, 5, 1, 4, 5, 4, 7, 9, 5, 5, 1, 5, 0, 4, 9, 4, 9, 3, 4, 7, 6, 5, 9, 7, 2, 1, 8, 4, 4, 4, 2, 9, 6, 6, 4, 6, 8, 5, 6, 8, 1, 7, 1, 2, 2, 0, 4, 4, 1, 3, 2, 6, 3, 9, 0, 3, 2, 0, 7, 1, 2, 0, 6, 6, 1, 4, 6, 7, 4, 1, 5, 9, 8, 3, 9, 4, 6, 5, 4, 4, 3, 8, 5, 1, 3, 5, 9, 4, 5, 1, 6, 4, 5, 3, 8, 2, 6, 8, 6, 5, 7, 9, 5, 3, 2, 9, 2, 4, 9, 6, 2, 3, 5, 0, 7, 7, 7, 6, 5, 0, 5, 6, 9, 5, 6, 3, 1, 5, 1, 5, 2, 1, 9, 9, 9, 7, 2, 2, 3, 3, 1, 1, 2, 9, 9, 0, 2, 6, 8, 1, 3, 5, 9, 1, 7, 7, 3, 1, 7, 0, 2, 2, 0, 1, 4, 0, 2, 0, 0, 5, 3, 8, 7, 1, 7, 1, 2, 6, 0, 6, 0, 9, 7, 0, 6, 2, 8, 3, 8, 0, 2, 6, 2, 6, 5, 8, 3, 4, 1, 0, 2, 9, 9, 5, 6, 3, 6, 7, 6, 4, 6, 1, 9, 0, 6, 0, 7, 4, 4, 3, 8, 5, 7, 9, 3, 6, 0, 7, 4, 1, 9, 4, 4, 0, 5, 8, 3, 0, 1, 8, 2, 4, 5, 0, 7, 3, 2, 5, 3, 5, 1, 9, 3, 5, 0, 0, 3, 6, 0, 6, 9, 8, 5, 6, 5, 2, 8, 4, 2, 7, 2, 6, 6, 2, 5, 8, 2, 0, 4, 6, 8, 9, 9, 7, 4, 8, 3, 3, 3, 3, 6, 1, 0, 5, 6, 3, 9, 7, 9, 6, 0, 2, 3, 8, 6, 4, 3, 2, 5, 8, 7, 8, 9, 2, 4, 0, 6, 3, 2, 7, 6, 9, 8, 8, 3, 3, 5, 5, 6, 7, 3, 5, 0, 3, 8, 9, 5, 6, 7, 9, 0, 9, 5, 0, 2, 2, 0, 3, 5, 4, 9, 0, 0, 1, 6, 0, 3, 4, 2, 1, 6, 4, 3, 8, 1, 2, 3, 9, 3, 8, 2, 5, 6, 5, 6, 9, 8, 4, 0, 8, 7, 7, 5, 1, 9, 7, 5, 2, 7, 1, 0]\n",
      "[9, 6, 6, 2, 4, 9, 9, 3, 3, 4, 2, 8, 0, 4, 5, 8, 4, 3, 4, 6, 5, 0, 7, 8, 4, 8, 7, 7, 7, 1, 8, 8, 1, 6, 7, 6, 0, 3, 1, 2, 8, 2, 5, 2, 6, 0, 0, 5, 6, 3, 0, 8, 9, 2, 8, 0, 0, 5, 1, 8, 3, 0, 7, 3, 6, 8, 6, 5, 4, 3, 7, 7, 3, 9, 3, 5, 6, 7, 3, 1, 1, 4, 8, 9, 2, 9, 4, 6, 6, 3, 8, 3, 4, 4, 6, 0, 2, 4, 8, 0, 9, 2, 9, 7, 7, 9, 3, 5, 8, 7, 0, 8, 4, 3, 9, 6, 2, 2, 1, 4, 6, 8, 1, 8, 7, 1, 2, 2, 8, 1, 3, 9, 1, 1, 7, 9, 2, 5, 9, 2, 8, 1, 1, 8, 7, 7, 8, 6, 5, 7, 9, 4, 5, 5, 1, 9, 6, 5, 9, 9, 4, 1, 1, 8, 4, 3, 0, 2, 9, 7, 4, 4, 9, 5, 2, 3, 0, 2, 4, 9, 7, 6, 8, 1, 2, 4, 3, 0, 7, 2, 6, 7, 0, 6, 0, 1, 3, 4, 5, 2, 0, 0, 0, 4, 9, 2, 1, 5, 7, 3, 1, 0, 5, 9, 6, 3, 6, 3, 0, 4, 2, 8, 0, 5, 1, 7, 5, 2, 8, 2, 5, 0, 8, 8, 9, 4, 5, 6, 9, 6, 5, 3, 0, 8, 8, 2, 3, 7, 6, 5, 8, 7, 3, 3, 8, 4, 8, 3, 2, 6, 8, 3, 9, 4, 3, 4, 7, 1, 7, 9, 1, 4, 4, 3, 1, 4, 7, 0, 6, 5, 6, 3, 7, 0, 3, 2, 7, 9, 8, 0, 7, 7, 2, 6, 7, 0, 1, 8, 0, 6, 7, 7, 4, 5, 0, 1, 2, 2, 7, 3, 7, 1, 5, 6, 1, 7, 9, 7, 1, 8, 6, 7, 3, 2, 5, 7, 6, 3, 9, 3, 2, 4, 7, 7, 5, 0, 8, 4, 6, 6, 8, 4, 9, 5, 5, 0, 5, 4, 3, 3, 7, 5, 6, 9, 9, 7, 6, 9, 6, 3, 7, 5, 7, 1, 6, 6, 1, 7, 3, 0, 7, 8, 0, 5, 8, 0, 1, 0, 7, 7, 8, 0, 0, 5, 4, 1, 7, 3, 4, 5, 3, 5, 0, 4, 1, 1, 3, 4, 8, 0, 9, 1, 5, 2, 7, 3, 6, 8, 5, 2, 0, 6, 7, 6, 8, 5, 9, 4, 4, 0, 0, 2, 0, 1, 2, 4, 0, 4, 8, 5, 2, 3, 4, 1, 8, 4, 0, 5, 2, 5, 7, 8, 5, 6, 9, 4, 9, 2, 5, 5, 4, 3, 4, 5, 4, 0, 8, 1, 7, 2, 9, 8, 0, 3, 3, 1, 9, 7, 9, 5, 0, 7, 4, 1, 9, 2, 6, 5, 1, 4, 0, 3, 2, 2, 4, 8, 9, 0, 0, 1, 4, 8, 9, 1, 7, 3, 8, 9, 5, 0, 7, 5, 9, 4, 1, 7, 5, 6, 6, 6, 2, 9, 6, 6, 6, 9, 8, 3, 4, 1, 9, 8, 9, 1, 3, 3, 3, 2, 5, 6, 7, 2, 9, 8, 5, 4, 1, 3, 5, 0, 8, 6, 8, 9, 2, 1, 9, 4, 5, 6, 6, 0, 3, 3, 3, 4, 1, 9, 4, 9, 4, 4, 8, 8, 9, 4, 8, 9, 2, 2, 2, 2, 3, 0, 7, 9, 9, 9, 5, 6, 4, 3, 2, 4, 0, 9, 6, 4, 5, 9, 2, 7, 3, 1, 7, 2, 3, 5, 4, 3, 3, 5, 9, 1, 4, 0, 4, 8, 9, 1, 5, 1, 4, 5, 4, 7, 9, 5, 5, 1, 5, 0, 4, 9, 4, 9, 3, 4, 7, 6, 5, 9, 7, 2, 1, 8, 4, 4, 4, 2, 9, 6, 6, 4, 6, 8, 5, 6, 8, 1, 7, 1, 2, 2, 0, 4, 4, 1, 3, 2, 6, 3, 9, 0, 3, 2, 0, 7, 1, 2, 0, 6, 6, 1, 4, 6, 7, 4, 1, 5, 9, 8, 3, 9, 4, 6, 5, 4, 4, 3, 8, 5, 1, 3, 5, 9, 4, 5, 1, 6, 4, 5, 3, 8, 2, 6, 8, 6, 5, 7, 9, 5, 3, 2, 9, 2, 4, 9, 6, 2, 3, 5, 0, 7, 7, 7, 6, 5, 0, 5, 6, 9, 5, 6, 3, 1, 5, 1, 5, 2, 1, 9, 9, 9, 7, 2, 2, 3, 3, 1, 1, 2, 9, 9, 0, 2, 6, 8, 1, 3, 5, 9, 1, 7, 7, 3, 1, 7, 0, 2, 2, 0, 1, 4, 0, 2, 0, 0, 5, 3, 8, 7, 1, 7, 1, 2, 6, 0, 6, 0, 9, 7, 0, 6, 2, 8, 3, 8, 0, 2, 6, 2, 6, 5, 8, 3, 4, 1, 0, 2, 9, 9, 5, 6, 3, 6, 7, 6, 4, 6, 1, 9, 0, 6, 0, 7, 4, 4, 3, 8, 5, 7, 9, 3, 6, 0, 7, 4, 1, 9, 4, 4, 0, 5, 8, 3, 0, 1, 8, 2, 4, 5, 0, 7, 3, 2, 5, 3, 5, 1, 9, 3, 5, 0, 0, 3, 6, 0, 6, 9, 8, 5, 6, 5, 2, 8, 4, 2, 7, 2, 6, 6, 2, 5, 8, 2, 0, 4, 6, 8, 9, 9, 7, 4, 8, 3, 3, 3, 3, 6, 1, 0, 5, 6, 3, 9, 7, 9, 6, 0, 2, 3, 8, 6, 4, 3, 2, 5, 8, 7, 8, 9, 2, 4, 0, 6, 3, 2, 7, 6, 9, 8, 8, 3, 3, 5, 5, 6, 7, 3, 5, 0, 3, 8, 9, 5, 6, 7, 9, 0, 9, 5, 0, 2, 2, 0, 3, 5, 4, 9, 0, 0, 1, 6, 0, 3, 4, 2, 1, 6, 4, 3, 8, 1, 2, 3, 9, 3, 8, 2, 5, 6, 5, 6, 9, 8, 4, 0, 8, 7, 7, 5, 1, 9, 7, 5, 2, 7, 1, 0]\n",
      "[9, 6, 6, 2, 4, 9, 9, 3, 3, 4, 2, 8, 0, 4, 5, 8, 4, 3, 4, 6, 5, 0, 7, 8, 4, 8, 7, 7, 7, 1, 8, 8, 1, 6, 7, 6, 0, 3, 1, 2, 8, 2, 5, 2, 6, 0, 0, 5, 6, 3, 0, 8, 9, 2, 8, 0, 0, 5, 1, 8, 3, 0, 7, 3, 6, 8, 6, 5, 4, 3, 7, 7, 3, 9, 3, 5, 6, 7, 3, 1, 1, 4, 8, 9, 2, 9, 4, 6, 6, 3, 8, 3, 4, 4, 6, 0, 2, 4, 8, 0, 9, 2, 9, 7, 7, 9, 3, 5, 8, 7, 0, 8, 4, 3, 9, 6, 2, 2, 1, 4, 6, 8, 1, 8, 7, 1, 2, 2, 8, 1, 3, 9, 1, 1, 7, 9, 2, 5, 9, 2, 8, 1, 1, 8, 7, 7, 8, 6, 5, 7, 9, 4, 5, 5, 1, 9, 6, 5, 9, 9, 4, 1, 1, 8, 4, 3, 0, 2, 9, 7, 4, 4, 9, 5, 2, 3, 0, 2, 4, 9, 7, 6, 8, 1, 2, 4, 3, 0, 7, 2, 6, 7, 0, 6, 0, 1, 3, 4, 5, 2, 0, 0, 0, 4, 9, 2, 1, 5, 7, 3, 1, 0, 5, 9, 6, 3, 6, 3, 0, 4, 2, 8, 0, 5, 1, 7, 5, 2, 8, 2, 5, 0, 8, 8, 9, 4, 5, 6, 9, 6, 5, 3, 0, 8, 8, 2, 3, 7, 6, 5, 8, 7, 3, 3, 8, 4, 8, 3, 2, 6, 8, 3, 9, 4, 3, 4, 7, 1, 7, 9, 1, 4, 4, 3, 1, 4, 7, 0, 6, 5, 6, 3, 7, 0, 3, 2, 7, 9, 8, 0, 7, 7, 2, 6, 7, 0, 1, 8, 0, 6, 7, 7, 4, 5, 0, 1, 2, 2, 7, 3, 7, 1, 5, 6, 1, 7, 9, 7, 1, 8, 6, 7, 3, 2, 5, 7, 6, 3, 9, 3, 2, 4, 7, 7, 5, 0, 8, 4, 6, 6, 8, 4, 9, 5, 5, 0, 5, 4, 3, 3, 7, 5, 6, 9, 9, 7, 6, 9, 6, 3, 7, 5, 7, 1, 6, 6, 1, 7, 3, 0, 7, 8, 0, 5, 8, 0, 1, 0, 7, 7, 8, 0, 0, 5, 4, 1, 7, 3, 4, 5, 3, 5, 0, 4, 1, 1, 3, 4, 8, 0, 9, 1, 5, 2, 7, 3, 6, 8, 5, 2, 0, 6, 7, 6, 8, 5, 9, 4, 4, 0, 0, 2, 0, 1, 2, 4, 0, 4, 8, 5, 2, 3, 4, 1, 8, 4, 0, 5, 2, 5, 7, 8, 5, 6, 9, 4, 9, 2, 5, 5, 4, 3, 4, 5, 4, 0, 8, 1, 7, 2, 9, 8, 0, 3, 3, 1, 9, 7, 9, 5, 0, 7, 4, 1, 9, 2, 6, 5, 1, 4, 0, 3, 2, 2, 4, 8, 9, 0, 0, 1, 4, 8, 9, 1, 7, 3, 8, 9, 5, 0, 7, 5, 9, 4, 1, 7, 5, 6, 6, 6, 2, 9, 6, 6, 6, 9, 8, 3, 4, 1, 9, 8, 9, 1, 3, 3, 3, 2, 5, 6, 7, 2, 9, 8, 5, 4, 1, 3, 5, 0, 8, 6, 8, 9, 2, 1, 9, 4, 5, 6, 6, 0, 3, 3, 3, 4, 1, 9, 4, 9, 4, 4, 8, 8, 9, 4, 8, 9, 2, 2, 2, 2, 3, 0, 7, 9, 9, 9, 5, 6, 4, 3, 2, 4, 0, 9, 6, 4, 5, 9, 2, 7, 3, 1, 7, 2, 3, 5, 4, 3, 3, 5, 9, 1, 4, 0, 4, 8, 9, 1, 5, 1, 4, 5, 4, 7, 9, 5, 5, 1, 5, 0, 4, 9, 4, 9, 3, 4, 7, 6, 5, 9, 7, 2, 1, 8, 4, 4, 4, 2, 9, 6, 6, 4, 6, 8, 5, 6, 8, 1, 7, 1, 2, 2, 0, 4, 4, 1, 3, 2, 6, 3, 9, 0, 3, 2, 0, 7, 1, 2, 0, 6, 6, 1, 4, 6, 7, 4, 1, 5, 9, 8, 3, 9, 4, 6, 5, 4, 4, 3, 8, 5, 1, 3, 5, 9, 4, 5, 1, 6, 4, 5, 3, 8, 2, 6, 8, 6, 5, 7, 9, 5, 3, 2, 9, 2, 4, 9, 6, 2, 3, 5, 0, 7, 7, 7, 6, 5, 0, 5, 6, 9, 5, 6, 3, 1, 5, 1, 5, 2, 1, 9, 9, 9, 7, 2, 2, 3, 3, 1, 1, 2, 9, 9, 0, 2, 6, 8, 1, 3, 5, 9, 1, 7, 7, 3, 1, 7, 0, 2, 2, 0, 1, 4, 0, 2, 0, 0, 5, 3, 8, 7, 1, 7, 1, 2, 6, 0, 6, 0, 9, 7, 0, 6, 2, 8, 3, 8, 0, 2, 6, 2, 6, 5, 8, 3, 4, 1, 0, 2, 9, 9, 5, 6, 3, 6, 7, 6, 4, 6, 1, 9, 0, 6, 0, 7, 4, 4, 3, 8, 5, 7, 9, 3, 6, 0, 7, 4, 1, 9, 4, 4, 0, 5, 8, 3, 0, 1, 8, 2, 4, 5, 0, 7, 3, 2, 5, 3, 5, 1, 9, 3, 5, 0, 0, 3, 6, 0, 6, 9, 8, 5, 6, 5, 2, 8, 4, 2, 7, 2, 6, 6, 2, 5, 8, 2, 0, 4, 6, 8, 9, 9, 7, 4, 8, 3, 3, 3, 3, 6, 1, 0, 5, 6, 3, 9, 7, 9, 6, 0, 2, 3, 8, 6, 4, 3, 2, 5, 8, 7, 8, 9, 2, 4, 0, 6, 3, 2, 7, 6, 9, 8, 8, 3, 3, 5, 5, 6, 7, 3, 5, 0, 3, 8, 9, 5, 6, 7, 9, 0, 9, 5, 0, 2, 2, 0, 3, 5, 4, 9, 0, 0, 1, 6, 0, 3, 4, 2, 1, 6, 4, 3, 8, 1, 2, 3, 9, 3, 8, 2, 5, 6, 5, 6, 9, 8, 4, 0, 8, 7, 7, 5, 1, 9, 7, 5, 2, 7, 1, 0]\n",
      "[9, 6, 6, 2, 4, 9, 9, 3, 3, 4, 2, 8, 0, 4, 5, 8, 4, 3, 4, 6, 5, 0, 7, 8, 4, 8, 7, 7, 7, 1, 8, 8, 1, 6, 7, 6, 0, 3, 1, 2, 8, 2, 5, 2, 6, 0, 0, 5, 6, 3, 0, 8, 9, 2, 8, 0, 0, 5, 1, 8, 3, 0, 7, 3, 6, 8, 6, 5, 4, 3, 7, 7, 3, 9, 3, 5, 6, 7, 3, 1, 1, 4, 8, 9, 2, 9, 4, 6, 6, 3, 8, 3, 4, 4, 6, 0, 2, 4, 8, 0, 9, 2, 9, 7, 7, 9, 3, 5, 8, 7, 0, 8, 4, 3, 9, 6, 2, 2, 1, 4, 6, 8, 1, 8, 7, 1, 2, 2, 8, 1, 3, 9, 1, 1, 7, 9, 2, 5, 9, 2, 8, 1, 1, 8, 7, 7, 8, 6, 5, 7, 9, 4, 5, 5, 1, 9, 6, 5, 9, 9, 4, 1, 1, 8, 4, 3, 0, 2, 9, 7, 4, 4, 9, 5, 2, 3, 0, 2, 4, 9, 7, 6, 8, 1, 2, 4, 3, 0, 7, 2, 6, 7, 0, 6, 0, 1, 3, 4, 5, 2, 0, 0, 0, 4, 9, 2, 1, 5, 7, 3, 1, 0, 5, 9, 6, 3, 6, 3, 0, 4, 2, 8, 0, 5, 1, 7, 5, 2, 8, 2, 5, 0, 8, 8, 9, 4, 5, 6, 9, 6, 5, 3, 0, 8, 8, 2, 3, 7, 6, 5, 8, 7, 3, 3, 8, 4, 8, 3, 2, 6, 8, 3, 9, 4, 3, 4, 7, 1, 7, 9, 1, 4, 4, 3, 1, 4, 7, 0, 6, 5, 6, 3, 7, 0, 3, 2, 7, 9, 8, 0, 7, 7, 2, 6, 7, 0, 1, 8, 0, 6, 7, 7, 4, 5, 0, 1, 2, 2, 7, 3, 7, 1, 5, 6, 1, 7, 9, 7, 1, 8, 6, 7, 3, 2, 5, 7, 6, 3, 9, 3, 2, 4, 7, 7, 5, 0, 8, 4, 6, 6, 8, 4, 9, 5, 5, 0, 5, 4, 3, 3, 7, 5, 6, 9, 9, 7, 6, 9, 6, 3, 7, 5, 7, 1, 6, 6, 1, 7, 3, 0, 7, 8, 0, 5, 8, 0, 1, 0, 7, 7, 8, 0, 0, 5, 4, 1, 7, 3, 4, 5, 3, 5, 0, 4, 1, 1, 3, 4, 8, 0, 9, 1, 5, 2, 7, 3, 6, 8, 5, 2, 0, 6, 7, 6, 8, 5, 9, 4, 4, 0, 0, 2, 0, 1, 2, 4, 0, 4, 8, 5, 2, 3, 4, 1, 8, 4, 0, 5, 2, 5, 7, 8, 5, 6, 9, 4, 9, 2, 5, 5, 4, 3, 4, 5, 4, 0, 8, 1, 7, 2, 9, 8, 0, 3, 3, 1, 9, 7, 9, 5, 0, 7, 4, 1, 9, 2, 6, 5, 1, 4, 0, 3, 2, 2, 4, 8, 9, 0, 0, 1, 4, 8, 9, 1, 7, 3, 8, 9, 5, 0, 7, 5, 9, 4, 1, 7, 5, 6, 6, 6, 2, 9, 6, 6, 6, 9, 8, 3, 4, 1, 9, 8, 9, 1, 3, 3, 3, 2, 5, 6, 7, 2, 9, 8, 5, 4, 1, 3, 5, 0, 8, 6, 8, 9, 2, 1, 9, 4, 5, 6, 6, 0, 3, 3, 3, 4, 1, 9, 4, 9, 4, 4, 8, 8, 9, 4, 8, 9, 2, 2, 2, 2, 3, 0, 7, 9, 9, 9, 5, 6, 4, 3, 2, 4, 0, 9, 6, 4, 5, 9, 2, 7, 3, 1, 7, 2, 3, 5, 4, 3, 3, 5, 9, 1, 4, 0, 4, 8, 9, 1, 5, 1, 4, 5, 4, 7, 9, 5, 5, 1, 5, 0, 4, 9, 4, 9, 3, 4, 7, 6, 5, 9, 7, 2, 1, 8, 4, 4, 4, 2, 9, 6, 6, 4, 6, 8, 5, 6, 8, 1, 7, 1, 2, 2, 0, 4, 4, 1, 3, 2, 6, 3, 9, 0, 3, 2, 0, 7, 1, 2, 0, 6, 6, 1, 4, 6, 7, 4, 1, 5, 9, 8, 3, 9, 4, 6, 5, 4, 4, 3, 8, 5, 1, 3, 5, 9, 4, 5, 1, 6, 4, 5, 3, 8, 2, 6, 8, 6, 5, 7, 9, 5, 3, 2, 9, 2, 4, 9, 6, 2, 3, 5, 0, 7, 7, 7, 6, 5, 0, 5, 6, 9, 5, 6, 3, 1, 5, 1, 5, 2, 1, 9, 9, 9, 7, 2, 2, 3, 3, 1, 1, 2, 9, 9, 0, 2, 6, 8, 1, 3, 5, 9, 1, 7, 7, 3, 1, 7, 0, 2, 2, 0, 1, 4, 0, 2, 0, 0, 5, 3, 8, 7, 1, 7, 1, 2, 6, 0, 6, 0, 9, 7, 0, 6, 2, 8, 3, 8, 0, 2, 6, 2, 6, 5, 8, 3, 4, 1, 0, 2, 9, 9, 5, 6, 3, 6, 7, 6, 4, 6, 1, 9, 0, 6, 0, 7, 4, 4, 3, 8, 5, 7, 9, 3, 6, 0, 7, 4, 1, 9, 4, 4, 0, 5, 8, 3, 0, 1, 8, 2, 4, 5, 0, 7, 3, 2, 5, 3, 5, 1, 9, 3, 5, 0, 0, 3, 6, 0, 6, 9, 8, 5, 6, 5, 2, 8, 4, 2, 7, 2, 6, 6, 2, 5, 8, 2, 0, 4, 6, 8, 9, 9, 7, 4, 8, 3, 3, 3, 3, 6, 1, 0, 5, 6, 3, 9, 7, 9, 6, 0, 2, 3, 8, 6, 4, 3, 2, 5, 8, 7, 8, 9, 2, 4, 0, 6, 3, 2, 7, 6, 9, 8, 8, 3, 3, 5, 5, 6, 7, 3, 5, 0, 3, 8, 9, 5, 6, 7, 9, 0, 9, 5, 0, 2, 2, 0, 3, 5, 4, 9, 0, 0, 1, 6, 0, 3, 4, 2, 1, 6, 4, 3, 8, 1, 2, 3, 9, 3, 8, 2, 5, 6, 5, 6, 9, 8, 4, 0, 8, 7, 7, 5, 1, 9, 7, 5, 2, 7, 1, 0]\n",
      "[9, 6, 6, 2, 4, 9, 9, 3, 3, 4, 2, 8, 0, 4, 5, 8, 4, 3, 4, 6, 5, 0, 7, 8, 4, 8, 7, 7, 7, 1, 8, 8, 1, 6, 7, 6, 0, 3, 1, 2, 8, 2, 5, 2, 6, 0, 0, 5, 6, 3, 0, 8, 9, 2, 8, 0, 0, 5, 1, 8, 3, 0, 7, 3, 6, 8, 6, 5, 4, 3, 7, 7, 3, 9, 3, 5, 6, 7, 3, 1, 1, 4, 8, 9, 2, 9, 4, 6, 6, 3, 8, 3, 4, 4, 6, 0, 2, 4, 8, 0, 9, 2, 9, 7, 7, 9, 3, 5, 8, 7, 0, 8, 4, 3, 9, 6, 2, 2, 1, 4, 6, 8, 1, 8, 7, 1, 2, 2, 8, 1, 3, 9, 1, 1, 7, 9, 2, 5, 9, 2, 8, 1, 1, 8, 7, 7, 8, 6, 5, 7, 9, 4, 5, 5, 1, 9, 6, 5, 9, 9, 4, 1, 1, 8, 4, 3, 0, 2, 9, 7, 4, 4, 9, 5, 2, 3, 0, 2, 4, 9, 7, 6, 8, 1, 2, 4, 3, 0, 7, 2, 6, 7, 0, 6, 0, 1, 3, 4, 5, 2, 0, 0, 0, 4, 9, 2, 1, 5, 7, 3, 1, 0, 5, 9, 6, 3, 6, 3, 0, 4, 2, 8, 0, 5, 1, 7, 5, 2, 8, 2, 5, 0, 8, 8, 9, 4, 5, 6, 9, 6, 5, 3, 0, 8, 8, 2, 3, 7, 6, 5, 8, 7, 3, 3, 8, 4, 8, 3, 2, 6, 8, 3, 9, 4, 3, 4, 7, 1, 7, 9, 1, 4, 4, 3, 1, 4, 7, 0, 6, 5, 6, 3, 7, 0, 3, 2, 7, 9, 8, 0, 7, 7, 2, 6, 7, 0, 1, 8, 0, 6, 7, 7, 4, 5, 0, 1, 2, 2, 7, 3, 7, 1, 5, 6, 1, 7, 9, 7, 1, 8, 6, 7, 3, 2, 5, 7, 6, 3, 9, 3, 2, 4, 7, 7, 5, 0, 8, 4, 6, 6, 8, 4, 9, 5, 5, 0, 5, 4, 3, 3, 7, 5, 6, 9, 9, 7, 6, 9, 6, 3, 7, 5, 7, 1, 6, 6, 1, 7, 3, 0, 7, 8, 0, 5, 8, 0, 1, 0, 7, 7, 8, 0, 0, 5, 4, 1, 7, 3, 4, 5, 3, 5, 0, 4, 1, 1, 3, 4, 8, 0, 9, 1, 5, 2, 7, 3, 6, 8, 5, 2, 0, 6, 7, 6, 8, 5, 9, 4, 4, 0, 0, 2, 0, 1, 2, 4, 0, 4, 8, 5, 2, 3, 4, 1, 8, 4, 0, 5, 2, 5, 7, 8, 5, 6, 9, 4, 9, 2, 5, 5, 4, 3, 4, 5, 4, 0, 8, 1, 7, 2, 9, 8, 0, 3, 3, 1, 9, 7, 9, 5, 0, 7, 4, 1, 9, 2, 6, 5, 1, 4, 0, 3, 2, 2, 4, 8, 9, 0, 0, 1, 4, 8, 9, 1, 7, 3, 8, 9, 5, 0, 7, 5, 9, 4, 1, 7, 5, 6, 6, 6, 2, 9, 6, 6, 6, 9, 8, 3, 4, 1, 9, 8, 9, 1, 3, 3, 3, 2, 5, 6, 7, 2, 9, 8, 5, 4, 1, 3, 5, 0, 8, 6, 8, 9, 2, 1, 9, 4, 5, 6, 6, 0, 3, 3, 3, 4, 1, 9, 4, 9, 4, 4, 8, 8, 9, 4, 8, 9, 2, 2, 2, 2, 3, 0, 7, 9, 9, 9, 5, 6, 4, 3, 2, 4, 0, 9, 6, 4, 5, 9, 2, 7, 3, 1, 7, 2, 3, 5, 4, 3, 3, 5, 9, 1, 4, 0, 4, 8, 9, 1, 5, 1, 4, 5, 4, 7, 9, 5, 5, 1, 5, 0, 4, 9, 4, 9, 3, 4, 7, 6, 5, 9, 7, 2, 1, 8, 4, 4, 4, 2, 9, 6, 6, 4, 6, 8, 5, 6, 8, 1, 7, 1, 2, 2, 0, 4, 4, 1, 3, 2, 6, 3, 9, 0, 3, 2, 0, 7, 1, 2, 0, 6, 6, 1, 4, 6, 7, 4, 1, 5, 9, 8, 3, 9, 4, 6, 5, 4, 4, 3, 8, 5, 1, 3, 5, 9, 4, 5, 1, 6, 4, 5, 3, 8, 2, 6, 8, 6, 5, 7, 9, 5, 3, 2, 9, 2, 4, 9, 6, 2, 3, 5, 0, 7, 7, 7, 6, 5, 0, 5, 6, 9, 5, 6, 3, 1, 5, 1, 5, 2, 1, 9, 9, 9, 7, 2, 2, 3, 3, 1, 1, 2, 9, 9, 0, 2, 6, 8, 1, 3, 5, 9, 1, 7, 7, 3, 1, 7, 0, 2, 2, 0, 1, 4, 0, 2, 0, 0, 5, 3, 8, 7, 1, 7, 1, 2, 6, 0, 6, 0, 9, 7, 0, 6, 2, 8, 3, 8, 0, 2, 6, 2, 6, 5, 8, 3, 4, 1, 0, 2, 9, 9, 5, 6, 3, 6, 7, 6, 4, 6, 1, 9, 0, 6, 0, 7, 4, 4, 3, 8, 5, 7, 9, 3, 6, 0, 7, 4, 1, 9, 4, 4, 0, 5, 8, 3, 0, 1, 8, 2, 4, 5, 0, 7, 3, 2, 5, 3, 5, 1, 9, 3, 5, 0, 0, 3, 6, 0, 6, 9, 8, 5, 6, 5, 2, 8, 4, 2, 7, 2, 6, 6, 2, 5, 8, 2, 0, 4, 6, 8, 9, 9, 7, 4, 8, 3, 3, 3, 3, 6, 1, 0, 5, 6, 3, 9, 7, 9, 6, 0, 2, 3, 8, 6, 4, 3, 2, 5, 8, 7, 8, 9, 2, 4, 0, 6, 3, 2, 7, 6, 9, 8, 8, 3, 3, 5, 5, 6, 7, 3, 5, 0, 3, 8, 9, 5, 6, 7, 9, 0, 9, 5, 0, 2, 2, 0, 3, 5, 4, 9, 0, 0, 1, 6, 0, 3, 4, 2, 1, 6, 4, 3, 8, 1, 2, 3, 9, 3, 8, 2, 5, 6, 5, 6, 9, 8, 4, 0, 8, 7, 7, 5, 1, 9, 7, 5, 2, 7, 1, 0]\n",
      "[9, 6, 6, 2, 4, 9, 9, 3, 3, 4, 2, 8, 0, 4, 5, 8, 4, 3, 4, 6, 5, 0, 7, 8, 4, 8, 7, 7, 7, 1, 8, 8, 1, 6, 7, 6, 0, 3, 1, 2, 8, 2, 5, 2, 6, 0, 0, 5, 6, 3, 0, 8, 9, 2, 8, 0, 0, 5, 1, 8, 3, 0, 7, 3, 6, 8, 6, 5, 4, 3, 7, 7, 3, 9, 3, 5, 6, 7, 3, 1, 1, 4, 8, 9, 2, 9, 4, 6, 6, 3, 8, 3, 4, 4, 6, 0, 2, 4, 8, 0, 9, 2, 9, 7, 7, 9, 3, 5, 8, 7, 0, 8, 4, 3, 9, 6, 2, 2, 1, 4, 6, 8, 1, 8, 7, 1, 2, 2, 8, 1, 3, 9, 1, 1, 7, 9, 2, 5, 9, 2, 8, 1, 1, 8, 7, 7, 8, 6, 5, 7, 9, 4, 5, 5, 1, 9, 6, 5, 9, 9, 4, 1, 1, 8, 4, 3, 0, 2, 9, 7, 4, 4, 9, 5, 2, 3, 0, 2, 4, 9, 7, 6, 8, 1, 2, 4, 3, 0, 7, 2, 6, 7, 0, 6, 0, 1, 3, 4, 5, 2, 0, 0, 0, 4, 9, 2, 1, 5, 7, 3, 1, 0, 5, 9, 6, 3, 6, 3, 0, 4, 2, 8, 0, 5, 1, 7, 5, 2, 8, 2, 5, 0, 8, 8, 9, 4, 5, 6, 9, 6, 5, 3, 0, 8, 8, 2, 3, 7, 6, 5, 8, 7, 3, 3, 8, 4, 8, 3, 2, 6, 8, 3, 9, 4, 3, 4, 7, 1, 7, 9, 1, 4, 4, 3, 1, 4, 7, 0, 6, 5, 6, 3, 7, 0, 3, 2, 7, 9, 8, 0, 7, 7, 2, 6, 7, 0, 1, 8, 0, 6, 7, 7, 4, 5, 0, 1, 2, 2, 7, 3, 7, 1, 5, 6, 1, 7, 9, 7, 1, 8, 6, 7, 3, 2, 5, 7, 6, 3, 9, 3, 2, 4, 7, 7, 5, 0, 8, 4, 6, 6, 8, 4, 9, 5, 5, 0, 5, 4, 3, 3, 7, 5, 6, 9, 9, 7, 6, 9, 6, 3, 7, 5, 7, 1, 6, 6, 1, 7, 3, 0, 7, 8, 0, 5, 8, 0, 1, 0, 7, 7, 8, 0, 0, 5, 4, 1, 7, 3, 4, 5, 3, 5, 0, 4, 1, 1, 3, 4, 8, 0, 9, 1, 5, 2, 7, 3, 6, 8, 5, 2, 0, 6, 7, 6, 8, 5, 9, 4, 4, 0, 0, 2, 0, 1, 2, 4, 0, 4, 8, 5, 2, 3, 4, 1, 8, 4, 0, 5, 2, 5, 7, 8, 5, 6, 9, 4, 9, 2, 5, 5, 4, 3, 4, 5, 4, 0, 8, 1, 7, 2, 9, 8, 0, 3, 3, 1, 9, 7, 9, 5, 0, 7, 4, 1, 9, 2, 6, 5, 1, 4, 0, 3, 2, 2, 4, 8, 9, 0, 0, 1, 4, 8, 9, 1, 7, 3, 8, 9, 5, 0, 7, 5, 9, 4, 1, 7, 5, 6, 6, 6, 2, 9, 6, 6, 6, 9, 8, 3, 4, 1, 9, 8, 9, 1, 3, 3, 3, 2, 5, 6, 7, 2, 9, 8, 5, 4, 1, 3, 5, 0, 8, 6, 8, 9, 2, 1, 9, 4, 5, 6, 6, 0, 3, 3, 3, 4, 1, 9, 4, 9, 4, 4, 8, 8, 9, 4, 8, 9, 2, 2, 2, 2, 3, 0, 7, 9, 9, 9, 5, 6, 4, 3, 2, 4, 0, 9, 6, 4, 5, 9, 2, 7, 3, 1, 7, 2, 3, 5, 4, 3, 3, 5, 9, 1, 4, 0, 4, 8, 9, 1, 5, 1, 4, 5, 4, 7, 9, 5, 5, 1, 5, 0, 4, 9, 4, 9, 3, 4, 7, 6, 5, 9, 7, 2, 1, 8, 4, 4, 4, 2, 9, 6, 6, 4, 6, 8, 5, 6, 8, 1, 7, 1, 2, 2, 0, 4, 4, 1, 3, 2, 6, 3, 9, 0, 3, 2, 0, 7, 1, 2, 0, 6, 6, 1, 4, 6, 7, 4, 1, 5, 9, 8, 3, 9, 4, 6, 5, 4, 4, 3, 8, 5, 1, 3, 5, 9, 4, 5, 1, 6, 4, 5, 3, 8, 2, 6, 8, 6, 5, 7, 9, 5, 3, 2, 9, 2, 4, 9, 6, 2, 3, 5, 0, 7, 7, 7, 6, 5, 0, 5, 6, 9, 5, 6, 3, 1, 5, 1, 5, 2, 1, 9, 9, 9, 7, 2, 2, 3, 3, 1, 1, 2, 9, 9, 0, 2, 6, 8, 1, 3, 5, 9, 1, 7, 7, 3, 1, 7, 0, 2, 2, 0, 1, 4, 0, 2, 0, 0, 5, 3, 8, 7, 1, 7, 1, 2, 6, 0, 6, 0, 9, 7, 0, 6, 2, 8, 3, 8, 0, 2, 6, 2, 6, 5, 8, 3, 4, 1, 0, 2, 9, 9, 5, 6, 3, 6, 7, 6, 4, 6, 1, 9, 0, 6, 0, 7, 4, 4, 3, 8, 5, 7, 9, 3, 6, 0, 7, 4, 1, 9, 4, 4, 0, 5, 8, 3, 0, 1, 8, 2, 4, 5, 0, 7, 3, 2, 5, 3, 5, 1, 9, 3, 5, 0, 0, 3, 6, 0, 6, 9, 8, 5, 6, 5, 2, 8, 4, 2, 7, 2, 6, 6, 2, 5, 8, 2, 0, 4, 6, 8, 9, 9, 7, 4, 8, 3, 3, 3, 3, 6, 1, 0, 5, 6, 3, 9, 7, 9, 6, 0, 2, 3, 8, 6, 4, 3, 2, 5, 8, 7, 8, 9, 2, 4, 0, 6, 3, 2, 7, 6, 9, 8, 8, 3, 3, 5, 5, 6, 7, 3, 5, 0, 3, 8, 9, 5, 6, 7, 9, 0, 9, 5, 0, 2, 2, 0, 3, 5, 4, 9, 0, 0, 1, 6, 0, 3, 4, 2, 1, 6, 4, 3, 8, 1, 2, 3, 9, 3, 8, 2, 5, 6, 5, 6, 9, 8, 4, 0, 8, 7, 7, 5, 1, 9, 7, 5, 2, 7, 1, 0]\n",
      "[9, 6, 6, 2, 4, 9, 9, 3, 3, 4, 2, 8, 0, 4, 5, 8, 4, 3, 4, 6, 5, 0, 7, 8, 4, 8, 7, 7, 7, 1, 8, 8, 1, 6, 7, 6, 0, 3, 1, 2, 8, 2, 5, 2, 6, 0, 0, 5, 6, 3, 0, 8, 9, 2, 8, 0, 0, 5, 1, 8, 3, 0, 7, 3, 6, 8, 6, 5, 4, 3, 7, 7, 3, 9, 3, 5, 6, 7, 3, 1, 1, 4, 8, 9, 2, 9, 4, 6, 6, 3, 8, 3, 4, 4, 6, 0, 2, 4, 8, 0, 9, 2, 9, 7, 7, 9, 3, 5, 8, 7, 0, 8, 4, 3, 9, 6, 2, 2, 1, 4, 6, 8, 1, 8, 7, 1, 2, 2, 8, 1, 3, 9, 1, 1, 7, 9, 2, 5, 9, 2, 8, 1, 1, 8, 7, 7, 8, 6, 5, 7, 9, 4, 5, 5, 1, 9, 6, 5, 9, 9, 4, 1, 1, 8, 4, 3, 0, 2, 9, 7, 4, 4, 9, 5, 2, 3, 0, 2, 4, 9, 7, 6, 8, 1, 2, 4, 3, 0, 7, 2, 6, 7, 0, 6, 0, 1, 3, 4, 5, 2, 0, 0, 0, 4, 9, 2, 1, 5, 7, 3, 1, 0, 5, 9, 6, 3, 6, 3, 0, 4, 2, 8, 0, 5, 1, 7, 5, 2, 8, 2, 5, 0, 8, 8, 9, 4, 5, 6, 9, 6, 5, 3, 0, 8, 8, 2, 3, 7, 6, 5, 8, 7, 3, 3, 8, 4, 8, 3, 2, 6, 8, 3, 9, 4, 3, 4, 7, 1, 7, 9, 1, 4, 4, 3, 1, 4, 7, 0, 6, 5, 6, 3, 7, 0, 3, 2, 7, 9, 8, 0, 7, 7, 2, 6, 7, 0, 1, 8, 0, 6, 7, 7, 4, 5, 0, 1, 2, 2, 7, 3, 7, 1, 5, 6, 1, 7, 9, 7, 1, 8, 6, 7, 3, 2, 5, 7, 6, 3, 9, 3, 2, 4, 7, 7, 5, 0, 8, 4, 6, 6, 8, 4, 9, 5, 5, 0, 5, 4, 3, 3, 7, 5, 6, 9, 9, 7, 6, 9, 6, 3, 7, 5, 7, 1, 6, 6, 1, 7, 3, 0, 7, 8, 0, 5, 8, 0, 1, 0, 7, 7, 8, 0, 0, 5, 4, 1, 7, 3, 4, 5, 3, 5, 0, 4, 1, 1, 3, 4, 8, 0, 9, 1, 5, 2, 7, 3, 6, 8, 5, 2, 0, 6, 7, 6, 8, 5, 9, 4, 4, 0, 0, 2, 0, 1, 2, 4, 0, 4, 8, 5, 2, 3, 4, 1, 8, 4, 0, 5, 2, 5, 7, 8, 5, 6, 9, 4, 9, 2, 5, 5, 4, 3, 4, 5, 4, 0, 8, 1, 7, 2, 9, 8, 0, 3, 3, 1, 9, 7, 9, 5, 0, 7, 4, 1, 9, 2, 6, 5, 1, 4, 0, 3, 2, 2, 4, 8, 9, 0, 0, 1, 4, 8, 9, 1, 7, 3, 8, 9, 5, 0, 7, 5, 9, 4, 1, 7, 5, 6, 6, 6, 2, 9, 6, 6, 6, 9, 8, 3, 4, 1, 9, 8, 9, 1, 3, 3, 3, 2, 5, 6, 7, 2, 9, 8, 5, 4, 1, 3, 5, 0, 8, 6, 8, 9, 2, 1, 9, 4, 5, 6, 6, 0, 3, 3, 3, 4, 1, 9, 4, 9, 4, 4, 8, 8, 9, 4, 8, 9, 2, 2, 2, 2, 3, 0, 7, 9, 9, 9, 5, 6, 4, 3, 2, 4, 0, 9, 6, 4, 5, 9, 2, 7, 3, 1, 7, 2, 3, 5, 4, 3, 3, 5, 9, 1, 4, 0, 4, 8, 9, 1, 5, 1, 4, 5, 4, 7, 9, 5, 5, 1, 5, 0, 4, 9, 4, 9, 3, 4, 7, 6, 5, 9, 7, 2, 1, 8, 4, 4, 4, 2, 9, 6, 6, 4, 6, 8, 5, 6, 8, 1, 7, 1, 2, 2, 0, 4, 4, 1, 3, 2, 6, 3, 9, 0, 3, 2, 0, 7, 1, 2, 0, 6, 6, 1, 4, 6, 7, 4, 1, 5, 9, 8, 3, 9, 4, 6, 5, 4, 4, 3, 8, 5, 1, 3, 5, 9, 4, 5, 1, 6, 4, 5, 3, 8, 2, 6, 8, 6, 5, 7, 9, 5, 3, 2, 9, 2, 4, 9, 6, 2, 3, 5, 0, 7, 7, 7, 6, 5, 0, 5, 6, 9, 5, 6, 3, 1, 5, 1, 5, 2, 1, 9, 9, 9, 7, 2, 2, 3, 3, 1, 1, 2, 9, 9, 0, 2, 6, 8, 1, 3, 5, 9, 1, 7, 7, 3, 1, 7, 0, 2, 2, 0, 1, 4, 0, 2, 0, 0, 5, 3, 8, 7, 1, 7, 1, 2, 6, 0, 6, 0, 9, 7, 0, 6, 2, 8, 3, 8, 0, 2, 6, 2, 6, 5, 8, 3, 4, 1, 0, 2, 9, 9, 5, 6, 3, 6, 7, 6, 4, 6, 1, 9, 0, 6, 0, 7, 4, 4, 3, 8, 5, 7, 9, 3, 6, 0, 7, 4, 1, 9, 4, 4, 0, 5, 8, 3, 0, 1, 8, 2, 4, 5, 0, 7, 3, 2, 5, 3, 5, 1, 9, 3, 5, 0, 0, 3, 6, 0, 6, 9, 8, 5, 6, 5, 2, 8, 4, 2, 7, 2, 6, 6, 2, 5, 8, 2, 0, 4, 6, 8, 9, 9, 7, 4, 8, 3, 3, 3, 3, 6, 1, 0, 5, 6, 3, 9, 7, 9, 6, 0, 2, 3, 8, 6, 4, 3, 2, 5, 8, 7, 8, 9, 2, 4, 0, 6, 3, 2, 7, 6, 9, 8, 8, 3, 3, 5, 5, 6, 7, 3, 5, 0, 3, 8, 9, 5, 6, 7, 9, 0, 9, 5, 0, 2, 2, 0, 3, 5, 4, 9, 0, 0, 1, 6, 0, 3, 4, 2, 1, 6, 4, 3, 8, 1, 2, 3, 9, 3, 8, 2, 5, 6, 5, 6, 9, 8, 4, 0, 8, 7, 7, 5, 1, 9, 7, 5, 2, 7, 1, 0]\n",
      "[9, 6, 6, 2, 4, 9, 9, 3, 3, 4, 2, 8, 0, 4, 5, 8, 4, 3, 4, 6, 5, 0, 7, 8, 4, 8, 7, 7, 7, 1, 8, 8, 1, 6, 7, 6, 0, 3, 1, 2, 8, 2, 5, 2, 6, 0, 0, 5, 6, 3, 0, 8, 9, 2, 8, 0, 0, 5, 1, 8, 3, 0, 7, 3, 6, 8, 6, 5, 4, 3, 7, 7, 3, 9, 3, 5, 6, 7, 3, 1, 1, 4, 8, 9, 2, 9, 4, 6, 6, 3, 8, 3, 4, 4, 6, 0, 2, 4, 8, 0, 9, 2, 9, 7, 7, 9, 3, 5, 8, 7, 0, 8, 4, 3, 9, 6, 2, 2, 1, 4, 6, 8, 1, 8, 7, 1, 2, 2, 8, 1, 3, 9, 1, 1, 7, 9, 2, 5, 9, 2, 8, 1, 1, 8, 7, 7, 8, 6, 5, 7, 9, 4, 5, 5, 1, 9, 6, 5, 9, 9, 4, 1, 1, 8, 4, 3, 0, 2, 9, 7, 4, 4, 9, 5, 2, 3, 0, 2, 4, 9, 7, 6, 8, 1, 2, 4, 3, 0, 7, 2, 6, 7, 0, 6, 0, 1, 3, 4, 5, 2, 0, 0, 0, 4, 9, 2, 1, 5, 7, 3, 1, 0, 5, 9, 6, 3, 6, 3, 0, 4, 2, 8, 0, 5, 1, 7, 5, 2, 8, 2, 5, 0, 8, 8, 9, 4, 5, 6, 9, 6, 5, 3, 0, 8, 8, 2, 3, 7, 6, 5, 8, 7, 3, 3, 8, 4, 8, 3, 2, 6, 8, 3, 9, 4, 3, 4, 7, 1, 7, 9, 1, 4, 4, 3, 1, 4, 7, 0, 6, 5, 6, 3, 7, 0, 3, 2, 7, 9, 8, 0, 7, 7, 2, 6, 7, 0, 1, 8, 0, 6, 7, 7, 4, 5, 0, 1, 2, 2, 7, 3, 7, 1, 5, 6, 1, 7, 9, 7, 1, 8, 6, 7, 3, 2, 5, 7, 6, 3, 9, 3, 2, 4, 7, 7, 5, 0, 8, 4, 6, 6, 8, 4, 9, 5, 5, 0, 5, 4, 3, 3, 7, 5, 6, 9, 9, 7, 6, 9, 6, 3, 7, 5, 7, 1, 6, 6, 1, 7, 3, 0, 7, 8, 0, 5, 8, 0, 1, 0, 7, 7, 8, 0, 0, 5, 4, 1, 7, 3, 4, 5, 3, 5, 0, 4, 1, 1, 3, 4, 8, 0, 9, 1, 5, 2, 7, 3, 6, 8, 5, 2, 0, 6, 7, 6, 8, 5, 9, 4, 4, 0, 0, 2, 0, 1, 2, 4, 0, 4, 8, 5, 2, 3, 4, 1, 8, 4, 0, 5, 2, 5, 7, 8, 5, 6, 9, 4, 9, 2, 5, 5, 4, 3, 4, 5, 4, 0, 8, 1, 7, 2, 9, 8, 0, 3, 3, 1, 9, 7, 9, 5, 0, 7, 4, 1, 9, 2, 6, 5, 1, 4, 0, 3, 2, 2, 4, 8, 9, 0, 0, 1, 4, 8, 9, 1, 7, 3, 8, 9, 5, 0, 7, 5, 9, 4, 1, 7, 5, 6, 6, 6, 2, 9, 6, 6, 6, 9, 8, 3, 4, 1, 9, 8, 9, 1, 3, 3, 3, 2, 5, 6, 7, 2, 9, 8, 5, 4, 1, 3, 5, 0, 8, 6, 8, 9, 2, 1, 9, 4, 5, 6, 6, 0, 3, 3, 3, 4, 1, 9, 4, 9, 4, 4, 8, 8, 9, 4, 8, 9, 2, 2, 2, 2, 3, 0, 7, 9, 9, 9, 5, 6, 4, 3, 2, 4, 0, 9, 6, 4, 5, 9, 2, 7, 3, 1, 7, 2, 3, 5, 4, 3, 3, 5, 9, 1, 4, 0, 4, 8, 9, 1, 5, 1, 4, 5, 4, 7, 9, 5, 5, 1, 5, 0, 4, 9, 4, 9, 3, 4, 7, 6, 5, 9, 7, 2, 1, 8, 4, 4, 4, 2, 9, 6, 6, 4, 6, 8, 5, 6, 8, 1, 7, 1, 2, 2, 0, 4, 4, 1, 3, 2, 6, 3, 9, 0, 3, 2, 0, 7, 1, 2, 0, 6, 6, 1, 4, 6, 7, 4, 1, 5, 9, 8, 3, 9, 4, 6, 5, 4, 4, 3, 8, 5, 1, 3, 5, 9, 4, 5, 1, 6, 4, 5, 3, 8, 2, 6, 8, 6, 5, 7, 9, 5, 3, 2, 9, 2, 4, 9, 6, 2, 3, 5, 0, 7, 7, 7, 6, 5, 0, 5, 6, 9, 5, 6, 3, 1, 5, 1, 5, 2, 1, 9, 9, 9, 7, 2, 2, 3, 3, 1, 1, 2, 9, 9, 0, 2, 6, 8, 1, 3, 5, 9, 1, 7, 7, 3, 1, 7, 0, 2, 2, 0, 1, 4, 0, 2, 0, 0, 5, 3, 8, 7, 1, 7, 1, 2, 6, 0, 6, 0, 9, 7, 0, 6, 2, 8, 3, 8, 0, 2, 6, 2, 6, 5, 8, 3, 4, 1, 0, 2, 9, 9, 5, 6, 3, 6, 7, 6, 4, 6, 1, 9, 0, 6, 0, 7, 4, 4, 3, 8, 5, 7, 9, 3, 6, 0, 7, 4, 1, 9, 4, 4, 0, 5, 8, 3, 0, 1, 8, 2, 4, 5, 0, 7, 3, 2, 5, 3, 5, 1, 9, 3, 5, 0, 0, 3, 6, 0, 6, 9, 8, 5, 6, 5, 2, 8, 4, 2, 7, 2, 6, 6, 2, 5, 8, 2, 0, 4, 6, 8, 9, 9, 7, 4, 8, 3, 3, 3, 3, 6, 1, 0, 5, 6, 3, 9, 7, 9, 6, 0, 2, 3, 8, 6, 4, 3, 2, 5, 8, 7, 8, 9, 2, 4, 0, 6, 3, 2, 7, 6, 9, 8, 8, 3, 3, 5, 5, 6, 7, 3, 5, 0, 3, 8, 9, 5, 6, 7, 9, 0, 9, 5, 0, 2, 2, 0, 3, 5, 4, 9, 0, 0, 1, 6, 0, 3, 4, 2, 1, 6, 4, 3, 8, 1, 2, 3, 9, 3, 8, 2, 5, 6, 5, 6, 9, 8, 4, 0, 8, 7, 7, 5, 1, 9, 7, 5, 2, 7, 1, 0]\n",
      "[9, 6, 6, 2, 4, 9, 9, 3, 3, 4, 2, 8, 0, 4, 5, 8, 4, 3, 4, 6, 5, 0, 7, 8, 4, 8, 7, 7, 7, 1, 8, 8, 1, 6, 7, 6, 0, 3, 1, 2, 8, 2, 5, 2, 6, 0, 0, 5, 6, 3, 0, 8, 9, 2, 8, 0, 0, 5, 1, 8, 3, 0, 7, 3, 6, 8, 6, 5, 4, 3, 7, 7, 3, 9, 3, 5, 6, 7, 3, 1, 1, 4, 8, 9, 2, 9, 4, 6, 6, 3, 8, 3, 4, 4, 6, 0, 2, 4, 8, 0, 9, 2, 9, 7, 7, 9, 3, 5, 8, 7, 0, 8, 4, 3, 9, 6, 2, 2, 1, 4, 6, 8, 1, 8, 7, 1, 2, 2, 8, 1, 3, 9, 1, 1, 7, 9, 2, 5, 9, 2, 8, 1, 1, 8, 7, 7, 8, 6, 5, 7, 9, 4, 5, 5, 1, 9, 6, 5, 9, 9, 4, 1, 1, 8, 4, 3, 0, 2, 9, 7, 4, 4, 9, 5, 2, 3, 0, 2, 4, 9, 7, 6, 8, 1, 2, 4, 3, 0, 7, 2, 6, 7, 0, 6, 0, 1, 3, 4, 5, 2, 0, 0, 0, 4, 9, 2, 1, 5, 7, 3, 1, 0, 5, 9, 6, 3, 6, 3, 0, 4, 2, 8, 0, 5, 1, 7, 5, 2, 8, 2, 5, 0, 8, 8, 9, 4, 5, 6, 9, 6, 5, 3, 0, 8, 8, 2, 3, 7, 6, 5, 8, 7, 3, 3, 8, 4, 8, 3, 2, 6, 8, 3, 9, 4, 3, 4, 7, 1, 7, 9, 1, 4, 4, 3, 1, 4, 7, 0, 6, 5, 6, 3, 7, 0, 3, 2, 7, 9, 8, 0, 7, 7, 2, 6, 7, 0, 1, 8, 0, 6, 7, 7, 4, 5, 0, 1, 2, 2, 7, 3, 7, 1, 5, 6, 1, 7, 9, 7, 1, 8, 6, 7, 3, 2, 5, 7, 6, 3, 9, 3, 2, 4, 7, 7, 5, 0, 8, 4, 6, 6, 8, 4, 9, 5, 5, 0, 5, 4, 3, 3, 7, 5, 6, 9, 9, 7, 6, 9, 6, 3, 7, 5, 7, 1, 6, 6, 1, 7, 3, 0, 7, 8, 0, 5, 8, 0, 1, 0, 7, 7, 8, 0, 0, 5, 4, 1, 7, 3, 4, 5, 3, 5, 0, 4, 1, 1, 3, 4, 8, 0, 9, 1, 5, 2, 7, 3, 6, 8, 5, 2, 0, 6, 7, 6, 8, 5, 9, 4, 4, 0, 0, 2, 0, 1, 2, 4, 0, 4, 8, 5, 2, 3, 4, 1, 8, 4, 0, 5, 2, 5, 7, 8, 5, 6, 9, 4, 9, 2, 5, 5, 4, 3, 4, 5, 4, 0, 8, 1, 7, 2, 9, 8, 0, 3, 3, 1, 9, 7, 9, 5, 0, 7, 4, 1, 9, 2, 6, 5, 1, 4, 0, 3, 2, 2, 4, 8, 9, 0, 0, 1, 4, 8, 9, 1, 7, 3, 8, 9, 5, 0, 7, 5, 9, 4, 1, 7, 5, 6, 6, 6, 2, 9, 6, 6, 6, 9, 8, 3, 4, 1, 9, 8, 9, 1, 3, 3, 3, 2, 5, 6, 7, 2, 9, 8, 5, 4, 1, 3, 5, 0, 8, 6, 8, 9, 2, 1, 9, 4, 5, 6, 6, 0, 3, 3, 3, 4, 1, 9, 4, 9, 4, 4, 8, 8, 9, 4, 8, 9, 2, 2, 2, 2, 3, 0, 7, 9, 9, 9, 5, 6, 4, 3, 2, 4, 0, 9, 6, 4, 5, 9, 2, 7, 3, 1, 7, 2, 3, 5, 4, 3, 3, 5, 9, 1, 4, 0, 4, 8, 9, 1, 5, 1, 4, 5, 4, 7, 9, 5, 5, 1, 5, 0, 4, 9, 4, 9, 3, 4, 7, 6, 5, 9, 7, 2, 1, 8, 4, 4, 4, 2, 9, 6, 6, 4, 6, 8, 5, 6, 8, 1, 7, 1, 2, 2, 0, 4, 4, 1, 3, 2, 6, 3, 9, 0, 3, 2, 0, 7, 1, 2, 0, 6, 6, 1, 4, 6, 7, 4, 1, 5, 9, 8, 3, 9, 4, 6, 5, 4, 4, 3, 8, 5, 1, 3, 5, 9, 4, 5, 1, 6, 4, 5, 3, 8, 2, 6, 8, 6, 5, 7, 9, 5, 3, 2, 9, 2, 4, 9, 6, 2, 3, 5, 0, 7, 7, 7, 6, 5, 0, 5, 6, 9, 5, 6, 3, 1, 5, 1, 5, 2, 1, 9, 9, 9, 7, 2, 2, 3, 3, 1, 1, 2, 9, 9, 0, 2, 6, 8, 1, 3, 5, 9, 1, 7, 7, 3, 1, 7, 0, 2, 2, 0, 1, 4, 0, 2, 0, 0, 5, 3, 8, 7, 1, 7, 1, 2, 6, 0, 6, 0, 9, 7, 0, 6, 2, 8, 3, 8, 0, 2, 6, 2, 6, 5, 8, 3, 4, 1, 0, 2, 9, 9, 5, 6, 3, 6, 7, 6, 4, 6, 1, 9, 0, 6, 0, 7, 4, 4, 3, 8, 5, 7, 9, 3, 6, 0, 7, 4, 1, 9, 4, 4, 0, 5, 8, 3, 0, 1, 8, 2, 4, 5, 0, 7, 3, 2, 5, 3, 5, 1, 9, 3, 5, 0, 0, 3, 6, 0, 6, 9, 8, 5, 6, 5, 2, 8, 4, 2, 7, 2, 6, 6, 2, 5, 8, 2, 0, 4, 6, 8, 9, 9, 7, 4, 8, 3, 3, 3, 3, 6, 1, 0, 5, 6, 3, 9, 7, 9, 6, 0, 2, 3, 8, 6, 4, 3, 2, 5, 8, 7, 8, 9, 2, 4, 0, 6, 3, 2, 7, 6, 9, 8, 8, 3, 3, 5, 5, 6, 7, 3, 5, 0, 3, 8, 9, 5, 6, 7, 9, 0, 9, 5, 0, 2, 2, 0, 3, 5, 4, 9, 0, 0, 1, 6, 0, 3, 4, 2, 1, 6, 4, 3, 8, 1, 2, 3, 9, 3, 8, 2, 5, 6, 5, 6, 9, 8, 4, 0, 8, 7, 7, 5, 1, 9, 7, 5, 2, 7, 1, 0]\n",
      "[9, 6, 6, 2, 4, 9, 9, 3, 3, 4, 2, 8, 0, 4, 5, 8, 4, 3, 4, 6, 5, 0, 7, 8, 4, 8, 7, 7, 7, 1, 8, 8, 1, 6, 7, 6, 0, 3, 1, 2, 8, 2, 5, 2, 6, 0, 0, 5, 6, 3, 0, 8, 9, 2, 8, 0, 0, 5, 1, 8, 3, 0, 7, 3, 6, 8, 6, 5, 4, 3, 7, 7, 3, 9, 3, 5, 6, 7, 3, 1, 1, 4, 8, 9, 2, 9, 4, 6, 6, 3, 8, 3, 4, 4, 6, 0, 2, 4, 8, 0, 9, 2, 9, 7, 7, 9, 3, 5, 8, 7, 0, 8, 4, 3, 9, 6, 2, 2, 1, 4, 6, 8, 1, 8, 7, 1, 2, 2, 8, 1, 3, 9, 1, 1, 7, 9, 2, 5, 9, 2, 8, 1, 1, 8, 7, 7, 8, 6, 5, 7, 9, 4, 5, 5, 1, 9, 6, 5, 9, 9, 4, 1, 1, 8, 4, 3, 0, 2, 9, 7, 4, 4, 9, 5, 2, 3, 0, 2, 4, 9, 7, 6, 8, 1, 2, 4, 3, 0, 7, 2, 6, 7, 0, 6, 0, 1, 3, 4, 5, 2, 0, 0, 0, 4, 9, 2, 1, 5, 7, 3, 1, 0, 5, 9, 6, 3, 6, 3, 0, 4, 2, 8, 0, 5, 1, 7, 5, 2, 8, 2, 5, 0, 8, 8, 9, 4, 5, 6, 9, 6, 5, 3, 0, 8, 8, 2, 3, 7, 6, 5, 8, 7, 3, 3, 8, 4, 8, 3, 2, 6, 8, 3, 9, 4, 3, 4, 7, 1, 7, 9, 1, 4, 4, 3, 1, 4, 7, 0, 6, 5, 6, 3, 7, 0, 3, 2, 7, 9, 8, 0, 7, 7, 2, 6, 7, 0, 1, 8, 0, 6, 7, 7, 4, 5, 0, 1, 2, 2, 7, 3, 7, 1, 5, 6, 1, 7, 9, 7, 1, 8, 6, 7, 3, 2, 5, 7, 6, 3, 9, 3, 2, 4, 7, 7, 5, 0, 8, 4, 6, 6, 8, 4, 9, 5, 5, 0, 5, 4, 3, 3, 7, 5, 6, 9, 9, 7, 6, 9, 6, 3, 7, 5, 7, 1, 6, 6, 1, 7, 3, 0, 7, 8, 0, 5, 8, 0, 1, 0, 7, 7, 8, 0, 0, 5, 4, 1, 7, 3, 4, 5, 3, 5, 0, 4, 1, 1, 3, 4, 8, 0, 9, 1, 5, 2, 7, 3, 6, 8, 5, 2, 0, 6, 7, 6, 8, 5, 9, 4, 4, 0, 0, 2, 0, 1, 2, 4, 0, 4, 8, 5, 2, 3, 4, 1, 8, 4, 0, 5, 2, 5, 7, 8, 5, 6, 9, 4, 9, 2, 5, 5, 4, 3, 4, 5, 4, 0, 8, 1, 7, 2, 9, 8, 0, 3, 3, 1, 9, 7, 9, 5, 0, 7, 4, 1, 9, 2, 6, 5, 1, 4, 0, 3, 2, 2, 4, 8, 9, 0, 0, 1, 4, 8, 9, 1, 7, 3, 8, 9, 5, 0, 7, 5, 9, 4, 1, 7, 5, 6, 6, 6, 2, 9, 6, 6, 6, 9, 8, 3, 4, 1, 9, 8, 9, 1, 3, 3, 3, 2, 5, 6, 7, 2, 9, 8, 5, 4, 1, 3, 5, 0, 8, 6, 8, 9, 2, 1, 9, 4, 5, 6, 6, 0, 3, 3, 3, 4, 1, 9, 4, 9, 4, 4, 8, 8, 9, 4, 8, 9, 2, 2, 2, 2, 3, 0, 7, 9, 9, 9, 5, 6, 4, 3, 2, 4, 0, 9, 6, 4, 5, 9, 2, 7, 3, 1, 7, 2, 3, 5, 4, 3, 3, 5, 9, 1, 4, 0, 4, 8, 9, 1, 5, 1, 4, 5, 4, 7, 9, 5, 5, 1, 5, 0, 4, 9, 4, 9, 3, 4, 7, 6, 5, 9, 7, 2, 1, 8, 4, 4, 4, 2, 9, 6, 6, 4, 6, 8, 5, 6, 8, 1, 7, 1, 2, 2, 0, 4, 4, 1, 3, 2, 6, 3, 9, 0, 3, 2, 0, 7, 1, 2, 0, 6, 6, 1, 4, 6, 7, 4, 1, 5, 9, 8, 3, 9, 4, 6, 5, 4, 4, 3, 8, 5, 1, 3, 5, 9, 4, 5, 1, 6, 4, 5, 3, 8, 2, 6, 8, 6, 5, 7, 9, 5, 3, 2, 9, 2, 4, 9, 6, 2, 3, 5, 0, 7, 7, 7, 6, 5, 0, 5, 6, 9, 5, 6, 3, 1, 5, 1, 5, 2, 1, 9, 9, 9, 7, 2, 2, 3, 3, 1, 1, 2, 9, 9, 0, 2, 6, 8, 1, 3, 5, 9, 1, 7, 7, 3, 1, 7, 0, 2, 2, 0, 1, 4, 0, 2, 0, 0, 5, 3, 8, 7, 1, 7, 1, 2, 6, 0, 6, 0, 9, 7, 0, 6, 2, 8, 3, 8, 0, 2, 6, 2, 6, 5, 8, 3, 4, 1, 0, 2, 9, 9, 5, 6, 3, 6, 7, 6, 4, 6, 1, 9, 0, 6, 0, 7, 4, 4, 3, 8, 5, 7, 9, 3, 6, 0, 7, 4, 1, 9, 4, 4, 0, 5, 8, 3, 0, 1, 8, 2, 4, 5, 0, 7, 3, 2, 5, 3, 5, 1, 9, 3, 5, 0, 0, 3, 6, 0, 6, 9, 8, 5, 6, 5, 2, 8, 4, 2, 7, 2, 6, 6, 2, 5, 8, 2, 0, 4, 6, 8, 9, 9, 7, 4, 8, 3, 3, 3, 3, 6, 1, 0, 5, 6, 3, 9, 7, 9, 6, 0, 2, 3, 8, 6, 4, 3, 2, 5, 8, 7, 8, 9, 2, 4, 0, 6, 3, 2, 7, 6, 9, 8, 8, 3, 3, 5, 5, 6, 7, 3, 5, 0, 3, 8, 9, 5, 6, 7, 9, 0, 9, 5, 0, 2, 2, 0, 3, 5, 4, 9, 0, 0, 1, 6, 0, 3, 4, 2, 1, 6, 4, 3, 8, 1, 2, 3, 9, 3, 8, 2, 5, 6, 5, 6, 9, 8, 4, 0, 8, 7, 7, 5, 1, 9, 7, 5, 2, 7, 1, 0]\n",
      "[9, 6, 6, 2, 4, 9, 9, 3, 3, 4, 2, 8, 0, 4, 5, 8, 4, 3, 4, 6, 5, 0, 7, 8, 4, 8, 7, 7, 7, 1, 8, 8, 1, 6, 7, 6, 0, 3, 1, 2, 8, 2, 5, 2, 6, 0, 0, 5, 6, 3, 0, 8, 9, 2, 8, 0, 0, 5, 1, 8, 3, 0, 7, 3, 6, 8, 6, 5, 4, 3, 7, 7, 3, 9, 3, 5, 6, 7, 3, 1, 1, 4, 8, 9, 2, 9, 4, 6, 6, 3, 8, 3, 4, 4, 6, 0, 2, 4, 8, 0, 9, 2, 9, 7, 7, 9, 3, 5, 8, 7, 0, 8, 4, 3, 9, 6, 2, 2, 1, 4, 6, 8, 1, 8, 7, 1, 2, 2, 8, 1, 3, 9, 1, 1, 7, 9, 2, 5, 9, 2, 8, 1, 1, 8, 7, 7, 8, 6, 5, 7, 9, 4, 5, 5, 1, 9, 6, 5, 9, 9, 4, 1, 1, 8, 4, 3, 0, 2, 9, 7, 4, 4, 9, 5, 2, 3, 0, 2, 4, 9, 7, 6, 8, 1, 2, 4, 3, 0, 7, 2, 6, 7, 0, 6, 0, 1, 3, 4, 5, 2, 0, 0, 0, 4, 9, 2, 1, 5, 7, 3, 1, 0, 5, 9, 6, 3, 6, 3, 0, 4, 2, 8, 0, 5, 1, 7, 5, 2, 8, 2, 5, 0, 8, 8, 9, 4, 5, 6, 9, 6, 5, 3, 0, 8, 8, 2, 3, 7, 6, 5, 8, 7, 3, 3, 8, 4, 8, 3, 2, 6, 8, 3, 9, 4, 3, 4, 7, 1, 7, 9, 1, 4, 4, 3, 1, 4, 7, 0, 6, 5, 6, 3, 7, 0, 3, 2, 7, 9, 8, 0, 7, 7, 2, 6, 7, 0, 1, 8, 0, 6, 7, 7, 4, 5, 0, 1, 2, 2, 7, 3, 7, 1, 5, 6, 1, 7, 9, 7, 1, 8, 6, 7, 3, 2, 5, 7, 6, 3, 9, 3, 2, 4, 7, 7, 5, 0, 8, 4, 6, 6, 8, 4, 9, 5, 5, 0, 5, 4, 3, 3, 7, 5, 6, 9, 9, 7, 6, 9, 6, 3, 7, 5, 7, 1, 6, 6, 1, 7, 3, 0, 7, 8, 0, 5, 8, 0, 1, 0, 7, 7, 8, 0, 0, 5, 4, 1, 7, 3, 4, 5, 3, 5, 0, 4, 1, 1, 3, 4, 8, 0, 9, 1, 5, 2, 7, 3, 6, 8, 5, 2, 0, 6, 7, 6, 8, 5, 9, 4, 4, 0, 0, 2, 0, 1, 2, 4, 0, 4, 8, 5, 2, 3, 4, 1, 8, 4, 0, 5, 2, 5, 7, 8, 5, 6, 9, 4, 9, 2, 5, 5, 4, 3, 4, 5, 4, 0, 8, 1, 7, 2, 9, 8, 0, 3, 3, 1, 9, 7, 9, 5, 0, 7, 4, 1, 9, 2, 6, 5, 1, 4, 0, 3, 2, 2, 4, 8, 9, 0, 0, 1, 4, 8, 9, 1, 7, 3, 8, 9, 5, 0, 7, 5, 9, 4, 1, 7, 5, 6, 6, 6, 2, 9, 6, 6, 6, 9, 8, 3, 4, 1, 9, 8, 9, 1, 3, 3, 3, 2, 5, 6, 7, 2, 9, 8, 5, 4, 1, 3, 5, 0, 8, 6, 8, 9, 2, 1, 9, 4, 5, 6, 6, 0, 3, 3, 3, 4, 1, 9, 4, 9, 4, 4, 8, 8, 9, 4, 8, 9, 2, 2, 2, 2, 3, 0, 7, 9, 9, 9, 5, 6, 4, 3, 2, 4, 0, 9, 6, 4, 5, 9, 2, 7, 3, 1, 7, 2, 3, 5, 4, 3, 3, 5, 9, 1, 4, 0, 4, 8, 9, 1, 5, 1, 4, 5, 4, 7, 9, 5, 5, 1, 5, 0, 4, 9, 4, 9, 3, 4, 7, 6, 5, 9, 7, 2, 1, 8, 4, 4, 4, 2, 9, 6, 6, 4, 6, 8, 5, 6, 8, 1, 7, 1, 2, 2, 0, 4, 4, 1, 3, 2, 6, 3, 9, 0, 3, 2, 0, 7, 1, 2, 0, 6, 6, 1, 4, 6, 7, 4, 1, 5, 9, 8, 3, 9, 4, 6, 5, 4, 4, 3, 8, 5, 1, 3, 5, 9, 4, 5, 1, 6, 4, 5, 3, 8, 2, 6, 8, 6, 5, 7, 9, 5, 3, 2, 9, 2, 4, 9, 6, 2, 3, 5, 0, 7, 7, 7, 6, 5, 0, 5, 6, 9, 5, 6, 3, 1, 5, 1, 5, 2, 1, 9, 9, 9, 7, 2, 2, 3, 3, 1, 1, 2, 9, 9, 0, 2, 6, 8, 1, 3, 5, 9, 1, 7, 7, 3, 1, 7, 0, 2, 2, 0, 1, 4, 0, 2, 0, 0, 5, 3, 8, 7, 1, 7, 1, 2, 6, 0, 6, 0, 9, 7, 0, 6, 2, 8, 3, 8, 0, 2, 6, 2, 6, 5, 8, 3, 4, 1, 0, 2, 9, 9, 5, 6, 3, 6, 7, 6, 4, 6, 1, 9, 0, 6, 0, 7, 4, 4, 3, 8, 5, 7, 9, 3, 6, 0, 7, 4, 1, 9, 4, 4, 0, 5, 8, 3, 0, 1, 8, 2, 4, 5, 0, 7, 3, 2, 5, 3, 5, 1, 9, 3, 5, 0, 0, 3, 6, 0, 6, 9, 8, 5, 6, 5, 2, 8, 4, 2, 7, 2, 6, 6, 2, 5, 8, 2, 0, 4, 6, 8, 9, 9, 7, 4, 8, 3, 3, 3, 3, 6, 1, 0, 5, 6, 3, 9, 7, 9, 6, 0, 2, 3, 8, 6, 4, 3, 2, 5, 8, 7, 8, 9, 2, 4, 0, 6, 3, 2, 7, 6, 9, 8, 8, 3, 3, 5, 5, 6, 7, 3, 5, 0, 3, 8, 9, 5, 6, 7, 9, 0, 9, 5, 0, 2, 2, 0, 3, 5, 4, 9, 0, 0, 1, 6, 0, 3, 4, 2, 1, 6, 4, 3, 8, 1, 2, 3, 9, 3, 8, 2, 5, 6, 5, 6, 9, 8, 4, 0, 8, 7, 7, 5, 1, 9, 7, 5, 2, 7, 1, 0]\n",
      "[9, 6, 6, 2, 4, 9, 9, 3, 3, 4, 2, 8, 0, 4, 5, 8, 4, 3, 4, 6, 5, 0, 7, 8, 4, 8, 7, 7, 7, 1, 8, 8, 1, 6, 7, 6, 0, 3, 1, 2, 8, 2, 5, 2, 6, 0, 0, 5, 6, 3, 0, 8, 9, 2, 8, 0, 0, 5, 1, 8, 3, 0, 7, 3, 6, 8, 6, 5, 4, 3, 7, 7, 3, 9, 3, 5, 6, 7, 3, 1, 1, 4, 8, 9, 2, 9, 4, 6, 6, 3, 8, 3, 4, 4, 6, 0, 2, 4, 8, 0, 9, 2, 9, 7, 7, 9, 3, 5, 8, 7, 0, 8, 4, 3, 9, 6, 2, 2, 1, 4, 6, 8, 1, 8, 7, 1, 2, 2, 8, 1, 3, 9, 1, 1, 7, 9, 2, 5, 9, 2, 8, 1, 1, 8, 7, 7, 8, 6, 5, 7, 9, 4, 5, 5, 1, 9, 6, 5, 9, 9, 4, 1, 1, 8, 4, 3, 0, 2, 9, 7, 4, 4, 9, 5, 2, 3, 0, 2, 4, 9, 7, 6, 8, 1, 2, 4, 3, 0, 7, 2, 6, 7, 0, 6, 0, 1, 3, 4, 5, 2, 0, 0, 0, 4, 9, 2, 1, 5, 7, 3, 1, 0, 5, 9, 6, 3, 6, 3, 0, 4, 2, 8, 0, 5, 1, 7, 5, 2, 8, 2, 5, 0, 8, 8, 9, 4, 5, 6, 9, 6, 5, 3, 0, 8, 8, 2, 3, 7, 6, 5, 8, 7, 3, 3, 8, 4, 8, 3, 2, 6, 8, 3, 9, 4, 3, 4, 7, 1, 7, 9, 1, 4, 4, 3, 1, 4, 7, 0, 6, 5, 6, 3, 7, 0, 3, 2, 7, 9, 8, 0, 7, 7, 2, 6, 7, 0, 1, 8, 0, 6, 7, 7, 4, 5, 0, 1, 2, 2, 7, 3, 7, 1, 5, 6, 1, 7, 9, 7, 1, 8, 6, 7, 3, 2, 5, 7, 6, 3, 9, 3, 2, 4, 7, 7, 5, 0, 8, 4, 6, 6, 8, 4, 9, 5, 5, 0, 5, 4, 3, 3, 7, 5, 6, 9, 9, 7, 6, 9, 6, 3, 7, 5, 7, 1, 6, 6, 1, 7, 3, 0, 7, 8, 0, 5, 8, 0, 1, 0, 7, 7, 8, 0, 0, 5, 4, 1, 7, 3, 4, 5, 3, 5, 0, 4, 1, 1, 3, 4, 8, 0, 9, 1, 5, 2, 7, 3, 6, 8, 5, 2, 0, 6, 7, 6, 8, 5, 9, 4, 4, 0, 0, 2, 0, 1, 2, 4, 0, 4, 8, 5, 2, 3, 4, 1, 8, 4, 0, 5, 2, 5, 7, 8, 5, 6, 9, 4, 9, 2, 5, 5, 4, 3, 4, 5, 4, 0, 8, 1, 7, 2, 9, 8, 0, 3, 3, 1, 9, 7, 9, 5, 0, 7, 4, 1, 9, 2, 6, 5, 1, 4, 0, 3, 2, 2, 4, 8, 9, 0, 0, 1, 4, 8, 9, 1, 7, 3, 8, 9, 5, 0, 7, 5, 9, 4, 1, 7, 5, 6, 6, 6, 2, 9, 6, 6, 6, 9, 8, 3, 4, 1, 9, 8, 9, 1, 3, 3, 3, 2, 5, 6, 7, 2, 9, 8, 5, 4, 1, 3, 5, 0, 8, 6, 8, 9, 2, 1, 9, 4, 5, 6, 6, 0, 3, 3, 3, 4, 1, 9, 4, 9, 4, 4, 8, 8, 9, 4, 8, 9, 2, 2, 2, 2, 3, 0, 7, 9, 9, 9, 5, 6, 4, 3, 2, 4, 0, 9, 6, 4, 5, 9, 2, 7, 3, 1, 7, 2, 3, 5, 4, 3, 3, 5, 9, 1, 4, 0, 4, 8, 9, 1, 5, 1, 4, 5, 4, 7, 9, 5, 5, 1, 5, 0, 4, 9, 4, 9, 3, 4, 7, 6, 5, 9, 7, 2, 1, 8, 4, 4, 4, 2, 9, 6, 6, 4, 6, 8, 5, 6, 8, 1, 7, 1, 2, 2, 0, 4, 4, 1, 3, 2, 6, 3, 9, 0, 3, 2, 0, 7, 1, 2, 0, 6, 6, 1, 4, 6, 7, 4, 1, 5, 9, 8, 3, 9, 4, 6, 5, 4, 4, 3, 8, 5, 1, 3, 5, 9, 4, 5, 1, 6, 4, 5, 3, 8, 2, 6, 8, 6, 5, 7, 9, 5, 3, 2, 9, 2, 4, 9, 6, 2, 3, 5, 0, 7, 7, 7, 6, 5, 0, 5, 6, 9, 5, 6, 3, 1, 5, 1, 5, 2, 1, 9, 9, 9, 7, 2, 2, 3, 3, 1, 1, 2, 9, 9, 0, 2, 6, 8, 1, 3, 5, 9, 1, 7, 7, 3, 1, 7, 0, 2, 2, 0, 1, 4, 0, 2, 0, 0, 5, 3, 8, 7, 1, 7, 1, 2, 6, 0, 6, 0, 9, 7, 0, 6, 2, 8, 3, 8, 0, 2, 6, 2, 6, 5, 8, 3, 4, 1, 0, 2, 9, 9, 5, 6, 3, 6, 7, 6, 4, 6, 1, 9, 0, 6, 0, 7, 4, 4, 3, 8, 5, 7, 9, 3, 6, 0, 7, 4, 1, 9, 4, 4, 0, 5, 8, 3, 0, 1, 8, 2, 4, 5, 0, 7, 3, 2, 5, 3, 5, 1, 9, 3, 5, 0, 0, 3, 6, 0, 6, 9, 8, 5, 6, 5, 2, 8, 4, 2, 7, 2, 6, 6, 2, 5, 8, 2, 0, 4, 6, 8, 9, 9, 7, 4, 8, 3, 3, 3, 3, 6, 1, 0, 5, 6, 3, 9, 7, 9, 6, 0, 2, 3, 8, 6, 4, 3, 2, 5, 8, 7, 8, 9, 2, 4, 0, 6, 3, 2, 7, 6, 9, 8, 8, 3, 3, 5, 5, 6, 7, 3, 5, 0, 3, 8, 9, 5, 6, 7, 9, 0, 9, 5, 0, 2, 2, 0, 3, 5, 4, 9, 0, 0, 1, 6, 0, 3, 4, 2, 1, 6, 4, 3, 8, 1, 2, 3, 9, 3, 8, 2, 5, 6, 5, 6, 9, 8, 4, 0, 8, 7, 7, 5, 1, 9, 7, 5, 2, 7, 1, 0]\n",
      "[9, 6, 6, 2, 4, 9, 9, 3, 3, 4, 2, 8, 0, 4, 5, 8, 4, 3, 4, 6, 5, 0, 7, 8, 4, 8, 7, 7, 7, 1, 8, 8, 1, 6, 7, 6, 0, 3, 1, 2, 8, 2, 5, 2, 6, 0, 0, 5, 6, 3, 0, 8, 9, 2, 8, 0, 0, 5, 1, 8, 3, 0, 7, 3, 6, 8, 6, 5, 4, 3, 7, 7, 3, 9, 3, 5, 6, 7, 3, 1, 1, 4, 8, 9, 2, 9, 4, 6, 6, 3, 8, 3, 4, 4, 6, 0, 2, 4, 8, 0, 9, 2, 9, 7, 7, 9, 3, 5, 8, 7, 0, 8, 4, 3, 9, 6, 2, 2, 1, 4, 6, 8, 1, 8, 7, 1, 2, 2, 8, 1, 3, 9, 1, 1, 7, 9, 2, 5, 9, 2, 8, 1, 1, 8, 7, 7, 8, 6, 5, 7, 9, 4, 5, 5, 1, 9, 6, 5, 9, 9, 4, 1, 1, 8, 4, 3, 0, 2, 9, 7, 4, 4, 9, 5, 2, 3, 0, 2, 4, 9, 7, 6, 8, 1, 2, 4, 3, 0, 7, 2, 6, 7, 0, 6, 0, 1, 3, 4, 5, 2, 0, 0, 0, 4, 9, 2, 1, 5, 7, 3, 1, 0, 5, 9, 6, 3, 6, 3, 0, 4, 2, 8, 0, 5, 1, 7, 5, 2, 8, 2, 5, 0, 8, 8, 9, 4, 5, 6, 9, 6, 5, 3, 0, 8, 8, 2, 3, 7, 6, 5, 8, 7, 3, 3, 8, 4, 8, 3, 2, 6, 8, 3, 9, 4, 3, 4, 7, 1, 7, 9, 1, 4, 4, 3, 1, 4, 7, 0, 6, 5, 6, 3, 7, 0, 3, 2, 7, 9, 8, 0, 7, 7, 2, 6, 7, 0, 1, 8, 0, 6, 7, 7, 4, 5, 0, 1, 2, 2, 7, 3, 7, 1, 5, 6, 1, 7, 9, 7, 1, 8, 6, 7, 3, 2, 5, 7, 6, 3, 9, 3, 2, 4, 7, 7, 5, 0, 8, 4, 6, 6, 8, 4, 9, 5, 5, 0, 5, 4, 3, 3, 7, 5, 6, 9, 9, 7, 6, 9, 6, 3, 7, 5, 7, 1, 6, 6, 1, 7, 3, 0, 7, 8, 0, 5, 8, 0, 1, 0, 7, 7, 8, 0, 0, 5, 4, 1, 7, 3, 4, 5, 3, 5, 0, 4, 1, 1, 3, 4, 8, 0, 9, 1, 5, 2, 7, 3, 6, 8, 5, 2, 0, 6, 7, 6, 8, 5, 9, 4, 4, 0, 0, 2, 0, 1, 2, 4, 0, 4, 8, 5, 2, 3, 4, 1, 8, 4, 0, 5, 2, 5, 7, 8, 5, 6, 9, 4, 9, 2, 5, 5, 4, 3, 4, 5, 4, 0, 8, 1, 7, 2, 9, 8, 0, 3, 3, 1, 9, 7, 9, 5, 0, 7, 4, 1, 9, 2, 6, 5, 1, 4, 0, 3, 2, 2, 4, 8, 9, 0, 0, 1, 4, 8, 9, 1, 7, 3, 8, 9, 5, 0, 7, 5, 9, 4, 1, 7, 5, 6, 6, 6, 2, 9, 6, 6, 6, 9, 8, 3, 4, 1, 9, 8, 9, 1, 3, 3, 3, 2, 5, 6, 7, 2, 9, 8, 5, 4, 1, 3, 5, 0, 8, 6, 8, 9, 2, 1, 9, 4, 5, 6, 6, 0, 3, 3, 3, 4, 1, 9, 4, 9, 4, 4, 8, 8, 9, 4, 8, 9, 2, 2, 2, 2, 3, 0, 7, 9, 9, 9, 5, 6, 4, 3, 2, 4, 0, 9, 6, 4, 5, 9, 2, 7, 3, 1, 7, 2, 3, 5, 4, 3, 3, 5, 9, 1, 4, 0, 4, 8, 9, 1, 5, 1, 4, 5, 4, 7, 9, 5, 5, 1, 5, 0, 4, 9, 4, 9, 3, 4, 7, 6, 5, 9, 7, 2, 1, 8, 4, 4, 4, 2, 9, 6, 6, 4, 6, 8, 5, 6, 8, 1, 7, 1, 2, 2, 0, 4, 4, 1, 3, 2, 6, 3, 9, 0, 3, 2, 0, 7, 1, 2, 0, 6, 6, 1, 4, 6, 7, 4, 1, 5, 9, 8, 3, 9, 4, 6, 5, 4, 4, 3, 8, 5, 1, 3, 5, 9, 4, 5, 1, 6, 4, 5, 3, 8, 2, 6, 8, 6, 5, 7, 9, 5, 3, 2, 9, 2, 4, 9, 6, 2, 3, 5, 0, 7, 7, 7, 6, 5, 0, 5, 6, 9, 5, 6, 3, 1, 5, 1, 5, 2, 1, 9, 9, 9, 7, 2, 2, 3, 3, 1, 1, 2, 9, 9, 0, 2, 6, 8, 1, 3, 5, 9, 1, 7, 7, 3, 1, 7, 0, 2, 2, 0, 1, 4, 0, 2, 0, 0, 5, 3, 8, 7, 1, 7, 1, 2, 6, 0, 6, 0, 9, 7, 0, 6, 2, 8, 3, 8, 0, 2, 6, 2, 6, 5, 8, 3, 4, 1, 0, 2, 9, 9, 5, 6, 3, 6, 7, 6, 4, 6, 1, 9, 0, 6, 0, 7, 4, 4, 3, 8, 5, 7, 9, 3, 6, 0, 7, 4, 1, 9, 4, 4, 0, 5, 8, 3, 0, 1, 8, 2, 4, 5, 0, 7, 3, 2, 5, 3, 5, 1, 9, 3, 5, 0, 0, 3, 6, 0, 6, 9, 8, 5, 6, 5, 2, 8, 4, 2, 7, 2, 6, 6, 2, 5, 8, 2, 0, 4, 6, 8, 9, 9, 7, 4, 8, 3, 3, 3, 3, 6, 1, 0, 5, 6, 3, 9, 7, 9, 6, 0, 2, 3, 8, 6, 4, 3, 2, 5, 8, 7, 8, 9, 2, 4, 0, 6, 3, 2, 7, 6, 9, 8, 8, 3, 3, 5, 5, 6, 7, 3, 5, 0, 3, 8, 9, 5, 6, 7, 9, 0, 9, 5, 0, 2, 2, 0, 3, 5, 4, 9, 0, 0, 1, 6, 0, 3, 4, 2, 1, 6, 4, 3, 8, 1, 2, 3, 9, 3, 8, 2, 5, 6, 5, 6, 9, 8, 4, 0, 8, 7, 7, 5, 1, 9, 7, 5, 2, 7, 1, 0]\n",
      "[9, 6, 6, 2, 4, 9, 9, 3, 3, 4, 2, 8, 0, 4, 5, 8, 4, 3, 4, 6, 5, 0, 7, 8, 4, 8, 7, 7, 7, 1, 8, 8, 1, 6, 7, 6, 0, 3, 1, 2, 8, 2, 5, 2, 6, 0, 0, 5, 6, 3, 0, 8, 9, 2, 8, 0, 0, 5, 1, 8, 3, 0, 7, 3, 6, 8, 6, 5, 4, 3, 7, 7, 3, 9, 3, 5, 6, 7, 3, 1, 1, 4, 8, 9, 2, 9, 4, 6, 6, 3, 8, 3, 4, 4, 6, 0, 2, 4, 8, 0, 9, 2, 9, 7, 7, 9, 3, 5, 8, 7, 0, 8, 4, 3, 9, 6, 2, 2, 1, 4, 6, 8, 1, 8, 7, 1, 2, 2, 8, 1, 3, 9, 1, 1, 7, 9, 2, 5, 9, 2, 8, 1, 1, 8, 7, 7, 8, 6, 5, 7, 9, 4, 5, 5, 1, 9, 6, 5, 9, 9, 4, 1, 1, 8, 4, 3, 0, 2, 9, 7, 4, 4, 9, 5, 2, 3, 0, 2, 4, 9, 7, 6, 8, 1, 2, 4, 3, 0, 7, 2, 6, 7, 0, 6, 0, 1, 3, 4, 5, 2, 0, 0, 0, 4, 9, 2, 1, 5, 7, 3, 1, 0, 5, 9, 6, 3, 6, 3, 0, 4, 2, 8, 0, 5, 1, 7, 5, 2, 8, 2, 5, 0, 8, 8, 9, 4, 5, 6, 9, 6, 5, 3, 0, 8, 8, 2, 3, 7, 6, 5, 8, 7, 3, 3, 8, 4, 8, 3, 2, 6, 8, 3, 9, 4, 3, 4, 7, 1, 7, 9, 1, 4, 4, 3, 1, 4, 7, 0, 6, 5, 6, 3, 7, 0, 3, 2, 7, 9, 8, 0, 7, 7, 2, 6, 7, 0, 1, 8, 0, 6, 7, 7, 4, 5, 0, 1, 2, 2, 7, 3, 7, 1, 5, 6, 1, 7, 9, 7, 1, 8, 6, 7, 3, 2, 5, 7, 6, 3, 9, 3, 2, 4, 7, 7, 5, 0, 8, 4, 6, 6, 8, 4, 9, 5, 5, 0, 5, 4, 3, 3, 7, 5, 6, 9, 9, 7, 6, 9, 6, 3, 7, 5, 7, 1, 6, 6, 1, 7, 3, 0, 7, 8, 0, 5, 8, 0, 1, 0, 7, 7, 8, 0, 0, 5, 4, 1, 7, 3, 4, 5, 3, 5, 0, 4, 1, 1, 3, 4, 8, 0, 9, 1, 5, 2, 7, 3, 6, 8, 5, 2, 0, 6, 7, 6, 8, 5, 9, 4, 4, 0, 0, 2, 0, 1, 2, 4, 0, 4, 8, 5, 2, 3, 4, 1, 8, 4, 0, 5, 2, 5, 7, 8, 5, 6, 9, 4, 9, 2, 5, 5, 4, 3, 4, 5, 4, 0, 8, 1, 7, 2, 9, 8, 0, 3, 3, 1, 9, 7, 9, 5, 0, 7, 4, 1, 9, 2, 6, 5, 1, 4, 0, 3, 2, 2, 4, 8, 9, 0, 0, 1, 4, 8, 9, 1, 7, 3, 8, 9, 5, 0, 7, 5, 9, 4, 1, 7, 5, 6, 6, 6, 2, 9, 6, 6, 6, 9, 8, 3, 4, 1, 9, 8, 9, 1, 3, 3, 3, 2, 5, 6, 7, 2, 9, 8, 5, 4, 1, 3, 5, 0, 8, 6, 8, 9, 2, 1, 9, 4, 5, 6, 6, 0, 3, 3, 3, 4, 1, 9, 4, 9, 4, 4, 8, 8, 9, 4, 8, 9, 2, 2, 2, 2, 3, 0, 7, 9, 9, 9, 5, 6, 4, 3, 2, 4, 0, 9, 6, 4, 5, 9, 2, 7, 3, 1, 7, 2, 3, 5, 4, 3, 3, 5, 9, 1, 4, 0, 4, 8, 9, 1, 5, 1, 4, 5, 4, 7, 9, 5, 5, 1, 5, 0, 4, 9, 4, 9, 3, 4, 7, 6, 5, 9, 7, 2, 1, 8, 4, 4, 4, 2, 9, 6, 6, 4, 6, 8, 5, 6, 8, 1, 7, 1, 2, 2, 0, 4, 4, 1, 3, 2, 6, 3, 9, 0, 3, 2, 0, 7, 1, 2, 0, 6, 6, 1, 4, 6, 7, 4, 1, 5, 9, 8, 3, 9, 4, 6, 5, 4, 4, 3, 8, 5, 1, 3, 5, 9, 4, 5, 1, 6, 4, 5, 3, 8, 2, 6, 8, 6, 5, 7, 9, 5, 3, 2, 9, 2, 4, 9, 6, 2, 3, 5, 0, 7, 7, 7, 6, 5, 0, 5, 6, 9, 5, 6, 3, 1, 5, 1, 5, 2, 1, 9, 9, 9, 7, 2, 2, 3, 3, 1, 1, 2, 9, 9, 0, 2, 6, 8, 1, 3, 5, 9, 1, 7, 7, 3, 1, 7, 0, 2, 2, 0, 1, 4, 0, 2, 0, 0, 5, 3, 8, 7, 1, 7, 1, 2, 6, 0, 6, 0, 9, 7, 0, 6, 2, 8, 3, 8, 0, 2, 6, 2, 6, 5, 8, 3, 4, 1, 0, 2, 9, 9, 5, 6, 3, 6, 7, 6, 4, 6, 1, 9, 0, 6, 0, 7, 4, 4, 3, 8, 5, 7, 9, 3, 6, 0, 7, 4, 1, 9, 4, 4, 0, 5, 8, 3, 0, 1, 8, 2, 4, 5, 0, 7, 3, 2, 5, 3, 5, 1, 9, 3, 5, 0, 0, 3, 6, 0, 6, 9, 8, 5, 6, 5, 2, 8, 4, 2, 7, 2, 6, 6, 2, 5, 8, 2, 0, 4, 6, 8, 9, 9, 7, 4, 8, 3, 3, 3, 3, 6, 1, 0, 5, 6, 3, 9, 7, 9, 6, 0, 2, 3, 8, 6, 4, 3, 2, 5, 8, 7, 8, 9, 2, 4, 0, 6, 3, 2, 7, 6, 9, 8, 8, 3, 3, 5, 5, 6, 7, 3, 5, 0, 3, 8, 9, 5, 6, 7, 9, 0, 9, 5, 0, 2, 2, 0, 3, 5, 4, 9, 0, 0, 1, 6, 0, 3, 4, 2, 1, 6, 4, 3, 8, 1, 2, 3, 9, 3, 8, 2, 5, 6, 5, 6, 9, 8, 4, 0, 8, 7, 7, 5, 1, 9, 7, 5, 2, 7, 1, 0]\n",
      "[9, 6, 6, 2, 4, 9, 9, 3, 3, 4, 2, 8, 0, 4, 5, 8, 4, 3, 4, 6, 5, 0, 7, 8, 4, 8, 7, 7, 7, 1, 8, 8, 1, 6, 7, 6, 0, 3, 1, 2, 8, 2, 5, 2, 6, 0, 0, 5, 6, 3, 0, 8, 9, 2, 8, 0, 0, 5, 1, 8, 3, 0, 7, 3, 6, 8, 6, 5, 4, 3, 7, 7, 3, 9, 3, 5, 6, 7, 3, 1, 1, 4, 8, 9, 2, 9, 4, 6, 6, 3, 8, 3, 4, 4, 6, 0, 2, 4, 8, 0, 9, 2, 9, 7, 7, 9, 3, 5, 8, 7, 0, 8, 4, 3, 9, 6, 2, 2, 1, 4, 6, 8, 1, 8, 7, 1, 2, 2, 8, 1, 3, 9, 1, 1, 7, 9, 2, 5, 9, 2, 8, 1, 1, 8, 7, 7, 8, 6, 5, 7, 9, 4, 5, 5, 1, 9, 6, 5, 9, 9, 4, 1, 1, 8, 4, 3, 0, 2, 9, 7, 4, 4, 9, 5, 2, 3, 0, 2, 4, 9, 7, 6, 8, 1, 2, 4, 3, 0, 7, 2, 6, 7, 0, 6, 0, 1, 3, 4, 5, 2, 0, 0, 0, 4, 9, 2, 1, 5, 7, 3, 1, 0, 5, 9, 6, 3, 6, 3, 0, 4, 2, 8, 0, 5, 1, 7, 5, 2, 8, 2, 5, 0, 8, 8, 9, 4, 5, 6, 9, 6, 5, 3, 0, 8, 8, 2, 3, 7, 6, 5, 8, 7, 3, 3, 8, 4, 8, 3, 2, 6, 8, 3, 9, 4, 3, 4, 7, 1, 7, 9, 1, 4, 4, 3, 1, 4, 7, 0, 6, 5, 6, 3, 7, 0, 3, 2, 7, 9, 8, 0, 7, 7, 2, 6, 7, 0, 1, 8, 0, 6, 7, 7, 4, 5, 0, 1, 2, 2, 7, 3, 7, 1, 5, 6, 1, 7, 9, 7, 1, 8, 6, 7, 3, 2, 5, 7, 6, 3, 9, 3, 2, 4, 7, 7, 5, 0, 8, 4, 6, 6, 8, 4, 9, 5, 5, 0, 5, 4, 3, 3, 7, 5, 6, 9, 9, 7, 6, 9, 6, 3, 7, 5, 7, 1, 6, 6, 1, 7, 3, 0, 7, 8, 0, 5, 8, 0, 1, 0, 7, 7, 8, 0, 0, 5, 4, 1, 7, 3, 4, 5, 3, 5, 0, 4, 1, 1, 3, 4, 8, 0, 9, 1, 5, 2, 7, 3, 6, 8, 5, 2, 0, 6, 7, 6, 8, 5, 9, 4, 4, 0, 0, 2, 0, 1, 2, 4, 0, 4, 8, 5, 2, 3, 4, 1, 8, 4, 0, 5, 2, 5, 7, 8, 5, 6, 9, 4, 9, 2, 5, 5, 4, 3, 4, 5, 4, 0, 8, 1, 7, 2, 9, 8, 0, 3, 3, 1, 9, 7, 9, 5, 0, 7, 4, 1, 9, 2, 6, 5, 1, 4, 0, 3, 2, 2, 4, 8, 9, 0, 0, 1, 4, 8, 9, 1, 7, 3, 8, 9, 5, 0, 7, 5, 9, 4, 1, 7, 5, 6, 6, 6, 2, 9, 6, 6, 6, 9, 8, 3, 4, 1, 9, 8, 9, 1, 3, 3, 3, 2, 5, 6, 7, 2, 9, 8, 5, 4, 1, 3, 5, 0, 8, 6, 8, 9, 2, 1, 9, 4, 5, 6, 6, 0, 3, 3, 3, 4, 1, 9, 4, 9, 4, 4, 8, 8, 9, 4, 8, 9, 2, 2, 2, 2, 3, 0, 7, 9, 9, 9, 5, 6, 4, 3, 2, 4, 0, 9, 6, 4, 5, 9, 2, 7, 3, 1, 7, 2, 3, 5, 4, 3, 3, 5, 9, 1, 4, 0, 4, 8, 9, 1, 5, 1, 4, 5, 4, 7, 9, 5, 5, 1, 5, 0, 4, 9, 4, 9, 3, 4, 7, 6, 5, 9, 7, 2, 1, 8, 4, 4, 4, 2, 9, 6, 6, 4, 6, 8, 5, 6, 8, 1, 7, 1, 2, 2, 0, 4, 4, 1, 3, 2, 6, 3, 9, 0, 3, 2, 0, 7, 1, 2, 0, 6, 6, 1, 4, 6, 7, 4, 1, 5, 9, 8, 3, 9, 4, 6, 5, 4, 4, 3, 8, 5, 1, 3, 5, 9, 4, 5, 1, 6, 4, 5, 3, 8, 2, 6, 8, 6, 5, 7, 9, 5, 3, 2, 9, 2, 4, 9, 6, 2, 3, 5, 0, 7, 7, 7, 6, 5, 0, 5, 6, 9, 5, 6, 3, 1, 5, 1, 5, 2, 1, 9, 9, 9, 7, 2, 2, 3, 3, 1, 1, 2, 9, 9, 0, 2, 6, 8, 1, 3, 5, 9, 1, 7, 7, 3, 1, 7, 0, 2, 2, 0, 1, 4, 0, 2, 0, 0, 5, 3, 8, 7, 1, 7, 1, 2, 6, 0, 6, 0, 9, 7, 0, 6, 2, 8, 3, 8, 0, 2, 6, 2, 6, 5, 8, 3, 4, 1, 0, 2, 9, 9, 5, 6, 3, 6, 7, 6, 4, 6, 1, 9, 0, 6, 0, 7, 4, 4, 3, 8, 5, 7, 9, 3, 6, 0, 7, 4, 1, 9, 4, 4, 0, 5, 8, 3, 0, 1, 8, 2, 4, 5, 0, 7, 3, 2, 5, 3, 5, 1, 9, 3, 5, 0, 0, 3, 6, 0, 6, 9, 8, 5, 6, 5, 2, 8, 4, 2, 7, 2, 6, 6, 2, 5, 8, 2, 0, 4, 6, 8, 9, 9, 7, 4, 8, 3, 3, 3, 3, 6, 1, 0, 5, 6, 3, 9, 7, 9, 6, 0, 2, 3, 8, 6, 4, 3, 2, 5, 8, 7, 8, 9, 2, 4, 0, 6, 3, 2, 7, 6, 9, 8, 8, 3, 3, 5, 5, 6, 7, 3, 5, 0, 3, 8, 9, 5, 6, 7, 9, 0, 9, 5, 0, 2, 2, 0, 3, 5, 4, 9, 0, 0, 1, 6, 0, 3, 4, 2, 1, 6, 4, 3, 8, 1, 2, 3, 9, 3, 8, 2, 5, 6, 5, 6, 9, 8, 4, 0, 8, 7, 7, 5, 1, 9, 7, 5, 2, 7, 1, 0]\n",
      "[9, 6, 6, 2, 4, 9, 9, 3, 3, 4, 2, 8, 0, 4, 5, 8, 4, 3, 4, 6, 5, 0, 7, 8, 4, 8, 7, 7, 7, 1, 8, 8, 1, 6, 7, 6, 0, 3, 1, 2, 8, 2, 5, 2, 6, 0, 0, 5, 6, 3, 0, 8, 9, 2, 8, 0, 0, 5, 1, 8, 3, 0, 7, 3, 6, 8, 6, 5, 4, 3, 7, 7, 3, 9, 3, 5, 6, 7, 3, 1, 1, 4, 8, 9, 2, 9, 4, 6, 6, 3, 8, 3, 4, 4, 6, 0, 2, 4, 8, 0, 9, 2, 9, 7, 7, 9, 3, 5, 8, 7, 0, 8, 4, 3, 9, 6, 2, 2, 1, 4, 6, 8, 1, 8, 7, 1, 2, 2, 8, 1, 3, 9, 1, 1, 7, 9, 2, 5, 9, 2, 8, 1, 1, 8, 7, 7, 8, 6, 5, 7, 9, 4, 5, 5, 1, 9, 6, 5, 9, 9, 4, 1, 1, 8, 4, 3, 0, 2, 9, 7, 4, 4, 9, 5, 2, 3, 0, 2, 4, 9, 7, 6, 8, 1, 2, 4, 3, 0, 7, 2, 6, 7, 0, 6, 0, 1, 3, 4, 5, 2, 0, 0, 0, 4, 9, 2, 1, 5, 7, 3, 1, 0, 5, 9, 6, 3, 6, 3, 0, 4, 2, 8, 0, 5, 1, 7, 5, 2, 8, 2, 5, 0, 8, 8, 9, 4, 5, 6, 9, 6, 5, 3, 0, 8, 8, 2, 3, 7, 6, 5, 8, 7, 3, 3, 8, 4, 8, 3, 2, 6, 8, 3, 9, 4, 3, 4, 7, 1, 7, 9, 1, 4, 4, 3, 1, 4, 7, 0, 6, 5, 6, 3, 7, 0, 3, 2, 7, 9, 8, 0, 7, 7, 2, 6, 7, 0, 1, 8, 0, 6, 7, 7, 4, 5, 0, 1, 2, 2, 7, 3, 7, 1, 5, 6, 1, 7, 9, 7, 1, 8, 6, 7, 3, 2, 5, 7, 6, 3, 9, 3, 2, 4, 7, 7, 5, 0, 8, 4, 6, 6, 8, 4, 9, 5, 5, 0, 5, 4, 3, 3, 7, 5, 6, 9, 9, 7, 6, 9, 6, 3, 7, 5, 7, 1, 6, 6, 1, 7, 3, 0, 7, 8, 0, 5, 8, 0, 1, 0, 7, 7, 8, 0, 0, 5, 4, 1, 7, 3, 4, 5, 3, 5, 0, 4, 1, 1, 3, 4, 8, 0, 9, 1, 5, 2, 7, 3, 6, 8, 5, 2, 0, 6, 7, 6, 8, 5, 9, 4, 4, 0, 0, 2, 0, 1, 2, 4, 0, 4, 8, 5, 2, 3, 4, 1, 8, 4, 0, 5, 2, 5, 7, 8, 5, 6, 9, 4, 9, 2, 5, 5, 4, 3, 4, 5, 4, 0, 8, 1, 7, 2, 9, 8, 0, 3, 3, 1, 9, 7, 9, 5, 0, 7, 4, 1, 9, 2, 6, 5, 1, 4, 0, 3, 2, 2, 4, 8, 9, 0, 0, 1, 4, 8, 9, 1, 7, 3, 8, 9, 5, 0, 7, 5, 9, 4, 1, 7, 5, 6, 6, 6, 2, 9, 6, 6, 6, 9, 8, 3, 4, 1, 9, 8, 9, 1, 3, 3, 3, 2, 5, 6, 7, 2, 9, 8, 5, 4, 1, 3, 5, 0, 8, 6, 8, 9, 2, 1, 9, 4, 5, 6, 6, 0, 3, 3, 3, 4, 1, 9, 4, 9, 4, 4, 8, 8, 9, 4, 8, 9, 2, 2, 2, 2, 3, 0, 7, 9, 9, 9, 5, 6, 4, 3, 2, 4, 0, 9, 6, 4, 5, 9, 2, 7, 3, 1, 7, 2, 3, 5, 4, 3, 3, 5, 9, 1, 4, 0, 4, 8, 9, 1, 5, 1, 4, 5, 4, 7, 9, 5, 5, 1, 5, 0, 4, 9, 4, 9, 3, 4, 7, 6, 5, 9, 7, 2, 1, 8, 4, 4, 4, 2, 9, 6, 6, 4, 6, 8, 5, 6, 8, 1, 7, 1, 2, 2, 0, 4, 4, 1, 3, 2, 6, 3, 9, 0, 3, 2, 0, 7, 1, 2, 0, 6, 6, 1, 4, 6, 7, 4, 1, 5, 9, 8, 3, 9, 4, 6, 5, 4, 4, 3, 8, 5, 1, 3, 5, 9, 4, 5, 1, 6, 4, 5, 3, 8, 2, 6, 8, 6, 5, 7, 9, 5, 3, 2, 9, 2, 4, 9, 6, 2, 3, 5, 0, 7, 7, 7, 6, 5, 0, 5, 6, 9, 5, 6, 3, 1, 5, 1, 5, 2, 1, 9, 9, 9, 7, 2, 2, 3, 3, 1, 1, 2, 9, 9, 0, 2, 6, 8, 1, 3, 5, 9, 1, 7, 7, 3, 1, 7, 0, 2, 2, 0, 1, 4, 0, 2, 0, 0, 5, 3, 8, 7, 1, 7, 1, 2, 6, 0, 6, 0, 9, 7, 0, 6, 2, 8, 3, 8, 0, 2, 6, 2, 6, 5, 8, 3, 4, 1, 0, 2, 9, 9, 5, 6, 3, 6, 7, 6, 4, 6, 1, 9, 0, 6, 0, 7, 4, 4, 3, 8, 5, 7, 9, 3, 6, 0, 7, 4, 1, 9, 4, 4, 0, 5, 8, 3, 0, 1, 8, 2, 4, 5, 0, 7, 3, 2, 5, 3, 5, 1, 9, 3, 5, 0, 0, 3, 6, 0, 6, 9, 8, 5, 6, 5, 2, 8, 4, 2, 7, 2, 6, 6, 2, 5, 8, 2, 0, 4, 6, 8, 9, 9, 7, 4, 8, 3, 3, 3, 3, 6, 1, 0, 5, 6, 3, 9, 7, 9, 6, 0, 2, 3, 8, 6, 4, 3, 2, 5, 8, 7, 8, 9, 2, 4, 0, 6, 3, 2, 7, 6, 9, 8, 8, 3, 3, 5, 5, 6, 7, 3, 5, 0, 3, 8, 9, 5, 6, 7, 9, 0, 9, 5, 0, 2, 2, 0, 3, 5, 4, 9, 0, 0, 1, 6, 0, 3, 4, 2, 1, 6, 4, 3, 8, 1, 2, 3, 9, 3, 8, 2, 5, 6, 5, 6, 9, 8, 4, 0, 8, 7, 7, 5, 1, 9, 7, 5, 2, 7, 1, 0]\n",
      "[9, 6, 6, 2, 4, 9, 9, 3, 3, 4, 2, 8, 0, 4, 5, 8, 4, 3, 4, 6, 5, 0, 7, 8, 4, 8, 7, 7, 7, 1, 8, 8, 1, 6, 7, 6, 0, 3, 1, 2, 8, 2, 5, 2, 6, 0, 0, 5, 6, 3, 0, 8, 9, 2, 8, 0, 0, 5, 1, 8, 3, 0, 7, 3, 6, 8, 6, 5, 4, 3, 7, 7, 3, 9, 3, 5, 6, 7, 3, 1, 1, 4, 8, 9, 2, 9, 4, 6, 6, 3, 8, 3, 4, 4, 6, 0, 2, 4, 8, 0, 9, 2, 9, 7, 7, 9, 3, 5, 8, 7, 0, 8, 4, 3, 9, 6, 2, 2, 1, 4, 6, 8, 1, 8, 7, 1, 2, 2, 8, 1, 3, 9, 1, 1, 7, 9, 2, 5, 9, 2, 8, 1, 1, 8, 7, 7, 8, 6, 5, 7, 9, 4, 5, 5, 1, 9, 6, 5, 9, 9, 4, 1, 1, 8, 4, 3, 0, 2, 9, 7, 4, 4, 9, 5, 2, 3, 0, 2, 4, 9, 7, 6, 8, 1, 2, 4, 3, 0, 7, 2, 6, 7, 0, 6, 0, 1, 3, 4, 5, 2, 0, 0, 0, 4, 9, 2, 1, 5, 7, 3, 1, 0, 5, 9, 6, 3, 6, 3, 0, 4, 2, 8, 0, 5, 1, 7, 5, 2, 8, 2, 5, 0, 8, 8, 9, 4, 5, 6, 9, 6, 5, 3, 0, 8, 8, 2, 3, 7, 6, 5, 8, 7, 3, 3, 8, 4, 8, 3, 2, 6, 8, 3, 9, 4, 3, 4, 7, 1, 7, 9, 1, 4, 4, 3, 1, 4, 7, 0, 6, 5, 6, 3, 7, 0, 3, 2, 7, 9, 8, 0, 7, 7, 2, 6, 7, 0, 1, 8, 0, 6, 7, 7, 4, 5, 0, 1, 2, 2, 7, 3, 7, 1, 5, 6, 1, 7, 9, 7, 1, 8, 6, 7, 3, 2, 5, 7, 6, 3, 9, 3, 2, 4, 7, 7, 5, 0, 8, 4, 6, 6, 8, 4, 9, 5, 5, 0, 5, 4, 3, 3, 7, 5, 6, 9, 9, 7, 6, 9, 6, 3, 7, 5, 7, 1, 6, 6, 1, 7, 3, 0, 7, 8, 0, 5, 8, 0, 1, 0, 7, 7, 8, 0, 0, 5, 4, 1, 7, 3, 4, 5, 3, 5, 0, 4, 1, 1, 3, 4, 8, 0, 9, 1, 5, 2, 7, 3, 6, 8, 5, 2, 0, 6, 7, 6, 8, 5, 9, 4, 4, 0, 0, 2, 0, 1, 2, 4, 0, 4, 8, 5, 2, 3, 4, 1, 8, 4, 0, 5, 2, 5, 7, 8, 5, 6, 9, 4, 9, 2, 5, 5, 4, 3, 4, 5, 4, 0, 8, 1, 7, 2, 9, 8, 0, 3, 3, 1, 9, 7, 9, 5, 0, 7, 4, 1, 9, 2, 6, 5, 1, 4, 0, 3, 2, 2, 4, 8, 9, 0, 0, 1, 4, 8, 9, 1, 7, 3, 8, 9, 5, 0, 7, 5, 9, 4, 1, 7, 5, 6, 6, 6, 2, 9, 6, 6, 6, 9, 8, 3, 4, 1, 9, 8, 9, 1, 3, 3, 3, 2, 5, 6, 7, 2, 9, 8, 5, 4, 1, 3, 5, 0, 8, 6, 8, 9, 2, 1, 9, 4, 5, 6, 6, 0, 3, 3, 3, 4, 1, 9, 4, 9, 4, 4, 8, 8, 9, 4, 8, 9, 2, 2, 2, 2, 3, 0, 7, 9, 9, 9, 5, 6, 4, 3, 2, 4, 0, 9, 6, 4, 5, 9, 2, 7, 3, 1, 7, 2, 3, 5, 4, 3, 3, 5, 9, 1, 4, 0, 4, 8, 9, 1, 5, 1, 4, 5, 4, 7, 9, 5, 5, 1, 5, 0, 4, 9, 4, 9, 3, 4, 7, 6, 5, 9, 7, 2, 1, 8, 4, 4, 4, 2, 9, 6, 6, 4, 6, 8, 5, 6, 8, 1, 7, 1, 2, 2, 0, 4, 4, 1, 3, 2, 6, 3, 9, 0, 3, 2, 0, 7, 1, 2, 0, 6, 6, 1, 4, 6, 7, 4, 1, 5, 9, 8, 3, 9, 4, 6, 5, 4, 4, 3, 8, 5, 1, 3, 5, 9, 4, 5, 1, 6, 4, 5, 3, 8, 2, 6, 8, 6, 5, 7, 9, 5, 3, 2, 9, 2, 4, 9, 6, 2, 3, 5, 0, 7, 7, 7, 6, 5, 0, 5, 6, 9, 5, 6, 3, 1, 5, 1, 5, 2, 1, 9, 9, 9, 7, 2, 2, 3, 3, 1, 1, 2, 9, 9, 0, 2, 6, 8, 1, 3, 5, 9, 1, 7, 7, 3, 1, 7, 0, 2, 2, 0, 1, 4, 0, 2, 0, 0, 5, 3, 8, 7, 1, 7, 1, 2, 6, 0, 6, 0, 9, 7, 0, 6, 2, 8, 3, 8, 0, 2, 6, 2, 6, 5, 8, 3, 4, 1, 0, 2, 9, 9, 5, 6, 3, 6, 7, 6, 4, 6, 1, 9, 0, 6, 0, 7, 4, 4, 3, 8, 5, 7, 9, 3, 6, 0, 7, 4, 1, 9, 4, 4, 0, 5, 8, 3, 0, 1, 8, 2, 4, 5, 0, 7, 3, 2, 5, 3, 5, 1, 9, 3, 5, 0, 0, 3, 6, 0, 6, 9, 8, 5, 6, 5, 2, 8, 4, 2, 7, 2, 6, 6, 2, 5, 8, 2, 0, 4, 6, 8, 9, 9, 7, 4, 8, 3, 3, 3, 3, 6, 1, 0, 5, 6, 3, 9, 7, 9, 6, 0, 2, 3, 8, 6, 4, 3, 2, 5, 8, 7, 8, 9, 2, 4, 0, 6, 3, 2, 7, 6, 9, 8, 8, 3, 3, 5, 5, 6, 7, 3, 5, 0, 3, 8, 9, 5, 6, 7, 9, 0, 9, 5, 0, 2, 2, 0, 3, 5, 4, 9, 0, 0, 1, 6, 0, 3, 4, 2, 1, 6, 4, 3, 8, 1, 2, 3, 9, 3, 8, 2, 5, 6, 5, 6, 9, 8, 4, 0, 8, 7, 7, 5, 1, 9, 7, 5, 2, 7, 1, 0]\n",
      "[9, 6, 6, 2, 4, 9, 9, 3, 3, 4, 2, 8, 0, 4, 5, 8, 4, 3, 4, 6, 5, 0, 7, 8, 4, 8, 7, 7, 7, 1, 8, 8, 1, 6, 7, 6, 0, 3, 1, 2, 8, 2, 5, 2, 6, 0, 0, 5, 6, 3, 0, 8, 9, 2, 8, 0, 0, 5, 1, 8, 3, 0, 7, 3, 6, 8, 6, 5, 4, 3, 7, 7, 3, 9, 3, 5, 6, 7, 3, 1, 1, 4, 8, 9, 2, 9, 4, 6, 6, 3, 8, 3, 4, 4, 6, 0, 2, 4, 8, 0, 9, 2, 9, 7, 7, 9, 3, 5, 8, 7, 0, 8, 4, 3, 9, 6, 2, 2, 1, 4, 6, 8, 1, 8, 7, 1, 2, 2, 8, 1, 3, 9, 1, 1, 7, 9, 2, 5, 9, 2, 8, 1, 1, 8, 7, 7, 8, 6, 5, 7, 9, 4, 5, 5, 1, 9, 6, 5, 9, 9, 4, 1, 1, 8, 4, 3, 0, 2, 9, 7, 4, 4, 9, 5, 2, 3, 0, 2, 4, 9, 7, 6, 8, 1, 2, 4, 3, 0, 7, 2, 6, 7, 0, 6, 0, 1, 3, 4, 5, 2, 0, 0, 0, 4, 9, 2, 1, 5, 7, 3, 1, 0, 5, 9, 6, 3, 6, 3, 0, 4, 2, 8, 0, 5, 1, 7, 5, 2, 8, 2, 5, 0, 8, 8, 9, 4, 5, 6, 9, 6, 5, 3, 0, 8, 8, 2, 3, 7, 6, 5, 8, 7, 3, 3, 8, 4, 8, 3, 2, 6, 8, 3, 9, 4, 3, 4, 7, 1, 7, 9, 1, 4, 4, 3, 1, 4, 7, 0, 6, 5, 6, 3, 7, 0, 3, 2, 7, 9, 8, 0, 7, 7, 2, 6, 7, 0, 1, 8, 0, 6, 7, 7, 4, 5, 0, 1, 2, 2, 7, 3, 7, 1, 5, 6, 1, 7, 9, 7, 1, 8, 6, 7, 3, 2, 5, 7, 6, 3, 9, 3, 2, 4, 7, 7, 5, 0, 8, 4, 6, 6, 8, 4, 9, 5, 5, 0, 5, 4, 3, 3, 7, 5, 6, 9, 9, 7, 6, 9, 6, 3, 7, 5, 7, 1, 6, 6, 1, 7, 3, 0, 7, 8, 0, 5, 8, 0, 1, 0, 7, 7, 8, 0, 0, 5, 4, 1, 7, 3, 4, 5, 3, 5, 0, 4, 1, 1, 3, 4, 8, 0, 9, 1, 5, 2, 7, 3, 6, 8, 5, 2, 0, 6, 7, 6, 8, 5, 9, 4, 4, 0, 0, 2, 0, 1, 2, 4, 0, 4, 8, 5, 2, 3, 4, 1, 8, 4, 0, 5, 2, 5, 7, 8, 5, 6, 9, 4, 9, 2, 5, 5, 4, 3, 4, 5, 4, 0, 8, 1, 7, 2, 9, 8, 0, 3, 3, 1, 9, 7, 9, 5, 0, 7, 4, 1, 9, 2, 6, 5, 1, 4, 0, 3, 2, 2, 4, 8, 9, 0, 0, 1, 4, 8, 9, 1, 7, 3, 8, 9, 5, 0, 7, 5, 9, 4, 1, 7, 5, 6, 6, 6, 2, 9, 6, 6, 6, 9, 8, 3, 4, 1, 9, 8, 9, 1, 3, 3, 3, 2, 5, 6, 7, 2, 9, 8, 5, 4, 1, 3, 5, 0, 8, 6, 8, 9, 2, 1, 9, 4, 5, 6, 6, 0, 3, 3, 3, 4, 1, 9, 4, 9, 4, 4, 8, 8, 9, 4, 8, 9, 2, 2, 2, 2, 3, 0, 7, 9, 9, 9, 5, 6, 4, 3, 2, 4, 0, 9, 6, 4, 5, 9, 2, 7, 3, 1, 7, 2, 3, 5, 4, 3, 3, 5, 9, 1, 4, 0, 4, 8, 9, 1, 5, 1, 4, 5, 4, 7, 9, 5, 5, 1, 5, 0, 4, 9, 4, 9, 3, 4, 7, 6, 5, 9, 7, 2, 1, 8, 4, 4, 4, 2, 9, 6, 6, 4, 6, 8, 5, 6, 8, 1, 7, 1, 2, 2, 0, 4, 4, 1, 3, 2, 6, 3, 9, 0, 3, 2, 0, 7, 1, 2, 0, 6, 6, 1, 4, 6, 7, 4, 1, 5, 9, 8, 3, 9, 4, 6, 5, 4, 4, 3, 8, 5, 1, 3, 5, 9, 4, 5, 1, 6, 4, 5, 3, 8, 2, 6, 8, 6, 5, 7, 9, 5, 3, 2, 9, 2, 4, 9, 6, 2, 3, 5, 0, 7, 7, 7, 6, 5, 0, 5, 6, 9, 5, 6, 3, 1, 5, 1, 5, 2, 1, 9, 9, 9, 7, 2, 2, 3, 3, 1, 1, 2, 9, 9, 0, 2, 6, 8, 1, 3, 5, 9, 1, 7, 7, 3, 1, 7, 0, 2, 2, 0, 1, 4, 0, 2, 0, 0, 5, 3, 8, 7, 1, 7, 1, 2, 6, 0, 6, 0, 9, 7, 0, 6, 2, 8, 3, 8, 0, 2, 6, 2, 6, 5, 8, 3, 4, 1, 0, 2, 9, 9, 5, 6, 3, 6, 7, 6, 4, 6, 1, 9, 0, 6, 0, 7, 4, 4, 3, 8, 5, 7, 9, 3, 6, 0, 7, 4, 1, 9, 4, 4, 0, 5, 8, 3, 0, 1, 8, 2, 4, 5, 0, 7, 3, 2, 5, 3, 5, 1, 9, 3, 5, 0, 0, 3, 6, 0, 6, 9, 8, 5, 6, 5, 2, 8, 4, 2, 7, 2, 6, 6, 2, 5, 8, 2, 0, 4, 6, 8, 9, 9, 7, 4, 8, 3, 3, 3, 3, 6, 1, 0, 5, 6, 3, 9, 7, 9, 6, 0, 2, 3, 8, 6, 4, 3, 2, 5, 8, 7, 8, 9, 2, 4, 0, 6, 3, 2, 7, 6, 9, 8, 8, 3, 3, 5, 5, 6, 7, 3, 5, 0, 3, 8, 9, 5, 6, 7, 9, 0, 9, 5, 0, 2, 2, 0, 3, 5, 4, 9, 0, 0, 1, 6, 0, 3, 4, 2, 1, 6, 4, 3, 8, 1, 2, 3, 9, 3, 8, 2, 5, 6, 5, 6, 9, 8, 4, 0, 8, 7, 7, 5, 1, 9, 7, 5, 2, 7, 1, 0]\n",
      "[9, 6, 6, 2, 4, 9, 9, 3, 3, 4, 2, 8, 0, 4, 5, 8, 4, 3, 4, 6, 5, 0, 7, 8, 4, 8, 7, 7, 7, 1, 8, 8, 1, 6, 7, 6, 0, 3, 1, 2, 8, 2, 5, 2, 6, 0, 0, 5, 6, 3, 0, 8, 9, 2, 8, 0, 0, 5, 1, 8, 3, 0, 7, 3, 6, 8, 6, 5, 4, 3, 7, 7, 3, 9, 3, 5, 6, 7, 3, 1, 1, 4, 8, 9, 2, 9, 4, 6, 6, 3, 8, 3, 4, 4, 6, 0, 2, 4, 8, 0, 9, 2, 9, 7, 7, 9, 3, 5, 8, 7, 0, 8, 4, 3, 9, 6, 2, 2, 1, 4, 6, 8, 1, 8, 7, 1, 2, 2, 8, 1, 3, 9, 1, 1, 7, 9, 2, 5, 9, 2, 8, 1, 1, 8, 7, 7, 8, 6, 5, 7, 9, 4, 5, 5, 1, 9, 6, 5, 9, 9, 4, 1, 1, 8, 4, 3, 0, 2, 9, 7, 4, 4, 9, 5, 2, 3, 0, 2, 4, 9, 7, 6, 8, 1, 2, 4, 3, 0, 7, 2, 6, 7, 0, 6, 0, 1, 3, 4, 5, 2, 0, 0, 0, 4, 9, 2, 1, 5, 7, 3, 1, 0, 5, 9, 6, 3, 6, 3, 0, 4, 2, 8, 0, 5, 1, 7, 5, 2, 8, 2, 5, 0, 8, 8, 9, 4, 5, 6, 9, 6, 5, 3, 0, 8, 8, 2, 3, 7, 6, 5, 8, 7, 3, 3, 8, 4, 8, 3, 2, 6, 8, 3, 9, 4, 3, 4, 7, 1, 7, 9, 1, 4, 4, 3, 1, 4, 7, 0, 6, 5, 6, 3, 7, 0, 3, 2, 7, 9, 8, 0, 7, 7, 2, 6, 7, 0, 1, 8, 0, 6, 7, 7, 4, 5, 0, 1, 2, 2, 7, 3, 7, 1, 5, 6, 1, 7, 9, 7, 1, 8, 6, 7, 3, 2, 5, 7, 6, 3, 9, 3, 2, 4, 7, 7, 5, 0, 8, 4, 6, 6, 8, 4, 9, 5, 5, 0, 5, 4, 3, 3, 7, 5, 6, 9, 9, 7, 6, 9, 6, 3, 7, 5, 7, 1, 6, 6, 1, 7, 3, 0, 7, 8, 0, 5, 8, 0, 1, 0, 7, 7, 8, 0, 0, 5, 4, 1, 7, 3, 4, 5, 3, 5, 0, 4, 1, 1, 3, 4, 8, 0, 9, 1, 5, 2, 7, 3, 6, 8, 5, 2, 0, 6, 7, 6, 8, 5, 9, 4, 4, 0, 0, 2, 0, 1, 2, 4, 0, 4, 8, 5, 2, 3, 4, 1, 8, 4, 0, 5, 2, 5, 7, 8, 5, 6, 9, 4, 9, 2, 5, 5, 4, 3, 4, 5, 4, 0, 8, 1, 7, 2, 9, 8, 0, 3, 3, 1, 9, 7, 9, 5, 0, 7, 4, 1, 9, 2, 6, 5, 1, 4, 0, 3, 2, 2, 4, 8, 9, 0, 0, 1, 4, 8, 9, 1, 7, 3, 8, 9, 5, 0, 7, 5, 9, 4, 1, 7, 5, 6, 6, 6, 2, 9, 6, 6, 6, 9, 8, 3, 4, 1, 9, 8, 9, 1, 3, 3, 3, 2, 5, 6, 7, 2, 9, 8, 5, 4, 1, 3, 5, 0, 8, 6, 8, 9, 2, 1, 9, 4, 5, 6, 6, 0, 3, 3, 3, 4, 1, 9, 4, 9, 4, 4, 8, 8, 9, 4, 8, 9, 2, 2, 2, 2, 3, 0, 7, 9, 9, 9, 5, 6, 4, 3, 2, 4, 0, 9, 6, 4, 5, 9, 2, 7, 3, 1, 7, 2, 3, 5, 4, 3, 3, 5, 9, 1, 4, 0, 4, 8, 9, 1, 5, 1, 4, 5, 4, 7, 9, 5, 5, 1, 5, 0, 4, 9, 4, 9, 3, 4, 7, 6, 5, 9, 7, 2, 1, 8, 4, 4, 4, 2, 9, 6, 6, 4, 6, 8, 5, 6, 8, 1, 7, 1, 2, 2, 0, 4, 4, 1, 3, 2, 6, 3, 9, 0, 3, 2, 0, 7, 1, 2, 0, 6, 6, 1, 4, 6, 7, 4, 1, 5, 9, 8, 3, 9, 4, 6, 5, 4, 4, 3, 8, 5, 1, 3, 5, 9, 4, 5, 1, 6, 4, 5, 3, 8, 2, 6, 8, 6, 5, 7, 9, 5, 3, 2, 9, 2, 4, 9, 6, 2, 3, 5, 0, 7, 7, 7, 6, 5, 0, 5, 6, 9, 5, 6, 3, 1, 5, 1, 5, 2, 1, 9, 9, 9, 7, 2, 2, 3, 3, 1, 1, 2, 9, 9, 0, 2, 6, 8, 1, 3, 5, 9, 1, 7, 7, 3, 1, 7, 0, 2, 2, 0, 1, 4, 0, 2, 0, 0, 5, 3, 8, 7, 1, 7, 1, 2, 6, 0, 6, 0, 9, 7, 0, 6, 2, 8, 3, 8, 0, 2, 6, 2, 6, 5, 8, 3, 4, 1, 0, 2, 9, 9, 5, 6, 3, 6, 7, 6, 4, 6, 1, 9, 0, 6, 0, 7, 4, 4, 3, 8, 5, 7, 9, 3, 6, 0, 7, 4, 1, 9, 4, 4, 0, 5, 8, 3, 0, 1, 8, 2, 4, 5, 0, 7, 3, 2, 5, 3, 5, 1, 9, 3, 5, 0, 0, 3, 6, 0, 6, 9, 8, 5, 6, 5, 2, 8, 4, 2, 7, 2, 6, 6, 2, 5, 8, 2, 0, 4, 6, 8, 9, 9, 7, 4, 8, 3, 3, 3, 3, 6, 1, 0, 5, 6, 3, 9, 7, 9, 6, 0, 2, 3, 8, 6, 4, 3, 2, 5, 8, 7, 8, 9, 2, 4, 0, 6, 3, 2, 7, 6, 9, 8, 8, 3, 3, 5, 5, 6, 7, 3, 5, 0, 3, 8, 9, 5, 6, 7, 9, 0, 9, 5, 0, 2, 2, 0, 3, 5, 4, 9, 0, 0, 1, 6, 0, 3, 4, 2, 1, 6, 4, 3, 8, 1, 2, 3, 9, 3, 8, 2, 5, 6, 5, 6, 9, 8, 4, 0, 8, 7, 7, 5, 1, 9, 7, 5, 2, 7, 1, 0]\n",
      "[9, 6, 6, 2, 4, 9, 9, 3, 3, 4, 2, 8, 0, 4, 5, 8, 4, 3, 4, 6, 5, 0, 7, 8, 4, 8, 7, 7, 7, 1, 8, 8, 1, 6, 7, 6, 0, 3, 1, 2, 8, 2, 5, 2, 6, 0, 0, 5, 6, 3, 0, 8, 9, 2, 8, 0, 0, 5, 1, 8, 3, 0, 7, 3, 6, 8, 6, 5, 4, 3, 7, 7, 3, 9, 3, 5, 6, 7, 3, 1, 1, 4, 8, 9, 2, 9, 4, 6, 6, 3, 8, 3, 4, 4, 6, 0, 2, 4, 8, 0, 9, 2, 9, 7, 7, 9, 3, 5, 8, 7, 0, 8, 4, 3, 9, 6, 2, 2, 1, 4, 6, 8, 1, 8, 7, 1, 2, 2, 8, 1, 3, 9, 1, 1, 7, 9, 2, 5, 9, 2, 8, 1, 1, 8, 7, 7, 8, 6, 5, 7, 9, 4, 5, 5, 1, 9, 6, 5, 9, 9, 4, 1, 1, 8, 4, 3, 0, 2, 9, 7, 4, 4, 9, 5, 2, 3, 0, 2, 4, 9, 7, 6, 8, 1, 2, 4, 3, 0, 7, 2, 6, 7, 0, 6, 0, 1, 3, 4, 5, 2, 0, 0, 0, 4, 9, 2, 1, 5, 7, 3, 1, 0, 5, 9, 6, 3, 6, 3, 0, 4, 2, 8, 0, 5, 1, 7, 5, 2, 8, 2, 5, 0, 8, 8, 9, 4, 5, 6, 9, 6, 5, 3, 0, 8, 8, 2, 3, 7, 6, 5, 8, 7, 3, 3, 8, 4, 8, 3, 2, 6, 8, 3, 9, 4, 3, 4, 7, 1, 7, 9, 1, 4, 4, 3, 1, 4, 7, 0, 6, 5, 6, 3, 7, 0, 3, 2, 7, 9, 8, 0, 7, 7, 2, 6, 7, 0, 1, 8, 0, 6, 7, 7, 4, 5, 0, 1, 2, 2, 7, 3, 7, 1, 5, 6, 1, 7, 9, 7, 1, 8, 6, 7, 3, 2, 5, 7, 6, 3, 9, 3, 2, 4, 7, 7, 5, 0, 8, 4, 6, 6, 8, 4, 9, 5, 5, 0, 5, 4, 3, 3, 7, 5, 6, 9, 9, 7, 6, 9, 6, 3, 7, 5, 7, 1, 6, 6, 1, 7, 3, 0, 7, 8, 0, 5, 8, 0, 1, 0, 7, 7, 8, 0, 0, 5, 4, 1, 7, 3, 4, 5, 3, 5, 0, 4, 1, 1, 3, 4, 8, 0, 9, 1, 5, 2, 7, 3, 6, 8, 5, 2, 0, 6, 7, 6, 8, 5, 9, 4, 4, 0, 0, 2, 0, 1, 2, 4, 0, 4, 8, 5, 2, 3, 4, 1, 8, 4, 0, 5, 2, 5, 7, 8, 5, 6, 9, 4, 9, 2, 5, 5, 4, 3, 4, 5, 4, 0, 8, 1, 7, 2, 9, 8, 0, 3, 3, 1, 9, 7, 9, 5, 0, 7, 4, 1, 9, 2, 6, 5, 1, 4, 0, 3, 2, 2, 4, 8, 9, 0, 0, 1, 4, 8, 9, 1, 7, 3, 8, 9, 5, 0, 7, 5, 9, 4, 1, 7, 5, 6, 6, 6, 2, 9, 6, 6, 6, 9, 8, 3, 4, 1, 9, 8, 9, 1, 3, 3, 3, 2, 5, 6, 7, 2, 9, 8, 5, 4, 1, 3, 5, 0, 8, 6, 8, 9, 2, 1, 9, 4, 5, 6, 6, 0, 3, 3, 3, 4, 1, 9, 4, 9, 4, 4, 8, 8, 9, 4, 8, 9, 2, 2, 2, 2, 3, 0, 7, 9, 9, 9, 5, 6, 4, 3, 2, 4, 0, 9, 6, 4, 5, 9, 2, 7, 3, 1, 7, 2, 3, 5, 4, 3, 3, 5, 9, 1, 4, 0, 4, 8, 9, 1, 5, 1, 4, 5, 4, 7, 9, 5, 5, 1, 5, 0, 4, 9, 4, 9, 3, 4, 7, 6, 5, 9, 7, 2, 1, 8, 4, 4, 4, 2, 9, 6, 6, 4, 6, 8, 5, 6, 8, 1, 7, 1, 2, 2, 0, 4, 4, 1, 3, 2, 6, 3, 9, 0, 3, 2, 0, 7, 1, 2, 0, 6, 6, 1, 4, 6, 7, 4, 1, 5, 9, 8, 3, 9, 4, 6, 5, 4, 4, 3, 8, 5, 1, 3, 5, 9, 4, 5, 1, 6, 4, 5, 3, 8, 2, 6, 8, 6, 5, 7, 9, 5, 3, 2, 9, 2, 4, 9, 6, 2, 3, 5, 0, 7, 7, 7, 6, 5, 0, 5, 6, 9, 5, 6, 3, 1, 5, 1, 5, 2, 1, 9, 9, 9, 7, 2, 2, 3, 3, 1, 1, 2, 9, 9, 0, 2, 6, 8, 1, 3, 5, 9, 1, 7, 7, 3, 1, 7, 0, 2, 2, 0, 1, 4, 0, 2, 0, 0, 5, 3, 8, 7, 1, 7, 1, 2, 6, 0, 6, 0, 9, 7, 0, 6, 2, 8, 3, 8, 0, 2, 6, 2, 6, 5, 8, 3, 4, 1, 0, 2, 9, 9, 5, 6, 3, 6, 7, 6, 4, 6, 1, 9, 0, 6, 0, 7, 4, 4, 3, 8, 5, 7, 9, 3, 6, 0, 7, 4, 1, 9, 4, 4, 0, 5, 8, 3, 0, 1, 8, 2, 4, 5, 0, 7, 3, 2, 5, 3, 5, 1, 9, 3, 5, 0, 0, 3, 6, 0, 6, 9, 8, 5, 6, 5, 2, 8, 4, 2, 7, 2, 6, 6, 2, 5, 8, 2, 0, 4, 6, 8, 9, 9, 7, 4, 8, 3, 3, 3, 3, 6, 1, 0, 5, 6, 3, 9, 7, 9, 6, 0, 2, 3, 8, 6, 4, 3, 2, 5, 8, 7, 8, 9, 2, 4, 0, 6, 3, 2, 7, 6, 9, 8, 8, 3, 3, 5, 5, 6, 7, 3, 5, 0, 3, 8, 9, 5, 6, 7, 9, 0, 9, 5, 0, 2, 2, 0, 3, 5, 4, 9, 0, 0, 1, 6, 0, 3, 4, 2, 1, 6, 4, 3, 8, 1, 2, 3, 9, 3, 8, 2, 5, 6, 5, 6, 9, 8, 4, 0, 8, 7, 7, 5, 1, 9, 7, 5, 2, 7, 1, 0]\n",
      "[9, 6, 6, 2, 4, 9, 9, 3, 3, 4, 2, 8, 0, 4, 5, 8, 4, 3, 4, 6, 5, 0, 7, 8, 4, 8, 7, 7, 7, 1, 8, 8, 1, 6, 7, 6, 0, 3, 1, 2, 8, 2, 5, 2, 6, 0, 0, 5, 6, 3, 0, 8, 9, 2, 8, 0, 0, 5, 1, 8, 3, 0, 7, 3, 6, 8, 6, 5, 4, 3, 7, 7, 3, 9, 3, 5, 6, 7, 3, 1, 1, 4, 8, 9, 2, 9, 4, 6, 6, 3, 8, 3, 4, 4, 6, 0, 2, 4, 8, 0, 9, 2, 9, 7, 7, 9, 3, 5, 8, 7, 0, 8, 4, 3, 9, 6, 2, 2, 1, 4, 6, 8, 1, 8, 7, 1, 2, 2, 8, 1, 3, 9, 1, 1, 7, 9, 2, 5, 9, 2, 8, 1, 1, 8, 7, 7, 8, 6, 5, 7, 9, 4, 5, 5, 1, 9, 6, 5, 9, 9, 4, 1, 1, 8, 4, 3, 0, 2, 9, 7, 4, 4, 9, 5, 2, 3, 0, 2, 4, 9, 7, 6, 8, 1, 2, 4, 3, 0, 7, 2, 6, 7, 0, 6, 0, 1, 3, 4, 5, 2, 0, 0, 0, 4, 9, 2, 1, 5, 7, 3, 1, 0, 5, 9, 6, 3, 6, 3, 0, 4, 2, 8, 0, 5, 1, 7, 5, 2, 8, 2, 5, 0, 8, 8, 9, 4, 5, 6, 9, 6, 5, 3, 0, 8, 8, 2, 3, 7, 6, 5, 8, 7, 3, 3, 8, 4, 8, 3, 2, 6, 8, 3, 9, 4, 3, 4, 7, 1, 7, 9, 1, 4, 4, 3, 1, 4, 7, 0, 6, 5, 6, 3, 7, 0, 3, 2, 7, 9, 8, 0, 7, 7, 2, 6, 7, 0, 1, 8, 0, 6, 7, 7, 4, 5, 0, 1, 2, 2, 7, 3, 7, 1, 5, 6, 1, 7, 9, 7, 1, 8, 6, 7, 3, 2, 5, 7, 6, 3, 9, 3, 2, 4, 7, 7, 5, 0, 8, 4, 6, 6, 8, 4, 9, 5, 5, 0, 5, 4, 3, 3, 7, 5, 6, 9, 9, 7, 6, 9, 6, 3, 7, 5, 7, 1, 6, 6, 1, 7, 3, 0, 7, 8, 0, 5, 8, 0, 1, 0, 7, 7, 8, 0, 0, 5, 4, 1, 7, 3, 4, 5, 3, 5, 0, 4, 1, 1, 3, 4, 8, 0, 9, 1, 5, 2, 7, 3, 6, 8, 5, 2, 0, 6, 7, 6, 8, 5, 9, 4, 4, 0, 0, 2, 0, 1, 2, 4, 0, 4, 8, 5, 2, 3, 4, 1, 8, 4, 0, 5, 2, 5, 7, 8, 5, 6, 9, 4, 9, 2, 5, 5, 4, 3, 4, 5, 4, 0, 8, 1, 7, 2, 9, 8, 0, 3, 3, 1, 9, 7, 9, 5, 0, 7, 4, 1, 9, 2, 6, 5, 1, 4, 0, 3, 2, 2, 4, 8, 9, 0, 0, 1, 4, 8, 9, 1, 7, 3, 8, 9, 5, 0, 7, 5, 9, 4, 1, 7, 5, 6, 6, 6, 2, 9, 6, 6, 6, 9, 8, 3, 4, 1, 9, 8, 9, 1, 3, 3, 3, 2, 5, 6, 7, 2, 9, 8, 5, 4, 1, 3, 5, 0, 8, 6, 8, 9, 2, 1, 9, 4, 5, 6, 6, 0, 3, 3, 3, 4, 1, 9, 4, 9, 4, 4, 8, 8, 9, 4, 8, 9, 2, 2, 2, 2, 3, 0, 7, 9, 9, 9, 5, 6, 4, 3, 2, 4, 0, 9, 6, 4, 5, 9, 2, 7, 3, 1, 7, 2, 3, 5, 4, 3, 3, 5, 9, 1, 4, 0, 4, 8, 9, 1, 5, 1, 4, 5, 4, 7, 9, 5, 5, 1, 5, 0, 4, 9, 4, 9, 3, 4, 7, 6, 5, 9, 7, 2, 1, 8, 4, 4, 4, 2, 9, 6, 6, 4, 6, 8, 5, 6, 8, 1, 7, 1, 2, 2, 0, 4, 4, 1, 3, 2, 6, 3, 9, 0, 3, 2, 0, 7, 1, 2, 0, 6, 6, 1, 4, 6, 7, 4, 1, 5, 9, 8, 3, 9, 4, 6, 5, 4, 4, 3, 8, 5, 1, 3, 5, 9, 4, 5, 1, 6, 4, 5, 3, 8, 2, 6, 8, 6, 5, 7, 9, 5, 3, 2, 9, 2, 4, 9, 6, 2, 3, 5, 0, 7, 7, 7, 6, 5, 0, 5, 6, 9, 5, 6, 3, 1, 5, 1, 5, 2, 1, 9, 9, 9, 7, 2, 2, 3, 3, 1, 1, 2, 9, 9, 0, 2, 6, 8, 1, 3, 5, 9, 1, 7, 7, 3, 1, 7, 0, 2, 2, 0, 1, 4, 0, 2, 0, 0, 5, 3, 8, 7, 1, 7, 1, 2, 6, 0, 6, 0, 9, 7, 0, 6, 2, 8, 3, 8, 0, 2, 6, 2, 6, 5, 8, 3, 4, 1, 0, 2, 9, 9, 5, 6, 3, 6, 7, 6, 4, 6, 1, 9, 0, 6, 0, 7, 4, 4, 3, 8, 5, 7, 9, 3, 6, 0, 7, 4, 1, 9, 4, 4, 0, 5, 8, 3, 0, 1, 8, 2, 4, 5, 0, 7, 3, 2, 5, 3, 5, 1, 9, 3, 5, 0, 0, 3, 6, 0, 6, 9, 8, 5, 6, 5, 2, 8, 4, 2, 7, 2, 6, 6, 2, 5, 8, 2, 0, 4, 6, 8, 9, 9, 7, 4, 8, 3, 3, 3, 3, 6, 1, 0, 5, 6, 3, 9, 7, 9, 6, 0, 2, 3, 8, 6, 4, 3, 2, 5, 8, 7, 8, 9, 2, 4, 0, 6, 3, 2, 7, 6, 9, 8, 8, 3, 3, 5, 5, 6, 7, 3, 5, 0, 3, 8, 9, 5, 6, 7, 9, 0, 9, 5, 0, 2, 2, 0, 3, 5, 4, 9, 0, 0, 1, 6, 0, 3, 4, 2, 1, 6, 4, 3, 8, 1, 2, 3, 9, 3, 8, 2, 5, 6, 5, 6, 9, 8, 4, 0, 8, 7, 7, 5, 1, 9, 7, 5, 2, 7, 1, 0]\n",
      "[9, 6, 6, 2, 4, 9, 9, 3, 3, 4, 2, 8, 0, 4, 5, 8, 4, 3, 4, 6, 5, 0, 7, 8, 4, 8, 7, 7, 7, 1, 8, 8, 1, 6, 7, 6, 0, 3, 1, 2, 8, 2, 5, 2, 6, 0, 0, 5, 6, 3, 0, 8, 9, 2, 8, 0, 0, 5, 1, 8, 3, 0, 7, 3, 6, 8, 6, 5, 4, 3, 7, 7, 3, 9, 3, 5, 6, 7, 3, 1, 1, 4, 8, 9, 2, 9, 4, 6, 6, 3, 8, 3, 4, 4, 6, 0, 2, 4, 8, 0, 9, 2, 9, 7, 7, 9, 3, 5, 8, 7, 0, 8, 4, 3, 9, 6, 2, 2, 1, 4, 6, 8, 1, 8, 7, 1, 2, 2, 8, 1, 3, 9, 1, 1, 7, 9, 2, 5, 9, 2, 8, 1, 1, 8, 7, 7, 8, 6, 5, 7, 9, 4, 5, 5, 1, 9, 6, 5, 9, 9, 4, 1, 1, 8, 4, 3, 0, 2, 9, 7, 4, 4, 9, 5, 2, 3, 0, 2, 4, 9, 7, 6, 8, 1, 2, 4, 3, 0, 7, 2, 6, 7, 0, 6, 0, 1, 3, 4, 5, 2, 0, 0, 0, 4, 9, 2, 1, 5, 7, 3, 1, 0, 5, 9, 6, 3, 6, 3, 0, 4, 2, 8, 0, 5, 1, 7, 5, 2, 8, 2, 5, 0, 8, 8, 9, 4, 5, 6, 9, 6, 5, 3, 0, 8, 8, 2, 3, 7, 6, 5, 8, 7, 3, 3, 8, 4, 8, 3, 2, 6, 8, 3, 9, 4, 3, 4, 7, 1, 7, 9, 1, 4, 4, 3, 1, 4, 7, 0, 6, 5, 6, 3, 7, 0, 3, 2, 7, 9, 8, 0, 7, 7, 2, 6, 7, 0, 1, 8, 0, 6, 7, 7, 4, 5, 0, 1, 2, 2, 7, 3, 7, 1, 5, 6, 1, 7, 9, 7, 1, 8, 6, 7, 3, 2, 5, 7, 6, 3, 9, 3, 2, 4, 7, 7, 5, 0, 8, 4, 6, 6, 8, 4, 9, 5, 5, 0, 5, 4, 3, 3, 7, 5, 6, 9, 9, 7, 6, 9, 6, 3, 7, 5, 7, 1, 6, 6, 1, 7, 3, 0, 7, 8, 0, 5, 8, 0, 1, 0, 7, 7, 8, 0, 0, 5, 4, 1, 7, 3, 4, 5, 3, 5, 0, 4, 1, 1, 3, 4, 8, 0, 9, 1, 5, 2, 7, 3, 6, 8, 5, 2, 0, 6, 7, 6, 8, 5, 9, 4, 4, 0, 0, 2, 0, 1, 2, 4, 0, 4, 8, 5, 2, 3, 4, 1, 8, 4, 0, 5, 2, 5, 7, 8, 5, 6, 9, 4, 9, 2, 5, 5, 4, 3, 4, 5, 4, 0, 8, 1, 7, 2, 9, 8, 0, 3, 3, 1, 9, 7, 9, 5, 0, 7, 4, 1, 9, 2, 6, 5, 1, 4, 0, 3, 2, 2, 4, 8, 9, 0, 0, 1, 4, 8, 9, 1, 7, 3, 8, 9, 5, 0, 7, 5, 9, 4, 1, 7, 5, 6, 6, 6, 2, 9, 6, 6, 6, 9, 8, 3, 4, 1, 9, 8, 9, 1, 3, 3, 3, 2, 5, 6, 7, 2, 9, 8, 5, 4, 1, 3, 5, 0, 8, 6, 8, 9, 2, 1, 9, 4, 5, 6, 6, 0, 3, 3, 3, 4, 1, 9, 4, 9, 4, 4, 8, 8, 9, 4, 8, 9, 2, 2, 2, 2, 3, 0, 7, 9, 9, 9, 5, 6, 4, 3, 2, 4, 0, 9, 6, 4, 5, 9, 2, 7, 3, 1, 7, 2, 3, 5, 4, 3, 3, 5, 9, 1, 4, 0, 4, 8, 9, 1, 5, 1, 4, 5, 4, 7, 9, 5, 5, 1, 5, 0, 4, 9, 4, 9, 3, 4, 7, 6, 5, 9, 7, 2, 1, 8, 4, 4, 4, 2, 9, 6, 6, 4, 6, 8, 5, 6, 8, 1, 7, 1, 2, 2, 0, 4, 4, 1, 3, 2, 6, 3, 9, 0, 3, 2, 0, 7, 1, 2, 0, 6, 6, 1, 4, 6, 7, 4, 1, 5, 9, 8, 3, 9, 4, 6, 5, 4, 4, 3, 8, 5, 1, 3, 5, 9, 4, 5, 1, 6, 4, 5, 3, 8, 2, 6, 8, 6, 5, 7, 9, 5, 3, 2, 9, 2, 4, 9, 6, 2, 3, 5, 0, 7, 7, 7, 6, 5, 0, 5, 6, 9, 5, 6, 3, 1, 5, 1, 5, 2, 1, 9, 9, 9, 7, 2, 2, 3, 3, 1, 1, 2, 9, 9, 0, 2, 6, 8, 1, 3, 5, 9, 1, 7, 7, 3, 1, 7, 0, 2, 2, 0, 1, 4, 0, 2, 0, 0, 5, 3, 8, 7, 1, 7, 1, 2, 6, 0, 6, 0, 9, 7, 0, 6, 2, 8, 3, 8, 0, 2, 6, 2, 6, 5, 8, 3, 4, 1, 0, 2, 9, 9, 5, 6, 3, 6, 7, 6, 4, 6, 1, 9, 0, 6, 0, 7, 4, 4, 3, 8, 5, 7, 9, 3, 6, 0, 7, 4, 1, 9, 4, 4, 0, 5, 8, 3, 0, 1, 8, 2, 4, 5, 0, 7, 3, 2, 5, 3, 5, 1, 9, 3, 5, 0, 0, 3, 6, 0, 6, 9, 8, 5, 6, 5, 2, 8, 4, 2, 7, 2, 6, 6, 2, 5, 8, 2, 0, 4, 6, 8, 9, 9, 7, 4, 8, 3, 3, 3, 3, 6, 1, 0, 5, 6, 3, 9, 7, 9, 6, 0, 2, 3, 8, 6, 4, 3, 2, 5, 8, 7, 8, 9, 2, 4, 0, 6, 3, 2, 7, 6, 9, 8, 8, 3, 3, 5, 5, 6, 7, 3, 5, 0, 3, 8, 9, 5, 6, 7, 9, 0, 9, 5, 0, 2, 2, 0, 3, 5, 4, 9, 0, 0, 1, 6, 0, 3, 4, 2, 1, 6, 4, 3, 8, 1, 2, 3, 9, 3, 8, 2, 5, 6, 5, 6, 9, 8, 4, 0, 8, 7, 7, 5, 1, 9, 7, 5, 2, 7, 1, 0]\n",
      "[9, 6, 6, 2, 4, 9, 9, 3, 3, 4, 2, 8, 0, 4, 5, 8, 4, 3, 4, 6, 5, 0, 7, 8, 4, 8, 7, 7, 7, 1, 8, 8, 1, 6, 7, 6, 0, 3, 1, 2, 8, 2, 5, 2, 6, 0, 0, 5, 6, 3, 0, 8, 9, 2, 8, 0, 0, 5, 1, 8, 3, 0, 7, 3, 6, 8, 6, 5, 4, 3, 7, 7, 3, 9, 3, 5, 6, 7, 3, 1, 1, 4, 8, 9, 2, 9, 4, 6, 6, 3, 8, 3, 4, 4, 6, 0, 2, 4, 8, 0, 9, 2, 9, 7, 7, 9, 3, 5, 8, 7, 0, 8, 4, 3, 9, 6, 2, 2, 1, 4, 6, 8, 1, 8, 7, 1, 2, 2, 8, 1, 3, 9, 1, 1, 7, 9, 2, 5, 9, 2, 8, 1, 1, 8, 7, 7, 8, 6, 5, 7, 9, 4, 5, 5, 1, 9, 6, 5, 9, 9, 4, 1, 1, 8, 4, 3, 0, 2, 9, 7, 4, 4, 9, 5, 2, 3, 0, 2, 4, 9, 7, 6, 8, 1, 2, 4, 3, 0, 7, 2, 6, 7, 0, 6, 0, 1, 3, 4, 5, 2, 0, 0, 0, 4, 9, 2, 1, 5, 7, 3, 1, 0, 5, 9, 6, 3, 6, 3, 0, 4, 2, 8, 0, 5, 1, 7, 5, 2, 8, 2, 5, 0, 8, 8, 9, 4, 5, 6, 9, 6, 5, 3, 0, 8, 8, 2, 3, 7, 6, 5, 8, 7, 3, 3, 8, 4, 8, 3, 2, 6, 8, 3, 9, 4, 3, 4, 7, 1, 7, 9, 1, 4, 4, 3, 1, 4, 7, 0, 6, 5, 6, 3, 7, 0, 3, 2, 7, 9, 8, 0, 7, 7, 2, 6, 7, 0, 1, 8, 0, 6, 7, 7, 4, 5, 0, 1, 2, 2, 7, 3, 7, 1, 5, 6, 1, 7, 9, 7, 1, 8, 6, 7, 3, 2, 5, 7, 6, 3, 9, 3, 2, 4, 7, 7, 5, 0, 8, 4, 6, 6, 8, 4, 9, 5, 5, 0, 5, 4, 3, 3, 7, 5, 6, 9, 9, 7, 6, 9, 6, 3, 7, 5, 7, 1, 6, 6, 1, 7, 3, 0, 7, 8, 0, 5, 8, 0, 1, 0, 7, 7, 8, 0, 0, 5, 4, 1, 7, 3, 4, 5, 3, 5, 0, 4, 1, 1, 3, 4, 8, 0, 9, 1, 5, 2, 7, 3, 6, 8, 5, 2, 0, 6, 7, 6, 8, 5, 9, 4, 4, 0, 0, 2, 0, 1, 2, 4, 0, 4, 8, 5, 2, 3, 4, 1, 8, 4, 0, 5, 2, 5, 7, 8, 5, 6, 9, 4, 9, 2, 5, 5, 4, 3, 4, 5, 4, 0, 8, 1, 7, 2, 9, 8, 0, 3, 3, 1, 9, 7, 9, 5, 0, 7, 4, 1, 9, 2, 6, 5, 1, 4, 0, 3, 2, 2, 4, 8, 9, 0, 0, 1, 4, 8, 9, 1, 7, 3, 8, 9, 5, 0, 7, 5, 9, 4, 1, 7, 5, 6, 6, 6, 2, 9, 6, 6, 6, 9, 8, 3, 4, 1, 9, 8, 9, 1, 3, 3, 3, 2, 5, 6, 7, 2, 9, 8, 5, 4, 1, 3, 5, 0, 8, 6, 8, 9, 2, 1, 9, 4, 5, 6, 6, 0, 3, 3, 3, 4, 1, 9, 4, 9, 4, 4, 8, 8, 9, 4, 8, 9, 2, 2, 2, 2, 3, 0, 7, 9, 9, 9, 5, 6, 4, 3, 2, 4, 0, 9, 6, 4, 5, 9, 2, 7, 3, 1, 7, 2, 3, 5, 4, 3, 3, 5, 9, 1, 4, 0, 4, 8, 9, 1, 5, 1, 4, 5, 4, 7, 9, 5, 5, 1, 5, 0, 4, 9, 4, 9, 3, 4, 7, 6, 5, 9, 7, 2, 1, 8, 4, 4, 4, 2, 9, 6, 6, 4, 6, 8, 5, 6, 8, 1, 7, 1, 2, 2, 0, 4, 4, 1, 3, 2, 6, 3, 9, 0, 3, 2, 0, 7, 1, 2, 0, 6, 6, 1, 4, 6, 7, 4, 1, 5, 9, 8, 3, 9, 4, 6, 5, 4, 4, 3, 8, 5, 1, 3, 5, 9, 4, 5, 1, 6, 4, 5, 3, 8, 2, 6, 8, 6, 5, 7, 9, 5, 3, 2, 9, 2, 4, 9, 6, 2, 3, 5, 0, 7, 7, 7, 6, 5, 0, 5, 6, 9, 5, 6, 3, 1, 5, 1, 5, 2, 1, 9, 9, 9, 7, 2, 2, 3, 3, 1, 1, 2, 9, 9, 0, 2, 6, 8, 1, 3, 5, 9, 1, 7, 7, 3, 1, 7, 0, 2, 2, 0, 1, 4, 0, 2, 0, 0, 5, 3, 8, 7, 1, 7, 1, 2, 6, 0, 6, 0, 9, 7, 0, 6, 2, 8, 3, 8, 0, 2, 6, 2, 6, 5, 8, 3, 4, 1, 0, 2, 9, 9, 5, 6, 3, 6, 7, 6, 4, 6, 1, 9, 0, 6, 0, 7, 4, 4, 3, 8, 5, 7, 9, 3, 6, 0, 7, 4, 1, 9, 4, 4, 0, 5, 8, 3, 0, 1, 8, 2, 4, 5, 0, 7, 3, 2, 5, 3, 5, 1, 9, 3, 5, 0, 0, 3, 6, 0, 6, 9, 8, 5, 6, 5, 2, 8, 4, 2, 7, 2, 6, 6, 2, 5, 8, 2, 0, 4, 6, 8, 9, 9, 7, 4, 8, 3, 3, 3, 3, 6, 1, 0, 5, 6, 3, 9, 7, 9, 6, 0, 2, 3, 8, 6, 4, 3, 2, 5, 8, 7, 8, 9, 2, 4, 0, 6, 3, 2, 7, 6, 9, 8, 8, 3, 3, 5, 5, 6, 7, 3, 5, 0, 3, 8, 9, 5, 6, 7, 9, 0, 9, 5, 0, 2, 2, 0, 3, 5, 4, 9, 0, 0, 1, 6, 0, 3, 4, 2, 1, 6, 4, 3, 8, 1, 2, 3, 9, 3, 8, 2, 5, 6, 5, 6, 9, 8, 4, 0, 8, 7, 7, 5, 1, 9, 7, 5, 2, 7, 1, 0]\n",
      "[9, 6, 6, 2, 4, 9, 9, 3, 3, 4, 2, 8, 0, 4, 5, 8, 4, 3, 4, 6, 5, 0, 7, 8, 4, 8, 7, 7, 7, 1, 8, 8, 1, 6, 7, 6, 0, 3, 1, 2, 8, 2, 5, 2, 6, 0, 0, 5, 6, 3, 0, 8, 9, 2, 8, 0, 0, 5, 1, 8, 3, 0, 7, 3, 6, 8, 6, 5, 4, 3, 7, 7, 3, 9, 3, 5, 6, 7, 3, 1, 1, 4, 8, 9, 2, 9, 4, 6, 6, 3, 8, 3, 4, 4, 6, 0, 2, 4, 8, 0, 9, 2, 9, 7, 7, 9, 3, 5, 8, 7, 0, 8, 4, 3, 9, 6, 2, 2, 1, 4, 6, 8, 1, 8, 7, 1, 2, 2, 8, 1, 3, 9, 1, 1, 7, 9, 2, 5, 9, 2, 8, 1, 1, 8, 7, 7, 8, 6, 5, 7, 9, 4, 5, 5, 1, 9, 6, 5, 9, 9, 4, 1, 1, 8, 4, 3, 0, 2, 9, 7, 4, 4, 9, 5, 2, 3, 0, 2, 4, 9, 7, 6, 8, 1, 2, 4, 3, 0, 7, 2, 6, 7, 0, 6, 0, 1, 3, 4, 5, 2, 0, 0, 0, 4, 9, 2, 1, 5, 7, 3, 1, 0, 5, 9, 6, 3, 6, 3, 0, 4, 2, 8, 0, 5, 1, 7, 5, 2, 8, 2, 5, 0, 8, 8, 9, 4, 5, 6, 9, 6, 5, 3, 0, 8, 8, 2, 3, 7, 6, 5, 8, 7, 3, 3, 8, 4, 8, 3, 2, 6, 8, 3, 9, 4, 3, 4, 7, 1, 7, 9, 1, 4, 4, 3, 1, 4, 7, 0, 6, 5, 6, 3, 7, 0, 3, 2, 7, 9, 8, 0, 7, 7, 2, 6, 7, 0, 1, 8, 0, 6, 7, 7, 4, 5, 0, 1, 2, 2, 7, 3, 7, 1, 5, 6, 1, 7, 9, 7, 1, 8, 6, 7, 3, 2, 5, 7, 6, 3, 9, 3, 2, 4, 7, 7, 5, 0, 8, 4, 6, 6, 8, 4, 9, 5, 5, 0, 5, 4, 3, 3, 7, 5, 6, 9, 9, 7, 6, 9, 6, 3, 7, 5, 7, 1, 6, 6, 1, 7, 3, 0, 7, 8, 0, 5, 8, 0, 1, 0, 7, 7, 8, 0, 0, 5, 4, 1, 7, 3, 4, 5, 3, 5, 0, 4, 1, 1, 3, 4, 8, 0, 9, 1, 5, 2, 7, 3, 6, 8, 5, 2, 0, 6, 7, 6, 8, 5, 9, 4, 4, 0, 0, 2, 0, 1, 2, 4, 0, 4, 8, 5, 2, 3, 4, 1, 8, 4, 0, 5, 2, 5, 7, 8, 5, 6, 9, 4, 9, 2, 5, 5, 4, 3, 4, 5, 4, 0, 8, 1, 7, 2, 9, 8, 0, 3, 3, 1, 9, 7, 9, 5, 0, 7, 4, 1, 9, 2, 6, 5, 1, 4, 0, 3, 2, 2, 4, 8, 9, 0, 0, 1, 4, 8, 9, 1, 7, 3, 8, 9, 5, 0, 7, 5, 9, 4, 1, 7, 5, 6, 6, 6, 2, 9, 6, 6, 6, 9, 8, 3, 4, 1, 9, 8, 9, 1, 3, 3, 3, 2, 5, 6, 7, 2, 9, 8, 5, 4, 1, 3, 5, 0, 8, 6, 8, 9, 2, 1, 9, 4, 5, 6, 6, 0, 3, 3, 3, 4, 1, 9, 4, 9, 4, 4, 8, 8, 9, 4, 8, 9, 2, 2, 2, 2, 3, 0, 7, 9, 9, 9, 5, 6, 4, 3, 2, 4, 0, 9, 6, 4, 5, 9, 2, 7, 3, 1, 7, 2, 3, 5, 4, 3, 3, 5, 9, 1, 4, 0, 4, 8, 9, 1, 5, 1, 4, 5, 4, 7, 9, 5, 5, 1, 5, 0, 4, 9, 4, 9, 3, 4, 7, 6, 5, 9, 7, 2, 1, 8, 4, 4, 4, 2, 9, 6, 6, 4, 6, 8, 5, 6, 8, 1, 7, 1, 2, 2, 0, 4, 4, 1, 3, 2, 6, 3, 9, 0, 3, 2, 0, 7, 1, 2, 0, 6, 6, 1, 4, 6, 7, 4, 1, 5, 9, 8, 3, 9, 4, 6, 5, 4, 4, 3, 8, 5, 1, 3, 5, 9, 4, 5, 1, 6, 4, 5, 3, 8, 2, 6, 8, 6, 5, 7, 9, 5, 3, 2, 9, 2, 4, 9, 6, 2, 3, 5, 0, 7, 7, 7, 6, 5, 0, 5, 6, 9, 5, 6, 3, 1, 5, 1, 5, 2, 1, 9, 9, 9, 7, 2, 2, 3, 3, 1, 1, 2, 9, 9, 0, 2, 6, 8, 1, 3, 5, 9, 1, 7, 7, 3, 1, 7, 0, 2, 2, 0, 1, 4, 0, 2, 0, 0, 5, 3, 8, 7, 1, 7, 1, 2, 6, 0, 6, 0, 9, 7, 0, 6, 2, 8, 3, 8, 0, 2, 6, 2, 6, 5, 8, 3, 4, 1, 0, 2, 9, 9, 5, 6, 3, 6, 7, 6, 4, 6, 1, 9, 0, 6, 0, 7, 4, 4, 3, 8, 5, 7, 9, 3, 6, 0, 7, 4, 1, 9, 4, 4, 0, 5, 8, 3, 0, 1, 8, 2, 4, 5, 0, 7, 3, 2, 5, 3, 5, 1, 9, 3, 5, 0, 0, 3, 6, 0, 6, 9, 8, 5, 6, 5, 2, 8, 4, 2, 7, 2, 6, 6, 2, 5, 8, 2, 0, 4, 6, 8, 9, 9, 7, 4, 8, 3, 3, 3, 3, 6, 1, 0, 5, 6, 3, 9, 7, 9, 6, 0, 2, 3, 8, 6, 4, 3, 2, 5, 8, 7, 8, 9, 2, 4, 0, 6, 3, 2, 7, 6, 9, 8, 8, 3, 3, 5, 5, 6, 7, 3, 5, 0, 3, 8, 9, 5, 6, 7, 9, 0, 9, 5, 0, 2, 2, 0, 3, 5, 4, 9, 0, 0, 1, 6, 0, 3, 4, 2, 1, 6, 4, 3, 8, 1, 2, 3, 9, 3, 8, 2, 5, 6, 5, 6, 9, 8, 4, 0, 8, 7, 7, 5, 1, 9, 7, 5, 2, 7, 1, 0]\n",
      "[9, 6, 6, 2, 4, 9, 9, 3, 3, 4, 2, 8, 0, 4, 5, 8, 4, 3, 4, 6, 5, 0, 7, 8, 4, 8, 7, 7, 7, 1, 8, 8, 1, 6, 7, 6, 0, 3, 1, 2, 8, 2, 5, 2, 6, 0, 0, 5, 6, 3, 0, 8, 9, 2, 8, 0, 0, 5, 1, 8, 3, 0, 7, 3, 6, 8, 6, 5, 4, 3, 7, 7, 3, 9, 3, 5, 6, 7, 3, 1, 1, 4, 8, 9, 2, 9, 4, 6, 6, 3, 8, 3, 4, 4, 6, 0, 2, 4, 8, 0, 9, 2, 9, 7, 7, 9, 3, 5, 8, 7, 0, 8, 4, 3, 9, 6, 2, 2, 1, 4, 6, 8, 1, 8, 7, 1, 2, 2, 8, 1, 3, 9, 1, 1, 7, 9, 2, 5, 9, 2, 8, 1, 1, 8, 7, 7, 8, 6, 5, 7, 9, 4, 5, 5, 1, 9, 6, 5, 9, 9, 4, 1, 1, 8, 4, 3, 0, 2, 9, 7, 4, 4, 9, 5, 2, 3, 0, 2, 4, 9, 7, 6, 8, 1, 2, 4, 3, 0, 7, 2, 6, 7, 0, 6, 0, 1, 3, 4, 5, 2, 0, 0, 0, 4, 9, 2, 1, 5, 7, 3, 1, 0, 5, 9, 6, 3, 6, 3, 0, 4, 2, 8, 0, 5, 1, 7, 5, 2, 8, 2, 5, 0, 8, 8, 9, 4, 5, 6, 9, 6, 5, 3, 0, 8, 8, 2, 3, 7, 6, 5, 8, 7, 3, 3, 8, 4, 8, 3, 2, 6, 8, 3, 9, 4, 3, 4, 7, 1, 7, 9, 1, 4, 4, 3, 1, 4, 7, 0, 6, 5, 6, 3, 7, 0, 3, 2, 7, 9, 8, 0, 7, 7, 2, 6, 7, 0, 1, 8, 0, 6, 7, 7, 4, 5, 0, 1, 2, 2, 7, 3, 7, 1, 5, 6, 1, 7, 9, 7, 1, 8, 6, 7, 3, 2, 5, 7, 6, 3, 9, 3, 2, 4, 7, 7, 5, 0, 8, 4, 6, 6, 8, 4, 9, 5, 5, 0, 5, 4, 3, 3, 7, 5, 6, 9, 9, 7, 6, 9, 6, 3, 7, 5, 7, 1, 6, 6, 1, 7, 3, 0, 7, 8, 0, 5, 8, 0, 1, 0, 7, 7, 8, 0, 0, 5, 4, 1, 7, 3, 4, 5, 3, 5, 0, 4, 1, 1, 3, 4, 8, 0, 9, 1, 5, 2, 7, 3, 6, 8, 5, 2, 0, 6, 7, 6, 8, 5, 9, 4, 4, 0, 0, 2, 0, 1, 2, 4, 0, 4, 8, 5, 2, 3, 4, 1, 8, 4, 0, 5, 2, 5, 7, 8, 5, 6, 9, 4, 9, 2, 5, 5, 4, 3, 4, 5, 4, 0, 8, 1, 7, 2, 9, 8, 0, 3, 3, 1, 9, 7, 9, 5, 0, 7, 4, 1, 9, 2, 6, 5, 1, 4, 0, 3, 2, 2, 4, 8, 9, 0, 0, 1, 4, 8, 9, 1, 7, 3, 8, 9, 5, 0, 7, 5, 9, 4, 1, 7, 5, 6, 6, 6, 2, 9, 6, 6, 6, 9, 8, 3, 4, 1, 9, 8, 9, 1, 3, 3, 3, 2, 5, 6, 7, 2, 9, 8, 5, 4, 1, 3, 5, 0, 8, 6, 8, 9, 2, 1, 9, 4, 5, 6, 6, 0, 3, 3, 3, 4, 1, 9, 4, 9, 4, 4, 8, 8, 9, 4, 8, 9, 2, 2, 2, 2, 3, 0, 7, 9, 9, 9, 5, 6, 4, 3, 2, 4, 0, 9, 6, 4, 5, 9, 2, 7, 3, 1, 7, 2, 3, 5, 4, 3, 3, 5, 9, 1, 4, 0, 4, 8, 9, 1, 5, 1, 4, 5, 4, 7, 9, 5, 5, 1, 5, 0, 4, 9, 4, 9, 3, 4, 7, 6, 5, 9, 7, 2, 1, 8, 4, 4, 4, 2, 9, 6, 6, 4, 6, 8, 5, 6, 8, 1, 7, 1, 2, 2, 0, 4, 4, 1, 3, 2, 6, 3, 9, 0, 3, 2, 0, 7, 1, 2, 0, 6, 6, 1, 4, 6, 7, 4, 1, 5, 9, 8, 3, 9, 4, 6, 5, 4, 4, 3, 8, 5, 1, 3, 5, 9, 4, 5, 1, 6, 4, 5, 3, 8, 2, 6, 8, 6, 5, 7, 9, 5, 3, 2, 9, 2, 4, 9, 6, 2, 3, 5, 0, 7, 7, 7, 6, 5, 0, 5, 6, 9, 5, 6, 3, 1, 5, 1, 5, 2, 1, 9, 9, 9, 7, 2, 2, 3, 3, 1, 1, 2, 9, 9, 0, 2, 6, 8, 1, 3, 5, 9, 1, 7, 7, 3, 1, 7, 0, 2, 2, 0, 1, 4, 0, 2, 0, 0, 5, 3, 8, 7, 1, 7, 1, 2, 6, 0, 6, 0, 9, 7, 0, 6, 2, 8, 3, 8, 0, 2, 6, 2, 6, 5, 8, 3, 4, 1, 0, 2, 9, 9, 5, 6, 3, 6, 7, 6, 4, 6, 1, 9, 0, 6, 0, 7, 4, 4, 3, 8, 5, 7, 9, 3, 6, 0, 7, 4, 1, 9, 4, 4, 0, 5, 8, 3, 0, 1, 8, 2, 4, 5, 0, 7, 3, 2, 5, 3, 5, 1, 9, 3, 5, 0, 0, 3, 6, 0, 6, 9, 8, 5, 6, 5, 2, 8, 4, 2, 7, 2, 6, 6, 2, 5, 8, 2, 0, 4, 6, 8, 9, 9, 7, 4, 8, 3, 3, 3, 3, 6, 1, 0, 5, 6, 3, 9, 7, 9, 6, 0, 2, 3, 8, 6, 4, 3, 2, 5, 8, 7, 8, 9, 2, 4, 0, 6, 3, 2, 7, 6, 9, 8, 8, 3, 3, 5, 5, 6, 7, 3, 5, 0, 3, 8, 9, 5, 6, 7, 9, 0, 9, 5, 0, 2, 2, 0, 3, 5, 4, 9, 0, 0, 1, 6, 0, 3, 4, 2, 1, 6, 4, 3, 8, 1, 2, 3, 9, 3, 8, 2, 5, 6, 5, 6, 9, 8, 4, 0, 8, 7, 7, 5, 1, 9, 7, 5, 2, 7, 1, 0]\n",
      "[9, 6, 6, 2, 4, 9, 9, 3, 3, 4, 2, 8, 0, 4, 5, 8, 4, 3, 4, 6, 5, 0, 7, 8, 4, 8, 7, 7, 7, 1, 8, 8, 1, 6, 7, 6, 0, 3, 1, 2, 8, 2, 5, 2, 6, 0, 0, 5, 6, 3, 0, 8, 9, 2, 8, 0, 0, 5, 1, 8, 3, 0, 7, 3, 6, 8, 6, 5, 4, 3, 7, 7, 3, 9, 3, 5, 6, 7, 3, 1, 1, 4, 8, 9, 2, 9, 4, 6, 6, 3, 8, 3, 4, 4, 6, 0, 2, 4, 8, 0, 9, 2, 9, 7, 7, 9, 3, 5, 8, 7, 0, 8, 4, 3, 9, 6, 2, 2, 1, 4, 6, 8, 1, 8, 7, 1, 2, 2, 8, 1, 3, 9, 1, 1, 7, 9, 2, 5, 9, 2, 8, 1, 1, 8, 7, 7, 8, 6, 5, 7, 9, 4, 5, 5, 1, 9, 6, 5, 9, 9, 4, 1, 1, 8, 4, 3, 0, 2, 9, 7, 4, 4, 9, 5, 2, 3, 0, 2, 4, 9, 7, 6, 8, 1, 2, 4, 3, 0, 7, 2, 6, 7, 0, 6, 0, 1, 3, 4, 5, 2, 0, 0, 0, 4, 9, 2, 1, 5, 7, 3, 1, 0, 5, 9, 6, 3, 6, 3, 0, 4, 2, 8, 0, 5, 1, 7, 5, 2, 8, 2, 5, 0, 8, 8, 9, 4, 5, 6, 9, 6, 5, 3, 0, 8, 8, 2, 3, 7, 6, 5, 8, 7, 3, 3, 8, 4, 8, 3, 2, 6, 8, 3, 9, 4, 3, 4, 7, 1, 7, 9, 1, 4, 4, 3, 1, 4, 7, 0, 6, 5, 6, 3, 7, 0, 3, 2, 7, 9, 8, 0, 7, 7, 2, 6, 7, 0, 1, 8, 0, 6, 7, 7, 4, 5, 0, 1, 2, 2, 7, 3, 7, 1, 5, 6, 1, 7, 9, 7, 1, 8, 6, 7, 3, 2, 5, 7, 6, 3, 9, 3, 2, 4, 7, 7, 5, 0, 8, 4, 6, 6, 8, 4, 9, 5, 5, 0, 5, 4, 3, 3, 7, 5, 6, 9, 9, 7, 6, 9, 6, 3, 7, 5, 7, 1, 6, 6, 1, 7, 3, 0, 7, 8, 0, 5, 8, 0, 1, 0, 7, 7, 8, 0, 0, 5, 4, 1, 7, 3, 4, 5, 3, 5, 0, 4, 1, 1, 3, 4, 8, 0, 9, 1, 5, 2, 7, 3, 6, 8, 5, 2, 0, 6, 7, 6, 8, 5, 9, 4, 4, 0, 0, 2, 0, 1, 2, 4, 0, 4, 8, 5, 2, 3, 4, 1, 8, 4, 0, 5, 2, 5, 7, 8, 5, 6, 9, 4, 9, 2, 5, 5, 4, 3, 4, 5, 4, 0, 8, 1, 7, 2, 9, 8, 0, 3, 3, 1, 9, 7, 9, 5, 0, 7, 4, 1, 9, 2, 6, 5, 1, 4, 0, 3, 2, 2, 4, 8, 9, 0, 0, 1, 4, 8, 9, 1, 7, 3, 8, 9, 5, 0, 7, 5, 9, 4, 1, 7, 5, 6, 6, 6, 2, 9, 6, 6, 6, 9, 8, 3, 4, 1, 9, 8, 9, 1, 3, 3, 3, 2, 5, 6, 7, 2, 9, 8, 5, 4, 1, 3, 5, 0, 8, 6, 8, 9, 2, 1, 9, 4, 5, 6, 6, 0, 3, 3, 3, 4, 1, 9, 4, 9, 4, 4, 8, 8, 9, 4, 8, 9, 2, 2, 2, 2, 3, 0, 7, 9, 9, 9, 5, 6, 4, 3, 2, 4, 0, 9, 6, 4, 5, 9, 2, 7, 3, 1, 7, 2, 3, 5, 4, 3, 3, 5, 9, 1, 4, 0, 4, 8, 9, 1, 5, 1, 4, 5, 4, 7, 9, 5, 5, 1, 5, 0, 4, 9, 4, 9, 3, 4, 7, 6, 5, 9, 7, 2, 1, 8, 4, 4, 4, 2, 9, 6, 6, 4, 6, 8, 5, 6, 8, 1, 7, 1, 2, 2, 0, 4, 4, 1, 3, 2, 6, 3, 9, 0, 3, 2, 0, 7, 1, 2, 0, 6, 6, 1, 4, 6, 7, 4, 1, 5, 9, 8, 3, 9, 4, 6, 5, 4, 4, 3, 8, 5, 1, 3, 5, 9, 4, 5, 1, 6, 4, 5, 3, 8, 2, 6, 8, 6, 5, 7, 9, 5, 3, 2, 9, 2, 4, 9, 6, 2, 3, 5, 0, 7, 7, 7, 6, 5, 0, 5, 6, 9, 5, 6, 3, 1, 5, 1, 5, 2, 1, 9, 9, 9, 7, 2, 2, 3, 3, 1, 1, 2, 9, 9, 0, 2, 6, 8, 1, 3, 5, 9, 1, 7, 7, 3, 1, 7, 0, 2, 2, 0, 1, 4, 0, 2, 0, 0, 5, 3, 8, 7, 1, 7, 1, 2, 6, 0, 6, 0, 9, 7, 0, 6, 2, 8, 3, 8, 0, 2, 6, 2, 6, 5, 8, 3, 4, 1, 0, 2, 9, 9, 5, 6, 3, 6, 7, 6, 4, 6, 1, 9, 0, 6, 0, 7, 4, 4, 3, 8, 5, 7, 9, 3, 6, 0, 7, 4, 1, 9, 4, 4, 0, 5, 8, 3, 0, 1, 8, 2, 4, 5, 0, 7, 3, 2, 5, 3, 5, 1, 9, 3, 5, 0, 0, 3, 6, 0, 6, 9, 8, 5, 6, 5, 2, 8, 4, 2, 7, 2, 6, 6, 2, 5, 8, 2, 0, 4, 6, 8, 9, 9, 7, 4, 8, 3, 3, 3, 3, 6, 1, 0, 5, 6, 3, 9, 7, 9, 6, 0, 2, 3, 8, 6, 4, 3, 2, 5, 8, 7, 8, 9, 2, 4, 0, 6, 3, 2, 7, 6, 9, 8, 8, 3, 3, 5, 5, 6, 7, 3, 5, 0, 3, 8, 9, 5, 6, 7, 9, 0, 9, 5, 0, 2, 2, 0, 3, 5, 4, 9, 0, 0, 1, 6, 0, 3, 4, 2, 1, 6, 4, 3, 8, 1, 2, 3, 9, 3, 8, 2, 5, 6, 5, 6, 9, 8, 4, 0, 8, 7, 7, 5, 1, 9, 7, 5, 2, 7, 1, 0]\n",
      "[9, 6, 6, 2, 4, 9, 9, 3, 3, 4, 2, 8, 0, 4, 5, 8, 4, 3, 4, 6, 5, 0, 7, 8, 4, 8, 7, 7, 7, 1, 8, 8, 1, 6, 7, 6, 0, 3, 1, 2, 8, 2, 5, 2, 6, 0, 0, 5, 6, 3, 0, 8, 9, 2, 8, 0, 0, 5, 1, 8, 3, 0, 7, 3, 6, 8, 6, 5, 4, 3, 7, 7, 3, 9, 3, 5, 6, 7, 3, 1, 1, 4, 8, 9, 2, 9, 4, 6, 6, 3, 8, 3, 4, 4, 6, 0, 2, 4, 8, 0, 9, 2, 9, 7, 7, 9, 3, 5, 8, 7, 0, 8, 4, 3, 9, 6, 2, 2, 1, 4, 6, 8, 1, 8, 7, 1, 2, 2, 8, 1, 3, 9, 1, 1, 7, 9, 2, 5, 9, 2, 8, 1, 1, 8, 7, 7, 8, 6, 5, 7, 9, 4, 5, 5, 1, 9, 6, 5, 9, 9, 4, 1, 1, 8, 4, 3, 0, 2, 9, 7, 4, 4, 9, 5, 2, 3, 0, 2, 4, 9, 7, 6, 8, 1, 2, 4, 3, 0, 7, 2, 6, 7, 0, 6, 0, 1, 3, 4, 5, 2, 0, 0, 0, 4, 9, 2, 1, 5, 7, 3, 1, 0, 5, 9, 6, 3, 6, 3, 0, 4, 2, 8, 0, 5, 1, 7, 5, 2, 8, 2, 5, 0, 8, 8, 9, 4, 5, 6, 9, 6, 5, 3, 0, 8, 8, 2, 3, 7, 6, 5, 8, 7, 3, 3, 8, 4, 8, 3, 2, 6, 8, 3, 9, 4, 3, 4, 7, 1, 7, 9, 1, 4, 4, 3, 1, 4, 7, 0, 6, 5, 6, 3, 7, 0, 3, 2, 7, 9, 8, 0, 7, 7, 2, 6, 7, 0, 1, 8, 0, 6, 7, 7, 4, 5, 0, 1, 2, 2, 7, 3, 7, 1, 5, 6, 1, 7, 9, 7, 1, 8, 6, 7, 3, 2, 5, 7, 6, 3, 9, 3, 2, 4, 7, 7, 5, 0, 8, 4, 6, 6, 8, 4, 9, 5, 5, 0, 5, 4, 3, 3, 7, 5, 6, 9, 9, 7, 6, 9, 6, 3, 7, 5, 7, 1, 6, 6, 1, 7, 3, 0, 7, 8, 0, 5, 8, 0, 1, 0, 7, 7, 8, 0, 0, 5, 4, 1, 7, 3, 4, 5, 3, 5, 0, 4, 1, 1, 3, 4, 8, 0, 9, 1, 5, 2, 7, 3, 6, 8, 5, 2, 0, 6, 7, 6, 8, 5, 9, 4, 4, 0, 0, 2, 0, 1, 2, 4, 0, 4, 8, 5, 2, 3, 4, 1, 8, 4, 0, 5, 2, 5, 7, 8, 5, 6, 9, 4, 9, 2, 5, 5, 4, 3, 4, 5, 4, 0, 8, 1, 7, 2, 9, 8, 0, 3, 3, 1, 9, 7, 9, 5, 0, 7, 4, 1, 9, 2, 6, 5, 1, 4, 0, 3, 2, 2, 4, 8, 9, 0, 0, 1, 4, 8, 9, 1, 7, 3, 8, 9, 5, 0, 7, 5, 9, 4, 1, 7, 5, 6, 6, 6, 2, 9, 6, 6, 6, 9, 8, 3, 4, 1, 9, 8, 9, 1, 3, 3, 3, 2, 5, 6, 7, 2, 9, 8, 5, 4, 1, 3, 5, 0, 8, 6, 8, 9, 2, 1, 9, 4, 5, 6, 6, 0, 3, 3, 3, 4, 1, 9, 4, 9, 4, 4, 8, 8, 9, 4, 8, 9, 2, 2, 2, 2, 3, 0, 7, 9, 9, 9, 5, 6, 4, 3, 2, 4, 0, 9, 6, 4, 5, 9, 2, 7, 3, 1, 7, 2, 3, 5, 4, 3, 3, 5, 9, 1, 4, 0, 4, 8, 9, 1, 5, 1, 4, 5, 4, 7, 9, 5, 5, 1, 5, 0, 4, 9, 4, 9, 3, 4, 7, 6, 5, 9, 7, 2, 1, 8, 4, 4, 4, 2, 9, 6, 6, 4, 6, 8, 5, 6, 8, 1, 7, 1, 2, 2, 0, 4, 4, 1, 3, 2, 6, 3, 9, 0, 3, 2, 0, 7, 1, 2, 0, 6, 6, 1, 4, 6, 7, 4, 1, 5, 9, 8, 3, 9, 4, 6, 5, 4, 4, 3, 8, 5, 1, 3, 5, 9, 4, 5, 1, 6, 4, 5, 3, 8, 2, 6, 8, 6, 5, 7, 9, 5, 3, 2, 9, 2, 4, 9, 6, 2, 3, 5, 0, 7, 7, 7, 6, 5, 0, 5, 6, 9, 5, 6, 3, 1, 5, 1, 5, 2, 1, 9, 9, 9, 7, 2, 2, 3, 3, 1, 1, 2, 9, 9, 0, 2, 6, 8, 1, 3, 5, 9, 1, 7, 7, 3, 1, 7, 0, 2, 2, 0, 1, 4, 0, 2, 0, 0, 5, 3, 8, 7, 1, 7, 1, 2, 6, 0, 6, 0, 9, 7, 0, 6, 2, 8, 3, 8, 0, 2, 6, 2, 6, 5, 8, 3, 4, 1, 0, 2, 9, 9, 5, 6, 3, 6, 7, 6, 4, 6, 1, 9, 0, 6, 0, 7, 4, 4, 3, 8, 5, 7, 9, 3, 6, 0, 7, 4, 1, 9, 4, 4, 0, 5, 8, 3, 0, 1, 8, 2, 4, 5, 0, 7, 3, 2, 5, 3, 5, 1, 9, 3, 5, 0, 0, 3, 6, 0, 6, 9, 8, 5, 6, 5, 2, 8, 4, 2, 7, 2, 6, 6, 2, 5, 8, 2, 0, 4, 6, 8, 9, 9, 7, 4, 8, 3, 3, 3, 3, 6, 1, 0, 5, 6, 3, 9, 7, 9, 6, 0, 2, 3, 8, 6, 4, 3, 2, 5, 8, 7, 8, 9, 2, 4, 0, 6, 3, 2, 7, 6, 9, 8, 8, 3, 3, 5, 5, 6, 7, 3, 5, 0, 3, 8, 9, 5, 6, 7, 9, 0, 9, 5, 0, 2, 2, 0, 3, 5, 4, 9, 0, 0, 1, 6, 0, 3, 4, 2, 1, 6, 4, 3, 8, 1, 2, 3, 9, 3, 8, 2, 5, 6, 5, 6, 9, 8, 4, 0, 8, 7, 7, 5, 1, 9, 7, 5, 2, 7, 1, 0]\n",
      "[9, 6, 6, 2, 4, 9, 9, 3, 3, 4, 2, 8, 0, 4, 5, 8, 4, 3, 4, 6, 5, 0, 7, 8, 4, 8, 7, 7, 7, 1, 8, 8, 1, 6, 7, 6, 0, 3, 1, 2, 8, 2, 5, 2, 6, 0, 0, 5, 6, 3, 0, 8, 9, 2, 8, 0, 0, 5, 1, 8, 3, 0, 7, 3, 6, 8, 6, 5, 4, 3, 7, 7, 3, 9, 3, 5, 6, 7, 3, 1, 1, 4, 8, 9, 2, 9, 4, 6, 6, 3, 8, 3, 4, 4, 6, 0, 2, 4, 8, 0, 9, 2, 9, 7, 7, 9, 3, 5, 8, 7, 0, 8, 4, 3, 9, 6, 2, 2, 1, 4, 6, 8, 1, 8, 7, 1, 2, 2, 8, 1, 3, 9, 1, 1, 7, 9, 2, 5, 9, 2, 8, 1, 1, 8, 7, 7, 8, 6, 5, 7, 9, 4, 5, 5, 1, 9, 6, 5, 9, 9, 4, 1, 1, 8, 4, 3, 0, 2, 9, 7, 4, 4, 9, 5, 2, 3, 0, 2, 4, 9, 7, 6, 8, 1, 2, 4, 3, 0, 7, 2, 6, 7, 0, 6, 0, 1, 3, 4, 5, 2, 0, 0, 0, 4, 9, 2, 1, 5, 7, 3, 1, 0, 5, 9, 6, 3, 6, 3, 0, 4, 2, 8, 0, 5, 1, 7, 5, 2, 8, 2, 5, 0, 8, 8, 9, 4, 5, 6, 9, 6, 5, 3, 0, 8, 8, 2, 3, 7, 6, 5, 8, 7, 3, 3, 8, 4, 8, 3, 2, 6, 8, 3, 9, 4, 3, 4, 7, 1, 7, 9, 1, 4, 4, 3, 1, 4, 7, 0, 6, 5, 6, 3, 7, 0, 3, 2, 7, 9, 8, 0, 7, 7, 2, 6, 7, 0, 1, 8, 0, 6, 7, 7, 4, 5, 0, 1, 2, 2, 7, 3, 7, 1, 5, 6, 1, 7, 9, 7, 1, 8, 6, 7, 3, 2, 5, 7, 6, 3, 9, 3, 2, 4, 7, 7, 5, 0, 8, 4, 6, 6, 8, 4, 9, 5, 5, 0, 5, 4, 3, 3, 7, 5, 6, 9, 9, 7, 6, 9, 6, 3, 7, 5, 7, 1, 6, 6, 1, 7, 3, 0, 7, 8, 0, 5, 8, 0, 1, 0, 7, 7, 8, 0, 0, 5, 4, 1, 7, 3, 4, 5, 3, 5, 0, 4, 1, 1, 3, 4, 8, 0, 9, 1, 5, 2, 7, 3, 6, 8, 5, 2, 0, 6, 7, 6, 8, 5, 9, 4, 4, 0, 0, 2, 0, 1, 2, 4, 0, 4, 8, 5, 2, 3, 4, 1, 8, 4, 0, 5, 2, 5, 7, 8, 5, 6, 9, 4, 9, 2, 5, 5, 4, 3, 4, 5, 4, 0, 8, 1, 7, 2, 9, 8, 0, 3, 3, 1, 9, 7, 9, 5, 0, 7, 4, 1, 9, 2, 6, 5, 1, 4, 0, 3, 2, 2, 4, 8, 9, 0, 0, 1, 4, 8, 9, 1, 7, 3, 8, 9, 5, 0, 7, 5, 9, 4, 1, 7, 5, 6, 6, 6, 2, 9, 6, 6, 6, 9, 8, 3, 4, 1, 9, 8, 9, 1, 3, 3, 3, 2, 5, 6, 7, 2, 9, 8, 5, 4, 1, 3, 5, 0, 8, 6, 8, 9, 2, 1, 9, 4, 5, 6, 6, 0, 3, 3, 3, 4, 1, 9, 4, 9, 4, 4, 8, 8, 9, 4, 8, 9, 2, 2, 2, 2, 3, 0, 7, 9, 9, 9, 5, 6, 4, 3, 2, 4, 0, 9, 6, 4, 5, 9, 2, 7, 3, 1, 7, 2, 3, 5, 4, 3, 3, 5, 9, 1, 4, 0, 4, 8, 9, 1, 5, 1, 4, 5, 4, 7, 9, 5, 5, 1, 5, 0, 4, 9, 4, 9, 3, 4, 7, 6, 5, 9, 7, 2, 1, 8, 4, 4, 4, 2, 9, 6, 6, 4, 6, 8, 5, 6, 8, 1, 7, 1, 2, 2, 0, 4, 4, 1, 3, 2, 6, 3, 9, 0, 3, 2, 0, 7, 1, 2, 0, 6, 6, 1, 4, 6, 7, 4, 1, 5, 9, 8, 3, 9, 4, 6, 5, 4, 4, 3, 8, 5, 1, 3, 5, 9, 4, 5, 1, 6, 4, 5, 3, 8, 2, 6, 8, 6, 5, 7, 9, 5, 3, 2, 9, 2, 4, 9, 6, 2, 3, 5, 0, 7, 7, 7, 6, 5, 0, 5, 6, 9, 5, 6, 3, 1, 5, 1, 5, 2, 1, 9, 9, 9, 7, 2, 2, 3, 3, 1, 1, 2, 9, 9, 0, 2, 6, 8, 1, 3, 5, 9, 1, 7, 7, 3, 1, 7, 0, 2, 2, 0, 1, 4, 0, 2, 0, 0, 5, 3, 8, 7, 1, 7, 1, 2, 6, 0, 6, 0, 9, 7, 0, 6, 2, 8, 3, 8, 0, 2, 6, 2, 6, 5, 8, 3, 4, 1, 0, 2, 9, 9, 5, 6, 3, 6, 7, 6, 4, 6, 1, 9, 0, 6, 0, 7, 4, 4, 3, 8, 5, 7, 9, 3, 6, 0, 7, 4, 1, 9, 4, 4, 0, 5, 8, 3, 0, 1, 8, 2, 4, 5, 0, 7, 3, 2, 5, 3, 5, 1, 9, 3, 5, 0, 0, 3, 6, 0, 6, 9, 8, 5, 6, 5, 2, 8, 4, 2, 7, 2, 6, 6, 2, 5, 8, 2, 0, 4, 6, 8, 9, 9, 7, 4, 8, 3, 3, 3, 3, 6, 1, 0, 5, 6, 3, 9, 7, 9, 6, 0, 2, 3, 8, 6, 4, 3, 2, 5, 8, 7, 8, 9, 2, 4, 0, 6, 3, 2, 7, 6, 9, 8, 8, 3, 3, 5, 5, 6, 7, 3, 5, 0, 3, 8, 9, 5, 6, 7, 9, 0, 9, 5, 0, 2, 2, 0, 3, 5, 4, 9, 0, 0, 1, 6, 0, 3, 4, 2, 1, 6, 4, 3, 8, 1, 2, 3, 9, 3, 8, 2, 5, 6, 5, 6, 9, 8, 4, 0, 8, 7, 7, 5, 1, 9, 7, 5, 2, 7, 1, 0]\n",
      "[9, 6, 6, 2, 4, 9, 9, 3, 3, 4, 2, 8, 0, 4, 5, 8, 4, 3, 4, 6, 5, 0, 7, 8, 4, 8, 7, 7, 7, 1, 8, 8, 1, 6, 7, 6, 0, 3, 1, 2, 8, 2, 5, 2, 6, 0, 0, 5, 6, 3, 0, 8, 9, 2, 8, 0, 0, 5, 1, 8, 3, 0, 7, 3, 6, 8, 6, 5, 4, 3, 7, 7, 3, 9, 3, 5, 6, 7, 3, 1, 1, 4, 8, 9, 2, 9, 4, 6, 6, 3, 8, 3, 4, 4, 6, 0, 2, 4, 8, 0, 9, 2, 9, 7, 7, 9, 3, 5, 8, 7, 0, 8, 4, 3, 9, 6, 2, 2, 1, 4, 6, 8, 1, 8, 7, 1, 2, 2, 8, 1, 3, 9, 1, 1, 7, 9, 2, 5, 9, 2, 8, 1, 1, 8, 7, 7, 8, 6, 5, 7, 9, 4, 5, 5, 1, 9, 6, 5, 9, 9, 4, 1, 1, 8, 4, 3, 0, 2, 9, 7, 4, 4, 9, 5, 2, 3, 0, 2, 4, 9, 7, 6, 8, 1, 2, 4, 3, 0, 7, 2, 6, 7, 0, 6, 0, 1, 3, 4, 5, 2, 0, 0, 0, 4, 9, 2, 1, 5, 7, 3, 1, 0, 5, 9, 6, 3, 6, 3, 0, 4, 2, 8, 0, 5, 1, 7, 5, 2, 8, 2, 5, 0, 8, 8, 9, 4, 5, 6, 9, 6, 5, 3, 0, 8, 8, 2, 3, 7, 6, 5, 8, 7, 3, 3, 8, 4, 8, 3, 2, 6, 8, 3, 9, 4, 3, 4, 7, 1, 7, 9, 1, 4, 4, 3, 1, 4, 7, 0, 6, 5, 6, 3, 7, 0, 3, 2, 7, 9, 8, 0, 7, 7, 2, 6, 7, 0, 1, 8, 0, 6, 7, 7, 4, 5, 0, 1, 2, 2, 7, 3, 7, 1, 5, 6, 1, 7, 9, 7, 1, 8, 6, 7, 3, 2, 5, 7, 6, 3, 9, 3, 2, 4, 7, 7, 5, 0, 8, 4, 6, 6, 8, 4, 9, 5, 5, 0, 5, 4, 3, 3, 7, 5, 6, 9, 9, 7, 6, 9, 6, 3, 7, 5, 7, 1, 6, 6, 1, 7, 3, 0, 7, 8, 0, 5, 8, 0, 1, 0, 7, 7, 8, 0, 0, 5, 4, 1, 7, 3, 4, 5, 3, 5, 0, 4, 1, 1, 3, 4, 8, 0, 9, 1, 5, 2, 7, 3, 6, 8, 5, 2, 0, 6, 7, 6, 8, 5, 9, 4, 4, 0, 0, 2, 0, 1, 2, 4, 0, 4, 8, 5, 2, 3, 4, 1, 8, 4, 0, 5, 2, 5, 7, 8, 5, 6, 9, 4, 9, 2, 5, 5, 4, 3, 4, 5, 4, 0, 8, 1, 7, 2, 9, 8, 0, 3, 3, 1, 9, 7, 9, 5, 0, 7, 4, 1, 9, 2, 6, 5, 1, 4, 0, 3, 2, 2, 4, 8, 9, 0, 0, 1, 4, 8, 9, 1, 7, 3, 8, 9, 5, 0, 7, 5, 9, 4, 1, 7, 5, 6, 6, 6, 2, 9, 6, 6, 6, 9, 8, 3, 4, 1, 9, 8, 9, 1, 3, 3, 3, 2, 5, 6, 7, 2, 9, 8, 5, 4, 1, 3, 5, 0, 8, 6, 8, 9, 2, 1, 9, 4, 5, 6, 6, 0, 3, 3, 3, 4, 1, 9, 4, 9, 4, 4, 8, 8, 9, 4, 8, 9, 2, 2, 2, 2, 3, 0, 7, 9, 9, 9, 5, 6, 4, 3, 2, 4, 0, 9, 6, 4, 5, 9, 2, 7, 3, 1, 7, 2, 3, 5, 4, 3, 3, 5, 9, 1, 4, 0, 4, 8, 9, 1, 5, 1, 4, 5, 4, 7, 9, 5, 5, 1, 5, 0, 4, 9, 4, 9, 3, 4, 7, 6, 5, 9, 7, 2, 1, 8, 4, 4, 4, 2, 9, 6, 6, 4, 6, 8, 5, 6, 8, 1, 7, 1, 2, 2, 0, 4, 4, 1, 3, 2, 6, 3, 9, 0, 3, 2, 0, 7, 1, 2, 0, 6, 6, 1, 4, 6, 7, 4, 1, 5, 9, 8, 3, 9, 4, 6, 5, 4, 4, 3, 8, 5, 1, 3, 5, 9, 4, 5, 1, 6, 4, 5, 3, 8, 2, 6, 8, 6, 5, 7, 9, 5, 3, 2, 9, 2, 4, 9, 6, 2, 3, 5, 0, 7, 7, 7, 6, 5, 0, 5, 6, 9, 5, 6, 3, 1, 5, 1, 5, 2, 1, 9, 9, 9, 7, 2, 2, 3, 3, 1, 1, 2, 9, 9, 0, 2, 6, 8, 1, 3, 5, 9, 1, 7, 7, 3, 1, 7, 0, 2, 2, 0, 1, 4, 0, 2, 0, 0, 5, 3, 8, 7, 1, 7, 1, 2, 6, 0, 6, 0, 9, 7, 0, 6, 2, 8, 3, 8, 0, 2, 6, 2, 6, 5, 8, 3, 4, 1, 0, 2, 9, 9, 5, 6, 3, 6, 7, 6, 4, 6, 1, 9, 0, 6, 0, 7, 4, 4, 3, 8, 5, 7, 9, 3, 6, 0, 7, 4, 1, 9, 4, 4, 0, 5, 8, 3, 0, 1, 8, 2, 4, 5, 0, 7, 3, 2, 5, 3, 5, 1, 9, 3, 5, 0, 0, 3, 6, 0, 6, 9, 8, 5, 6, 5, 2, 8, 4, 2, 7, 2, 6, 6, 2, 5, 8, 2, 0, 4, 6, 8, 9, 9, 7, 4, 8, 3, 3, 3, 3, 6, 1, 0, 5, 6, 3, 9, 7, 9, 6, 0, 2, 3, 8, 6, 4, 3, 2, 5, 8, 7, 8, 9, 2, 4, 0, 6, 3, 2, 7, 6, 9, 8, 8, 3, 3, 5, 5, 6, 7, 3, 5, 0, 3, 8, 9, 5, 6, 7, 9, 0, 9, 5, 0, 2, 2, 0, 3, 5, 4, 9, 0, 0, 1, 6, 0, 3, 4, 2, 1, 6, 4, 3, 8, 1, 2, 3, 9, 3, 8, 2, 5, 6, 5, 6, 9, 8, 4, 0, 8, 7, 7, 5, 1, 9, 7, 5, 2, 7, 1, 0]\n",
      "[9, 6, 6, 2, 4, 9, 9, 3, 3, 4, 2, 8, 0, 4, 5, 8, 4, 3, 4, 6, 5, 0, 7, 8, 4, 8, 7, 7, 7, 1, 8, 8, 1, 6, 7, 6, 0, 3, 1, 2, 8, 2, 5, 2, 6, 0, 0, 5, 6, 3, 0, 8, 9, 2, 8, 0, 0, 5, 1, 8, 3, 0, 7, 3, 6, 8, 6, 5, 4, 3, 7, 7, 3, 9, 3, 5, 6, 7, 3, 1, 1, 4, 8, 9, 2, 9, 4, 6, 6, 3, 8, 3, 4, 4, 6, 0, 2, 4, 8, 0, 9, 2, 9, 7, 7, 9, 3, 5, 8, 7, 0, 8, 4, 3, 9, 6, 2, 2, 1, 4, 6, 8, 1, 8, 7, 1, 2, 2, 8, 1, 3, 9, 1, 1, 7, 9, 2, 5, 9, 2, 8, 1, 1, 8, 7, 7, 8, 6, 5, 7, 9, 4, 5, 5, 1, 9, 6, 5, 9, 9, 4, 1, 1, 8, 4, 3, 0, 2, 9, 7, 4, 4, 9, 5, 2, 3, 0, 2, 4, 9, 7, 6, 8, 1, 2, 4, 3, 0, 7, 2, 6, 7, 0, 6, 0, 1, 3, 4, 5, 2, 0, 0, 0, 4, 9, 2, 1, 5, 7, 3, 1, 0, 5, 9, 6, 3, 6, 3, 0, 4, 2, 8, 0, 5, 1, 7, 5, 2, 8, 2, 5, 0, 8, 8, 9, 4, 5, 6, 9, 6, 5, 3, 0, 8, 8, 2, 3, 7, 6, 5, 8, 7, 3, 3, 8, 4, 8, 3, 2, 6, 8, 3, 9, 4, 3, 4, 7, 1, 7, 9, 1, 4, 4, 3, 1, 4, 7, 0, 6, 5, 6, 3, 7, 0, 3, 2, 7, 9, 8, 0, 7, 7, 2, 6, 7, 0, 1, 8, 0, 6, 7, 7, 4, 5, 0, 1, 2, 2, 7, 3, 7, 1, 5, 6, 1, 7, 9, 7, 1, 8, 6, 7, 3, 2, 5, 7, 6, 3, 9, 3, 2, 4, 7, 7, 5, 0, 8, 4, 6, 6, 8, 4, 9, 5, 5, 0, 5, 4, 3, 3, 7, 5, 6, 9, 9, 7, 6, 9, 6, 3, 7, 5, 7, 1, 6, 6, 1, 7, 3, 0, 7, 8, 0, 5, 8, 0, 1, 0, 7, 7, 8, 0, 0, 5, 4, 1, 7, 3, 4, 5, 3, 5, 0, 4, 1, 1, 3, 4, 8, 0, 9, 1, 5, 2, 7, 3, 6, 8, 5, 2, 0, 6, 7, 6, 8, 5, 9, 4, 4, 0, 0, 2, 0, 1, 2, 4, 0, 4, 8, 5, 2, 3, 4, 1, 8, 4, 0, 5, 2, 5, 7, 8, 5, 6, 9, 4, 9, 2, 5, 5, 4, 3, 4, 5, 4, 0, 8, 1, 7, 2, 9, 8, 0, 3, 3, 1, 9, 7, 9, 5, 0, 7, 4, 1, 9, 2, 6, 5, 1, 4, 0, 3, 2, 2, 4, 8, 9, 0, 0, 1, 4, 8, 9, 1, 7, 3, 8, 9, 5, 0, 7, 5, 9, 4, 1, 7, 5, 6, 6, 6, 2, 9, 6, 6, 6, 9, 8, 3, 4, 1, 9, 8, 9, 1, 3, 3, 3, 2, 5, 6, 7, 2, 9, 8, 5, 4, 1, 3, 5, 0, 8, 6, 8, 9, 2, 1, 9, 4, 5, 6, 6, 0, 3, 3, 3, 4, 1, 9, 4, 9, 4, 4, 8, 8, 9, 4, 8, 9, 2, 2, 2, 2, 3, 0, 7, 9, 9, 9, 5, 6, 4, 3, 2, 4, 0, 9, 6, 4, 5, 9, 2, 7, 3, 1, 7, 2, 3, 5, 4, 3, 3, 5, 9, 1, 4, 0, 4, 8, 9, 1, 5, 1, 4, 5, 4, 7, 9, 5, 5, 1, 5, 0, 4, 9, 4, 9, 3, 4, 7, 6, 5, 9, 7, 2, 1, 8, 4, 4, 4, 2, 9, 6, 6, 4, 6, 8, 5, 6, 8, 1, 7, 1, 2, 2, 0, 4, 4, 1, 3, 2, 6, 3, 9, 0, 3, 2, 0, 7, 1, 2, 0, 6, 6, 1, 4, 6, 7, 4, 1, 5, 9, 8, 3, 9, 4, 6, 5, 4, 4, 3, 8, 5, 1, 3, 5, 9, 4, 5, 1, 6, 4, 5, 3, 8, 2, 6, 8, 6, 5, 7, 9, 5, 3, 2, 9, 2, 4, 9, 6, 2, 3, 5, 0, 7, 7, 7, 6, 5, 0, 5, 6, 9, 5, 6, 3, 1, 5, 1, 5, 2, 1, 9, 9, 9, 7, 2, 2, 3, 3, 1, 1, 2, 9, 9, 0, 2, 6, 8, 1, 3, 5, 9, 1, 7, 7, 3, 1, 7, 0, 2, 2, 0, 1, 4, 0, 2, 0, 0, 5, 3, 8, 7, 1, 7, 1, 2, 6, 0, 6, 0, 9, 7, 0, 6, 2, 8, 3, 8, 0, 2, 6, 2, 6, 5, 8, 3, 4, 1, 0, 2, 9, 9, 5, 6, 3, 6, 7, 6, 4, 6, 1, 9, 0, 6, 0, 7, 4, 4, 3, 8, 5, 7, 9, 3, 6, 0, 7, 4, 1, 9, 4, 4, 0, 5, 8, 3, 0, 1, 8, 2, 4, 5, 0, 7, 3, 2, 5, 3, 5, 1, 9, 3, 5, 0, 0, 3, 6, 0, 6, 9, 8, 5, 6, 5, 2, 8, 4, 2, 7, 2, 6, 6, 2, 5, 8, 2, 0, 4, 6, 8, 9, 9, 7, 4, 8, 3, 3, 3, 3, 6, 1, 0, 5, 6, 3, 9, 7, 9, 6, 0, 2, 3, 8, 6, 4, 3, 2, 5, 8, 7, 8, 9, 2, 4, 0, 6, 3, 2, 7, 6, 9, 8, 8, 3, 3, 5, 5, 6, 7, 3, 5, 0, 3, 8, 9, 5, 6, 7, 9, 0, 9, 5, 0, 2, 2, 0, 3, 5, 4, 9, 0, 0, 1, 6, 0, 3, 4, 2, 1, 6, 4, 3, 8, 1, 2, 3, 9, 3, 8, 2, 5, 6, 5, 6, 9, 8, 4, 0, 8, 7, 7, 5, 1, 9, 7, 5, 2, 7, 1, 0]\n",
      "[9, 6, 6, 2, 4, 9, 9, 3, 3, 4, 2, 8, 0, 4, 5, 8, 4, 3, 4, 6, 5, 0, 7, 8, 4, 8, 7, 7, 7, 1, 8, 8, 1, 6, 7, 6, 0, 3, 1, 2, 8, 2, 5, 2, 6, 0, 0, 5, 6, 3, 0, 8, 9, 2, 8, 0, 0, 5, 1, 8, 3, 0, 7, 3, 6, 8, 6, 5, 4, 3, 7, 7, 3, 9, 3, 5, 6, 7, 3, 1, 1, 4, 8, 9, 2, 9, 4, 6, 6, 3, 8, 3, 4, 4, 6, 0, 2, 4, 8, 0, 9, 2, 9, 7, 7, 9, 3, 5, 8, 7, 0, 8, 4, 3, 9, 6, 2, 2, 1, 4, 6, 8, 1, 8, 7, 1, 2, 2, 8, 1, 3, 9, 1, 1, 7, 9, 2, 5, 9, 2, 8, 1, 1, 8, 7, 7, 8, 6, 5, 7, 9, 4, 5, 5, 1, 9, 6, 5, 9, 9, 4, 1, 1, 8, 4, 3, 0, 2, 9, 7, 4, 4, 9, 5, 2, 3, 0, 2, 4, 9, 7, 6, 8, 1, 2, 4, 3, 0, 7, 2, 6, 7, 0, 6, 0, 1, 3, 4, 5, 2, 0, 0, 0, 4, 9, 2, 1, 5, 7, 3, 1, 0, 5, 9, 6, 3, 6, 3, 0, 4, 2, 8, 0, 5, 1, 7, 5, 2, 8, 2, 5, 0, 8, 8, 9, 4, 5, 6, 9, 6, 5, 3, 0, 8, 8, 2, 3, 7, 6, 5, 8, 7, 3, 3, 8, 4, 8, 3, 2, 6, 8, 3, 9, 4, 3, 4, 7, 1, 7, 9, 1, 4, 4, 3, 1, 4, 7, 0, 6, 5, 6, 3, 7, 0, 3, 2, 7, 9, 8, 0, 7, 7, 2, 6, 7, 0, 1, 8, 0, 6, 7, 7, 4, 5, 0, 1, 2, 2, 7, 3, 7, 1, 5, 6, 1, 7, 9, 7, 1, 8, 6, 7, 3, 2, 5, 7, 6, 3, 9, 3, 2, 4, 7, 7, 5, 0, 8, 4, 6, 6, 8, 4, 9, 5, 5, 0, 5, 4, 3, 3, 7, 5, 6, 9, 9, 7, 6, 9, 6, 3, 7, 5, 7, 1, 6, 6, 1, 7, 3, 0, 7, 8, 0, 5, 8, 0, 1, 0, 7, 7, 8, 0, 0, 5, 4, 1, 7, 3, 4, 5, 3, 5, 0, 4, 1, 1, 3, 4, 8, 0, 9, 1, 5, 2, 7, 3, 6, 8, 5, 2, 0, 6, 7, 6, 8, 5, 9, 4, 4, 0, 0, 2, 0, 1, 2, 4, 0, 4, 8, 5, 2, 3, 4, 1, 8, 4, 0, 5, 2, 5, 7, 8, 5, 6, 9, 4, 9, 2, 5, 5, 4, 3, 4, 5, 4, 0, 8, 1, 7, 2, 9, 8, 0, 3, 3, 1, 9, 7, 9, 5, 0, 7, 4, 1, 9, 2, 6, 5, 1, 4, 0, 3, 2, 2, 4, 8, 9, 0, 0, 1, 4, 8, 9, 1, 7, 3, 8, 9, 5, 0, 7, 5, 9, 4, 1, 7, 5, 6, 6, 6, 2, 9, 6, 6, 6, 9, 8, 3, 4, 1, 9, 8, 9, 1, 3, 3, 3, 2, 5, 6, 7, 2, 9, 8, 5, 4, 1, 3, 5, 0, 8, 6, 8, 9, 2, 1, 9, 4, 5, 6, 6, 0, 3, 3, 3, 4, 1, 9, 4, 9, 4, 4, 8, 8, 9, 4, 8, 9, 2, 2, 2, 2, 3, 0, 7, 9, 9, 9, 5, 6, 4, 3, 2, 4, 0, 9, 6, 4, 5, 9, 2, 7, 3, 1, 7, 2, 3, 5, 4, 3, 3, 5, 9, 1, 4, 0, 4, 8, 9, 1, 5, 1, 4, 5, 4, 7, 9, 5, 5, 1, 5, 0, 4, 9, 4, 9, 3, 4, 7, 6, 5, 9, 7, 2, 1, 8, 4, 4, 4, 2, 9, 6, 6, 4, 6, 8, 5, 6, 8, 1, 7, 1, 2, 2, 0, 4, 4, 1, 3, 2, 6, 3, 9, 0, 3, 2, 0, 7, 1, 2, 0, 6, 6, 1, 4, 6, 7, 4, 1, 5, 9, 8, 3, 9, 4, 6, 5, 4, 4, 3, 8, 5, 1, 3, 5, 9, 4, 5, 1, 6, 4, 5, 3, 8, 2, 6, 8, 6, 5, 7, 9, 5, 3, 2, 9, 2, 4, 9, 6, 2, 3, 5, 0, 7, 7, 7, 6, 5, 0, 5, 6, 9, 5, 6, 3, 1, 5, 1, 5, 2, 1, 9, 9, 9, 7, 2, 2, 3, 3, 1, 1, 2, 9, 9, 0, 2, 6, 8, 1, 3, 5, 9, 1, 7, 7, 3, 1, 7, 0, 2, 2, 0, 1, 4, 0, 2, 0, 0, 5, 3, 8, 7, 1, 7, 1, 2, 6, 0, 6, 0, 9, 7, 0, 6, 2, 8, 3, 8, 0, 2, 6, 2, 6, 5, 8, 3, 4, 1, 0, 2, 9, 9, 5, 6, 3, 6, 7, 6, 4, 6, 1, 9, 0, 6, 0, 7, 4, 4, 3, 8, 5, 7, 9, 3, 6, 0, 7, 4, 1, 9, 4, 4, 0, 5, 8, 3, 0, 1, 8, 2, 4, 5, 0, 7, 3, 2, 5, 3, 5, 1, 9, 3, 5, 0, 0, 3, 6, 0, 6, 9, 8, 5, 6, 5, 2, 8, 4, 2, 7, 2, 6, 6, 2, 5, 8, 2, 0, 4, 6, 8, 9, 9, 7, 4, 8, 3, 3, 3, 3, 6, 1, 0, 5, 6, 3, 9, 7, 9, 6, 0, 2, 3, 8, 6, 4, 3, 2, 5, 8, 7, 8, 9, 2, 4, 0, 6, 3, 2, 7, 6, 9, 8, 8, 3, 3, 5, 5, 6, 7, 3, 5, 0, 3, 8, 9, 5, 6, 7, 9, 0, 9, 5, 0, 2, 2, 0, 3, 5, 4, 9, 0, 0, 1, 6, 0, 3, 4, 2, 1, 6, 4, 3, 8, 1, 2, 3, 9, 3, 8, 2, 5, 6, 5, 6, 9, 8, 4, 0, 8, 7, 7, 5, 1, 9, 7, 5, 2, 7, 1, 0]\n",
      "[9, 6, 6, 2, 4, 9, 9, 3, 3, 4, 2, 8, 0, 4, 5, 8, 4, 3, 4, 6, 5, 0, 7, 8, 4, 8, 7, 7, 7, 1, 8, 8, 1, 6, 7, 6, 0, 3, 1, 2, 8, 2, 5, 2, 6, 0, 0, 5, 6, 3, 0, 8, 9, 2, 8, 0, 0, 5, 1, 8, 3, 0, 7, 3, 6, 8, 6, 5, 4, 3, 7, 7, 3, 9, 3, 5, 6, 7, 3, 1, 1, 4, 8, 9, 2, 9, 4, 6, 6, 3, 8, 3, 4, 4, 6, 0, 2, 4, 8, 0, 9, 2, 9, 7, 7, 9, 3, 5, 8, 7, 0, 8, 4, 3, 9, 6, 2, 2, 1, 4, 6, 8, 1, 8, 7, 1, 2, 2, 8, 1, 3, 9, 1, 1, 7, 9, 2, 5, 9, 2, 8, 1, 1, 8, 7, 7, 8, 6, 5, 7, 9, 4, 5, 5, 1, 9, 6, 5, 9, 9, 4, 1, 1, 8, 4, 3, 0, 2, 9, 7, 4, 4, 9, 5, 2, 3, 0, 2, 4, 9, 7, 6, 8, 1, 2, 4, 3, 0, 7, 2, 6, 7, 0, 6, 0, 1, 3, 4, 5, 2, 0, 0, 0, 4, 9, 2, 1, 5, 7, 3, 1, 0, 5, 9, 6, 3, 6, 3, 0, 4, 2, 8, 0, 5, 1, 7, 5, 2, 8, 2, 5, 0, 8, 8, 9, 4, 5, 6, 9, 6, 5, 3, 0, 8, 8, 2, 3, 7, 6, 5, 8, 7, 3, 3, 8, 4, 8, 3, 2, 6, 8, 3, 9, 4, 3, 4, 7, 1, 7, 9, 1, 4, 4, 3, 1, 4, 7, 0, 6, 5, 6, 3, 7, 0, 3, 2, 7, 9, 8, 0, 7, 7, 2, 6, 7, 0, 1, 8, 0, 6, 7, 7, 4, 5, 0, 1, 2, 2, 7, 3, 7, 1, 5, 6, 1, 7, 9, 7, 1, 8, 6, 7, 3, 2, 5, 7, 6, 3, 9, 3, 2, 4, 7, 7, 5, 0, 8, 4, 6, 6, 8, 4, 9, 5, 5, 0, 5, 4, 3, 3, 7, 5, 6, 9, 9, 7, 6, 9, 6, 3, 7, 5, 7, 1, 6, 6, 1, 7, 3, 0, 7, 8, 0, 5, 8, 0, 1, 0, 7, 7, 8, 0, 0, 5, 4, 1, 7, 3, 4, 5, 3, 5, 0, 4, 1, 1, 3, 4, 8, 0, 9, 1, 5, 2, 7, 3, 6, 8, 5, 2, 0, 6, 7, 6, 8, 5, 9, 4, 4, 0, 0, 2, 0, 1, 2, 4, 0, 4, 8, 5, 2, 3, 4, 1, 8, 4, 0, 5, 2, 5, 7, 8, 5, 6, 9, 4, 9, 2, 5, 5, 4, 3, 4, 5, 4, 0, 8, 1, 7, 2, 9, 8, 0, 3, 3, 1, 9, 7, 9, 5, 0, 7, 4, 1, 9, 2, 6, 5, 1, 4, 0, 3, 2, 2, 4, 8, 9, 0, 0, 1, 4, 8, 9, 1, 7, 3, 8, 9, 5, 0, 7, 5, 9, 4, 1, 7, 5, 6, 6, 6, 2, 9, 6, 6, 6, 9, 8, 3, 4, 1, 9, 8, 9, 1, 3, 3, 3, 2, 5, 6, 7, 2, 9, 8, 5, 4, 1, 3, 5, 0, 8, 6, 8, 9, 2, 1, 9, 4, 5, 6, 6, 0, 3, 3, 3, 4, 1, 9, 4, 9, 4, 4, 8, 8, 9, 4, 8, 9, 2, 2, 2, 2, 3, 0, 7, 9, 9, 9, 5, 6, 4, 3, 2, 4, 0, 9, 6, 4, 5, 9, 2, 7, 3, 1, 7, 2, 3, 5, 4, 3, 3, 5, 9, 1, 4, 0, 4, 8, 9, 1, 5, 1, 4, 5, 4, 7, 9, 5, 5, 1, 5, 0, 4, 9, 4, 9, 3, 4, 7, 6, 5, 9, 7, 2, 1, 8, 4, 4, 4, 2, 9, 6, 6, 4, 6, 8, 5, 6, 8, 1, 7, 1, 2, 2, 0, 4, 4, 1, 3, 2, 6, 3, 9, 0, 3, 2, 0, 7, 1, 2, 0, 6, 6, 1, 4, 6, 7, 4, 1, 5, 9, 8, 3, 9, 4, 6, 5, 4, 4, 3, 8, 5, 1, 3, 5, 9, 4, 5, 1, 6, 4, 5, 3, 8, 2, 6, 8, 6, 5, 7, 9, 5, 3, 2, 9, 2, 4, 9, 6, 2, 3, 5, 0, 7, 7, 7, 6, 5, 0, 5, 6, 9, 5, 6, 3, 1, 5, 1, 5, 2, 1, 9, 9, 9, 7, 2, 2, 3, 3, 1, 1, 2, 9, 9, 0, 2, 6, 8, 1, 3, 5, 9, 1, 7, 7, 3, 1, 7, 0, 2, 2, 0, 1, 4, 0, 2, 0, 0, 5, 3, 8, 7, 1, 7, 1, 2, 6, 0, 6, 0, 9, 7, 0, 6, 2, 8, 3, 8, 0, 2, 6, 2, 6, 5, 8, 3, 4, 1, 0, 2, 9, 9, 5, 6, 3, 6, 7, 6, 4, 6, 1, 9, 0, 6, 0, 7, 4, 4, 3, 8, 5, 7, 9, 3, 6, 0, 7, 4, 1, 9, 4, 4, 0, 5, 8, 3, 0, 1, 8, 2, 4, 5, 0, 7, 3, 2, 5, 3, 5, 1, 9, 3, 5, 0, 0, 3, 6, 0, 6, 9, 8, 5, 6, 5, 2, 8, 4, 2, 7, 2, 6, 6, 2, 5, 8, 2, 0, 4, 6, 8, 9, 9, 7, 4, 8, 3, 3, 3, 3, 6, 1, 0, 5, 6, 3, 9, 7, 9, 6, 0, 2, 3, 8, 6, 4, 3, 2, 5, 8, 7, 8, 9, 2, 4, 0, 6, 3, 2, 7, 6, 9, 8, 8, 3, 3, 5, 5, 6, 7, 3, 5, 0, 3, 8, 9, 5, 6, 7, 9, 0, 9, 5, 0, 2, 2, 0, 3, 5, 4, 9, 0, 0, 1, 6, 0, 3, 4, 2, 1, 6, 4, 3, 8, 1, 2, 3, 9, 3, 8, 2, 5, 6, 5, 6, 9, 8, 4, 0, 8, 7, 7, 5, 1, 9, 7, 5, 2, 7, 1, 0]\n"
     ]
    }
   ],
   "source": [
    "x = [random.randint(0,9) for i in range(1000) ]\n",
    "count = 0\n",
    "for i in range(1000):\n",
    "    count += 1\n",
    "    if count % 10 == 0:\n",
    "        print(x)"
   ]
  },
  {
   "cell_type": "markdown",
   "metadata": {},
   "source": [
    "- 6\n",
    "![](../Photo/126.png)"
   ]
  },
  {
   "cell_type": "code",
   "execution_count": 21,
   "metadata": {},
   "outputs": [],
   "source": [
    "def idox():#定义一个idox函数\n",
    "    a = eval(input(\"输入一个数字列表:\"))\n",
    "    c = a.index(b)\n",
    "    print(c)"
   ]
  },
  {
   "cell_type": "code",
   "execution_count": 22,
   "metadata": {},
   "outputs": [
    {
     "name": "stdout",
     "output_type": "stream",
     "text": [
      "输入一个数字列表:1,2,34\n",
      "1\n"
     ]
    }
   ],
   "source": [
    "idox()"
   ]
  },
  {
   "cell_type": "markdown",
   "metadata": {},
   "source": [
    "- 7\n",
    "![](../Photo/127.png)\n",
    "![](../Photo/128.png)"
   ]
  },
  {
   "cell_type": "code",
   "execution_count": 24,
   "metadata": {},
   "outputs": [
    {
     "data": {
      "text/plain": [
       "[1, 3, 2]"
      ]
     },
     "execution_count": 24,
     "metadata": {},
     "output_type": "execute_result"
    }
   ],
   "source": [
    "a=[1,2,3]\n",
    "random.shuffle(a)\n",
    "a"
   ]
  },
  {
   "cell_type": "code",
   "execution_count": null,
   "metadata": {},
   "outputs": [],
   "source": []
  },
  {
   "cell_type": "markdown",
   "metadata": {},
   "source": [
    "- 8\n",
    "![](../Photo/129.png)"
   ]
  },
  {
   "cell_type": "code",
   "execution_count": 36,
   "metadata": {},
   "outputs": [
    {
     "ename": "IndentationError",
     "evalue": "expected an indented block (<ipython-input-36-587afcfb3d19>, line 6)",
     "output_type": "error",
     "traceback": [
      "\u001b[1;36m  File \u001b[1;32m\"<ipython-input-36-587afcfb3d19>\"\u001b[1;36m, line \u001b[1;32m6\u001b[0m\n\u001b[1;33m    b +=1\u001b[0m\n\u001b[1;37m    ^\u001b[0m\n\u001b[1;31mIndentationError\u001b[0m\u001b[1;31m:\u001b[0m expected an indented block\n"
     ]
    }
   ],
   "source": [
    "def el(): \n",
    "    n = [1,2,3,2,1,6,3,4,5,2]\n",
    "    b = 0\n",
    "    for i in n:\n",
    "        if n[i+b]%2==0:\n",
    "        b +=1\n",
    "        b.insert(b2,100)\n",
    "        n +=1 \n",
    "        print(n)\n",
    "        else:\n",
    "            print()"
   ]
  },
  {
   "cell_type": "code",
   "execution_count": 28,
   "metadata": {},
   "outputs": [
    {
     "name": "stdout",
     "output_type": "stream",
     "text": [
      "None\n",
      "None\n",
      "\n",
      "\n",
      "\n",
      "\n",
      "\n",
      "None\n"
     ]
    }
   ],
   "source": [
    "el()"
   ]
  },
  {
   "cell_type": "markdown",
   "metadata": {},
   "source": [
    "- 9\n",
    "![](../Photo/130.png)"
   ]
  },
  {
   "cell_type": "markdown",
   "metadata": {},
   "source": [
    "- 10\n",
    "![](../Photo/131.png)"
   ]
  },
  {
   "cell_type": "markdown",
   "metadata": {},
   "source": [
    "- 11\n",
    "![](../Photo/132.png)"
   ]
  },
  {
   "cell_type": "markdown",
   "metadata": {},
   "source": [
    "- 12\n",
    "![](../Photo/133.png)"
   ]
  }
 ],
 "metadata": {
  "kernelspec": {
   "display_name": "Python 3",
   "language": "python",
   "name": "python3"
  },
  "language_info": {
   "codemirror_mode": {
    "name": "ipython",
    "version": 3
   },
   "file_extension": ".py",
   "mimetype": "text/x-python",
   "name": "python",
   "nbconvert_exporter": "python",
   "pygments_lexer": "ipython3",
   "version": "3.7.3"
  }
 },
 "nbformat": 4,
 "nbformat_minor": 2
}
