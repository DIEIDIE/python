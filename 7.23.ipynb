{
 "cells": [
  {
   "cell_type": "markdown",
   "metadata": {},
   "source": [
    "# 对象和类\n",
    "- 一个学生，一张桌子，一个圆都是对象\n",
    "- 对象是类的一个实例，你可以创建多个对象，创建类的一个实例过程被称为实例化，\n",
    "- 在Python中对象就是实例，而实例就是对象"
   ]
  },
  {
   "cell_type": "markdown",
   "metadata": {},
   "source": [
    "## 定义类\n",
    "class ClassName:\n",
    "\n",
    "    do something\n",
    "    \n",
    "- class 类的表示与def 一样\n",
    "- 类名最好使用驼峰式\n",
    "- 在Python2中类是需要继承基类object的，在Python中默认继承，可写可不写\n",
    "- 可以将普通代码理解为皮肤，而函数可以理解为内衣，那么类可以理解为外套"
   ]
  },
  {
   "cell_type": "code",
   "execution_count": 3,
   "metadata": {},
   "outputs": [],
   "source": [
    "#类一定初始化init\n",
    "#使用self初始化自身\n",
    "#类里面所有的函数中的第一个变量不再是参数，而是一个印记\n",
    "class joker:\n",
    "    def __init__(self):\n",
    "        print('我初始化了')\n",
    "    def print_(self):#self是一个标识量，作为一个印记,self 后面可以加参数\n",
    "        print('joker hahaha')"
   ]
  },
  {
   "cell_type": "code",
   "execution_count": 4,
   "metadata": {},
   "outputs": [
    {
     "name": "stdout",
     "output_type": "stream",
     "text": [
      "我初始化了\n"
     ]
    }
   ],
   "source": [
    "huwang = joker()"
   ]
  },
  {
   "cell_type": "code",
   "execution_count": 5,
   "metadata": {},
   "outputs": [
    {
     "name": "stdout",
     "output_type": "stream",
     "text": [
      "joker hahaha\n"
     ]
    }
   ],
   "source": [
    "huwang.print_()"
   ]
  },
  {
   "cell_type": "code",
   "execution_count": 2,
   "metadata": {},
   "outputs": [
    {
     "name": "stdout",
     "output_type": "stream",
     "text": [
      "我初始化了\n"
     ]
    },
    {
     "data": {
      "text/plain": [
       "<__main__.joker at 0x265093f6470>"
      ]
     },
     "execution_count": 2,
     "metadata": {},
     "output_type": "execute_result"
    }
   ],
   "source": [
    "joker()   #（）代表直接走初始函数"
   ]
  },
  {
   "cell_type": "markdown",
   "metadata": {},
   "source": [
    "## 定义一个不含初始化__init__的简单类\n",
    "class ClassName:\n",
    "\n",
    "    joker = “Home”\n",
    "    \n",
    "    def func():\n",
    "        print('Worker')\n",
    "    \n",
    "- 尽量少使用"
   ]
  },
  {
   "cell_type": "code",
   "execution_count": 18,
   "metadata": {},
   "outputs": [],
   "source": [
    "#在类中如果有参数多次使用，那么就可以将其设置为共享参数\n",
    "class Joker:\n",
    "    def __init__(self,num1,num2):\n",
    "        print('我初始化了')\n",
    "        #参数共享\n",
    "        self.num1 = num1\n",
    "        self.num2 = num2\n",
    "        print(self.num1,self.num2)\n",
    "    def SUM(self):\n",
    "        return self.num1+self.num2\n",
    "    def cheng(self):\n",
    "        return self.num1*self.num2"
   ]
  },
  {
   "cell_type": "code",
   "execution_count": 19,
   "metadata": {},
   "outputs": [
    {
     "name": "stdout",
     "output_type": "stream",
     "text": [
      "我初始化了\n",
      "1 2\n"
     ]
    }
   ],
   "source": [
    "hw = Joker(num1=1,num2=2)"
   ]
  },
  {
   "cell_type": "code",
   "execution_count": 20,
   "metadata": {},
   "outputs": [
    {
     "data": {
      "text/plain": [
       "3"
      ]
     },
     "execution_count": 20,
     "metadata": {},
     "output_type": "execute_result"
    }
   ],
   "source": [
    "hw.SUM()"
   ]
  },
  {
   "cell_type": "code",
   "execution_count": 55,
   "metadata": {},
   "outputs": [],
   "source": [
    "class pd:\n",
    "    def __init__(self):\n",
    "        print('初始化')\n",
    "    def jiou(self,num1):\n",
    "        if num1%2==0:\n",
    "            print(num1,'为偶数')\n",
    "        else:\n",
    "            print(num1,'为奇数')\n",
    "    def year(self,years):\n",
    "        y=years % 4\n",
    "        n = years %100\n",
    "        p = years % 40\n",
    "        if y==0  and n!=0 and p == 0:\n",
    "            print('闰年')\n",
    "        else:\n",
    "            print('平年')"
   ]
  },
  {
   "cell_type": "code",
   "execution_count": 56,
   "metadata": {},
   "outputs": [
    {
     "name": "stdout",
     "output_type": "stream",
     "text": [
      "初始化\n"
     ]
    }
   ],
   "source": [
    "#创建类的一个实例\n",
    "panduan = pd()"
   ]
  },
  {
   "cell_type": "code",
   "execution_count": 57,
   "metadata": {},
   "outputs": [
    {
     "name": "stdout",
     "output_type": "stream",
     "text": [
      "2 为偶数\n"
     ]
    }
   ],
   "source": [
    "panduan.jiou(2)"
   ]
  },
  {
   "cell_type": "code",
   "execution_count": 58,
   "metadata": {},
   "outputs": [
    {
     "name": "stdout",
     "output_type": "stream",
     "text": [
      "平年\n"
     ]
    }
   ],
   "source": [
    "panduan.year(2018)"
   ]
  },
  {
   "cell_type": "markdown",
   "metadata": {},
   "source": [
    "\n",
    "\n",
    "## 定义一个标准类\n",
    "- __init__ 代表初始化，可以初始化任何动作\n",
    "- 此时类调用要使用()，其中（）可以理解为开始初始化\n",
    "- 初始化内的元素，类中其他的函数可以共享\n",
    "![](../Photo/85.png)"
   ]
  },
  {
   "cell_type": "markdown",
   "metadata": {},
   "source": [
    "- Circle 和 className_ 的第一个区别有 __init__ 这个函数\n",
    "- 。。。。   第二个区别，类中的每一个函数都有self的这个“参数”"
   ]
  },
  {
   "cell_type": "markdown",
   "metadata": {},
   "source": [
    "## 何为self？\n",
    "- self 是指向对象本身的参数\n",
    "- self 只是一个命名规则，其实可以改变的，但是我们约定俗成的是self，也便于理解\n",
    "- 使用了self就可以访问类中定义的成员\n",
    "<img src=\"../Photo/86.png\"></img>"
   ]
  },
  {
   "cell_type": "markdown",
   "metadata": {},
   "source": [
    "## 使用类 Cirlcle"
   ]
  },
  {
   "cell_type": "markdown",
   "metadata": {},
   "source": [
    "## 类的传参\n",
    "- class ClassName:\n",
    "    \n",
    "        def __init__(self, para1,para2...)：\n",
    "            \n",
    "            self.para1 = para1\n",
    "            \n",
    "            self.para2 = para2"
   ]
  },
  {
   "cell_type": "markdown",
   "metadata": {},
   "source": [
    "## EP:\n",
    "- A：定义一个类，类中含有两个功能：\n",
    "    - 1、产生3个随机数，获取最大值\n",
    "    - 2、产生3个随机数，获取最小值\n",
    "- B：定义一个类，（类中函数的嵌套使用）\n",
    "    - 1、第一个函数的功能为：输入一个数字\n",
    "    - 2、第二个函数的功能为：使用第一个函数中得到的数字进行平方处理\n",
    "    - 3、第三个函数的功能为：得到平方处理后的数字 - 原来输入的数字，并打印结果"
   ]
  },
  {
   "cell_type": "code",
   "execution_count": 73,
   "metadata": {},
   "outputs": [],
   "source": [
    "import random\n",
    "class JOKER:\n",
    "    def __init__(self):\n",
    "        print('初始化')\n",
    "    def MAX(self):\n",
    "        a=random.randint(0,10)\n",
    "        b=random.randint(0,10)\n",
    "        c=random.randint(0,10)\n",
    "        print(a,b,c)\n",
    "        return max(a,b,c)\n",
    "        \n",
    "    def MIN(self):\n",
    "        a=random.randint(0,10)\n",
    "        b=random.randint(0,10)\n",
    "        c=random.randint(0,10)\n",
    "        print(a,b,c)\n",
    "        return min(a,b,c)"
   ]
  },
  {
   "cell_type": "code",
   "execution_count": 74,
   "metadata": {},
   "outputs": [
    {
     "name": "stdout",
     "output_type": "stream",
     "text": [
      "初始化\n"
     ]
    }
   ],
   "source": [
    "z_z = JOKER()"
   ]
  },
  {
   "cell_type": "code",
   "execution_count": 67,
   "metadata": {},
   "outputs": [
    {
     "name": "stdout",
     "output_type": "stream",
     "text": [
      "0 3 2\n"
     ]
    },
    {
     "data": {
      "text/plain": [
       "3"
      ]
     },
     "execution_count": 67,
     "metadata": {},
     "output_type": "execute_result"
    }
   ],
   "source": [
    "z_z.MAX()"
   ]
  },
  {
   "cell_type": "code",
   "execution_count": 44,
   "metadata": {},
   "outputs": [],
   "source": [
    "class qw:\n",
    "    def __init__(self):\n",
    "        print('初始化')\n",
    "    def zuida(self):\n",
    "        import random\n",
    "        x1 = random.randint(1,10)\n",
    "        x2 = random.randint(1,10)\n",
    "        x3 = random.randint(1,10)\n",
    "        print(x1,x2,x3)\n",
    "        if x1>x2>x3:\n",
    "            print(x1)\n",
    "        elif x1>x3>x2:\n",
    "            print(x1)\n",
    "        elif x2>x1>x3:\n",
    "            print(x2)\n",
    "        elif x2>x3>x1:\n",
    "            print(x2)\n",
    "        elif x3>x1>x2: \n",
    "            print(x3)\n",
    "        elif x3>x2>x1:\n",
    "            print(x3)\n",
    "\n",
    "    def zuixiao(self):\n",
    "        import random\n",
    "        x1 = random.randint(1,10)\n",
    "        x2 = random.randint(1,10)\n",
    "        x3 = random.randint(1,10)\n",
    "        print(x1,x2,x3)\n",
    "        if x1<x2<x3:\n",
    "             print(x1)\n",
    "        elif x1<x3<x2:\n",
    "            print(x1)\n",
    "        elif x2<x1<x3:\n",
    "            print(x2)\n",
    "        elif x2<x3<x1:\n",
    "            print(x2)\n",
    "        elif x3<x1<x2:\n",
    "            print(x3)\n",
    "        elif x3<x2<x1:\n",
    "            print(x3)\n",
    "        "
   ]
  },
  {
   "cell_type": "code",
   "execution_count": 45,
   "metadata": {},
   "outputs": [
    {
     "name": "stdout",
     "output_type": "stream",
     "text": [
      "初始化\n"
     ]
    }
   ],
   "source": [
    "zx = qw()"
   ]
  },
  {
   "cell_type": "code",
   "execution_count": 46,
   "metadata": {},
   "outputs": [
    {
     "name": "stdout",
     "output_type": "stream",
     "text": [
      "5 1 9\n",
      "9\n"
     ]
    }
   ],
   "source": [
    "zx.zuida()"
   ]
  },
  {
   "cell_type": "markdown",
   "metadata": {},
   "source": [
    "- B：定义一个类，（类中函数的嵌套使用）\n",
    "    - 1、第一个函数的功能为：输入一个数字\n",
    "    - 2、第二个函数的功能为：使用第一个函数中得到的数字进行平方处理\n",
    "    - 3、第三个函数的功能为：得到平方处理后的数字 - 原来输入的数字，并打印结果"
   ]
  },
  {
   "cell_type": "code",
   "execution_count": 89,
   "metadata": {},
   "outputs": [],
   "source": [
    "class bj:\n",
    "    def __init__(self):\n",
    "        print('初始化')\n",
    "    def sz(self):\n",
    "        self.num = eval(input('>>'))\n",
    "        print('输入的数字是：',self.num)\n",
    "    def pf(self):\n",
    "        self.res=self.num**2\n",
    "        print('平方数：',self.res)\n",
    "    def jf(self):\n",
    "        self.xc=self.res-self.num\n",
    "        print('两者的差值：',self.xc)\n",
    "        "
   ]
  },
  {
   "cell_type": "code",
   "execution_count": 90,
   "metadata": {},
   "outputs": [
    {
     "name": "stdout",
     "output_type": "stream",
     "text": [
      "初始化\n"
     ]
    }
   ],
   "source": [
    "z = bj()"
   ]
  },
  {
   "cell_type": "code",
   "execution_count": 91,
   "metadata": {},
   "outputs": [
    {
     "name": "stdout",
     "output_type": "stream",
     "text": [
      ">>4\n",
      "输入的数字是： 4\n"
     ]
    }
   ],
   "source": [
    "z.sz()"
   ]
  },
  {
   "cell_type": "code",
   "execution_count": 93,
   "metadata": {},
   "outputs": [
    {
     "name": "stdout",
     "output_type": "stream",
     "text": [
      "平方数： 16\n"
     ]
    }
   ],
   "source": [
    "z.pf()"
   ]
  },
  {
   "cell_type": "code",
   "execution_count": 95,
   "metadata": {},
   "outputs": [
    {
     "name": "stdout",
     "output_type": "stream",
     "text": [
      "两者的差值： 12\n"
     ]
    }
   ],
   "source": [
    "z.jf()"
   ]
  },
  {
   "cell_type": "code",
   "execution_count": 108,
   "metadata": {},
   "outputs": [],
   "source": [
    "class bj_:\n",
    "    def __init__(self):\n",
    "        print('初始化')\n",
    "    def sz(self):\n",
    "        num = eval(input('>>'))\n",
    "        print('输入的数字是：',num)\n",
    "        return num\n",
    "    def pf(self):\n",
    "        num = self.sz()\n",
    "        res=num**2\n",
    "        print('平方数：',res)\n",
    "        return res,num\n",
    "    def jf(self):\n",
    "        res,num = self.pf()\n",
    "        xc = res - num\n",
    "        print('两者的差值：',xc)"
   ]
  },
  {
   "cell_type": "code",
   "execution_count": 109,
   "metadata": {},
   "outputs": [
    {
     "name": "stdout",
     "output_type": "stream",
     "text": [
      "初始化\n"
     ]
    }
   ],
   "source": [
    "az = bj_()"
   ]
  },
  {
   "cell_type": "code",
   "execution_count": 111,
   "metadata": {},
   "outputs": [
    {
     "name": "stdout",
     "output_type": "stream",
     "text": [
      ">>4\n",
      "输入的数字是： 4\n",
      "平方数： 16\n",
      "两者的差值： 12\n"
     ]
    }
   ],
   "source": [
    "az.jf()"
   ]
  },
  {
   "cell_type": "code",
   "execution_count": null,
   "metadata": {},
   "outputs": [],
   "source": [
    "#qq登录"
   ]
  },
  {
   "cell_type": "code",
   "execution_count": 28,
   "metadata": {},
   "outputs": [],
   "source": [
    "class qq:\n",
    "    \"\"\"\n",
    "    Implement Login Class.\n",
    "    \"\"\"\n",
    "    def __init__(self):\n",
    "        self.account = '123'\n",
    "        self.password = '123'\n",
    "    def Account(self):\n",
    "        self.acc = eval(input('请输入账号：'))\n",
    "    def Password(self):\n",
    "        self.passwor = eval(input('请输入密码：'))\n",
    "    def Check(self):\n",
    "        if self.acc == self.account and self.passwor==self.password:\n",
    "            print('登录成功')\n",
    "        else:\n",
    "            self.Verify()\n",
    "    def Verify(self):\n",
    "        Ver_var = 123\n",
    "        print('验证码是：',Ver_var)\n",
    "        while 1:\n",
    "            User_ver = eval(input('请输入验证码：'))\n",
    "            if User_ver == Ver_var:\n",
    "                print('登录失败')\n",
    "                break\n",
    "    def Start(self):\n",
    "        self.Account()\n",
    "        self.Password()\n",
    "        self.Check()\n",
    "    "
   ]
  },
  {
   "cell_type": "code",
   "execution_count": 29,
   "metadata": {},
   "outputs": [],
   "source": [
    "ac = qq()"
   ]
  },
  {
   "cell_type": "code",
   "execution_count": 30,
   "metadata": {},
   "outputs": [
    {
     "name": "stdout",
     "output_type": "stream",
     "text": [
      "请输入账号：123\n",
      "请输入密码：123\n",
      "验证码是： 123\n",
      "请输入验证码：123\n",
      "登录失败\n"
     ]
    }
   ],
   "source": [
    "ac.Start()"
   ]
  },
  {
   "cell_type": "code",
   "execution_count": 14,
   "metadata": {},
   "outputs": [
    {
     "name": "stdout",
     "output_type": "stream",
     "text": [
      "请输入密码：123\n"
     ]
    }
   ],
   "source": [
    "ac.Password()"
   ]
  },
  {
   "cell_type": "code",
   "execution_count": 35,
   "metadata": {},
   "outputs": [],
   "source": [
    "class SAR:\n",
    "    def __init__(self):\n",
    "        print('我初始化了')\n",
    "        self.account = '123'\n",
    "        self.password = '123'\n",
    "    def Account(self):\n",
    "        self.acc = input('请输入账号:>>')\n",
    "    def Password(self):\n",
    "        self.passwor = input('请输入密码:>>')\n",
    "    def Check(self):\n",
    "        if self.acc == self.account and self.passwor == self.password:\n",
    "            print('success')\n",
    "        else:\n",
    "            self.Verify()\n",
    "    def Verify(self):\n",
    "        Verify_Var = 123\n",
    "        print('验证码是:',Verify_Var)\n",
    "        while 1:\n",
    "            User_Verify = eval(input('请输入验证码:>>'))\n",
    "            if User_Verify == Verify_Var:\n",
    "                print('failed')\n",
    "                break\n",
    "    def Start(self):\n",
    "        self.Account()\n",
    "        self.Password()\n",
    "        self.Check()              "
   ]
  },
  {
   "cell_type": "code",
   "execution_count": 36,
   "metadata": {},
   "outputs": [
    {
     "name": "stdout",
     "output_type": "stream",
     "text": [
      "我初始化了\n"
     ]
    }
   ],
   "source": [
    "qw_=SAR()"
   ]
  },
  {
   "cell_type": "code",
   "execution_count": 37,
   "metadata": {},
   "outputs": [
    {
     "name": "stdout",
     "output_type": "stream",
     "text": [
      "请输入账号:>>123\n",
      "请输入密码:>>123\n",
      "success\n"
     ]
    }
   ],
   "source": [
    "qw_.Start()"
   ]
  },
  {
   "cell_type": "code",
   "execution_count": null,
   "metadata": {},
   "outputs": [],
   "source": [
    "class Joker2:\n",
    "    \"\"\"\n",
    "    Implement Login Class.\n",
    "    \"\"\"\n",
    "    def __init__(self):\n",
    "        \"\"\"\n",
    "        Initialization class\n",
    "        Arguments:\n",
    "        ---------\n",
    "            name: xxx\n",
    "            None.\n",
    "        Returns:\n",
    "        --------\n",
    "            None.\n",
    "        \"\"\"\n",
    "        self.account = '123'\n",
    "        self.password = '123'\n",
    "    def Account(self):\n",
    "        \"\"\"\n",
    "        Input Account value\n",
    "        Arguments:\n",
    "        ---------\n",
    "            None.\n",
    "        Returns:\n",
    "        --------\n",
    "            None.\n",
    "        \"\"\"\n",
    "        self.acc = input('请输入账号:>>')\n",
    "    def Password(self):\n",
    "        \"\"\"\n",
    "        Input Password value\n",
    "        Arguments:\n",
    "        ---------\n",
    "            None.\n",
    "        Returns:\n",
    "        --------\n",
    "            None.\n",
    "        \"\"\"\n",
    "        self.passwor = input('请输入密码:>>')\n",
    "    def Check(self):\n",
    "        \"\"\"\n",
    "        Check account and password\n",
    "        Note:\n",
    "        ----\n",
    "            we need \"and\" connect.\n",
    "            if account and password is right, then login OK.\n",
    "            else: running Veriy func.\n",
    "        \"\"\"\n",
    "        if self.acc == self.account and self.passwor == self.password:\n",
    "            print('Success')\n",
    "        else:\n",
    "            # running Verify !\n",
    "            self.Verify()\n",
    "    def Verify(self):\n",
    "        \"\"\"\n",
    "        Verify ....\n",
    "        \"\"\"\n",
    "        Verify_Var = 123\n",
    "        print('验证码是:',Verify_Var)\n",
    "        while 1:\n",
    "            User_Verify = eval(input('请输入验证码:>>'))\n",
    "            if User_Verify == Verify_Var:\n",
    "                print('Failed')\n",
    "                break\n",
    "    def Start(self):\n",
    "        \"\"\"\n",
    "        Start definelogistics.\n",
    "        \"\"\"\n",
    "        self.Account()\n",
    "        self.Password()\n",
    "        self.Check()"
   ]
  },
  {
   "cell_type": "markdown",
   "metadata": {},
   "source": [
    "## 类的继承\n",
    "- 类的单继承\n",
    "- 类的多继承\n",
    "- 继承标识\n",
    ">  class SonClass(FatherClass):\n",
    "            \n",
    "            def __init__(self):\n",
    "            \n",
    "                FatherClass.__init__(self)"
   ]
  },
  {
   "cell_type": "code",
   "execution_count": 31,
   "metadata": {},
   "outputs": [],
   "source": [
    "class A:\n",
    "    def __init__(self):\n",
    "        self.a = 'a'\n",
    "    def a_(self):\n",
    "        print('class A')\n",
    "#多继承前面覆盖后面,自左向右\n",
    "#前面加下划线，私有变量，不可继承\n",
    "\n",
    "class B(A):\n",
    "    def __init__(self):\n",
    "        #告诉A,B即将继承A。\n",
    "        A.__init__(self)\n",
    "        #print(self.a)\n",
    "        #self.a_()\n",
    "    def b_(self):\n",
    "        print(self.a)\n",
    "        self.a_()"
   ]
  },
  {
   "cell_type": "code",
   "execution_count": 32,
   "metadata": {},
   "outputs": [],
   "source": [
    "bb=B()"
   ]
  },
  {
   "cell_type": "code",
   "execution_count": 33,
   "metadata": {},
   "outputs": [
    {
     "name": "stdout",
     "output_type": "stream",
     "text": [
      "a\n",
      "class A\n"
     ]
    }
   ],
   "source": [
    "bb.b_()"
   ]
  },
  {
   "cell_type": "markdown",
   "metadata": {},
   "source": [
    "## 私有数据域(私有变量，或者私有函数)\n",
    "- 在Python中 变量名或者函数名使用双下划线代表私有  \\__Joker,   def \\__Joker():\n",
    "- 私有数据域不可继承\n",
    "- 私有数据域强制继承   \\__dir__()  两个下划线"
   ]
  },
  {
   "cell_type": "markdown",
   "metadata": {},
   "source": [
    "私有变量，不可继承,不可在外部调用，但是可以在内部使用"
   ]
  },
  {
   "cell_type": "code",
   "execution_count": null,
   "metadata": {},
   "outputs": [],
   "source": []
  },
  {
   "cell_type": "markdown",
   "metadata": {},
   "source": [
    "![](../Photo/87.png)"
   ]
  },
  {
   "cell_type": "markdown",
   "metadata": {},
   "source": [
    "## EP:\n",
    "![](../Photo/88.png)\n",
    "![](../Photo/89.png)\n",
    "![](../Photo/90.png)\n"
   ]
  },
  {
   "cell_type": "markdown",
   "metadata": {},
   "source": [
    "## 类的其他\n",
    "- 类的封装\n",
    "    - 实际上就是将一类功能放在一起，方便未来进行管理\n",
    "- 类的继承（上面已经讲过）\n",
    "- 类的多态\n",
    "    - 包括装饰器：将放在以后处理高级类中教\n",
    "    - 装饰器的好处：当许多类中的函数需要使用同一个功能的时候，那么使用装饰器就会方便许多\n",
    "    - 装饰器是有固定的写法\n",
    "        - 其包括普通装饰器与带参装饰器"
   ]
  },
  {
   "cell_type": "code",
   "execution_count": null,
   "metadata": {},
   "outputs": [],
   "source": [
    "#静态调用  @staticmethod"
   ]
  },
  {
   "cell_type": "code",
   "execution_count": null,
   "metadata": {},
   "outputs": [],
   "source": []
  },
  {
   "cell_type": "markdown",
   "metadata": {},
   "source": [
    "# Homewor\n",
    "## UML类图可以不用画\n",
    "## UML 实际上就是一个思维图\n",
    "- 1\n",
    "![](../Photo/91.png)"
   ]
  },
  {
   "cell_type": "code",
   "execution_count": 41,
   "metadata": {},
   "outputs": [],
   "source": [
    "class Rectangle:\n",
    "    \"\"\"\n",
    "    Implementing Rectangular Classes\n",
    "    \"\"\"\n",
    "    def __init__(self,width,height):\n",
    "        \"\"\"\n",
    "        nitialization class\n",
    "        Arguments:\n",
    "        ---------\n",
    "            self.width =\n",
    "            self.height =\n",
    "        Returns:\n",
    "        --------\n",
    "            “初始化”\n",
    "        \"\"\"\n",
    "        print('初始化')\n",
    "        self.width = width\n",
    "        self.height = height\n",
    "    def getArea(self):\n",
    "        \"\"\"\n",
    "        Area calculation\n",
    "        Arguments:\n",
    "        ---------\n",
    "           self.area = self.width*self.height\n",
    "        Returns:\n",
    "        --------\n",
    "            “矩形的面积为：”\n",
    "        \"\"\"\n",
    "        self.area = self.width*self.height\n",
    "        print('矩形的面积为：',self.area)\n",
    "    def getPerimeter(self):\n",
    "        \"\"\"\n",
    "        Circumference calculation:\n",
    "        Arguments:\n",
    "        ---------\n",
    "           self.zc=self.width*2+self.height*2\n",
    "        Returns:\n",
    "        --------\n",
    "            “矩形的周长为：”\n",
    "        \"\"\"\n",
    "        self.zc=self.width*2+self.height*2\n",
    "        print('矩形的周长为：',self.zc)"
   ]
  },
  {
   "cell_type": "code",
   "execution_count": 46,
   "metadata": {},
   "outputs": [
    {
     "name": "stdout",
     "output_type": "stream",
     "text": [
      "初始化\n"
     ]
    }
   ],
   "source": [
    "re=Rectangle(4,40)"
   ]
  },
  {
   "cell_type": "code",
   "execution_count": 47,
   "metadata": {},
   "outputs": [
    {
     "name": "stdout",
     "output_type": "stream",
     "text": [
      "矩形的面积为： 160\n"
     ]
    }
   ],
   "source": [
    "re.getArea()"
   ]
  },
  {
   "cell_type": "markdown",
   "metadata": {},
   "source": [
    "- 2\n",
    "![](../Photo/92.png)"
   ]
  },
  {
   "cell_type": "code",
   "execution_count": 55,
   "metadata": {},
   "outputs": [],
   "source": [
    "class Account:\n",
    "    \"\"\"\n",
    "    Implementing Account Classes\n",
    "    \"\"\"\n",
    "    def __init__(self):\n",
    "        \"\"\"\n",
    "        nitialization class\n",
    "        Arguments:\n",
    "        ---------\n",
    "        \n",
    "        Returns:\n",
    "        --------\n",
    "            “初始化”\n",
    "        \"\"\"\n",
    "        print('初始化')\n",
    "    def account1(self):\n",
    "        \"\"\"\n",
    "        Enter account information\n",
    "        Arguments:\n",
    "        ---------\n",
    "            self.__id =\n",
    "            self.__balance = \n",
    "            self.year_rate = \n",
    "        Returns:\n",
    "        --------\n",
    "            >>\n",
    "            >>\n",
    "            >>\n",
    "            \n",
    "        \"\"\"\n",
    "        self.__id = int(input('>>'))\n",
    "        self.__balance = eval(input('>>'))\n",
    "        self.year_rate = eval(input('>>'))\n",
    "    def getMonthyInterestrate(self):\n",
    "         \"\"\"\n",
    "        Input Annual Interest Rate for Monthly Interest Rate\n",
    "        Arguments:\n",
    "        ---------\n",
    "            self.res = self.year_rate/12\n",
    "        Returns:\n",
    "        --------\n",
    "            月利率为：\n",
    "        \"\"\"\n",
    "        self.res = self.year_rate/12\n",
    "        print('月利率为：',self.res,'%' )\n",
    "    def getMonthyInterest(self):\n",
    "        \"\"\"\n",
    "        Monthly interest\n",
    "        Arguments:\n",
    "        ---------\n",
    "            self.lx = self.__balance*self.res\n",
    "        Returns:\n",
    "        --------\n",
    "            月利息为：\n",
    "        \"\"\"\n",
    "        self.lx = self.__balance*self.res\n",
    "        print('月利息为：',self.lx,'%')\n",
    "    def withdraw(self):\n",
    "        \"\"\"\n",
    "        Get out money\n",
    "        Arguments:\n",
    "        ---------\n",
    "            self.output =\n",
    "        Returns:\n",
    "        --------\n",
    "            取出：\n",
    "        \"\"\"\n",
    "        self.output = eval(input('请输入想取得钱：'))\n",
    "        print('取出：',self.output)\n",
    "    def deposit(self):\n",
    "        \"\"\"\n",
    "        Input money\n",
    "        Arguments:\n",
    "        ---------\n",
    "            self.input =\n",
    "        Returns:\n",
    "        --------\n",
    "            存入：\n",
    "        \"\"\"\n",
    "        self.input = eval(input('请输入想存入钱：'))\n",
    "        print('存入：',self.input)\n",
    "    def user(self):\n",
    "        \"\"\"\n",
    "        Start definelogistics.\n",
    "        \"\"\"\n",
    "        self.account1()\n",
    "        self.getMonthyInterestrate()\n",
    "        self.getMonthyInterest()\n",
    "        self.withdraw()\n",
    "        self.deposit()"
   ]
  },
  {
   "cell_type": "code",
   "execution_count": 56,
   "metadata": {},
   "outputs": [
    {
     "name": "stdout",
     "output_type": "stream",
     "text": [
      "初始化\n"
     ]
    }
   ],
   "source": [
    "us = Account()"
   ]
  },
  {
   "cell_type": "code",
   "execution_count": 57,
   "metadata": {},
   "outputs": [
    {
     "name": "stdout",
     "output_type": "stream",
     "text": [
      ">>1122\n",
      ">>20000\n",
      ">>4.5\n",
      "月利率为： 0.375 %\n",
      "月利息为： 7500.0 %\n",
      "请输入想取得钱：2500\n",
      "取出： 2500\n",
      "请输入想存入钱：3000\n",
      "存入： 3000\n"
     ]
    }
   ],
   "source": [
    "us.user()"
   ]
  },
  {
   "cell_type": "markdown",
   "metadata": {},
   "source": [
    "- 3\n",
    "![](../Photo/93.png)"
   ]
  },
  {
   "cell_type": "code",
   "execution_count": 5,
   "metadata": {},
   "outputs": [],
   "source": [
    "class Fan:\n",
    "    \"\"\"\n",
    "    Implementing Fan Classes\n",
    "    \"\"\"  \n",
    "    def __init__(self):\n",
    "        \"\"\"\n",
    "        nitialization class\n",
    "        Arguments:\n",
    "        ---------\n",
    "        \n",
    "        Returns:\n",
    "        --------\n",
    "            “初始化”\n",
    "        \"\"\"\n",
    "        print('初始化')\n",
    "    def mr(self):\n",
    "        \"\"\"\n",
    "        Enter account information\n",
    "        Arguments:\n",
    "        ---------\n",
    "            self.__speed = \n",
    "            self.__radius =\n",
    "            self.__color = \n",
    "            self.__on =  \n",
    "        Returns:\n",
    "        --------\n",
    "            请输入风扇的速:\n",
    "            请输入半径:\n",
    "            请输入颜色:\n",
    "            请输入开或者关:\n",
    "            \n",
    "        \"\"\"\n",
    "        self.__speed = eval(input('请输入风扇的速度：'))\n",
    "        self.__radius = float(input('请输入半径：'))\n",
    "        self.__color = str(input('请输入颜色：'))\n",
    "        self.__on = eval(input('请输入开或者关'))\n",
    "        \n",
    "        if self.__speed == 1:\n",
    "            print('SLOW')\n",
    "        elif self.__speed == 2:\n",
    "            print('MEDIUM')\n",
    "        elif self.__speed == 3:\n",
    "            print('FAST')       \n",
    "        if self.__on ==  1:\n",
    "            print('FSLSE')\n",
    "        elif self.__on == 2 :\n",
    "            print('TURE')"
   ]
  },
  {
   "cell_type": "code",
   "execution_count": 6,
   "metadata": {},
   "outputs": [
    {
     "name": "stdout",
     "output_type": "stream",
     "text": [
      "初始化\n"
     ]
    }
   ],
   "source": [
    "af = Fan()"
   ]
  },
  {
   "cell_type": "code",
   "execution_count": 7,
   "metadata": {},
   "outputs": [
    {
     "name": "stdout",
     "output_type": "stream",
     "text": [
      "请输入风扇的速度：3\n",
      "请输入半径：10\n",
      "请输入颜色：yellow\n",
      "请输入开或者关2\n",
      "FAST\n",
      "TURE\n"
     ]
    }
   ],
   "source": [
    "af.mr()"
   ]
  },
  {
   "cell_type": "markdown",
   "metadata": {},
   "source": [
    "- 4\n",
    "![](../Photo/94.png)\n",
    "![](../Photo/95.png)"
   ]
  },
  {
   "cell_type": "code",
   "execution_count": 68,
   "metadata": {},
   "outputs": [],
   "source": [
    "import math\n",
    "\"\"\"\n",
    "Using math library\n",
    "\"\"\"\n",
    "class RegularPolygon:\n",
    "    \"\"\"\n",
    "    Implementing RegularPolygon Classes\n",
    "    \"\"\"\n",
    "    def __init__(self):\n",
    "        \"\"\"\n",
    "        nitialization class\n",
    "        Arguments:\n",
    "        ---------\n",
    "        \n",
    "        Returns:\n",
    "        --------\n",
    "            “初始化”\n",
    "        \"\"\"\n",
    "        print('初始化')\n",
    "    def account2(self):\n",
    "         \"\"\"\n",
    "        Enter account information\n",
    "        Arguments:\n",
    "        ---------\n",
    "            self.__n = \n",
    "            self.__s = \n",
    "            self.__x = \n",
    "            self.__y = \n",
    "        Returns:\n",
    "        --------\n",
    "            >>\n",
    "            >>\n",
    "            >>\n",
    "            >>\n",
    "        \"\"\"\n",
    "        self.__n = int(input('>>'))\n",
    "        self.__s =float(input('>>'))\n",
    "        self.__x = float(input('>>'))\n",
    "        self.__y = float(input('>>'))\n",
    "    def dzc(self):\n",
    "        \"\"\"\n",
    "        Calculate the perimeter\n",
    "        Arguments:\n",
    "        ---------\n",
    "            self.res = self.__n*self.__s\n",
    "        Returns:\n",
    "        --------\n",
    "            多边形周长为：\n",
    "        \"\"\"\n",
    "        self.res = self.__n*self.__s\n",
    "        print('多边形周长为：',self.res)\n",
    "    def areas(self):\n",
    "        \"\"\"\n",
    "        Calculate the area\n",
    "        Arguments:\n",
    "        ---------\n",
    "            self.ar = (self.__n*self.__s**2)/4*math.tan(math.pi/self.__n)\n",
    "        Returns:\n",
    "        --------\n",
    "            多边形面积为：\n",
    "        \"\"\"\n",
    "        self.ar = (self.__n*self.__s**2)/4*math.tan(math.pi/self.__n)\n",
    "        print('多边形面积为：',self.ar)\n",
    "    def st(self):\n",
    "        \"\"\"\n",
    "        Start definelogistics.\n",
    "        \"\"\"\n",
    "        self.account2()\n",
    "        self.dzc()\n",
    "        self.areas()"
   ]
  },
  {
   "cell_type": "code",
   "execution_count": 69,
   "metadata": {},
   "outputs": [
    {
     "name": "stdout",
     "output_type": "stream",
     "text": [
      "初始化\n"
     ]
    }
   ],
   "source": [
    "sjx = RegularPolygon()"
   ]
  },
  {
   "cell_type": "code",
   "execution_count": 70,
   "metadata": {},
   "outputs": [
    {
     "name": "stdout",
     "output_type": "stream",
     "text": [
      ">>10\n",
      ">>4\n",
      ">>5.6\n",
      ">>7.8\n",
      "多边形周长为： 40.0\n",
      "多边形面积为： 12.996787849316252\n"
     ]
    }
   ],
   "source": [
    "sjx.st()"
   ]
  },
  {
   "cell_type": "markdown",
   "metadata": {},
   "source": [
    "- 5\n",
    "![](../Photo/96.png)"
   ]
  },
  {
   "cell_type": "code",
   "execution_count": 76,
   "metadata": {},
   "outputs": [],
   "source": [
    "class LinearEquation:\n",
    "    \"\"\"\n",
    "    Implementing RegularPolygon Classes\n",
    "    \"\"\"\n",
    "    def __init__(self):\n",
    "        \"\"\"\n",
    "        nitialization class\n",
    "        Arguments:\n",
    "        ---------\n",
    "        \n",
    "        Returns:\n",
    "        --------\n",
    "            “初始化”\n",
    "        \"\"\"\n",
    "        print('初始化')\n",
    "    def get(self):\n",
    "        \"\"\"\n",
    "        Enter information\n",
    "        Arguments:\n",
    "        ---------\n",
    "            self.__a = \n",
    "            self.__b = \n",
    "            self.__c = \n",
    "            self.__d = \n",
    "            self.__e = \n",
    "            self.__f = \n",
    "        Returns:\n",
    "        --------\n",
    "            请输入数字：\n",
    "            请输入数字：\n",
    "            请输入数字：\n",
    "            请输入数字：\n",
    "            请输入数字：\n",
    "            请输入数字：\n",
    "        \"\"\"\n",
    "        self.__a = eval(input('请输入数字：'))\n",
    "        self.__b = eval(input('请输入数字：'))\n",
    "        self.__c = eval(input('请输入数字：'))\n",
    "        self.__d = eval(input('请输入数字：'))\n",
    "        self.__e = eval(input('请输入数字：'))\n",
    "        self.__f = eval(input('请输入数字：'))\n",
    "        \n",
    "    def isSolvable(self):\n",
    "        \"\"\"\n",
    "        Judge ad-bc\n",
    "        Arguments:\n",
    "        ----\n",
    "                if (self.__a*self.__d-self.__b*self.__c) == 0:\n",
    "                    print('这个方程无解')\n",
    "                else:\n",
    "                    self.getX()\n",
    "                    self.getY()\n",
    "        Returns:\n",
    "        --------\n",
    "            \n",
    "        \"\"\"\n",
    "        if (self.__a*self.__d-self.__b*self.__c) == 0:\n",
    "            print('这个方程无解')\n",
    "        else:\n",
    "            self.getX()\n",
    "            self.getY()\n",
    "    def getX(self):\n",
    "        \"\"\"\n",
    "        Calculate the x\n",
    "        Arguments:\n",
    "        ---------\n",
    "            self.x = (self.__e*self.__d-self.__b*self.__f)/(self.__a*self.__d-self.__b*self.__c)\n",
    "        Returns:\n",
    "        --------\n",
    "            x的值为：\n",
    "        \"\"\"\n",
    "        self.x = (self.__e*self.__d-self.__b*self.__f)/(self.__a*self.__d-self.__b*self.__c)\n",
    "        print('x的值为：',self.x)\n",
    "    def getY(self):\n",
    "         \"\"\"\n",
    "        Calculate the y\n",
    "        Arguments:\n",
    "        ---------\n",
    "            self.y = (self.__a*self.__f-self.__e*self.__c)/(self.__a*self.__d-self.__b*self.__c)\n",
    "        Returns:\n",
    "        --------\n",
    "            y的值为：\n",
    "        \"\"\"\n",
    "        self.y = (self.__a*self.__f-self.__e*self.__c)/(self.__a*self.__d-self.__b*self.__c)\n",
    "        print('y的值为：',self.y)\n",
    "    def ste(self):\n",
    "        \"\"\"\n",
    "        Start definelogistics.\n",
    "        \"\"\"\n",
    "        self.get()\n",
    "        self.isSolvable()"
   ]
  },
  {
   "cell_type": "code",
   "execution_count": 77,
   "metadata": {},
   "outputs": [
    {
     "name": "stdout",
     "output_type": "stream",
     "text": [
      "初始化\n"
     ]
    }
   ],
   "source": [
    "le = LinearEquation()"
   ]
  },
  {
   "cell_type": "code",
   "execution_count": 78,
   "metadata": {},
   "outputs": [
    {
     "name": "stdout",
     "output_type": "stream",
     "text": [
      "请输入数字：1\n",
      "请输入数字：2\n",
      "请输入数字：3\n",
      "请输入数字：4\n",
      "请输入数字：5\n",
      "请输入数字：6\n",
      "x的值为： -4.0\n",
      "y的值为： 4.5\n"
     ]
    }
   ],
   "source": [
    "le.ste()"
   ]
  },
  {
   "cell_type": "markdown",
   "metadata": {},
   "source": [
    "- 6\n",
    "![](../Photo/97.png)"
   ]
  },
  {
   "cell_type": "code",
   "execution_count": 25,
   "metadata": {},
   "outputs": [],
   "source": [
    "class LinearEquation1:\n",
    "    \"\"\"\n",
    "    Implementing LinearEquation1 Classes\n",
    "    \"\"\"\n",
    "    def __init__(self):\n",
    "        \"\"\"\n",
    "        nitialization class\n",
    "        Arguments:\n",
    "        ---------\n",
    "        \n",
    "        Returns:\n",
    "        --------\n",
    "            “初始化”\n",
    "        \"\"\"\n",
    "        print('初始化')\n",
    "    def get1(self):\n",
    "        \"\"\"\n",
    "        Enter information\n",
    "        Arguments:\n",
    "        ---------\n",
    "            self.x1,self.y1 =\n",
    "            self.x2,self.y2 =\n",
    "            self.x3,self.y3 =\n",
    "            self.x4,self.y4 =\n",
    "        Returns:\n",
    "        --------\n",
    "            请输入数字：\n",
    "            请输入数字：\n",
    "            请输入数字：\n",
    "            请输入数字：\n",
    "        \"\"\"\n",
    "        self.x1,self.y1 = eval(input('请输入数字：'))\n",
    "        self.x2,self.y2 = eval(input('请输入数字：'))\n",
    "        self.x3,self.y3 = eval(input('请输入数字：'))\n",
    "        self.x4,self.y4 = eval(input('请输入数字：'))\n",
    "    def res(self):\n",
    "        \"\"\"\n",
    "        Calculate the k1,b1,k2,b2,x,y\n",
    "        Arguments:\n",
    "        ---------\n",
    "             self.k1=(self.y2-self.y1)*1.0/(self.x2-self.x1)  #计算k1,由于点均为整数，需要进行浮点数转化\n",
    "             self.b1=self.y1*1.0-self.x1*self.k1*1.0  #b1的截距\n",
    "        if (self.x4-self.x3)==0: #L2直线斜率不存在操作\n",
    "            self.k2=None\n",
    "            self.b2=0\n",
    "        else:\n",
    "            self.k2=(self.y4-self.y3)*1.0/(self.x4-self.x3)  #斜率存在操作\n",
    "            self.b2=self.y3*1.0-self.x3*self.k2*1.0  #b2的截距\n",
    "        if self.k2==None:\n",
    "            self.x=self.x3\n",
    "        else:\n",
    "            self.x=(self.b2-self.b1)*1.0/(self.k1-self.k2)\n",
    "            self.y=self.k1*self.x*1.0+self.b1*1.0\n",
    "            print('The intersecting pointis:','(',self.x,',',self.y,')')\n",
    "        Returns:\n",
    "        --------\n",
    "            The intersecting pointis:\n",
    "        \"\"\"\n",
    "        self.k1=(self.y2-self.y1)*1.0/(self.x2-self.x1)  #计算k1,由于点均为整数，需要进行浮点数转化\n",
    "        self.b1=self.y1*1.0-self.x1*self.k1*1.0  #b1的截距\n",
    "        if (self.x4-self.x3)==0: #L2直线斜率不存在操作\n",
    "            self.k2=None\n",
    "            self.b2=0\n",
    "        else:\n",
    "            self.k2=(self.y4-self.y3)*1.0/(self.x4-self.x3)  #斜率存在操作\n",
    "            self.b2=self.y3*1.0-self.x3*self.k2*1.0  #b2的截距\n",
    "        if self.k2==None:\n",
    "            self.x=self.x3\n",
    "        else:\n",
    "            self.x=(self.b2-self.b1)*1.0/(self.k1-self.k2)\n",
    "            self.y=self.k1*self.x*1.0+self.b1*1.0\n",
    "            print('The intersecting pointis:','(',self.x,',',self.y,')')\n",
    "    def sa(self):\n",
    "        \"\"\"\n",
    "        Start definelogistics.\n",
    "        \"\"\"\n",
    "        self.get1()\n",
    "        self.res()\n",
    "    \n"
   ]
  },
  {
   "cell_type": "code",
   "execution_count": 26,
   "metadata": {},
   "outputs": [
    {
     "name": "stdout",
     "output_type": "stream",
     "text": [
      "初始化\n"
     ]
    }
   ],
   "source": [
    "jh = LinearEquation1()"
   ]
  },
  {
   "cell_type": "code",
   "execution_count": 27,
   "metadata": {},
   "outputs": [
    {
     "name": "stdout",
     "output_type": "stream",
     "text": [
      "请输入数字：2.0,2.0\n",
      "请输入数字：0,0\n",
      "请输入数字：0,2.0\n",
      "请输入数字：2.0,0\n",
      "The intersecting pointis: ( 1.0 , 1.0 )\n"
     ]
    }
   ],
   "source": [
    "jh.sa()"
   ]
  },
  {
   "cell_type": "markdown",
   "metadata": {},
   "source": [
    "- 7\n",
    "![](../Photo/98.png)"
   ]
  },
  {
   "cell_type": "code",
   "execution_count": null,
   "metadata": {},
   "outputs": [],
   "source": []
  },
  {
   "cell_type": "code",
   "execution_count": null,
   "metadata": {},
   "outputs": [],
   "source": []
  }
 ],
 "metadata": {
  "kernelspec": {
   "display_name": "Python 3",
   "language": "python",
   "name": "python3"
  }
 },
 "nbformat": 4,
 "nbformat_minor": 2
}
