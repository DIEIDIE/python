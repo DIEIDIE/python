{
 "cells": [
  {
   "cell_type": "markdown",
   "metadata": {},
   "source": [
    "# 选择\n",
    "## 布尔类型、数值和表达式\n",
    "![](../Photo/33.png)\n",
    "- 注意：比较运算符的相等是两个等号，一个等到代表赋值\n",
    "- 在Python中可以用整型0来代表False，其他数字来代表True\n",
    "- 后面还会讲到 is 在判断语句中的用发"
   ]
  },
  {
   "cell_type": "markdown",
   "metadata": {},
   "source": [
    "## 字符串的比较使用ASCII值"
   ]
  },
  {
   "cell_type": "markdown",
   "metadata": {},
   "source": [
    "## Markdown \n",
    "- https://github.com/younghz/Markdown"
   ]
  },
  {
   "cell_type": "markdown",
   "metadata": {},
   "source": [
    "## EP:\n",
    "- <img src=\"../Photo/34.png\"></img>\n",
    "- 输入一个数字，判断其实奇数还是偶数"
   ]
  },
  {
   "cell_type": "markdown",
   "metadata": {},
   "source": [
    "## 产生随机数字\n",
    "- 函数random.randint(a,b) 可以用来产生一个a和b之间且包括a和b的随机整数"
   ]
  },
  {
   "cell_type": "markdown",
   "metadata": {},
   "source": [
    "产生一个随机数，你去输入，如果你输入的数大于随机数，那么就告诉你太大了，反之，太小了，\n",
    "然后你一直输入，知道它满意为止"
   ]
  },
  {
   "cell_type": "markdown",
   "metadata": {},
   "source": [
    "##  其他random方法\n",
    "- random.random 返回0.0到1.0之间前闭后开区间的随机浮点\n",
    "- random.randrange(a,b) 前闭后开"
   ]
  },
  {
   "cell_type": "markdown",
   "metadata": {},
   "source": [
    "## EP：\n",
    "- 产生两个随机整数number1和number2，然后显示给用户，使用户输入数字的和，并判定其是否正确\n",
    "- 进阶:写一个随机序号点名程序"
   ]
  },
  {
   "cell_type": "markdown",
   "metadata": {},
   "source": [
    "## if语句\n",
    "- 如果条件正确就执行一个单向if语句，亦即当条件为真的时候才执行if内部的语句\n",
    "- Python有很多选择语句:\n",
    "> - 单向if \n",
    "  - 双向if-else\n",
    "  - 嵌套if\n",
    "  - 多向if-elif-else\n",
    "  \n",
    "- 注意：当语句含有子语句的时候，那么一定至少要有一个缩进，也就是说如果有儿子存在，那么一定要缩进\n",
    "- 切记不可tab键和space混用，单用tab 或者 space\n",
    "- 当你输出的结果是无论if是否为真时都需要显示时，语句应该与if对齐"
   ]
  },
  {
   "cell_type": "markdown",
   "metadata": {},
   "source": [
    "## EP：\n",
    "- 用户输入一个数字，判断其实奇数还是偶数\n",
    "- 进阶：可以查看下4.5实例研究猜生日"
   ]
  },
  {
   "cell_type": "markdown",
   "metadata": {},
   "source": [
    "## 双向if-else 语句\n",
    "- 如果条件为真，那么走if内部语句，否则走else内部语句"
   ]
  },
  {
   "cell_type": "markdown",
   "metadata": {},
   "source": [
    "## EP：\n",
    "- 产生两个随机整数number1和number2，然后显示给用户，使用户输入数字，并判定其是否正确,如果正确打印“you‘re correct”，否则打印正确错误"
   ]
  },
  {
   "cell_type": "markdown",
   "metadata": {},
   "source": [
    "## 嵌套if 和多向if-elif-else\n",
    "![](../Photo/35.png)"
   ]
  },
  {
   "cell_type": "markdown",
   "metadata": {},
   "source": [
    "## EP：\n",
    "- 提示用户输入一个年份，然后显示表示这一年的动物\n",
    "![](../Photo/36.png)\n",
    "- 计算身体质量指数的程序\n",
    "- BMI = 以千克为单位的体重除以以米为单位的身高的平方\n",
    "![](../Photo/37.png)"
   ]
  },
  {
   "cell_type": "markdown",
   "metadata": {},
   "source": [
    "## 逻辑运算符\n",
    "![](../Photo/38.png)"
   ]
  },
  {
   "cell_type": "markdown",
   "metadata": {},
   "source": [
    "![](../Photo/39.png)\n",
    "![](../Photo/40.png)"
   ]
  },
  {
   "cell_type": "markdown",
   "metadata": {},
   "source": [
    "## EP：\n",
    "- 判定闰年：一个年份如果能被4整除但不能被100整除，或者能被400整除，那么这个年份就是闰年\n",
    "- 提示用户输入一个年份，并返回是否是闰年\n",
    "- 提示用户输入一个数字，判断其是否为水仙花数"
   ]
  },
  {
   "cell_type": "markdown",
   "metadata": {},
   "source": [
    "## 实例研究：彩票\n",
    "![](../Photo/41.png)"
   ]
  },
  {
   "cell_type": "code",
   "execution_count": 1,
   "metadata": {},
   "outputs": [],
   "source": [
    "import random"
   ]
  },
  {
   "cell_type": "code",
   "execution_count": 2,
   "metadata": {},
   "outputs": [
    {
     "name": "stdout",
     "output_type": "stream",
     "text": [
      "中奖数字为： 68\n",
      "Please input number:28\n",
      "恭喜您中奖了!奖金为1000美元\n"
     ]
    }
   ],
   "source": [
    "number = random.randint(10,99)\n",
    "print('中奖数字为：',number)\n",
    "num1=eval(input(\"Please input number:\"))\n",
    "number_t=number//10\n",
    "number_g=number%10\n",
    "num1_t=num1//10\n",
    "num1_g=num1%10\n",
    "if number == num1 :#判断两个数是否相等\n",
    "    print('恭喜您中奖了!奖金为10000美元')\n",
    "elif number_t + number_g == num1_t + num1_g: \n",
    "    print('恭喜您中奖了!奖金为3000美元')\n",
    "elif (number_g == num1_g or number_g == num1_t) or (number_t == num1_g or number_t == num1_t):\n",
    "    print('恭喜您中奖了!奖金为1000美元')"
   ]
  },
  {
   "cell_type": "markdown",
   "metadata": {},
   "source": [
    "# Homework\n",
    "- 1\n",
    "![](../Photo/42.png)"
   ]
  },
  {
   "cell_type": "code",
   "execution_count": 6,
   "metadata": {},
   "outputs": [],
   "source": [
    "import math"
   ]
  },
  {
   "cell_type": "code",
   "execution_count": 12,
   "metadata": {},
   "outputs": [
    {
     "name": "stdout",
     "output_type": "stream",
     "text": [
      "Enter a,b,c:1.0,3,1\n",
      "-0.382 -2.618\n"
     ]
    }
   ],
   "source": [
    "a,b,c = eval(input('Enter a,b,c:'))\n",
    "r1 = (-b+math.sqrt(b**2-4*a*c))/(2*a)\n",
    "r2 = (-b-math.sqrt(b**2-4*a*c))/(2*a)\n",
    "if b**2-(4*a*c)>0:\n",
    "    print(round(r1,4),round(r2,4))\n",
    "if b**2-(4*a*c)==0:\n",
    "    print(round(r1,4),round(r2,4))\n",
    "if b**2-(4*a*c)<0:\n",
    "    print('The equation has no real roots')"
   ]
  },
  {
   "cell_type": "markdown",
   "metadata": {},
   "source": [
    "- 2\n",
    "![](../Photo/43.png)"
   ]
  },
  {
   "cell_type": "code",
   "execution_count": 13,
   "metadata": {},
   "outputs": [],
   "source": [
    "import random"
   ]
  },
  {
   "cell_type": "code",
   "execution_count": 14,
   "metadata": {},
   "outputs": [
    {
     "name": "stdout",
     "output_type": "stream",
     "text": [
      "第一个数字是； 80\n",
      "第二个数字是； 85\n"
     ]
    }
   ],
   "source": [
    "x=random.randint(1,100)\n",
    "y=random.randint(1,100)\n",
    "print('第一个数字是；',x)\n",
    "print('第二个数字是；',y)"
   ]
  },
  {
   "cell_type": "code",
   "execution_count": 15,
   "metadata": {},
   "outputs": [
    {
     "name": "stdout",
     "output_type": "stream",
     "text": [
      "Please input the sum of these two nmbers:123\n",
      "假\n"
     ]
    }
   ],
   "source": [
    "a=eval(input('Please input the sum of these two nmbers:'))\n",
    "q=x+y\n",
    "if a==q:\n",
    "    print('结果为真')\n",
    "else:\n",
    "    print('结果为假')"
   ]
  },
  {
   "cell_type": "markdown",
   "metadata": {},
   "source": [
    "- 3\n",
    "![](../Photo/44.png)"
   ]
  },
  {
   "cell_type": "code",
   "execution_count": 29,
   "metadata": {},
   "outputs": [
    {
     "name": "stdout",
     "output_type": "stream",
     "text": [
      "Enter today'day:1\n",
      "Enter the numer of days elapsed since today:3\n",
      "Today is Monday and the Future day is Thursday\n"
     ]
    }
   ],
   "source": [
    "today = int(input('Enter today\\'day:'))\n",
    "plus = eval(input('Enter the numer of days elapsed since today:'))\n",
    "I=['Monday','Tuesday','Wednesday','Thursday','Friday','Saturday','Sunday']\n",
    "if today == 0:\n",
    "    x = plus%7+today\n",
    "    print('Today is',I[today-1],'and the Future day is',I[x-1])\n",
    "elif today == 1:\n",
    "    x = plus%7+today\n",
    "    print('Today is',I[today-1],'and the Future day is',I[x-1])\n",
    "elif today == 2:\n",
    "    x = plus%7+today\n",
    "    print('Today is',I[today-1],'and the Future day is',I[x-1])\n",
    "elif today == 3:\n",
    "    x = plus%7+today\n",
    "    print('Today is',I[today-1],'and the Future day is',I[x-1])\n",
    "elif today == 4:\n",
    "    x = plus%7+today\n",
    "    print('Today is',I[today-1],'and the Future day is',I[x-1])\n",
    "elif today == 5:\n",
    "    x = plus%7+today\n",
    "    print('Today is',I[today-1],'and the Future day is',I[x-1])\n",
    "elif today == 6:\n",
    "    x = plus%7+today\n",
    "    print('Today is',I[today-1],'and the Future day is',I[x-1])"
   ]
  },
  {
   "cell_type": "markdown",
   "metadata": {},
   "source": [
    "- 4\n",
    "![](../Photo/45.png)"
   ]
  },
  {
   "cell_type": "code",
   "execution_count": 24,
   "metadata": {},
   "outputs": [
    {
     "name": "stdout",
     "output_type": "stream",
     "text": [
      "输入三个整数：1,3,4\n",
      "4 3 1\n"
     ]
    }
   ],
   "source": [
    "a,b,c = eval(input('输入三个整数：'))\n",
    "if a>b>c:\n",
    "    print(a,b,c)\n",
    "elif a>c>b:\n",
    "    print(a,c,b)\n",
    "elif b>c>a:\n",
    "    print(b,c,a)\n",
    "elif b>a>c:\n",
    "    print(b,a,c)\n",
    "elif c>b>a:\n",
    "    print(c,b,a)\n",
    "elif c>a>b:\n",
    "    print(c,a,b)"
   ]
  },
  {
   "cell_type": "markdown",
   "metadata": {},
   "source": [
    "- 5\n",
    "![](../Photo/46.png)"
   ]
  },
  {
   "cell_type": "code",
   "execution_count": 2,
   "metadata": {},
   "outputs": [
    {
     "name": "stdout",
     "output_type": "stream",
     "text": [
      "Enter weight and price for package 1:50,24.59\n",
      "Enter weight and price for package 2:25,11.99\n",
      "Paclage2 has the better price.\n"
     ]
    }
   ],
   "source": [
    "price1,weight1 = eval(input('Enter weight and price for package 1:'))\n",
    "price2,weight2 = eval(input('Enter weight and price for package 2:'))\n",
    "if (price1/weight1)>(price2/weight2):\n",
    "    print('Package1 has the better price.')\n",
    "elif (price1/weight1)<(price2/weight2):\n",
    "    print('Paclage2 has the better price.')"
   ]
  },
  {
   "cell_type": "markdown",
   "metadata": {},
   "source": [
    "- 6\n",
    "![](../Photo/47.png)"
   ]
  },
  {
   "cell_type": "code",
   "execution_count": 33,
   "metadata": {},
   "outputs": [
    {
     "name": "stdout",
     "output_type": "stream",
     "text": [
      "Please input month:12\n",
      "Please input year:2012\n",
      "2012 年 12 月 有31天\n"
     ]
    }
   ],
   "source": [
    "month = eval(input('Please input month:'))\n",
    "year = eval(input('Please input year:'))\n",
    "if ((year%4==0) and (year%100!=0)) or (year%400==0):\n",
    "        if month<=7:\n",
    "            if month%2==1:\n",
    "                print(year,'年',month,'月','有31天')\n",
    "            elif month==2:\n",
    "                print(year,'年',month,'月','有29天')\n",
    "            else:\n",
    "                print(year,'年',month,'月','有30天')\n",
    "        else:\n",
    "            if month%2==0:\n",
    "                print(year,'年',month,'月','有31天')\n",
    "            else:\n",
    "                print(year,'年',month,'月','有30天')\n",
    "else :\n",
    "    if month<=7:\n",
    "            if month%2==1:\n",
    "                print(year,'年',month,'月','有31天')\n",
    "            elif month==2:\n",
    "                print(year,'年',month,'月','有28天')\n",
    "            else:\n",
    "                print(year,'年',month,'月','有30天')\n",
    "    else:\n",
    "        if month%2==0:\n",
    "            print(year,'年',month,'月','有31天')\n",
    "        else:\n",
    "            print(year,'年',month,'月','有30天')"
   ]
  },
  {
   "cell_type": "markdown",
   "metadata": {},
   "source": [
    "- 7\n",
    "![](../Photo/48.png)"
   ]
  },
  {
   "cell_type": "code",
   "execution_count": 5,
   "metadata": {},
   "outputs": [],
   "source": [
    "import random"
   ]
  },
  {
   "cell_type": "code",
   "execution_count": 11,
   "metadata": {},
   "outputs": [
    {
     "name": "stdout",
     "output_type": "stream",
     "text": [
      "正面为1，反面为0 \n",
      "输入猜测数字1\n",
      "硬币是: 正面\n",
      "猜测正确\n"
     ]
    }
   ],
   "source": [
    "x = random.randint(0,1)\n",
    "y = eval(input('正面为1，反面为0 \\n输入猜测数字'))\n",
    "i = ['反面','正面']\n",
    "if y == x:\n",
    "    print('硬币是:',i[x])\n",
    "    print('猜测正确')\n",
    "else :\n",
    "    print('硬币是:',i[x])\n",
    "    print('猜测错误')"
   ]
  },
  {
   "cell_type": "markdown",
   "metadata": {},
   "source": [
    "- 8\n",
    "![](../Photo/49.png)"
   ]
  },
  {
   "cell_type": "code",
   "execution_count": 34,
   "metadata": {},
   "outputs": [],
   "source": [
    "import random"
   ]
  },
  {
   "cell_type": "code",
   "execution_count": 47,
   "metadata": {},
   "outputs": [
    {
     "name": "stdout",
     "output_type": "stream",
     "text": [
      "sciss(0)，rock(1)，paper(2)：1\n",
      "The computer is sciss . You are rock . You won.\n"
     ]
    }
   ],
   "source": [
    "computer = random.randint(0,2)\n",
    "user = eval(input('sciss(0)，rock(1)，paper(2)：'))\n",
    "i =['sciss','rock','paper']\n",
    "if computer>user:\n",
    "    print('The computer is',i[computer],'.','You are',i[user],'.','Computer won.')\n",
    "elif computer<user:\n",
    "    print('The computer is',i[computer],'.','You are',i[user],'.','You won.')\n",
    "elif computer == user:\n",
    "    print('The computer is',i[computer],'.','You are',i[user],'.','It is a draw.')"
   ]
  },
  {
   "cell_type": "markdown",
   "metadata": {},
   "source": [
    "- 9\n",
    "![](../Photo/50.png)"
   ]
  },
  {
   "cell_type": "code",
   "execution_count": null,
   "metadata": {},
   "outputs": [],
   "source": []
  },
  {
   "cell_type": "markdown",
   "metadata": {},
   "source": [
    "- 10\n",
    "![](../Photo/51.png)"
   ]
  },
  {
   "cell_type": "code",
   "execution_count": null,
   "metadata": {},
   "outputs": [],
   "source": [
    "x = random.randint(1,4)\n",
    "y = random.randint(1,52)\n",
    "huase = ['黑桃','红桃','方块','梅花','王']\n",
    "card = ['A','2','3','4','5','6','7','8','9','10','J','Q','K']\n",
    "if "
   ]
  },
  {
   "cell_type": "code",
   "execution_count": 2,
   "metadata": {},
   "outputs": [],
   "source": [
    "import random"
   ]
  },
  {
   "cell_type": "code",
   "execution_count": 4,
   "metadata": {},
   "outputs": [
    {
     "ename": "SyntaxError",
     "evalue": "invalid syntax (<ipython-input-4-d27a540192fb>, line 20)",
     "output_type": "error",
     "traceback": [
      "\u001b[1;36m  File \u001b[1;32m\"<ipython-input-4-d27a540192fb>\"\u001b[1;36m, line \u001b[1;32m20\u001b[0m\n\u001b[1;33m    print poker()\u001b[0m\n\u001b[1;37m              ^\u001b[0m\n\u001b[1;31mSyntaxError\u001b[0m\u001b[1;31m:\u001b[0m invalid syntax\n"
     ]
    }
   ],
   "source": [
    "def poker():\n",
    "    color = random.randint(0,4)\n",
    "    huase = ['黑桃','红桃','方块','梅花','王']\n",
    "    card = ['A','2','3','4','5','6','7','8','9','10','J','Q','K']\n",
    " \n",
    "    if color in range(0,4):\n",
    "        value = random.randint(0,12)\n",
    "    elif color == 4:\n",
    "        value = random.randint(0,1)\n",
    "        if value==0:\n",
    "            return \"小王\"\n",
    "        if value==1:\n",
    "            return \"大王\"\n",
    "    else:\n",
    "        return \"错误的牌\"\n",
    " \n",
    "    return huase[color]+card[value]\n",
    " \n",
    "if __name__ == '__main__':\n",
    "    print poker()"
   ]
  },
  {
   "cell_type": "code",
   "execution_count": null,
   "metadata": {},
   "outputs": [],
   "source": []
  },
  {
   "cell_type": "markdown",
   "metadata": {},
   "source": [
    "- 11\n",
    "![](../Photo/52.png)"
   ]
  },
  {
   "cell_type": "code",
   "execution_count": 6,
   "metadata": {},
   "outputs": [
    {
     "name": "stdout",
     "output_type": "stream",
     "text": [
      "Enter a three-digit integer:121\n",
      "121 is a palinddrome\n"
     ]
    }
   ],
   "source": [
    "x = eval(input('Enter a three-digit integer:'))\n",
    "if x%10==x//100:\n",
    "    print(x,'is a palinddrome')\n",
    "else:\n",
    "    print(x,'is not a palinddrome')"
   ]
  },
  {
   "cell_type": "markdown",
   "metadata": {},
   "source": [
    "- 12\n",
    "![](../Photo/53.png)"
   ]
  },
  {
   "cell_type": "code",
   "execution_count": 5,
   "metadata": {},
   "outputs": [
    {
     "name": "stdout",
     "output_type": "stream",
     "text": [
      "Enter three edges:1,1,1\n",
      "The perimeter is 3\n"
     ]
    }
   ],
   "source": [
    "a,b,c = eval(input('Enter three edges:'))\n",
    "if (a+b>c) and (a+c>b) and (b+c>a):\n",
    "    print('The perimeter is',a+b+c)\n",
    "else:\n",
    "    print('输入的边长不符合')"
   ]
  },
  {
   "cell_type": "markdown",
   "metadata": {},
   "source": [
    "13 进阶 -房间内有100人，每人有100块，每分钟随机给另一个人1块，最后这个房间内的财富分布怎样？"
   ]
  },
  {
   "cell_type": "code",
   "execution_count": null,
   "metadata": {},
   "outputs": [],
   "source": []
  }
 ],
 "metadata": {
  "kernelspec": {
   "display_name": "Python 3",
   "language": "python",
   "name": "python3"
  },
  "language_info": {
   "codemirror_mode": {
    "name": "ipython",
    "version": 3
   },
   "file_extension": ".py",
   "mimetype": "text/x-python",
   "name": "python",
   "nbconvert_exporter": "python",
   "pygments_lexer": "ipython3",
   "version": "3.7.3"
  }
 },
 "nbformat": 4,
 "nbformat_minor": 2
}
