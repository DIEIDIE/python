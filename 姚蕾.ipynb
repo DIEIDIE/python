{
 "cells": [
  {
   "cell_type": "markdown",
   "metadata": {},
   "source": [
    "# 循环\n",
    "- 循环是一种控制语句块重复执行的结构\n",
    "- while  适用于广度遍历\n",
    "- for    开发中经常使用"
   ]
  },
  {
   "cell_type": "code",
   "execution_count": 1,
   "metadata": {},
   "outputs": [
    {
     "name": "stdout",
     "output_type": "stream",
     "text": [
      "hahahahaha\n",
      "hahahahaha\n",
      "hahahahaha\n",
      "hahahahaha\n",
      "hahahahaha\n",
      "hahahahaha\n",
      "hahahahaha\n",
      "hahahahaha\n",
      "hahahahaha\n",
      "hahahahaha\n"
     ]
    }
   ],
   "source": [
    "i=0\n",
    "while i<10:\n",
    "    print('hahahahaha')\n",
    "    i +=1"
   ]
  },
  {
   "cell_type": "markdown",
   "metadata": {},
   "source": [
    "## while 循环\n",
    "- 当一个条件保持真的时候while循环重复执行语句\n",
    "- while 循环一定要有结束条件，否则很容易进入死循环\n",
    "- while 循环的语法是：\n",
    "\n",
    "    while loop-contunuation-conndition:\n",
    "\n",
    "        Statement"
   ]
  },
  {
   "cell_type": "markdown",
   "metadata": {},
   "source": [
    "## 示例：\n",
    "sum = 0\n",
    "\n",
    "i = 1\n",
    "\n",
    "while i <10:\n",
    "\n",
    "    sum = sum + i\n",
    "    i = i + 1"
   ]
  },
  {
   "cell_type": "markdown",
   "metadata": {},
   "source": [
    "## 错误示例：\n",
    "sum = 0\n",
    "\n",
    "i = 1\n",
    "\n",
    "while i <10:\n",
    "\n",
    "    sum = sum + i\n",
    "\n",
    "i = i + 1\n",
    "- 一旦进入死循环可按 Ctrl + c 停止"
   ]
  },
  {
   "cell_type": "markdown",
   "metadata": {},
   "source": [
    "## EP：\n",
    "![](../Photo/143.png)\n",
    "![](../Photo/144.png)"
   ]
  },
  {
   "cell_type": "markdown",
   "metadata": {},
   "source": [
    "# 验证码\n",
    "- 随机产生四个字母的验证码，如果正确，输出验证码正确。如果错误，产生新的验证码，用户重新输入。\n",
    "- 验证码只能输入三次，如果三次都错，返回“别爬了，我们小网站没什么好爬的”\n",
    "- 密码登录，如果三次错误，账号被锁定\n"
   ]
  },
  {
   "cell_type": "code",
   "execution_count": 2,
   "metadata": {},
   "outputs": [],
   "source": [
    "import random"
   ]
  },
  {
   "cell_type": "code",
   "execution_count": 9,
   "metadata": {},
   "outputs": [
    {
     "name": "stdout",
     "output_type": "stream",
     "text": [
      "5 9 6 6\n",
      "a,b,c,d5,9,6,6\n",
      "对了\n"
     ]
    }
   ],
   "source": [
    "a=random.randint(0,9)\n",
    "b=random.randint(0,9)\n",
    "c=random.randint(0,9)\n",
    "d=random.randint(0,9)\n",
    "print(a,b,c,d)\n",
    "(a1,b1,c1,d1)=eval(input('a,b,c,d'))\n",
    "while 1:\n",
    "    if (a1,b1,c1,d1)==(a,b,c,d):\n",
    "        print('对了')\n",
    "        break\n",
    "    else:\n",
    "        a=random.randint(0,9)\n",
    "        b=random.randint(0,9)\n",
    "        c=random.randint(0,9)\n",
    "        d=random.randint(0,9)\n",
    "        print(a,b,c,d)\n",
    "        (a1,b1,c1,d1)=eval(input('a,b,c,d'))"
   ]
  },
  {
   "cell_type": "code",
   "execution_count": 13,
   "metadata": {},
   "outputs": [
    {
     "name": "stdout",
     "output_type": "stream",
     "text": [
      "8862\n",
      "x5555\n",
      "5841\n",
      "x5555\n",
      "5337\n",
      "x5555\n",
      "no\n"
     ]
    }
   ],
   "source": [
    "a=random.randint(1000,9999)\n",
    "print(a)\n",
    "x=eval(input('x'))\n",
    "i=1\n",
    "while i<3:\n",
    "    if x==a:\n",
    "        print('验证码正确')\n",
    "        break\n",
    "    else:\n",
    "        a=random.randint(1000,9999)\n",
    "        print(a)\n",
    "        x=eval(input('x'))\n",
    "        i +=1\n",
    "    if i==3:\n",
    "        print('no')"
   ]
  },
  {
   "cell_type": "code",
   "execution_count": 14,
   "metadata": {},
   "outputs": [
    {
     "ename": "NameError",
     "evalue": "name 'z' is not defined",
     "output_type": "error",
     "traceback": [
      "\u001b[0;31m---------------------------------------------------------------------------\u001b[0m",
      "\u001b[0;31mNameError\u001b[0m                                 Traceback (most recent call last)",
      "\u001b[0;32m<ipython-input-14-d025504951b0>\u001b[0m in \u001b[0;36m<module>\u001b[0;34m\u001b[0m\n\u001b[0;32m----> 1\u001b[0;31m \u001b[0ma\u001b[0m\u001b[0;34m=\u001b[0m\u001b[0meval\u001b[0m\u001b[0;34m(\u001b[0m\u001b[0mrandom\u001b[0m\u001b[0;34m.\u001b[0m\u001b[0mrandint\u001b[0m\u001b[0;34m(\u001b[0m\u001b[0ma\u001b[0m\u001b[0;34m,\u001b[0m\u001b[0mz\u001b[0m\u001b[0;34m)\u001b[0m\u001b[0;34m)\u001b[0m\u001b[0;34m\u001b[0m\u001b[0;34m\u001b[0m\u001b[0m\n\u001b[0m",
      "\u001b[0;31mNameError\u001b[0m: name 'z' is not defined"
     ]
    }
   ],
   "source": [
    "while \n",
    "zimu=random.randint(1,26)\n",
    "if zimu==1:\n",
    "    print('a')\n",
    "if zimu==2:\n",
    "    print('b')\n",
    "if zimu==3:\n",
    "    print('c')\n",
    "if zimu==4:\n",
    "    print('')\n",
    "if zimu==5:\n",
    "    print('')\n",
    "if zimu==6:\n",
    "    print('')\n",
    "if zimu==7:\n",
    "    print('')\n",
    "if zimu==8:\n",
    "    print('')\n",
    "if zimu==9:\n",
    "    print('')\n",
    "if zimu==1:\n",
    "    print('')0\n",
    "if zimu==1:\n",
    "    print('')1\n",
    "if zimu==1:\n",
    "    print('')2\n",
    "if zimu==1:\n",
    "    print('')3\n",
    "if zimu==1:\n",
    "    print('')4\n",
    "if zimu==1:\n",
    "    print('')5\n",
    "if zimu==1:\n",
    "    print('')6\n",
    "if zimu==1:\n",
    "    print('')7\n",
    "if zimu==1:\n",
    "    print('')8\n",
    "if zimu==1:\n",
    "    print('')9\n",
    "if zimu==2:\n",
    "    print('')0\n",
    "if zimu==2:\n",
    "    print('')1\n",
    "if zimu==2:\n",
    "    print('')2\n",
    "if zimu==2:\n",
    "    print('')3\n",
    "if zimu==2:\n",
    "    print('')4\n",
    "if zimu==2:\n",
    "    print('')5\n",
    "if zimu==2:\n",
    "    print('')6\n",
    "\n",
    "print(zimu)"
   ]
  },
  {
   "cell_type": "code",
   "execution_count": 26,
   "metadata": {},
   "outputs": [
    {
     "name": "stdout",
     "output_type": "stream",
     "text": [
      "jooa\n",
      "输入jooa\n",
      "correct\n"
     ]
    }
   ],
   "source": [
    "zimu1 = random.randint(97,122)\n",
    "zimu2 = random.randint(97,122)\n",
    "zimu3 = random.randint(97,122)\n",
    "zimu4 = random.randint(97,122)\n",
    "n1=chr(zimu1)\n",
    "n2=chr(zimu2)\n",
    "n3=chr(zimu3)\n",
    "n4=chr(zimu4)\n",
    "N=n1+n2+n3+n4\n",
    "print(N)\n",
    "me=input('输入')\n",
    "if me==N:\n",
    "    print('correct')\n",
    "else:\n",
    "    print('error')"
   ]
  },
  {
   "cell_type": "code",
   "execution_count": 25,
   "metadata": {},
   "outputs": [
    {
     "name": "stdout",
     "output_type": "stream",
     "text": [
      "e k o g\n"
     ]
    }
   ],
   "source": [
    "a = [chr(random.randint(97,122)) for i in range(4)]\n",
    "N=\" \".join(a)\n",
    "print(N)"
   ]
  },
  {
   "cell_type": "code",
   "execution_count": 17,
   "metadata": {},
   "outputs": [
    {
     "data": {
      "text/plain": [
       "'P'"
      ]
     },
     "execution_count": 17,
     "metadata": {},
     "output_type": "execute_result"
    }
   ],
   "source": [
    "zimu1 = random.randint(65,122)\n",
    "zimu2 = random.randint(65,122)\n",
    "zimu3 = random.randint(65,122)\n",
    "zimu4 = random.randint(65,122)\n",
    "n1=chr(zimu1)\n",
    "n2=chr(zimu2)\n",
    "n3=chr(zimu3)\n",
    "n4=chr(zimu4)\n",
    "N = n1+n2+n3+n4\n",
    "print(N)\n",
    "if 91<=zimu1<=96:\n",
    "    \n",
    "   \n"
   ]
  },
  {
   "cell_type": "markdown",
   "metadata": {},
   "source": [
    "## 尝试死循环"
   ]
  },
  {
   "cell_type": "markdown",
   "metadata": {},
   "source": [
    "## 实例研究：猜数字\n",
    "- 你将要编写一个能够随机生成一个0到10之间的且包括两者的数字程序，这个程序\n",
    "- 提示用户连续地输入数字直到正确，且提示用户输入的数字是过高还是过低"
   ]
  },
  {
   "cell_type": "markdown",
   "metadata": {},
   "source": [
    "## 使用哨兵值来控制循环\n",
    "- 哨兵值来表明输入的结束\n",
    "- ![](../Photo/54.png)"
   ]
  },
  {
   "cell_type": "markdown",
   "metadata": {},
   "source": [
    "## 警告\n",
    "![](../Photo/55.png)"
   ]
  },
  {
   "cell_type": "markdown",
   "metadata": {},
   "source": [
    "## for 循环\n",
    "- Python的for 循环通过一个序列中的每个值来进行迭代\n",
    "- range(a,b,k)， a，b，k 必须为整数\n",
    "- a: start\n",
    "- b: end\n",
    "- k: step\n",
    "- 注意for 是循环一切可迭代对象，而不是只能使用range"
   ]
  },
  {
   "cell_type": "markdown",
   "metadata": {},
   "source": [
    "# 在Python里面一切皆对象"
   ]
  },
  {
   "cell_type": "markdown",
   "metadata": {},
   "source": [
    "## EP:\n",
    "- ![](../Photo/145.png)"
   ]
  },
  {
   "cell_type": "markdown",
   "metadata": {},
   "source": [
    "## 嵌套循环\n",
    "- 一个循环可以嵌套另一个循环\n",
    "- 每次循环外层时，内层循环都会被刷新重新完成循环\n",
    "- 也就是说，大循环执行一次，小循环会全部执行一次\n",
    "- 注意：\n",
    "> - 多层循环非常耗时\n",
    "  - 最多使用3层循环"
   ]
  },
  {
   "cell_type": "markdown",
   "metadata": {},
   "source": [
    "## EP：\n",
    "- 使用多层循环完成9X9乘法表\n",
    "- 显示50以内所有的素数"
   ]
  },
  {
   "cell_type": "markdown",
   "metadata": {},
   "source": [
    "## 关键字 break 和 continue\n",
    "- break 跳出循环，终止循环\n",
    "- continue 跳出此次循环，继续执行"
   ]
  },
  {
   "cell_type": "code",
   "execution_count": null,
   "metadata": {},
   "outputs": [],
   "source": [
    "i = 1\n",
    "while i<=10:\n",
    "    print('hahaha')"
   ]
  },
  {
   "cell_type": "markdown",
   "metadata": {},
   "source": [
    "## 注意\n",
    "![](../Photo/56.png)\n",
    "![](../Photo/57.png)"
   ]
  },
  {
   "cell_type": "markdown",
   "metadata": {},
   "source": [
    "# Homework\n",
    "- 1 \n",
    "![](../Photo/58.png)"
   ]
  },
  {
   "cell_type": "code",
   "execution_count": null,
   "metadata": {},
   "outputs": [],
   "source": [
    "number = eval(input('Enter an integer:'))\n"
   ]
  },
  {
   "cell_type": "markdown",
   "metadata": {},
   "source": [
    "- 2\n",
    "![](../Photo/59.png)"
   ]
  },
  {
   "cell_type": "code",
   "execution_count": 28,
   "metadata": {},
   "outputs": [
    {
     "name": "stdout",
     "output_type": "stream",
     "text": [
      "10000.0\n",
      "10500.0\n",
      "11025.0\n",
      "11576.250000000002\n",
      "12155.062500000002\n",
      "12762.815625000003\n",
      "13400.956406250005\n",
      "14071.004226562505\n",
      "14774.55443789063\n",
      "15513.282159785162\n"
     ]
    }
   ],
   "source": [
    "money = 10000\n",
    "i = 1\n",
    "for i in range(10):\n",
    "    if i <=10:\n",
    "        money = 10000*((1+5/100)**i)\n",
    "        i += 1\n",
    "        print(money)\n"
   ]
  },
  {
   "cell_type": "code",
   "execution_count": 30,
   "metadata": {},
   "outputs": [
    {
     "name": "stdout",
     "output_type": "stream",
     "text": [
      "10000.0\n",
      "10500.0\n",
      "11025.0\n",
      "11576.250000000002\n",
      "12155.062500000002\n",
      "12762.815625000003\n",
      "13400.956406250005\n",
      "14071.004226562505\n",
      "14774.55443789063\n",
      "15513.282159785162\n",
      "16288.94626777442\n",
      "17103.39358116314\n",
      "17958.5632602213\n",
      "18856.491423232368\n"
     ]
    }
   ],
   "source": [
    "money = 10000\n",
    "i = 1\n",
    "for i in range(14):\n",
    "    if i <=14:\n",
    "        money = 10000*((1+5/100)**i)\n",
    "        i += 1\n",
    "        print(money)"
   ]
  },
  {
   "cell_type": "code",
   "execution_count": 33,
   "metadata": {},
   "outputs": [
    {
     "name": "stdout",
     "output_type": "stream",
     "text": [
      "70205\n"
     ]
    }
   ],
   "source": [
    "sum = 16288+17103+17958+18856\n",
    "print(sum)"
   ]
  },
  {
   "cell_type": "markdown",
   "metadata": {},
   "source": [
    "- 3\n",
    "![](../Photo/58.png)"
   ]
  },
  {
   "cell_type": "markdown",
   "metadata": {},
   "source": [
    "- 4\n",
    "![](../Photo/60.png)"
   ]
  },
  {
   "cell_type": "code",
   "execution_count": 17,
   "metadata": {},
   "outputs": [
    {
     "name": "stdout",
     "output_type": "stream",
     "text": [
      "120           150           180           210           240           270           300           330           360           390           420           450           480           510           540           570           600           630           660           690           720           750           780           810           840           870           900           930           960           990           "
     ]
    }
   ],
   "source": [
    "for i in range(100,1000):\n",
    "    if i%5==0 and i%6==0:\n",
    "        print(i,end='           ')"
   ]
  },
  {
   "cell_type": "markdown",
   "metadata": {},
   "source": [
    "- 5\n",
    "![](../Photo/61.png)"
   ]
  },
  {
   "cell_type": "code",
   "execution_count": 18,
   "metadata": {},
   "outputs": [
    {
     "name": "stdout",
     "output_type": "stream",
     "text": [
      "110\n"
     ]
    }
   ],
   "source": [
    "n = 0\n",
    "while n < 120:\n",
    "    if n**2 >12000:\n",
    "        print(n)\n",
    "        break\n",
    "    n += 1"
   ]
  },
  {
   "cell_type": "code",
   "execution_count": 6,
   "metadata": {},
   "outputs": [
    {
     "name": "stdout",
     "output_type": "stream",
     "text": [
      "0\n",
      "1\n",
      "2\n",
      "3\n",
      "4\n",
      "5\n",
      "6\n",
      "7\n",
      "8\n",
      "9\n",
      "10\n",
      "11\n",
      "12\n",
      "13\n",
      "14\n",
      "15\n",
      "16\n",
      "17\n",
      "18\n",
      "19\n",
      "20\n",
      "21\n",
      "22\n"
     ]
    }
   ],
   "source": [
    "n = 0\n",
    "while n < 120:\n",
    "    if n**3 < 12000:\n",
    "        print(n)\n",
    "    n += 1"
   ]
  },
  {
   "cell_type": "code",
   "execution_count": 9,
   "metadata": {},
   "outputs": [
    {
     "data": {
      "text/plain": [
       "22"
      ]
     },
     "execution_count": 9,
     "metadata": {},
     "output_type": "execute_result"
    }
   ],
   "source": [
    "n = [0,1,2,3,4,5,6,7,8,9,10,11,12,13,11,14,15,16,17,18,19,20,21,22]\n",
    "max(n)"
   ]
  },
  {
   "cell_type": "markdown",
   "metadata": {},
   "source": [
    "- 6\n",
    "![](../Photo/62.png)"
   ]
  },
  {
   "cell_type": "code",
   "execution_count": null,
   "metadata": {},
   "outputs": [],
   "source": []
  },
  {
   "cell_type": "markdown",
   "metadata": {},
   "source": [
    "- 7\n",
    "![](../Photo/63.png)"
   ]
  },
  {
   "cell_type": "code",
   "execution_count": 4,
   "metadata": {},
   "outputs": [
    {
     "name": "stdout",
     "output_type": "stream",
     "text": [
      "10.39700394927854\n"
     ]
    }
   ],
   "source": [
    "sum = 0\n",
    "for i in range(1, 50000):\n",
    "    sum += 1/(i+1)\n",
    "print(sum) "
   ]
  },
  {
   "cell_type": "markdown",
   "metadata": {},
   "source": [
    "- 8\n",
    "![](../Photo/64.png)"
   ]
  },
  {
   "cell_type": "code",
   "execution_count": 2,
   "metadata": {},
   "outputs": [
    {
     "name": "stdout",
     "output_type": "stream",
     "text": [
      "45.124450303050196\n"
     ]
    }
   ],
   "source": [
    "sum = 0\n",
    "for i in range(3, 100, 2):\n",
    "    sum += (i-2)/i\n",
    "print(sum)"
   ]
  },
  {
   "cell_type": "markdown",
   "metadata": {},
   "source": [
    "- 9\n",
    "![](../Photo/65.png)"
   ]
  },
  {
   "cell_type": "code",
   "execution_count": null,
   "metadata": {},
   "outputs": [],
   "source": []
  },
  {
   "cell_type": "markdown",
   "metadata": {},
   "source": [
    "- 10 \n",
    "![](../Photo/66.png)"
   ]
  },
  {
   "cell_type": "code",
   "execution_count": 25,
   "metadata": {},
   "outputs": [
    {
     "name": "stdout",
     "output_type": "stream",
     "text": [
      "6\n",
      "28\n",
      "496\n",
      "8128\n"
     ]
    }
   ],
   "source": [
    "for a in range(1,10000):\n",
    "    sum = 0\n",
    "    for o in range(1,a):\n",
    "        if a%o == 0:\n",
    "            sum += o\n",
    "    if sum == a:\n",
    "        print(a)"
   ]
  },
  {
   "cell_type": "markdown",
   "metadata": {},
   "source": [
    "- 11\n",
    "![](../Photo/67.png)"
   ]
  },
  {
   "cell_type": "code",
   "execution_count": null,
   "metadata": {},
   "outputs": [],
   "source": []
  },
  {
   "cell_type": "markdown",
   "metadata": {},
   "source": [
    "- 12\n",
    "![](../Photo/68.png)"
   ]
  },
  {
   "cell_type": "code",
   "execution_count": 28,
   "metadata": {},
   "outputs": [
    {
     "name": "stdout",
     "output_type": "stream",
     "text": [
      "Enter ten numbers:1,2,3,5.5,5.6,6,7,8,9,10\n",
      "The mean is  5.71\n",
      "The standard deviation is  2.9733819129065813\n"
     ]
    }
   ],
   "source": [
    "a,b,c,d,e,f,g,h,j,k = eval(input('Enter ten numbers:'))\n",
    "avg = (a+b+c+d+e+f+g+h+j+k)/10\n",
    "deviation =(((a-avg)**2+(b-avg)**2+(c-avg)**2+(d-avg)**2+(e-avg)**2+(f-avg)**2+(g-avg)**2+(h-avg)**2+(j-avg)**2+(k-avg)**2)/9)**0.5\n",
    "print('The mean is ',avg)\n",
    "print('The standard deviation is ',deviation)"
   ]
  },
  {
   "cell_type": "code",
   "execution_count": null,
   "metadata": {},
   "outputs": [],
   "source": []
  }
 ],
 "metadata": {
  "kernelspec": {
   "display_name": "Python 3",
   "language": "python",
   "name": "python3"
  },
  "language_info": {
   "codemirror_mode": {
    "name": "ipython",
    "version": 3
   },
   "file_extension": ".py",
   "mimetype": "text/x-python",
   "name": "python",
   "nbconvert_exporter": "python",
   "pygments_lexer": "ipython3",
   "version": "3.7.3"
  }
 },
 "nbformat": 4,
 "nbformat_minor": 2
}
